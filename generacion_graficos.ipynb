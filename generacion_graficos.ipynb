{
 "cells": [
  {
   "cell_type": "code",
   "execution_count": null,
   "metadata": {},
   "outputs": [],
   "source": []
  },
  {
   "cell_type": "markdown",
   "metadata": {},
   "source": [
    "# Generación de gráficos"
   ]
  },
  {
   "cell_type": "code",
   "execution_count": 160,
   "metadata": {},
   "outputs": [],
   "source": [
    "import pandas as pd\n",
    "from darts import TimeSeries\n",
    "from darts.dataprocessing.transformers import MissingValuesFiller\n",
    "import tensorflow as tf\n",
    "import datetime as dt\n",
    "from sklearn.metrics import mean_squared_error\n",
    "import math\n",
    "import matplotlib.pyplot as plt"
   ]
  },
  {
   "cell_type": "code",
   "execution_count": 81,
   "metadata": {},
   "outputs": [],
   "source": [
    "data_path = r'/data/dibanez/tesis/data_preprocesada/2.llenada/'"
   ]
  },
  {
   "cell_type": "code",
   "execution_count": 9,
   "metadata": {},
   "outputs": [
    {
     "name": "stdout",
     "output_type": "stream",
     "text": [
      "llenado_Arequipa_UNSA_CIGS_agg_day_hour.csv\n",
      "llenado_Arequipa_UNSA_HIT_agg_day_hour.csv\n",
      "llenado_Arequipa_UNSA_PERC_agg_day_hour.csv\n",
      "llenado_Chachapoyas_UNTRM_CIGS_agg_day_hour.csv\n",
      "llenado_Chachapoyas_UNTRM_HIT_agg_day_hour.csv\n",
      "llenado_Chachapoyas_UNTRM_PERC_agg_day_hour.csv\n",
      "llenado_Juliaca_UNAJ_CIGS_agg_day_hour.csv\n",
      "llenado_Juliaca_UNAJ_HIT_agg_day_hour.csv\n",
      "llenado_Juliaca_UNAJ_PERC_agg_day_hour.csv\n",
      "llenado_Lima_PUCP_CIGS_agg_day_hour.csv\n",
      "llenado_Lima_PUCP_HIT_agg_day_hour.csv\n",
      "llenado_Lima_PUCP_PERC_agg_day_hour.csv\n",
      "llenado_Tacna_UNJBG_CIGS_agg_day_hour.csv\n",
      "llenado_Tacna_UNJBG_HIT_agg_day_hour.csv\n",
      "llenado_Tacna_UNJBG_PERC_agg_day_hour.csv\n"
     ]
    }
   ],
   "source": [
    "!ls {data_path}"
   ]
  },
  {
   "cell_type": "code",
   "execution_count": 7,
   "metadata": {},
   "outputs": [],
   "source": [
    "def print_df(df):\n",
    "  print(df.shape)\n",
    "  return df.head()"
   ]
  },
  {
   "cell_type": "markdown",
   "metadata": {},
   "source": [
    "\n",
    "# Gráficos Chachapoyas"
   ]
  },
  {
   "cell_type": "markdown",
   "metadata": {},
   "source": [
    "### Lectura de datos"
   ]
  },
  {
   "cell_type": "code",
   "execution_count": 61,
   "metadata": {},
   "outputs": [],
   "source": [
    "data_file = data_path+'llenado_Chachapoyas_UNTRM_HIT_agg_day_hour.csv'\n",
    "model_path = 'saved_models/lstm__Chachapoyas_HIT'\n",
    "model = 'lstm'\n",
    "technology = 'HIT'\n",
    "ubicacion = 'Chachapoyas'\n",
    "df_columns = ['Pac', 'Tmod']\n",
    "fecha_ini = '2021-02-01'\n",
    "fecha_fin = '2021-10-31'"
   ]
  },
  {
   "cell_type": "code",
   "execution_count": 13,
   "metadata": {},
   "outputs": [
    {
     "name": "stdout",
     "output_type": "stream",
     "text": [
      "(3145, 10)\n"
     ]
    },
    {
     "data": {
      "text/html": [
       "<div>\n",
       "<style scoped>\n",
       "    .dataframe tbody tr th:only-of-type {\n",
       "        vertical-align: middle;\n",
       "    }\n",
       "\n",
       "    .dataframe tbody tr th {\n",
       "        vertical-align: top;\n",
       "    }\n",
       "\n",
       "    .dataframe thead th {\n",
       "        text-align: right;\n",
       "    }\n",
       "</style>\n",
       "<table border=\"1\" class=\"dataframe\">\n",
       "  <thead>\n",
       "    <tr style=\"text-align: right;\">\n",
       "      <th></th>\n",
       "      <th>index</th>\n",
       "      <th>Fecha</th>\n",
       "      <th>Tamb</th>\n",
       "      <th>Tmod</th>\n",
       "      <th>Irradiancia</th>\n",
       "      <th>Vdc</th>\n",
       "      <th>Idc</th>\n",
       "      <th>Paparente</th>\n",
       "      <th>Pac</th>\n",
       "      <th>Pdc</th>\n",
       "    </tr>\n",
       "  </thead>\n",
       "  <tbody>\n",
       "    <tr>\n",
       "      <th>0</th>\n",
       "      <td>0</td>\n",
       "      <td>2021-01-19 07:00:00</td>\n",
       "      <td>NaN</td>\n",
       "      <td>15.481038</td>\n",
       "      <td>126.680377</td>\n",
       "      <td>280.261225</td>\n",
       "      <td>0.663656</td>\n",
       "      <td>169.232893</td>\n",
       "      <td>127.25</td>\n",
       "      <td>188.702179</td>\n",
       "    </tr>\n",
       "    <tr>\n",
       "      <th>1</th>\n",
       "      <td>1</td>\n",
       "      <td>2021-01-19 08:00:00</td>\n",
       "      <td>NaN</td>\n",
       "      <td>21.373603</td>\n",
       "      <td>243.603396</td>\n",
       "      <td>286.352633</td>\n",
       "      <td>1.309358</td>\n",
       "      <td>352.285000</td>\n",
       "      <td>259.25</td>\n",
       "      <td>376.508333</td>\n",
       "    </tr>\n",
       "    <tr>\n",
       "      <th>2</th>\n",
       "      <td>2</td>\n",
       "      <td>2021-01-19 09:00:00</td>\n",
       "      <td>NaN</td>\n",
       "      <td>27.428326</td>\n",
       "      <td>326.799399</td>\n",
       "      <td>284.905883</td>\n",
       "      <td>1.737817</td>\n",
       "      <td>468.926667</td>\n",
       "      <td>488.50</td>\n",
       "      <td>495.450000</td>\n",
       "    </tr>\n",
       "    <tr>\n",
       "      <th>3</th>\n",
       "      <td>3</td>\n",
       "      <td>2021-01-19 10:00:00</td>\n",
       "      <td>NaN</td>\n",
       "      <td>35.033718</td>\n",
       "      <td>519.406319</td>\n",
       "      <td>284.755117</td>\n",
       "      <td>2.515042</td>\n",
       "      <td>682.881667</td>\n",
       "      <td>610.75</td>\n",
       "      <td>714.733333</td>\n",
       "    </tr>\n",
       "    <tr>\n",
       "      <th>4</th>\n",
       "      <td>4</td>\n",
       "      <td>2021-01-19 11:00:00</td>\n",
       "      <td>NaN</td>\n",
       "      <td>38.094180</td>\n",
       "      <td>621.082664</td>\n",
       "      <td>284.442400</td>\n",
       "      <td>2.985145</td>\n",
       "      <td>813.890000</td>\n",
       "      <td>434.75</td>\n",
       "      <td>850.175000</td>\n",
       "    </tr>\n",
       "  </tbody>\n",
       "</table>\n",
       "</div>"
      ],
      "text/plain": [
       "   index               Fecha  Tamb       Tmod  Irradiancia         Vdc  \\\n",
       "0      0 2021-01-19 07:00:00   NaN  15.481038   126.680377  280.261225   \n",
       "1      1 2021-01-19 08:00:00   NaN  21.373603   243.603396  286.352633   \n",
       "2      2 2021-01-19 09:00:00   NaN  27.428326   326.799399  284.905883   \n",
       "3      3 2021-01-19 10:00:00   NaN  35.033718   519.406319  284.755117   \n",
       "4      4 2021-01-19 11:00:00   NaN  38.094180   621.082664  284.442400   \n",
       "\n",
       "        Idc   Paparente     Pac         Pdc  \n",
       "0  0.663656  169.232893  127.25  188.702179  \n",
       "1  1.309358  352.285000  259.25  376.508333  \n",
       "2  1.737817  468.926667  488.50  495.450000  \n",
       "3  2.515042  682.881667  610.75  714.733333  \n",
       "4  2.985145  813.890000  434.75  850.175000  "
      ]
     },
     "execution_count": 13,
     "metadata": {},
     "output_type": "execute_result"
    }
   ],
   "source": [
    "df = pd.read_csv(data_file, parse_dates=True)\n",
    "df.Fecha = pd.to_datetime(df.Fecha)\n",
    "df=df.reset_index()\n",
    "print_df(df)"
   ]
  },
  {
   "cell_type": "code",
   "execution_count": 60,
   "metadata": {},
   "outputs": [
    {
     "name": "stdout",
     "output_type": "stream",
     "text": [
      "2021-01-19 07:00:00\n",
      "2021-10-31 16:00:00\n"
     ]
    }
   ],
   "source": [
    "print(df.Fecha.min())\n",
    "print(df.Fecha.max())"
   ]
  },
  {
   "cell_type": "code",
   "execution_count": 23,
   "metadata": {},
   "outputs": [
    {
     "data": {
      "text/plain": [
       "index          0.0\n",
       "Fecha          0.0\n",
       "Tamb           1.0\n",
       "Tmod           0.0\n",
       "Irradiancia    0.0\n",
       "Vdc            0.0\n",
       "Idc            0.0\n",
       "Paparente      0.0\n",
       "Pac            0.0\n",
       "Pdc            0.0\n",
       "Fecha_cod      0.0\n",
       "dtype: float64"
      ]
     },
     "execution_count": 23,
     "metadata": {},
     "output_type": "execute_result"
    }
   ],
   "source": [
    "df.isna().sum()/len(df)"
   ]
  },
  {
   "cell_type": "markdown",
   "metadata": {},
   "source": [
    "### Preprocesamiento"
   ]
  },
  {
   "cell_type": "code",
   "execution_count": 18,
   "metadata": {},
   "outputs": [],
   "source": [
    "start = df.iloc[0]['Fecha']"
   ]
  },
  {
   "cell_type": "code",
   "execution_count": 20,
   "metadata": {},
   "outputs": [],
   "source": [
    "df['Fecha_cod'] = pd.date_range(freq='H', start=start, periods=len(df))\n",
    "# df.head(13)"
   ]
  },
  {
   "cell_type": "code",
   "execution_count": 22,
   "metadata": {},
   "outputs": [],
   "source": [
    "series_raw = TimeSeries.from_dataframe(df, 'Fecha_cod', ['Pac','Tmod'])#,'Irradiancia'])#, freq='H')\n"
   ]
  },
  {
   "cell_type": "code",
   "execution_count": 25,
   "metadata": {},
   "outputs": [],
   "source": [
    "col_obj = 'Pac'"
   ]
  },
  {
   "cell_type": "code",
   "execution_count": 28,
   "metadata": {},
   "outputs": [
    {
     "data": {
      "image/png": "[encoded data removed]",
      "text/plain": [
       "<Figure size 432x288 with 1 Axes>"
      ]
     },
     "metadata": {
      "needs_background": "light"
     },
     "output_type": "display_data"
    }
   ],
   "source": [
    "series_raw[0:30][col_obj].plot()"
   ]
  },
  {
   "cell_type": "code",
   "execution_count": 29,
   "metadata": {},
   "outputs": [
    {
     "data": {
      "image/png": "[encoded data removed]",
      "text/plain": [
       "<Figure size 432x288 with 1 Axes>"
      ]
     },
     "metadata": {
      "needs_background": "light"
     },
     "output_type": "display_data"
    }
   ],
   "source": [
    "series_raw.plot()"
   ]
  },
  {
   "cell_type": "code",
   "execution_count": 36,
   "metadata": {},
   "outputs": [
    {
     "data": {
      "image/png": "[encoded data removed]",
      "text/plain": [
       "<Figure size 432x288 with 1 Axes>"
      ]
     },
     "metadata": {
      "needs_background": "light"
     },
     "output_type": "display_data"
    }
   ],
   "source": [
    "# TODO\n",
    "filler = MissingValuesFiller()\n",
    "series = filler.transform(series_raw, method='linear')\n",
    "series.plot()"
   ]
  },
  {
   "cell_type": "code",
   "execution_count": 42,
   "metadata": {},
   "outputs": [
    {
     "data": {
      "text/plain": [
       "0"
      ]
     },
     "execution_count": 42,
     "metadata": {},
     "output_type": "execute_result"
    }
   ],
   "source": [
    "(series.values() != series_raw.values()).sum()"
   ]
  },
  {
   "cell_type": "markdown",
   "metadata": {},
   "source": [
    "## Predicción LSTM"
   ]
  },
  {
   "cell_type": "code",
   "execution_count": 46,
   "metadata": {},
   "outputs": [
    {
     "name": "stdout",
     "output_type": "stream",
     "text": [
      "Model: \"sequential_2\"\n",
      "_________________________________________________________________\n",
      "Layer (type)                 Output Shape              Param #   \n",
      "=================================================================\n",
      "lstm_1 (LSTM)                (None, 11, 50)            10600     \n",
      "_________________________________________________________________\n",
      "lstm_2 (LSTM)                (None, 10)                2440      \n",
      "_________________________________________________________________\n",
      "dense_3 (Dense)              (None, 11)                121       \n",
      "=================================================================\n",
      "Total params: 13,161\n",
      "Trainable params: 13,161\n",
      "Non-trainable params: 0\n",
      "_________________________________________________________________\n"
     ]
    }
   ],
   "source": [
    "new_model = tf.keras.models.load_model(model_path)\n",
    "new_model.summary()"
   ]
  },
  {
   "cell_type": "code",
   "execution_count": 49,
   "metadata": {},
   "outputs": [
    {
     "name": "stdout",
     "output_type": "stream",
     "text": [
      "(3145, 10)\n"
     ]
    },
    {
     "data": {
      "text/html": [
       "<div>\n",
       "<style scoped>\n",
       "    .dataframe tbody tr th:only-of-type {\n",
       "        vertical-align: middle;\n",
       "    }\n",
       "\n",
       "    .dataframe tbody tr th {\n",
       "        vertical-align: top;\n",
       "    }\n",
       "\n",
       "    .dataframe thead th {\n",
       "        text-align: right;\n",
       "    }\n",
       "</style>\n",
       "<table border=\"1\" class=\"dataframe\">\n",
       "  <thead>\n",
       "    <tr style=\"text-align: right;\">\n",
       "      <th></th>\n",
       "      <th>index</th>\n",
       "      <th>Tamb</th>\n",
       "      <th>Tmod</th>\n",
       "      <th>Irradiancia</th>\n",
       "      <th>Vdc</th>\n",
       "      <th>Idc</th>\n",
       "      <th>Paparente</th>\n",
       "      <th>Pac</th>\n",
       "      <th>Pdc</th>\n",
       "      <th>Fecha_cod</th>\n",
       "    </tr>\n",
       "    <tr>\n",
       "      <th>Fecha</th>\n",
       "      <th></th>\n",
       "      <th></th>\n",
       "      <th></th>\n",
       "      <th></th>\n",
       "      <th></th>\n",
       "      <th></th>\n",
       "      <th></th>\n",
       "      <th></th>\n",
       "      <th></th>\n",
       "      <th></th>\n",
       "    </tr>\n",
       "  </thead>\n",
       "  <tbody>\n",
       "    <tr>\n",
       "      <th>2021-01-19 07:00:00</th>\n",
       "      <td>0</td>\n",
       "      <td>NaN</td>\n",
       "      <td>15.481038</td>\n",
       "      <td>126.680377</td>\n",
       "      <td>280.261225</td>\n",
       "      <td>0.663656</td>\n",
       "      <td>169.232893</td>\n",
       "      <td>127.25</td>\n",
       "      <td>188.702179</td>\n",
       "      <td>2021-01-19 07:00:00</td>\n",
       "    </tr>\n",
       "    <tr>\n",
       "      <th>2021-01-19 08:00:00</th>\n",
       "      <td>1</td>\n",
       "      <td>NaN</td>\n",
       "      <td>21.373603</td>\n",
       "      <td>243.603396</td>\n",
       "      <td>286.352633</td>\n",
       "      <td>1.309358</td>\n",
       "      <td>352.285000</td>\n",
       "      <td>259.25</td>\n",
       "      <td>376.508333</td>\n",
       "      <td>2021-01-19 08:00:00</td>\n",
       "    </tr>\n",
       "    <tr>\n",
       "      <th>2021-01-19 09:00:00</th>\n",
       "      <td>2</td>\n",
       "      <td>NaN</td>\n",
       "      <td>27.428326</td>\n",
       "      <td>326.799399</td>\n",
       "      <td>284.905883</td>\n",
       "      <td>1.737817</td>\n",
       "      <td>468.926667</td>\n",
       "      <td>488.50</td>\n",
       "      <td>495.450000</td>\n",
       "      <td>2021-01-19 09:00:00</td>\n",
       "    </tr>\n",
       "    <tr>\n",
       "      <th>2021-01-19 10:00:00</th>\n",
       "      <td>3</td>\n",
       "      <td>NaN</td>\n",
       "      <td>35.033718</td>\n",
       "      <td>519.406319</td>\n",
       "      <td>284.755117</td>\n",
       "      <td>2.515042</td>\n",
       "      <td>682.881667</td>\n",
       "      <td>610.75</td>\n",
       "      <td>714.733333</td>\n",
       "      <td>2021-01-19 10:00:00</td>\n",
       "    </tr>\n",
       "    <tr>\n",
       "      <th>2021-01-19 11:00:00</th>\n",
       "      <td>4</td>\n",
       "      <td>NaN</td>\n",
       "      <td>38.094180</td>\n",
       "      <td>621.082664</td>\n",
       "      <td>284.442400</td>\n",
       "      <td>2.985145</td>\n",
       "      <td>813.890000</td>\n",
       "      <td>434.75</td>\n",
       "      <td>850.175000</td>\n",
       "      <td>2021-01-19 11:00:00</td>\n",
       "    </tr>\n",
       "  </tbody>\n",
       "</table>\n",
       "</div>"
      ],
      "text/plain": [
       "                     index  Tamb       Tmod  Irradiancia         Vdc  \\\n",
       "Fecha                                                                  \n",
       "2021-01-19 07:00:00      0   NaN  15.481038   126.680377  280.261225   \n",
       "2021-01-19 08:00:00      1   NaN  21.373603   243.603396  286.352633   \n",
       "2021-01-19 09:00:00      2   NaN  27.428326   326.799399  284.905883   \n",
       "2021-01-19 10:00:00      3   NaN  35.033718   519.406319  284.755117   \n",
       "2021-01-19 11:00:00      4   NaN  38.094180   621.082664  284.442400   \n",
       "\n",
       "                          Idc   Paparente     Pac         Pdc  \\\n",
       "Fecha                                                           \n",
       "2021-01-19 07:00:00  0.663656  169.232893  127.25  188.702179   \n",
       "2021-01-19 08:00:00  1.309358  352.285000  259.25  376.508333   \n",
       "2021-01-19 09:00:00  1.737817  468.926667  488.50  495.450000   \n",
       "2021-01-19 10:00:00  2.515042  682.881667  610.75  714.733333   \n",
       "2021-01-19 11:00:00  2.985145  813.890000  434.75  850.175000   \n",
       "\n",
       "                              Fecha_cod  \n",
       "Fecha                                    \n",
       "2021-01-19 07:00:00 2021-01-19 07:00:00  \n",
       "2021-01-19 08:00:00 2021-01-19 08:00:00  \n",
       "2021-01-19 09:00:00 2021-01-19 09:00:00  \n",
       "2021-01-19 10:00:00 2021-01-19 10:00:00  \n",
       "2021-01-19 11:00:00 2021-01-19 11:00:00  "
      ]
     },
     "execution_count": 49,
     "metadata": {},
     "output_type": "execute_result"
    }
   ],
   "source": [
    "df_f = df.set_index('Fecha')\n",
    "print_df(df_f)"
   ]
  },
  {
   "cell_type": "code",
   "execution_count": 73,
   "metadata": {},
   "outputs": [
    {
     "data": {
      "text/plain": [
       "array([[ 58.25968552,  11.96111905],\n",
       "       [163.12595127,  15.48103781],\n",
       "       [341.9530303 ,  21.37360297],\n",
       "       [469.10909091,  27.42832607],\n",
       "       [675.05454545,  35.03371835],\n",
       "       [778.13939394,  38.09417994],\n",
       "       [884.33787879,  43.94124555],\n",
       "       [735.65606061,  37.7255226 ],\n",
       "       [716.6       ,  34.07790476],\n",
       "       [559.89242424,  32.34567958],\n",
       "       [354.99848485,  26.03758612]])"
      ]
     },
     "execution_count": 73,
     "metadata": {},
     "output_type": "execute_result"
    }
   ],
   "source": [
    "df_f[\"2021-01-20\"][df_columns].values"
   ]
  },
  {
   "cell_type": "code",
   "execution_count": 125,
   "metadata": {},
   "outputs": [
    {
     "data": {
      "text/html": [
       "<div>\n",
       "<style scoped>\n",
       "    .dataframe tbody tr th:only-of-type {\n",
       "        vertical-align: middle;\n",
       "    }\n",
       "\n",
       "    .dataframe tbody tr th {\n",
       "        vertical-align: top;\n",
       "    }\n",
       "\n",
       "    .dataframe thead th {\n",
       "        text-align: right;\n",
       "    }\n",
       "</style>\n",
       "<table border=\"1\" class=\"dataframe\">\n",
       "  <thead>\n",
       "    <tr style=\"text-align: right;\">\n",
       "      <th></th>\n",
       "      <th>Pac</th>\n",
       "      <th>Tmod</th>\n",
       "      <th>Fecha</th>\n",
       "      <th>Date</th>\n",
       "    </tr>\n",
       "    <tr>\n",
       "      <th>Fecha</th>\n",
       "      <th></th>\n",
       "      <th></th>\n",
       "      <th></th>\n",
       "      <th></th>\n",
       "    </tr>\n",
       "  </thead>\n",
       "  <tbody>\n",
       "    <tr>\n",
       "      <th>2021-02-01 06:00:00</th>\n",
       "      <td>45.714286</td>\n",
       "      <td>11.801333</td>\n",
       "      <td>2021-02-01 06:00:00</td>\n",
       "      <td>2021-02-01</td>\n",
       "    </tr>\n",
       "    <tr>\n",
       "      <th>2021-02-01 07:00:00</th>\n",
       "      <td>129.616667</td>\n",
       "      <td>15.322333</td>\n",
       "      <td>2021-02-01 07:00:00</td>\n",
       "      <td>2021-02-01</td>\n",
       "    </tr>\n",
       "    <tr>\n",
       "      <th>2021-02-01 08:00:00</th>\n",
       "      <td>291.050000</td>\n",
       "      <td>21.514167</td>\n",
       "      <td>2021-02-01 08:00:00</td>\n",
       "      <td>2021-02-01</td>\n",
       "    </tr>\n",
       "    <tr>\n",
       "      <th>2021-02-01 09:00:00</th>\n",
       "      <td>658.066667</td>\n",
       "      <td>34.237000</td>\n",
       "      <td>2021-02-01 09:00:00</td>\n",
       "      <td>2021-02-01</td>\n",
       "    </tr>\n",
       "    <tr>\n",
       "      <th>2021-02-01 10:00:00</th>\n",
       "      <td>674.716667</td>\n",
       "      <td>35.393051</td>\n",
       "      <td>2021-02-01 10:00:00</td>\n",
       "      <td>2021-02-01</td>\n",
       "    </tr>\n",
       "    <tr>\n",
       "      <th>...</th>\n",
       "      <td>...</td>\n",
       "      <td>...</td>\n",
       "      <td>...</td>\n",
       "      <td>...</td>\n",
       "    </tr>\n",
       "    <tr>\n",
       "      <th>2021-10-31 12:00:00</th>\n",
       "      <td>1402.250000</td>\n",
       "      <td>45.145667</td>\n",
       "      <td>2021-10-31 12:00:00</td>\n",
       "      <td>2021-10-31</td>\n",
       "    </tr>\n",
       "    <tr>\n",
       "      <th>2021-10-31 13:00:00</th>\n",
       "      <td>1448.083333</td>\n",
       "      <td>42.948500</td>\n",
       "      <td>2021-10-31 13:00:00</td>\n",
       "      <td>2021-10-31</td>\n",
       "    </tr>\n",
       "    <tr>\n",
       "      <th>2021-10-31 14:00:00</th>\n",
       "      <td>1115.516667</td>\n",
       "      <td>38.936667</td>\n",
       "      <td>2021-10-31 14:00:00</td>\n",
       "      <td>2021-10-31</td>\n",
       "    </tr>\n",
       "    <tr>\n",
       "      <th>2021-10-31 15:00:00</th>\n",
       "      <td>560.266667</td>\n",
       "      <td>31.209333</td>\n",
       "      <td>2021-10-31 15:00:00</td>\n",
       "      <td>2021-10-31</td>\n",
       "    </tr>\n",
       "    <tr>\n",
       "      <th>2021-10-31 16:00:00</th>\n",
       "      <td>295.978261</td>\n",
       "      <td>23.489333</td>\n",
       "      <td>2021-10-31 16:00:00</td>\n",
       "      <td>2021-10-31</td>\n",
       "    </tr>\n",
       "  </tbody>\n",
       "</table>\n",
       "<p>3003 rows × 4 columns</p>\n",
       "</div>"
      ],
      "text/plain": [
       "                             Pac       Tmod               Fecha        Date\n",
       "Fecha                                                                      \n",
       "2021-02-01 06:00:00    45.714286  11.801333 2021-02-01 06:00:00  2021-02-01\n",
       "2021-02-01 07:00:00   129.616667  15.322333 2021-02-01 07:00:00  2021-02-01\n",
       "2021-02-01 08:00:00   291.050000  21.514167 2021-02-01 08:00:00  2021-02-01\n",
       "2021-02-01 09:00:00   658.066667  34.237000 2021-02-01 09:00:00  2021-02-01\n",
       "2021-02-01 10:00:00   674.716667  35.393051 2021-02-01 10:00:00  2021-02-01\n",
       "...                          ...        ...                 ...         ...\n",
       "2021-10-31 12:00:00  1402.250000  45.145667 2021-10-31 12:00:00  2021-10-31\n",
       "2021-10-31 13:00:00  1448.083333  42.948500 2021-10-31 13:00:00  2021-10-31\n",
       "2021-10-31 14:00:00  1115.516667  38.936667 2021-10-31 14:00:00  2021-10-31\n",
       "2021-10-31 15:00:00   560.266667  31.209333 2021-10-31 15:00:00  2021-10-31\n",
       "2021-10-31 16:00:00   295.978261  23.489333 2021-10-31 16:00:00  2021-10-31\n",
       "\n",
       "[3003 rows x 4 columns]"
      ]
     },
     "execution_count": 125,
     "metadata": {},
     "output_type": "execute_result"
    }
   ],
   "source": [
    "df_t = df_f[fecha_ini: fecha_fin][df_columns]\n",
    "df_t['Fecha'] = df_t.index\n",
    "df_t['Date'] = df_t.index.date\n",
    "df_t"
   ]
  },
  {
   "cell_type": "code",
   "execution_count": 156,
   "metadata": {},
   "outputs": [
    {
     "name": "stdout",
     "output_type": "stream",
     "text": [
      "[[ 137.41858   96.56515  291.68558  603.0112   850.6446   966.0812\n",
      "  1003.6733   974.0643   896.6647   688.51135  390.12112]]\n"
     ]
    },
    {
     "data": {
      "text/plain": [
       "Fecha\n",
       "2021-02-02 06:00:00    137.418579\n",
       "2021-02-02 07:00:00     96.565147\n",
       "2021-02-02 08:00:00    291.685577\n",
       "2021-02-02 09:00:00    603.011230\n",
       "2021-02-02 10:00:00    850.644592\n",
       "                          ...    \n",
       "2021-10-31 12:00:00    983.894897\n",
       "2021-10-31 13:00:00    911.560486\n",
       "2021-10-31 14:00:00    739.276917\n",
       "2021-10-31 15:00:00    444.846588\n",
       "2021-10-31 16:00:00    195.407455\n",
       "Length: 2992, dtype: float32"
      ]
     },
     "execution_count": 156,
     "metadata": {},
     "output_type": "execute_result"
    }
   ],
   "source": [
    "series_t = None\n",
    "for dtime in list(df_t.Date.drop_duplicates())[:-1]:\n",
    "#     print(dtime)\n",
    "    x_input = df_t[str(dtime)][df_columns].values.reshape((1,11,2)) \n",
    "    pred = new_model.predict(x_input)\n",
    "    if series_t is None:\n",
    "        print(pred)\n",
    "        series_t = pd.Series(pred.ravel(), df_t[str(dtime+ dt.timedelta(days=1))].index)\n",
    "    else :\n",
    "        series_t = series_t.append(pd.Series(pred.ravel(), df_t[str(dtime+ dt.timedelta(days=1))].index))\n",
    "series_t"
   ]
  },
  {
   "cell_type": "code",
   "execution_count": 157,
   "metadata": {},
   "outputs": [],
   "source": [
    "df_t['pred']= series_t"
   ]
  },
  {
   "cell_type": "code",
   "execution_count": 292,
   "metadata": {},
   "outputs": [
    {
     "data": {
      "text/plain": [
       "'graficos/lstm__Chachapoyas_HIT'"
      ]
     },
     "execution_count": 292,
     "metadata": {},
     "output_type": "execute_result"
    }
   ],
   "source": [
    "image_dir =  f'graficos/{model_path.split(\"/\")[-1]}'\n",
    "image_dir"
   ]
  },
  {
   "cell_type": "code",
   "execution_count": 289,
   "metadata": {},
   "outputs": [
    {
     "name": "stdout",
     "output_type": "stream",
     "text": [
      "mkdir: cannot create directory ‘graficos’: File exists\n"
     ]
    }
   ],
   "source": [
    "!mkdir graficos"
   ]
  },
  {
   "cell_type": "code",
   "execution_count": 291,
   "metadata": {},
   "outputs": [
    {
     "name": "stdout",
     "output_type": "stream",
     "text": [
      "mkdir: cannot create directory ‘graficos/lstm__Chachapoyas_HIT’: File exists\n"
     ]
    }
   ],
   "source": [
    "!mkdir {image_dir}"
   ]
  },
  {
   "cell_type": "code",
   "execution_count": 298,
   "metadata": {},
   "outputs": [
    {
     "name": "stdout",
     "output_type": "stream",
     "text": [
      "[('2021-02-05', 'graficos/lstm__Chachapoyas_HIT/lstm__Chachapoyas_HIT-2021-02-05.png', 'graficos/lstm__Chachapoyas_HIT/current_day_lstm__Chachapoyas_HIT-2021-02-05.png', 165.90968013436589, 151.9924045823211), ('2021-02-06', 'graficos/lstm__Chachapoyas_HIT/lstm__Chachapoyas_HIT-2021-02-06.png', 'graficos/lstm__Chachapoyas_HIT/current_day_lstm__Chachapoyas_HIT-2021-02-06.png', 275.0997871296916, 165.90968013436589)]\n"
     ]
    },
    {
     "data": {
      "text/plain": [
       "269"
      ]
     },
     "execution_count": 298,
     "metadata": {},
     "output_type": "execute_result"
    },
    {
     "data": {
      "text/plain": [
       "<Figure size 432x288 with 0 Axes>"
      ]
     },
     "metadata": {},
     "output_type": "display_data"
    }
   ],
   "source": [
    "ls = []\n",
    "for dtime in list(df_t.Date.drop_duplicates())[4:]:\n",
    "    \n",
    "    #previous day fig\n",
    "#     print(dtime)\n",
    "    pac = df_t[str(dtime)]['Pac']\n",
    "    pred = df_t[str(dtime)]['pred']\n",
    "    pac_1 = df_t[str(dtime- dt.timedelta(days=1))]['Pac']\n",
    "    pred_1 = df_t[str(dtime- dt.timedelta(days=1))]['pred']\n",
    "    pac_2 = df_t[str(dtime- dt.timedelta(days=2))]['Pac']\n",
    "    pred_2 = df_t[str(dtime- dt.timedelta(days=2))]['pred']\n",
    "#     pac_3 = df_t[str(dtime- dt.timedelta(days=3))]['Pac']\n",
    "#     pred_3 = df_t[str(dtime- dt.timedelta(days=3))]['pred']\n",
    "    \n",
    "#     pac_3.plot(color='r', marker='o', markersize=4)\n",
    "#     pred_3.plot(color='g', marker='o', markersize=4)\n",
    "    pac_2.plot(color='r', marker='o', markersize=4)\n",
    "    pred_2.plot(color='g', marker='o', markersize=4)\n",
    "    pac_1.plot(color='r', marker='o', markersize=4)\n",
    "    pred_1.plot(color='g', marker='o', markersize=4)\n",
    "    pac.plot(color='r', marker='o', markersize=4)\n",
    "    pred.plot(color='g', marker='o', markersize=4)\n",
    "    \n",
    "    plt.legend(['Pac real', 'Pac predicho'])\n",
    "    plt.ylabel('Pac (W)')\n",
    "    plt.xlabel('Fecha y hora')\n",
    "    name = f'graficos/{model_path.split(\"/\")[-1]}/{model_path.split(\"/\")[-1]}-{str(dtime)}.png'\n",
    "    plt.savefig(name,bbox_inches='tight')\n",
    "#     plt.savefig('images/p3.png',bbox_inches='tight')\n",
    "    plt.clf()\n",
    "    \n",
    "    #current day fig\n",
    "    \n",
    "    pac = df_t[str(dtime)]['Pac']\n",
    "    pred = df_t[str(dtime)]['pred']\n",
    "    pac_1 = df_t[str(dtime- dt.timedelta(days=1))]['Pac']\n",
    "    pred_1 = df_t[str(dtime- dt.timedelta(days=1))]['pred']\n",
    "    pac_2 = df_t[str(dtime- dt.timedelta(days=2))]['Pac']\n",
    "    pred_2 = df_t[str(dtime- dt.timedelta(days=2))]['pred']\n",
    "#     pac_3 = df_t[str(dtime- dt.timedelta(days=3))]['Pac']\n",
    "#     pred_3 = df_t[str(dtime- dt.timedelta(days=3))]['pred']\n",
    "    \n",
    "#     pac_3.plot(color='r', marker='o', markersize=4)\n",
    "#     pred_3.plot(color='g', marker='o', markersize=4)\n",
    "    pac_2.plot(color='r', marker='o', markersize=4)\n",
    "    pred_2.plot(color='g', marker='o', markersize=4)\n",
    "    pac_1.plot(color='r', marker='o', markersize=4)\n",
    "    pred_1.plot(color='g', marker='o', markersize=4)\n",
    "#     pac.plot(color='r', marker='o', markersize=4)\n",
    "    pred.plot(color='g', marker='o', markersize=4)\n",
    "    \n",
    "    plt.legend(['Pac real', 'Pac predicho'])\n",
    "    plt.ylabel('Pac (W)')\n",
    "    plt.xlabel('Fecha y hora')\n",
    "    name_current_day = f'graficos/{model_path.split(\"/\")[-1]}/current_day_{model_path.split(\"/\")[-1]}-{str(dtime)}.png'\n",
    "    \n",
    "    plt.savefig(name_current_day,bbox_inches='tight')\n",
    "    plt.clf()\n",
    "\n",
    "    ls.append((str(dtime), name, name_current_day,\\\n",
    "               math.sqrt(mean_squared_error(pac, pred)),\\\n",
    "               math.sqrt(mean_squared_error(pac_1, pred_1))))\n",
    "#     break\n",
    "print(ls[:2])\n",
    "len(ls)\n"
   ]
  },
  {
   "cell_type": "code",
   "execution_count": 148,
   "metadata": {},
   "outputs": [],
   "source": [
    "# list(df_t.Date.drop_duplicates())[1:-1]"
   ]
  },
  {
   "cell_type": "code",
   "execution_count": 309,
   "metadata": {},
   "outputs": [],
   "source": [
    "# ls"
   ]
  },
  {
   "cell_type": "code",
   "execution_count": 310,
   "metadata": {},
   "outputs": [],
   "source": [
    "ml_model_id = 4\n",
    "metric_name = 'RMSE'\n",
    "date = ''\n",
    "value = ''\n",
    "previous_value = ''\n",
    "imag_path = ''"
   ]
  },
  {
   "cell_type": "code",
   "execution_count": 311,
   "metadata": {},
   "outputs": [
    {
     "data": {
      "text/plain": [
       "\"\\nINSERT INTO `DBTesis`.`metrics` (`ml_model_id`, `metric_name`, `date`, `value`, `previous_value`, `metric_image_path`, `metric_current_image_path`)\\nVALUES ('f', 'f', 'f', 'f', 'f', 'f','f');\\n\""
      ]
     },
     "execution_count": 311,
     "metadata": {},
     "output_type": "execute_result"
    }
   ],
   "source": [
    "\"\"\"\n",
    "INSERT INTO `DBTesis`.`metrics` (`ml_model_id`, `metric_name`, `date`, `value`, `previous_value`, `metric_image_path`, `metric_current_image_path`)\n",
    "VALUES ('f', 'f', 'f', 'f', 'f', 'f','f');\n",
    "\"\"\""
   ]
  },
  {
   "cell_type": "code",
   "execution_count": 312,
   "metadata": {},
   "outputs": [],
   "source": [
    "stri = ''\n",
    "for l in ls:\n",
    "    date = l[0]\n",
    "    imag_path=l[1]\n",
    "    current_img_path = l[2]\n",
    "    value=l[3]\n",
    "    previous_value=l[4]\n",
    "    stri +=f\"\"\"\n",
    "INSERT INTO `DBTesis`.`metrics` (`ml_model_id`, `metric_name`, `date`, `value`, `previous_value`, `metric_image_path`, `metric_current_image_path`)\n",
    "VALUES ({ml_model_id}, '{metric_name}', '{date}', {value}, {previous_value}, '{imag_path}','{current_img_path}');\n",
    "\"\"\""
   ]
  },
  {
   "cell_type": "code",
   "execution_count": 313,
   "metadata": {},
   "outputs": [
    {
     "data": {
      "text/plain": [
       "269"
      ]
     },
     "execution_count": 313,
     "metadata": {},
     "output_type": "execute_result"
    }
   ],
   "source": [
    "len(stri.split('\\n\\n'))"
   ]
  },
  {
   "cell_type": "code",
   "execution_count": 315,
   "metadata": {},
   "outputs": [],
   "source": [
    "stri_chachapoyas_cnn = stri"
   ]
  },
  {
   "cell_type": "code",
   "execution_count": 317,
   "metadata": {},
   "outputs": [],
   "source": [
    "#Imprimir comando INSERT INTO\n",
    "\n",
    "# print(stri_chachapoyas_cnn)\n",
    "\n"
   ]
  },
  {
   "cell_type": "code",
   "execution_count": null,
   "metadata": {},
   "outputs": [],
   "source": []
  },
  {
   "cell_type": "markdown",
   "metadata": {},
   "source": [
    "## Predicción CNN"
   ]
  },
  {
   "cell_type": "code",
   "execution_count": 318,
   "metadata": {},
   "outputs": [],
   "source": [
    "model_path = 'saved_models/1dcnn_Chachapoyas_HIT'\n",
    "model = '1dcnn'"
   ]
  },
  {
   "cell_type": "code",
   "execution_count": 319,
   "metadata": {},
   "outputs": [
    {
     "name": "stdout",
     "output_type": "stream",
     "text": [
      "Model: \"sequential_1\"\n",
      "_________________________________________________________________\n",
      "Layer (type)                 Output Shape              Param #   \n",
      "=================================================================\n",
      "conv1d_1 (Conv1D)            (None, 10, 64)            320       \n",
      "_________________________________________________________________\n",
      "max_pooling1d_1 (MaxPooling1 (None, 5, 64)             0         \n",
      "_________________________________________________________________\n",
      "flatten_1 (Flatten)          (None, 320)               0         \n",
      "_________________________________________________________________\n",
      "dense_1 (Dense)              (None, 50)                16050     \n",
      "_________________________________________________________________\n",
      "dense_2 (Dense)              (None, 11)                561       \n",
      "=================================================================\n",
      "Total params: 16,931\n",
      "Trainable params: 16,931\n",
      "Non-trainable params: 0\n",
      "_________________________________________________________________\n"
     ]
    }
   ],
   "source": [
    "new_model = tf.keras.models.load_model(model_path)\n",
    "new_model.summary()"
   ]
  },
  {
   "cell_type": "code",
   "execution_count": 320,
   "metadata": {},
   "outputs": [
    {
     "name": "stdout",
     "output_type": "stream",
     "text": [
      "(3145, 10)\n"
     ]
    },
    {
     "data": {
      "text/html": [
       "<div>\n",
       "<style scoped>\n",
       "    .dataframe tbody tr th:only-of-type {\n",
       "        vertical-align: middle;\n",
       "    }\n",
       "\n",
       "    .dataframe tbody tr th {\n",
       "        vertical-align: top;\n",
       "    }\n",
       "\n",
       "    .dataframe thead th {\n",
       "        text-align: right;\n",
       "    }\n",
       "</style>\n",
       "<table border=\"1\" class=\"dataframe\">\n",
       "  <thead>\n",
       "    <tr style=\"text-align: right;\">\n",
       "      <th></th>\n",
       "      <th>index</th>\n",
       "      <th>Tamb</th>\n",
       "      <th>Tmod</th>\n",
       "      <th>Irradiancia</th>\n",
       "      <th>Vdc</th>\n",
       "      <th>Idc</th>\n",
       "      <th>Paparente</th>\n",
       "      <th>Pac</th>\n",
       "      <th>Pdc</th>\n",
       "      <th>Fecha_cod</th>\n",
       "    </tr>\n",
       "    <tr>\n",
       "      <th>Fecha</th>\n",
       "      <th></th>\n",
       "      <th></th>\n",
       "      <th></th>\n",
       "      <th></th>\n",
       "      <th></th>\n",
       "      <th></th>\n",
       "      <th></th>\n",
       "      <th></th>\n",
       "      <th></th>\n",
       "      <th></th>\n",
       "    </tr>\n",
       "  </thead>\n",
       "  <tbody>\n",
       "    <tr>\n",
       "      <th>2021-01-19 07:00:00</th>\n",
       "      <td>0</td>\n",
       "      <td>NaN</td>\n",
       "      <td>15.481038</td>\n",
       "      <td>126.680377</td>\n",
       "      <td>280.261225</td>\n",
       "      <td>0.663656</td>\n",
       "      <td>169.232893</td>\n",
       "      <td>127.25</td>\n",
       "      <td>188.702179</td>\n",
       "      <td>2021-01-19 07:00:00</td>\n",
       "    </tr>\n",
       "    <tr>\n",
       "      <th>2021-01-19 08:00:00</th>\n",
       "      <td>1</td>\n",
       "      <td>NaN</td>\n",
       "      <td>21.373603</td>\n",
       "      <td>243.603396</td>\n",
       "      <td>286.352633</td>\n",
       "      <td>1.309358</td>\n",
       "      <td>352.285000</td>\n",
       "      <td>259.25</td>\n",
       "      <td>376.508333</td>\n",
       "      <td>2021-01-19 08:00:00</td>\n",
       "    </tr>\n",
       "    <tr>\n",
       "      <th>2021-01-19 09:00:00</th>\n",
       "      <td>2</td>\n",
       "      <td>NaN</td>\n",
       "      <td>27.428326</td>\n",
       "      <td>326.799399</td>\n",
       "      <td>284.905883</td>\n",
       "      <td>1.737817</td>\n",
       "      <td>468.926667</td>\n",
       "      <td>488.50</td>\n",
       "      <td>495.450000</td>\n",
       "      <td>2021-01-19 09:00:00</td>\n",
       "    </tr>\n",
       "    <tr>\n",
       "      <th>2021-01-19 10:00:00</th>\n",
       "      <td>3</td>\n",
       "      <td>NaN</td>\n",
       "      <td>35.033718</td>\n",
       "      <td>519.406319</td>\n",
       "      <td>284.755117</td>\n",
       "      <td>2.515042</td>\n",
       "      <td>682.881667</td>\n",
       "      <td>610.75</td>\n",
       "      <td>714.733333</td>\n",
       "      <td>2021-01-19 10:00:00</td>\n",
       "    </tr>\n",
       "    <tr>\n",
       "      <th>2021-01-19 11:00:00</th>\n",
       "      <td>4</td>\n",
       "      <td>NaN</td>\n",
       "      <td>38.094180</td>\n",
       "      <td>621.082664</td>\n",
       "      <td>284.442400</td>\n",
       "      <td>2.985145</td>\n",
       "      <td>813.890000</td>\n",
       "      <td>434.75</td>\n",
       "      <td>850.175000</td>\n",
       "      <td>2021-01-19 11:00:00</td>\n",
       "    </tr>\n",
       "  </tbody>\n",
       "</table>\n",
       "</div>"
      ],
      "text/plain": [
       "                     index  Tamb       Tmod  Irradiancia         Vdc  \\\n",
       "Fecha                                                                  \n",
       "2021-01-19 07:00:00      0   NaN  15.481038   126.680377  280.261225   \n",
       "2021-01-19 08:00:00      1   NaN  21.373603   243.603396  286.352633   \n",
       "2021-01-19 09:00:00      2   NaN  27.428326   326.799399  284.905883   \n",
       "2021-01-19 10:00:00      3   NaN  35.033718   519.406319  284.755117   \n",
       "2021-01-19 11:00:00      4   NaN  38.094180   621.082664  284.442400   \n",
       "\n",
       "                          Idc   Paparente     Pac         Pdc  \\\n",
       "Fecha                                                           \n",
       "2021-01-19 07:00:00  0.663656  169.232893  127.25  188.702179   \n",
       "2021-01-19 08:00:00  1.309358  352.285000  259.25  376.508333   \n",
       "2021-01-19 09:00:00  1.737817  468.926667  488.50  495.450000   \n",
       "2021-01-19 10:00:00  2.515042  682.881667  610.75  714.733333   \n",
       "2021-01-19 11:00:00  2.985145  813.890000  434.75  850.175000   \n",
       "\n",
       "                              Fecha_cod  \n",
       "Fecha                                    \n",
       "2021-01-19 07:00:00 2021-01-19 07:00:00  \n",
       "2021-01-19 08:00:00 2021-01-19 08:00:00  \n",
       "2021-01-19 09:00:00 2021-01-19 09:00:00  \n",
       "2021-01-19 10:00:00 2021-01-19 10:00:00  \n",
       "2021-01-19 11:00:00 2021-01-19 11:00:00  "
      ]
     },
     "execution_count": 320,
     "metadata": {},
     "output_type": "execute_result"
    }
   ],
   "source": [
    "df_f = df.set_index('Fecha')\n",
    "print_df(df_f)"
   ]
  },
  {
   "cell_type": "code",
   "execution_count": 321,
   "metadata": {},
   "outputs": [
    {
     "data": {
      "text/plain": [
       "array([[ 58.25968552,  11.96111905],\n",
       "       [163.12595127,  15.48103781],\n",
       "       [341.9530303 ,  21.37360297],\n",
       "       [469.10909091,  27.42832607],\n",
       "       [675.05454545,  35.03371835],\n",
       "       [778.13939394,  38.09417994],\n",
       "       [884.33787879,  43.94124555],\n",
       "       [735.65606061,  37.7255226 ],\n",
       "       [716.6       ,  34.07790476],\n",
       "       [559.89242424,  32.34567958],\n",
       "       [354.99848485,  26.03758612]])"
      ]
     },
     "execution_count": 321,
     "metadata": {},
     "output_type": "execute_result"
    }
   ],
   "source": [
    "df_f[\"2021-01-20\"][df_columns].values"
   ]
  },
  {
   "cell_type": "code",
   "execution_count": 322,
   "metadata": {},
   "outputs": [
    {
     "data": {
      "text/html": [
       "<div>\n",
       "<style scoped>\n",
       "    .dataframe tbody tr th:only-of-type {\n",
       "        vertical-align: middle;\n",
       "    }\n",
       "\n",
       "    .dataframe tbody tr th {\n",
       "        vertical-align: top;\n",
       "    }\n",
       "\n",
       "    .dataframe thead th {\n",
       "        text-align: right;\n",
       "    }\n",
       "</style>\n",
       "<table border=\"1\" class=\"dataframe\">\n",
       "  <thead>\n",
       "    <tr style=\"text-align: right;\">\n",
       "      <th></th>\n",
       "      <th>Pac</th>\n",
       "      <th>Tmod</th>\n",
       "      <th>Fecha</th>\n",
       "      <th>Date</th>\n",
       "    </tr>\n",
       "    <tr>\n",
       "      <th>Fecha</th>\n",
       "      <th></th>\n",
       "      <th></th>\n",
       "      <th></th>\n",
       "      <th></th>\n",
       "    </tr>\n",
       "  </thead>\n",
       "  <tbody>\n",
       "    <tr>\n",
       "      <th>2021-02-01 06:00:00</th>\n",
       "      <td>45.714286</td>\n",
       "      <td>11.801333</td>\n",
       "      <td>2021-02-01 06:00:00</td>\n",
       "      <td>2021-02-01</td>\n",
       "    </tr>\n",
       "    <tr>\n",
       "      <th>2021-02-01 07:00:00</th>\n",
       "      <td>129.616667</td>\n",
       "      <td>15.322333</td>\n",
       "      <td>2021-02-01 07:00:00</td>\n",
       "      <td>2021-02-01</td>\n",
       "    </tr>\n",
       "    <tr>\n",
       "      <th>2021-02-01 08:00:00</th>\n",
       "      <td>291.050000</td>\n",
       "      <td>21.514167</td>\n",
       "      <td>2021-02-01 08:00:00</td>\n",
       "      <td>2021-02-01</td>\n",
       "    </tr>\n",
       "    <tr>\n",
       "      <th>2021-02-01 09:00:00</th>\n",
       "      <td>658.066667</td>\n",
       "      <td>34.237000</td>\n",
       "      <td>2021-02-01 09:00:00</td>\n",
       "      <td>2021-02-01</td>\n",
       "    </tr>\n",
       "    <tr>\n",
       "      <th>2021-02-01 10:00:00</th>\n",
       "      <td>674.716667</td>\n",
       "      <td>35.393051</td>\n",
       "      <td>2021-02-01 10:00:00</td>\n",
       "      <td>2021-02-01</td>\n",
       "    </tr>\n",
       "    <tr>\n",
       "      <th>...</th>\n",
       "      <td>...</td>\n",
       "      <td>...</td>\n",
       "      <td>...</td>\n",
       "      <td>...</td>\n",
       "    </tr>\n",
       "    <tr>\n",
       "      <th>2021-10-31 12:00:00</th>\n",
       "      <td>1402.250000</td>\n",
       "      <td>45.145667</td>\n",
       "      <td>2021-10-31 12:00:00</td>\n",
       "      <td>2021-10-31</td>\n",
       "    </tr>\n",
       "    <tr>\n",
       "      <th>2021-10-31 13:00:00</th>\n",
       "      <td>1448.083333</td>\n",
       "      <td>42.948500</td>\n",
       "      <td>2021-10-31 13:00:00</td>\n",
       "      <td>2021-10-31</td>\n",
       "    </tr>\n",
       "    <tr>\n",
       "      <th>2021-10-31 14:00:00</th>\n",
       "      <td>1115.516667</td>\n",
       "      <td>38.936667</td>\n",
       "      <td>2021-10-31 14:00:00</td>\n",
       "      <td>2021-10-31</td>\n",
       "    </tr>\n",
       "    <tr>\n",
       "      <th>2021-10-31 15:00:00</th>\n",
       "      <td>560.266667</td>\n",
       "      <td>31.209333</td>\n",
       "      <td>2021-10-31 15:00:00</td>\n",
       "      <td>2021-10-31</td>\n",
       "    </tr>\n",
       "    <tr>\n",
       "      <th>2021-10-31 16:00:00</th>\n",
       "      <td>295.978261</td>\n",
       "      <td>23.489333</td>\n",
       "      <td>2021-10-31 16:00:00</td>\n",
       "      <td>2021-10-31</td>\n",
       "    </tr>\n",
       "  </tbody>\n",
       "</table>\n",
       "<p>3003 rows × 4 columns</p>\n",
       "</div>"
      ],
      "text/plain": [
       "                             Pac       Tmod               Fecha        Date\n",
       "Fecha                                                                      \n",
       "2021-02-01 06:00:00    45.714286  11.801333 2021-02-01 06:00:00  2021-02-01\n",
       "2021-02-01 07:00:00   129.616667  15.322333 2021-02-01 07:00:00  2021-02-01\n",
       "2021-02-01 08:00:00   291.050000  21.514167 2021-02-01 08:00:00  2021-02-01\n",
       "2021-02-01 09:00:00   658.066667  34.237000 2021-02-01 09:00:00  2021-02-01\n",
       "2021-02-01 10:00:00   674.716667  35.393051 2021-02-01 10:00:00  2021-02-01\n",
       "...                          ...        ...                 ...         ...\n",
       "2021-10-31 12:00:00  1402.250000  45.145667 2021-10-31 12:00:00  2021-10-31\n",
       "2021-10-31 13:00:00  1448.083333  42.948500 2021-10-31 13:00:00  2021-10-31\n",
       "2021-10-31 14:00:00  1115.516667  38.936667 2021-10-31 14:00:00  2021-10-31\n",
       "2021-10-31 15:00:00   560.266667  31.209333 2021-10-31 15:00:00  2021-10-31\n",
       "2021-10-31 16:00:00   295.978261  23.489333 2021-10-31 16:00:00  2021-10-31\n",
       "\n",
       "[3003 rows x 4 columns]"
      ]
     },
     "execution_count": 322,
     "metadata": {},
     "output_type": "execute_result"
    }
   ],
   "source": [
    "df_t = df_f[fecha_ini: fecha_fin][df_columns]\n",
    "df_t['Fecha'] = df_t.index\n",
    "df_t['Date'] = df_t.index.date\n",
    "df_t"
   ]
  },
  {
   "cell_type": "code",
   "execution_count": 323,
   "metadata": {},
   "outputs": [
    {
     "name": "stdout",
     "output_type": "stream",
     "text": [
      "[[205.11786 203.83694 467.84912 656.6301  805.589   918.4612  930.1508\n",
      "  952.4798  826.78064 672.7269  517.5668 ]]\n"
     ]
    },
    {
     "data": {
      "text/plain": [
       "Fecha\n",
       "2021-02-02 06:00:00    205.117859\n",
       "2021-02-02 07:00:00    203.836945\n",
       "2021-02-02 08:00:00    467.849121\n",
       "2021-02-02 09:00:00    656.630127\n",
       "2021-02-02 10:00:00    805.588989\n",
       "                          ...    \n",
       "2021-10-31 12:00:00    895.512268\n",
       "2021-10-31 13:00:00    869.339233\n",
       "2021-10-31 14:00:00    735.284241\n",
       "2021-10-31 15:00:00    452.882812\n",
       "2021-10-31 16:00:00    136.648438\n",
       "Length: 2992, dtype: float32"
      ]
     },
     "execution_count": 323,
     "metadata": {},
     "output_type": "execute_result"
    }
   ],
   "source": [
    "series_t = None\n",
    "for dtime in list(df_t.Date.drop_duplicates())[:-1]:\n",
    "#     print(dtime)\n",
    "    x_input = df_t[str(dtime)][df_columns].values.reshape((1,11,2)) \n",
    "    pred = new_model.predict(x_input)\n",
    "    if series_t is None:\n",
    "        print(pred)\n",
    "        series_t = pd.Series(pred.ravel(), df_t[str(dtime+ dt.timedelta(days=1))].index)\n",
    "    else :\n",
    "        series_t = series_t.append(pd.Series(pred.ravel(), df_t[str(dtime+ dt.timedelta(days=1))].index))\n",
    "series_t"
   ]
  },
  {
   "cell_type": "code",
   "execution_count": 324,
   "metadata": {},
   "outputs": [],
   "source": [
    "df_t['pred']= series_t"
   ]
  },
  {
   "cell_type": "code",
   "execution_count": 325,
   "metadata": {},
   "outputs": [
    {
     "data": {
      "text/plain": [
       "'graficos/1dcnn_Chachapoyas_HIT'"
      ]
     },
     "execution_count": 325,
     "metadata": {},
     "output_type": "execute_result"
    }
   ],
   "source": [
    "image_dir =  f'graficos/{model_path.split(\"/\")[-1]}'\n",
    "image_dir"
   ]
  },
  {
   "cell_type": "code",
   "execution_count": 326,
   "metadata": {},
   "outputs": [
    {
     "name": "stdout",
     "output_type": "stream",
     "text": [
      "mkdir: cannot create directory ‘graficos’: File exists\n"
     ]
    }
   ],
   "source": [
    "!mkdir graficos"
   ]
  },
  {
   "cell_type": "code",
   "execution_count": 328,
   "metadata": {},
   "outputs": [
    {
     "name": "stdout",
     "output_type": "stream",
     "text": [
      "mkdir: cannot create directory ‘graficos/1dcnn_Chachapoyas_HIT’: File exists\n"
     ]
    }
   ],
   "source": [
    "!mkdir {image_dir}"
   ]
  },
  {
   "cell_type": "code",
   "execution_count": 329,
   "metadata": {},
   "outputs": [
    {
     "name": "stdout",
     "output_type": "stream",
     "text": [
      "[('2021-02-05', 'graficos/1dcnn_Chachapoyas_HIT/1dcnn_Chachapoyas_HIT-2021-02-05.png', 'graficos/1dcnn_Chachapoyas_HIT/current_day_1dcnn_Chachapoyas_HIT-2021-02-05.png', 112.53677263071994, 113.30160103878855), ('2021-02-06', 'graficos/1dcnn_Chachapoyas_HIT/1dcnn_Chachapoyas_HIT-2021-02-06.png', 'graficos/1dcnn_Chachapoyas_HIT/current_day_1dcnn_Chachapoyas_HIT-2021-02-06.png', 104.08115971113446, 112.53677263071994)]\n"
     ]
    },
    {
     "data": {
      "text/plain": [
       "269"
      ]
     },
     "execution_count": 329,
     "metadata": {},
     "output_type": "execute_result"
    },
    {
     "data": {
      "text/plain": [
       "<Figure size 432x288 with 0 Axes>"
      ]
     },
     "metadata": {},
     "output_type": "display_data"
    }
   ],
   "source": [
    "ls = []\n",
    "for dtime in list(df_t.Date.drop_duplicates())[4:]:\n",
    "    \n",
    "    #previous day fig\n",
    "#     print(dtime)\n",
    "    pac = df_t[str(dtime)]['Pac']\n",
    "    pred = df_t[str(dtime)]['pred']\n",
    "    pac_1 = df_t[str(dtime- dt.timedelta(days=1))]['Pac']\n",
    "    pred_1 = df_t[str(dtime- dt.timedelta(days=1))]['pred']\n",
    "    pac_2 = df_t[str(dtime- dt.timedelta(days=2))]['Pac']\n",
    "    pred_2 = df_t[str(dtime- dt.timedelta(days=2))]['pred']\n",
    "#     pac_3 = df_t[str(dtime- dt.timedelta(days=3))]['Pac']\n",
    "#     pred_3 = df_t[str(dtime- dt.timedelta(days=3))]['pred']\n",
    "    \n",
    "#     pac_3.plot(color='r', marker='o', markersize=4)\n",
    "#     pred_3.plot(color='g', marker='o', markersize=4)\n",
    "    pac_2.plot(color='r', marker='o', markersize=4)\n",
    "    pred_2.plot(color='g', marker='o', markersize=4)\n",
    "    pac_1.plot(color='r', marker='o', markersize=4)\n",
    "    pred_1.plot(color='g', marker='o', markersize=4)\n",
    "    pac.plot(color='r', marker='o', markersize=4)\n",
    "    pred.plot(color='g', marker='o', markersize=4)\n",
    "    \n",
    "    plt.legend(['Pac real', 'Pac predicho'])\n",
    "    plt.ylabel('Pac (W)')\n",
    "    plt.xlabel('Fecha y hora')\n",
    "    name = f'graficos/{model_path.split(\"/\")[-1]}/{model_path.split(\"/\")[-1]}-{str(dtime)}.png'\n",
    "    plt.savefig(name,bbox_inches='tight')\n",
    "#     plt.savefig('images/p3.png',bbox_inches='tight')\n",
    "    plt.clf()\n",
    "    \n",
    "    #current day fig\n",
    "    \n",
    "    pac = df_t[str(dtime)]['Pac']\n",
    "    pred = df_t[str(dtime)]['pred']\n",
    "    pac_1 = df_t[str(dtime- dt.timedelta(days=1))]['Pac']\n",
    "    pred_1 = df_t[str(dtime- dt.timedelta(days=1))]['pred']\n",
    "    pac_2 = df_t[str(dtime- dt.timedelta(days=2))]['Pac']\n",
    "    pred_2 = df_t[str(dtime- dt.timedelta(days=2))]['pred']\n",
    "#     pac_3 = df_t[str(dtime- dt.timedelta(days=3))]['Pac']\n",
    "#     pred_3 = df_t[str(dtime- dt.timedelta(days=3))]['pred']\n",
    "    \n",
    "#     pac_3.plot(color='r', marker='o', markersize=4)\n",
    "#     pred_3.plot(color='g', marker='o', markersize=4)\n",
    "    pac_2.plot(color='r', marker='o', markersize=4)\n",
    "    pred_2.plot(color='g', marker='o', markersize=4)\n",
    "    pac_1.plot(color='r', marker='o', markersize=4)\n",
    "    pred_1.plot(color='g', marker='o', markersize=4)\n",
    "#     pac.plot(color='r', marker='o', markersize=4)\n",
    "    pred.plot(color='g', marker='o', markersize=4)\n",
    "    \n",
    "    plt.legend(['Pac real', 'Pac predicho'])\n",
    "    plt.ylabel('Pac (W)')\n",
    "    plt.xlabel('Fecha y hora')\n",
    "    name_current_day = f'graficos/{model_path.split(\"/\")[-1]}/current_day_{model_path.split(\"/\")[-1]}-{str(dtime)}.png'\n",
    "    \n",
    "    plt.savefig(name_current_day,bbox_inches='tight')\n",
    "    plt.clf()\n",
    "\n",
    "    ls.append((str(dtime), name, name_current_day,\\\n",
    "               math.sqrt(mean_squared_error(pac, pred)),\\\n",
    "               math.sqrt(mean_squared_error(pac_1, pred_1))))\n",
    "#     break\n",
    "print(ls[:2])\n",
    "len(ls)\n"
   ]
  },
  {
   "cell_type": "code",
   "execution_count": 148,
   "metadata": {},
   "outputs": [],
   "source": [
    "# list(df_t.Date.drop_duplicates())[1:-1]"
   ]
  },
  {
   "cell_type": "code",
   "execution_count": 309,
   "metadata": {},
   "outputs": [],
   "source": [
    "# ls"
   ]
  },
  {
   "cell_type": "code",
   "execution_count": 330,
   "metadata": {},
   "outputs": [],
   "source": [
    "ml_model_id = 3\n",
    "metric_name = 'RMSE'\n",
    "date = ''\n",
    "value = ''\n",
    "previous_value = ''\n",
    "imag_path = ''\n",
    "current_img_path = ''"
   ]
  },
  {
   "cell_type": "code",
   "execution_count": 331,
   "metadata": {},
   "outputs": [
    {
     "data": {
      "text/plain": [
       "\"\\nINSERT INTO `DBTesis`.`metrics` (`ml_model_id`, `metric_name`, `date`, `value`, `previous_value`, `metric_image_path`, `metric_current_image_path`)\\nVALUES ('f', 'f', 'f', 'f', 'f', 'f','f');\\n\""
      ]
     },
     "execution_count": 331,
     "metadata": {},
     "output_type": "execute_result"
    }
   ],
   "source": [
    "\"\"\"\n",
    "INSERT INTO `DBTesis`.`metrics` (`ml_model_id`, `metric_name`, `date`, `value`, `previous_value`, `metric_image_path`, `metric_current_image_path`)\n",
    "VALUES ('f', 'f', 'f', 'f', 'f', 'f','f');\n",
    "\"\"\""
   ]
  },
  {
   "cell_type": "code",
   "execution_count": 332,
   "metadata": {},
   "outputs": [],
   "source": [
    "stri = ''\n",
    "for l in ls:\n",
    "    date = l[0]\n",
    "    imag_path=l[1]\n",
    "    current_img_path = l[2]\n",
    "    value=l[3]\n",
    "    previous_value=l[4]\n",
    "    stri +=f\"\"\"\n",
    "INSERT INTO `DBTesis`.`metrics` (`ml_model_id`, `metric_name`, `date`, `value`, `previous_value`, `metric_image_path`, `metric_current_image_path`)\n",
    "VALUES ({ml_model_id}, '{metric_name}', '{date}', {value}, {previous_value}, '{imag_path}','{current_img_path}');\n",
    "\"\"\""
   ]
  },
  {
   "cell_type": "code",
   "execution_count": 333,
   "metadata": {},
   "outputs": [
    {
     "data": {
      "text/plain": [
       "269"
      ]
     },
     "execution_count": 333,
     "metadata": {},
     "output_type": "execute_result"
    }
   ],
   "source": [
    "len(stri.split('\\n\\n'))"
   ]
  },
  {
   "cell_type": "code",
   "execution_count": 334,
   "metadata": {},
   "outputs": [],
   "source": [
    "stri_chachapoyas_actual_cnn = stri"
   ]
  },
  {
   "cell_type": "code",
   "execution_count": 336,
   "metadata": {},
   "outputs": [],
   "source": [
    "#Imprimir comando INSERT INTO\n",
    "\n",
    "# print(stri_chachapoyas_actual_cnn)\n",
    "\n"
   ]
  },
  {
   "cell_type": "code",
   "execution_count": null,
   "metadata": {},
   "outputs": [],
   "source": []
  },
  {
   "cell_type": "code",
   "execution_count": null,
   "metadata": {},
   "outputs": [],
   "source": []
  },
  {
   "cell_type": "markdown",
   "metadata": {},
   "source": [
    "\n",
    "# Gráficos Lima"
   ]
  },
  {
   "cell_type": "code",
   "execution_count": 337,
   "metadata": {},
   "outputs": [
    {
     "name": "stdout",
     "output_type": "stream",
     "text": [
      "llenado_Arequipa_UNSA_CIGS_agg_day_hour.csv\n",
      "llenado_Arequipa_UNSA_HIT_agg_day_hour.csv\n",
      "llenado_Arequipa_UNSA_PERC_agg_day_hour.csv\n",
      "llenado_Chachapoyas_UNTRM_CIGS_agg_day_hour.csv\n",
      "llenado_Chachapoyas_UNTRM_HIT_agg_day_hour.csv\n",
      "llenado_Chachapoyas_UNTRM_PERC_agg_day_hour.csv\n",
      "llenado_Juliaca_UNAJ_CIGS_agg_day_hour.csv\n",
      "llenado_Juliaca_UNAJ_HIT_agg_day_hour.csv\n",
      "llenado_Juliaca_UNAJ_PERC_agg_day_hour.csv\n",
      "llenado_Lima_PUCP_CIGS_agg_day_hour.csv\n",
      "llenado_Lima_PUCP_HIT_agg_day_hour.csv\n",
      "llenado_Lima_PUCP_PERC_agg_day_hour.csv\n",
      "llenado_Tacna_UNJBG_CIGS_agg_day_hour.csv\n",
      "llenado_Tacna_UNJBG_HIT_agg_day_hour.csv\n",
      "llenado_Tacna_UNJBG_PERC_agg_day_hour.csv\n"
     ]
    }
   ],
   "source": [
    "!ls {data_path}"
   ]
  },
  {
   "cell_type": "markdown",
   "metadata": {},
   "source": [
    "### Lectura de datos"
   ]
  },
  {
   "cell_type": "code",
   "execution_count": 381,
   "metadata": {},
   "outputs": [],
   "source": [
    "data_file = data_path+'llenado_Lima_PUCP_HIT_agg_day_hour.csv'\n",
    "model_path = 'saved_models/1dcnn_Lima_HIT'\n",
    "model = '1dcnn'\n",
    "technology = 'HIT'\n",
    "ubicacion = 'Lima'\n",
    "df_columns = ['Pac', 'Tamb']\n",
    "fecha_ini = '2021-02-01'\n",
    "fecha_fin = '2021-10-31'"
   ]
  },
  {
   "cell_type": "code",
   "execution_count": 382,
   "metadata": {},
   "outputs": [
    {
     "name": "stdout",
     "output_type": "stream",
     "text": [
      "(7029, 10)\n"
     ]
    },
    {
     "data": {
      "text/html": [
       "<div>\n",
       "<style scoped>\n",
       "    .dataframe tbody tr th:only-of-type {\n",
       "        vertical-align: middle;\n",
       "    }\n",
       "\n",
       "    .dataframe tbody tr th {\n",
       "        vertical-align: top;\n",
       "    }\n",
       "\n",
       "    .dataframe thead th {\n",
       "        text-align: right;\n",
       "    }\n",
       "</style>\n",
       "<table border=\"1\" class=\"dataframe\">\n",
       "  <thead>\n",
       "    <tr style=\"text-align: right;\">\n",
       "      <th></th>\n",
       "      <th>index</th>\n",
       "      <th>Fecha</th>\n",
       "      <th>Tamb</th>\n",
       "      <th>Tmod</th>\n",
       "      <th>Irradiancia</th>\n",
       "      <th>Vdc</th>\n",
       "      <th>Idc</th>\n",
       "      <th>Paparente</th>\n",
       "      <th>Pac</th>\n",
       "      <th>Pdc</th>\n",
       "    </tr>\n",
       "  </thead>\n",
       "  <tbody>\n",
       "    <tr>\n",
       "      <th>0</th>\n",
       "      <td>0</td>\n",
       "      <td>2020-02-01 06:00:00</td>\n",
       "      <td>22.026791</td>\n",
       "      <td>NaN</td>\n",
       "      <td>27.115116</td>\n",
       "      <td>233.741749</td>\n",
       "      <td>0.188250</td>\n",
       "      <td>60.621361</td>\n",
       "      <td>66.380581</td>\n",
       "      <td>75.573104</td>\n",
       "    </tr>\n",
       "    <tr>\n",
       "      <th>1</th>\n",
       "      <td>1</td>\n",
       "      <td>2020-02-01 07:00:00</td>\n",
       "      <td>21.722877</td>\n",
       "      <td>NaN</td>\n",
       "      <td>111.537495</td>\n",
       "      <td>255.771884</td>\n",
       "      <td>0.569894</td>\n",
       "      <td>151.159816</td>\n",
       "      <td>169.414987</td>\n",
       "      <td>212.997443</td>\n",
       "    </tr>\n",
       "    <tr>\n",
       "      <th>2</th>\n",
       "      <td>2</td>\n",
       "      <td>2020-02-01 08:00:00</td>\n",
       "      <td>22.832072</td>\n",
       "      <td>NaN</td>\n",
       "      <td>416.345874</td>\n",
       "      <td>261.371965</td>\n",
       "      <td>1.555141</td>\n",
       "      <td>416.224706</td>\n",
       "      <td>407.368163</td>\n",
       "      <td>492.720706</td>\n",
       "    </tr>\n",
       "    <tr>\n",
       "      <th>3</th>\n",
       "      <td>3</td>\n",
       "      <td>2020-02-01 09:00:00</td>\n",
       "      <td>23.769869</td>\n",
       "      <td>NaN</td>\n",
       "      <td>557.163245</td>\n",
       "      <td>259.826929</td>\n",
       "      <td>2.571577</td>\n",
       "      <td>683.643427</td>\n",
       "      <td>696.240826</td>\n",
       "      <td>790.159728</td>\n",
       "    </tr>\n",
       "    <tr>\n",
       "      <th>4</th>\n",
       "      <td>4</td>\n",
       "      <td>2020-02-01 10:00:00</td>\n",
       "      <td>25.171561</td>\n",
       "      <td>NaN</td>\n",
       "      <td>843.467267</td>\n",
       "      <td>258.953148</td>\n",
       "      <td>3.368592</td>\n",
       "      <td>893.302314</td>\n",
       "      <td>946.676771</td>\n",
       "      <td>1034.689049</td>\n",
       "    </tr>\n",
       "  </tbody>\n",
       "</table>\n",
       "</div>"
      ],
      "text/plain": [
       "   index               Fecha       Tamb  Tmod  Irradiancia         Vdc  \\\n",
       "0      0 2020-02-01 06:00:00  22.026791   NaN    27.115116  233.741749   \n",
       "1      1 2020-02-01 07:00:00  21.722877   NaN   111.537495  255.771884   \n",
       "2      2 2020-02-01 08:00:00  22.832072   NaN   416.345874  261.371965   \n",
       "3      3 2020-02-01 09:00:00  23.769869   NaN   557.163245  259.826929   \n",
       "4      4 2020-02-01 10:00:00  25.171561   NaN   843.467267  258.953148   \n",
       "\n",
       "        Idc   Paparente         Pac          Pdc  \n",
       "0  0.188250   60.621361   66.380581    75.573104  \n",
       "1  0.569894  151.159816  169.414987   212.997443  \n",
       "2  1.555141  416.224706  407.368163   492.720706  \n",
       "3  2.571577  683.643427  696.240826   790.159728  \n",
       "4  3.368592  893.302314  946.676771  1034.689049  "
      ]
     },
     "execution_count": 382,
     "metadata": {},
     "output_type": "execute_result"
    }
   ],
   "source": [
    "df = pd.read_csv(data_file, parse_dates=True)\n",
    "df.Fecha = pd.to_datetime(df.Fecha)\n",
    "df=df.reset_index()\n",
    "print_df(df)"
   ]
  },
  {
   "cell_type": "code",
   "execution_count": 383,
   "metadata": {},
   "outputs": [
    {
     "name": "stdout",
     "output_type": "stream",
     "text": [
      "2020-02-01 06:00:00\n",
      "2021-10-31 16:00:00\n"
     ]
    }
   ],
   "source": [
    "print(df.Fecha.min())\n",
    "print(df.Fecha.max())"
   ]
  },
  {
   "cell_type": "code",
   "execution_count": 384,
   "metadata": {},
   "outputs": [
    {
     "data": {
      "text/plain": [
       "index          0.000000\n",
       "Fecha          0.000000\n",
       "Tamb           0.000000\n",
       "Tmod           0.524257\n",
       "Irradiancia    0.004410\n",
       "Vdc            0.004410\n",
       "Idc            0.004410\n",
       "Paparente      0.004410\n",
       "Pac            0.021909\n",
       "Pdc            0.013089\n",
       "dtype: float64"
      ]
     },
     "execution_count": 384,
     "metadata": {},
     "output_type": "execute_result"
    }
   ],
   "source": [
    "df.isna().sum()/len(df)"
   ]
  },
  {
   "cell_type": "markdown",
   "metadata": {},
   "source": [
    "### Preprocesamiento"
   ]
  },
  {
   "cell_type": "code",
   "execution_count": 385,
   "metadata": {},
   "outputs": [],
   "source": [
    "start = df.iloc[0]['Fecha']"
   ]
  },
  {
   "cell_type": "code",
   "execution_count": 386,
   "metadata": {},
   "outputs": [],
   "source": [
    "df['Fecha_cod'] = pd.date_range(freq='H', start=start, periods=len(df))\n",
    "# df.head(13)"
   ]
  },
  {
   "cell_type": "code",
   "execution_count": 387,
   "metadata": {},
   "outputs": [],
   "source": [
    "series_raw = TimeSeries.from_dataframe(df, 'Fecha_cod', df_columns)#,'Irradiancia'])#, freq='H')\n"
   ]
  },
  {
   "cell_type": "code",
   "execution_count": 388,
   "metadata": {},
   "outputs": [],
   "source": [
    "col_obj = 'Pac'"
   ]
  },
  {
   "cell_type": "code",
   "execution_count": 389,
   "metadata": {},
   "outputs": [
    {
     "data": {
      "image/png": "[encoded data removed]",
      "text/plain": [
       "<Figure size 432x288 with 1 Axes>"
      ]
     },
     "metadata": {
      "needs_background": "light"
     },
     "output_type": "display_data"
    }
   ],
   "source": [
    "series_raw[0:30][col_obj].plot()"
   ]
  },
  {
   "cell_type": "code",
   "execution_count": 390,
   "metadata": {},
   "outputs": [
    {
     "data": {
      "image/png": "[encoded data removed]",
      "text/plain": [
       "<Figure size 432x288 with 1 Axes>"
      ]
     },
     "metadata": {
      "needs_background": "light"
     },
     "output_type": "display_data"
    }
   ],
   "source": [
    "series_raw.plot()"
   ]
  },
  {
   "cell_type": "code",
   "execution_count": 391,
   "metadata": {},
   "outputs": [
    {
     "data": {
      "image/png": "[encoded data removed]",
      "text/plain": [
       "<Figure size 432x288 with 1 Axes>"
      ]
     },
     "metadata": {
      "needs_background": "light"
     },
     "output_type": "display_data"
    }
   ],
   "source": [
    "# TODO\n",
    "filler = MissingValuesFiller()\n",
    "series = filler.transform(series_raw, method='linear')\n",
    "series.plot()"
   ]
  },
  {
   "cell_type": "code",
   "execution_count": 392,
   "metadata": {},
   "outputs": [
    {
     "data": {
      "text/plain": [
       "154"
      ]
     },
     "execution_count": 392,
     "metadata": {},
     "output_type": "execute_result"
    }
   ],
   "source": [
    "(series.values() != series_raw.values()).sum()"
   ]
  },
  {
   "cell_type": "code",
   "execution_count": 393,
   "metadata": {},
   "outputs": [
    {
     "data": {
      "text/plain": [
       "7029"
      ]
     },
     "execution_count": 393,
     "metadata": {},
     "output_type": "execute_result"
    }
   ],
   "source": [
    "len(series)"
   ]
  },
  {
   "cell_type": "code",
   "execution_count": 401,
   "metadata": {},
   "outputs": [
    {
     "data": {
      "text/html": [
       "<div>\n",
       "<style scoped>\n",
       "    .dataframe tbody tr th:only-of-type {\n",
       "        vertical-align: middle;\n",
       "    }\n",
       "\n",
       "    .dataframe tbody tr th {\n",
       "        vertical-align: top;\n",
       "    }\n",
       "\n",
       "    .dataframe thead th {\n",
       "        text-align: right;\n",
       "    }\n",
       "</style>\n",
       "<table border=\"1\" class=\"dataframe\">\n",
       "  <thead>\n",
       "    <tr style=\"text-align: right;\">\n",
       "      <th></th>\n",
       "      <th>Pac</th>\n",
       "      <th>Tamb</th>\n",
       "    </tr>\n",
       "  </thead>\n",
       "  <tbody>\n",
       "    <tr>\n",
       "      <th>0</th>\n",
       "      <td>66.380581</td>\n",
       "      <td>22.026791</td>\n",
       "    </tr>\n",
       "    <tr>\n",
       "      <th>1</th>\n",
       "      <td>169.414987</td>\n",
       "      <td>21.722877</td>\n",
       "    </tr>\n",
       "    <tr>\n",
       "      <th>2</th>\n",
       "      <td>407.368163</td>\n",
       "      <td>22.832072</td>\n",
       "    </tr>\n",
       "    <tr>\n",
       "      <th>3</th>\n",
       "      <td>696.240826</td>\n",
       "      <td>23.769869</td>\n",
       "    </tr>\n",
       "    <tr>\n",
       "      <th>4</th>\n",
       "      <td>946.676771</td>\n",
       "      <td>25.171561</td>\n",
       "    </tr>\n",
       "    <tr>\n",
       "      <th>...</th>\n",
       "      <td>...</td>\n",
       "      <td>...</td>\n",
       "    </tr>\n",
       "    <tr>\n",
       "      <th>7024</th>\n",
       "      <td>1108.416667</td>\n",
       "      <td>16.952497</td>\n",
       "    </tr>\n",
       "    <tr>\n",
       "      <th>7025</th>\n",
       "      <td>785.083333</td>\n",
       "      <td>17.084003</td>\n",
       "    </tr>\n",
       "    <tr>\n",
       "      <th>7026</th>\n",
       "      <td>495.400000</td>\n",
       "      <td>16.986584</td>\n",
       "    </tr>\n",
       "    <tr>\n",
       "      <th>7027</th>\n",
       "      <td>303.366667</td>\n",
       "      <td>16.722459</td>\n",
       "    </tr>\n",
       "    <tr>\n",
       "      <th>7028</th>\n",
       "      <td>176.050000</td>\n",
       "      <td>16.330566</td>\n",
       "    </tr>\n",
       "  </tbody>\n",
       "</table>\n",
       "<p>7029 rows × 2 columns</p>\n",
       "</div>"
      ],
      "text/plain": [
       "              Pac       Tamb\n",
       "0       66.380581  22.026791\n",
       "1      169.414987  21.722877\n",
       "2      407.368163  22.832072\n",
       "3      696.240826  23.769869\n",
       "4      946.676771  25.171561\n",
       "...           ...        ...\n",
       "7024  1108.416667  16.952497\n",
       "7025   785.083333  17.084003\n",
       "7026   495.400000  16.986584\n",
       "7027   303.366667  16.722459\n",
       "7028   176.050000  16.330566\n",
       "\n",
       "[7029 rows x 2 columns]"
      ]
     },
     "execution_count": 401,
     "metadata": {},
     "output_type": "execute_result"
    }
   ],
   "source": [
    "new_data = pd.DataFrame(series.values(), columns=df_columns)\n",
    "new_data"
   ]
  },
  {
   "cell_type": "code",
   "execution_count": 402,
   "metadata": {},
   "outputs": [
    {
     "data": {
      "text/html": [
       "<div>\n",
       "<style scoped>\n",
       "    .dataframe tbody tr th:only-of-type {\n",
       "        vertical-align: middle;\n",
       "    }\n",
       "\n",
       "    .dataframe tbody tr th {\n",
       "        vertical-align: top;\n",
       "    }\n",
       "\n",
       "    .dataframe thead th {\n",
       "        text-align: right;\n",
       "    }\n",
       "</style>\n",
       "<table border=\"1\" class=\"dataframe\">\n",
       "  <thead>\n",
       "    <tr style=\"text-align: right;\">\n",
       "      <th></th>\n",
       "      <th>index</th>\n",
       "      <th>Fecha</th>\n",
       "      <th>Tamb</th>\n",
       "      <th>Tmod</th>\n",
       "      <th>Irradiancia</th>\n",
       "      <th>Vdc</th>\n",
       "      <th>Idc</th>\n",
       "      <th>Paparente</th>\n",
       "      <th>Pac</th>\n",
       "      <th>Pdc</th>\n",
       "      <th>Fecha_cod</th>\n",
       "    </tr>\n",
       "  </thead>\n",
       "  <tbody>\n",
       "    <tr>\n",
       "      <th>0</th>\n",
       "      <td>0</td>\n",
       "      <td>2020-02-01 06:00:00</td>\n",
       "      <td>22.026791</td>\n",
       "      <td>NaN</td>\n",
       "      <td>27.115116</td>\n",
       "      <td>233.741749</td>\n",
       "      <td>0.188250</td>\n",
       "      <td>60.621361</td>\n",
       "      <td>66.380581</td>\n",
       "      <td>75.573104</td>\n",
       "      <td>2020-02-01 06:00:00</td>\n",
       "    </tr>\n",
       "    <tr>\n",
       "      <th>1</th>\n",
       "      <td>1</td>\n",
       "      <td>2020-02-01 07:00:00</td>\n",
       "      <td>21.722877</td>\n",
       "      <td>NaN</td>\n",
       "      <td>111.537495</td>\n",
       "      <td>255.771884</td>\n",
       "      <td>0.569894</td>\n",
       "      <td>151.159816</td>\n",
       "      <td>169.414987</td>\n",
       "      <td>212.997443</td>\n",
       "      <td>2020-02-01 07:00:00</td>\n",
       "    </tr>\n",
       "    <tr>\n",
       "      <th>2</th>\n",
       "      <td>2</td>\n",
       "      <td>2020-02-01 08:00:00</td>\n",
       "      <td>22.832072</td>\n",
       "      <td>NaN</td>\n",
       "      <td>416.345874</td>\n",
       "      <td>261.371965</td>\n",
       "      <td>1.555141</td>\n",
       "      <td>416.224706</td>\n",
       "      <td>407.368163</td>\n",
       "      <td>492.720706</td>\n",
       "      <td>2020-02-01 08:00:00</td>\n",
       "    </tr>\n",
       "    <tr>\n",
       "      <th>3</th>\n",
       "      <td>3</td>\n",
       "      <td>2020-02-01 09:00:00</td>\n",
       "      <td>23.769869</td>\n",
       "      <td>NaN</td>\n",
       "      <td>557.163245</td>\n",
       "      <td>259.826929</td>\n",
       "      <td>2.571577</td>\n",
       "      <td>683.643427</td>\n",
       "      <td>696.240826</td>\n",
       "      <td>790.159728</td>\n",
       "      <td>2020-02-01 09:00:00</td>\n",
       "    </tr>\n",
       "    <tr>\n",
       "      <th>4</th>\n",
       "      <td>4</td>\n",
       "      <td>2020-02-01 10:00:00</td>\n",
       "      <td>25.171561</td>\n",
       "      <td>NaN</td>\n",
       "      <td>843.467267</td>\n",
       "      <td>258.953148</td>\n",
       "      <td>3.368592</td>\n",
       "      <td>893.302314</td>\n",
       "      <td>946.676771</td>\n",
       "      <td>1034.689049</td>\n",
       "      <td>2020-02-01 10:00:00</td>\n",
       "    </tr>\n",
       "  </tbody>\n",
       "</table>\n",
       "</div>"
      ],
      "text/plain": [
       "   index               Fecha       Tamb  Tmod  Irradiancia         Vdc  \\\n",
       "0      0 2020-02-01 06:00:00  22.026791   NaN    27.115116  233.741749   \n",
       "1      1 2020-02-01 07:00:00  21.722877   NaN   111.537495  255.771884   \n",
       "2      2 2020-02-01 08:00:00  22.832072   NaN   416.345874  261.371965   \n",
       "3      3 2020-02-01 09:00:00  23.769869   NaN   557.163245  259.826929   \n",
       "4      4 2020-02-01 10:00:00  25.171561   NaN   843.467267  258.953148   \n",
       "\n",
       "        Idc   Paparente         Pac          Pdc           Fecha_cod  \n",
       "0  0.188250   60.621361   66.380581    75.573104 2020-02-01 06:00:00  \n",
       "1  0.569894  151.159816  169.414987   212.997443 2020-02-01 07:00:00  \n",
       "2  1.555141  416.224706  407.368163   492.720706 2020-02-01 08:00:00  \n",
       "3  2.571577  683.643427  696.240826   790.159728 2020-02-01 09:00:00  \n",
       "4  3.368592  893.302314  946.676771  1034.689049 2020-02-01 10:00:00  "
      ]
     },
     "execution_count": 402,
     "metadata": {},
     "output_type": "execute_result"
    }
   ],
   "source": [
    "df[df_columns] = new_data\n",
    "df.head()"
   ]
  },
  {
   "cell_type": "code",
   "execution_count": 404,
   "metadata": {},
   "outputs": [
    {
     "data": {
      "text/plain": [
       "index             0\n",
       "Fecha             0\n",
       "Tamb              0\n",
       "Tmod           3685\n",
       "Irradiancia      31\n",
       "Vdc              31\n",
       "Idc              31\n",
       "Paparente        31\n",
       "Pac               0\n",
       "Pdc              92\n",
       "Fecha_cod         0\n",
       "dtype: int64"
      ]
     },
     "execution_count": 404,
     "metadata": {},
     "output_type": "execute_result"
    }
   ],
   "source": [
    "df.isna().sum()"
   ]
  },
  {
   "cell_type": "markdown",
   "metadata": {},
   "source": [
    "## Predicción CNN"
   ]
  },
  {
   "cell_type": "code",
   "execution_count": null,
   "metadata": {},
   "outputs": [],
   "source": []
  },
  {
   "cell_type": "code",
   "execution_count": 405,
   "metadata": {},
   "outputs": [
    {
     "name": "stdout",
     "output_type": "stream",
     "text": [
      "Model: \"sequential_3\"\n",
      "_________________________________________________________________\n",
      "Layer (type)                 Output Shape              Param #   \n",
      "=================================================================\n",
      "conv1d_3 (Conv1D)            (None, 10, 64)            320       \n",
      "_________________________________________________________________\n",
      "max_pooling1d_3 (MaxPooling1 (None, 5, 64)             0         \n",
      "_________________________________________________________________\n",
      "flatten_3 (Flatten)          (None, 320)               0         \n",
      "_________________________________________________________________\n",
      "dense_5 (Dense)              (None, 50)                16050     \n",
      "_________________________________________________________________\n",
      "dense_6 (Dense)              (None, 11)                561       \n",
      "=================================================================\n",
      "Total params: 16,931\n",
      "Trainable params: 16,931\n",
      "Non-trainable params: 0\n",
      "_________________________________________________________________\n"
     ]
    }
   ],
   "source": [
    "new_model = tf.keras.models.load_model(model_path)\n",
    "new_model.summary()"
   ]
  },
  {
   "cell_type": "code",
   "execution_count": 406,
   "metadata": {},
   "outputs": [
    {
     "name": "stdout",
     "output_type": "stream",
     "text": [
      "(7029, 10)\n"
     ]
    },
    {
     "data": {
      "text/html": [
       "<div>\n",
       "<style scoped>\n",
       "    .dataframe tbody tr th:only-of-type {\n",
       "        vertical-align: middle;\n",
       "    }\n",
       "\n",
       "    .dataframe tbody tr th {\n",
       "        vertical-align: top;\n",
       "    }\n",
       "\n",
       "    .dataframe thead th {\n",
       "        text-align: right;\n",
       "    }\n",
       "</style>\n",
       "<table border=\"1\" class=\"dataframe\">\n",
       "  <thead>\n",
       "    <tr style=\"text-align: right;\">\n",
       "      <th></th>\n",
       "      <th>index</th>\n",
       "      <th>Tamb</th>\n",
       "      <th>Tmod</th>\n",
       "      <th>Irradiancia</th>\n",
       "      <th>Vdc</th>\n",
       "      <th>Idc</th>\n",
       "      <th>Paparente</th>\n",
       "      <th>Pac</th>\n",
       "      <th>Pdc</th>\n",
       "      <th>Fecha_cod</th>\n",
       "    </tr>\n",
       "    <tr>\n",
       "      <th>Fecha</th>\n",
       "      <th></th>\n",
       "      <th></th>\n",
       "      <th></th>\n",
       "      <th></th>\n",
       "      <th></th>\n",
       "      <th></th>\n",
       "      <th></th>\n",
       "      <th></th>\n",
       "      <th></th>\n",
       "      <th></th>\n",
       "    </tr>\n",
       "  </thead>\n",
       "  <tbody>\n",
       "    <tr>\n",
       "      <th>2020-02-01 06:00:00</th>\n",
       "      <td>0</td>\n",
       "      <td>22.026791</td>\n",
       "      <td>NaN</td>\n",
       "      <td>27.115116</td>\n",
       "      <td>233.741749</td>\n",
       "      <td>0.188250</td>\n",
       "      <td>60.621361</td>\n",
       "      <td>66.380581</td>\n",
       "      <td>75.573104</td>\n",
       "      <td>2020-02-01 06:00:00</td>\n",
       "    </tr>\n",
       "    <tr>\n",
       "      <th>2020-02-01 07:00:00</th>\n",
       "      <td>1</td>\n",
       "      <td>21.722877</td>\n",
       "      <td>NaN</td>\n",
       "      <td>111.537495</td>\n",
       "      <td>255.771884</td>\n",
       "      <td>0.569894</td>\n",
       "      <td>151.159816</td>\n",
       "      <td>169.414987</td>\n",
       "      <td>212.997443</td>\n",
       "      <td>2020-02-01 07:00:00</td>\n",
       "    </tr>\n",
       "    <tr>\n",
       "      <th>2020-02-01 08:00:00</th>\n",
       "      <td>2</td>\n",
       "      <td>22.832072</td>\n",
       "      <td>NaN</td>\n",
       "      <td>416.345874</td>\n",
       "      <td>261.371965</td>\n",
       "      <td>1.555141</td>\n",
       "      <td>416.224706</td>\n",
       "      <td>407.368163</td>\n",
       "      <td>492.720706</td>\n",
       "      <td>2020-02-01 08:00:00</td>\n",
       "    </tr>\n",
       "    <tr>\n",
       "      <th>2020-02-01 09:00:00</th>\n",
       "      <td>3</td>\n",
       "      <td>23.769869</td>\n",
       "      <td>NaN</td>\n",
       "      <td>557.163245</td>\n",
       "      <td>259.826929</td>\n",
       "      <td>2.571577</td>\n",
       "      <td>683.643427</td>\n",
       "      <td>696.240826</td>\n",
       "      <td>790.159728</td>\n",
       "      <td>2020-02-01 09:00:00</td>\n",
       "    </tr>\n",
       "    <tr>\n",
       "      <th>2020-02-01 10:00:00</th>\n",
       "      <td>4</td>\n",
       "      <td>25.171561</td>\n",
       "      <td>NaN</td>\n",
       "      <td>843.467267</td>\n",
       "      <td>258.953148</td>\n",
       "      <td>3.368592</td>\n",
       "      <td>893.302314</td>\n",
       "      <td>946.676771</td>\n",
       "      <td>1034.689049</td>\n",
       "      <td>2020-02-01 10:00:00</td>\n",
       "    </tr>\n",
       "  </tbody>\n",
       "</table>\n",
       "</div>"
      ],
      "text/plain": [
       "                     index       Tamb  Tmod  Irradiancia         Vdc  \\\n",
       "Fecha                                                                  \n",
       "2020-02-01 06:00:00      0  22.026791   NaN    27.115116  233.741749   \n",
       "2020-02-01 07:00:00      1  21.722877   NaN   111.537495  255.771884   \n",
       "2020-02-01 08:00:00      2  22.832072   NaN   416.345874  261.371965   \n",
       "2020-02-01 09:00:00      3  23.769869   NaN   557.163245  259.826929   \n",
       "2020-02-01 10:00:00      4  25.171561   NaN   843.467267  258.953148   \n",
       "\n",
       "                          Idc   Paparente         Pac          Pdc  \\\n",
       "Fecha                                                                \n",
       "2020-02-01 06:00:00  0.188250   60.621361   66.380581    75.573104   \n",
       "2020-02-01 07:00:00  0.569894  151.159816  169.414987   212.997443   \n",
       "2020-02-01 08:00:00  1.555141  416.224706  407.368163   492.720706   \n",
       "2020-02-01 09:00:00  2.571577  683.643427  696.240826   790.159728   \n",
       "2020-02-01 10:00:00  3.368592  893.302314  946.676771  1034.689049   \n",
       "\n",
       "                              Fecha_cod  \n",
       "Fecha                                    \n",
       "2020-02-01 06:00:00 2020-02-01 06:00:00  \n",
       "2020-02-01 07:00:00 2020-02-01 07:00:00  \n",
       "2020-02-01 08:00:00 2020-02-01 08:00:00  \n",
       "2020-02-01 09:00:00 2020-02-01 09:00:00  \n",
       "2020-02-01 10:00:00 2020-02-01 10:00:00  "
      ]
     },
     "execution_count": 406,
     "metadata": {},
     "output_type": "execute_result"
    }
   ],
   "source": [
    "df_f = df.set_index('Fecha')\n",
    "print_df(df_f)"
   ]
  },
  {
   "cell_type": "code",
   "execution_count": 407,
   "metadata": {},
   "outputs": [
    {
     "data": {
      "text/plain": [
       "array([[  72.38685109,   18.96233802],\n",
       "       [ 127.39773128,   19.0178576 ],\n",
       "       [ 270.75      ,   19.37846786],\n",
       "       [ 646.58333333,   19.99352832],\n",
       "       [ 871.61666667,   20.68430881],\n",
       "       [1142.18333333,   21.07994472],\n",
       "       [1141.41373222,   21.25255995],\n",
       "       [1070.1052332 ,   21.62429523],\n",
       "       [1024.86524289,   21.79883812],\n",
       "       [ 536.73333333,   21.48475935],\n",
       "       [ 431.85      ,   21.50942573]])"
      ]
     },
     "execution_count": 407,
     "metadata": {},
     "output_type": "execute_result"
    }
   ],
   "source": [
    "df_f[\"2021-01-20\"][df_columns].values"
   ]
  },
  {
   "cell_type": "code",
   "execution_count": 408,
   "metadata": {},
   "outputs": [
    {
     "data": {
      "text/html": [
       "<div>\n",
       "<style scoped>\n",
       "    .dataframe tbody tr th:only-of-type {\n",
       "        vertical-align: middle;\n",
       "    }\n",
       "\n",
       "    .dataframe tbody tr th {\n",
       "        vertical-align: top;\n",
       "    }\n",
       "\n",
       "    .dataframe thead th {\n",
       "        text-align: right;\n",
       "    }\n",
       "</style>\n",
       "<table border=\"1\" class=\"dataframe\">\n",
       "  <thead>\n",
       "    <tr style=\"text-align: right;\">\n",
       "      <th></th>\n",
       "      <th>Pac</th>\n",
       "      <th>Tamb</th>\n",
       "      <th>Fecha</th>\n",
       "      <th>Date</th>\n",
       "    </tr>\n",
       "    <tr>\n",
       "      <th>Fecha</th>\n",
       "      <th></th>\n",
       "      <th></th>\n",
       "      <th></th>\n",
       "      <th></th>\n",
       "    </tr>\n",
       "  </thead>\n",
       "  <tbody>\n",
       "    <tr>\n",
       "      <th>2021-02-01 06:00:00</th>\n",
       "      <td>83.085714</td>\n",
       "      <td>19.024617</td>\n",
       "      <td>2021-02-01 06:00:00</td>\n",
       "      <td>2021-02-01</td>\n",
       "    </tr>\n",
       "    <tr>\n",
       "      <th>2021-02-01 07:00:00</th>\n",
       "      <td>246.533333</td>\n",
       "      <td>19.804029</td>\n",
       "      <td>2021-02-01 07:00:00</td>\n",
       "      <td>2021-02-01</td>\n",
       "    </tr>\n",
       "    <tr>\n",
       "      <th>2021-02-01 08:00:00</th>\n",
       "      <td>576.316667</td>\n",
       "      <td>21.077390</td>\n",
       "      <td>2021-02-01 08:00:00</td>\n",
       "      <td>2021-02-01</td>\n",
       "    </tr>\n",
       "    <tr>\n",
       "      <th>2021-02-01 09:00:00</th>\n",
       "      <td>907.816667</td>\n",
       "      <td>22.529712</td>\n",
       "      <td>2021-02-01 09:00:00</td>\n",
       "      <td>2021-02-01</td>\n",
       "    </tr>\n",
       "    <tr>\n",
       "      <th>2021-02-01 10:00:00</th>\n",
       "      <td>1159.900000</td>\n",
       "      <td>22.675667</td>\n",
       "      <td>2021-02-01 10:00:00</td>\n",
       "      <td>2021-02-01</td>\n",
       "    </tr>\n",
       "    <tr>\n",
       "      <th>...</th>\n",
       "      <td>...</td>\n",
       "      <td>...</td>\n",
       "      <td>...</td>\n",
       "      <td>...</td>\n",
       "    </tr>\n",
       "    <tr>\n",
       "      <th>2021-10-31 12:00:00</th>\n",
       "      <td>1108.416667</td>\n",
       "      <td>16.952497</td>\n",
       "      <td>2021-10-31 12:00:00</td>\n",
       "      <td>2021-10-31</td>\n",
       "    </tr>\n",
       "    <tr>\n",
       "      <th>2021-10-31 13:00:00</th>\n",
       "      <td>785.083333</td>\n",
       "      <td>17.084003</td>\n",
       "      <td>2021-10-31 13:00:00</td>\n",
       "      <td>2021-10-31</td>\n",
       "    </tr>\n",
       "    <tr>\n",
       "      <th>2021-10-31 14:00:00</th>\n",
       "      <td>495.400000</td>\n",
       "      <td>16.986584</td>\n",
       "      <td>2021-10-31 14:00:00</td>\n",
       "      <td>2021-10-31</td>\n",
       "    </tr>\n",
       "    <tr>\n",
       "      <th>2021-10-31 15:00:00</th>\n",
       "      <td>303.366667</td>\n",
       "      <td>16.722459</td>\n",
       "      <td>2021-10-31 15:00:00</td>\n",
       "      <td>2021-10-31</td>\n",
       "    </tr>\n",
       "    <tr>\n",
       "      <th>2021-10-31 16:00:00</th>\n",
       "      <td>176.050000</td>\n",
       "      <td>16.330566</td>\n",
       "      <td>2021-10-31 16:00:00</td>\n",
       "      <td>2021-10-31</td>\n",
       "    </tr>\n",
       "  </tbody>\n",
       "</table>\n",
       "<p>3003 rows × 4 columns</p>\n",
       "</div>"
      ],
      "text/plain": [
       "                             Pac       Tamb               Fecha        Date\n",
       "Fecha                                                                      \n",
       "2021-02-01 06:00:00    83.085714  19.024617 2021-02-01 06:00:00  2021-02-01\n",
       "2021-02-01 07:00:00   246.533333  19.804029 2021-02-01 07:00:00  2021-02-01\n",
       "2021-02-01 08:00:00   576.316667  21.077390 2021-02-01 08:00:00  2021-02-01\n",
       "2021-02-01 09:00:00   907.816667  22.529712 2021-02-01 09:00:00  2021-02-01\n",
       "2021-02-01 10:00:00  1159.900000  22.675667 2021-02-01 10:00:00  2021-02-01\n",
       "...                          ...        ...                 ...         ...\n",
       "2021-10-31 12:00:00  1108.416667  16.952497 2021-10-31 12:00:00  2021-10-31\n",
       "2021-10-31 13:00:00   785.083333  17.084003 2021-10-31 13:00:00  2021-10-31\n",
       "2021-10-31 14:00:00   495.400000  16.986584 2021-10-31 14:00:00  2021-10-31\n",
       "2021-10-31 15:00:00   303.366667  16.722459 2021-10-31 15:00:00  2021-10-31\n",
       "2021-10-31 16:00:00   176.050000  16.330566 2021-10-31 16:00:00  2021-10-31\n",
       "\n",
       "[3003 rows x 4 columns]"
      ]
     },
     "execution_count": 408,
     "metadata": {},
     "output_type": "execute_result"
    }
   ],
   "source": [
    "df_t = df_f[fecha_ini: fecha_fin][df_columns]\n",
    "df_t['Fecha'] = df_t.index\n",
    "df_t['Date'] = df_t.index.date\n",
    "df_t"
   ]
  },
  {
   "cell_type": "code",
   "execution_count": 409,
   "metadata": {},
   "outputs": [
    {
     "name": "stdout",
     "output_type": "stream",
     "text": [
      "[[  69.6706   153.30745  376.8964   670.9531   922.7116  1144.0259\n",
      "  1183.3802  1103.7953   869.96906  620.33905  340.33813]]\n"
     ]
    },
    {
     "data": {
      "text/plain": [
       "Fecha\n",
       "2021-02-02 06:00:00     69.670601\n",
       "2021-02-02 07:00:00    153.307449\n",
       "2021-02-02 08:00:00    376.896393\n",
       "2021-02-02 09:00:00    670.953125\n",
       "2021-02-02 10:00:00    922.711609\n",
       "                          ...    \n",
       "2021-10-31 12:00:00    823.908752\n",
       "2021-10-31 13:00:00    746.706360\n",
       "2021-10-31 14:00:00    612.094299\n",
       "2021-10-31 15:00:00    406.399506\n",
       "2021-10-31 16:00:00    205.451599\n",
       "Length: 2992, dtype: float32"
      ]
     },
     "execution_count": 409,
     "metadata": {},
     "output_type": "execute_result"
    }
   ],
   "source": [
    "series_t = None\n",
    "for dtime in list(df_t.Date.drop_duplicates())[:-1]:\n",
    "#     print(dtime)\n",
    "    x_input = df_t[str(dtime)][df_columns].values.reshape((1,11,2)) \n",
    "    pred = new_model.predict(x_input)\n",
    "    if series_t is None:\n",
    "        print(pred)\n",
    "        series_t = pd.Series(pred.ravel(), df_t[str(dtime+ dt.timedelta(days=1))].index)\n",
    "    else :\n",
    "        series_t = series_t.append(pd.Series(pred.ravel(), df_t[str(dtime+ dt.timedelta(days=1))].index))\n",
    "series_t"
   ]
  },
  {
   "cell_type": "code",
   "execution_count": 410,
   "metadata": {},
   "outputs": [],
   "source": [
    "df_t['pred']= series_t"
   ]
  },
  {
   "cell_type": "code",
   "execution_count": 411,
   "metadata": {},
   "outputs": [
    {
     "data": {
      "text/plain": [
       "'graficos/1dcnn_Lima_HIT'"
      ]
     },
     "execution_count": 411,
     "metadata": {},
     "output_type": "execute_result"
    }
   ],
   "source": [
    "image_dir =  f'graficos/{model_path.split(\"/\")[-1]}'\n",
    "image_dir"
   ]
  },
  {
   "cell_type": "code",
   "execution_count": 412,
   "metadata": {},
   "outputs": [
    {
     "name": "stdout",
     "output_type": "stream",
     "text": [
      "mkdir: cannot create directory ‘graficos’: File exists\n"
     ]
    }
   ],
   "source": [
    "!mkdir graficos"
   ]
  },
  {
   "cell_type": "code",
   "execution_count": 413,
   "metadata": {},
   "outputs": [
    {
     "name": "stdout",
     "output_type": "stream",
     "text": [
      "mkdir: cannot create directory ‘graficos/1dcnn_Lima_HIT’: File exists\n"
     ]
    }
   ],
   "source": [
    "!mkdir {image_dir}"
   ]
  },
  {
   "cell_type": "code",
   "execution_count": 415,
   "metadata": {},
   "outputs": [
    {
     "name": "stdout",
     "output_type": "stream",
     "text": [
      "[('2021-02-05', 'graficos/1dcnn_Lima_HIT/1dcnn_Lima_HIT-2021-02-05.png', 'graficos/1dcnn_Lima_HIT/current_day_1dcnn_Lima_HIT-2021-02-05.png', 156.35502628494254, 129.55563495286825), ('2021-02-06', 'graficos/1dcnn_Lima_HIT/1dcnn_Lima_HIT-2021-02-06.png', 'graficos/1dcnn_Lima_HIT/current_day_1dcnn_Lima_HIT-2021-02-06.png', 164.16475802127312, 156.35502628494254)]\n",
      "CPU times: user 2min 7s, sys: 0 ns, total: 2min 7s\n",
      "Wall time: 2min 6s\n"
     ]
    },
    {
     "data": {
      "text/plain": [
       "269"
      ]
     },
     "execution_count": 415,
     "metadata": {},
     "output_type": "execute_result"
    },
    {
     "data": {
      "text/plain": [
       "<Figure size 432x288 with 0 Axes>"
      ]
     },
     "metadata": {},
     "output_type": "display_data"
    }
   ],
   "source": [
    "%%time\n",
    "ls = []\n",
    "for dtime in list(df_t.Date.drop_duplicates())[4:]:\n",
    "    \n",
    "    #previous day fig\n",
    "#     print(dtime)\n",
    "    pac = df_t[str(dtime)]['Pac']\n",
    "    pred = df_t[str(dtime)]['pred']\n",
    "    pac_1 = df_t[str(dtime- dt.timedelta(days=1))]['Pac']\n",
    "    pred_1 = df_t[str(dtime- dt.timedelta(days=1))]['pred']\n",
    "    pac_2 = df_t[str(dtime- dt.timedelta(days=2))]['Pac']\n",
    "    pred_2 = df_t[str(dtime- dt.timedelta(days=2))]['pred']\n",
    "#     pac_3 = df_t[str(dtime- dt.timedelta(days=3))]['Pac']\n",
    "#     pred_3 = df_t[str(dtime- dt.timedelta(days=3))]['pred']\n",
    "    \n",
    "#     pac_3.plot(color='r', marker='o', markersize=4)\n",
    "#     pred_3.plot(color='g', marker='o', markersize=4)\n",
    "    pac_2.plot(color='r', marker='o', markersize=4)\n",
    "    pred_2.plot(color='g', marker='o', markersize=4)\n",
    "    pac_1.plot(color='r', marker='o', markersize=4)\n",
    "    pred_1.plot(color='g', marker='o', markersize=4)\n",
    "    pac.plot(color='r', marker='o', markersize=4)\n",
    "    pred.plot(color='g', marker='o', markersize=4)\n",
    "    \n",
    "    plt.legend(['Pac real', 'Pac predicho'])\n",
    "    plt.ylabel('Pac (W)')\n",
    "    plt.xlabel('Fecha y hora')\n",
    "    name = f'graficos/{model_path.split(\"/\")[-1]}/{model_path.split(\"/\")[-1]}-{str(dtime)}.png'\n",
    "    plt.savefig(name,bbox_inches='tight')\n",
    "#     plt.savefig('images/p3.png',bbox_inches='tight')\n",
    "    plt.clf()\n",
    "    \n",
    "    #current day fig\n",
    "    \n",
    "    pac = df_t[str(dtime)]['Pac']\n",
    "    pred = df_t[str(dtime)]['pred']\n",
    "    pac_1 = df_t[str(dtime- dt.timedelta(days=1))]['Pac']\n",
    "    pred_1 = df_t[str(dtime- dt.timedelta(days=1))]['pred']\n",
    "    pac_2 = df_t[str(dtime- dt.timedelta(days=2))]['Pac']\n",
    "    pred_2 = df_t[str(dtime- dt.timedelta(days=2))]['pred']\n",
    "#     pac_3 = df_t[str(dtime- dt.timedelta(days=3))]['Pac']\n",
    "#     pred_3 = df_t[str(dtime- dt.timedelta(days=3))]['pred']\n",
    "    \n",
    "#     pac_3.plot(color='r', marker='o', markersize=4)\n",
    "#     pred_3.plot(color='g', marker='o', markersize=4)\n",
    "    pac_2.plot(color='r', marker='o', markersize=4)\n",
    "    pred_2.plot(color='g', marker='o', markersize=4)\n",
    "    pac_1.plot(color='r', marker='o', markersize=4)\n",
    "    pred_1.plot(color='g', marker='o', markersize=4)\n",
    "#     pac.plot(color='r', marker='o', markersize=4)\n",
    "    pred.plot(color='g', marker='o', markersize=4)\n",
    "    \n",
    "    plt.legend(['Pac real', 'Pac predicho'])\n",
    "    plt.ylabel('Pac (W)')\n",
    "    plt.xlabel('Fecha y hora')\n",
    "    name_current_day = f'graficos/{model_path.split(\"/\")[-1]}/current_day_{model_path.split(\"/\")[-1]}-{str(dtime)}.png'\n",
    "    \n",
    "    plt.savefig(name_current_day,bbox_inches='tight')\n",
    "    plt.clf()\n",
    "\n",
    "    ls.append((str(dtime), name, name_current_day,\\\n",
    "               math.sqrt(mean_squared_error(pac, pred)),\\\n",
    "               math.sqrt(mean_squared_error(pac_1, pred_1))))\n",
    "#     break\n",
    "print(ls[:2])\n",
    "len(ls)\n"
   ]
  },
  {
   "cell_type": "code",
   "execution_count": 416,
   "metadata": {},
   "outputs": [],
   "source": [
    "# list(df_t.Date.drop_duplicates())[1:-1]"
   ]
  },
  {
   "cell_type": "code",
   "execution_count": 417,
   "metadata": {},
   "outputs": [],
   "source": [
    "# ls"
   ]
  },
  {
   "cell_type": "code",
   "execution_count": 418,
   "metadata": {},
   "outputs": [],
   "source": [
    "ml_model_id = 1\n",
    "metric_name = 'RMSE'\n",
    "date = ''\n",
    "value = ''\n",
    "previous_value = ''\n",
    "imag_path = ''"
   ]
  },
  {
   "cell_type": "code",
   "execution_count": 419,
   "metadata": {},
   "outputs": [
    {
     "data": {
      "text/plain": [
       "\"\\nINSERT INTO `DBTesis`.`metrics` (`ml_model_id`, `metric_name`, `date`, `value`, `previous_value`, `metric_image_path`, `metric_current_image_path`)\\nVALUES ('f', 'f', 'f', 'f', 'f', 'f','f');\\n\""
      ]
     },
     "execution_count": 419,
     "metadata": {},
     "output_type": "execute_result"
    }
   ],
   "source": [
    "\"\"\"\n",
    "INSERT INTO `DBTesis`.`metrics` (`ml_model_id`, `metric_name`, `date`, `value`, `previous_value`, `metric_image_path`, `metric_current_image_path`)\n",
    "VALUES ('f', 'f', 'f', 'f', 'f', 'f','f');\n",
    "\"\"\""
   ]
  },
  {
   "cell_type": "code",
   "execution_count": 420,
   "metadata": {},
   "outputs": [],
   "source": [
    "stri = ''\n",
    "for l in ls:\n",
    "    date = l[0]\n",
    "    imag_path=l[1]\n",
    "    current_img_path = l[2]\n",
    "    value=l[3]\n",
    "    previous_value=l[4]\n",
    "    stri +=f\"\"\"\n",
    "INSERT INTO `DBTesis`.`metrics` (`ml_model_id`, `metric_name`, `date`, `value`, `previous_value`, `metric_image_path`, `metric_current_image_path`)\n",
    "VALUES ({ml_model_id}, '{metric_name}', '{date}', {value}, {previous_value}, '{imag_path}','{current_img_path}');\n",
    "\"\"\""
   ]
  },
  {
   "cell_type": "code",
   "execution_count": 421,
   "metadata": {},
   "outputs": [
    {
     "data": {
      "text/plain": [
       "269"
      ]
     },
     "execution_count": 421,
     "metadata": {},
     "output_type": "execute_result"
    }
   ],
   "source": [
    "len(stri.split('\\n\\n'))"
   ]
  },
  {
   "cell_type": "code",
   "execution_count": 423,
   "metadata": {},
   "outputs": [],
   "source": [
    "stri_lima_cnn = stri"
   ]
  },
  {
   "cell_type": "code",
   "execution_count": 425,
   "metadata": {},
   "outputs": [],
   "source": [
    "#Imprimir comando INSERT INTO\n",
    "\n",
    "# print(stri_lima_cnn)\n",
    "\n"
   ]
  },
  {
   "cell_type": "code",
   "execution_count": null,
   "metadata": {},
   "outputs": [],
   "source": []
  },
  {
   "cell_type": "markdown",
   "metadata": {},
   "source": [
    "## Predicción LSTM"
   ]
  },
  {
   "cell_type": "code",
   "execution_count": 447,
   "metadata": {},
   "outputs": [],
   "source": [
    "model_path = 'saved_models/lstm_Lima_HIT'\n",
    "model = 'lstm'"
   ]
  },
  {
   "cell_type": "code",
   "execution_count": 449,
   "metadata": {},
   "outputs": [
    {
     "name": "stdout",
     "output_type": "stream",
     "text": [
      "Model: \"sequential_3\"\n",
      "_________________________________________________________________\n",
      "Layer (type)                 Output Shape              Param #   \n",
      "=================================================================\n",
      "conv1d_3 (Conv1D)            (None, 10, 64)            320       \n",
      "_________________________________________________________________\n",
      "max_pooling1d_3 (MaxPooling1 (None, 5, 64)             0         \n",
      "_________________________________________________________________\n",
      "flatten_3 (Flatten)          (None, 320)               0         \n",
      "_________________________________________________________________\n",
      "dense_5 (Dense)              (None, 50)                16050     \n",
      "_________________________________________________________________\n",
      "dense_6 (Dense)              (None, 11)                561       \n",
      "=================================================================\n",
      "Total params: 16,931\n",
      "Trainable params: 16,931\n",
      "Non-trainable params: 0\n",
      "_________________________________________________________________\n"
     ]
    }
   ],
   "source": [
    "#Mismo que cnn\n",
    "new_model = tf.keras.models.load_model(model_path)\n",
    "new_model.summary()"
   ]
  },
  {
   "cell_type": "code",
   "execution_count": 446,
   "metadata": {},
   "outputs": [],
   "source": [
    "# new_model.trainable_weights[0] == tf.keras.models.load_model('saved_models/lstm_Lima_HIT').trainable_weights[0]"
   ]
  },
  {
   "cell_type": "code",
   "execution_count": 320,
   "metadata": {},
   "outputs": [
    {
     "name": "stdout",
     "output_type": "stream",
     "text": [
      "(3145, 10)\n"
     ]
    },
    {
     "data": {
      "text/html": [
       "<div>\n",
       "<style scoped>\n",
       "    .dataframe tbody tr th:only-of-type {\n",
       "        vertical-align: middle;\n",
       "    }\n",
       "\n",
       "    .dataframe tbody tr th {\n",
       "        vertical-align: top;\n",
       "    }\n",
       "\n",
       "    .dataframe thead th {\n",
       "        text-align: right;\n",
       "    }\n",
       "</style>\n",
       "<table border=\"1\" class=\"dataframe\">\n",
       "  <thead>\n",
       "    <tr style=\"text-align: right;\">\n",
       "      <th></th>\n",
       "      <th>index</th>\n",
       "      <th>Tamb</th>\n",
       "      <th>Tmod</th>\n",
       "      <th>Irradiancia</th>\n",
       "      <th>Vdc</th>\n",
       "      <th>Idc</th>\n",
       "      <th>Paparente</th>\n",
       "      <th>Pac</th>\n",
       "      <th>Pdc</th>\n",
       "      <th>Fecha_cod</th>\n",
       "    </tr>\n",
       "    <tr>\n",
       "      <th>Fecha</th>\n",
       "      <th></th>\n",
       "      <th></th>\n",
       "      <th></th>\n",
       "      <th></th>\n",
       "      <th></th>\n",
       "      <th></th>\n",
       "      <th></th>\n",
       "      <th></th>\n",
       "      <th></th>\n",
       "      <th></th>\n",
       "    </tr>\n",
       "  </thead>\n",
       "  <tbody>\n",
       "    <tr>\n",
       "      <th>2021-01-19 07:00:00</th>\n",
       "      <td>0</td>\n",
       "      <td>NaN</td>\n",
       "      <td>15.481038</td>\n",
       "      <td>126.680377</td>\n",
       "      <td>280.261225</td>\n",
       "      <td>0.663656</td>\n",
       "      <td>169.232893</td>\n",
       "      <td>127.25</td>\n",
       "      <td>188.702179</td>\n",
       "      <td>2021-01-19 07:00:00</td>\n",
       "    </tr>\n",
       "    <tr>\n",
       "      <th>2021-01-19 08:00:00</th>\n",
       "      <td>1</td>\n",
       "      <td>NaN</td>\n",
       "      <td>21.373603</td>\n",
       "      <td>243.603396</td>\n",
       "      <td>286.352633</td>\n",
       "      <td>1.309358</td>\n",
       "      <td>352.285000</td>\n",
       "      <td>259.25</td>\n",
       "      <td>376.508333</td>\n",
       "      <td>2021-01-19 08:00:00</td>\n",
       "    </tr>\n",
       "    <tr>\n",
       "      <th>2021-01-19 09:00:00</th>\n",
       "      <td>2</td>\n",
       "      <td>NaN</td>\n",
       "      <td>27.428326</td>\n",
       "      <td>326.799399</td>\n",
       "      <td>284.905883</td>\n",
       "      <td>1.737817</td>\n",
       "      <td>468.926667</td>\n",
       "      <td>488.50</td>\n",
       "      <td>495.450000</td>\n",
       "      <td>2021-01-19 09:00:00</td>\n",
       "    </tr>\n",
       "    <tr>\n",
       "      <th>2021-01-19 10:00:00</th>\n",
       "      <td>3</td>\n",
       "      <td>NaN</td>\n",
       "      <td>35.033718</td>\n",
       "      <td>519.406319</td>\n",
       "      <td>284.755117</td>\n",
       "      <td>2.515042</td>\n",
       "      <td>682.881667</td>\n",
       "      <td>610.75</td>\n",
       "      <td>714.733333</td>\n",
       "      <td>2021-01-19 10:00:00</td>\n",
       "    </tr>\n",
       "    <tr>\n",
       "      <th>2021-01-19 11:00:00</th>\n",
       "      <td>4</td>\n",
       "      <td>NaN</td>\n",
       "      <td>38.094180</td>\n",
       "      <td>621.082664</td>\n",
       "      <td>284.442400</td>\n",
       "      <td>2.985145</td>\n",
       "      <td>813.890000</td>\n",
       "      <td>434.75</td>\n",
       "      <td>850.175000</td>\n",
       "      <td>2021-01-19 11:00:00</td>\n",
       "    </tr>\n",
       "  </tbody>\n",
       "</table>\n",
       "</div>"
      ],
      "text/plain": [
       "                     index  Tamb       Tmod  Irradiancia         Vdc  \\\n",
       "Fecha                                                                  \n",
       "2021-01-19 07:00:00      0   NaN  15.481038   126.680377  280.261225   \n",
       "2021-01-19 08:00:00      1   NaN  21.373603   243.603396  286.352633   \n",
       "2021-01-19 09:00:00      2   NaN  27.428326   326.799399  284.905883   \n",
       "2021-01-19 10:00:00      3   NaN  35.033718   519.406319  284.755117   \n",
       "2021-01-19 11:00:00      4   NaN  38.094180   621.082664  284.442400   \n",
       "\n",
       "                          Idc   Paparente     Pac         Pdc  \\\n",
       "Fecha                                                           \n",
       "2021-01-19 07:00:00  0.663656  169.232893  127.25  188.702179   \n",
       "2021-01-19 08:00:00  1.309358  352.285000  259.25  376.508333   \n",
       "2021-01-19 09:00:00  1.737817  468.926667  488.50  495.450000   \n",
       "2021-01-19 10:00:00  2.515042  682.881667  610.75  714.733333   \n",
       "2021-01-19 11:00:00  2.985145  813.890000  434.75  850.175000   \n",
       "\n",
       "                              Fecha_cod  \n",
       "Fecha                                    \n",
       "2021-01-19 07:00:00 2021-01-19 07:00:00  \n",
       "2021-01-19 08:00:00 2021-01-19 08:00:00  \n",
       "2021-01-19 09:00:00 2021-01-19 09:00:00  \n",
       "2021-01-19 10:00:00 2021-01-19 10:00:00  \n",
       "2021-01-19 11:00:00 2021-01-19 11:00:00  "
      ]
     },
     "execution_count": 320,
     "metadata": {},
     "output_type": "execute_result"
    }
   ],
   "source": [
    "df_f = df.set_index('Fecha')\n",
    "print_df(df_f)"
   ]
  },
  {
   "cell_type": "code",
   "execution_count": 321,
   "metadata": {},
   "outputs": [
    {
     "data": {
      "text/plain": [
       "array([[ 58.25968552,  11.96111905],\n",
       "       [163.12595127,  15.48103781],\n",
       "       [341.9530303 ,  21.37360297],\n",
       "       [469.10909091,  27.42832607],\n",
       "       [675.05454545,  35.03371835],\n",
       "       [778.13939394,  38.09417994],\n",
       "       [884.33787879,  43.94124555],\n",
       "       [735.65606061,  37.7255226 ],\n",
       "       [716.6       ,  34.07790476],\n",
       "       [559.89242424,  32.34567958],\n",
       "       [354.99848485,  26.03758612]])"
      ]
     },
     "execution_count": 321,
     "metadata": {},
     "output_type": "execute_result"
    }
   ],
   "source": [
    "df_f[\"2021-01-20\"][df_columns].values"
   ]
  },
  {
   "cell_type": "code",
   "execution_count": 322,
   "metadata": {},
   "outputs": [
    {
     "data": {
      "text/html": [
       "<div>\n",
       "<style scoped>\n",
       "    .dataframe tbody tr th:only-of-type {\n",
       "        vertical-align: middle;\n",
       "    }\n",
       "\n",
       "    .dataframe tbody tr th {\n",
       "        vertical-align: top;\n",
       "    }\n",
       "\n",
       "    .dataframe thead th {\n",
       "        text-align: right;\n",
       "    }\n",
       "</style>\n",
       "<table border=\"1\" class=\"dataframe\">\n",
       "  <thead>\n",
       "    <tr style=\"text-align: right;\">\n",
       "      <th></th>\n",
       "      <th>Pac</th>\n",
       "      <th>Tmod</th>\n",
       "      <th>Fecha</th>\n",
       "      <th>Date</th>\n",
       "    </tr>\n",
       "    <tr>\n",
       "      <th>Fecha</th>\n",
       "      <th></th>\n",
       "      <th></th>\n",
       "      <th></th>\n",
       "      <th></th>\n",
       "    </tr>\n",
       "  </thead>\n",
       "  <tbody>\n",
       "    <tr>\n",
       "      <th>2021-02-01 06:00:00</th>\n",
       "      <td>45.714286</td>\n",
       "      <td>11.801333</td>\n",
       "      <td>2021-02-01 06:00:00</td>\n",
       "      <td>2021-02-01</td>\n",
       "    </tr>\n",
       "    <tr>\n",
       "      <th>2021-02-01 07:00:00</th>\n",
       "      <td>129.616667</td>\n",
       "      <td>15.322333</td>\n",
       "      <td>2021-02-01 07:00:00</td>\n",
       "      <td>2021-02-01</td>\n",
       "    </tr>\n",
       "    <tr>\n",
       "      <th>2021-02-01 08:00:00</th>\n",
       "      <td>291.050000</td>\n",
       "      <td>21.514167</td>\n",
       "      <td>2021-02-01 08:00:00</td>\n",
       "      <td>2021-02-01</td>\n",
       "    </tr>\n",
       "    <tr>\n",
       "      <th>2021-02-01 09:00:00</th>\n",
       "      <td>658.066667</td>\n",
       "      <td>34.237000</td>\n",
       "      <td>2021-02-01 09:00:00</td>\n",
       "      <td>2021-02-01</td>\n",
       "    </tr>\n",
       "    <tr>\n",
       "      <th>2021-02-01 10:00:00</th>\n",
       "      <td>674.716667</td>\n",
       "      <td>35.393051</td>\n",
       "      <td>2021-02-01 10:00:00</td>\n",
       "      <td>2021-02-01</td>\n",
       "    </tr>\n",
       "    <tr>\n",
       "      <th>...</th>\n",
       "      <td>...</td>\n",
       "      <td>...</td>\n",
       "      <td>...</td>\n",
       "      <td>...</td>\n",
       "    </tr>\n",
       "    <tr>\n",
       "      <th>2021-10-31 12:00:00</th>\n",
       "      <td>1402.250000</td>\n",
       "      <td>45.145667</td>\n",
       "      <td>2021-10-31 12:00:00</td>\n",
       "      <td>2021-10-31</td>\n",
       "    </tr>\n",
       "    <tr>\n",
       "      <th>2021-10-31 13:00:00</th>\n",
       "      <td>1448.083333</td>\n",
       "      <td>42.948500</td>\n",
       "      <td>2021-10-31 13:00:00</td>\n",
       "      <td>2021-10-31</td>\n",
       "    </tr>\n",
       "    <tr>\n",
       "      <th>2021-10-31 14:00:00</th>\n",
       "      <td>1115.516667</td>\n",
       "      <td>38.936667</td>\n",
       "      <td>2021-10-31 14:00:00</td>\n",
       "      <td>2021-10-31</td>\n",
       "    </tr>\n",
       "    <tr>\n",
       "      <th>2021-10-31 15:00:00</th>\n",
       "      <td>560.266667</td>\n",
       "      <td>31.209333</td>\n",
       "      <td>2021-10-31 15:00:00</td>\n",
       "      <td>2021-10-31</td>\n",
       "    </tr>\n",
       "    <tr>\n",
       "      <th>2021-10-31 16:00:00</th>\n",
       "      <td>295.978261</td>\n",
       "      <td>23.489333</td>\n",
       "      <td>2021-10-31 16:00:00</td>\n",
       "      <td>2021-10-31</td>\n",
       "    </tr>\n",
       "  </tbody>\n",
       "</table>\n",
       "<p>3003 rows × 4 columns</p>\n",
       "</div>"
      ],
      "text/plain": [
       "                             Pac       Tmod               Fecha        Date\n",
       "Fecha                                                                      \n",
       "2021-02-01 06:00:00    45.714286  11.801333 2021-02-01 06:00:00  2021-02-01\n",
       "2021-02-01 07:00:00   129.616667  15.322333 2021-02-01 07:00:00  2021-02-01\n",
       "2021-02-01 08:00:00   291.050000  21.514167 2021-02-01 08:00:00  2021-02-01\n",
       "2021-02-01 09:00:00   658.066667  34.237000 2021-02-01 09:00:00  2021-02-01\n",
       "2021-02-01 10:00:00   674.716667  35.393051 2021-02-01 10:00:00  2021-02-01\n",
       "...                          ...        ...                 ...         ...\n",
       "2021-10-31 12:00:00  1402.250000  45.145667 2021-10-31 12:00:00  2021-10-31\n",
       "2021-10-31 13:00:00  1448.083333  42.948500 2021-10-31 13:00:00  2021-10-31\n",
       "2021-10-31 14:00:00  1115.516667  38.936667 2021-10-31 14:00:00  2021-10-31\n",
       "2021-10-31 15:00:00   560.266667  31.209333 2021-10-31 15:00:00  2021-10-31\n",
       "2021-10-31 16:00:00   295.978261  23.489333 2021-10-31 16:00:00  2021-10-31\n",
       "\n",
       "[3003 rows x 4 columns]"
      ]
     },
     "execution_count": 322,
     "metadata": {},
     "output_type": "execute_result"
    }
   ],
   "source": [
    "df_t = df_f[fecha_ini: fecha_fin][df_columns]\n",
    "df_t['Fecha'] = df_t.index\n",
    "df_t['Date'] = df_t.index.date\n",
    "df_t"
   ]
  },
  {
   "cell_type": "code",
   "execution_count": 323,
   "metadata": {},
   "outputs": [
    {
     "name": "stdout",
     "output_type": "stream",
     "text": [
      "[[205.11786 203.83694 467.84912 656.6301  805.589   918.4612  930.1508\n",
      "  952.4798  826.78064 672.7269  517.5668 ]]\n"
     ]
    },
    {
     "data": {
      "text/plain": [
       "Fecha\n",
       "2021-02-02 06:00:00    205.117859\n",
       "2021-02-02 07:00:00    203.836945\n",
       "2021-02-02 08:00:00    467.849121\n",
       "2021-02-02 09:00:00    656.630127\n",
       "2021-02-02 10:00:00    805.588989\n",
       "                          ...    \n",
       "2021-10-31 12:00:00    895.512268\n",
       "2021-10-31 13:00:00    869.339233\n",
       "2021-10-31 14:00:00    735.284241\n",
       "2021-10-31 15:00:00    452.882812\n",
       "2021-10-31 16:00:00    136.648438\n",
       "Length: 2992, dtype: float32"
      ]
     },
     "execution_count": 323,
     "metadata": {},
     "output_type": "execute_result"
    }
   ],
   "source": [
    "series_t = None\n",
    "for dtime in list(df_t.Date.drop_duplicates())[:-1]:\n",
    "#     print(dtime)\n",
    "    x_input = df_t[str(dtime)][df_columns].values.reshape((1,11,2)) \n",
    "    pred = new_model.predict(x_input)\n",
    "    if series_t is None:\n",
    "        print(pred)\n",
    "        series_t = pd.Series(pred.ravel(), df_t[str(dtime+ dt.timedelta(days=1))].index)\n",
    "    else :\n",
    "        series_t = series_t.append(pd.Series(pred.ravel(), df_t[str(dtime+ dt.timedelta(days=1))].index))\n",
    "series_t"
   ]
  },
  {
   "cell_type": "code",
   "execution_count": 324,
   "metadata": {},
   "outputs": [],
   "source": [
    "df_t['pred']= series_t"
   ]
  },
  {
   "cell_type": "code",
   "execution_count": 325,
   "metadata": {},
   "outputs": [
    {
     "data": {
      "text/plain": [
       "'graficos/1dcnn_Chachapoyas_HIT'"
      ]
     },
     "execution_count": 325,
     "metadata": {},
     "output_type": "execute_result"
    }
   ],
   "source": [
    "image_dir =  f'graficos/{model_path.split(\"/\")[-1]}'\n",
    "image_dir"
   ]
  },
  {
   "cell_type": "code",
   "execution_count": 326,
   "metadata": {},
   "outputs": [
    {
     "name": "stdout",
     "output_type": "stream",
     "text": [
      "mkdir: cannot create directory ‘graficos’: File exists\n"
     ]
    }
   ],
   "source": [
    "!mkdir graficos"
   ]
  },
  {
   "cell_type": "code",
   "execution_count": 328,
   "metadata": {},
   "outputs": [
    {
     "name": "stdout",
     "output_type": "stream",
     "text": [
      "mkdir: cannot create directory ‘graficos/1dcnn_Chachapoyas_HIT’: File exists\n"
     ]
    }
   ],
   "source": [
    "!mkdir {image_dir}"
   ]
  },
  {
   "cell_type": "code",
   "execution_count": 329,
   "metadata": {},
   "outputs": [
    {
     "name": "stdout",
     "output_type": "stream",
     "text": [
      "[('2021-02-05', 'graficos/1dcnn_Chachapoyas_HIT/1dcnn_Chachapoyas_HIT-2021-02-05.png', 'graficos/1dcnn_Chachapoyas_HIT/current_day_1dcnn_Chachapoyas_HIT-2021-02-05.png', 112.53677263071994, 113.30160103878855), ('2021-02-06', 'graficos/1dcnn_Chachapoyas_HIT/1dcnn_Chachapoyas_HIT-2021-02-06.png', 'graficos/1dcnn_Chachapoyas_HIT/current_day_1dcnn_Chachapoyas_HIT-2021-02-06.png', 104.08115971113446, 112.53677263071994)]\n"
     ]
    },
    {
     "data": {
      "text/plain": [
       "269"
      ]
     },
     "execution_count": 329,
     "metadata": {},
     "output_type": "execute_result"
    },
    {
     "data": {
      "text/plain": [
       "<Figure size 432x288 with 0 Axes>"
      ]
     },
     "metadata": {},
     "output_type": "display_data"
    }
   ],
   "source": [
    "ls = []\n",
    "for dtime in list(df_t.Date.drop_duplicates())[4:]:\n",
    "    \n",
    "    #previous day fig\n",
    "#     print(dtime)\n",
    "    pac = df_t[str(dtime)]['Pac']\n",
    "    pred = df_t[str(dtime)]['pred']\n",
    "    pac_1 = df_t[str(dtime- dt.timedelta(days=1))]['Pac']\n",
    "    pred_1 = df_t[str(dtime- dt.timedelta(days=1))]['pred']\n",
    "    pac_2 = df_t[str(dtime- dt.timedelta(days=2))]['Pac']\n",
    "    pred_2 = df_t[str(dtime- dt.timedelta(days=2))]['pred']\n",
    "#     pac_3 = df_t[str(dtime- dt.timedelta(days=3))]['Pac']\n",
    "#     pred_3 = df_t[str(dtime- dt.timedelta(days=3))]['pred']\n",
    "    \n",
    "#     pac_3.plot(color='r', marker='o', markersize=4)\n",
    "#     pred_3.plot(color='g', marker='o', markersize=4)\n",
    "    pac_2.plot(color='r', marker='o', markersize=4)\n",
    "    pred_2.plot(color='g', marker='o', markersize=4)\n",
    "    pac_1.plot(color='r', marker='o', markersize=4)\n",
    "    pred_1.plot(color='g', marker='o', markersize=4)\n",
    "    pac.plot(color='r', marker='o', markersize=4)\n",
    "    pred.plot(color='g', marker='o', markersize=4)\n",
    "    \n",
    "    plt.legend(['Pac real', 'Pac predicho'])\n",
    "    plt.ylabel('Pac (W)')\n",
    "    plt.xlabel('Fecha y hora')\n",
    "    name = f'graficos/{model_path.split(\"/\")[-1]}/{model_path.split(\"/\")[-1]}-{str(dtime)}.png'\n",
    "    plt.savefig(name,bbox_inches='tight')\n",
    "#     plt.savefig('images/p3.png',bbox_inches='tight')\n",
    "    plt.clf()\n",
    "    \n",
    "    #current day fig\n",
    "    \n",
    "    pac = df_t[str(dtime)]['Pac']\n",
    "    pred = df_t[str(dtime)]['pred']\n",
    "    pac_1 = df_t[str(dtime- dt.timedelta(days=1))]['Pac']\n",
    "    pred_1 = df_t[str(dtime- dt.timedelta(days=1))]['pred']\n",
    "    pac_2 = df_t[str(dtime- dt.timedelta(days=2))]['Pac']\n",
    "    pred_2 = df_t[str(dtime- dt.timedelta(days=2))]['pred']\n",
    "#     pac_3 = df_t[str(dtime- dt.timedelta(days=3))]['Pac']\n",
    "#     pred_3 = df_t[str(dtime- dt.timedelta(days=3))]['pred']\n",
    "    \n",
    "#     pac_3.plot(color='r', marker='o', markersize=4)\n",
    "#     pred_3.plot(color='g', marker='o', markersize=4)\n",
    "    pac_2.plot(color='r', marker='o', markersize=4)\n",
    "    pred_2.plot(color='g', marker='o', markersize=4)\n",
    "    pac_1.plot(color='r', marker='o', markersize=4)\n",
    "    pred_1.plot(color='g', marker='o', markersize=4)\n",
    "#     pac.plot(color='r', marker='o', markersize=4)\n",
    "    pred.plot(color='g', marker='o', markersize=4)\n",
    "    \n",
    "    plt.legend(['Pac real', 'Pac predicho'])\n",
    "    plt.ylabel('Pac (W)')\n",
    "    plt.xlabel('Fecha y hora')\n",
    "    name_current_day = f'graficos/{model_path.split(\"/\")[-1]}/current_day_{model_path.split(\"/\")[-1]}-{str(dtime)}.png'\n",
    "    \n",
    "    plt.savefig(name_current_day,bbox_inches='tight')\n",
    "    plt.clf()\n",
    "\n",
    "    ls.append((str(dtime), name, name_current_day,\\\n",
    "               math.sqrt(mean_squared_error(pac, pred)),\\\n",
    "               math.sqrt(mean_squared_error(pac_1, pred_1))))\n",
    "#     break\n",
    "print(ls[:2])\n",
    "len(ls)\n"
   ]
  },
  {
   "cell_type": "code",
   "execution_count": 148,
   "metadata": {},
   "outputs": [],
   "source": [
    "# list(df_t.Date.drop_duplicates())[1:-1]"
   ]
  },
  {
   "cell_type": "code",
   "execution_count": 309,
   "metadata": {},
   "outputs": [],
   "source": [
    "# ls"
   ]
  },
  {
   "cell_type": "code",
   "execution_count": 330,
   "metadata": {},
   "outputs": [],
   "source": [
    "ml_model_id = 3\n",
    "metric_name = 'RMSE'\n",
    "date = ''\n",
    "value = ''\n",
    "previous_value = ''\n",
    "imag_path = ''\n",
    "current_img_path = ''"
   ]
  },
  {
   "cell_type": "code",
   "execution_count": 331,
   "metadata": {},
   "outputs": [
    {
     "data": {
      "text/plain": [
       "\"\\nINSERT INTO `DBTesis`.`metrics` (`ml_model_id`, `metric_name`, `date`, `value`, `previous_value`, `metric_image_path`, `metric_current_image_path`)\\nVALUES ('f', 'f', 'f', 'f', 'f', 'f','f');\\n\""
      ]
     },
     "execution_count": 331,
     "metadata": {},
     "output_type": "execute_result"
    }
   ],
   "source": [
    "\"\"\"\n",
    "INSERT INTO `DBTesis`.`metrics` (`ml_model_id`, `metric_name`, `date`, `value`, `previous_value`, `metric_image_path`, `metric_current_image_path`)\n",
    "VALUES ('f', 'f', 'f', 'f', 'f', 'f','f');\n",
    "\"\"\""
   ]
  },
  {
   "cell_type": "code",
   "execution_count": 332,
   "metadata": {},
   "outputs": [],
   "source": [
    "stri = ''\n",
    "for l in ls:\n",
    "    date = l[0]\n",
    "    imag_path=l[1]\n",
    "    current_img_path = l[2]\n",
    "    value=l[3]\n",
    "    previous_value=l[4]\n",
    "    stri +=f\"\"\"\n",
    "INSERT INTO `DBTesis`.`metrics` (`ml_model_id`, `metric_name`, `date`, `value`, `previous_value`, `metric_image_path`, `metric_current_image_path`)\n",
    "VALUES ({ml_model_id}, '{metric_name}', '{date}', {value}, {previous_value}, '{imag_path}','{current_img_path}');\n",
    "\"\"\""
   ]
  },
  {
   "cell_type": "code",
   "execution_count": 333,
   "metadata": {},
   "outputs": [
    {
     "data": {
      "text/plain": [
       "269"
      ]
     },
     "execution_count": 333,
     "metadata": {},
     "output_type": "execute_result"
    }
   ],
   "source": [
    "len(stri.split('\\n\\n'))"
   ]
  },
  {
   "cell_type": "code",
   "execution_count": 334,
   "metadata": {},
   "outputs": [],
   "source": [
    "# stri_chachapoyas_actual_cnn = stri"
   ]
  },
  {
   "cell_type": "code",
   "execution_count": 452,
   "metadata": {},
   "outputs": [],
   "source": [
    "#Imprimir comando INSERT INTO\n",
    "#Mismo que cnn\n",
    "# print(stri_chachapoyas_actual_cnn)\n",
    "\n"
   ]
  },
  {
   "cell_type": "code",
   "execution_count": null,
   "metadata": {},
   "outputs": [],
   "source": []
  },
  {
   "cell_type": "code",
   "execution_count": null,
   "metadata": {},
   "outputs": [],
   "source": []
  },
  {
   "cell_type": "markdown",
   "metadata": {},
   "source": [
    "\n",
    "# Gráficos Juliaca"
   ]
  },
  {
   "cell_type": "markdown",
   "metadata": {},
   "source": [
    "## Datos HIT Transfered"
   ]
  },
  {
   "cell_type": "code",
   "execution_count": 453,
   "metadata": {},
   "outputs": [
    {
     "name": "stdout",
     "output_type": "stream",
     "text": [
      "llenado_Arequipa_UNSA_CIGS_agg_day_hour.csv\n",
      "llenado_Arequipa_UNSA_HIT_agg_day_hour.csv\n",
      "llenado_Arequipa_UNSA_PERC_agg_day_hour.csv\n",
      "llenado_Chachapoyas_UNTRM_CIGS_agg_day_hour.csv\n",
      "llenado_Chachapoyas_UNTRM_HIT_agg_day_hour.csv\n",
      "llenado_Chachapoyas_UNTRM_PERC_agg_day_hour.csv\n",
      "llenado_Juliaca_UNAJ_CIGS_agg_day_hour.csv\n",
      "llenado_Juliaca_UNAJ_HIT_agg_day_hour.csv\n",
      "llenado_Juliaca_UNAJ_PERC_agg_day_hour.csv\n",
      "llenado_Lima_PUCP_CIGS_agg_day_hour.csv\n",
      "llenado_Lima_PUCP_HIT_agg_day_hour.csv\n",
      "llenado_Lima_PUCP_PERC_agg_day_hour.csv\n",
      "llenado_Tacna_UNJBG_CIGS_agg_day_hour.csv\n",
      "llenado_Tacna_UNJBG_HIT_agg_day_hour.csv\n",
      "llenado_Tacna_UNJBG_PERC_agg_day_hour.csv\n"
     ]
    }
   ],
   "source": [
    "!ls {data_path}"
   ]
  },
  {
   "cell_type": "markdown",
   "metadata": {},
   "source": [
    "### Lectura de datos"
   ]
  },
  {
   "cell_type": "code",
   "execution_count": 458,
   "metadata": {},
   "outputs": [],
   "source": [
    "data_file = data_path+'llenado_Juliaca_UNAJ_HIT_agg_day_hour.csv'\n",
    "model_path = 'saved_models/1dcnn_Chachapoyas_to_Juliaca_HIT'\n",
    "model = '1dcnn'\n",
    "technology = 'HIT'\n",
    "ubicacion = 'ChachapoyasToJuliaca'\n",
    "df_columns = ['Pac', 'Tmod']\n",
    "fecha_ini = '2021-02-01'\n",
    "fecha_fin = '2021-10-31'"
   ]
  },
  {
   "cell_type": "code",
   "execution_count": 509,
   "metadata": {},
   "outputs": [
    {
     "data": {
      "text/plain": [
       "'/data/dibanez/tesis/data_preprocesada/2.llenada/llenado_Juliaca_UNAJ_HIT_agg_day_hour.csv'"
      ]
     },
     "execution_count": 509,
     "metadata": {},
     "output_type": "execute_result"
    }
   ],
   "source": [
    "data_file"
   ]
  },
  {
   "cell_type": "code",
   "execution_count": 459,
   "metadata": {},
   "outputs": [
    {
     "name": "stdout",
     "output_type": "stream",
     "text": [
      "(2098, 10)\n"
     ]
    },
    {
     "data": {
      "text/html": [
       "<div>\n",
       "<style scoped>\n",
       "    .dataframe tbody tr th:only-of-type {\n",
       "        vertical-align: middle;\n",
       "    }\n",
       "\n",
       "    .dataframe tbody tr th {\n",
       "        vertical-align: top;\n",
       "    }\n",
       "\n",
       "    .dataframe thead th {\n",
       "        text-align: right;\n",
       "    }\n",
       "</style>\n",
       "<table border=\"1\" class=\"dataframe\">\n",
       "  <thead>\n",
       "    <tr style=\"text-align: right;\">\n",
       "      <th></th>\n",
       "      <th>index</th>\n",
       "      <th>Fecha</th>\n",
       "      <th>Tamb</th>\n",
       "      <th>Tmod</th>\n",
       "      <th>Irradiancia</th>\n",
       "      <th>Vdc</th>\n",
       "      <th>Idc</th>\n",
       "      <th>Paparente</th>\n",
       "      <th>Pac</th>\n",
       "      <th>Pdc</th>\n",
       "    </tr>\n",
       "  </thead>\n",
       "  <tbody>\n",
       "    <tr>\n",
       "      <th>0</th>\n",
       "      <td>0</td>\n",
       "      <td>2021-04-24 09:00:00</td>\n",
       "      <td>NaN</td>\n",
       "      <td>34.972500</td>\n",
       "      <td>NaN</td>\n",
       "      <td>280.775139</td>\n",
       "      <td>4.749689</td>\n",
       "      <td>1280.711111</td>\n",
       "      <td>725.25</td>\n",
       "      <td>1335.512452</td>\n",
       "    </tr>\n",
       "    <tr>\n",
       "      <th>1</th>\n",
       "      <td>1</td>\n",
       "      <td>2021-04-24 10:00:00</td>\n",
       "      <td>NaN</td>\n",
       "      <td>35.085333</td>\n",
       "      <td>NaN</td>\n",
       "      <td>286.157139</td>\n",
       "      <td>4.822428</td>\n",
       "      <td>1329.452778</td>\n",
       "      <td>1422.00</td>\n",
       "      <td>1383.670669</td>\n",
       "    </tr>\n",
       "    <tr>\n",
       "      <th>2</th>\n",
       "      <td>2</td>\n",
       "      <td>2021-04-24 11:00:00</td>\n",
       "      <td>NaN</td>\n",
       "      <td>40.175500</td>\n",
       "      <td>NaN</td>\n",
       "      <td>292.318028</td>\n",
       "      <td>4.879322</td>\n",
       "      <td>1379.002778</td>\n",
       "      <td>1152.00</td>\n",
       "      <td>1433.825000</td>\n",
       "    </tr>\n",
       "    <tr>\n",
       "      <th>3</th>\n",
       "      <td>3</td>\n",
       "      <td>2021-04-24 12:00:00</td>\n",
       "      <td>NaN</td>\n",
       "      <td>44.957333</td>\n",
       "      <td>NaN</td>\n",
       "      <td>288.280642</td>\n",
       "      <td>4.392036</td>\n",
       "      <td>1229.313272</td>\n",
       "      <td>1463.75</td>\n",
       "      <td>1278.857407</td>\n",
       "    </tr>\n",
       "    <tr>\n",
       "      <th>4</th>\n",
       "      <td>4</td>\n",
       "      <td>2021-04-24 13:00:00</td>\n",
       "      <td>NaN</td>\n",
       "      <td>39.497586</td>\n",
       "      <td>NaN</td>\n",
       "      <td>282.816713</td>\n",
       "      <td>4.245637</td>\n",
       "      <td>1154.008380</td>\n",
       "      <td>1480.75</td>\n",
       "      <td>1203.392830</td>\n",
       "    </tr>\n",
       "  </tbody>\n",
       "</table>\n",
       "</div>"
      ],
      "text/plain": [
       "   index               Fecha  Tamb       Tmod  Irradiancia         Vdc  \\\n",
       "0      0 2021-04-24 09:00:00   NaN  34.972500          NaN  280.775139   \n",
       "1      1 2021-04-24 10:00:00   NaN  35.085333          NaN  286.157139   \n",
       "2      2 2021-04-24 11:00:00   NaN  40.175500          NaN  292.318028   \n",
       "3      3 2021-04-24 12:00:00   NaN  44.957333          NaN  288.280642   \n",
       "4      4 2021-04-24 13:00:00   NaN  39.497586          NaN  282.816713   \n",
       "\n",
       "        Idc    Paparente      Pac          Pdc  \n",
       "0  4.749689  1280.711111   725.25  1335.512452  \n",
       "1  4.822428  1329.452778  1422.00  1383.670669  \n",
       "2  4.879322  1379.002778  1152.00  1433.825000  \n",
       "3  4.392036  1229.313272  1463.75  1278.857407  \n",
       "4  4.245637  1154.008380  1480.75  1203.392830  "
      ]
     },
     "execution_count": 459,
     "metadata": {},
     "output_type": "execute_result"
    }
   ],
   "source": [
    "df = pd.read_csv(data_file, parse_dates=True)\n",
    "df.Fecha = pd.to_datetime(df.Fecha)\n",
    "df=df.reset_index()\n",
    "print_df(df)"
   ]
  },
  {
   "cell_type": "code",
   "execution_count": 460,
   "metadata": {},
   "outputs": [
    {
     "name": "stdout",
     "output_type": "stream",
     "text": [
      "2021-04-24 09:00:00\n",
      "2021-10-31 16:00:00\n"
     ]
    }
   ],
   "source": [
    "print(df.Fecha.min())\n",
    "print(df.Fecha.max())"
   ]
  },
  {
   "cell_type": "code",
   "execution_count": 461,
   "metadata": {},
   "outputs": [
    {
     "data": {
      "text/plain": [
       "index          0.0\n",
       "Fecha          0.0\n",
       "Tamb           1.0\n",
       "Tmod           0.0\n",
       "Irradiancia    1.0\n",
       "Vdc            0.0\n",
       "Idc            0.0\n",
       "Paparente      0.0\n",
       "Pac            0.0\n",
       "Pdc            0.0\n",
       "dtype: float64"
      ]
     },
     "execution_count": 461,
     "metadata": {},
     "output_type": "execute_result"
    }
   ],
   "source": [
    "df.isna().sum()/len(df)"
   ]
  },
  {
   "cell_type": "markdown",
   "metadata": {},
   "source": [
    "### Preprocesamiento"
   ]
  },
  {
   "cell_type": "code",
   "execution_count": 462,
   "metadata": {},
   "outputs": [],
   "source": [
    "start = df.iloc[0]['Fecha']"
   ]
  },
  {
   "cell_type": "code",
   "execution_count": 463,
   "metadata": {},
   "outputs": [],
   "source": [
    "df['Fecha_cod'] = pd.date_range(freq='H', start=start, periods=len(df))\n",
    "# df.head(13)"
   ]
  },
  {
   "cell_type": "code",
   "execution_count": 464,
   "metadata": {},
   "outputs": [],
   "source": [
    "series_raw = TimeSeries.from_dataframe(df, 'Fecha_cod', df_columns)#,'Irradiancia'])#, freq='H')\n"
   ]
  },
  {
   "cell_type": "code",
   "execution_count": 465,
   "metadata": {},
   "outputs": [],
   "source": [
    "col_obj = 'Pac'"
   ]
  },
  {
   "cell_type": "code",
   "execution_count": 466,
   "metadata": {},
   "outputs": [
    {
     "data": {
      "image/png": "[encoded data removed]",
      "text/plain": [
       "<Figure size 432x288 with 1 Axes>"
      ]
     },
     "metadata": {
      "needs_background": "light"
     },
     "output_type": "display_data"
    }
   ],
   "source": [
    "series_raw[0:30][col_obj].plot()"
   ]
  },
  {
   "cell_type": "code",
   "execution_count": 467,
   "metadata": {},
   "outputs": [
    {
     "data": {
      "image/png": "[encoded data removed]",
      "text/plain": [
       "<Figure size 432x288 with 1 Axes>"
      ]
     },
     "metadata": {
      "needs_background": "light"
     },
     "output_type": "display_data"
    }
   ],
   "source": [
    "series_raw.plot()"
   ]
  },
  {
   "cell_type": "code",
   "execution_count": 468,
   "metadata": {},
   "outputs": [
    {
     "data": {
      "image/png": "[encoded data removed]",
      "text/plain": [
       "<Figure size 432x288 with 1 Axes>"
      ]
     },
     "metadata": {
      "needs_background": "light"
     },
     "output_type": "display_data"
    }
   ],
   "source": [
    "# TODO\n",
    "filler = MissingValuesFiller()\n",
    "series = filler.transform(series_raw, method='linear')\n",
    "series.plot()"
   ]
  },
  {
   "cell_type": "code",
   "execution_count": 469,
   "metadata": {},
   "outputs": [
    {
     "data": {
      "text/plain": [
       "0"
      ]
     },
     "execution_count": 469,
     "metadata": {},
     "output_type": "execute_result"
    }
   ],
   "source": [
    "(series.values() != series_raw.values()).sum()"
   ]
  },
  {
   "cell_type": "code",
   "execution_count": 470,
   "metadata": {},
   "outputs": [],
   "source": [
    "# len(series)"
   ]
  },
  {
   "cell_type": "code",
   "execution_count": 471,
   "metadata": {},
   "outputs": [],
   "source": [
    "# new_data = pd.DataFrame(series.values(), columns=df_columns)\n",
    "# new_data"
   ]
  },
  {
   "cell_type": "code",
   "execution_count": 472,
   "metadata": {},
   "outputs": [],
   "source": [
    "# df[df_columns] = new_data\n",
    "# df.head()"
   ]
  },
  {
   "cell_type": "code",
   "execution_count": 473,
   "metadata": {},
   "outputs": [
    {
     "data": {
      "text/plain": [
       "index             0\n",
       "Fecha             0\n",
       "Tamb           2098\n",
       "Tmod              0\n",
       "Irradiancia    2098\n",
       "Vdc               0\n",
       "Idc               0\n",
       "Paparente         0\n",
       "Pac               0\n",
       "Pdc               0\n",
       "Fecha_cod         0\n",
       "dtype: int64"
      ]
     },
     "execution_count": 473,
     "metadata": {},
     "output_type": "execute_result"
    }
   ],
   "source": [
    "df.isna().sum()"
   ]
  },
  {
   "cell_type": "markdown",
   "metadata": {},
   "source": [
    "## Predicción CNN"
   ]
  },
  {
   "cell_type": "code",
   "execution_count": null,
   "metadata": {},
   "outputs": [],
   "source": []
  },
  {
   "cell_type": "code",
   "execution_count": 474,
   "metadata": {},
   "outputs": [
    {
     "name": "stdout",
     "output_type": "stream",
     "text": [
      "Model: \"sequential_1\"\n",
      "_________________________________________________________________\n",
      "Layer (type)                 Output Shape              Param #   \n",
      "=================================================================\n",
      "conv1d_1 (Conv1D)            (None, 10, 64)            320       \n",
      "_________________________________________________________________\n",
      "max_pooling1d_1 (MaxPooling1 (None, 5, 64)             0         \n",
      "_________________________________________________________________\n",
      "flatten_1 (Flatten)          (None, 320)               0         \n",
      "_________________________________________________________________\n",
      "dense_1 (Dense)              (None, 50)                16050     \n",
      "_________________________________________________________________\n",
      "dense_2 (Dense)              (None, 11)                561       \n",
      "=================================================================\n",
      "Total params: 16,931\n",
      "Trainable params: 16,611\n",
      "Non-trainable params: 320\n",
      "_________________________________________________________________\n"
     ]
    }
   ],
   "source": [
    "new_model = tf.keras.models.load_model(model_path)\n",
    "new_model.summary()"
   ]
  },
  {
   "cell_type": "code",
   "execution_count": 475,
   "metadata": {},
   "outputs": [
    {
     "name": "stdout",
     "output_type": "stream",
     "text": [
      "(2098, 10)\n"
     ]
    },
    {
     "data": {
      "text/html": [
       "<div>\n",
       "<style scoped>\n",
       "    .dataframe tbody tr th:only-of-type {\n",
       "        vertical-align: middle;\n",
       "    }\n",
       "\n",
       "    .dataframe tbody tr th {\n",
       "        vertical-align: top;\n",
       "    }\n",
       "\n",
       "    .dataframe thead th {\n",
       "        text-align: right;\n",
       "    }\n",
       "</style>\n",
       "<table border=\"1\" class=\"dataframe\">\n",
       "  <thead>\n",
       "    <tr style=\"text-align: right;\">\n",
       "      <th></th>\n",
       "      <th>index</th>\n",
       "      <th>Tamb</th>\n",
       "      <th>Tmod</th>\n",
       "      <th>Irradiancia</th>\n",
       "      <th>Vdc</th>\n",
       "      <th>Idc</th>\n",
       "      <th>Paparente</th>\n",
       "      <th>Pac</th>\n",
       "      <th>Pdc</th>\n",
       "      <th>Fecha_cod</th>\n",
       "    </tr>\n",
       "    <tr>\n",
       "      <th>Fecha</th>\n",
       "      <th></th>\n",
       "      <th></th>\n",
       "      <th></th>\n",
       "      <th></th>\n",
       "      <th></th>\n",
       "      <th></th>\n",
       "      <th></th>\n",
       "      <th></th>\n",
       "      <th></th>\n",
       "      <th></th>\n",
       "    </tr>\n",
       "  </thead>\n",
       "  <tbody>\n",
       "    <tr>\n",
       "      <th>2021-04-24 09:00:00</th>\n",
       "      <td>0</td>\n",
       "      <td>NaN</td>\n",
       "      <td>34.972500</td>\n",
       "      <td>NaN</td>\n",
       "      <td>280.775139</td>\n",
       "      <td>4.749689</td>\n",
       "      <td>1280.711111</td>\n",
       "      <td>725.25</td>\n",
       "      <td>1335.512452</td>\n",
       "      <td>2021-04-24 09:00:00</td>\n",
       "    </tr>\n",
       "    <tr>\n",
       "      <th>2021-04-24 10:00:00</th>\n",
       "      <td>1</td>\n",
       "      <td>NaN</td>\n",
       "      <td>35.085333</td>\n",
       "      <td>NaN</td>\n",
       "      <td>286.157139</td>\n",
       "      <td>4.822428</td>\n",
       "      <td>1329.452778</td>\n",
       "      <td>1422.00</td>\n",
       "      <td>1383.670669</td>\n",
       "      <td>2021-04-24 10:00:00</td>\n",
       "    </tr>\n",
       "    <tr>\n",
       "      <th>2021-04-24 11:00:00</th>\n",
       "      <td>2</td>\n",
       "      <td>NaN</td>\n",
       "      <td>40.175500</td>\n",
       "      <td>NaN</td>\n",
       "      <td>292.318028</td>\n",
       "      <td>4.879322</td>\n",
       "      <td>1379.002778</td>\n",
       "      <td>1152.00</td>\n",
       "      <td>1433.825000</td>\n",
       "      <td>2021-04-24 11:00:00</td>\n",
       "    </tr>\n",
       "    <tr>\n",
       "      <th>2021-04-24 12:00:00</th>\n",
       "      <td>3</td>\n",
       "      <td>NaN</td>\n",
       "      <td>44.957333</td>\n",
       "      <td>NaN</td>\n",
       "      <td>288.280642</td>\n",
       "      <td>4.392036</td>\n",
       "      <td>1229.313272</td>\n",
       "      <td>1463.75</td>\n",
       "      <td>1278.857407</td>\n",
       "      <td>2021-04-24 12:00:00</td>\n",
       "    </tr>\n",
       "    <tr>\n",
       "      <th>2021-04-24 13:00:00</th>\n",
       "      <td>4</td>\n",
       "      <td>NaN</td>\n",
       "      <td>39.497586</td>\n",
       "      <td>NaN</td>\n",
       "      <td>282.816713</td>\n",
       "      <td>4.245637</td>\n",
       "      <td>1154.008380</td>\n",
       "      <td>1480.75</td>\n",
       "      <td>1203.392830</td>\n",
       "      <td>2021-04-24 13:00:00</td>\n",
       "    </tr>\n",
       "  </tbody>\n",
       "</table>\n",
       "</div>"
      ],
      "text/plain": [
       "                     index  Tamb       Tmod  Irradiancia         Vdc  \\\n",
       "Fecha                                                                  \n",
       "2021-04-24 09:00:00      0   NaN  34.972500          NaN  280.775139   \n",
       "2021-04-24 10:00:00      1   NaN  35.085333          NaN  286.157139   \n",
       "2021-04-24 11:00:00      2   NaN  40.175500          NaN  292.318028   \n",
       "2021-04-24 12:00:00      3   NaN  44.957333          NaN  288.280642   \n",
       "2021-04-24 13:00:00      4   NaN  39.497586          NaN  282.816713   \n",
       "\n",
       "                          Idc    Paparente      Pac          Pdc  \\\n",
       "Fecha                                                              \n",
       "2021-04-24 09:00:00  4.749689  1280.711111   725.25  1335.512452   \n",
       "2021-04-24 10:00:00  4.822428  1329.452778  1422.00  1383.670669   \n",
       "2021-04-24 11:00:00  4.879322  1379.002778  1152.00  1433.825000   \n",
       "2021-04-24 12:00:00  4.392036  1229.313272  1463.75  1278.857407   \n",
       "2021-04-24 13:00:00  4.245637  1154.008380  1480.75  1203.392830   \n",
       "\n",
       "                              Fecha_cod  \n",
       "Fecha                                    \n",
       "2021-04-24 09:00:00 2021-04-24 09:00:00  \n",
       "2021-04-24 10:00:00 2021-04-24 10:00:00  \n",
       "2021-04-24 11:00:00 2021-04-24 11:00:00  \n",
       "2021-04-24 12:00:00 2021-04-24 12:00:00  \n",
       "2021-04-24 13:00:00 2021-04-24 13:00:00  "
      ]
     },
     "execution_count": 475,
     "metadata": {},
     "output_type": "execute_result"
    }
   ],
   "source": [
    "df_f = df.set_index('Fecha')\n",
    "print_df(df_f)"
   ]
  },
  {
   "cell_type": "code",
   "execution_count": 478,
   "metadata": {},
   "outputs": [
    {
     "data": {
      "text/plain": [
       "array([[ 725.25      ,   34.9725    ],\n",
       "       [1422.        ,   35.08533333],\n",
       "       [1152.        ,   40.1755    ],\n",
       "       [1463.75      ,   44.95733333],\n",
       "       [1480.75      ,   39.49758621],\n",
       "       [1286.25      ,   37.2605    ],\n",
       "       [ 925.5       ,   29.95728814],\n",
       "       [ 348.25      ,   17.35116667]])"
      ]
     },
     "execution_count": 478,
     "metadata": {},
     "output_type": "execute_result"
    }
   ],
   "source": [
    "df_f[\"2021-04-24\"][df_columns].values"
   ]
  },
  {
   "cell_type": "code",
   "execution_count": 482,
   "metadata": {},
   "outputs": [],
   "source": [
    "fecha_ini = '2021-04-25'"
   ]
  },
  {
   "cell_type": "code",
   "execution_count": 483,
   "metadata": {},
   "outputs": [
    {
     "data": {
      "text/html": [
       "<div>\n",
       "<style scoped>\n",
       "    .dataframe tbody tr th:only-of-type {\n",
       "        vertical-align: middle;\n",
       "    }\n",
       "\n",
       "    .dataframe tbody tr th {\n",
       "        vertical-align: top;\n",
       "    }\n",
       "\n",
       "    .dataframe thead th {\n",
       "        text-align: right;\n",
       "    }\n",
       "</style>\n",
       "<table border=\"1\" class=\"dataframe\">\n",
       "  <thead>\n",
       "    <tr style=\"text-align: right;\">\n",
       "      <th></th>\n",
       "      <th>Pac</th>\n",
       "      <th>Tmod</th>\n",
       "      <th>Fecha</th>\n",
       "      <th>Date</th>\n",
       "    </tr>\n",
       "    <tr>\n",
       "      <th>Fecha</th>\n",
       "      <th></th>\n",
       "      <th></th>\n",
       "      <th></th>\n",
       "      <th></th>\n",
       "    </tr>\n",
       "  </thead>\n",
       "  <tbody>\n",
       "    <tr>\n",
       "      <th>2021-04-25 06:00:00</th>\n",
       "      <td>216.315789</td>\n",
       "      <td>-0.059831</td>\n",
       "      <td>2021-04-25 06:00:00</td>\n",
       "      <td>2021-04-25</td>\n",
       "    </tr>\n",
       "    <tr>\n",
       "      <th>2021-04-25 07:00:00</th>\n",
       "      <td>673.566667</td>\n",
       "      <td>15.071525</td>\n",
       "      <td>2021-04-25 07:00:00</td>\n",
       "      <td>2021-04-25</td>\n",
       "    </tr>\n",
       "    <tr>\n",
       "      <th>2021-04-25 08:00:00</th>\n",
       "      <td>1055.450000</td>\n",
       "      <td>23.211695</td>\n",
       "      <td>2021-04-25 08:00:00</td>\n",
       "      <td>2021-04-25</td>\n",
       "    </tr>\n",
       "    <tr>\n",
       "      <th>2021-04-25 09:00:00</th>\n",
       "      <td>1335.983333</td>\n",
       "      <td>34.972500</td>\n",
       "      <td>2021-04-25 09:00:00</td>\n",
       "      <td>2021-04-25</td>\n",
       "    </tr>\n",
       "    <tr>\n",
       "      <th>2021-04-25 10:00:00</th>\n",
       "      <td>1394.101695</td>\n",
       "      <td>35.085333</td>\n",
       "      <td>2021-04-25 10:00:00</td>\n",
       "      <td>2021-04-25</td>\n",
       "    </tr>\n",
       "    <tr>\n",
       "      <th>...</th>\n",
       "      <td>...</td>\n",
       "      <td>...</td>\n",
       "      <td>...</td>\n",
       "      <td>...</td>\n",
       "    </tr>\n",
       "    <tr>\n",
       "      <th>2021-10-31 12:00:00</th>\n",
       "      <td>1420.250000</td>\n",
       "      <td>832.520000</td>\n",
       "      <td>2021-10-31 12:00:00</td>\n",
       "      <td>2021-10-31</td>\n",
       "    </tr>\n",
       "    <tr>\n",
       "      <th>2021-10-31 13:00:00</th>\n",
       "      <td>742.500000</td>\n",
       "      <td>832.520000</td>\n",
       "      <td>2021-10-31 13:00:00</td>\n",
       "      <td>2021-10-31</td>\n",
       "    </tr>\n",
       "    <tr>\n",
       "      <th>2021-10-31 14:00:00</th>\n",
       "      <td>364.500000</td>\n",
       "      <td>832.520000</td>\n",
       "      <td>2021-10-31 14:00:00</td>\n",
       "      <td>2021-10-31</td>\n",
       "    </tr>\n",
       "    <tr>\n",
       "      <th>2021-10-31 15:00:00</th>\n",
       "      <td>177.500000</td>\n",
       "      <td>832.520000</td>\n",
       "      <td>2021-10-31 15:00:00</td>\n",
       "      <td>2021-10-31</td>\n",
       "    </tr>\n",
       "    <tr>\n",
       "      <th>2021-10-31 16:00:00</th>\n",
       "      <td>230.000000</td>\n",
       "      <td>832.520000</td>\n",
       "      <td>2021-10-31 16:00:00</td>\n",
       "      <td>2021-10-31</td>\n",
       "    </tr>\n",
       "  </tbody>\n",
       "</table>\n",
       "<p>2090 rows × 4 columns</p>\n",
       "</div>"
      ],
      "text/plain": [
       "                             Pac        Tmod               Fecha        Date\n",
       "Fecha                                                                       \n",
       "2021-04-25 06:00:00   216.315789   -0.059831 2021-04-25 06:00:00  2021-04-25\n",
       "2021-04-25 07:00:00   673.566667   15.071525 2021-04-25 07:00:00  2021-04-25\n",
       "2021-04-25 08:00:00  1055.450000   23.211695 2021-04-25 08:00:00  2021-04-25\n",
       "2021-04-25 09:00:00  1335.983333   34.972500 2021-04-25 09:00:00  2021-04-25\n",
       "2021-04-25 10:00:00  1394.101695   35.085333 2021-04-25 10:00:00  2021-04-25\n",
       "...                          ...         ...                 ...         ...\n",
       "2021-10-31 12:00:00  1420.250000  832.520000 2021-10-31 12:00:00  2021-10-31\n",
       "2021-10-31 13:00:00   742.500000  832.520000 2021-10-31 13:00:00  2021-10-31\n",
       "2021-10-31 14:00:00   364.500000  832.520000 2021-10-31 14:00:00  2021-10-31\n",
       "2021-10-31 15:00:00   177.500000  832.520000 2021-10-31 15:00:00  2021-10-31\n",
       "2021-10-31 16:00:00   230.000000  832.520000 2021-10-31 16:00:00  2021-10-31\n",
       "\n",
       "[2090 rows x 4 columns]"
      ]
     },
     "execution_count": 483,
     "metadata": {},
     "output_type": "execute_result"
    }
   ],
   "source": [
    "df_t = df_f[fecha_ini: fecha_fin][df_columns]\n",
    "df_t['Fecha'] = df_t.index\n",
    "df_t['Date'] = df_t.index.date\n",
    "df_t"
   ]
  },
  {
   "cell_type": "code",
   "execution_count": 485,
   "metadata": {},
   "outputs": [],
   "source": [
    "# df_t[df_columns]"
   ]
  },
  {
   "cell_type": "code",
   "execution_count": 486,
   "metadata": {},
   "outputs": [
    {
     "name": "stdout",
     "output_type": "stream",
     "text": [
      "[[ 123.43026  259.55106  449.74173  658.89154  922.1805  1101.9922\n",
      "  1126.2385  1000.8872   828.217    635.5868   466.868  ]]\n"
     ]
    },
    {
     "data": {
      "text/plain": [
       "Fecha\n",
       "2021-04-26 06:00:00      123.430260\n",
       "2021-04-26 07:00:00      259.551056\n",
       "2021-04-26 08:00:00      449.741730\n",
       "2021-04-26 09:00:00      658.891541\n",
       "2021-04-26 10:00:00      922.180481\n",
       "                           ...     \n",
       "2021-10-31 12:00:00   -45019.011719\n",
       "2021-10-31 13:00:00   -48674.031250\n",
       "2021-10-31 14:00:00   -36636.476562\n",
       "2021-10-31 15:00:00   -15023.024414\n",
       "2021-10-31 16:00:00     5354.896484\n",
       "Length: 2079, dtype: float32"
      ]
     },
     "execution_count": 486,
     "metadata": {},
     "output_type": "execute_result"
    }
   ],
   "source": [
    "series_t = None\n",
    "for dtime in list(df_t.Date.drop_duplicates())[:-1]:\n",
    "#     print(dtime)\n",
    "    x_input = df_t[str(dtime)][df_columns].values.reshape((1,11,2)) \n",
    "    pred = new_model.predict(x_input)\n",
    "    if series_t is None:\n",
    "        print(pred)\n",
    "        series_t = pd.Series(pred.ravel(), df_t[str(dtime+ dt.timedelta(days=1))].index)\n",
    "    else :\n",
    "        series_t = series_t.append(pd.Series(pred.ravel(), df_t[str(dtime+ dt.timedelta(days=1))].index))\n",
    "series_t"
   ]
  },
  {
   "cell_type": "code",
   "execution_count": 487,
   "metadata": {},
   "outputs": [],
   "source": [
    "df_t['pred']= series_t"
   ]
  },
  {
   "cell_type": "code",
   "execution_count": 488,
   "metadata": {},
   "outputs": [
    {
     "data": {
      "text/plain": [
       "'graficos/1dcnn_Chachapoyas_to_Juliaca_HIT'"
      ]
     },
     "execution_count": 488,
     "metadata": {},
     "output_type": "execute_result"
    }
   ],
   "source": [
    "image_dir =  f'graficos/{model_path.split(\"/\")[-1]}'\n",
    "image_dir"
   ]
  },
  {
   "cell_type": "code",
   "execution_count": 489,
   "metadata": {},
   "outputs": [
    {
     "name": "stdout",
     "output_type": "stream",
     "text": [
      "mkdir: cannot create directory ‘graficos’: File exists\n"
     ]
    }
   ],
   "source": [
    "!mkdir graficos"
   ]
  },
  {
   "cell_type": "code",
   "execution_count": 490,
   "metadata": {},
   "outputs": [],
   "source": [
    "!mkdir {image_dir}"
   ]
  },
  {
   "cell_type": "code",
   "execution_count": 491,
   "metadata": {},
   "outputs": [
    {
     "name": "stdout",
     "output_type": "stream",
     "text": [
      "[('2021-04-29', 'graficos/1dcnn_Chachapoyas_to_Juliaca_HIT/1dcnn_Chachapoyas_to_Juliaca_HIT-2021-04-29.png', 'graficos/1dcnn_Chachapoyas_to_Juliaca_HIT/current_day_1dcnn_Chachapoyas_to_Juliaca_HIT-2021-04-29.png', 232.30089627025714, 475.1185833355072), ('2021-04-30', 'graficos/1dcnn_Chachapoyas_to_Juliaca_HIT/1dcnn_Chachapoyas_to_Juliaca_HIT-2021-04-30.png', 'graficos/1dcnn_Chachapoyas_to_Juliaca_HIT/current_day_1dcnn_Chachapoyas_to_Juliaca_HIT-2021-04-30.png', 329.85192459342346, 232.30089627025714)]\n",
      "CPU times: user 1min 29s, sys: 0 ns, total: 1min 29s\n",
      "Wall time: 1min 28s\n"
     ]
    },
    {
     "data": {
      "text/plain": [
       "186"
      ]
     },
     "execution_count": 491,
     "metadata": {},
     "output_type": "execute_result"
    },
    {
     "data": {
      "text/plain": [
       "<Figure size 432x288 with 0 Axes>"
      ]
     },
     "metadata": {},
     "output_type": "display_data"
    }
   ],
   "source": [
    "%%time\n",
    "ls = []\n",
    "for dtime in list(df_t.Date.drop_duplicates())[4:]:\n",
    "    \n",
    "    #previous day fig\n",
    "#     print(dtime)\n",
    "    pac = df_t[str(dtime)]['Pac']\n",
    "    pred = df_t[str(dtime)]['pred']\n",
    "    pac_1 = df_t[str(dtime- dt.timedelta(days=1))]['Pac']\n",
    "    pred_1 = df_t[str(dtime- dt.timedelta(days=1))]['pred']\n",
    "    pac_2 = df_t[str(dtime- dt.timedelta(days=2))]['Pac']\n",
    "    pred_2 = df_t[str(dtime- dt.timedelta(days=2))]['pred']\n",
    "#     pac_3 = df_t[str(dtime- dt.timedelta(days=3))]['Pac']\n",
    "#     pred_3 = df_t[str(dtime- dt.timedelta(days=3))]['pred']\n",
    "    \n",
    "#     pac_3.plot(color='r', marker='o', markersize=4)\n",
    "#     pred_3.plot(color='g', marker='o', markersize=4)\n",
    "    pac_2.plot(color='r', marker='o', markersize=4)\n",
    "    pred_2.plot(color='g', marker='o', markersize=4)\n",
    "    pac_1.plot(color='r', marker='o', markersize=4)\n",
    "    pred_1.plot(color='g', marker='o', markersize=4)\n",
    "    pac.plot(color='r', marker='o', markersize=4)\n",
    "    pred.plot(color='g', marker='o', markersize=4)\n",
    "    \n",
    "    plt.legend(['Pac real', 'Pac predicho'])\n",
    "    plt.ylabel('Pac (W)')\n",
    "    plt.xlabel('Fecha y hora')\n",
    "    name = f'graficos/{model_path.split(\"/\")[-1]}/{model_path.split(\"/\")[-1]}-{str(dtime)}.png'\n",
    "    plt.savefig(name,bbox_inches='tight')\n",
    "#     plt.savefig('images/p3.png',bbox_inches='tight')\n",
    "    plt.clf()\n",
    "    \n",
    "    #current day fig\n",
    "    \n",
    "    pac = df_t[str(dtime)]['Pac']\n",
    "    pred = df_t[str(dtime)]['pred']\n",
    "    pac_1 = df_t[str(dtime- dt.timedelta(days=1))]['Pac']\n",
    "    pred_1 = df_t[str(dtime- dt.timedelta(days=1))]['pred']\n",
    "    pac_2 = df_t[str(dtime- dt.timedelta(days=2))]['Pac']\n",
    "    pred_2 = df_t[str(dtime- dt.timedelta(days=2))]['pred']\n",
    "#     pac_3 = df_t[str(dtime- dt.timedelta(days=3))]['Pac']\n",
    "#     pred_3 = df_t[str(dtime- dt.timedelta(days=3))]['pred']\n",
    "    \n",
    "#     pac_3.plot(color='r', marker='o', markersize=4)\n",
    "#     pred_3.plot(color='g', marker='o', markersize=4)\n",
    "    pac_2.plot(color='r', marker='o', markersize=4)\n",
    "    pred_2.plot(color='g', marker='o', markersize=4)\n",
    "    pac_1.plot(color='r', marker='o', markersize=4)\n",
    "    pred_1.plot(color='g', marker='o', markersize=4)\n",
    "#     pac.plot(color='r', marker='o', markersize=4)\n",
    "    pred.plot(color='g', marker='o', markersize=4)\n",
    "    \n",
    "    plt.legend(['Pac real', 'Pac predicho'])\n",
    "    plt.ylabel('Pac (W)')\n",
    "    plt.xlabel('Fecha y hora')\n",
    "    name_current_day = f'graficos/{model_path.split(\"/\")[-1]}/current_day_{model_path.split(\"/\")[-1]}-{str(dtime)}.png'\n",
    "    \n",
    "    plt.savefig(name_current_day,bbox_inches='tight')\n",
    "    plt.clf()\n",
    "\n",
    "    ls.append((str(dtime), name, name_current_day,\\\n",
    "               math.sqrt(mean_squared_error(pac, pred)),\\\n",
    "               math.sqrt(mean_squared_error(pac_1, pred_1))))\n",
    "#     break\n",
    "print(ls[:2])\n",
    "len(ls)\n"
   ]
  },
  {
   "cell_type": "code",
   "execution_count": 500,
   "metadata": {},
   "outputs": [],
   "source": [
    "# list(df_t.Date.drop_duplicates())[1:-1]"
   ]
  },
  {
   "cell_type": "code",
   "execution_count": 501,
   "metadata": {},
   "outputs": [],
   "source": [
    "# ls"
   ]
  },
  {
   "cell_type": "code",
   "execution_count": 502,
   "metadata": {},
   "outputs": [],
   "source": [
    "ml_model_id = 6\n",
    "metric_name = 'RMSE'\n",
    "date = ''\n",
    "value = ''\n",
    "previous_value = ''\n",
    "imag_path = ''"
   ]
  },
  {
   "cell_type": "code",
   "execution_count": 503,
   "metadata": {},
   "outputs": [
    {
     "data": {
      "text/plain": [
       "\"\\nINSERT INTO `DBTesis`.`metrics` (`ml_model_id`, `metric_name`, `date`, `value`, `previous_value`, `metric_image_path`, `metric_current_image_path`)\\nVALUES ('f', 'f', 'f', 'f', 'f', 'f','f');\\n\""
      ]
     },
     "execution_count": 503,
     "metadata": {},
     "output_type": "execute_result"
    }
   ],
   "source": [
    "\"\"\"\n",
    "INSERT INTO `DBTesis`.`metrics` (`ml_model_id`, `metric_name`, `date`, `value`, `previous_value`, `metric_image_path`, `metric_current_image_path`)\n",
    "VALUES ('f', 'f', 'f', 'f', 'f', 'f','f');\n",
    "\"\"\""
   ]
  },
  {
   "cell_type": "code",
   "execution_count": 504,
   "metadata": {},
   "outputs": [],
   "source": [
    "stri = ''\n",
    "for l in ls:\n",
    "    date = l[0]\n",
    "    imag_path=l[1]\n",
    "    current_img_path = l[2]\n",
    "    value=l[3]\n",
    "    previous_value=l[4]\n",
    "    stri +=f\"\"\"\n",
    "INSERT INTO `DBTesis`.`metrics` (`ml_model_id`, `metric_name`, `date`, `value`, `previous_value`, `metric_image_path`, `metric_current_image_path`)\n",
    "VALUES ({ml_model_id}, '{metric_name}', '{date}', {value}, {previous_value}, '{imag_path}','{current_img_path}');\n",
    "\"\"\""
   ]
  },
  {
   "cell_type": "code",
   "execution_count": 505,
   "metadata": {},
   "outputs": [
    {
     "data": {
      "text/plain": [
       "186"
      ]
     },
     "execution_count": 505,
     "metadata": {},
     "output_type": "execute_result"
    }
   ],
   "source": [
    "len(stri.split('\\n\\n'))"
   ]
  },
  {
   "cell_type": "code",
   "execution_count": 506,
   "metadata": {},
   "outputs": [],
   "source": [
    "stri_cachatojuliaca_cnn = stri"
   ]
  },
  {
   "cell_type": "code",
   "execution_count": 507,
   "metadata": {},
   "outputs": [
    {
     "name": "stdout",
     "output_type": "stream",
     "text": [
      "\n",
      "INSERT INTO `DBTesis`.`metrics` (`ml_model_id`, `metric_name`, `date`, `value`, `previous_value`, `metric_image_path`, `metric_current_image_path`)\n",
      "VALUES (6, 'RMSE', '2021-04-29', 232.30089627025714, 475.1185833355072, 'graficos/1dcnn_Chachapoyas_to_Juliaca_HIT/1dcnn_Chachapoyas_to_Juliaca_HIT-2021-04-29.png','graficos/1dcnn_Chachapoyas_to_Juliaca_HIT/current_day_1dcnn_Chachapoyas_to_Juliaca_HIT-2021-04-29.png');\n",
      "\n",
      "INSERT INTO `DBTesis`.`metrics` (`ml_model_id`, `metric_name`, `date`, `value`, `previous_value`, `metric_image_path`, `metric_current_image_path`)\n",
      "VALUES (6, 'RMSE', '2021-04-30', 329.85192459342346, 232.30089627025714, 'graficos/1dcnn_Chachapoyas_to_Juliaca_HIT/1dcnn_Chachapoyas_to_Juliaca_HIT-2021-04-30.png','graficos/1dcnn_Chachapoyas_to_Juliaca_HIT/current_day_1dcnn_Chachapoyas_to_Juliaca_HIT-2021-04-30.png');\n",
      "\n",
      "INSERT INTO `DBTesis`.`metrics` (`ml_model_id`, `metric_name`, `date`, `value`, `previous_value`, `metric_image_path`, `metric_current_image_path`)\n",
      "VALUES (6, 'RMSE', '2021-05-01', 499.83931504227917, 329.85192459342346, 'graficos/1dcnn_Chachapoyas_to_Juliaca_HIT/1dcnn_Chachapoyas_to_Juliaca_HIT-2021-05-01.png','graficos/1dcnn_Chachapoyas_to_Juliaca_HIT/current_day_1dcnn_Chachapoyas_to_Juliaca_HIT-2021-05-01.png');\n",
      "\n",
      "INSERT INTO `DBTesis`.`metrics` (`ml_model_id`, `metric_name`, `date`, `value`, `previous_value`, `metric_image_path`, `metric_current_image_path`)\n",
      "VALUES (6, 'RMSE', '2021-05-02', 288.6031956328778, 499.83931504227917, 'graficos/1dcnn_Chachapoyas_to_Juliaca_HIT/1dcnn_Chachapoyas_to_Juliaca_HIT-2021-05-02.png','graficos/1dcnn_Chachapoyas_to_Juliaca_HIT/current_day_1dcnn_Chachapoyas_to_Juliaca_HIT-2021-05-02.png');\n",
      "\n",
      "INSERT INTO `DBTesis`.`metrics` (`ml_model_id`, `metric_name`, `date`, `value`, `previous_value`, `metric_image_path`, `metric_current_image_path`)\n",
      "VALUES (6, 'RMSE', '2021-05-03', 371.3402507623902, 288.6031956328778, 'graficos/1dcnn_Chachapoyas_to_Juliaca_HIT/1dcnn_Chachapoyas_to_Juliaca_HIT-2021-05-03.png','graficos/1dcnn_Chachapoyas_to_Juliaca_HIT/current_day_1dcnn_Chachapoyas_to_Juliaca_HIT-2021-05-03.png');\n",
      "\n",
      "INSERT INTO `DBTesis`.`metrics` (`ml_model_id`, `metric_name`, `date`, `value`, `previous_value`, `metric_image_path`, `metric_current_image_path`)\n",
      "VALUES (6, 'RMSE', '2021-05-04', 122.57044860917523, 371.3402507623902, 'graficos/1dcnn_Chachapoyas_to_Juliaca_HIT/1dcnn_Chachapoyas_to_Juliaca_HIT-2021-05-04.png','graficos/1dcnn_Chachapoyas_to_Juliaca_HIT/current_day_1dcnn_Chachapoyas_to_Juliaca_HIT-2021-05-04.png');\n",
      "\n",
      "INSERT INTO `DBTesis`.`metrics` (`ml_model_id`, `metric_name`, `date`, `value`, `previous_value`, `metric_image_path`, `metric_current_image_path`)\n",
      "VALUES (6, 'RMSE', '2021-05-05', 465.6910712943916, 122.57044860917523, 'graficos/1dcnn_Chachapoyas_to_Juliaca_HIT/1dcnn_Chachapoyas_to_Juliaca_HIT-2021-05-05.png','graficos/1dcnn_Chachapoyas_to_Juliaca_HIT/current_day_1dcnn_Chachapoyas_to_Juliaca_HIT-2021-05-05.png');\n",
      "\n",
      "INSERT INTO `DBTesis`.`metrics` (`ml_model_id`, `metric_name`, `date`, `value`, `previous_value`, `metric_image_path`, `metric_current_image_path`)\n",
      "VALUES (6, 'RMSE', '2021-05-06', 410.61440097713694, 465.6910712943916, 'graficos/1dcnn_Chachapoyas_to_Juliaca_HIT/1dcnn_Chachapoyas_to_Juliaca_HIT-2021-05-06.png','graficos/1dcnn_Chachapoyas_to_Juliaca_HIT/current_day_1dcnn_Chachapoyas_to_Juliaca_HIT-2021-05-06.png');\n",
      "\n",
      "INSERT INTO `DBTesis`.`metrics` (`ml_model_id`, `metric_name`, `date`, `value`, `previous_value`, `metric_image_path`, `metric_current_image_path`)\n",
      "VALUES (6, 'RMSE', '2021-05-07', 309.39308199974334, 410.61440097713694, 'graficos/1dcnn_Chachapoyas_to_Juliaca_HIT/1dcnn_Chachapoyas_to_Juliaca_HIT-2021-05-07.png','graficos/1dcnn_Chachapoyas_to_Juliaca_HIT/current_day_1dcnn_Chachapoyas_to_Juliaca_HIT-2021-05-07.png');\n",
      "\n",
      "INSERT INTO `DBTesis`.`metrics` (`ml_model_id`, `metric_name`, `date`, `value`, `previous_value`, `metric_image_path`, `metric_current_image_path`)\n",
      "VALUES (6, 'RMSE', '2021-05-08', 469.30330426917664, 309.39308199974334, 'graficos/1dcnn_Chachapoyas_to_Juliaca_HIT/1dcnn_Chachapoyas_to_Juliaca_HIT-2021-05-08.png','graficos/1dcnn_Chachapoyas_to_Juliaca_HIT/current_day_1dcnn_Chachapoyas_to_Juliaca_HIT-2021-05-08.png');\n",
      "\n",
      "INSERT INTO `DBTesis`.`metrics` (`ml_model_id`, `metric_name`, `date`, `value`, `previous_value`, `metric_image_path`, `metric_current_image_path`)\n",
      "VALUES (6, 'RMSE', '2021-05-09', 252.03929068742028, 469.30330426917664, 'graficos/1dcnn_Chachapoyas_to_Juliaca_HIT/1dcnn_Chachapoyas_to_Juliaca_HIT-2021-05-09.png','graficos/1dcnn_Chachapoyas_to_Juliaca_HIT/current_day_1dcnn_Chachapoyas_to_Juliaca_HIT-2021-05-09.png');\n",
      "\n",
      "INSERT INTO `DBTesis`.`metrics` (`ml_model_id`, `metric_name`, `date`, `value`, `previous_value`, `metric_image_path`, `metric_current_image_path`)\n",
      "VALUES (6, 'RMSE', '2021-05-10', 437.52840590306516, 252.03929068742028, 'graficos/1dcnn_Chachapoyas_to_Juliaca_HIT/1dcnn_Chachapoyas_to_Juliaca_HIT-2021-05-10.png','graficos/1dcnn_Chachapoyas_to_Juliaca_HIT/current_day_1dcnn_Chachapoyas_to_Juliaca_HIT-2021-05-10.png');\n",
      "\n",
      "INSERT INTO `DBTesis`.`metrics` (`ml_model_id`, `metric_name`, `date`, `value`, `previous_value`, `metric_image_path`, `metric_current_image_path`)\n",
      "VALUES (6, 'RMSE', '2021-05-11', 327.3999800867125, 437.52840590306516, 'graficos/1dcnn_Chachapoyas_to_Juliaca_HIT/1dcnn_Chachapoyas_to_Juliaca_HIT-2021-05-11.png','graficos/1dcnn_Chachapoyas_to_Juliaca_HIT/current_day_1dcnn_Chachapoyas_to_Juliaca_HIT-2021-05-11.png');\n",
      "\n",
      "INSERT INTO `DBTesis`.`metrics` (`ml_model_id`, `metric_name`, `date`, `value`, `previous_value`, `metric_image_path`, `metric_current_image_path`)\n",
      "VALUES (6, 'RMSE', '2021-05-12', 483.23086946136095, 327.3999800867125, 'graficos/1dcnn_Chachapoyas_to_Juliaca_HIT/1dcnn_Chachapoyas_to_Juliaca_HIT-2021-05-12.png','graficos/1dcnn_Chachapoyas_to_Juliaca_HIT/current_day_1dcnn_Chachapoyas_to_Juliaca_HIT-2021-05-12.png');\n",
      "\n",
      "INSERT INTO `DBTesis`.`metrics` (`ml_model_id`, `metric_name`, `date`, `value`, `previous_value`, `metric_image_path`, `metric_current_image_path`)\n",
      "VALUES (6, 'RMSE', '2021-05-13', 322.9685049285818, 483.23086946136095, 'graficos/1dcnn_Chachapoyas_to_Juliaca_HIT/1dcnn_Chachapoyas_to_Juliaca_HIT-2021-05-13.png','graficos/1dcnn_Chachapoyas_to_Juliaca_HIT/current_day_1dcnn_Chachapoyas_to_Juliaca_HIT-2021-05-13.png');\n",
      "\n",
      "INSERT INTO `DBTesis`.`metrics` (`ml_model_id`, `metric_name`, `date`, `value`, `previous_value`, `metric_image_path`, `metric_current_image_path`)\n",
      "VALUES (6, 'RMSE', '2021-05-14', 601.0280352505949, 322.9685049285818, 'graficos/1dcnn_Chachapoyas_to_Juliaca_HIT/1dcnn_Chachapoyas_to_Juliaca_HIT-2021-05-14.png','graficos/1dcnn_Chachapoyas_to_Juliaca_HIT/current_day_1dcnn_Chachapoyas_to_Juliaca_HIT-2021-05-14.png');\n",
      "\n",
      "INSERT INTO `DBTesis`.`metrics` (`ml_model_id`, `metric_name`, `date`, `value`, `previous_value`, `metric_image_path`, `metric_current_image_path`)\n",
      "VALUES (6, 'RMSE', '2021-05-15', 423.9776125860745, 601.0280352505949, 'graficos/1dcnn_Chachapoyas_to_Juliaca_HIT/1dcnn_Chachapoyas_to_Juliaca_HIT-2021-05-15.png','graficos/1dcnn_Chachapoyas_to_Juliaca_HIT/current_day_1dcnn_Chachapoyas_to_Juliaca_HIT-2021-05-15.png');\n",
      "\n",
      "INSERT INTO `DBTesis`.`metrics` (`ml_model_id`, `metric_name`, `date`, `value`, `previous_value`, `metric_image_path`, `metric_current_image_path`)\n",
      "VALUES (6, 'RMSE', '2021-05-16', 507.56937637261154, 423.9776125860745, 'graficos/1dcnn_Chachapoyas_to_Juliaca_HIT/1dcnn_Chachapoyas_to_Juliaca_HIT-2021-05-16.png','graficos/1dcnn_Chachapoyas_to_Juliaca_HIT/current_day_1dcnn_Chachapoyas_to_Juliaca_HIT-2021-05-16.png');\n",
      "\n",
      "INSERT INTO `DBTesis`.`metrics` (`ml_model_id`, `metric_name`, `date`, `value`, `previous_value`, `metric_image_path`, `metric_current_image_path`)\n",
      "VALUES (6, 'RMSE', '2021-05-17', 307.9527993749976, 507.56937637261154, 'graficos/1dcnn_Chachapoyas_to_Juliaca_HIT/1dcnn_Chachapoyas_to_Juliaca_HIT-2021-05-17.png','graficos/1dcnn_Chachapoyas_to_Juliaca_HIT/current_day_1dcnn_Chachapoyas_to_Juliaca_HIT-2021-05-17.png');\n",
      "\n",
      "INSERT INTO `DBTesis`.`metrics` (`ml_model_id`, `metric_name`, `date`, `value`, `previous_value`, `metric_image_path`, `metric_current_image_path`)\n",
      "VALUES (6, 'RMSE', '2021-05-18', 201.18214813546516, 307.9527993749976, 'graficos/1dcnn_Chachapoyas_to_Juliaca_HIT/1dcnn_Chachapoyas_to_Juliaca_HIT-2021-05-18.png','graficos/1dcnn_Chachapoyas_to_Juliaca_HIT/current_day_1dcnn_Chachapoyas_to_Juliaca_HIT-2021-05-18.png');\n",
      "\n",
      "INSERT INTO `DBTesis`.`metrics` (`ml_model_id`, `metric_name`, `date`, `value`, `previous_value`, `metric_image_path`, `metric_current_image_path`)\n",
      "VALUES (6, 'RMSE', '2021-05-19', 601.3244511301252, 201.18214813546516, 'graficos/1dcnn_Chachapoyas_to_Juliaca_HIT/1dcnn_Chachapoyas_to_Juliaca_HIT-2021-05-19.png','graficos/1dcnn_Chachapoyas_to_Juliaca_HIT/current_day_1dcnn_Chachapoyas_to_Juliaca_HIT-2021-05-19.png');\n",
      "\n",
      "INSERT INTO `DBTesis`.`metrics` (`ml_model_id`, `metric_name`, `date`, `value`, `previous_value`, `metric_image_path`, `metric_current_image_path`)\n",
      "VALUES (6, 'RMSE', '2021-05-20', 329.3594281673773, 601.3244511301252, 'graficos/1dcnn_Chachapoyas_to_Juliaca_HIT/1dcnn_Chachapoyas_to_Juliaca_HIT-2021-05-20.png','graficos/1dcnn_Chachapoyas_to_Juliaca_HIT/current_day_1dcnn_Chachapoyas_to_Juliaca_HIT-2021-05-20.png');\n",
      "\n",
      "INSERT INTO `DBTesis`.`metrics` (`ml_model_id`, `metric_name`, `date`, `value`, `previous_value`, `metric_image_path`, `metric_current_image_path`)\n",
      "VALUES (6, 'RMSE', '2021-05-21', 152.67003843533158, 329.3594281673773, 'graficos/1dcnn_Chachapoyas_to_Juliaca_HIT/1dcnn_Chachapoyas_to_Juliaca_HIT-2021-05-21.png','graficos/1dcnn_Chachapoyas_to_Juliaca_HIT/current_day_1dcnn_Chachapoyas_to_Juliaca_HIT-2021-05-21.png');\n",
      "\n",
      "INSERT INTO `DBTesis`.`metrics` (`ml_model_id`, `metric_name`, `date`, `value`, `previous_value`, `metric_image_path`, `metric_current_image_path`)\n",
      "VALUES (6, 'RMSE', '2021-05-22', 148.19417144736528, 152.67003843533158, 'graficos/1dcnn_Chachapoyas_to_Juliaca_HIT/1dcnn_Chachapoyas_to_Juliaca_HIT-2021-05-22.png','graficos/1dcnn_Chachapoyas_to_Juliaca_HIT/current_day_1dcnn_Chachapoyas_to_Juliaca_HIT-2021-05-22.png');\n",
      "\n",
      "INSERT INTO `DBTesis`.`metrics` (`ml_model_id`, `metric_name`, `date`, `value`, `previous_value`, `metric_image_path`, `metric_current_image_path`)\n",
      "VALUES (6, 'RMSE', '2021-05-23', 323.56410741524843, 148.19417144736528, 'graficos/1dcnn_Chachapoyas_to_Juliaca_HIT/1dcnn_Chachapoyas_to_Juliaca_HIT-2021-05-23.png','graficos/1dcnn_Chachapoyas_to_Juliaca_HIT/current_day_1dcnn_Chachapoyas_to_Juliaca_HIT-2021-05-23.png');\n",
      "\n",
      "INSERT INTO `DBTesis`.`metrics` (`ml_model_id`, `metric_name`, `date`, `value`, `previous_value`, `metric_image_path`, `metric_current_image_path`)\n",
      "VALUES (6, 'RMSE', '2021-05-24', 290.41193304089626, 323.56410741524843, 'graficos/1dcnn_Chachapoyas_to_Juliaca_HIT/1dcnn_Chachapoyas_to_Juliaca_HIT-2021-05-24.png','graficos/1dcnn_Chachapoyas_to_Juliaca_HIT/current_day_1dcnn_Chachapoyas_to_Juliaca_HIT-2021-05-24.png');\n",
      "\n",
      "INSERT INTO `DBTesis`.`metrics` (`ml_model_id`, `metric_name`, `date`, `value`, `previous_value`, `metric_image_path`, `metric_current_image_path`)\n",
      "VALUES (6, 'RMSE', '2021-05-25', 244.5714089800416, 290.41193304089626, 'graficos/1dcnn_Chachapoyas_to_Juliaca_HIT/1dcnn_Chachapoyas_to_Juliaca_HIT-2021-05-25.png','graficos/1dcnn_Chachapoyas_to_Juliaca_HIT/current_day_1dcnn_Chachapoyas_to_Juliaca_HIT-2021-05-25.png');\n",
      "\n",
      "INSERT INTO `DBTesis`.`metrics` (`ml_model_id`, `metric_name`, `date`, `value`, `previous_value`, `metric_image_path`, `metric_current_image_path`)\n",
      "VALUES (6, 'RMSE', '2021-05-26', 739.6610406288847, 244.5714089800416, 'graficos/1dcnn_Chachapoyas_to_Juliaca_HIT/1dcnn_Chachapoyas_to_Juliaca_HIT-2021-05-26.png','graficos/1dcnn_Chachapoyas_to_Juliaca_HIT/current_day_1dcnn_Chachapoyas_to_Juliaca_HIT-2021-05-26.png');\n",
      "\n",
      "INSERT INTO `DBTesis`.`metrics` (`ml_model_id`, `metric_name`, `date`, `value`, `previous_value`, `metric_image_path`, `metric_current_image_path`)\n",
      "VALUES (6, 'RMSE', '2021-05-27', 302.26604426281256, 739.6610406288847, 'graficos/1dcnn_Chachapoyas_to_Juliaca_HIT/1dcnn_Chachapoyas_to_Juliaca_HIT-2021-05-27.png','graficos/1dcnn_Chachapoyas_to_Juliaca_HIT/current_day_1dcnn_Chachapoyas_to_Juliaca_HIT-2021-05-27.png');\n",
      "\n",
      "INSERT INTO `DBTesis`.`metrics` (`ml_model_id`, `metric_name`, `date`, `value`, `previous_value`, `metric_image_path`, `metric_current_image_path`)\n",
      "VALUES (6, 'RMSE', '2021-05-28', 399.818608077405, 302.26604426281256, 'graficos/1dcnn_Chachapoyas_to_Juliaca_HIT/1dcnn_Chachapoyas_to_Juliaca_HIT-2021-05-28.png','graficos/1dcnn_Chachapoyas_to_Juliaca_HIT/current_day_1dcnn_Chachapoyas_to_Juliaca_HIT-2021-05-28.png');\n",
      "\n",
      "INSERT INTO `DBTesis`.`metrics` (`ml_model_id`, `metric_name`, `date`, `value`, `previous_value`, `metric_image_path`, `metric_current_image_path`)\n",
      "VALUES (6, 'RMSE', '2021-05-29', 172.5659477230004, 399.818608077405, 'graficos/1dcnn_Chachapoyas_to_Juliaca_HIT/1dcnn_Chachapoyas_to_Juliaca_HIT-2021-05-29.png','graficos/1dcnn_Chachapoyas_to_Juliaca_HIT/current_day_1dcnn_Chachapoyas_to_Juliaca_HIT-2021-05-29.png');\n",
      "\n",
      "INSERT INTO `DBTesis`.`metrics` (`ml_model_id`, `metric_name`, `date`, `value`, `previous_value`, `metric_image_path`, `metric_current_image_path`)\n",
      "VALUES (6, 'RMSE', '2021-05-30', 362.82888289080125, 172.5659477230004, 'graficos/1dcnn_Chachapoyas_to_Juliaca_HIT/1dcnn_Chachapoyas_to_Juliaca_HIT-2021-05-30.png','graficos/1dcnn_Chachapoyas_to_Juliaca_HIT/current_day_1dcnn_Chachapoyas_to_Juliaca_HIT-2021-05-30.png');\n",
      "\n",
      "INSERT INTO `DBTesis`.`metrics` (`ml_model_id`, `metric_name`, `date`, `value`, `previous_value`, `metric_image_path`, `metric_current_image_path`)\n",
      "VALUES (6, 'RMSE', '2021-05-31', 169.7144052780899, 362.82888289080125, 'graficos/1dcnn_Chachapoyas_to_Juliaca_HIT/1dcnn_Chachapoyas_to_Juliaca_HIT-2021-05-31.png','graficos/1dcnn_Chachapoyas_to_Juliaca_HIT/current_day_1dcnn_Chachapoyas_to_Juliaca_HIT-2021-05-31.png');\n",
      "\n",
      "INSERT INTO `DBTesis`.`metrics` (`ml_model_id`, `metric_name`, `date`, `value`, `previous_value`, `metric_image_path`, `metric_current_image_path`)\n",
      "VALUES (6, 'RMSE', '2021-06-01', 570.2057255930077, 169.7144052780899, 'graficos/1dcnn_Chachapoyas_to_Juliaca_HIT/1dcnn_Chachapoyas_to_Juliaca_HIT-2021-06-01.png','graficos/1dcnn_Chachapoyas_to_Juliaca_HIT/current_day_1dcnn_Chachapoyas_to_Juliaca_HIT-2021-06-01.png');\n",
      "\n",
      "INSERT INTO `DBTesis`.`metrics` (`ml_model_id`, `metric_name`, `date`, `value`, `previous_value`, `metric_image_path`, `metric_current_image_path`)\n",
      "VALUES (6, 'RMSE', '2021-06-02', 452.77585777844234, 570.2057255930077, 'graficos/1dcnn_Chachapoyas_to_Juliaca_HIT/1dcnn_Chachapoyas_to_Juliaca_HIT-2021-06-02.png','graficos/1dcnn_Chachapoyas_to_Juliaca_HIT/current_day_1dcnn_Chachapoyas_to_Juliaca_HIT-2021-06-02.png');\n",
      "\n",
      "INSERT INTO `DBTesis`.`metrics` (`ml_model_id`, `metric_name`, `date`, `value`, `previous_value`, `metric_image_path`, `metric_current_image_path`)\n",
      "VALUES (6, 'RMSE', '2021-06-03', 257.6907259773835, 452.77585777844234, 'graficos/1dcnn_Chachapoyas_to_Juliaca_HIT/1dcnn_Chachapoyas_to_Juliaca_HIT-2021-06-03.png','graficos/1dcnn_Chachapoyas_to_Juliaca_HIT/current_day_1dcnn_Chachapoyas_to_Juliaca_HIT-2021-06-03.png');\n",
      "\n",
      "INSERT INTO `DBTesis`.`metrics` (`ml_model_id`, `metric_name`, `date`, `value`, `previous_value`, `metric_image_path`, `metric_current_image_path`)\n",
      "VALUES (6, 'RMSE', '2021-06-04', 252.74071166278594, 257.6907259773835, 'graficos/1dcnn_Chachapoyas_to_Juliaca_HIT/1dcnn_Chachapoyas_to_Juliaca_HIT-2021-06-04.png','graficos/1dcnn_Chachapoyas_to_Juliaca_HIT/current_day_1dcnn_Chachapoyas_to_Juliaca_HIT-2021-06-04.png');\n",
      "\n",
      "INSERT INTO `DBTesis`.`metrics` (`ml_model_id`, `metric_name`, `date`, `value`, `previous_value`, `metric_image_path`, `metric_current_image_path`)\n",
      "VALUES (6, 'RMSE', '2021-06-05', 331.3324450415292, 252.74071166278594, 'graficos/1dcnn_Chachapoyas_to_Juliaca_HIT/1dcnn_Chachapoyas_to_Juliaca_HIT-2021-06-05.png','graficos/1dcnn_Chachapoyas_to_Juliaca_HIT/current_day_1dcnn_Chachapoyas_to_Juliaca_HIT-2021-06-05.png');\n",
      "\n",
      "INSERT INTO `DBTesis`.`metrics` (`ml_model_id`, `metric_name`, `date`, `value`, `previous_value`, `metric_image_path`, `metric_current_image_path`)\n",
      "VALUES (6, 'RMSE', '2021-06-06', 433.86623053913615, 331.3324450415292, 'graficos/1dcnn_Chachapoyas_to_Juliaca_HIT/1dcnn_Chachapoyas_to_Juliaca_HIT-2021-06-06.png','graficos/1dcnn_Chachapoyas_to_Juliaca_HIT/current_day_1dcnn_Chachapoyas_to_Juliaca_HIT-2021-06-06.png');\n",
      "\n",
      "INSERT INTO `DBTesis`.`metrics` (`ml_model_id`, `metric_name`, `date`, `value`, `previous_value`, `metric_image_path`, `metric_current_image_path`)\n",
      "VALUES (6, 'RMSE', '2021-06-07', 231.98467199314484, 433.86623053913615, 'graficos/1dcnn_Chachapoyas_to_Juliaca_HIT/1dcnn_Chachapoyas_to_Juliaca_HIT-2021-06-07.png','graficos/1dcnn_Chachapoyas_to_Juliaca_HIT/current_day_1dcnn_Chachapoyas_to_Juliaca_HIT-2021-06-07.png');\n",
      "\n",
      "INSERT INTO `DBTesis`.`metrics` (`ml_model_id`, `metric_name`, `date`, `value`, `previous_value`, `metric_image_path`, `metric_current_image_path`)\n",
      "VALUES (6, 'RMSE', '2021-06-08', 372.26204470245193, 231.98467199314484, 'graficos/1dcnn_Chachapoyas_to_Juliaca_HIT/1dcnn_Chachapoyas_to_Juliaca_HIT-2021-06-08.png','graficos/1dcnn_Chachapoyas_to_Juliaca_HIT/current_day_1dcnn_Chachapoyas_to_Juliaca_HIT-2021-06-08.png');\n",
      "\n",
      "INSERT INTO `DBTesis`.`metrics` (`ml_model_id`, `metric_name`, `date`, `value`, `previous_value`, `metric_image_path`, `metric_current_image_path`)\n",
      "VALUES (6, 'RMSE', '2021-06-09', 277.29458776716467, 372.26204470245193, 'graficos/1dcnn_Chachapoyas_to_Juliaca_HIT/1dcnn_Chachapoyas_to_Juliaca_HIT-2021-06-09.png','graficos/1dcnn_Chachapoyas_to_Juliaca_HIT/current_day_1dcnn_Chachapoyas_to_Juliaca_HIT-2021-06-09.png');\n",
      "\n",
      "INSERT INTO `DBTesis`.`metrics` (`ml_model_id`, `metric_name`, `date`, `value`, `previous_value`, `metric_image_path`, `metric_current_image_path`)\n",
      "VALUES (6, 'RMSE', '2021-06-10', 352.0135713229591, 277.29458776716467, 'graficos/1dcnn_Chachapoyas_to_Juliaca_HIT/1dcnn_Chachapoyas_to_Juliaca_HIT-2021-06-10.png','graficos/1dcnn_Chachapoyas_to_Juliaca_HIT/current_day_1dcnn_Chachapoyas_to_Juliaca_HIT-2021-06-10.png');\n",
      "\n",
      "INSERT INTO `DBTesis`.`metrics` (`ml_model_id`, `metric_name`, `date`, `value`, `previous_value`, `metric_image_path`, `metric_current_image_path`)\n",
      "VALUES (6, 'RMSE', '2021-06-11', 179.55613555984152, 352.0135713229591, 'graficos/1dcnn_Chachapoyas_to_Juliaca_HIT/1dcnn_Chachapoyas_to_Juliaca_HIT-2021-06-11.png','graficos/1dcnn_Chachapoyas_to_Juliaca_HIT/current_day_1dcnn_Chachapoyas_to_Juliaca_HIT-2021-06-11.png');\n",
      "\n",
      "INSERT INTO `DBTesis`.`metrics` (`ml_model_id`, `metric_name`, `date`, `value`, `previous_value`, `metric_image_path`, `metric_current_image_path`)\n",
      "VALUES (6, 'RMSE', '2021-06-12', 173.1928289455024, 179.55613555984152, 'graficos/1dcnn_Chachapoyas_to_Juliaca_HIT/1dcnn_Chachapoyas_to_Juliaca_HIT-2021-06-12.png','graficos/1dcnn_Chachapoyas_to_Juliaca_HIT/current_day_1dcnn_Chachapoyas_to_Juliaca_HIT-2021-06-12.png');\n",
      "\n",
      "INSERT INTO `DBTesis`.`metrics` (`ml_model_id`, `metric_name`, `date`, `value`, `previous_value`, `metric_image_path`, `metric_current_image_path`)\n",
      "VALUES (6, 'RMSE', '2021-06-13', 164.4586075672856, 173.1928289455024, 'graficos/1dcnn_Chachapoyas_to_Juliaca_HIT/1dcnn_Chachapoyas_to_Juliaca_HIT-2021-06-13.png','graficos/1dcnn_Chachapoyas_to_Juliaca_HIT/current_day_1dcnn_Chachapoyas_to_Juliaca_HIT-2021-06-13.png');\n",
      "\n",
      "INSERT INTO `DBTesis`.`metrics` (`ml_model_id`, `metric_name`, `date`, `value`, `previous_value`, `metric_image_path`, `metric_current_image_path`)\n",
      "VALUES (6, 'RMSE', '2021-06-14', 348.59801387367116, 164.4586075672856, 'graficos/1dcnn_Chachapoyas_to_Juliaca_HIT/1dcnn_Chachapoyas_to_Juliaca_HIT-2021-06-14.png','graficos/1dcnn_Chachapoyas_to_Juliaca_HIT/current_day_1dcnn_Chachapoyas_to_Juliaca_HIT-2021-06-14.png');\n",
      "\n",
      "INSERT INTO `DBTesis`.`metrics` (`ml_model_id`, `metric_name`, `date`, `value`, `previous_value`, `metric_image_path`, `metric_current_image_path`)\n",
      "VALUES (6, 'RMSE', '2021-06-15', 240.22709318780582, 348.59801387367116, 'graficos/1dcnn_Chachapoyas_to_Juliaca_HIT/1dcnn_Chachapoyas_to_Juliaca_HIT-2021-06-15.png','graficos/1dcnn_Chachapoyas_to_Juliaca_HIT/current_day_1dcnn_Chachapoyas_to_Juliaca_HIT-2021-06-15.png');\n",
      "\n",
      "INSERT INTO `DBTesis`.`metrics` (`ml_model_id`, `metric_name`, `date`, `value`, `previous_value`, `metric_image_path`, `metric_current_image_path`)\n",
      "VALUES (6, 'RMSE', '2021-06-16', 228.81996283468754, 240.22709318780582, 'graficos/1dcnn_Chachapoyas_to_Juliaca_HIT/1dcnn_Chachapoyas_to_Juliaca_HIT-2021-06-16.png','graficos/1dcnn_Chachapoyas_to_Juliaca_HIT/current_day_1dcnn_Chachapoyas_to_Juliaca_HIT-2021-06-16.png');\n",
      "\n",
      "INSERT INTO `DBTesis`.`metrics` (`ml_model_id`, `metric_name`, `date`, `value`, `previous_value`, `metric_image_path`, `metric_current_image_path`)\n",
      "VALUES (6, 'RMSE', '2021-06-17', 422.7534855787252, 228.81996283468754, 'graficos/1dcnn_Chachapoyas_to_Juliaca_HIT/1dcnn_Chachapoyas_to_Juliaca_HIT-2021-06-17.png','graficos/1dcnn_Chachapoyas_to_Juliaca_HIT/current_day_1dcnn_Chachapoyas_to_Juliaca_HIT-2021-06-17.png');\n",
      "\n",
      "INSERT INTO `DBTesis`.`metrics` (`ml_model_id`, `metric_name`, `date`, `value`, `previous_value`, `metric_image_path`, `metric_current_image_path`)\n",
      "VALUES (6, 'RMSE', '2021-06-18', 153.1383205725146, 422.7534855787252, 'graficos/1dcnn_Chachapoyas_to_Juliaca_HIT/1dcnn_Chachapoyas_to_Juliaca_HIT-2021-06-18.png','graficos/1dcnn_Chachapoyas_to_Juliaca_HIT/current_day_1dcnn_Chachapoyas_to_Juliaca_HIT-2021-06-18.png');\n",
      "\n",
      "INSERT INTO `DBTesis`.`metrics` (`ml_model_id`, `metric_name`, `date`, `value`, `previous_value`, `metric_image_path`, `metric_current_image_path`)\n",
      "VALUES (6, 'RMSE', '2021-06-19', 447.8751319491538, 153.1383205725146, 'graficos/1dcnn_Chachapoyas_to_Juliaca_HIT/1dcnn_Chachapoyas_to_Juliaca_HIT-2021-06-19.png','graficos/1dcnn_Chachapoyas_to_Juliaca_HIT/current_day_1dcnn_Chachapoyas_to_Juliaca_HIT-2021-06-19.png');\n",
      "\n",
      "INSERT INTO `DBTesis`.`metrics` (`ml_model_id`, `metric_name`, `date`, `value`, `previous_value`, `metric_image_path`, `metric_current_image_path`)\n",
      "VALUES (6, 'RMSE', '2021-06-20', 232.12732412551122, 447.8751319491538, 'graficos/1dcnn_Chachapoyas_to_Juliaca_HIT/1dcnn_Chachapoyas_to_Juliaca_HIT-2021-06-20.png','graficos/1dcnn_Chachapoyas_to_Juliaca_HIT/current_day_1dcnn_Chachapoyas_to_Juliaca_HIT-2021-06-20.png');\n",
      "\n",
      "INSERT INTO `DBTesis`.`metrics` (`ml_model_id`, `metric_name`, `date`, `value`, `previous_value`, `metric_image_path`, `metric_current_image_path`)\n",
      "VALUES (6, 'RMSE', '2021-06-21', 381.1504309143452, 232.12732412551122, 'graficos/1dcnn_Chachapoyas_to_Juliaca_HIT/1dcnn_Chachapoyas_to_Juliaca_HIT-2021-06-21.png','graficos/1dcnn_Chachapoyas_to_Juliaca_HIT/current_day_1dcnn_Chachapoyas_to_Juliaca_HIT-2021-06-21.png');\n",
      "\n",
      "INSERT INTO `DBTesis`.`metrics` (`ml_model_id`, `metric_name`, `date`, `value`, `previous_value`, `metric_image_path`, `metric_current_image_path`)\n",
      "VALUES (6, 'RMSE', '2021-06-22', 449.6408190212477, 381.1504309143452, 'graficos/1dcnn_Chachapoyas_to_Juliaca_HIT/1dcnn_Chachapoyas_to_Juliaca_HIT-2021-06-22.png','graficos/1dcnn_Chachapoyas_to_Juliaca_HIT/current_day_1dcnn_Chachapoyas_to_Juliaca_HIT-2021-06-22.png');\n",
      "\n",
      "INSERT INTO `DBTesis`.`metrics` (`ml_model_id`, `metric_name`, `date`, `value`, `previous_value`, `metric_image_path`, `metric_current_image_path`)\n",
      "VALUES (6, 'RMSE', '2021-06-23', 377.3842709459916, 449.6408190212477, 'graficos/1dcnn_Chachapoyas_to_Juliaca_HIT/1dcnn_Chachapoyas_to_Juliaca_HIT-2021-06-23.png','graficos/1dcnn_Chachapoyas_to_Juliaca_HIT/current_day_1dcnn_Chachapoyas_to_Juliaca_HIT-2021-06-23.png');\n",
      "\n",
      "INSERT INTO `DBTesis`.`metrics` (`ml_model_id`, `metric_name`, `date`, `value`, `previous_value`, `metric_image_path`, `metric_current_image_path`)\n",
      "VALUES (6, 'RMSE', '2021-06-24', 216.55824826483442, 377.3842709459916, 'graficos/1dcnn_Chachapoyas_to_Juliaca_HIT/1dcnn_Chachapoyas_to_Juliaca_HIT-2021-06-24.png','graficos/1dcnn_Chachapoyas_to_Juliaca_HIT/current_day_1dcnn_Chachapoyas_to_Juliaca_HIT-2021-06-24.png');\n",
      "\n",
      "INSERT INTO `DBTesis`.`metrics` (`ml_model_id`, `metric_name`, `date`, `value`, `previous_value`, `metric_image_path`, `metric_current_image_path`)\n",
      "VALUES (6, 'RMSE', '2021-06-25', 242.01567147710549, 216.55824826483442, 'graficos/1dcnn_Chachapoyas_to_Juliaca_HIT/1dcnn_Chachapoyas_to_Juliaca_HIT-2021-06-25.png','graficos/1dcnn_Chachapoyas_to_Juliaca_HIT/current_day_1dcnn_Chachapoyas_to_Juliaca_HIT-2021-06-25.png');\n",
      "\n",
      "INSERT INTO `DBTesis`.`metrics` (`ml_model_id`, `metric_name`, `date`, `value`, `previous_value`, `metric_image_path`, `metric_current_image_path`)\n",
      "VALUES (6, 'RMSE', '2021-06-26', 339.8848908368179, 242.01567147710549, 'graficos/1dcnn_Chachapoyas_to_Juliaca_HIT/1dcnn_Chachapoyas_to_Juliaca_HIT-2021-06-26.png','graficos/1dcnn_Chachapoyas_to_Juliaca_HIT/current_day_1dcnn_Chachapoyas_to_Juliaca_HIT-2021-06-26.png');\n",
      "\n",
      "INSERT INTO `DBTesis`.`metrics` (`ml_model_id`, `metric_name`, `date`, `value`, `previous_value`, `metric_image_path`, `metric_current_image_path`)\n",
      "VALUES (6, 'RMSE', '2021-06-27', 398.41309869282304, 339.8848908368179, 'graficos/1dcnn_Chachapoyas_to_Juliaca_HIT/1dcnn_Chachapoyas_to_Juliaca_HIT-2021-06-27.png','graficos/1dcnn_Chachapoyas_to_Juliaca_HIT/current_day_1dcnn_Chachapoyas_to_Juliaca_HIT-2021-06-27.png');\n",
      "\n",
      "INSERT INTO `DBTesis`.`metrics` (`ml_model_id`, `metric_name`, `date`, `value`, `previous_value`, `metric_image_path`, `metric_current_image_path`)\n",
      "VALUES (6, 'RMSE', '2021-06-28', 162.56406395703388, 398.41309869282304, 'graficos/1dcnn_Chachapoyas_to_Juliaca_HIT/1dcnn_Chachapoyas_to_Juliaca_HIT-2021-06-28.png','graficos/1dcnn_Chachapoyas_to_Juliaca_HIT/current_day_1dcnn_Chachapoyas_to_Juliaca_HIT-2021-06-28.png');\n",
      "\n",
      "INSERT INTO `DBTesis`.`metrics` (`ml_model_id`, `metric_name`, `date`, `value`, `previous_value`, `metric_image_path`, `metric_current_image_path`)\n",
      "VALUES (6, 'RMSE', '2021-06-29', 149.61656230709144, 162.56406395703388, 'graficos/1dcnn_Chachapoyas_to_Juliaca_HIT/1dcnn_Chachapoyas_to_Juliaca_HIT-2021-06-29.png','graficos/1dcnn_Chachapoyas_to_Juliaca_HIT/current_day_1dcnn_Chachapoyas_to_Juliaca_HIT-2021-06-29.png');\n",
      "\n",
      "INSERT INTO `DBTesis`.`metrics` (`ml_model_id`, `metric_name`, `date`, `value`, `previous_value`, `metric_image_path`, `metric_current_image_path`)\n",
      "VALUES (6, 'RMSE', '2021-06-30', 452.83984560240333, 149.61656230709144, 'graficos/1dcnn_Chachapoyas_to_Juliaca_HIT/1dcnn_Chachapoyas_to_Juliaca_HIT-2021-06-30.png','graficos/1dcnn_Chachapoyas_to_Juliaca_HIT/current_day_1dcnn_Chachapoyas_to_Juliaca_HIT-2021-06-30.png');\n",
      "\n",
      "INSERT INTO `DBTesis`.`metrics` (`ml_model_id`, `metric_name`, `date`, `value`, `previous_value`, `metric_image_path`, `metric_current_image_path`)\n",
      "VALUES (6, 'RMSE', '2021-07-01', 347.75186446607, 452.83984560240333, 'graficos/1dcnn_Chachapoyas_to_Juliaca_HIT/1dcnn_Chachapoyas_to_Juliaca_HIT-2021-07-01.png','graficos/1dcnn_Chachapoyas_to_Juliaca_HIT/current_day_1dcnn_Chachapoyas_to_Juliaca_HIT-2021-07-01.png');\n",
      "\n",
      "INSERT INTO `DBTesis`.`metrics` (`ml_model_id`, `metric_name`, `date`, `value`, `previous_value`, `metric_image_path`, `metric_current_image_path`)\n",
      "VALUES (6, 'RMSE', '2021-07-02', 223.65588235823657, 347.75186446607, 'graficos/1dcnn_Chachapoyas_to_Juliaca_HIT/1dcnn_Chachapoyas_to_Juliaca_HIT-2021-07-02.png','graficos/1dcnn_Chachapoyas_to_Juliaca_HIT/current_day_1dcnn_Chachapoyas_to_Juliaca_HIT-2021-07-02.png');\n",
      "\n",
      "INSERT INTO `DBTesis`.`metrics` (`ml_model_id`, `metric_name`, `date`, `value`, `previous_value`, `metric_image_path`, `metric_current_image_path`)\n",
      "VALUES (6, 'RMSE', '2021-07-03', 407.71857951715367, 223.65588235823657, 'graficos/1dcnn_Chachapoyas_to_Juliaca_HIT/1dcnn_Chachapoyas_to_Juliaca_HIT-2021-07-03.png','graficos/1dcnn_Chachapoyas_to_Juliaca_HIT/current_day_1dcnn_Chachapoyas_to_Juliaca_HIT-2021-07-03.png');\n",
      "\n",
      "INSERT INTO `DBTesis`.`metrics` (`ml_model_id`, `metric_name`, `date`, `value`, `previous_value`, `metric_image_path`, `metric_current_image_path`)\n",
      "VALUES (6, 'RMSE', '2021-07-04', 409.6668334038741, 407.71857951715367, 'graficos/1dcnn_Chachapoyas_to_Juliaca_HIT/1dcnn_Chachapoyas_to_Juliaca_HIT-2021-07-04.png','graficos/1dcnn_Chachapoyas_to_Juliaca_HIT/current_day_1dcnn_Chachapoyas_to_Juliaca_HIT-2021-07-04.png');\n",
      "\n",
      "INSERT INTO `DBTesis`.`metrics` (`ml_model_id`, `metric_name`, `date`, `value`, `previous_value`, `metric_image_path`, `metric_current_image_path`)\n",
      "VALUES (6, 'RMSE', '2021-07-05', 412.00560266869456, 409.6668334038741, 'graficos/1dcnn_Chachapoyas_to_Juliaca_HIT/1dcnn_Chachapoyas_to_Juliaca_HIT-2021-07-05.png','graficos/1dcnn_Chachapoyas_to_Juliaca_HIT/current_day_1dcnn_Chachapoyas_to_Juliaca_HIT-2021-07-05.png');\n",
      "\n",
      "INSERT INTO `DBTesis`.`metrics` (`ml_model_id`, `metric_name`, `date`, `value`, `previous_value`, `metric_image_path`, `metric_current_image_path`)\n",
      "VALUES (6, 'RMSE', '2021-07-06', 348.6869752617582, 412.00560266869456, 'graficos/1dcnn_Chachapoyas_to_Juliaca_HIT/1dcnn_Chachapoyas_to_Juliaca_HIT-2021-07-06.png','graficos/1dcnn_Chachapoyas_to_Juliaca_HIT/current_day_1dcnn_Chachapoyas_to_Juliaca_HIT-2021-07-06.png');\n",
      "\n",
      "INSERT INTO `DBTesis`.`metrics` (`ml_model_id`, `metric_name`, `date`, `value`, `previous_value`, `metric_image_path`, `metric_current_image_path`)\n",
      "VALUES (6, 'RMSE', '2021-07-07', 346.7967473809351, 348.6869752617582, 'graficos/1dcnn_Chachapoyas_to_Juliaca_HIT/1dcnn_Chachapoyas_to_Juliaca_HIT-2021-07-07.png','graficos/1dcnn_Chachapoyas_to_Juliaca_HIT/current_day_1dcnn_Chachapoyas_to_Juliaca_HIT-2021-07-07.png');\n",
      "\n",
      "INSERT INTO `DBTesis`.`metrics` (`ml_model_id`, `metric_name`, `date`, `value`, `previous_value`, `metric_image_path`, `metric_current_image_path`)\n",
      "VALUES (6, 'RMSE', '2021-07-08', 379.0691709053776, 346.7967473809351, 'graficos/1dcnn_Chachapoyas_to_Juliaca_HIT/1dcnn_Chachapoyas_to_Juliaca_HIT-2021-07-08.png','graficos/1dcnn_Chachapoyas_to_Juliaca_HIT/current_day_1dcnn_Chachapoyas_to_Juliaca_HIT-2021-07-08.png');\n",
      "\n",
      "INSERT INTO `DBTesis`.`metrics` (`ml_model_id`, `metric_name`, `date`, `value`, `previous_value`, `metric_image_path`, `metric_current_image_path`)\n",
      "VALUES (6, 'RMSE', '2021-07-09', 503.18893251861203, 379.0691709053776, 'graficos/1dcnn_Chachapoyas_to_Juliaca_HIT/1dcnn_Chachapoyas_to_Juliaca_HIT-2021-07-09.png','graficos/1dcnn_Chachapoyas_to_Juliaca_HIT/current_day_1dcnn_Chachapoyas_to_Juliaca_HIT-2021-07-09.png');\n",
      "\n",
      "INSERT INTO `DBTesis`.`metrics` (`ml_model_id`, `metric_name`, `date`, `value`, `previous_value`, `metric_image_path`, `metric_current_image_path`)\n",
      "VALUES (6, 'RMSE', '2021-07-10', 330.7570387310254, 503.18893251861203, 'graficos/1dcnn_Chachapoyas_to_Juliaca_HIT/1dcnn_Chachapoyas_to_Juliaca_HIT-2021-07-10.png','graficos/1dcnn_Chachapoyas_to_Juliaca_HIT/current_day_1dcnn_Chachapoyas_to_Juliaca_HIT-2021-07-10.png');\n",
      "\n",
      "INSERT INTO `DBTesis`.`metrics` (`ml_model_id`, `metric_name`, `date`, `value`, `previous_value`, `metric_image_path`, `metric_current_image_path`)\n",
      "VALUES (6, 'RMSE', '2021-07-11', 346.2082136307673, 330.7570387310254, 'graficos/1dcnn_Chachapoyas_to_Juliaca_HIT/1dcnn_Chachapoyas_to_Juliaca_HIT-2021-07-11.png','graficos/1dcnn_Chachapoyas_to_Juliaca_HIT/current_day_1dcnn_Chachapoyas_to_Juliaca_HIT-2021-07-11.png');\n",
      "\n",
      "INSERT INTO `DBTesis`.`metrics` (`ml_model_id`, `metric_name`, `date`, `value`, `previous_value`, `metric_image_path`, `metric_current_image_path`)\n",
      "VALUES (6, 'RMSE', '2021-07-12', 303.2683886728641, 346.2082136307673, 'graficos/1dcnn_Chachapoyas_to_Juliaca_HIT/1dcnn_Chachapoyas_to_Juliaca_HIT-2021-07-12.png','graficos/1dcnn_Chachapoyas_to_Juliaca_HIT/current_day_1dcnn_Chachapoyas_to_Juliaca_HIT-2021-07-12.png');\n",
      "\n",
      "INSERT INTO `DBTesis`.`metrics` (`ml_model_id`, `metric_name`, `date`, `value`, `previous_value`, `metric_image_path`, `metric_current_image_path`)\n",
      "VALUES (6, 'RMSE', '2021-07-13', 425.4760603567809, 303.2683886728641, 'graficos/1dcnn_Chachapoyas_to_Juliaca_HIT/1dcnn_Chachapoyas_to_Juliaca_HIT-2021-07-13.png','graficos/1dcnn_Chachapoyas_to_Juliaca_HIT/current_day_1dcnn_Chachapoyas_to_Juliaca_HIT-2021-07-13.png');\n",
      "\n",
      "INSERT INTO `DBTesis`.`metrics` (`ml_model_id`, `metric_name`, `date`, `value`, `previous_value`, `metric_image_path`, `metric_current_image_path`)\n",
      "VALUES (6, 'RMSE', '2021-07-14', 323.96715267670146, 425.4760603567809, 'graficos/1dcnn_Chachapoyas_to_Juliaca_HIT/1dcnn_Chachapoyas_to_Juliaca_HIT-2021-07-14.png','graficos/1dcnn_Chachapoyas_to_Juliaca_HIT/current_day_1dcnn_Chachapoyas_to_Juliaca_HIT-2021-07-14.png');\n",
      "\n",
      "INSERT INTO `DBTesis`.`metrics` (`ml_model_id`, `metric_name`, `date`, `value`, `previous_value`, `metric_image_path`, `metric_current_image_path`)\n",
      "VALUES (6, 'RMSE', '2021-07-15', 240.57679711918212, 323.96715267670146, 'graficos/1dcnn_Chachapoyas_to_Juliaca_HIT/1dcnn_Chachapoyas_to_Juliaca_HIT-2021-07-15.png','graficos/1dcnn_Chachapoyas_to_Juliaca_HIT/current_day_1dcnn_Chachapoyas_to_Juliaca_HIT-2021-07-15.png');\n",
      "\n",
      "INSERT INTO `DBTesis`.`metrics` (`ml_model_id`, `metric_name`, `date`, `value`, `previous_value`, `metric_image_path`, `metric_current_image_path`)\n",
      "VALUES (6, 'RMSE', '2021-07-16', 333.99250018487726, 240.57679711918212, 'graficos/1dcnn_Chachapoyas_to_Juliaca_HIT/1dcnn_Chachapoyas_to_Juliaca_HIT-2021-07-16.png','graficos/1dcnn_Chachapoyas_to_Juliaca_HIT/current_day_1dcnn_Chachapoyas_to_Juliaca_HIT-2021-07-16.png');\n",
      "\n",
      "INSERT INTO `DBTesis`.`metrics` (`ml_model_id`, `metric_name`, `date`, `value`, `previous_value`, `metric_image_path`, `metric_current_image_path`)\n",
      "VALUES (6, 'RMSE', '2021-07-17', 291.18960638213775, 333.99250018487726, 'graficos/1dcnn_Chachapoyas_to_Juliaca_HIT/1dcnn_Chachapoyas_to_Juliaca_HIT-2021-07-17.png','graficos/1dcnn_Chachapoyas_to_Juliaca_HIT/current_day_1dcnn_Chachapoyas_to_Juliaca_HIT-2021-07-17.png');\n",
      "\n",
      "INSERT INTO `DBTesis`.`metrics` (`ml_model_id`, `metric_name`, `date`, `value`, `previous_value`, `metric_image_path`, `metric_current_image_path`)\n",
      "VALUES (6, 'RMSE', '2021-07-18', 332.61275828626674, 291.18960638213775, 'graficos/1dcnn_Chachapoyas_to_Juliaca_HIT/1dcnn_Chachapoyas_to_Juliaca_HIT-2021-07-18.png','graficos/1dcnn_Chachapoyas_to_Juliaca_HIT/current_day_1dcnn_Chachapoyas_to_Juliaca_HIT-2021-07-18.png');\n",
      "\n",
      "INSERT INTO `DBTesis`.`metrics` (`ml_model_id`, `metric_name`, `date`, `value`, `previous_value`, `metric_image_path`, `metric_current_image_path`)\n",
      "VALUES (6, 'RMSE', '2021-07-19', 261.6857673311479, 332.61275828626674, 'graficos/1dcnn_Chachapoyas_to_Juliaca_HIT/1dcnn_Chachapoyas_to_Juliaca_HIT-2021-07-19.png','graficos/1dcnn_Chachapoyas_to_Juliaca_HIT/current_day_1dcnn_Chachapoyas_to_Juliaca_HIT-2021-07-19.png');\n",
      "\n",
      "INSERT INTO `DBTesis`.`metrics` (`ml_model_id`, `metric_name`, `date`, `value`, `previous_value`, `metric_image_path`, `metric_current_image_path`)\n",
      "VALUES (6, 'RMSE', '2021-07-20', 253.8590600736673, 261.6857673311479, 'graficos/1dcnn_Chachapoyas_to_Juliaca_HIT/1dcnn_Chachapoyas_to_Juliaca_HIT-2021-07-20.png','graficos/1dcnn_Chachapoyas_to_Juliaca_HIT/current_day_1dcnn_Chachapoyas_to_Juliaca_HIT-2021-07-20.png');\n",
      "\n",
      "INSERT INTO `DBTesis`.`metrics` (`ml_model_id`, `metric_name`, `date`, `value`, `previous_value`, `metric_image_path`, `metric_current_image_path`)\n",
      "VALUES (6, 'RMSE', '2021-07-21', 180.57157322512617, 253.8590600736673, 'graficos/1dcnn_Chachapoyas_to_Juliaca_HIT/1dcnn_Chachapoyas_to_Juliaca_HIT-2021-07-21.png','graficos/1dcnn_Chachapoyas_to_Juliaca_HIT/current_day_1dcnn_Chachapoyas_to_Juliaca_HIT-2021-07-21.png');\n",
      "\n",
      "INSERT INTO `DBTesis`.`metrics` (`ml_model_id`, `metric_name`, `date`, `value`, `previous_value`, `metric_image_path`, `metric_current_image_path`)\n",
      "VALUES (6, 'RMSE', '2021-07-22', 178.90681404471047, 180.57157322512617, 'graficos/1dcnn_Chachapoyas_to_Juliaca_HIT/1dcnn_Chachapoyas_to_Juliaca_HIT-2021-07-22.png','graficos/1dcnn_Chachapoyas_to_Juliaca_HIT/current_day_1dcnn_Chachapoyas_to_Juliaca_HIT-2021-07-22.png');\n",
      "\n",
      "INSERT INTO `DBTesis`.`metrics` (`ml_model_id`, `metric_name`, `date`, `value`, `previous_value`, `metric_image_path`, `metric_current_image_path`)\n",
      "VALUES (6, 'RMSE', '2021-07-23', 227.58196290424436, 178.90681404471047, 'graficos/1dcnn_Chachapoyas_to_Juliaca_HIT/1dcnn_Chachapoyas_to_Juliaca_HIT-2021-07-23.png','graficos/1dcnn_Chachapoyas_to_Juliaca_HIT/current_day_1dcnn_Chachapoyas_to_Juliaca_HIT-2021-07-23.png');\n",
      "\n",
      "INSERT INTO `DBTesis`.`metrics` (`ml_model_id`, `metric_name`, `date`, `value`, `previous_value`, `metric_image_path`, `metric_current_image_path`)\n",
      "VALUES (6, 'RMSE', '2021-07-24', 226.97501259069804, 227.58196290424436, 'graficos/1dcnn_Chachapoyas_to_Juliaca_HIT/1dcnn_Chachapoyas_to_Juliaca_HIT-2021-07-24.png','graficos/1dcnn_Chachapoyas_to_Juliaca_HIT/current_day_1dcnn_Chachapoyas_to_Juliaca_HIT-2021-07-24.png');\n",
      "\n",
      "INSERT INTO `DBTesis`.`metrics` (`ml_model_id`, `metric_name`, `date`, `value`, `previous_value`, `metric_image_path`, `metric_current_image_path`)\n",
      "VALUES (6, 'RMSE', '2021-07-25', 226.97471057461394, 226.97501259069804, 'graficos/1dcnn_Chachapoyas_to_Juliaca_HIT/1dcnn_Chachapoyas_to_Juliaca_HIT-2021-07-25.png','graficos/1dcnn_Chachapoyas_to_Juliaca_HIT/current_day_1dcnn_Chachapoyas_to_Juliaca_HIT-2021-07-25.png');\n",
      "\n",
      "INSERT INTO `DBTesis`.`metrics` (`ml_model_id`, `metric_name`, `date`, `value`, `previous_value`, `metric_image_path`, `metric_current_image_path`)\n",
      "VALUES (6, 'RMSE', '2021-07-26', 324.5911424144451, 226.97471057461394, 'graficos/1dcnn_Chachapoyas_to_Juliaca_HIT/1dcnn_Chachapoyas_to_Juliaca_HIT-2021-07-26.png','graficos/1dcnn_Chachapoyas_to_Juliaca_HIT/current_day_1dcnn_Chachapoyas_to_Juliaca_HIT-2021-07-26.png');\n",
      "\n",
      "INSERT INTO `DBTesis`.`metrics` (`ml_model_id`, `metric_name`, `date`, `value`, `previous_value`, `metric_image_path`, `metric_current_image_path`)\n",
      "VALUES (6, 'RMSE', '2021-07-27', 241.04405675397456, 324.5911424144451, 'graficos/1dcnn_Chachapoyas_to_Juliaca_HIT/1dcnn_Chachapoyas_to_Juliaca_HIT-2021-07-27.png','graficos/1dcnn_Chachapoyas_to_Juliaca_HIT/current_day_1dcnn_Chachapoyas_to_Juliaca_HIT-2021-07-27.png');\n",
      "\n",
      "INSERT INTO `DBTesis`.`metrics` (`ml_model_id`, `metric_name`, `date`, `value`, `previous_value`, `metric_image_path`, `metric_current_image_path`)\n",
      "VALUES (6, 'RMSE', '2021-07-28', 272.22576921889413, 241.04405675397456, 'graficos/1dcnn_Chachapoyas_to_Juliaca_HIT/1dcnn_Chachapoyas_to_Juliaca_HIT-2021-07-28.png','graficos/1dcnn_Chachapoyas_to_Juliaca_HIT/current_day_1dcnn_Chachapoyas_to_Juliaca_HIT-2021-07-28.png');\n",
      "\n",
      "INSERT INTO `DBTesis`.`metrics` (`ml_model_id`, `metric_name`, `date`, `value`, `previous_value`, `metric_image_path`, `metric_current_image_path`)\n",
      "VALUES (6, 'RMSE', '2021-07-29', 371.172718547341, 272.22576921889413, 'graficos/1dcnn_Chachapoyas_to_Juliaca_HIT/1dcnn_Chachapoyas_to_Juliaca_HIT-2021-07-29.png','graficos/1dcnn_Chachapoyas_to_Juliaca_HIT/current_day_1dcnn_Chachapoyas_to_Juliaca_HIT-2021-07-29.png');\n",
      "\n",
      "INSERT INTO `DBTesis`.`metrics` (`ml_model_id`, `metric_name`, `date`, `value`, `previous_value`, `metric_image_path`, `metric_current_image_path`)\n",
      "VALUES (6, 'RMSE', '2021-07-30', 268.45787612439744, 371.172718547341, 'graficos/1dcnn_Chachapoyas_to_Juliaca_HIT/1dcnn_Chachapoyas_to_Juliaca_HIT-2021-07-30.png','graficos/1dcnn_Chachapoyas_to_Juliaca_HIT/current_day_1dcnn_Chachapoyas_to_Juliaca_HIT-2021-07-30.png');\n",
      "\n",
      "INSERT INTO `DBTesis`.`metrics` (`ml_model_id`, `metric_name`, `date`, `value`, `previous_value`, `metric_image_path`, `metric_current_image_path`)\n",
      "VALUES (6, 'RMSE', '2021-07-31', 358.9496150685311, 268.45787612439744, 'graficos/1dcnn_Chachapoyas_to_Juliaca_HIT/1dcnn_Chachapoyas_to_Juliaca_HIT-2021-07-31.png','graficos/1dcnn_Chachapoyas_to_Juliaca_HIT/current_day_1dcnn_Chachapoyas_to_Juliaca_HIT-2021-07-31.png');\n",
      "\n",
      "INSERT INTO `DBTesis`.`metrics` (`ml_model_id`, `metric_name`, `date`, `value`, `previous_value`, `metric_image_path`, `metric_current_image_path`)\n",
      "VALUES (6, 'RMSE', '2021-08-01', 490.0220918295367, 358.9496150685311, 'graficos/1dcnn_Chachapoyas_to_Juliaca_HIT/1dcnn_Chachapoyas_to_Juliaca_HIT-2021-08-01.png','graficos/1dcnn_Chachapoyas_to_Juliaca_HIT/current_day_1dcnn_Chachapoyas_to_Juliaca_HIT-2021-08-01.png');\n",
      "\n",
      "INSERT INTO `DBTesis`.`metrics` (`ml_model_id`, `metric_name`, `date`, `value`, `previous_value`, `metric_image_path`, `metric_current_image_path`)\n",
      "VALUES (6, 'RMSE', '2021-08-02', 249.5388090933887, 490.0220918295367, 'graficos/1dcnn_Chachapoyas_to_Juliaca_HIT/1dcnn_Chachapoyas_to_Juliaca_HIT-2021-08-02.png','graficos/1dcnn_Chachapoyas_to_Juliaca_HIT/current_day_1dcnn_Chachapoyas_to_Juliaca_HIT-2021-08-02.png');\n",
      "\n",
      "INSERT INTO `DBTesis`.`metrics` (`ml_model_id`, `metric_name`, `date`, `value`, `previous_value`, `metric_image_path`, `metric_current_image_path`)\n",
      "VALUES (6, 'RMSE', '2021-08-03', 292.47290526308154, 249.5388090933887, 'graficos/1dcnn_Chachapoyas_to_Juliaca_HIT/1dcnn_Chachapoyas_to_Juliaca_HIT-2021-08-03.png','graficos/1dcnn_Chachapoyas_to_Juliaca_HIT/current_day_1dcnn_Chachapoyas_to_Juliaca_HIT-2021-08-03.png');\n",
      "\n",
      "INSERT INTO `DBTesis`.`metrics` (`ml_model_id`, `metric_name`, `date`, `value`, `previous_value`, `metric_image_path`, `metric_current_image_path`)\n",
      "VALUES (6, 'RMSE', '2021-08-04', 3074.814062122751, 292.47290526308154, 'graficos/1dcnn_Chachapoyas_to_Juliaca_HIT/1dcnn_Chachapoyas_to_Juliaca_HIT-2021-08-04.png','graficos/1dcnn_Chachapoyas_to_Juliaca_HIT/current_day_1dcnn_Chachapoyas_to_Juliaca_HIT-2021-08-04.png');\n",
      "\n",
      "INSERT INTO `DBTesis`.`metrics` (`ml_model_id`, `metric_name`, `date`, `value`, `previous_value`, `metric_image_path`, `metric_current_image_path`)\n",
      "VALUES (6, 'RMSE', '2021-08-05', 14408.747553795589, 3074.814062122751, 'graficos/1dcnn_Chachapoyas_to_Juliaca_HIT/1dcnn_Chachapoyas_to_Juliaca_HIT-2021-08-05.png','graficos/1dcnn_Chachapoyas_to_Juliaca_HIT/current_day_1dcnn_Chachapoyas_to_Juliaca_HIT-2021-08-05.png');\n",
      "\n",
      "INSERT INTO `DBTesis`.`metrics` (`ml_model_id`, `metric_name`, `date`, `value`, `previous_value`, `metric_image_path`, `metric_current_image_path`)\n",
      "VALUES (6, 'RMSE', '2021-08-06', 14408.747553795589, 14408.747553795589, 'graficos/1dcnn_Chachapoyas_to_Juliaca_HIT/1dcnn_Chachapoyas_to_Juliaca_HIT-2021-08-06.png','graficos/1dcnn_Chachapoyas_to_Juliaca_HIT/current_day_1dcnn_Chachapoyas_to_Juliaca_HIT-2021-08-06.png');\n",
      "\n",
      "INSERT INTO `DBTesis`.`metrics` (`ml_model_id`, `metric_name`, `date`, `value`, `previous_value`, `metric_image_path`, `metric_current_image_path`)\n",
      "VALUES (6, 'RMSE', '2021-08-07', 14408.747553795589, 14408.747553795589, 'graficos/1dcnn_Chachapoyas_to_Juliaca_HIT/1dcnn_Chachapoyas_to_Juliaca_HIT-2021-08-07.png','graficos/1dcnn_Chachapoyas_to_Juliaca_HIT/current_day_1dcnn_Chachapoyas_to_Juliaca_HIT-2021-08-07.png');\n",
      "\n",
      "INSERT INTO `DBTesis`.`metrics` (`ml_model_id`, `metric_name`, `date`, `value`, `previous_value`, `metric_image_path`, `metric_current_image_path`)\n",
      "VALUES (6, 'RMSE', '2021-08-08', 14408.747553795589, 14408.747553795589, 'graficos/1dcnn_Chachapoyas_to_Juliaca_HIT/1dcnn_Chachapoyas_to_Juliaca_HIT-2021-08-08.png','graficos/1dcnn_Chachapoyas_to_Juliaca_HIT/current_day_1dcnn_Chachapoyas_to_Juliaca_HIT-2021-08-08.png');\n",
      "\n",
      "INSERT INTO `DBTesis`.`metrics` (`ml_model_id`, `metric_name`, `date`, `value`, `previous_value`, `metric_image_path`, `metric_current_image_path`)\n",
      "VALUES (6, 'RMSE', '2021-08-09', 14408.747553795589, 14408.747553795589, 'graficos/1dcnn_Chachapoyas_to_Juliaca_HIT/1dcnn_Chachapoyas_to_Juliaca_HIT-2021-08-09.png','graficos/1dcnn_Chachapoyas_to_Juliaca_HIT/current_day_1dcnn_Chachapoyas_to_Juliaca_HIT-2021-08-09.png');\n",
      "\n",
      "INSERT INTO `DBTesis`.`metrics` (`ml_model_id`, `metric_name`, `date`, `value`, `previous_value`, `metric_image_path`, `metric_current_image_path`)\n",
      "VALUES (6, 'RMSE', '2021-08-10', 14480.15759433349, 14408.747553795589, 'graficos/1dcnn_Chachapoyas_to_Juliaca_HIT/1dcnn_Chachapoyas_to_Juliaca_HIT-2021-08-10.png','graficos/1dcnn_Chachapoyas_to_Juliaca_HIT/current_day_1dcnn_Chachapoyas_to_Juliaca_HIT-2021-08-10.png');\n",
      "\n",
      "INSERT INTO `DBTesis`.`metrics` (`ml_model_id`, `metric_name`, `date`, `value`, `previous_value`, `metric_image_path`, `metric_current_image_path`)\n",
      "VALUES (6, 'RMSE', '2021-08-11', 261.5028917147799, 14480.15759433349, 'graficos/1dcnn_Chachapoyas_to_Juliaca_HIT/1dcnn_Chachapoyas_to_Juliaca_HIT-2021-08-11.png','graficos/1dcnn_Chachapoyas_to_Juliaca_HIT/current_day_1dcnn_Chachapoyas_to_Juliaca_HIT-2021-08-11.png');\n",
      "\n",
      "INSERT INTO `DBTesis`.`metrics` (`ml_model_id`, `metric_name`, `date`, `value`, `previous_value`, `metric_image_path`, `metric_current_image_path`)\n",
      "VALUES (6, 'RMSE', '2021-08-12', 206.22266854238364, 261.5028917147799, 'graficos/1dcnn_Chachapoyas_to_Juliaca_HIT/1dcnn_Chachapoyas_to_Juliaca_HIT-2021-08-12.png','graficos/1dcnn_Chachapoyas_to_Juliaca_HIT/current_day_1dcnn_Chachapoyas_to_Juliaca_HIT-2021-08-12.png');\n",
      "\n",
      "INSERT INTO `DBTesis`.`metrics` (`ml_model_id`, `metric_name`, `date`, `value`, `previous_value`, `metric_image_path`, `metric_current_image_path`)\n",
      "VALUES (6, 'RMSE', '2021-08-13', 374.6775674358288, 206.22266854238364, 'graficos/1dcnn_Chachapoyas_to_Juliaca_HIT/1dcnn_Chachapoyas_to_Juliaca_HIT-2021-08-13.png','graficos/1dcnn_Chachapoyas_to_Juliaca_HIT/current_day_1dcnn_Chachapoyas_to_Juliaca_HIT-2021-08-13.png');\n",
      "\n",
      "INSERT INTO `DBTesis`.`metrics` (`ml_model_id`, `metric_name`, `date`, `value`, `previous_value`, `metric_image_path`, `metric_current_image_path`)\n",
      "VALUES (6, 'RMSE', '2021-08-14', 275.5327595878187, 374.6775674358288, 'graficos/1dcnn_Chachapoyas_to_Juliaca_HIT/1dcnn_Chachapoyas_to_Juliaca_HIT-2021-08-14.png','graficos/1dcnn_Chachapoyas_to_Juliaca_HIT/current_day_1dcnn_Chachapoyas_to_Juliaca_HIT-2021-08-14.png');\n",
      "\n",
      "INSERT INTO `DBTesis`.`metrics` (`ml_model_id`, `metric_name`, `date`, `value`, `previous_value`, `metric_image_path`, `metric_current_image_path`)\n",
      "VALUES (6, 'RMSE', '2021-08-15', 347.63267251337425, 275.5327595878187, 'graficos/1dcnn_Chachapoyas_to_Juliaca_HIT/1dcnn_Chachapoyas_to_Juliaca_HIT-2021-08-15.png','graficos/1dcnn_Chachapoyas_to_Juliaca_HIT/current_day_1dcnn_Chachapoyas_to_Juliaca_HIT-2021-08-15.png');\n",
      "\n",
      "INSERT INTO `DBTesis`.`metrics` (`ml_model_id`, `metric_name`, `date`, `value`, `previous_value`, `metric_image_path`, `metric_current_image_path`)\n",
      "VALUES (6, 'RMSE', '2021-08-16', 321.9939828290172, 347.63267251337425, 'graficos/1dcnn_Chachapoyas_to_Juliaca_HIT/1dcnn_Chachapoyas_to_Juliaca_HIT-2021-08-16.png','graficos/1dcnn_Chachapoyas_to_Juliaca_HIT/current_day_1dcnn_Chachapoyas_to_Juliaca_HIT-2021-08-16.png');\n",
      "\n",
      "INSERT INTO `DBTesis`.`metrics` (`ml_model_id`, `metric_name`, `date`, `value`, `previous_value`, `metric_image_path`, `metric_current_image_path`)\n",
      "VALUES (6, 'RMSE', '2021-08-17', 246.05998672493004, 321.9939828290172, 'graficos/1dcnn_Chachapoyas_to_Juliaca_HIT/1dcnn_Chachapoyas_to_Juliaca_HIT-2021-08-17.png','graficos/1dcnn_Chachapoyas_to_Juliaca_HIT/current_day_1dcnn_Chachapoyas_to_Juliaca_HIT-2021-08-17.png');\n",
      "\n",
      "INSERT INTO `DBTesis`.`metrics` (`ml_model_id`, `metric_name`, `date`, `value`, `previous_value`, `metric_image_path`, `metric_current_image_path`)\n",
      "VALUES (6, 'RMSE', '2021-08-18', 209.54947066207168, 246.05998672493004, 'graficos/1dcnn_Chachapoyas_to_Juliaca_HIT/1dcnn_Chachapoyas_to_Juliaca_HIT-2021-08-18.png','graficos/1dcnn_Chachapoyas_to_Juliaca_HIT/current_day_1dcnn_Chachapoyas_to_Juliaca_HIT-2021-08-18.png');\n",
      "\n",
      "INSERT INTO `DBTesis`.`metrics` (`ml_model_id`, `metric_name`, `date`, `value`, `previous_value`, `metric_image_path`, `metric_current_image_path`)\n",
      "VALUES (6, 'RMSE', '2021-08-19', 10125.594080465424, 209.54947066207168, 'graficos/1dcnn_Chachapoyas_to_Juliaca_HIT/1dcnn_Chachapoyas_to_Juliaca_HIT-2021-08-19.png','graficos/1dcnn_Chachapoyas_to_Juliaca_HIT/current_day_1dcnn_Chachapoyas_to_Juliaca_HIT-2021-08-19.png');\n",
      "\n",
      "INSERT INTO `DBTesis`.`metrics` (`ml_model_id`, `metric_name`, `date`, `value`, `previous_value`, `metric_image_path`, `metric_current_image_path`)\n",
      "VALUES (6, 'RMSE', '2021-08-20', 27173.918746511692, 10125.594080465424, 'graficos/1dcnn_Chachapoyas_to_Juliaca_HIT/1dcnn_Chachapoyas_to_Juliaca_HIT-2021-08-20.png','graficos/1dcnn_Chachapoyas_to_Juliaca_HIT/current_day_1dcnn_Chachapoyas_to_Juliaca_HIT-2021-08-20.png');\n",
      "\n",
      "INSERT INTO `DBTesis`.`metrics` (`ml_model_id`, `metric_name`, `date`, `value`, `previous_value`, `metric_image_path`, `metric_current_image_path`)\n",
      "VALUES (6, 'RMSE', '2021-08-21', 26881.902671329295, 27173.918746511692, 'graficos/1dcnn_Chachapoyas_to_Juliaca_HIT/1dcnn_Chachapoyas_to_Juliaca_HIT-2021-08-21.png','graficos/1dcnn_Chachapoyas_to_Juliaca_HIT/current_day_1dcnn_Chachapoyas_to_Juliaca_HIT-2021-08-21.png');\n",
      "\n",
      "INSERT INTO `DBTesis`.`metrics` (`ml_model_id`, `metric_name`, `date`, `value`, `previous_value`, `metric_image_path`, `metric_current_image_path`)\n",
      "VALUES (6, 'RMSE', '2021-08-22', 26871.71958891963, 26881.902671329295, 'graficos/1dcnn_Chachapoyas_to_Juliaca_HIT/1dcnn_Chachapoyas_to_Juliaca_HIT-2021-08-22.png','graficos/1dcnn_Chachapoyas_to_Juliaca_HIT/current_day_1dcnn_Chachapoyas_to_Juliaca_HIT-2021-08-22.png');\n",
      "\n",
      "INSERT INTO `DBTesis`.`metrics` (`ml_model_id`, `metric_name`, `date`, `value`, `previous_value`, `metric_image_path`, `metric_current_image_path`)\n",
      "VALUES (6, 'RMSE', '2021-08-23', 27117.455455835636, 26871.71958891963, 'graficos/1dcnn_Chachapoyas_to_Juliaca_HIT/1dcnn_Chachapoyas_to_Juliaca_HIT-2021-08-23.png','graficos/1dcnn_Chachapoyas_to_Juliaca_HIT/current_day_1dcnn_Chachapoyas_to_Juliaca_HIT-2021-08-23.png');\n",
      "\n",
      "INSERT INTO `DBTesis`.`metrics` (`ml_model_id`, `metric_name`, `date`, `value`, `previous_value`, `metric_image_path`, `metric_current_image_path`)\n",
      "VALUES (6, 'RMSE', '2021-08-24', 26784.469959317757, 27117.455455835636, 'graficos/1dcnn_Chachapoyas_to_Juliaca_HIT/1dcnn_Chachapoyas_to_Juliaca_HIT-2021-08-24.png','graficos/1dcnn_Chachapoyas_to_Juliaca_HIT/current_day_1dcnn_Chachapoyas_to_Juliaca_HIT-2021-08-24.png');\n",
      "\n",
      "INSERT INTO `DBTesis`.`metrics` (`ml_model_id`, `metric_name`, `date`, `value`, `previous_value`, `metric_image_path`, `metric_current_image_path`)\n",
      "VALUES (6, 'RMSE', '2021-08-25', 26081.12371869534, 26784.469959317757, 'graficos/1dcnn_Chachapoyas_to_Juliaca_HIT/1dcnn_Chachapoyas_to_Juliaca_HIT-2021-08-25.png','graficos/1dcnn_Chachapoyas_to_Juliaca_HIT/current_day_1dcnn_Chachapoyas_to_Juliaca_HIT-2021-08-25.png');\n",
      "\n",
      "INSERT INTO `DBTesis`.`metrics` (`ml_model_id`, `metric_name`, `date`, `value`, `previous_value`, `metric_image_path`, `metric_current_image_path`)\n",
      "VALUES (6, 'RMSE', '2021-08-26', 26671.865630689932, 26081.12371869534, 'graficos/1dcnn_Chachapoyas_to_Juliaca_HIT/1dcnn_Chachapoyas_to_Juliaca_HIT-2021-08-26.png','graficos/1dcnn_Chachapoyas_to_Juliaca_HIT/current_day_1dcnn_Chachapoyas_to_Juliaca_HIT-2021-08-26.png');\n",
      "\n",
      "INSERT INTO `DBTesis`.`metrics` (`ml_model_id`, `metric_name`, `date`, `value`, `previous_value`, `metric_image_path`, `metric_current_image_path`)\n",
      "VALUES (6, 'RMSE', '2021-08-27', 26388.688347043077, 26671.865630689932, 'graficos/1dcnn_Chachapoyas_to_Juliaca_HIT/1dcnn_Chachapoyas_to_Juliaca_HIT-2021-08-27.png','graficos/1dcnn_Chachapoyas_to_Juliaca_HIT/current_day_1dcnn_Chachapoyas_to_Juliaca_HIT-2021-08-27.png');\n",
      "\n",
      "INSERT INTO `DBTesis`.`metrics` (`ml_model_id`, `metric_name`, `date`, `value`, `previous_value`, `metric_image_path`, `metric_current_image_path`)\n",
      "VALUES (6, 'RMSE', '2021-08-28', 30869.08934763221, 26388.688347043077, 'graficos/1dcnn_Chachapoyas_to_Juliaca_HIT/1dcnn_Chachapoyas_to_Juliaca_HIT-2021-08-28.png','graficos/1dcnn_Chachapoyas_to_Juliaca_HIT/current_day_1dcnn_Chachapoyas_to_Juliaca_HIT-2021-08-28.png');\n",
      "\n",
      "INSERT INTO `DBTesis`.`metrics` (`ml_model_id`, `metric_name`, `date`, `value`, `previous_value`, `metric_image_path`, `metric_current_image_path`)\n",
      "VALUES (6, 'RMSE', '2021-08-29', 14422.728376518555, 30869.08934763221, 'graficos/1dcnn_Chachapoyas_to_Juliaca_HIT/1dcnn_Chachapoyas_to_Juliaca_HIT-2021-08-29.png','graficos/1dcnn_Chachapoyas_to_Juliaca_HIT/current_day_1dcnn_Chachapoyas_to_Juliaca_HIT-2021-08-29.png');\n",
      "\n",
      "INSERT INTO `DBTesis`.`metrics` (`ml_model_id`, `metric_name`, `date`, `value`, `previous_value`, `metric_image_path`, `metric_current_image_path`)\n",
      "VALUES (6, 'RMSE', '2021-08-30', 26201.773541973893, 14422.728376518555, 'graficos/1dcnn_Chachapoyas_to_Juliaca_HIT/1dcnn_Chachapoyas_to_Juliaca_HIT-2021-08-30.png','graficos/1dcnn_Chachapoyas_to_Juliaca_HIT/current_day_1dcnn_Chachapoyas_to_Juliaca_HIT-2021-08-30.png');\n",
      "\n",
      "INSERT INTO `DBTesis`.`metrics` (`ml_model_id`, `metric_name`, `date`, `value`, `previous_value`, `metric_image_path`, `metric_current_image_path`)\n",
      "VALUES (6, 'RMSE', '2021-08-31', 26907.405908661804, 26201.773541973893, 'graficos/1dcnn_Chachapoyas_to_Juliaca_HIT/1dcnn_Chachapoyas_to_Juliaca_HIT-2021-08-31.png','graficos/1dcnn_Chachapoyas_to_Juliaca_HIT/current_day_1dcnn_Chachapoyas_to_Juliaca_HIT-2021-08-31.png');\n",
      "\n",
      "INSERT INTO `DBTesis`.`metrics` (`ml_model_id`, `metric_name`, `date`, `value`, `previous_value`, `metric_image_path`, `metric_current_image_path`)\n",
      "VALUES (6, 'RMSE', '2021-09-01', 26929.89771143533, 26907.405908661804, 'graficos/1dcnn_Chachapoyas_to_Juliaca_HIT/1dcnn_Chachapoyas_to_Juliaca_HIT-2021-09-01.png','graficos/1dcnn_Chachapoyas_to_Juliaca_HIT/current_day_1dcnn_Chachapoyas_to_Juliaca_HIT-2021-09-01.png');\n",
      "\n",
      "INSERT INTO `DBTesis`.`metrics` (`ml_model_id`, `metric_name`, `date`, `value`, `previous_value`, `metric_image_path`, `metric_current_image_path`)\n",
      "VALUES (6, 'RMSE', '2021-09-02', 26909.066417240505, 26929.89771143533, 'graficos/1dcnn_Chachapoyas_to_Juliaca_HIT/1dcnn_Chachapoyas_to_Juliaca_HIT-2021-09-02.png','graficos/1dcnn_Chachapoyas_to_Juliaca_HIT/current_day_1dcnn_Chachapoyas_to_Juliaca_HIT-2021-09-02.png');\n",
      "\n",
      "INSERT INTO `DBTesis`.`metrics` (`ml_model_id`, `metric_name`, `date`, `value`, `previous_value`, `metric_image_path`, `metric_current_image_path`)\n",
      "VALUES (6, 'RMSE', '2021-09-03', 26989.24589247135, 26909.066417240505, 'graficos/1dcnn_Chachapoyas_to_Juliaca_HIT/1dcnn_Chachapoyas_to_Juliaca_HIT-2021-09-03.png','graficos/1dcnn_Chachapoyas_to_Juliaca_HIT/current_day_1dcnn_Chachapoyas_to_Juliaca_HIT-2021-09-03.png');\n",
      "\n",
      "INSERT INTO `DBTesis`.`metrics` (`ml_model_id`, `metric_name`, `date`, `value`, `previous_value`, `metric_image_path`, `metric_current_image_path`)\n",
      "VALUES (6, 'RMSE', '2021-09-04', 27593.76738211637, 26989.24589247135, 'graficos/1dcnn_Chachapoyas_to_Juliaca_HIT/1dcnn_Chachapoyas_to_Juliaca_HIT-2021-09-04.png','graficos/1dcnn_Chachapoyas_to_Juliaca_HIT/current_day_1dcnn_Chachapoyas_to_Juliaca_HIT-2021-09-04.png');\n",
      "\n",
      "INSERT INTO `DBTesis`.`metrics` (`ml_model_id`, `metric_name`, `date`, `value`, `previous_value`, `metric_image_path`, `metric_current_image_path`)\n",
      "VALUES (6, 'RMSE', '2021-09-05', 27906.6908227972, 27593.76738211637, 'graficos/1dcnn_Chachapoyas_to_Juliaca_HIT/1dcnn_Chachapoyas_to_Juliaca_HIT-2021-09-05.png','graficos/1dcnn_Chachapoyas_to_Juliaca_HIT/current_day_1dcnn_Chachapoyas_to_Juliaca_HIT-2021-09-05.png');\n",
      "\n",
      "INSERT INTO `DBTesis`.`metrics` (`ml_model_id`, `metric_name`, `date`, `value`, `previous_value`, `metric_image_path`, `metric_current_image_path`)\n",
      "VALUES (6, 'RMSE', '2021-09-06', 28100.831595442458, 27906.6908227972, 'graficos/1dcnn_Chachapoyas_to_Juliaca_HIT/1dcnn_Chachapoyas_to_Juliaca_HIT-2021-09-06.png','graficos/1dcnn_Chachapoyas_to_Juliaca_HIT/current_day_1dcnn_Chachapoyas_to_Juliaca_HIT-2021-09-06.png');\n",
      "\n",
      "INSERT INTO `DBTesis`.`metrics` (`ml_model_id`, `metric_name`, `date`, `value`, `previous_value`, `metric_image_path`, `metric_current_image_path`)\n",
      "VALUES (6, 'RMSE', '2021-09-07', 25254.663011463195, 28100.831595442458, 'graficos/1dcnn_Chachapoyas_to_Juliaca_HIT/1dcnn_Chachapoyas_to_Juliaca_HIT-2021-09-07.png','graficos/1dcnn_Chachapoyas_to_Juliaca_HIT/current_day_1dcnn_Chachapoyas_to_Juliaca_HIT-2021-09-07.png');\n",
      "\n",
      "INSERT INTO `DBTesis`.`metrics` (`ml_model_id`, `metric_name`, `date`, `value`, `previous_value`, `metric_image_path`, `metric_current_image_path`)\n",
      "VALUES (6, 'RMSE', '2021-09-08', 24239.552801700407, 25254.663011463195, 'graficos/1dcnn_Chachapoyas_to_Juliaca_HIT/1dcnn_Chachapoyas_to_Juliaca_HIT-2021-09-08.png','graficos/1dcnn_Chachapoyas_to_Juliaca_HIT/current_day_1dcnn_Chachapoyas_to_Juliaca_HIT-2021-09-08.png');\n",
      "\n",
      "INSERT INTO `DBTesis`.`metrics` (`ml_model_id`, `metric_name`, `date`, `value`, `previous_value`, `metric_image_path`, `metric_current_image_path`)\n",
      "VALUES (6, 'RMSE', '2021-09-09', 25752.94349941243, 24239.552801700407, 'graficos/1dcnn_Chachapoyas_to_Juliaca_HIT/1dcnn_Chachapoyas_to_Juliaca_HIT-2021-09-09.png','graficos/1dcnn_Chachapoyas_to_Juliaca_HIT/current_day_1dcnn_Chachapoyas_to_Juliaca_HIT-2021-09-09.png');\n",
      "\n",
      "INSERT INTO `DBTesis`.`metrics` (`ml_model_id`, `metric_name`, `date`, `value`, `previous_value`, `metric_image_path`, `metric_current_image_path`)\n",
      "VALUES (6, 'RMSE', '2021-09-10', 25947.873550255223, 25752.94349941243, 'graficos/1dcnn_Chachapoyas_to_Juliaca_HIT/1dcnn_Chachapoyas_to_Juliaca_HIT-2021-09-10.png','graficos/1dcnn_Chachapoyas_to_Juliaca_HIT/current_day_1dcnn_Chachapoyas_to_Juliaca_HIT-2021-09-10.png');\n",
      "\n",
      "INSERT INTO `DBTesis`.`metrics` (`ml_model_id`, `metric_name`, `date`, `value`, `previous_value`, `metric_image_path`, `metric_current_image_path`)\n",
      "VALUES (6, 'RMSE', '2021-09-11', 24772.78602453203, 25947.873550255223, 'graficos/1dcnn_Chachapoyas_to_Juliaca_HIT/1dcnn_Chachapoyas_to_Juliaca_HIT-2021-09-11.png','graficos/1dcnn_Chachapoyas_to_Juliaca_HIT/current_day_1dcnn_Chachapoyas_to_Juliaca_HIT-2021-09-11.png');\n",
      "\n",
      "INSERT INTO `DBTesis`.`metrics` (`ml_model_id`, `metric_name`, `date`, `value`, `previous_value`, `metric_image_path`, `metric_current_image_path`)\n",
      "VALUES (6, 'RMSE', '2021-09-12', 24409.02610762763, 24772.78602453203, 'graficos/1dcnn_Chachapoyas_to_Juliaca_HIT/1dcnn_Chachapoyas_to_Juliaca_HIT-2021-09-12.png','graficos/1dcnn_Chachapoyas_to_Juliaca_HIT/current_day_1dcnn_Chachapoyas_to_Juliaca_HIT-2021-09-12.png');\n",
      "\n",
      "INSERT INTO `DBTesis`.`metrics` (`ml_model_id`, `metric_name`, `date`, `value`, `previous_value`, `metric_image_path`, `metric_current_image_path`)\n",
      "VALUES (6, 'RMSE', '2021-09-13', 23701.53631547747, 24409.02610762763, 'graficos/1dcnn_Chachapoyas_to_Juliaca_HIT/1dcnn_Chachapoyas_to_Juliaca_HIT-2021-09-13.png','graficos/1dcnn_Chachapoyas_to_Juliaca_HIT/current_day_1dcnn_Chachapoyas_to_Juliaca_HIT-2021-09-13.png');\n",
      "\n",
      "INSERT INTO `DBTesis`.`metrics` (`ml_model_id`, `metric_name`, `date`, `value`, `previous_value`, `metric_image_path`, `metric_current_image_path`)\n",
      "VALUES (6, 'RMSE', '2021-09-14', 28371.612048168314, 23701.53631547747, 'graficos/1dcnn_Chachapoyas_to_Juliaca_HIT/1dcnn_Chachapoyas_to_Juliaca_HIT-2021-09-14.png','graficos/1dcnn_Chachapoyas_to_Juliaca_HIT/current_day_1dcnn_Chachapoyas_to_Juliaca_HIT-2021-09-14.png');\n",
      "\n",
      "INSERT INTO `DBTesis`.`metrics` (`ml_model_id`, `metric_name`, `date`, `value`, `previous_value`, `metric_image_path`, `metric_current_image_path`)\n",
      "VALUES (6, 'RMSE', '2021-09-15', 26509.93354505529, 28371.612048168314, 'graficos/1dcnn_Chachapoyas_to_Juliaca_HIT/1dcnn_Chachapoyas_to_Juliaca_HIT-2021-09-15.png','graficos/1dcnn_Chachapoyas_to_Juliaca_HIT/current_day_1dcnn_Chachapoyas_to_Juliaca_HIT-2021-09-15.png');\n",
      "\n",
      "INSERT INTO `DBTesis`.`metrics` (`ml_model_id`, `metric_name`, `date`, `value`, `previous_value`, `metric_image_path`, `metric_current_image_path`)\n",
      "VALUES (6, 'RMSE', '2021-09-16', 26213.512092581204, 26509.93354505529, 'graficos/1dcnn_Chachapoyas_to_Juliaca_HIT/1dcnn_Chachapoyas_to_Juliaca_HIT-2021-09-16.png','graficos/1dcnn_Chachapoyas_to_Juliaca_HIT/current_day_1dcnn_Chachapoyas_to_Juliaca_HIT-2021-09-16.png');\n",
      "\n",
      "INSERT INTO `DBTesis`.`metrics` (`ml_model_id`, `metric_name`, `date`, `value`, `previous_value`, `metric_image_path`, `metric_current_image_path`)\n",
      "VALUES (6, 'RMSE', '2021-09-17', 26672.539558711447, 26213.512092581204, 'graficos/1dcnn_Chachapoyas_to_Juliaca_HIT/1dcnn_Chachapoyas_to_Juliaca_HIT-2021-09-17.png','graficos/1dcnn_Chachapoyas_to_Juliaca_HIT/current_day_1dcnn_Chachapoyas_to_Juliaca_HIT-2021-09-17.png');\n",
      "\n",
      "INSERT INTO `DBTesis`.`metrics` (`ml_model_id`, `metric_name`, `date`, `value`, `previous_value`, `metric_image_path`, `metric_current_image_path`)\n",
      "VALUES (6, 'RMSE', '2021-09-18', 28312.605302606524, 26672.539558711447, 'graficos/1dcnn_Chachapoyas_to_Juliaca_HIT/1dcnn_Chachapoyas_to_Juliaca_HIT-2021-09-18.png','graficos/1dcnn_Chachapoyas_to_Juliaca_HIT/current_day_1dcnn_Chachapoyas_to_Juliaca_HIT-2021-09-18.png');\n",
      "\n",
      "INSERT INTO `DBTesis`.`metrics` (`ml_model_id`, `metric_name`, `date`, `value`, `previous_value`, `metric_image_path`, `metric_current_image_path`)\n",
      "VALUES (6, 'RMSE', '2021-09-19', 23845.773885653194, 28312.605302606524, 'graficos/1dcnn_Chachapoyas_to_Juliaca_HIT/1dcnn_Chachapoyas_to_Juliaca_HIT-2021-09-19.png','graficos/1dcnn_Chachapoyas_to_Juliaca_HIT/current_day_1dcnn_Chachapoyas_to_Juliaca_HIT-2021-09-19.png');\n",
      "\n",
      "INSERT INTO `DBTesis`.`metrics` (`ml_model_id`, `metric_name`, `date`, `value`, `previous_value`, `metric_image_path`, `metric_current_image_path`)\n",
      "VALUES (6, 'RMSE', '2021-09-20', 27841.976622167807, 23845.773885653194, 'graficos/1dcnn_Chachapoyas_to_Juliaca_HIT/1dcnn_Chachapoyas_to_Juliaca_HIT-2021-09-20.png','graficos/1dcnn_Chachapoyas_to_Juliaca_HIT/current_day_1dcnn_Chachapoyas_to_Juliaca_HIT-2021-09-20.png');\n",
      "\n",
      "INSERT INTO `DBTesis`.`metrics` (`ml_model_id`, `metric_name`, `date`, `value`, `previous_value`, `metric_image_path`, `metric_current_image_path`)\n",
      "VALUES (6, 'RMSE', '2021-09-21', 23471.653236442024, 27841.976622167807, 'graficos/1dcnn_Chachapoyas_to_Juliaca_HIT/1dcnn_Chachapoyas_to_Juliaca_HIT-2021-09-21.png','graficos/1dcnn_Chachapoyas_to_Juliaca_HIT/current_day_1dcnn_Chachapoyas_to_Juliaca_HIT-2021-09-21.png');\n",
      "\n",
      "INSERT INTO `DBTesis`.`metrics` (`ml_model_id`, `metric_name`, `date`, `value`, `previous_value`, `metric_image_path`, `metric_current_image_path`)\n",
      "VALUES (6, 'RMSE', '2021-09-22', 26071.47727834326, 23471.653236442024, 'graficos/1dcnn_Chachapoyas_to_Juliaca_HIT/1dcnn_Chachapoyas_to_Juliaca_HIT-2021-09-22.png','graficos/1dcnn_Chachapoyas_to_Juliaca_HIT/current_day_1dcnn_Chachapoyas_to_Juliaca_HIT-2021-09-22.png');\n",
      "\n",
      "INSERT INTO `DBTesis`.`metrics` (`ml_model_id`, `metric_name`, `date`, `value`, `previous_value`, `metric_image_path`, `metric_current_image_path`)\n",
      "VALUES (6, 'RMSE', '2021-09-23', 25163.877047734055, 26071.47727834326, 'graficos/1dcnn_Chachapoyas_to_Juliaca_HIT/1dcnn_Chachapoyas_to_Juliaca_HIT-2021-09-23.png','graficos/1dcnn_Chachapoyas_to_Juliaca_HIT/current_day_1dcnn_Chachapoyas_to_Juliaca_HIT-2021-09-23.png');\n",
      "\n",
      "INSERT INTO `DBTesis`.`metrics` (`ml_model_id`, `metric_name`, `date`, `value`, `previous_value`, `metric_image_path`, `metric_current_image_path`)\n",
      "VALUES (6, 'RMSE', '2021-09-24', 24809.076002941012, 25163.877047734055, 'graficos/1dcnn_Chachapoyas_to_Juliaca_HIT/1dcnn_Chachapoyas_to_Juliaca_HIT-2021-09-24.png','graficos/1dcnn_Chachapoyas_to_Juliaca_HIT/current_day_1dcnn_Chachapoyas_to_Juliaca_HIT-2021-09-24.png');\n",
      "\n",
      "INSERT INTO `DBTesis`.`metrics` (`ml_model_id`, `metric_name`, `date`, `value`, `previous_value`, `metric_image_path`, `metric_current_image_path`)\n",
      "VALUES (6, 'RMSE', '2021-09-25', 26570.989988770565, 24809.076002941012, 'graficos/1dcnn_Chachapoyas_to_Juliaca_HIT/1dcnn_Chachapoyas_to_Juliaca_HIT-2021-09-25.png','graficos/1dcnn_Chachapoyas_to_Juliaca_HIT/current_day_1dcnn_Chachapoyas_to_Juliaca_HIT-2021-09-25.png');\n",
      "\n",
      "INSERT INTO `DBTesis`.`metrics` (`ml_model_id`, `metric_name`, `date`, `value`, `previous_value`, `metric_image_path`, `metric_current_image_path`)\n",
      "VALUES (6, 'RMSE', '2021-09-26', 27870.487537848803, 26570.989988770565, 'graficos/1dcnn_Chachapoyas_to_Juliaca_HIT/1dcnn_Chachapoyas_to_Juliaca_HIT-2021-09-26.png','graficos/1dcnn_Chachapoyas_to_Juliaca_HIT/current_day_1dcnn_Chachapoyas_to_Juliaca_HIT-2021-09-26.png');\n",
      "\n",
      "INSERT INTO `DBTesis`.`metrics` (`ml_model_id`, `metric_name`, `date`, `value`, `previous_value`, `metric_image_path`, `metric_current_image_path`)\n",
      "VALUES (6, 'RMSE', '2021-09-27', 27975.372333018673, 27870.487537848803, 'graficos/1dcnn_Chachapoyas_to_Juliaca_HIT/1dcnn_Chachapoyas_to_Juliaca_HIT-2021-09-27.png','graficos/1dcnn_Chachapoyas_to_Juliaca_HIT/current_day_1dcnn_Chachapoyas_to_Juliaca_HIT-2021-09-27.png');\n",
      "\n",
      "INSERT INTO `DBTesis`.`metrics` (`ml_model_id`, `metric_name`, `date`, `value`, `previous_value`, `metric_image_path`, `metric_current_image_path`)\n",
      "VALUES (6, 'RMSE', '2021-09-28', 29108.795311249494, 27975.372333018673, 'graficos/1dcnn_Chachapoyas_to_Juliaca_HIT/1dcnn_Chachapoyas_to_Juliaca_HIT-2021-09-28.png','graficos/1dcnn_Chachapoyas_to_Juliaca_HIT/current_day_1dcnn_Chachapoyas_to_Juliaca_HIT-2021-09-28.png');\n",
      "\n",
      "INSERT INTO `DBTesis`.`metrics` (`ml_model_id`, `metric_name`, `date`, `value`, `previous_value`, `metric_image_path`, `metric_current_image_path`)\n",
      "VALUES (6, 'RMSE', '2021-09-29', 27683.305925342363, 29108.795311249494, 'graficos/1dcnn_Chachapoyas_to_Juliaca_HIT/1dcnn_Chachapoyas_to_Juliaca_HIT-2021-09-29.png','graficos/1dcnn_Chachapoyas_to_Juliaca_HIT/current_day_1dcnn_Chachapoyas_to_Juliaca_HIT-2021-09-29.png');\n",
      "\n",
      "INSERT INTO `DBTesis`.`metrics` (`ml_model_id`, `metric_name`, `date`, `value`, `previous_value`, `metric_image_path`, `metric_current_image_path`)\n",
      "VALUES (6, 'RMSE', '2021-09-30', 27390.727795571438, 27683.305925342363, 'graficos/1dcnn_Chachapoyas_to_Juliaca_HIT/1dcnn_Chachapoyas_to_Juliaca_HIT-2021-09-30.png','graficos/1dcnn_Chachapoyas_to_Juliaca_HIT/current_day_1dcnn_Chachapoyas_to_Juliaca_HIT-2021-09-30.png');\n",
      "\n",
      "INSERT INTO `DBTesis`.`metrics` (`ml_model_id`, `metric_name`, `date`, `value`, `previous_value`, `metric_image_path`, `metric_current_image_path`)\n",
      "VALUES (6, 'RMSE', '2021-10-01', 28674.334987233146, 27390.727795571438, 'graficos/1dcnn_Chachapoyas_to_Juliaca_HIT/1dcnn_Chachapoyas_to_Juliaca_HIT-2021-10-01.png','graficos/1dcnn_Chachapoyas_to_Juliaca_HIT/current_day_1dcnn_Chachapoyas_to_Juliaca_HIT-2021-10-01.png');\n",
      "\n",
      "INSERT INTO `DBTesis`.`metrics` (`ml_model_id`, `metric_name`, `date`, `value`, `previous_value`, `metric_image_path`, `metric_current_image_path`)\n",
      "VALUES (6, 'RMSE', '2021-10-02', 28043.500258995482, 28674.334987233146, 'graficos/1dcnn_Chachapoyas_to_Juliaca_HIT/1dcnn_Chachapoyas_to_Juliaca_HIT-2021-10-02.png','graficos/1dcnn_Chachapoyas_to_Juliaca_HIT/current_day_1dcnn_Chachapoyas_to_Juliaca_HIT-2021-10-02.png');\n",
      "\n",
      "INSERT INTO `DBTesis`.`metrics` (`ml_model_id`, `metric_name`, `date`, `value`, `previous_value`, `metric_image_path`, `metric_current_image_path`)\n",
      "VALUES (6, 'RMSE', '2021-10-03', 27211.96897063919, 28043.500258995482, 'graficos/1dcnn_Chachapoyas_to_Juliaca_HIT/1dcnn_Chachapoyas_to_Juliaca_HIT-2021-10-03.png','graficos/1dcnn_Chachapoyas_to_Juliaca_HIT/current_day_1dcnn_Chachapoyas_to_Juliaca_HIT-2021-10-03.png');\n",
      "\n",
      "INSERT INTO `DBTesis`.`metrics` (`ml_model_id`, `metric_name`, `date`, `value`, `previous_value`, `metric_image_path`, `metric_current_image_path`)\n",
      "VALUES (6, 'RMSE', '2021-10-04', 27402.549089482018, 27211.96897063919, 'graficos/1dcnn_Chachapoyas_to_Juliaca_HIT/1dcnn_Chachapoyas_to_Juliaca_HIT-2021-10-04.png','graficos/1dcnn_Chachapoyas_to_Juliaca_HIT/current_day_1dcnn_Chachapoyas_to_Juliaca_HIT-2021-10-04.png');\n",
      "\n",
      "INSERT INTO `DBTesis`.`metrics` (`ml_model_id`, `metric_name`, `date`, `value`, `previous_value`, `metric_image_path`, `metric_current_image_path`)\n",
      "VALUES (6, 'RMSE', '2021-10-05', 26720.77180370002, 27402.549089482018, 'graficos/1dcnn_Chachapoyas_to_Juliaca_HIT/1dcnn_Chachapoyas_to_Juliaca_HIT-2021-10-05.png','graficos/1dcnn_Chachapoyas_to_Juliaca_HIT/current_day_1dcnn_Chachapoyas_to_Juliaca_HIT-2021-10-05.png');\n",
      "\n",
      "INSERT INTO `DBTesis`.`metrics` (`ml_model_id`, `metric_name`, `date`, `value`, `previous_value`, `metric_image_path`, `metric_current_image_path`)\n",
      "VALUES (6, 'RMSE', '2021-10-06', 25256.24061885879, 26720.77180370002, 'graficos/1dcnn_Chachapoyas_to_Juliaca_HIT/1dcnn_Chachapoyas_to_Juliaca_HIT-2021-10-06.png','graficos/1dcnn_Chachapoyas_to_Juliaca_HIT/current_day_1dcnn_Chachapoyas_to_Juliaca_HIT-2021-10-06.png');\n",
      "\n",
      "INSERT INTO `DBTesis`.`metrics` (`ml_model_id`, `metric_name`, `date`, `value`, `previous_value`, `metric_image_path`, `metric_current_image_path`)\n",
      "VALUES (6, 'RMSE', '2021-10-07', 23483.06664080822, 25256.24061885879, 'graficos/1dcnn_Chachapoyas_to_Juliaca_HIT/1dcnn_Chachapoyas_to_Juliaca_HIT-2021-10-07.png','graficos/1dcnn_Chachapoyas_to_Juliaca_HIT/current_day_1dcnn_Chachapoyas_to_Juliaca_HIT-2021-10-07.png');\n",
      "\n",
      "INSERT INTO `DBTesis`.`metrics` (`ml_model_id`, `metric_name`, `date`, `value`, `previous_value`, `metric_image_path`, `metric_current_image_path`)\n",
      "VALUES (6, 'RMSE', '2021-10-08', 23095.679958910096, 23483.06664080822, 'graficos/1dcnn_Chachapoyas_to_Juliaca_HIT/1dcnn_Chachapoyas_to_Juliaca_HIT-2021-10-08.png','graficos/1dcnn_Chachapoyas_to_Juliaca_HIT/current_day_1dcnn_Chachapoyas_to_Juliaca_HIT-2021-10-08.png');\n",
      "\n",
      "INSERT INTO `DBTesis`.`metrics` (`ml_model_id`, `metric_name`, `date`, `value`, `previous_value`, `metric_image_path`, `metric_current_image_path`)\n",
      "VALUES (6, 'RMSE', '2021-10-09', 23753.1847125553, 23095.679958910096, 'graficos/1dcnn_Chachapoyas_to_Juliaca_HIT/1dcnn_Chachapoyas_to_Juliaca_HIT-2021-10-09.png','graficos/1dcnn_Chachapoyas_to_Juliaca_HIT/current_day_1dcnn_Chachapoyas_to_Juliaca_HIT-2021-10-09.png');\n",
      "\n",
      "INSERT INTO `DBTesis`.`metrics` (`ml_model_id`, `metric_name`, `date`, `value`, `previous_value`, `metric_image_path`, `metric_current_image_path`)\n",
      "VALUES (6, 'RMSE', '2021-10-10', 23105.417019513683, 23753.1847125553, 'graficos/1dcnn_Chachapoyas_to_Juliaca_HIT/1dcnn_Chachapoyas_to_Juliaca_HIT-2021-10-10.png','graficos/1dcnn_Chachapoyas_to_Juliaca_HIT/current_day_1dcnn_Chachapoyas_to_Juliaca_HIT-2021-10-10.png');\n",
      "\n",
      "INSERT INTO `DBTesis`.`metrics` (`ml_model_id`, `metric_name`, `date`, `value`, `previous_value`, `metric_image_path`, `metric_current_image_path`)\n",
      "VALUES (6, 'RMSE', '2021-10-11', 28205.420378508516, 23105.417019513683, 'graficos/1dcnn_Chachapoyas_to_Juliaca_HIT/1dcnn_Chachapoyas_to_Juliaca_HIT-2021-10-11.png','graficos/1dcnn_Chachapoyas_to_Juliaca_HIT/current_day_1dcnn_Chachapoyas_to_Juliaca_HIT-2021-10-11.png');\n",
      "\n",
      "INSERT INTO `DBTesis`.`metrics` (`ml_model_id`, `metric_name`, `date`, `value`, `previous_value`, `metric_image_path`, `metric_current_image_path`)\n",
      "VALUES (6, 'RMSE', '2021-10-12', 26923.304541971225, 28205.420378508516, 'graficos/1dcnn_Chachapoyas_to_Juliaca_HIT/1dcnn_Chachapoyas_to_Juliaca_HIT-2021-10-12.png','graficos/1dcnn_Chachapoyas_to_Juliaca_HIT/current_day_1dcnn_Chachapoyas_to_Juliaca_HIT-2021-10-12.png');\n",
      "\n",
      "INSERT INTO `DBTesis`.`metrics` (`ml_model_id`, `metric_name`, `date`, `value`, `previous_value`, `metric_image_path`, `metric_current_image_path`)\n",
      "VALUES (6, 'RMSE', '2021-10-13', 26923.304541971225, 26923.304541971225, 'graficos/1dcnn_Chachapoyas_to_Juliaca_HIT/1dcnn_Chachapoyas_to_Juliaca_HIT-2021-10-13.png','graficos/1dcnn_Chachapoyas_to_Juliaca_HIT/current_day_1dcnn_Chachapoyas_to_Juliaca_HIT-2021-10-13.png');\n",
      "\n",
      "INSERT INTO `DBTesis`.`metrics` (`ml_model_id`, `metric_name`, `date`, `value`, `previous_value`, `metric_image_path`, `metric_current_image_path`)\n",
      "VALUES (6, 'RMSE', '2021-10-14', 26949.289638857885, 26923.304541971225, 'graficos/1dcnn_Chachapoyas_to_Juliaca_HIT/1dcnn_Chachapoyas_to_Juliaca_HIT-2021-10-14.png','graficos/1dcnn_Chachapoyas_to_Juliaca_HIT/current_day_1dcnn_Chachapoyas_to_Juliaca_HIT-2021-10-14.png');\n",
      "\n",
      "INSERT INTO `DBTesis`.`metrics` (`ml_model_id`, `metric_name`, `date`, `value`, `previous_value`, `metric_image_path`, `metric_current_image_path`)\n",
      "VALUES (6, 'RMSE', '2021-10-15', 27993.232962026676, 26949.289638857885, 'graficos/1dcnn_Chachapoyas_to_Juliaca_HIT/1dcnn_Chachapoyas_to_Juliaca_HIT-2021-10-15.png','graficos/1dcnn_Chachapoyas_to_Juliaca_HIT/current_day_1dcnn_Chachapoyas_to_Juliaca_HIT-2021-10-15.png');\n",
      "\n",
      "INSERT INTO `DBTesis`.`metrics` (`ml_model_id`, `metric_name`, `date`, `value`, `previous_value`, `metric_image_path`, `metric_current_image_path`)\n",
      "VALUES (6, 'RMSE', '2021-10-16', 27519.310027241147, 27993.232962026676, 'graficos/1dcnn_Chachapoyas_to_Juliaca_HIT/1dcnn_Chachapoyas_to_Juliaca_HIT-2021-10-16.png','graficos/1dcnn_Chachapoyas_to_Juliaca_HIT/current_day_1dcnn_Chachapoyas_to_Juliaca_HIT-2021-10-16.png');\n",
      "\n",
      "INSERT INTO `DBTesis`.`metrics` (`ml_model_id`, `metric_name`, `date`, `value`, `previous_value`, `metric_image_path`, `metric_current_image_path`)\n",
      "VALUES (6, 'RMSE', '2021-10-17', 27882.672518435622, 27519.310027241147, 'graficos/1dcnn_Chachapoyas_to_Juliaca_HIT/1dcnn_Chachapoyas_to_Juliaca_HIT-2021-10-17.png','graficos/1dcnn_Chachapoyas_to_Juliaca_HIT/current_day_1dcnn_Chachapoyas_to_Juliaca_HIT-2021-10-17.png');\n",
      "\n",
      "INSERT INTO `DBTesis`.`metrics` (`ml_model_id`, `metric_name`, `date`, `value`, `previous_value`, `metric_image_path`, `metric_current_image_path`)\n",
      "VALUES (6, 'RMSE', '2021-10-18', 26592.717066849684, 27882.672518435622, 'graficos/1dcnn_Chachapoyas_to_Juliaca_HIT/1dcnn_Chachapoyas_to_Juliaca_HIT-2021-10-18.png','graficos/1dcnn_Chachapoyas_to_Juliaca_HIT/current_day_1dcnn_Chachapoyas_to_Juliaca_HIT-2021-10-18.png');\n",
      "\n",
      "INSERT INTO `DBTesis`.`metrics` (`ml_model_id`, `metric_name`, `date`, `value`, `previous_value`, `metric_image_path`, `metric_current_image_path`)\n",
      "VALUES (6, 'RMSE', '2021-10-19', 27317.851586822053, 26592.717066849684, 'graficos/1dcnn_Chachapoyas_to_Juliaca_HIT/1dcnn_Chachapoyas_to_Juliaca_HIT-2021-10-19.png','graficos/1dcnn_Chachapoyas_to_Juliaca_HIT/current_day_1dcnn_Chachapoyas_to_Juliaca_HIT-2021-10-19.png');\n",
      "\n",
      "INSERT INTO `DBTesis`.`metrics` (`ml_model_id`, `metric_name`, `date`, `value`, `previous_value`, `metric_image_path`, `metric_current_image_path`)\n",
      "VALUES (6, 'RMSE', '2021-10-20', 27360.682688309855, 27317.851586822053, 'graficos/1dcnn_Chachapoyas_to_Juliaca_HIT/1dcnn_Chachapoyas_to_Juliaca_HIT-2021-10-20.png','graficos/1dcnn_Chachapoyas_to_Juliaca_HIT/current_day_1dcnn_Chachapoyas_to_Juliaca_HIT-2021-10-20.png');\n",
      "\n",
      "INSERT INTO `DBTesis`.`metrics` (`ml_model_id`, `metric_name`, `date`, `value`, `previous_value`, `metric_image_path`, `metric_current_image_path`)\n",
      "VALUES (6, 'RMSE', '2021-10-21', 24970.056973447972, 27360.682688309855, 'graficos/1dcnn_Chachapoyas_to_Juliaca_HIT/1dcnn_Chachapoyas_to_Juliaca_HIT-2021-10-21.png','graficos/1dcnn_Chachapoyas_to_Juliaca_HIT/current_day_1dcnn_Chachapoyas_to_Juliaca_HIT-2021-10-21.png');\n",
      "\n",
      "INSERT INTO `DBTesis`.`metrics` (`ml_model_id`, `metric_name`, `date`, `value`, `previous_value`, `metric_image_path`, `metric_current_image_path`)\n",
      "VALUES (6, 'RMSE', '2021-10-22', 26370.574245278927, 24970.056973447972, 'graficos/1dcnn_Chachapoyas_to_Juliaca_HIT/1dcnn_Chachapoyas_to_Juliaca_HIT-2021-10-22.png','graficos/1dcnn_Chachapoyas_to_Juliaca_HIT/current_day_1dcnn_Chachapoyas_to_Juliaca_HIT-2021-10-22.png');\n",
      "\n",
      "INSERT INTO `DBTesis`.`metrics` (`ml_model_id`, `metric_name`, `date`, `value`, `previous_value`, `metric_image_path`, `metric_current_image_path`)\n",
      "VALUES (6, 'RMSE', '2021-10-23', 26884.021526636145, 26370.574245278927, 'graficos/1dcnn_Chachapoyas_to_Juliaca_HIT/1dcnn_Chachapoyas_to_Juliaca_HIT-2021-10-23.png','graficos/1dcnn_Chachapoyas_to_Juliaca_HIT/current_day_1dcnn_Chachapoyas_to_Juliaca_HIT-2021-10-23.png');\n",
      "\n",
      "INSERT INTO `DBTesis`.`metrics` (`ml_model_id`, `metric_name`, `date`, `value`, `previous_value`, `metric_image_path`, `metric_current_image_path`)\n",
      "VALUES (6, 'RMSE', '2021-10-24', 24605.89814712337, 26884.021526636145, 'graficos/1dcnn_Chachapoyas_to_Juliaca_HIT/1dcnn_Chachapoyas_to_Juliaca_HIT-2021-10-24.png','graficos/1dcnn_Chachapoyas_to_Juliaca_HIT/current_day_1dcnn_Chachapoyas_to_Juliaca_HIT-2021-10-24.png');\n",
      "\n",
      "INSERT INTO `DBTesis`.`metrics` (`ml_model_id`, `metric_name`, `date`, `value`, `previous_value`, `metric_image_path`, `metric_current_image_path`)\n",
      "VALUES (6, 'RMSE', '2021-10-25', 25981.867844013857, 24605.89814712337, 'graficos/1dcnn_Chachapoyas_to_Juliaca_HIT/1dcnn_Chachapoyas_to_Juliaca_HIT-2021-10-25.png','graficos/1dcnn_Chachapoyas_to_Juliaca_HIT/current_day_1dcnn_Chachapoyas_to_Juliaca_HIT-2021-10-25.png');\n",
      "\n",
      "INSERT INTO `DBTesis`.`metrics` (`ml_model_id`, `metric_name`, `date`, `value`, `previous_value`, `metric_image_path`, `metric_current_image_path`)\n",
      "VALUES (6, 'RMSE', '2021-10-26', 26966.828599866756, 25981.867844013857, 'graficos/1dcnn_Chachapoyas_to_Juliaca_HIT/1dcnn_Chachapoyas_to_Juliaca_HIT-2021-10-26.png','graficos/1dcnn_Chachapoyas_to_Juliaca_HIT/current_day_1dcnn_Chachapoyas_to_Juliaca_HIT-2021-10-26.png');\n",
      "\n",
      "INSERT INTO `DBTesis`.`metrics` (`ml_model_id`, `metric_name`, `date`, `value`, `previous_value`, `metric_image_path`, `metric_current_image_path`)\n",
      "VALUES (6, 'RMSE', '2021-10-27', 21259.954936867493, 26966.828599866756, 'graficos/1dcnn_Chachapoyas_to_Juliaca_HIT/1dcnn_Chachapoyas_to_Juliaca_HIT-2021-10-27.png','graficos/1dcnn_Chachapoyas_to_Juliaca_HIT/current_day_1dcnn_Chachapoyas_to_Juliaca_HIT-2021-10-27.png');\n",
      "\n",
      "INSERT INTO `DBTesis`.`metrics` (`ml_model_id`, `metric_name`, `date`, `value`, `previous_value`, `metric_image_path`, `metric_current_image_path`)\n",
      "VALUES (6, 'RMSE', '2021-10-28', 29692.506619751173, 21259.954936867493, 'graficos/1dcnn_Chachapoyas_to_Juliaca_HIT/1dcnn_Chachapoyas_to_Juliaca_HIT-2021-10-28.png','graficos/1dcnn_Chachapoyas_to_Juliaca_HIT/current_day_1dcnn_Chachapoyas_to_Juliaca_HIT-2021-10-28.png');\n",
      "\n",
      "INSERT INTO `DBTesis`.`metrics` (`ml_model_id`, `metric_name`, `date`, `value`, `previous_value`, `metric_image_path`, `metric_current_image_path`)\n",
      "VALUES (6, 'RMSE', '2021-10-29', 26762.95581427497, 29692.506619751173, 'graficos/1dcnn_Chachapoyas_to_Juliaca_HIT/1dcnn_Chachapoyas_to_Juliaca_HIT-2021-10-29.png','graficos/1dcnn_Chachapoyas_to_Juliaca_HIT/current_day_1dcnn_Chachapoyas_to_Juliaca_HIT-2021-10-29.png');\n",
      "\n",
      "INSERT INTO `DBTesis`.`metrics` (`ml_model_id`, `metric_name`, `date`, `value`, `previous_value`, `metric_image_path`, `metric_current_image_path`)\n",
      "VALUES (6, 'RMSE', '2021-10-30', 27211.18789753474, 26762.95581427497, 'graficos/1dcnn_Chachapoyas_to_Juliaca_HIT/1dcnn_Chachapoyas_to_Juliaca_HIT-2021-10-30.png','graficos/1dcnn_Chachapoyas_to_Juliaca_HIT/current_day_1dcnn_Chachapoyas_to_Juliaca_HIT-2021-10-30.png');\n",
      "\n",
      "INSERT INTO `DBTesis`.`metrics` (`ml_model_id`, `metric_name`, `date`, `value`, `previous_value`, `metric_image_path`, `metric_current_image_path`)\n",
      "VALUES (6, 'RMSE', '2021-10-31', 25337.839615475652, 27211.18789753474, 'graficos/1dcnn_Chachapoyas_to_Juliaca_HIT/1dcnn_Chachapoyas_to_Juliaca_HIT-2021-10-31.png','graficos/1dcnn_Chachapoyas_to_Juliaca_HIT/current_day_1dcnn_Chachapoyas_to_Juliaca_HIT-2021-10-31.png');\n",
      "\n"
     ]
    }
   ],
   "source": [
    "#Imprimir comando INSERT INTO\n",
    "# \n",
    "print(stri_cachatojuliaca_cnn)\n",
    "\n"
   ]
  },
  {
   "cell_type": "code",
   "execution_count": null,
   "metadata": {},
   "outputs": [],
   "source": []
  },
  {
   "cell_type": "markdown",
   "metadata": {},
   "source": [
    "## Datos PERC Transfered"
   ]
  },
  {
   "cell_type": "code",
   "execution_count": 512,
   "metadata": {},
   "outputs": [
    {
     "name": "stdout",
     "output_type": "stream",
     "text": [
      "llenado_Arequipa_UNSA_CIGS_agg_day_hour.csv\n",
      "llenado_Arequipa_UNSA_HIT_agg_day_hour.csv\n",
      "llenado_Arequipa_UNSA_PERC_agg_day_hour.csv\n",
      "llenado_Chachapoyas_UNTRM_CIGS_agg_day_hour.csv\n",
      "llenado_Chachapoyas_UNTRM_HIT_agg_day_hour.csv\n",
      "llenado_Chachapoyas_UNTRM_PERC_agg_day_hour.csv\n",
      "llenado_Juliaca_UNAJ_CIGS_agg_day_hour.csv\n",
      "llenado_Juliaca_UNAJ_HIT_agg_day_hour.csv\n",
      "llenado_Juliaca_UNAJ_PERC_agg_day_hour.csv\n",
      "llenado_Lima_PUCP_CIGS_agg_day_hour.csv\n",
      "llenado_Lima_PUCP_HIT_agg_day_hour.csv\n",
      "llenado_Lima_PUCP_PERC_agg_day_hour.csv\n",
      "llenado_Tacna_UNJBG_CIGS_agg_day_hour.csv\n",
      "llenado_Tacna_UNJBG_HIT_agg_day_hour.csv\n",
      "llenado_Tacna_UNJBG_PERC_agg_day_hour.csv\n"
     ]
    }
   ],
   "source": [
    "!ls {data_path}"
   ]
  },
  {
   "cell_type": "markdown",
   "metadata": {},
   "source": [
    "### Lectura de datos"
   ]
  },
  {
   "cell_type": "code",
   "execution_count": 513,
   "metadata": {},
   "outputs": [],
   "source": [
    "data_file = data_path+'llenado_Juliaca_UNAJ_PERC_agg_day_hour.csv'\n",
    "model_path = 'saved_models/1dcnn_Chachapoyas_to_Juliaca_PERC'\n",
    "model = '1dcnn'\n",
    "technology = 'PERC'\n",
    "ubicacion = 'ChachapoyasToJuliaca'\n",
    "df_columns = ['Pac', 'Tmod']\n",
    "fecha_ini = '2021-02-01'\n",
    "fecha_fin = '2021-10-31'"
   ]
  },
  {
   "cell_type": "code",
   "execution_count": 514,
   "metadata": {},
   "outputs": [
    {
     "data": {
      "text/plain": [
       "'/data/dibanez/tesis/data_preprocesada/2.llenada/llenado_Juliaca_UNAJ_PERC_agg_day_hour.csv'"
      ]
     },
     "execution_count": 514,
     "metadata": {},
     "output_type": "execute_result"
    }
   ],
   "source": [
    "data_file"
   ]
  },
  {
   "cell_type": "code",
   "execution_count": 515,
   "metadata": {},
   "outputs": [
    {
     "name": "stdout",
     "output_type": "stream",
     "text": [
      "(2098, 10)\n"
     ]
    },
    {
     "data": {
      "text/html": [
       "<div>\n",
       "<style scoped>\n",
       "    .dataframe tbody tr th:only-of-type {\n",
       "        vertical-align: middle;\n",
       "    }\n",
       "\n",
       "    .dataframe tbody tr th {\n",
       "        vertical-align: top;\n",
       "    }\n",
       "\n",
       "    .dataframe thead th {\n",
       "        text-align: right;\n",
       "    }\n",
       "</style>\n",
       "<table border=\"1\" class=\"dataframe\">\n",
       "  <thead>\n",
       "    <tr style=\"text-align: right;\">\n",
       "      <th></th>\n",
       "      <th>index</th>\n",
       "      <th>Fecha</th>\n",
       "      <th>Tamb</th>\n",
       "      <th>Tmod</th>\n",
       "      <th>Irradiancia</th>\n",
       "      <th>Vdc</th>\n",
       "      <th>Idc</th>\n",
       "      <th>Paparente</th>\n",
       "      <th>Pac</th>\n",
       "      <th>Pdc</th>\n",
       "    </tr>\n",
       "  </thead>\n",
       "  <tbody>\n",
       "    <tr>\n",
       "      <th>0</th>\n",
       "      <td>0</td>\n",
       "      <td>2021-04-24 09:00:00</td>\n",
       "      <td>NaN</td>\n",
       "      <td>40.497167</td>\n",
       "      <td>NaN</td>\n",
       "      <td>168.688167</td>\n",
       "      <td>7.573600</td>\n",
       "      <td>1225.683333</td>\n",
       "      <td>696.25</td>\n",
       "      <td>1275.976130</td>\n",
       "    </tr>\n",
       "    <tr>\n",
       "      <th>1</th>\n",
       "      <td>1</td>\n",
       "      <td>2021-04-24 10:00:00</td>\n",
       "      <td>NaN</td>\n",
       "      <td>40.059667</td>\n",
       "      <td>NaN</td>\n",
       "      <td>167.365778</td>\n",
       "      <td>8.069064</td>\n",
       "      <td>1291.077778</td>\n",
       "      <td>1387.75</td>\n",
       "      <td>1350.538889</td>\n",
       "    </tr>\n",
       "    <tr>\n",
       "      <th>2</th>\n",
       "      <td>2</td>\n",
       "      <td>2021-04-24 11:00:00</td>\n",
       "      <td>NaN</td>\n",
       "      <td>45.897333</td>\n",
       "      <td>NaN</td>\n",
       "      <td>167.806583</td>\n",
       "      <td>8.491028</td>\n",
       "      <td>1363.922222</td>\n",
       "      <td>1149.00</td>\n",
       "      <td>1426.380556</td>\n",
       "    </tr>\n",
       "    <tr>\n",
       "      <th>3</th>\n",
       "      <td>3</td>\n",
       "      <td>2021-04-24 12:00:00</td>\n",
       "      <td>NaN</td>\n",
       "      <td>50.813667</td>\n",
       "      <td>NaN</td>\n",
       "      <td>168.334324</td>\n",
       "      <td>7.464297</td>\n",
       "      <td>1208.514198</td>\n",
       "      <td>1462.00</td>\n",
       "      <td>1266.764674</td>\n",
       "    </tr>\n",
       "    <tr>\n",
       "      <th>4</th>\n",
       "      <td>4</td>\n",
       "      <td>2021-04-24 13:00:00</td>\n",
       "      <td>NaN</td>\n",
       "      <td>45.737241</td>\n",
       "      <td>NaN</td>\n",
       "      <td>167.121979</td>\n",
       "      <td>6.946930</td>\n",
       "      <td>1111.436476</td>\n",
       "      <td>1420.75</td>\n",
       "      <td>1162.694625</td>\n",
       "    </tr>\n",
       "  </tbody>\n",
       "</table>\n",
       "</div>"
      ],
      "text/plain": [
       "   index               Fecha  Tamb       Tmod  Irradiancia         Vdc  \\\n",
       "0      0 2021-04-24 09:00:00   NaN  40.497167          NaN  168.688167   \n",
       "1      1 2021-04-24 10:00:00   NaN  40.059667          NaN  167.365778   \n",
       "2      2 2021-04-24 11:00:00   NaN  45.897333          NaN  167.806583   \n",
       "3      3 2021-04-24 12:00:00   NaN  50.813667          NaN  168.334324   \n",
       "4      4 2021-04-24 13:00:00   NaN  45.737241          NaN  167.121979   \n",
       "\n",
       "        Idc    Paparente      Pac          Pdc  \n",
       "0  7.573600  1225.683333   696.25  1275.976130  \n",
       "1  8.069064  1291.077778  1387.75  1350.538889  \n",
       "2  8.491028  1363.922222  1149.00  1426.380556  \n",
       "3  7.464297  1208.514198  1462.00  1266.764674  \n",
       "4  6.946930  1111.436476  1420.75  1162.694625  "
      ]
     },
     "execution_count": 515,
     "metadata": {},
     "output_type": "execute_result"
    }
   ],
   "source": [
    "df = pd.read_csv(data_file, parse_dates=True)\n",
    "df.Fecha = pd.to_datetime(df.Fecha)\n",
    "df=df.reset_index()\n",
    "print_df(df)"
   ]
  },
  {
   "cell_type": "code",
   "execution_count": 516,
   "metadata": {},
   "outputs": [
    {
     "name": "stdout",
     "output_type": "stream",
     "text": [
      "2021-04-24 09:00:00\n",
      "2021-10-31 16:00:00\n"
     ]
    }
   ],
   "source": [
    "print(df.Fecha.min())\n",
    "print(df.Fecha.max())"
   ]
  },
  {
   "cell_type": "code",
   "execution_count": 517,
   "metadata": {},
   "outputs": [
    {
     "data": {
      "text/plain": [
       "index          0.0\n",
       "Fecha          0.0\n",
       "Tamb           1.0\n",
       "Tmod           0.0\n",
       "Irradiancia    1.0\n",
       "Vdc            0.0\n",
       "Idc            0.0\n",
       "Paparente      0.0\n",
       "Pac            0.0\n",
       "Pdc            0.0\n",
       "dtype: float64"
      ]
     },
     "execution_count": 517,
     "metadata": {},
     "output_type": "execute_result"
    }
   ],
   "source": [
    "df.isna().sum()/len(df)"
   ]
  },
  {
   "cell_type": "markdown",
   "metadata": {},
   "source": [
    "### Preprocesamiento"
   ]
  },
  {
   "cell_type": "code",
   "execution_count": 518,
   "metadata": {},
   "outputs": [],
   "source": [
    "start = df.iloc[0]['Fecha']"
   ]
  },
  {
   "cell_type": "code",
   "execution_count": 519,
   "metadata": {},
   "outputs": [],
   "source": [
    "df['Fecha_cod'] = pd.date_range(freq='H', start=start, periods=len(df))\n",
    "# df.head(13)"
   ]
  },
  {
   "cell_type": "code",
   "execution_count": 520,
   "metadata": {},
   "outputs": [],
   "source": [
    "series_raw = TimeSeries.from_dataframe(df, 'Fecha_cod', df_columns)#,'Irradiancia'])#, freq='H')\n"
   ]
  },
  {
   "cell_type": "code",
   "execution_count": 521,
   "metadata": {},
   "outputs": [],
   "source": [
    "col_obj = 'Pac'"
   ]
  },
  {
   "cell_type": "code",
   "execution_count": 522,
   "metadata": {},
   "outputs": [
    {
     "data": {
      "image/png": "[encoded data removed]",
      "text/plain": [
       "<Figure size 432x288 with 1 Axes>"
      ]
     },
     "metadata": {
      "needs_background": "light"
     },
     "output_type": "display_data"
    }
   ],
   "source": [
    "series_raw[0:30][col_obj].plot()"
   ]
  },
  {
   "cell_type": "code",
   "execution_count": 523,
   "metadata": {},
   "outputs": [
    {
     "data": {
      "image/png": "[encoded data removed]",
      "text/plain": [
       "<Figure size 432x288 with 1 Axes>"
      ]
     },
     "metadata": {
      "needs_background": "light"
     },
     "output_type": "display_data"
    }
   ],
   "source": [
    "series_raw.plot()"
   ]
  },
  {
   "cell_type": "code",
   "execution_count": 524,
   "metadata": {},
   "outputs": [
    {
     "data": {
      "image/png": "[encoded data removed]",
      "text/plain": [
       "<Figure size 432x288 with 1 Axes>"
      ]
     },
     "metadata": {
      "needs_background": "light"
     },
     "output_type": "display_data"
    }
   ],
   "source": [
    "# TODO\n",
    "filler = MissingValuesFiller()\n",
    "series = filler.transform(series_raw, method='linear')\n",
    "series.plot()"
   ]
  },
  {
   "cell_type": "code",
   "execution_count": 525,
   "metadata": {},
   "outputs": [
    {
     "data": {
      "text/plain": [
       "0"
      ]
     },
     "execution_count": 525,
     "metadata": {},
     "output_type": "execute_result"
    }
   ],
   "source": [
    "(series.values() != series_raw.values()).sum()"
   ]
  },
  {
   "cell_type": "code",
   "execution_count": 526,
   "metadata": {},
   "outputs": [],
   "source": [
    "# len(series)"
   ]
  },
  {
   "cell_type": "code",
   "execution_count": 527,
   "metadata": {},
   "outputs": [],
   "source": [
    "# new_data = pd.DataFrame(series.values(), columns=df_columns)\n",
    "# new_data"
   ]
  },
  {
   "cell_type": "code",
   "execution_count": 528,
   "metadata": {},
   "outputs": [],
   "source": [
    "# df[df_columns] = new_data\n",
    "# df.head()"
   ]
  },
  {
   "cell_type": "code",
   "execution_count": 529,
   "metadata": {},
   "outputs": [
    {
     "data": {
      "text/plain": [
       "index             0\n",
       "Fecha             0\n",
       "Tamb           2098\n",
       "Tmod              0\n",
       "Irradiancia    2098\n",
       "Vdc               0\n",
       "Idc               0\n",
       "Paparente         0\n",
       "Pac               0\n",
       "Pdc               0\n",
       "Fecha_cod         0\n",
       "dtype: int64"
      ]
     },
     "execution_count": 529,
     "metadata": {},
     "output_type": "execute_result"
    }
   ],
   "source": [
    "df.isna().sum()"
   ]
  },
  {
   "cell_type": "markdown",
   "metadata": {},
   "source": [
    "## Predicción CNN"
   ]
  },
  {
   "cell_type": "code",
   "execution_count": 531,
   "metadata": {},
   "outputs": [
    {
     "data": {
      "text/plain": [
       "'saved_models/1dcnn_Chachapoyas_to_Juliaca_PERC'"
      ]
     },
     "execution_count": 531,
     "metadata": {},
     "output_type": "execute_result"
    }
   ],
   "source": [
    "model_path"
   ]
  },
  {
   "cell_type": "code",
   "execution_count": 532,
   "metadata": {},
   "outputs": [
    {
     "name": "stdout",
     "output_type": "stream",
     "text": [
      "Model: \"sequential_1\"\n",
      "_________________________________________________________________\n",
      "Layer (type)                 Output Shape              Param #   \n",
      "=================================================================\n",
      "conv1d_1 (Conv1D)            (None, 10, 64)            320       \n",
      "_________________________________________________________________\n",
      "max_pooling1d_1 (MaxPooling1 (None, 5, 64)             0         \n",
      "_________________________________________________________________\n",
      "flatten_1 (Flatten)          (None, 320)               0         \n",
      "_________________________________________________________________\n",
      "dense_1 (Dense)              (None, 50)                16050     \n",
      "_________________________________________________________________\n",
      "dense_2 (Dense)              (None, 11)                561       \n",
      "=================================================================\n",
      "Total params: 16,931\n",
      "Trainable params: 16,611\n",
      "Non-trainable params: 320\n",
      "_________________________________________________________________\n"
     ]
    }
   ],
   "source": [
    "new_model = tf.keras.models.load_model(model_path)\n",
    "new_model.summary()"
   ]
  },
  {
   "cell_type": "code",
   "execution_count": 533,
   "metadata": {},
   "outputs": [
    {
     "name": "stdout",
     "output_type": "stream",
     "text": [
      "(2098, 10)\n"
     ]
    },
    {
     "data": {
      "text/html": [
       "<div>\n",
       "<style scoped>\n",
       "    .dataframe tbody tr th:only-of-type {\n",
       "        vertical-align: middle;\n",
       "    }\n",
       "\n",
       "    .dataframe tbody tr th {\n",
       "        vertical-align: top;\n",
       "    }\n",
       "\n",
       "    .dataframe thead th {\n",
       "        text-align: right;\n",
       "    }\n",
       "</style>\n",
       "<table border=\"1\" class=\"dataframe\">\n",
       "  <thead>\n",
       "    <tr style=\"text-align: right;\">\n",
       "      <th></th>\n",
       "      <th>index</th>\n",
       "      <th>Tamb</th>\n",
       "      <th>Tmod</th>\n",
       "      <th>Irradiancia</th>\n",
       "      <th>Vdc</th>\n",
       "      <th>Idc</th>\n",
       "      <th>Paparente</th>\n",
       "      <th>Pac</th>\n",
       "      <th>Pdc</th>\n",
       "      <th>Fecha_cod</th>\n",
       "    </tr>\n",
       "    <tr>\n",
       "      <th>Fecha</th>\n",
       "      <th></th>\n",
       "      <th></th>\n",
       "      <th></th>\n",
       "      <th></th>\n",
       "      <th></th>\n",
       "      <th></th>\n",
       "      <th></th>\n",
       "      <th></th>\n",
       "      <th></th>\n",
       "      <th></th>\n",
       "    </tr>\n",
       "  </thead>\n",
       "  <tbody>\n",
       "    <tr>\n",
       "      <th>2021-04-24 09:00:00</th>\n",
       "      <td>0</td>\n",
       "      <td>NaN</td>\n",
       "      <td>40.497167</td>\n",
       "      <td>NaN</td>\n",
       "      <td>168.688167</td>\n",
       "      <td>7.573600</td>\n",
       "      <td>1225.683333</td>\n",
       "      <td>696.25</td>\n",
       "      <td>1275.976130</td>\n",
       "      <td>2021-04-24 09:00:00</td>\n",
       "    </tr>\n",
       "    <tr>\n",
       "      <th>2021-04-24 10:00:00</th>\n",
       "      <td>1</td>\n",
       "      <td>NaN</td>\n",
       "      <td>40.059667</td>\n",
       "      <td>NaN</td>\n",
       "      <td>167.365778</td>\n",
       "      <td>8.069064</td>\n",
       "      <td>1291.077778</td>\n",
       "      <td>1387.75</td>\n",
       "      <td>1350.538889</td>\n",
       "      <td>2021-04-24 10:00:00</td>\n",
       "    </tr>\n",
       "    <tr>\n",
       "      <th>2021-04-24 11:00:00</th>\n",
       "      <td>2</td>\n",
       "      <td>NaN</td>\n",
       "      <td>45.897333</td>\n",
       "      <td>NaN</td>\n",
       "      <td>167.806583</td>\n",
       "      <td>8.491028</td>\n",
       "      <td>1363.922222</td>\n",
       "      <td>1149.00</td>\n",
       "      <td>1426.380556</td>\n",
       "      <td>2021-04-24 11:00:00</td>\n",
       "    </tr>\n",
       "    <tr>\n",
       "      <th>2021-04-24 12:00:00</th>\n",
       "      <td>3</td>\n",
       "      <td>NaN</td>\n",
       "      <td>50.813667</td>\n",
       "      <td>NaN</td>\n",
       "      <td>168.334324</td>\n",
       "      <td>7.464297</td>\n",
       "      <td>1208.514198</td>\n",
       "      <td>1462.00</td>\n",
       "      <td>1266.764674</td>\n",
       "      <td>2021-04-24 12:00:00</td>\n",
       "    </tr>\n",
       "    <tr>\n",
       "      <th>2021-04-24 13:00:00</th>\n",
       "      <td>4</td>\n",
       "      <td>NaN</td>\n",
       "      <td>45.737241</td>\n",
       "      <td>NaN</td>\n",
       "      <td>167.121979</td>\n",
       "      <td>6.946930</td>\n",
       "      <td>1111.436476</td>\n",
       "      <td>1420.75</td>\n",
       "      <td>1162.694625</td>\n",
       "      <td>2021-04-24 13:00:00</td>\n",
       "    </tr>\n",
       "  </tbody>\n",
       "</table>\n",
       "</div>"
      ],
      "text/plain": [
       "                     index  Tamb       Tmod  Irradiancia         Vdc  \\\n",
       "Fecha                                                                  \n",
       "2021-04-24 09:00:00      0   NaN  40.497167          NaN  168.688167   \n",
       "2021-04-24 10:00:00      1   NaN  40.059667          NaN  167.365778   \n",
       "2021-04-24 11:00:00      2   NaN  45.897333          NaN  167.806583   \n",
       "2021-04-24 12:00:00      3   NaN  50.813667          NaN  168.334324   \n",
       "2021-04-24 13:00:00      4   NaN  45.737241          NaN  167.121979   \n",
       "\n",
       "                          Idc    Paparente      Pac          Pdc  \\\n",
       "Fecha                                                              \n",
       "2021-04-24 09:00:00  7.573600  1225.683333   696.25  1275.976130   \n",
       "2021-04-24 10:00:00  8.069064  1291.077778  1387.75  1350.538889   \n",
       "2021-04-24 11:00:00  8.491028  1363.922222  1149.00  1426.380556   \n",
       "2021-04-24 12:00:00  7.464297  1208.514198  1462.00  1266.764674   \n",
       "2021-04-24 13:00:00  6.946930  1111.436476  1420.75  1162.694625   \n",
       "\n",
       "                              Fecha_cod  \n",
       "Fecha                                    \n",
       "2021-04-24 09:00:00 2021-04-24 09:00:00  \n",
       "2021-04-24 10:00:00 2021-04-24 10:00:00  \n",
       "2021-04-24 11:00:00 2021-04-24 11:00:00  \n",
       "2021-04-24 12:00:00 2021-04-24 12:00:00  \n",
       "2021-04-24 13:00:00 2021-04-24 13:00:00  "
      ]
     },
     "execution_count": 533,
     "metadata": {},
     "output_type": "execute_result"
    }
   ],
   "source": [
    "df_f = df.set_index('Fecha')\n",
    "print_df(df_f)"
   ]
  },
  {
   "cell_type": "code",
   "execution_count": 534,
   "metadata": {},
   "outputs": [
    {
     "data": {
      "text/plain": [
       "array([[ 696.25      ,   40.49716667],\n",
       "       [1387.75      ,   40.05966667],\n",
       "       [1149.        ,   45.89733333],\n",
       "       [1462.        ,   50.81366667],\n",
       "       [1420.75      ,   45.73724138],\n",
       "       [1234.        ,   44.03833333],\n",
       "       [ 896.        ,   35.62728814],\n",
       "       [ 343.75      ,   20.45216667]])"
      ]
     },
     "execution_count": 534,
     "metadata": {},
     "output_type": "execute_result"
    }
   ],
   "source": [
    "df_f[\"2021-04-24\"][df_columns].values"
   ]
  },
  {
   "cell_type": "code",
   "execution_count": 535,
   "metadata": {},
   "outputs": [],
   "source": [
    "fecha_ini = '2021-04-25'"
   ]
  },
  {
   "cell_type": "code",
   "execution_count": 536,
   "metadata": {},
   "outputs": [
    {
     "data": {
      "text/html": [
       "<div>\n",
       "<style scoped>\n",
       "    .dataframe tbody tr th:only-of-type {\n",
       "        vertical-align: middle;\n",
       "    }\n",
       "\n",
       "    .dataframe tbody tr th {\n",
       "        vertical-align: top;\n",
       "    }\n",
       "\n",
       "    .dataframe thead th {\n",
       "        text-align: right;\n",
       "    }\n",
       "</style>\n",
       "<table border=\"1\" class=\"dataframe\">\n",
       "  <thead>\n",
       "    <tr style=\"text-align: right;\">\n",
       "      <th></th>\n",
       "      <th>Pac</th>\n",
       "      <th>Tmod</th>\n",
       "      <th>Fecha</th>\n",
       "      <th>Date</th>\n",
       "    </tr>\n",
       "    <tr>\n",
       "      <th>Fecha</th>\n",
       "      <th></th>\n",
       "      <th></th>\n",
       "      <th></th>\n",
       "      <th></th>\n",
       "    </tr>\n",
       "  </thead>\n",
       "  <tbody>\n",
       "    <tr>\n",
       "      <th>2021-04-25 06:00:00</th>\n",
       "      <td>220.105263</td>\n",
       "      <td>2.292203</td>\n",
       "      <td>2021-04-25 06:00:00</td>\n",
       "      <td>2021-04-25</td>\n",
       "    </tr>\n",
       "    <tr>\n",
       "      <th>2021-04-25 07:00:00</th>\n",
       "      <td>655.000000</td>\n",
       "      <td>18.341695</td>\n",
       "      <td>2021-04-25 07:00:00</td>\n",
       "      <td>2021-04-25</td>\n",
       "    </tr>\n",
       "    <tr>\n",
       "      <th>2021-04-25 08:00:00</th>\n",
       "      <td>1016.450000</td>\n",
       "      <td>27.616949</td>\n",
       "      <td>2021-04-25 08:00:00</td>\n",
       "      <td>2021-04-25</td>\n",
       "    </tr>\n",
       "    <tr>\n",
       "      <th>2021-04-25 09:00:00</th>\n",
       "      <td>1283.750000</td>\n",
       "      <td>40.497167</td>\n",
       "      <td>2021-04-25 09:00:00</td>\n",
       "      <td>2021-04-25</td>\n",
       "    </tr>\n",
       "    <tr>\n",
       "      <th>2021-04-25 10:00:00</th>\n",
       "      <td>1352.283333</td>\n",
       "      <td>40.059667</td>\n",
       "      <td>2021-04-25 10:00:00</td>\n",
       "      <td>2021-04-25</td>\n",
       "    </tr>\n",
       "    <tr>\n",
       "      <th>...</th>\n",
       "      <td>...</td>\n",
       "      <td>...</td>\n",
       "      <td>...</td>\n",
       "      <td>...</td>\n",
       "    </tr>\n",
       "    <tr>\n",
       "      <th>2021-10-31 12:00:00</th>\n",
       "      <td>1416.250000</td>\n",
       "      <td>40.932926</td>\n",
       "      <td>2021-10-31 12:00:00</td>\n",
       "      <td>2021-10-31</td>\n",
       "    </tr>\n",
       "    <tr>\n",
       "      <th>2021-10-31 13:00:00</th>\n",
       "      <td>738.500000</td>\n",
       "      <td>36.109214</td>\n",
       "      <td>2021-10-31 13:00:00</td>\n",
       "      <td>2021-10-31</td>\n",
       "    </tr>\n",
       "    <tr>\n",
       "      <th>2021-10-31 14:00:00</th>\n",
       "      <td>362.250000</td>\n",
       "      <td>29.766405</td>\n",
       "      <td>2021-10-31 14:00:00</td>\n",
       "      <td>2021-10-31</td>\n",
       "    </tr>\n",
       "    <tr>\n",
       "      <th>2021-10-31 15:00:00</th>\n",
       "      <td>177.500000</td>\n",
       "      <td>21.502647</td>\n",
       "      <td>2021-10-31 15:00:00</td>\n",
       "      <td>2021-10-31</td>\n",
       "    </tr>\n",
       "    <tr>\n",
       "      <th>2021-10-31 16:00:00</th>\n",
       "      <td>232.750000</td>\n",
       "      <td>15.208282</td>\n",
       "      <td>2021-10-31 16:00:00</td>\n",
       "      <td>2021-10-31</td>\n",
       "    </tr>\n",
       "  </tbody>\n",
       "</table>\n",
       "<p>2090 rows × 4 columns</p>\n",
       "</div>"
      ],
      "text/plain": [
       "                             Pac       Tmod               Fecha        Date\n",
       "Fecha                                                                      \n",
       "2021-04-25 06:00:00   220.105263   2.292203 2021-04-25 06:00:00  2021-04-25\n",
       "2021-04-25 07:00:00   655.000000  18.341695 2021-04-25 07:00:00  2021-04-25\n",
       "2021-04-25 08:00:00  1016.450000  27.616949 2021-04-25 08:00:00  2021-04-25\n",
       "2021-04-25 09:00:00  1283.750000  40.497167 2021-04-25 09:00:00  2021-04-25\n",
       "2021-04-25 10:00:00  1352.283333  40.059667 2021-04-25 10:00:00  2021-04-25\n",
       "...                          ...        ...                 ...         ...\n",
       "2021-10-31 12:00:00  1416.250000  40.932926 2021-10-31 12:00:00  2021-10-31\n",
       "2021-10-31 13:00:00   738.500000  36.109214 2021-10-31 13:00:00  2021-10-31\n",
       "2021-10-31 14:00:00   362.250000  29.766405 2021-10-31 14:00:00  2021-10-31\n",
       "2021-10-31 15:00:00   177.500000  21.502647 2021-10-31 15:00:00  2021-10-31\n",
       "2021-10-31 16:00:00   232.750000  15.208282 2021-10-31 16:00:00  2021-10-31\n",
       "\n",
       "[2090 rows x 4 columns]"
      ]
     },
     "execution_count": 536,
     "metadata": {},
     "output_type": "execute_result"
    }
   ],
   "source": [
    "df_t = df_f[fecha_ini: fecha_fin][df_columns]\n",
    "df_t['Fecha'] = df_t.index\n",
    "df_t['Date'] = df_t.index.date\n",
    "df_t"
   ]
  },
  {
   "cell_type": "code",
   "execution_count": 537,
   "metadata": {},
   "outputs": [],
   "source": [
    "# df_t[df_columns]"
   ]
  },
  {
   "cell_type": "code",
   "execution_count": 538,
   "metadata": {},
   "outputs": [
    {
     "name": "stdout",
     "output_type": "stream",
     "text": [
      "[[390.93515 612.8435  742.6521  849.40344 897.8121  887.31824 857.9257\n",
      "  812.0667  765.8672  698.8566  598.1348 ]]\n"
     ]
    },
    {
     "data": {
      "text/plain": [
       "Fecha\n",
       "2021-04-26 06:00:00    390.935150\n",
       "2021-04-26 07:00:00    612.843506\n",
       "2021-04-26 08:00:00    742.652100\n",
       "2021-04-26 09:00:00    849.403442\n",
       "2021-04-26 10:00:00    897.812073\n",
       "                          ...    \n",
       "2021-10-31 12:00:00    465.853973\n",
       "2021-10-31 13:00:00    404.131348\n",
       "2021-10-31 14:00:00    282.737549\n",
       "2021-10-31 15:00:00    253.282196\n",
       "2021-10-31 16:00:00    222.679199\n",
       "Length: 2079, dtype: float32"
      ]
     },
     "execution_count": 538,
     "metadata": {},
     "output_type": "execute_result"
    }
   ],
   "source": [
    "series_t = None\n",
    "for dtime in list(df_t.Date.drop_duplicates())[:-1]:\n",
    "#     print(dtime)\n",
    "    x_input = df_t[str(dtime)][df_columns].values.reshape((1,11,2)) \n",
    "    pred = new_model.predict(x_input)\n",
    "    if series_t is None:\n",
    "        print(pred)\n",
    "        series_t = pd.Series(pred.ravel(), df_t[str(dtime+ dt.timedelta(days=1))].index)\n",
    "    else :\n",
    "        series_t = series_t.append(pd.Series(pred.ravel(), df_t[str(dtime+ dt.timedelta(days=1))].index))\n",
    "series_t"
   ]
  },
  {
   "cell_type": "code",
   "execution_count": 539,
   "metadata": {},
   "outputs": [],
   "source": [
    "df_t['pred']= series_t"
   ]
  },
  {
   "cell_type": "code",
   "execution_count": 541,
   "metadata": {},
   "outputs": [
    {
     "data": {
      "text/plain": [
       "'graficos/1dcnn_Chachapoyas_to_Juliaca_PERC'"
      ]
     },
     "execution_count": 541,
     "metadata": {},
     "output_type": "execute_result"
    }
   ],
   "source": [
    "image_dir =  f'graficos/{model_path.split(\"/\")[-1]}'\n",
    "image_dir"
   ]
  },
  {
   "cell_type": "code",
   "execution_count": 542,
   "metadata": {},
   "outputs": [
    {
     "name": "stdout",
     "output_type": "stream",
     "text": [
      "mkdir: cannot create directory ‘graficos’: File exists\n"
     ]
    }
   ],
   "source": [
    "!mkdir graficos"
   ]
  },
  {
   "cell_type": "code",
   "execution_count": 543,
   "metadata": {},
   "outputs": [],
   "source": [
    "!mkdir {image_dir}"
   ]
  },
  {
   "cell_type": "code",
   "execution_count": 544,
   "metadata": {},
   "outputs": [
    {
     "name": "stdout",
     "output_type": "stream",
     "text": [
      "[('2021-04-29', 'graficos/1dcnn_Chachapoyas_to_Juliaca_PERC/1dcnn_Chachapoyas_to_Juliaca_PERC-2021-04-29.png', 'graficos/1dcnn_Chachapoyas_to_Juliaca_PERC/current_day_1dcnn_Chachapoyas_to_Juliaca_PERC-2021-04-29.png', 157.76670317909412, 449.044189181236), ('2021-04-30', 'graficos/1dcnn_Chachapoyas_to_Juliaca_PERC/1dcnn_Chachapoyas_to_Juliaca_PERC-2021-04-30.png', 'graficos/1dcnn_Chachapoyas_to_Juliaca_PERC/current_day_1dcnn_Chachapoyas_to_Juliaca_PERC-2021-04-30.png', 339.3607856572571, 157.76670317909412)]\n",
      "CPU times: user 1min 28s, sys: 0 ns, total: 1min 28s\n",
      "Wall time: 1min 28s\n"
     ]
    },
    {
     "data": {
      "text/plain": [
       "186"
      ]
     },
     "execution_count": 544,
     "metadata": {},
     "output_type": "execute_result"
    },
    {
     "data": {
      "text/plain": [
       "<Figure size 432x288 with 0 Axes>"
      ]
     },
     "metadata": {},
     "output_type": "display_data"
    }
   ],
   "source": [
    "%%time\n",
    "ls = []\n",
    "for dtime in list(df_t.Date.drop_duplicates())[4:]:\n",
    "    \n",
    "    #previous day fig\n",
    "#     print(dtime)\n",
    "    pac = df_t[str(dtime)]['Pac']\n",
    "    pred = df_t[str(dtime)]['pred']\n",
    "    pac_1 = df_t[str(dtime- dt.timedelta(days=1))]['Pac']\n",
    "    pred_1 = df_t[str(dtime- dt.timedelta(days=1))]['pred']\n",
    "    pac_2 = df_t[str(dtime- dt.timedelta(days=2))]['Pac']\n",
    "    pred_2 = df_t[str(dtime- dt.timedelta(days=2))]['pred']\n",
    "#     pac_3 = df_t[str(dtime- dt.timedelta(days=3))]['Pac']\n",
    "#     pred_3 = df_t[str(dtime- dt.timedelta(days=3))]['pred']\n",
    "    \n",
    "#     pac_3.plot(color='r', marker='o', markersize=4)\n",
    "#     pred_3.plot(color='g', marker='o', markersize=4)\n",
    "    pac_2.plot(color='r', marker='o', markersize=4)\n",
    "    pred_2.plot(color='g', marker='o', markersize=4)\n",
    "    pac_1.plot(color='r', marker='o', markersize=4)\n",
    "    pred_1.plot(color='g', marker='o', markersize=4)\n",
    "    pac.plot(color='r', marker='o', markersize=4)\n",
    "    pred.plot(color='g', marker='o', markersize=4)\n",
    "    \n",
    "    plt.legend(['Pac real', 'Pac predicho'])\n",
    "    plt.ylabel('Pac (W)')\n",
    "    plt.xlabel('Fecha y hora')\n",
    "    name = f'graficos/{model_path.split(\"/\")[-1]}/{model_path.split(\"/\")[-1]}-{str(dtime)}.png'\n",
    "    plt.savefig(name,bbox_inches='tight')\n",
    "#     plt.savefig('images/p3.png',bbox_inches='tight')\n",
    "    plt.clf()\n",
    "    \n",
    "    #current day fig\n",
    "    \n",
    "    pac = df_t[str(dtime)]['Pac']\n",
    "    pred = df_t[str(dtime)]['pred']\n",
    "    pac_1 = df_t[str(dtime- dt.timedelta(days=1))]['Pac']\n",
    "    pred_1 = df_t[str(dtime- dt.timedelta(days=1))]['pred']\n",
    "    pac_2 = df_t[str(dtime- dt.timedelta(days=2))]['Pac']\n",
    "    pred_2 = df_t[str(dtime- dt.timedelta(days=2))]['pred']\n",
    "#     pac_3 = df_t[str(dtime- dt.timedelta(days=3))]['Pac']\n",
    "#     pred_3 = df_t[str(dtime- dt.timedelta(days=3))]['pred']\n",
    "    \n",
    "#     pac_3.plot(color='r', marker='o', markersize=4)\n",
    "#     pred_3.plot(color='g', marker='o', markersize=4)\n",
    "    pac_2.plot(color='r', marker='o', markersize=4)\n",
    "    pred_2.plot(color='g', marker='o', markersize=4)\n",
    "    pac_1.plot(color='r', marker='o', markersize=4)\n",
    "    pred_1.plot(color='g', marker='o', markersize=4)\n",
    "#     pac.plot(color='r', marker='o', markersize=4)\n",
    "    pred.plot(color='g', marker='o', markersize=4)\n",
    "    \n",
    "    plt.legend(['Pac real', 'Pac predicho'])\n",
    "    plt.ylabel('Pac (W)')\n",
    "    plt.xlabel('Fecha y hora')\n",
    "    name_current_day = f'graficos/{model_path.split(\"/\")[-1]}/current_day_{model_path.split(\"/\")[-1]}-{str(dtime)}.png'\n",
    "    \n",
    "    plt.savefig(name_current_day,bbox_inches='tight')\n",
    "    plt.clf()\n",
    "\n",
    "    ls.append((str(dtime), name, name_current_day,\\\n",
    "               math.sqrt(mean_squared_error(pac, pred)),\\\n",
    "               math.sqrt(mean_squared_error(pac_1, pred_1))))\n",
    "#     break\n",
    "print(ls[:2])\n",
    "len(ls)\n"
   ]
  },
  {
   "cell_type": "code",
   "execution_count": 545,
   "metadata": {},
   "outputs": [],
   "source": [
    "# list(df_t.Date.drop_duplicates())[1:-1]"
   ]
  },
  {
   "cell_type": "code",
   "execution_count": 546,
   "metadata": {},
   "outputs": [],
   "source": [
    "# ls"
   ]
  },
  {
   "cell_type": "code",
   "execution_count": 547,
   "metadata": {},
   "outputs": [],
   "source": [
    "ml_model_id = 10\n",
    "metric_name = 'RMSE'\n",
    "date = ''\n",
    "value = ''\n",
    "previous_value = ''\n",
    "imag_path = ''"
   ]
  },
  {
   "cell_type": "code",
   "execution_count": 548,
   "metadata": {},
   "outputs": [
    {
     "data": {
      "text/plain": [
       "\"\\nINSERT INTO `DBTesis`.`metrics` (`ml_model_id`, `metric_name`, `date`, `value`, `previous_value`, `metric_image_path`, `metric_current_image_path`)\\nVALUES ('f', 'f', 'f', 'f', 'f', 'f','f');\\n\""
      ]
     },
     "execution_count": 548,
     "metadata": {},
     "output_type": "execute_result"
    }
   ],
   "source": [
    "\"\"\"\n",
    "INSERT INTO `DBTesis`.`metrics` (`ml_model_id`, `metric_name`, `date`, `value`, `previous_value`, `metric_image_path`, `metric_current_image_path`)\n",
    "VALUES ('f', 'f', 'f', 'f', 'f', 'f','f');\n",
    "\"\"\""
   ]
  },
  {
   "cell_type": "code",
   "execution_count": 549,
   "metadata": {},
   "outputs": [],
   "source": [
    "stri = ''\n",
    "for l in ls:\n",
    "    date = l[0]\n",
    "    imag_path=l[1]\n",
    "    current_img_path = l[2]\n",
    "    value=l[3]\n",
    "    previous_value=l[4]\n",
    "    stri +=f\"\"\"\n",
    "INSERT INTO `DBTesis`.`metrics` (`ml_model_id`, `metric_name`, `date`, `value`, `previous_value`, `metric_image_path`, `metric_current_image_path`)\n",
    "VALUES ({ml_model_id}, '{metric_name}', '{date}', {value}, {previous_value}, '{imag_path}','{current_img_path}');\n",
    "\"\"\""
   ]
  },
  {
   "cell_type": "code",
   "execution_count": 550,
   "metadata": {},
   "outputs": [
    {
     "data": {
      "text/plain": [
       "186"
      ]
     },
     "execution_count": 550,
     "metadata": {},
     "output_type": "execute_result"
    }
   ],
   "source": [
    "len(stri.split('\\n\\n'))"
   ]
  },
  {
   "cell_type": "code",
   "execution_count": 551,
   "metadata": {},
   "outputs": [],
   "source": [
    "stri_cachatojuliaca_cnn_PERC = stri"
   ]
  },
  {
   "cell_type": "code",
   "execution_count": 552,
   "metadata": {},
   "outputs": [
    {
     "name": "stdout",
     "output_type": "stream",
     "text": [
      "\n",
      "INSERT INTO `DBTesis`.`metrics` (`ml_model_id`, `metric_name`, `date`, `value`, `previous_value`, `metric_image_path`, `metric_current_image_path`)\n",
      "VALUES (10, 'RMSE', '2021-04-29', 157.76670317909412, 449.044189181236, 'graficos/1dcnn_Chachapoyas_to_Juliaca_PERC/1dcnn_Chachapoyas_to_Juliaca_PERC-2021-04-29.png','graficos/1dcnn_Chachapoyas_to_Juliaca_PERC/current_day_1dcnn_Chachapoyas_to_Juliaca_PERC-2021-04-29.png');\n",
      "\n",
      "INSERT INTO `DBTesis`.`metrics` (`ml_model_id`, `metric_name`, `date`, `value`, `previous_value`, `metric_image_path`, `metric_current_image_path`)\n",
      "VALUES (10, 'RMSE', '2021-04-30', 339.3607856572571, 157.76670317909412, 'graficos/1dcnn_Chachapoyas_to_Juliaca_PERC/1dcnn_Chachapoyas_to_Juliaca_PERC-2021-04-30.png','graficos/1dcnn_Chachapoyas_to_Juliaca_PERC/current_day_1dcnn_Chachapoyas_to_Juliaca_PERC-2021-04-30.png');\n",
      "\n",
      "INSERT INTO `DBTesis`.`metrics` (`ml_model_id`, `metric_name`, `date`, `value`, `previous_value`, `metric_image_path`, `metric_current_image_path`)\n",
      "VALUES (10, 'RMSE', '2021-05-01', 433.114261044158, 339.3607856572571, 'graficos/1dcnn_Chachapoyas_to_Juliaca_PERC/1dcnn_Chachapoyas_to_Juliaca_PERC-2021-05-01.png','graficos/1dcnn_Chachapoyas_to_Juliaca_PERC/current_day_1dcnn_Chachapoyas_to_Juliaca_PERC-2021-05-01.png');\n",
      "\n",
      "INSERT INTO `DBTesis`.`metrics` (`ml_model_id`, `metric_name`, `date`, `value`, `previous_value`, `metric_image_path`, `metric_current_image_path`)\n",
      "VALUES (10, 'RMSE', '2021-05-02', 515.8792406120649, 433.114261044158, 'graficos/1dcnn_Chachapoyas_to_Juliaca_PERC/1dcnn_Chachapoyas_to_Juliaca_PERC-2021-05-02.png','graficos/1dcnn_Chachapoyas_to_Juliaca_PERC/current_day_1dcnn_Chachapoyas_to_Juliaca_PERC-2021-05-02.png');\n",
      "\n",
      "INSERT INTO `DBTesis`.`metrics` (`ml_model_id`, `metric_name`, `date`, `value`, `previous_value`, `metric_image_path`, `metric_current_image_path`)\n",
      "VALUES (10, 'RMSE', '2021-05-03', 399.1769500217114, 515.8792406120649, 'graficos/1dcnn_Chachapoyas_to_Juliaca_PERC/1dcnn_Chachapoyas_to_Juliaca_PERC-2021-05-03.png','graficos/1dcnn_Chachapoyas_to_Juliaca_PERC/current_day_1dcnn_Chachapoyas_to_Juliaca_PERC-2021-05-03.png');\n",
      "\n",
      "INSERT INTO `DBTesis`.`metrics` (`ml_model_id`, `metric_name`, `date`, `value`, `previous_value`, `metric_image_path`, `metric_current_image_path`)\n",
      "VALUES (10, 'RMSE', '2021-05-04', 233.8981189146279, 399.1769500217114, 'graficos/1dcnn_Chachapoyas_to_Juliaca_PERC/1dcnn_Chachapoyas_to_Juliaca_PERC-2021-05-04.png','graficos/1dcnn_Chachapoyas_to_Juliaca_PERC/current_day_1dcnn_Chachapoyas_to_Juliaca_PERC-2021-05-04.png');\n",
      "\n",
      "INSERT INTO `DBTesis`.`metrics` (`ml_model_id`, `metric_name`, `date`, `value`, `previous_value`, `metric_image_path`, `metric_current_image_path`)\n",
      "VALUES (10, 'RMSE', '2021-05-05', 289.4170713006233, 233.8981189146279, 'graficos/1dcnn_Chachapoyas_to_Juliaca_PERC/1dcnn_Chachapoyas_to_Juliaca_PERC-2021-05-05.png','graficos/1dcnn_Chachapoyas_to_Juliaca_PERC/current_day_1dcnn_Chachapoyas_to_Juliaca_PERC-2021-05-05.png');\n",
      "\n",
      "INSERT INTO `DBTesis`.`metrics` (`ml_model_id`, `metric_name`, `date`, `value`, `previous_value`, `metric_image_path`, `metric_current_image_path`)\n",
      "VALUES (10, 'RMSE', '2021-05-06', 393.1455155072453, 289.4170713006233, 'graficos/1dcnn_Chachapoyas_to_Juliaca_PERC/1dcnn_Chachapoyas_to_Juliaca_PERC-2021-05-06.png','graficos/1dcnn_Chachapoyas_to_Juliaca_PERC/current_day_1dcnn_Chachapoyas_to_Juliaca_PERC-2021-05-06.png');\n",
      "\n",
      "INSERT INTO `DBTesis`.`metrics` (`ml_model_id`, `metric_name`, `date`, `value`, `previous_value`, `metric_image_path`, `metric_current_image_path`)\n",
      "VALUES (10, 'RMSE', '2021-05-07', 284.2740762819462, 393.1455155072453, 'graficos/1dcnn_Chachapoyas_to_Juliaca_PERC/1dcnn_Chachapoyas_to_Juliaca_PERC-2021-05-07.png','graficos/1dcnn_Chachapoyas_to_Juliaca_PERC/current_day_1dcnn_Chachapoyas_to_Juliaca_PERC-2021-05-07.png');\n",
      "\n",
      "INSERT INTO `DBTesis`.`metrics` (`ml_model_id`, `metric_name`, `date`, `value`, `previous_value`, `metric_image_path`, `metric_current_image_path`)\n",
      "VALUES (10, 'RMSE', '2021-05-08', 485.679796465856, 284.2740762819462, 'graficos/1dcnn_Chachapoyas_to_Juliaca_PERC/1dcnn_Chachapoyas_to_Juliaca_PERC-2021-05-08.png','graficos/1dcnn_Chachapoyas_to_Juliaca_PERC/current_day_1dcnn_Chachapoyas_to_Juliaca_PERC-2021-05-08.png');\n",
      "\n",
      "INSERT INTO `DBTesis`.`metrics` (`ml_model_id`, `metric_name`, `date`, `value`, `previous_value`, `metric_image_path`, `metric_current_image_path`)\n",
      "VALUES (10, 'RMSE', '2021-05-09', 253.56815702859348, 485.679796465856, 'graficos/1dcnn_Chachapoyas_to_Juliaca_PERC/1dcnn_Chachapoyas_to_Juliaca_PERC-2021-05-09.png','graficos/1dcnn_Chachapoyas_to_Juliaca_PERC/current_day_1dcnn_Chachapoyas_to_Juliaca_PERC-2021-05-09.png');\n",
      "\n",
      "INSERT INTO `DBTesis`.`metrics` (`ml_model_id`, `metric_name`, `date`, `value`, `previous_value`, `metric_image_path`, `metric_current_image_path`)\n",
      "VALUES (10, 'RMSE', '2021-05-10', 388.30146747882384, 253.56815702859348, 'graficos/1dcnn_Chachapoyas_to_Juliaca_PERC/1dcnn_Chachapoyas_to_Juliaca_PERC-2021-05-10.png','graficos/1dcnn_Chachapoyas_to_Juliaca_PERC/current_day_1dcnn_Chachapoyas_to_Juliaca_PERC-2021-05-10.png');\n",
      "\n",
      "INSERT INTO `DBTesis`.`metrics` (`ml_model_id`, `metric_name`, `date`, `value`, `previous_value`, `metric_image_path`, `metric_current_image_path`)\n",
      "VALUES (10, 'RMSE', '2021-05-11', 439.3207311260225, 388.30146747882384, 'graficos/1dcnn_Chachapoyas_to_Juliaca_PERC/1dcnn_Chachapoyas_to_Juliaca_PERC-2021-05-11.png','graficos/1dcnn_Chachapoyas_to_Juliaca_PERC/current_day_1dcnn_Chachapoyas_to_Juliaca_PERC-2021-05-11.png');\n",
      "\n",
      "INSERT INTO `DBTesis`.`metrics` (`ml_model_id`, `metric_name`, `date`, `value`, `previous_value`, `metric_image_path`, `metric_current_image_path`)\n",
      "VALUES (10, 'RMSE', '2021-05-12', 547.1559159801542, 439.3207311260225, 'graficos/1dcnn_Chachapoyas_to_Juliaca_PERC/1dcnn_Chachapoyas_to_Juliaca_PERC-2021-05-12.png','graficos/1dcnn_Chachapoyas_to_Juliaca_PERC/current_day_1dcnn_Chachapoyas_to_Juliaca_PERC-2021-05-12.png');\n",
      "\n",
      "INSERT INTO `DBTesis`.`metrics` (`ml_model_id`, `metric_name`, `date`, `value`, `previous_value`, `metric_image_path`, `metric_current_image_path`)\n",
      "VALUES (10, 'RMSE', '2021-05-13', 671.989882251036, 547.1559159801542, 'graficos/1dcnn_Chachapoyas_to_Juliaca_PERC/1dcnn_Chachapoyas_to_Juliaca_PERC-2021-05-13.png','graficos/1dcnn_Chachapoyas_to_Juliaca_PERC/current_day_1dcnn_Chachapoyas_to_Juliaca_PERC-2021-05-13.png');\n",
      "\n",
      "INSERT INTO `DBTesis`.`metrics` (`ml_model_id`, `metric_name`, `date`, `value`, `previous_value`, `metric_image_path`, `metric_current_image_path`)\n",
      "VALUES (10, 'RMSE', '2021-05-14', 627.8153479415594, 671.989882251036, 'graficos/1dcnn_Chachapoyas_to_Juliaca_PERC/1dcnn_Chachapoyas_to_Juliaca_PERC-2021-05-14.png','graficos/1dcnn_Chachapoyas_to_Juliaca_PERC/current_day_1dcnn_Chachapoyas_to_Juliaca_PERC-2021-05-14.png');\n",
      "\n",
      "INSERT INTO `DBTesis`.`metrics` (`ml_model_id`, `metric_name`, `date`, `value`, `previous_value`, `metric_image_path`, `metric_current_image_path`)\n",
      "VALUES (10, 'RMSE', '2021-05-15', 374.36913497648163, 627.8153479415594, 'graficos/1dcnn_Chachapoyas_to_Juliaca_PERC/1dcnn_Chachapoyas_to_Juliaca_PERC-2021-05-15.png','graficos/1dcnn_Chachapoyas_to_Juliaca_PERC/current_day_1dcnn_Chachapoyas_to_Juliaca_PERC-2021-05-15.png');\n",
      "\n",
      "INSERT INTO `DBTesis`.`metrics` (`ml_model_id`, `metric_name`, `date`, `value`, `previous_value`, `metric_image_path`, `metric_current_image_path`)\n",
      "VALUES (10, 'RMSE', '2021-05-16', 623.3379866107256, 374.36913497648163, 'graficos/1dcnn_Chachapoyas_to_Juliaca_PERC/1dcnn_Chachapoyas_to_Juliaca_PERC-2021-05-16.png','graficos/1dcnn_Chachapoyas_to_Juliaca_PERC/current_day_1dcnn_Chachapoyas_to_Juliaca_PERC-2021-05-16.png');\n",
      "\n",
      "INSERT INTO `DBTesis`.`metrics` (`ml_model_id`, `metric_name`, `date`, `value`, `previous_value`, `metric_image_path`, `metric_current_image_path`)\n",
      "VALUES (10, 'RMSE', '2021-05-17', 338.28227969662964, 623.3379866107256, 'graficos/1dcnn_Chachapoyas_to_Juliaca_PERC/1dcnn_Chachapoyas_to_Juliaca_PERC-2021-05-17.png','graficos/1dcnn_Chachapoyas_to_Juliaca_PERC/current_day_1dcnn_Chachapoyas_to_Juliaca_PERC-2021-05-17.png');\n",
      "\n",
      "INSERT INTO `DBTesis`.`metrics` (`ml_model_id`, `metric_name`, `date`, `value`, `previous_value`, `metric_image_path`, `metric_current_image_path`)\n",
      "VALUES (10, 'RMSE', '2021-05-18', 194.67726830179637, 338.28227969662964, 'graficos/1dcnn_Chachapoyas_to_Juliaca_PERC/1dcnn_Chachapoyas_to_Juliaca_PERC-2021-05-18.png','graficos/1dcnn_Chachapoyas_to_Juliaca_PERC/current_day_1dcnn_Chachapoyas_to_Juliaca_PERC-2021-05-18.png');\n",
      "\n",
      "INSERT INTO `DBTesis`.`metrics` (`ml_model_id`, `metric_name`, `date`, `value`, `previous_value`, `metric_image_path`, `metric_current_image_path`)\n",
      "VALUES (10, 'RMSE', '2021-05-19', 374.64101489451457, 194.67726830179637, 'graficos/1dcnn_Chachapoyas_to_Juliaca_PERC/1dcnn_Chachapoyas_to_Juliaca_PERC-2021-05-19.png','graficos/1dcnn_Chachapoyas_to_Juliaca_PERC/current_day_1dcnn_Chachapoyas_to_Juliaca_PERC-2021-05-19.png');\n",
      "\n",
      "INSERT INTO `DBTesis`.`metrics` (`ml_model_id`, `metric_name`, `date`, `value`, `previous_value`, `metric_image_path`, `metric_current_image_path`)\n",
      "VALUES (10, 'RMSE', '2021-05-20', 442.00742152689696, 374.64101489451457, 'graficos/1dcnn_Chachapoyas_to_Juliaca_PERC/1dcnn_Chachapoyas_to_Juliaca_PERC-2021-05-20.png','graficos/1dcnn_Chachapoyas_to_Juliaca_PERC/current_day_1dcnn_Chachapoyas_to_Juliaca_PERC-2021-05-20.png');\n",
      "\n",
      "INSERT INTO `DBTesis`.`metrics` (`ml_model_id`, `metric_name`, `date`, `value`, `previous_value`, `metric_image_path`, `metric_current_image_path`)\n",
      "VALUES (10, 'RMSE', '2021-05-21', 333.91101667281816, 442.00742152689696, 'graficos/1dcnn_Chachapoyas_to_Juliaca_PERC/1dcnn_Chachapoyas_to_Juliaca_PERC-2021-05-21.png','graficos/1dcnn_Chachapoyas_to_Juliaca_PERC/current_day_1dcnn_Chachapoyas_to_Juliaca_PERC-2021-05-21.png');\n",
      "\n",
      "INSERT INTO `DBTesis`.`metrics` (`ml_model_id`, `metric_name`, `date`, `value`, `previous_value`, `metric_image_path`, `metric_current_image_path`)\n",
      "VALUES (10, 'RMSE', '2021-05-22', 265.5618468924572, 333.91101667281816, 'graficos/1dcnn_Chachapoyas_to_Juliaca_PERC/1dcnn_Chachapoyas_to_Juliaca_PERC-2021-05-22.png','graficos/1dcnn_Chachapoyas_to_Juliaca_PERC/current_day_1dcnn_Chachapoyas_to_Juliaca_PERC-2021-05-22.png');\n",
      "\n",
      "INSERT INTO `DBTesis`.`metrics` (`ml_model_id`, `metric_name`, `date`, `value`, `previous_value`, `metric_image_path`, `metric_current_image_path`)\n",
      "VALUES (10, 'RMSE', '2021-05-23', 578.1829415338497, 265.5618468924572, 'graficos/1dcnn_Chachapoyas_to_Juliaca_PERC/1dcnn_Chachapoyas_to_Juliaca_PERC-2021-05-23.png','graficos/1dcnn_Chachapoyas_to_Juliaca_PERC/current_day_1dcnn_Chachapoyas_to_Juliaca_PERC-2021-05-23.png');\n",
      "\n",
      "INSERT INTO `DBTesis`.`metrics` (`ml_model_id`, `metric_name`, `date`, `value`, `previous_value`, `metric_image_path`, `metric_current_image_path`)\n",
      "VALUES (10, 'RMSE', '2021-05-24', 351.63740743087834, 578.1829415338497, 'graficos/1dcnn_Chachapoyas_to_Juliaca_PERC/1dcnn_Chachapoyas_to_Juliaca_PERC-2021-05-24.png','graficos/1dcnn_Chachapoyas_to_Juliaca_PERC/current_day_1dcnn_Chachapoyas_to_Juliaca_PERC-2021-05-24.png');\n",
      "\n",
      "INSERT INTO `DBTesis`.`metrics` (`ml_model_id`, `metric_name`, `date`, `value`, `previous_value`, `metric_image_path`, `metric_current_image_path`)\n",
      "VALUES (10, 'RMSE', '2021-05-25', 232.7954184933883, 351.63740743087834, 'graficos/1dcnn_Chachapoyas_to_Juliaca_PERC/1dcnn_Chachapoyas_to_Juliaca_PERC-2021-05-25.png','graficos/1dcnn_Chachapoyas_to_Juliaca_PERC/current_day_1dcnn_Chachapoyas_to_Juliaca_PERC-2021-05-25.png');\n",
      "\n",
      "INSERT INTO `DBTesis`.`metrics` (`ml_model_id`, `metric_name`, `date`, `value`, `previous_value`, `metric_image_path`, `metric_current_image_path`)\n",
      "VALUES (10, 'RMSE', '2021-05-26', 455.46546084525266, 232.7954184933883, 'graficos/1dcnn_Chachapoyas_to_Juliaca_PERC/1dcnn_Chachapoyas_to_Juliaca_PERC-2021-05-26.png','graficos/1dcnn_Chachapoyas_to_Juliaca_PERC/current_day_1dcnn_Chachapoyas_to_Juliaca_PERC-2021-05-26.png');\n",
      "\n",
      "INSERT INTO `DBTesis`.`metrics` (`ml_model_id`, `metric_name`, `date`, `value`, `previous_value`, `metric_image_path`, `metric_current_image_path`)\n",
      "VALUES (10, 'RMSE', '2021-05-27', 362.72309223806894, 455.46546084525266, 'graficos/1dcnn_Chachapoyas_to_Juliaca_PERC/1dcnn_Chachapoyas_to_Juliaca_PERC-2021-05-27.png','graficos/1dcnn_Chachapoyas_to_Juliaca_PERC/current_day_1dcnn_Chachapoyas_to_Juliaca_PERC-2021-05-27.png');\n",
      "\n",
      "INSERT INTO `DBTesis`.`metrics` (`ml_model_id`, `metric_name`, `date`, `value`, `previous_value`, `metric_image_path`, `metric_current_image_path`)\n",
      "VALUES (10, 'RMSE', '2021-05-28', 399.4234230100886, 362.72309223806894, 'graficos/1dcnn_Chachapoyas_to_Juliaca_PERC/1dcnn_Chachapoyas_to_Juliaca_PERC-2021-05-28.png','graficos/1dcnn_Chachapoyas_to_Juliaca_PERC/current_day_1dcnn_Chachapoyas_to_Juliaca_PERC-2021-05-28.png');\n",
      "\n",
      "INSERT INTO `DBTesis`.`metrics` (`ml_model_id`, `metric_name`, `date`, `value`, `previous_value`, `metric_image_path`, `metric_current_image_path`)\n",
      "VALUES (10, 'RMSE', '2021-05-29', 219.8199700222581, 399.4234230100886, 'graficos/1dcnn_Chachapoyas_to_Juliaca_PERC/1dcnn_Chachapoyas_to_Juliaca_PERC-2021-05-29.png','graficos/1dcnn_Chachapoyas_to_Juliaca_PERC/current_day_1dcnn_Chachapoyas_to_Juliaca_PERC-2021-05-29.png');\n",
      "\n",
      "INSERT INTO `DBTesis`.`metrics` (`ml_model_id`, `metric_name`, `date`, `value`, `previous_value`, `metric_image_path`, `metric_current_image_path`)\n",
      "VALUES (10, 'RMSE', '2021-05-30', 446.89458047271444, 219.8199700222581, 'graficos/1dcnn_Chachapoyas_to_Juliaca_PERC/1dcnn_Chachapoyas_to_Juliaca_PERC-2021-05-30.png','graficos/1dcnn_Chachapoyas_to_Juliaca_PERC/current_day_1dcnn_Chachapoyas_to_Juliaca_PERC-2021-05-30.png');\n",
      "\n",
      "INSERT INTO `DBTesis`.`metrics` (`ml_model_id`, `metric_name`, `date`, `value`, `previous_value`, `metric_image_path`, `metric_current_image_path`)\n",
      "VALUES (10, 'RMSE', '2021-05-31', 291.13636223227144, 446.89458047271444, 'graficos/1dcnn_Chachapoyas_to_Juliaca_PERC/1dcnn_Chachapoyas_to_Juliaca_PERC-2021-05-31.png','graficos/1dcnn_Chachapoyas_to_Juliaca_PERC/current_day_1dcnn_Chachapoyas_to_Juliaca_PERC-2021-05-31.png');\n",
      "\n",
      "INSERT INTO `DBTesis`.`metrics` (`ml_model_id`, `metric_name`, `date`, `value`, `previous_value`, `metric_image_path`, `metric_current_image_path`)\n",
      "VALUES (10, 'RMSE', '2021-06-01', 341.70622396498766, 291.13636223227144, 'graficos/1dcnn_Chachapoyas_to_Juliaca_PERC/1dcnn_Chachapoyas_to_Juliaca_PERC-2021-06-01.png','graficos/1dcnn_Chachapoyas_to_Juliaca_PERC/current_day_1dcnn_Chachapoyas_to_Juliaca_PERC-2021-06-01.png');\n",
      "\n",
      "INSERT INTO `DBTesis`.`metrics` (`ml_model_id`, `metric_name`, `date`, `value`, `previous_value`, `metric_image_path`, `metric_current_image_path`)\n",
      "VALUES (10, 'RMSE', '2021-06-02', 410.0784606104789, 341.70622396498766, 'graficos/1dcnn_Chachapoyas_to_Juliaca_PERC/1dcnn_Chachapoyas_to_Juliaca_PERC-2021-06-02.png','graficos/1dcnn_Chachapoyas_to_Juliaca_PERC/current_day_1dcnn_Chachapoyas_to_Juliaca_PERC-2021-06-02.png');\n",
      "\n",
      "INSERT INTO `DBTesis`.`metrics` (`ml_model_id`, `metric_name`, `date`, `value`, `previous_value`, `metric_image_path`, `metric_current_image_path`)\n",
      "VALUES (10, 'RMSE', '2021-06-03', 362.0431673195662, 410.0784606104789, 'graficos/1dcnn_Chachapoyas_to_Juliaca_PERC/1dcnn_Chachapoyas_to_Juliaca_PERC-2021-06-03.png','graficos/1dcnn_Chachapoyas_to_Juliaca_PERC/current_day_1dcnn_Chachapoyas_to_Juliaca_PERC-2021-06-03.png');\n",
      "\n",
      "INSERT INTO `DBTesis`.`metrics` (`ml_model_id`, `metric_name`, `date`, `value`, `previous_value`, `metric_image_path`, `metric_current_image_path`)\n",
      "VALUES (10, 'RMSE', '2021-06-04', 177.43290237627457, 362.0431673195662, 'graficos/1dcnn_Chachapoyas_to_Juliaca_PERC/1dcnn_Chachapoyas_to_Juliaca_PERC-2021-06-04.png','graficos/1dcnn_Chachapoyas_to_Juliaca_PERC/current_day_1dcnn_Chachapoyas_to_Juliaca_PERC-2021-06-04.png');\n",
      "\n",
      "INSERT INTO `DBTesis`.`metrics` (`ml_model_id`, `metric_name`, `date`, `value`, `previous_value`, `metric_image_path`, `metric_current_image_path`)\n",
      "VALUES (10, 'RMSE', '2021-06-05', 340.8001265248772, 177.43290237627457, 'graficos/1dcnn_Chachapoyas_to_Juliaca_PERC/1dcnn_Chachapoyas_to_Juliaca_PERC-2021-06-05.png','graficos/1dcnn_Chachapoyas_to_Juliaca_PERC/current_day_1dcnn_Chachapoyas_to_Juliaca_PERC-2021-06-05.png');\n",
      "\n",
      "INSERT INTO `DBTesis`.`metrics` (`ml_model_id`, `metric_name`, `date`, `value`, `previous_value`, `metric_image_path`, `metric_current_image_path`)\n",
      "VALUES (10, 'RMSE', '2021-06-06', 248.06069697057558, 340.8001265248772, 'graficos/1dcnn_Chachapoyas_to_Juliaca_PERC/1dcnn_Chachapoyas_to_Juliaca_PERC-2021-06-06.png','graficos/1dcnn_Chachapoyas_to_Juliaca_PERC/current_day_1dcnn_Chachapoyas_to_Juliaca_PERC-2021-06-06.png');\n",
      "\n",
      "INSERT INTO `DBTesis`.`metrics` (`ml_model_id`, `metric_name`, `date`, `value`, `previous_value`, `metric_image_path`, `metric_current_image_path`)\n",
      "VALUES (10, 'RMSE', '2021-06-07', 201.9158966866145, 248.06069697057558, 'graficos/1dcnn_Chachapoyas_to_Juliaca_PERC/1dcnn_Chachapoyas_to_Juliaca_PERC-2021-06-07.png','graficos/1dcnn_Chachapoyas_to_Juliaca_PERC/current_day_1dcnn_Chachapoyas_to_Juliaca_PERC-2021-06-07.png');\n",
      "\n",
      "INSERT INTO `DBTesis`.`metrics` (`ml_model_id`, `metric_name`, `date`, `value`, `previous_value`, `metric_image_path`, `metric_current_image_path`)\n",
      "VALUES (10, 'RMSE', '2021-06-08', 391.8250466091343, 201.9158966866145, 'graficos/1dcnn_Chachapoyas_to_Juliaca_PERC/1dcnn_Chachapoyas_to_Juliaca_PERC-2021-06-08.png','graficos/1dcnn_Chachapoyas_to_Juliaca_PERC/current_day_1dcnn_Chachapoyas_to_Juliaca_PERC-2021-06-08.png');\n",
      "\n",
      "INSERT INTO `DBTesis`.`metrics` (`ml_model_id`, `metric_name`, `date`, `value`, `previous_value`, `metric_image_path`, `metric_current_image_path`)\n",
      "VALUES (10, 'RMSE', '2021-06-09', 168.26090177748108, 391.8250466091343, 'graficos/1dcnn_Chachapoyas_to_Juliaca_PERC/1dcnn_Chachapoyas_to_Juliaca_PERC-2021-06-09.png','graficos/1dcnn_Chachapoyas_to_Juliaca_PERC/current_day_1dcnn_Chachapoyas_to_Juliaca_PERC-2021-06-09.png');\n",
      "\n",
      "INSERT INTO `DBTesis`.`metrics` (`ml_model_id`, `metric_name`, `date`, `value`, `previous_value`, `metric_image_path`, `metric_current_image_path`)\n",
      "VALUES (10, 'RMSE', '2021-06-10', 391.79718482542773, 168.26090177748108, 'graficos/1dcnn_Chachapoyas_to_Juliaca_PERC/1dcnn_Chachapoyas_to_Juliaca_PERC-2021-06-10.png','graficos/1dcnn_Chachapoyas_to_Juliaca_PERC/current_day_1dcnn_Chachapoyas_to_Juliaca_PERC-2021-06-10.png');\n",
      "\n",
      "INSERT INTO `DBTesis`.`metrics` (`ml_model_id`, `metric_name`, `date`, `value`, `previous_value`, `metric_image_path`, `metric_current_image_path`)\n",
      "VALUES (10, 'RMSE', '2021-06-11', 403.74353438832446, 391.79718482542773, 'graficos/1dcnn_Chachapoyas_to_Juliaca_PERC/1dcnn_Chachapoyas_to_Juliaca_PERC-2021-06-11.png','graficos/1dcnn_Chachapoyas_to_Juliaca_PERC/current_day_1dcnn_Chachapoyas_to_Juliaca_PERC-2021-06-11.png');\n",
      "\n",
      "INSERT INTO `DBTesis`.`metrics` (`ml_model_id`, `metric_name`, `date`, `value`, `previous_value`, `metric_image_path`, `metric_current_image_path`)\n",
      "VALUES (10, 'RMSE', '2021-06-12', 207.4410321131479, 403.74353438832446, 'graficos/1dcnn_Chachapoyas_to_Juliaca_PERC/1dcnn_Chachapoyas_to_Juliaca_PERC-2021-06-12.png','graficos/1dcnn_Chachapoyas_to_Juliaca_PERC/current_day_1dcnn_Chachapoyas_to_Juliaca_PERC-2021-06-12.png');\n",
      "\n",
      "INSERT INTO `DBTesis`.`metrics` (`ml_model_id`, `metric_name`, `date`, `value`, `previous_value`, `metric_image_path`, `metric_current_image_path`)\n",
      "VALUES (10, 'RMSE', '2021-06-13', 418.6671081249048, 207.4410321131479, 'graficos/1dcnn_Chachapoyas_to_Juliaca_PERC/1dcnn_Chachapoyas_to_Juliaca_PERC-2021-06-13.png','graficos/1dcnn_Chachapoyas_to_Juliaca_PERC/current_day_1dcnn_Chachapoyas_to_Juliaca_PERC-2021-06-13.png');\n",
      "\n",
      "INSERT INTO `DBTesis`.`metrics` (`ml_model_id`, `metric_name`, `date`, `value`, `previous_value`, `metric_image_path`, `metric_current_image_path`)\n",
      "VALUES (10, 'RMSE', '2021-06-14', 510.7961102377486, 418.6671081249048, 'graficos/1dcnn_Chachapoyas_to_Juliaca_PERC/1dcnn_Chachapoyas_to_Juliaca_PERC-2021-06-14.png','graficos/1dcnn_Chachapoyas_to_Juliaca_PERC/current_day_1dcnn_Chachapoyas_to_Juliaca_PERC-2021-06-14.png');\n",
      "\n",
      "INSERT INTO `DBTesis`.`metrics` (`ml_model_id`, `metric_name`, `date`, `value`, `previous_value`, `metric_image_path`, `metric_current_image_path`)\n",
      "VALUES (10, 'RMSE', '2021-06-15', 373.2533996574044, 510.7961102377486, 'graficos/1dcnn_Chachapoyas_to_Juliaca_PERC/1dcnn_Chachapoyas_to_Juliaca_PERC-2021-06-15.png','graficos/1dcnn_Chachapoyas_to_Juliaca_PERC/current_day_1dcnn_Chachapoyas_to_Juliaca_PERC-2021-06-15.png');\n",
      "\n",
      "INSERT INTO `DBTesis`.`metrics` (`ml_model_id`, `metric_name`, `date`, `value`, `previous_value`, `metric_image_path`, `metric_current_image_path`)\n",
      "VALUES (10, 'RMSE', '2021-06-16', 105.2227801407772, 373.2533996574044, 'graficos/1dcnn_Chachapoyas_to_Juliaca_PERC/1dcnn_Chachapoyas_to_Juliaca_PERC-2021-06-16.png','graficos/1dcnn_Chachapoyas_to_Juliaca_PERC/current_day_1dcnn_Chachapoyas_to_Juliaca_PERC-2021-06-16.png');\n",
      "\n",
      "INSERT INTO `DBTesis`.`metrics` (`ml_model_id`, `metric_name`, `date`, `value`, `previous_value`, `metric_image_path`, `metric_current_image_path`)\n",
      "VALUES (10, 'RMSE', '2021-06-17', 549.567751703955, 105.2227801407772, 'graficos/1dcnn_Chachapoyas_to_Juliaca_PERC/1dcnn_Chachapoyas_to_Juliaca_PERC-2021-06-17.png','graficos/1dcnn_Chachapoyas_to_Juliaca_PERC/current_day_1dcnn_Chachapoyas_to_Juliaca_PERC-2021-06-17.png');\n",
      "\n",
      "INSERT INTO `DBTesis`.`metrics` (`ml_model_id`, `metric_name`, `date`, `value`, `previous_value`, `metric_image_path`, `metric_current_image_path`)\n",
      "VALUES (10, 'RMSE', '2021-06-18', 230.4135275658785, 549.567751703955, 'graficos/1dcnn_Chachapoyas_to_Juliaca_PERC/1dcnn_Chachapoyas_to_Juliaca_PERC-2021-06-18.png','graficos/1dcnn_Chachapoyas_to_Juliaca_PERC/current_day_1dcnn_Chachapoyas_to_Juliaca_PERC-2021-06-18.png');\n",
      "\n",
      "INSERT INTO `DBTesis`.`metrics` (`ml_model_id`, `metric_name`, `date`, `value`, `previous_value`, `metric_image_path`, `metric_current_image_path`)\n",
      "VALUES (10, 'RMSE', '2021-06-19', 272.21433460530756, 230.4135275658785, 'graficos/1dcnn_Chachapoyas_to_Juliaca_PERC/1dcnn_Chachapoyas_to_Juliaca_PERC-2021-06-19.png','graficos/1dcnn_Chachapoyas_to_Juliaca_PERC/current_day_1dcnn_Chachapoyas_to_Juliaca_PERC-2021-06-19.png');\n",
      "\n",
      "INSERT INTO `DBTesis`.`metrics` (`ml_model_id`, `metric_name`, `date`, `value`, `previous_value`, `metric_image_path`, `metric_current_image_path`)\n",
      "VALUES (10, 'RMSE', '2021-06-20', 273.00902867532017, 272.21433460530756, 'graficos/1dcnn_Chachapoyas_to_Juliaca_PERC/1dcnn_Chachapoyas_to_Juliaca_PERC-2021-06-20.png','graficos/1dcnn_Chachapoyas_to_Juliaca_PERC/current_day_1dcnn_Chachapoyas_to_Juliaca_PERC-2021-06-20.png');\n",
      "\n",
      "INSERT INTO `DBTesis`.`metrics` (`ml_model_id`, `metric_name`, `date`, `value`, `previous_value`, `metric_image_path`, `metric_current_image_path`)\n",
      "VALUES (10, 'RMSE', '2021-06-21', 246.33109465439068, 273.00902867532017, 'graficos/1dcnn_Chachapoyas_to_Juliaca_PERC/1dcnn_Chachapoyas_to_Juliaca_PERC-2021-06-21.png','graficos/1dcnn_Chachapoyas_to_Juliaca_PERC/current_day_1dcnn_Chachapoyas_to_Juliaca_PERC-2021-06-21.png');\n",
      "\n",
      "INSERT INTO `DBTesis`.`metrics` (`ml_model_id`, `metric_name`, `date`, `value`, `previous_value`, `metric_image_path`, `metric_current_image_path`)\n",
      "VALUES (10, 'RMSE', '2021-06-22', 252.59228153715054, 246.33109465439068, 'graficos/1dcnn_Chachapoyas_to_Juliaca_PERC/1dcnn_Chachapoyas_to_Juliaca_PERC-2021-06-22.png','graficos/1dcnn_Chachapoyas_to_Juliaca_PERC/current_day_1dcnn_Chachapoyas_to_Juliaca_PERC-2021-06-22.png');\n",
      "\n",
      "INSERT INTO `DBTesis`.`metrics` (`ml_model_id`, `metric_name`, `date`, `value`, `previous_value`, `metric_image_path`, `metric_current_image_path`)\n",
      "VALUES (10, 'RMSE', '2021-06-23', 302.97278976941743, 252.59228153715054, 'graficos/1dcnn_Chachapoyas_to_Juliaca_PERC/1dcnn_Chachapoyas_to_Juliaca_PERC-2021-06-23.png','graficos/1dcnn_Chachapoyas_to_Juliaca_PERC/current_day_1dcnn_Chachapoyas_to_Juliaca_PERC-2021-06-23.png');\n",
      "\n",
      "INSERT INTO `DBTesis`.`metrics` (`ml_model_id`, `metric_name`, `date`, `value`, `previous_value`, `metric_image_path`, `metric_current_image_path`)\n",
      "VALUES (10, 'RMSE', '2021-06-24', 294.7703790230715, 302.97278976941743, 'graficos/1dcnn_Chachapoyas_to_Juliaca_PERC/1dcnn_Chachapoyas_to_Juliaca_PERC-2021-06-24.png','graficos/1dcnn_Chachapoyas_to_Juliaca_PERC/current_day_1dcnn_Chachapoyas_to_Juliaca_PERC-2021-06-24.png');\n",
      "\n",
      "INSERT INTO `DBTesis`.`metrics` (`ml_model_id`, `metric_name`, `date`, `value`, `previous_value`, `metric_image_path`, `metric_current_image_path`)\n",
      "VALUES (10, 'RMSE', '2021-06-25', 398.36424017516396, 294.7703790230715, 'graficos/1dcnn_Chachapoyas_to_Juliaca_PERC/1dcnn_Chachapoyas_to_Juliaca_PERC-2021-06-25.png','graficos/1dcnn_Chachapoyas_to_Juliaca_PERC/current_day_1dcnn_Chachapoyas_to_Juliaca_PERC-2021-06-25.png');\n",
      "\n",
      "INSERT INTO `DBTesis`.`metrics` (`ml_model_id`, `metric_name`, `date`, `value`, `previous_value`, `metric_image_path`, `metric_current_image_path`)\n",
      "VALUES (10, 'RMSE', '2021-06-26', 151.02576353145074, 398.36424017516396, 'graficos/1dcnn_Chachapoyas_to_Juliaca_PERC/1dcnn_Chachapoyas_to_Juliaca_PERC-2021-06-26.png','graficos/1dcnn_Chachapoyas_to_Juliaca_PERC/current_day_1dcnn_Chachapoyas_to_Juliaca_PERC-2021-06-26.png');\n",
      "\n",
      "INSERT INTO `DBTesis`.`metrics` (`ml_model_id`, `metric_name`, `date`, `value`, `previous_value`, `metric_image_path`, `metric_current_image_path`)\n",
      "VALUES (10, 'RMSE', '2021-06-27', 630.9442241459801, 151.02576353145074, 'graficos/1dcnn_Chachapoyas_to_Juliaca_PERC/1dcnn_Chachapoyas_to_Juliaca_PERC-2021-06-27.png','graficos/1dcnn_Chachapoyas_to_Juliaca_PERC/current_day_1dcnn_Chachapoyas_to_Juliaca_PERC-2021-06-27.png');\n",
      "\n",
      "INSERT INTO `DBTesis`.`metrics` (`ml_model_id`, `metric_name`, `date`, `value`, `previous_value`, `metric_image_path`, `metric_current_image_path`)\n",
      "VALUES (10, 'RMSE', '2021-06-28', 171.80410339198474, 630.9442241459801, 'graficos/1dcnn_Chachapoyas_to_Juliaca_PERC/1dcnn_Chachapoyas_to_Juliaca_PERC-2021-06-28.png','graficos/1dcnn_Chachapoyas_to_Juliaca_PERC/current_day_1dcnn_Chachapoyas_to_Juliaca_PERC-2021-06-28.png');\n",
      "\n",
      "INSERT INTO `DBTesis`.`metrics` (`ml_model_id`, `metric_name`, `date`, `value`, `previous_value`, `metric_image_path`, `metric_current_image_path`)\n",
      "VALUES (10, 'RMSE', '2021-06-29', 364.5848812526612, 171.80410339198474, 'graficos/1dcnn_Chachapoyas_to_Juliaca_PERC/1dcnn_Chachapoyas_to_Juliaca_PERC-2021-06-29.png','graficos/1dcnn_Chachapoyas_to_Juliaca_PERC/current_day_1dcnn_Chachapoyas_to_Juliaca_PERC-2021-06-29.png');\n",
      "\n",
      "INSERT INTO `DBTesis`.`metrics` (`ml_model_id`, `metric_name`, `date`, `value`, `previous_value`, `metric_image_path`, `metric_current_image_path`)\n",
      "VALUES (10, 'RMSE', '2021-06-30', 323.86931910276, 364.5848812526612, 'graficos/1dcnn_Chachapoyas_to_Juliaca_PERC/1dcnn_Chachapoyas_to_Juliaca_PERC-2021-06-30.png','graficos/1dcnn_Chachapoyas_to_Juliaca_PERC/current_day_1dcnn_Chachapoyas_to_Juliaca_PERC-2021-06-30.png');\n",
      "\n",
      "INSERT INTO `DBTesis`.`metrics` (`ml_model_id`, `metric_name`, `date`, `value`, `previous_value`, `metric_image_path`, `metric_current_image_path`)\n",
      "VALUES (10, 'RMSE', '2021-07-01', 395.1036311533756, 323.86931910276, 'graficos/1dcnn_Chachapoyas_to_Juliaca_PERC/1dcnn_Chachapoyas_to_Juliaca_PERC-2021-07-01.png','graficos/1dcnn_Chachapoyas_to_Juliaca_PERC/current_day_1dcnn_Chachapoyas_to_Juliaca_PERC-2021-07-01.png');\n",
      "\n",
      "INSERT INTO `DBTesis`.`metrics` (`ml_model_id`, `metric_name`, `date`, `value`, `previous_value`, `metric_image_path`, `metric_current_image_path`)\n",
      "VALUES (10, 'RMSE', '2021-07-02', 416.01265176332527, 395.1036311533756, 'graficos/1dcnn_Chachapoyas_to_Juliaca_PERC/1dcnn_Chachapoyas_to_Juliaca_PERC-2021-07-02.png','graficos/1dcnn_Chachapoyas_to_Juliaca_PERC/current_day_1dcnn_Chachapoyas_to_Juliaca_PERC-2021-07-02.png');\n",
      "\n",
      "INSERT INTO `DBTesis`.`metrics` (`ml_model_id`, `metric_name`, `date`, `value`, `previous_value`, `metric_image_path`, `metric_current_image_path`)\n",
      "VALUES (10, 'RMSE', '2021-07-03', 488.9409863160798, 416.01265176332527, 'graficos/1dcnn_Chachapoyas_to_Juliaca_PERC/1dcnn_Chachapoyas_to_Juliaca_PERC-2021-07-03.png','graficos/1dcnn_Chachapoyas_to_Juliaca_PERC/current_day_1dcnn_Chachapoyas_to_Juliaca_PERC-2021-07-03.png');\n",
      "\n",
      "INSERT INTO `DBTesis`.`metrics` (`ml_model_id`, `metric_name`, `date`, `value`, `previous_value`, `metric_image_path`, `metric_current_image_path`)\n",
      "VALUES (10, 'RMSE', '2021-07-04', 457.40585278363955, 488.9409863160798, 'graficos/1dcnn_Chachapoyas_to_Juliaca_PERC/1dcnn_Chachapoyas_to_Juliaca_PERC-2021-07-04.png','graficos/1dcnn_Chachapoyas_to_Juliaca_PERC/current_day_1dcnn_Chachapoyas_to_Juliaca_PERC-2021-07-04.png');\n",
      "\n",
      "INSERT INTO `DBTesis`.`metrics` (`ml_model_id`, `metric_name`, `date`, `value`, `previous_value`, `metric_image_path`, `metric_current_image_path`)\n",
      "VALUES (10, 'RMSE', '2021-07-05', 460.04284436706854, 457.40585278363955, 'graficos/1dcnn_Chachapoyas_to_Juliaca_PERC/1dcnn_Chachapoyas_to_Juliaca_PERC-2021-07-05.png','graficos/1dcnn_Chachapoyas_to_Juliaca_PERC/current_day_1dcnn_Chachapoyas_to_Juliaca_PERC-2021-07-05.png');\n",
      "\n",
      "INSERT INTO `DBTesis`.`metrics` (`ml_model_id`, `metric_name`, `date`, `value`, `previous_value`, `metric_image_path`, `metric_current_image_path`)\n",
      "VALUES (10, 'RMSE', '2021-07-06', 361.14932211998746, 460.04284436706854, 'graficos/1dcnn_Chachapoyas_to_Juliaca_PERC/1dcnn_Chachapoyas_to_Juliaca_PERC-2021-07-06.png','graficos/1dcnn_Chachapoyas_to_Juliaca_PERC/current_day_1dcnn_Chachapoyas_to_Juliaca_PERC-2021-07-06.png');\n",
      "\n",
      "INSERT INTO `DBTesis`.`metrics` (`ml_model_id`, `metric_name`, `date`, `value`, `previous_value`, `metric_image_path`, `metric_current_image_path`)\n",
      "VALUES (10, 'RMSE', '2021-07-07', 367.19010279534155, 361.14932211998746, 'graficos/1dcnn_Chachapoyas_to_Juliaca_PERC/1dcnn_Chachapoyas_to_Juliaca_PERC-2021-07-07.png','graficos/1dcnn_Chachapoyas_to_Juliaca_PERC/current_day_1dcnn_Chachapoyas_to_Juliaca_PERC-2021-07-07.png');\n",
      "\n",
      "INSERT INTO `DBTesis`.`metrics` (`ml_model_id`, `metric_name`, `date`, `value`, `previous_value`, `metric_image_path`, `metric_current_image_path`)\n",
      "VALUES (10, 'RMSE', '2021-07-08', 336.4097548303594, 367.19010279534155, 'graficos/1dcnn_Chachapoyas_to_Juliaca_PERC/1dcnn_Chachapoyas_to_Juliaca_PERC-2021-07-08.png','graficos/1dcnn_Chachapoyas_to_Juliaca_PERC/current_day_1dcnn_Chachapoyas_to_Juliaca_PERC-2021-07-08.png');\n",
      "\n",
      "INSERT INTO `DBTesis`.`metrics` (`ml_model_id`, `metric_name`, `date`, `value`, `previous_value`, `metric_image_path`, `metric_current_image_path`)\n",
      "VALUES (10, 'RMSE', '2021-07-09', 376.12709185125715, 336.4097548303594, 'graficos/1dcnn_Chachapoyas_to_Juliaca_PERC/1dcnn_Chachapoyas_to_Juliaca_PERC-2021-07-09.png','graficos/1dcnn_Chachapoyas_to_Juliaca_PERC/current_day_1dcnn_Chachapoyas_to_Juliaca_PERC-2021-07-09.png');\n",
      "\n",
      "INSERT INTO `DBTesis`.`metrics` (`ml_model_id`, `metric_name`, `date`, `value`, `previous_value`, `metric_image_path`, `metric_current_image_path`)\n",
      "VALUES (10, 'RMSE', '2021-07-10', 313.6795138006025, 376.12709185125715, 'graficos/1dcnn_Chachapoyas_to_Juliaca_PERC/1dcnn_Chachapoyas_to_Juliaca_PERC-2021-07-10.png','graficos/1dcnn_Chachapoyas_to_Juliaca_PERC/current_day_1dcnn_Chachapoyas_to_Juliaca_PERC-2021-07-10.png');\n",
      "\n",
      "INSERT INTO `DBTesis`.`metrics` (`ml_model_id`, `metric_name`, `date`, `value`, `previous_value`, `metric_image_path`, `metric_current_image_path`)\n",
      "VALUES (10, 'RMSE', '2021-07-11', 330.5493321579813, 313.6795138006025, 'graficos/1dcnn_Chachapoyas_to_Juliaca_PERC/1dcnn_Chachapoyas_to_Juliaca_PERC-2021-07-11.png','graficos/1dcnn_Chachapoyas_to_Juliaca_PERC/current_day_1dcnn_Chachapoyas_to_Juliaca_PERC-2021-07-11.png');\n",
      "\n",
      "INSERT INTO `DBTesis`.`metrics` (`ml_model_id`, `metric_name`, `date`, `value`, `previous_value`, `metric_image_path`, `metric_current_image_path`)\n",
      "VALUES (10, 'RMSE', '2021-07-12', 517.3629878746384, 330.5493321579813, 'graficos/1dcnn_Chachapoyas_to_Juliaca_PERC/1dcnn_Chachapoyas_to_Juliaca_PERC-2021-07-12.png','graficos/1dcnn_Chachapoyas_to_Juliaca_PERC/current_day_1dcnn_Chachapoyas_to_Juliaca_PERC-2021-07-12.png');\n",
      "\n",
      "INSERT INTO `DBTesis`.`metrics` (`ml_model_id`, `metric_name`, `date`, `value`, `previous_value`, `metric_image_path`, `metric_current_image_path`)\n",
      "VALUES (10, 'RMSE', '2021-07-13', 531.1343115030803, 517.3629878746384, 'graficos/1dcnn_Chachapoyas_to_Juliaca_PERC/1dcnn_Chachapoyas_to_Juliaca_PERC-2021-07-13.png','graficos/1dcnn_Chachapoyas_to_Juliaca_PERC/current_day_1dcnn_Chachapoyas_to_Juliaca_PERC-2021-07-13.png');\n",
      "\n",
      "INSERT INTO `DBTesis`.`metrics` (`ml_model_id`, `metric_name`, `date`, `value`, `previous_value`, `metric_image_path`, `metric_current_image_path`)\n",
      "VALUES (10, 'RMSE', '2021-07-14', 308.62040464652165, 531.1343115030803, 'graficos/1dcnn_Chachapoyas_to_Juliaca_PERC/1dcnn_Chachapoyas_to_Juliaca_PERC-2021-07-14.png','graficos/1dcnn_Chachapoyas_to_Juliaca_PERC/current_day_1dcnn_Chachapoyas_to_Juliaca_PERC-2021-07-14.png');\n",
      "\n",
      "INSERT INTO `DBTesis`.`metrics` (`ml_model_id`, `metric_name`, `date`, `value`, `previous_value`, `metric_image_path`, `metric_current_image_path`)\n",
      "VALUES (10, 'RMSE', '2021-07-15', 280.2865391135445, 308.62040464652165, 'graficos/1dcnn_Chachapoyas_to_Juliaca_PERC/1dcnn_Chachapoyas_to_Juliaca_PERC-2021-07-15.png','graficos/1dcnn_Chachapoyas_to_Juliaca_PERC/current_day_1dcnn_Chachapoyas_to_Juliaca_PERC-2021-07-15.png');\n",
      "\n",
      "INSERT INTO `DBTesis`.`metrics` (`ml_model_id`, `metric_name`, `date`, `value`, `previous_value`, `metric_image_path`, `metric_current_image_path`)\n",
      "VALUES (10, 'RMSE', '2021-07-16', 332.9769616327407, 280.2865391135445, 'graficos/1dcnn_Chachapoyas_to_Juliaca_PERC/1dcnn_Chachapoyas_to_Juliaca_PERC-2021-07-16.png','graficos/1dcnn_Chachapoyas_to_Juliaca_PERC/current_day_1dcnn_Chachapoyas_to_Juliaca_PERC-2021-07-16.png');\n",
      "\n",
      "INSERT INTO `DBTesis`.`metrics` (`ml_model_id`, `metric_name`, `date`, `value`, `previous_value`, `metric_image_path`, `metric_current_image_path`)\n",
      "VALUES (10, 'RMSE', '2021-07-17', 291.3320979026441, 332.9769616327407, 'graficos/1dcnn_Chachapoyas_to_Juliaca_PERC/1dcnn_Chachapoyas_to_Juliaca_PERC-2021-07-17.png','graficos/1dcnn_Chachapoyas_to_Juliaca_PERC/current_day_1dcnn_Chachapoyas_to_Juliaca_PERC-2021-07-17.png');\n",
      "\n",
      "INSERT INTO `DBTesis`.`metrics` (`ml_model_id`, `metric_name`, `date`, `value`, `previous_value`, `metric_image_path`, `metric_current_image_path`)\n",
      "VALUES (10, 'RMSE', '2021-07-18', 338.44230586473594, 291.3320979026441, 'graficos/1dcnn_Chachapoyas_to_Juliaca_PERC/1dcnn_Chachapoyas_to_Juliaca_PERC-2021-07-18.png','graficos/1dcnn_Chachapoyas_to_Juliaca_PERC/current_day_1dcnn_Chachapoyas_to_Juliaca_PERC-2021-07-18.png');\n",
      "\n",
      "INSERT INTO `DBTesis`.`metrics` (`ml_model_id`, `metric_name`, `date`, `value`, `previous_value`, `metric_image_path`, `metric_current_image_path`)\n",
      "VALUES (10, 'RMSE', '2021-07-19', 214.9316218138818, 338.44230586473594, 'graficos/1dcnn_Chachapoyas_to_Juliaca_PERC/1dcnn_Chachapoyas_to_Juliaca_PERC-2021-07-19.png','graficos/1dcnn_Chachapoyas_to_Juliaca_PERC/current_day_1dcnn_Chachapoyas_to_Juliaca_PERC-2021-07-19.png');\n",
      "\n",
      "INSERT INTO `DBTesis`.`metrics` (`ml_model_id`, `metric_name`, `date`, `value`, `previous_value`, `metric_image_path`, `metric_current_image_path`)\n",
      "VALUES (10, 'RMSE', '2021-07-20', 337.43423164530395, 214.9316218138818, 'graficos/1dcnn_Chachapoyas_to_Juliaca_PERC/1dcnn_Chachapoyas_to_Juliaca_PERC-2021-07-20.png','graficos/1dcnn_Chachapoyas_to_Juliaca_PERC/current_day_1dcnn_Chachapoyas_to_Juliaca_PERC-2021-07-20.png');\n",
      "\n",
      "INSERT INTO `DBTesis`.`metrics` (`ml_model_id`, `metric_name`, `date`, `value`, `previous_value`, `metric_image_path`, `metric_current_image_path`)\n",
      "VALUES (10, 'RMSE', '2021-07-21', 234.50444244047503, 337.43423164530395, 'graficos/1dcnn_Chachapoyas_to_Juliaca_PERC/1dcnn_Chachapoyas_to_Juliaca_PERC-2021-07-21.png','graficos/1dcnn_Chachapoyas_to_Juliaca_PERC/current_day_1dcnn_Chachapoyas_to_Juliaca_PERC-2021-07-21.png');\n",
      "\n",
      "INSERT INTO `DBTesis`.`metrics` (`ml_model_id`, `metric_name`, `date`, `value`, `previous_value`, `metric_image_path`, `metric_current_image_path`)\n",
      "VALUES (10, 'RMSE', '2021-07-22', 254.70742878059525, 234.50444244047503, 'graficos/1dcnn_Chachapoyas_to_Juliaca_PERC/1dcnn_Chachapoyas_to_Juliaca_PERC-2021-07-22.png','graficos/1dcnn_Chachapoyas_to_Juliaca_PERC/current_day_1dcnn_Chachapoyas_to_Juliaca_PERC-2021-07-22.png');\n",
      "\n",
      "INSERT INTO `DBTesis`.`metrics` (`ml_model_id`, `metric_name`, `date`, `value`, `previous_value`, `metric_image_path`, `metric_current_image_path`)\n",
      "VALUES (10, 'RMSE', '2021-07-23', 251.94902973598548, 254.70742878059525, 'graficos/1dcnn_Chachapoyas_to_Juliaca_PERC/1dcnn_Chachapoyas_to_Juliaca_PERC-2021-07-23.png','graficos/1dcnn_Chachapoyas_to_Juliaca_PERC/current_day_1dcnn_Chachapoyas_to_Juliaca_PERC-2021-07-23.png');\n",
      "\n",
      "INSERT INTO `DBTesis`.`metrics` (`ml_model_id`, `metric_name`, `date`, `value`, `previous_value`, `metric_image_path`, `metric_current_image_path`)\n",
      "VALUES (10, 'RMSE', '2021-07-24', 354.3784203507899, 251.94902973598548, 'graficos/1dcnn_Chachapoyas_to_Juliaca_PERC/1dcnn_Chachapoyas_to_Juliaca_PERC-2021-07-24.png','graficos/1dcnn_Chachapoyas_to_Juliaca_PERC/current_day_1dcnn_Chachapoyas_to_Juliaca_PERC-2021-07-24.png');\n",
      "\n",
      "INSERT INTO `DBTesis`.`metrics` (`ml_model_id`, `metric_name`, `date`, `value`, `previous_value`, `metric_image_path`, `metric_current_image_path`)\n",
      "VALUES (10, 'RMSE', '2021-07-25', 436.38114344449747, 354.3784203507899, 'graficos/1dcnn_Chachapoyas_to_Juliaca_PERC/1dcnn_Chachapoyas_to_Juliaca_PERC-2021-07-25.png','graficos/1dcnn_Chachapoyas_to_Juliaca_PERC/current_day_1dcnn_Chachapoyas_to_Juliaca_PERC-2021-07-25.png');\n",
      "\n",
      "INSERT INTO `DBTesis`.`metrics` (`ml_model_id`, `metric_name`, `date`, `value`, `previous_value`, `metric_image_path`, `metric_current_image_path`)\n",
      "VALUES (10, 'RMSE', '2021-07-26', 319.6862387391126, 436.38114344449747, 'graficos/1dcnn_Chachapoyas_to_Juliaca_PERC/1dcnn_Chachapoyas_to_Juliaca_PERC-2021-07-26.png','graficos/1dcnn_Chachapoyas_to_Juliaca_PERC/current_day_1dcnn_Chachapoyas_to_Juliaca_PERC-2021-07-26.png');\n",
      "\n",
      "INSERT INTO `DBTesis`.`metrics` (`ml_model_id`, `metric_name`, `date`, `value`, `previous_value`, `metric_image_path`, `metric_current_image_path`)\n",
      "VALUES (10, 'RMSE', '2021-07-27', 304.9002123248888, 319.6862387391126, 'graficos/1dcnn_Chachapoyas_to_Juliaca_PERC/1dcnn_Chachapoyas_to_Juliaca_PERC-2021-07-27.png','graficos/1dcnn_Chachapoyas_to_Juliaca_PERC/current_day_1dcnn_Chachapoyas_to_Juliaca_PERC-2021-07-27.png');\n",
      "\n",
      "INSERT INTO `DBTesis`.`metrics` (`ml_model_id`, `metric_name`, `date`, `value`, `previous_value`, `metric_image_path`, `metric_current_image_path`)\n",
      "VALUES (10, 'RMSE', '2021-07-28', 218.8832865988959, 304.9002123248888, 'graficos/1dcnn_Chachapoyas_to_Juliaca_PERC/1dcnn_Chachapoyas_to_Juliaca_PERC-2021-07-28.png','graficos/1dcnn_Chachapoyas_to_Juliaca_PERC/current_day_1dcnn_Chachapoyas_to_Juliaca_PERC-2021-07-28.png');\n",
      "\n",
      "INSERT INTO `DBTesis`.`metrics` (`ml_model_id`, `metric_name`, `date`, `value`, `previous_value`, `metric_image_path`, `metric_current_image_path`)\n",
      "VALUES (10, 'RMSE', '2021-07-29', 403.8388259138067, 218.8832865988959, 'graficos/1dcnn_Chachapoyas_to_Juliaca_PERC/1dcnn_Chachapoyas_to_Juliaca_PERC-2021-07-29.png','graficos/1dcnn_Chachapoyas_to_Juliaca_PERC/current_day_1dcnn_Chachapoyas_to_Juliaca_PERC-2021-07-29.png');\n",
      "\n",
      "INSERT INTO `DBTesis`.`metrics` (`ml_model_id`, `metric_name`, `date`, `value`, `previous_value`, `metric_image_path`, `metric_current_image_path`)\n",
      "VALUES (10, 'RMSE', '2021-07-30', 296.45120664266767, 403.8388259138067, 'graficos/1dcnn_Chachapoyas_to_Juliaca_PERC/1dcnn_Chachapoyas_to_Juliaca_PERC-2021-07-30.png','graficos/1dcnn_Chachapoyas_to_Juliaca_PERC/current_day_1dcnn_Chachapoyas_to_Juliaca_PERC-2021-07-30.png');\n",
      "\n",
      "INSERT INTO `DBTesis`.`metrics` (`ml_model_id`, `metric_name`, `date`, `value`, `previous_value`, `metric_image_path`, `metric_current_image_path`)\n",
      "VALUES (10, 'RMSE', '2021-07-31', 462.7142877671999, 296.45120664266767, 'graficos/1dcnn_Chachapoyas_to_Juliaca_PERC/1dcnn_Chachapoyas_to_Juliaca_PERC-2021-07-31.png','graficos/1dcnn_Chachapoyas_to_Juliaca_PERC/current_day_1dcnn_Chachapoyas_to_Juliaca_PERC-2021-07-31.png');\n",
      "\n",
      "INSERT INTO `DBTesis`.`metrics` (`ml_model_id`, `metric_name`, `date`, `value`, `previous_value`, `metric_image_path`, `metric_current_image_path`)\n",
      "VALUES (10, 'RMSE', '2021-08-01', 515.013127853028, 462.7142877671999, 'graficos/1dcnn_Chachapoyas_to_Juliaca_PERC/1dcnn_Chachapoyas_to_Juliaca_PERC-2021-08-01.png','graficos/1dcnn_Chachapoyas_to_Juliaca_PERC/current_day_1dcnn_Chachapoyas_to_Juliaca_PERC-2021-08-01.png');\n",
      "\n",
      "INSERT INTO `DBTesis`.`metrics` (`ml_model_id`, `metric_name`, `date`, `value`, `previous_value`, `metric_image_path`, `metric_current_image_path`)\n",
      "VALUES (10, 'RMSE', '2021-08-02', 340.905256456018, 515.013127853028, 'graficos/1dcnn_Chachapoyas_to_Juliaca_PERC/1dcnn_Chachapoyas_to_Juliaca_PERC-2021-08-02.png','graficos/1dcnn_Chachapoyas_to_Juliaca_PERC/current_day_1dcnn_Chachapoyas_to_Juliaca_PERC-2021-08-02.png');\n",
      "\n",
      "INSERT INTO `DBTesis`.`metrics` (`ml_model_id`, `metric_name`, `date`, `value`, `previous_value`, `metric_image_path`, `metric_current_image_path`)\n",
      "VALUES (10, 'RMSE', '2021-08-03', 407.81693504851677, 340.905256456018, 'graficos/1dcnn_Chachapoyas_to_Juliaca_PERC/1dcnn_Chachapoyas_to_Juliaca_PERC-2021-08-03.png','graficos/1dcnn_Chachapoyas_to_Juliaca_PERC/current_day_1dcnn_Chachapoyas_to_Juliaca_PERC-2021-08-03.png');\n",
      "\n",
      "INSERT INTO `DBTesis`.`metrics` (`ml_model_id`, `metric_name`, `date`, `value`, `previous_value`, `metric_image_path`, `metric_current_image_path`)\n",
      "VALUES (10, 'RMSE', '2021-08-04', 502.52925624464643, 407.81693504851677, 'graficos/1dcnn_Chachapoyas_to_Juliaca_PERC/1dcnn_Chachapoyas_to_Juliaca_PERC-2021-08-04.png','graficos/1dcnn_Chachapoyas_to_Juliaca_PERC/current_day_1dcnn_Chachapoyas_to_Juliaca_PERC-2021-08-04.png');\n",
      "\n",
      "INSERT INTO `DBTesis`.`metrics` (`ml_model_id`, `metric_name`, `date`, `value`, `previous_value`, `metric_image_path`, `metric_current_image_path`)\n",
      "VALUES (10, 'RMSE', '2021-08-05', 322.472898056747, 502.52925624464643, 'graficos/1dcnn_Chachapoyas_to_Juliaca_PERC/1dcnn_Chachapoyas_to_Juliaca_PERC-2021-08-05.png','graficos/1dcnn_Chachapoyas_to_Juliaca_PERC/current_day_1dcnn_Chachapoyas_to_Juliaca_PERC-2021-08-05.png');\n",
      "\n",
      "INSERT INTO `DBTesis`.`metrics` (`ml_model_id`, `metric_name`, `date`, `value`, `previous_value`, `metric_image_path`, `metric_current_image_path`)\n",
      "VALUES (10, 'RMSE', '2021-08-06', 322.472898056747, 322.472898056747, 'graficos/1dcnn_Chachapoyas_to_Juliaca_PERC/1dcnn_Chachapoyas_to_Juliaca_PERC-2021-08-06.png','graficos/1dcnn_Chachapoyas_to_Juliaca_PERC/current_day_1dcnn_Chachapoyas_to_Juliaca_PERC-2021-08-06.png');\n",
      "\n",
      "INSERT INTO `DBTesis`.`metrics` (`ml_model_id`, `metric_name`, `date`, `value`, `previous_value`, `metric_image_path`, `metric_current_image_path`)\n",
      "VALUES (10, 'RMSE', '2021-08-07', 322.472898056747, 322.472898056747, 'graficos/1dcnn_Chachapoyas_to_Juliaca_PERC/1dcnn_Chachapoyas_to_Juliaca_PERC-2021-08-07.png','graficos/1dcnn_Chachapoyas_to_Juliaca_PERC/current_day_1dcnn_Chachapoyas_to_Juliaca_PERC-2021-08-07.png');\n",
      "\n",
      "INSERT INTO `DBTesis`.`metrics` (`ml_model_id`, `metric_name`, `date`, `value`, `previous_value`, `metric_image_path`, `metric_current_image_path`)\n",
      "VALUES (10, 'RMSE', '2021-08-08', 322.472898056747, 322.472898056747, 'graficos/1dcnn_Chachapoyas_to_Juliaca_PERC/1dcnn_Chachapoyas_to_Juliaca_PERC-2021-08-08.png','graficos/1dcnn_Chachapoyas_to_Juliaca_PERC/current_day_1dcnn_Chachapoyas_to_Juliaca_PERC-2021-08-08.png');\n",
      "\n",
      "INSERT INTO `DBTesis`.`metrics` (`ml_model_id`, `metric_name`, `date`, `value`, `previous_value`, `metric_image_path`, `metric_current_image_path`)\n",
      "VALUES (10, 'RMSE', '2021-08-09', 322.472898056747, 322.472898056747, 'graficos/1dcnn_Chachapoyas_to_Juliaca_PERC/1dcnn_Chachapoyas_to_Juliaca_PERC-2021-08-09.png','graficos/1dcnn_Chachapoyas_to_Juliaca_PERC/current_day_1dcnn_Chachapoyas_to_Juliaca_PERC-2021-08-09.png');\n",
      "\n",
      "INSERT INTO `DBTesis`.`metrics` (`ml_model_id`, `metric_name`, `date`, `value`, `previous_value`, `metric_image_path`, `metric_current_image_path`)\n",
      "VALUES (10, 'RMSE', '2021-08-10', 370.11524663377594, 322.472898056747, 'graficos/1dcnn_Chachapoyas_to_Juliaca_PERC/1dcnn_Chachapoyas_to_Juliaca_PERC-2021-08-10.png','graficos/1dcnn_Chachapoyas_to_Juliaca_PERC/current_day_1dcnn_Chachapoyas_to_Juliaca_PERC-2021-08-10.png');\n",
      "\n",
      "INSERT INTO `DBTesis`.`metrics` (`ml_model_id`, `metric_name`, `date`, `value`, `previous_value`, `metric_image_path`, `metric_current_image_path`)\n",
      "VALUES (10, 'RMSE', '2021-08-11', 413.5015611079834, 370.11524663377594, 'graficos/1dcnn_Chachapoyas_to_Juliaca_PERC/1dcnn_Chachapoyas_to_Juliaca_PERC-2021-08-11.png','graficos/1dcnn_Chachapoyas_to_Juliaca_PERC/current_day_1dcnn_Chachapoyas_to_Juliaca_PERC-2021-08-11.png');\n",
      "\n",
      "INSERT INTO `DBTesis`.`metrics` (`ml_model_id`, `metric_name`, `date`, `value`, `previous_value`, `metric_image_path`, `metric_current_image_path`)\n",
      "VALUES (10, 'RMSE', '2021-08-12', 336.576068431985, 413.5015611079834, 'graficos/1dcnn_Chachapoyas_to_Juliaca_PERC/1dcnn_Chachapoyas_to_Juliaca_PERC-2021-08-12.png','graficos/1dcnn_Chachapoyas_to_Juliaca_PERC/current_day_1dcnn_Chachapoyas_to_Juliaca_PERC-2021-08-12.png');\n",
      "\n",
      "INSERT INTO `DBTesis`.`metrics` (`ml_model_id`, `metric_name`, `date`, `value`, `previous_value`, `metric_image_path`, `metric_current_image_path`)\n",
      "VALUES (10, 'RMSE', '2021-08-13', 381.9094759078985, 336.576068431985, 'graficos/1dcnn_Chachapoyas_to_Juliaca_PERC/1dcnn_Chachapoyas_to_Juliaca_PERC-2021-08-13.png','graficos/1dcnn_Chachapoyas_to_Juliaca_PERC/current_day_1dcnn_Chachapoyas_to_Juliaca_PERC-2021-08-13.png');\n",
      "\n",
      "INSERT INTO `DBTesis`.`metrics` (`ml_model_id`, `metric_name`, `date`, `value`, `previous_value`, `metric_image_path`, `metric_current_image_path`)\n",
      "VALUES (10, 'RMSE', '2021-08-14', 380.1158574321439, 381.9094759078985, 'graficos/1dcnn_Chachapoyas_to_Juliaca_PERC/1dcnn_Chachapoyas_to_Juliaca_PERC-2021-08-14.png','graficos/1dcnn_Chachapoyas_to_Juliaca_PERC/current_day_1dcnn_Chachapoyas_to_Juliaca_PERC-2021-08-14.png');\n",
      "\n",
      "INSERT INTO `DBTesis`.`metrics` (`ml_model_id`, `metric_name`, `date`, `value`, `previous_value`, `metric_image_path`, `metric_current_image_path`)\n",
      "VALUES (10, 'RMSE', '2021-08-15', 473.1708172007108, 380.1158574321439, 'graficos/1dcnn_Chachapoyas_to_Juliaca_PERC/1dcnn_Chachapoyas_to_Juliaca_PERC-2021-08-15.png','graficos/1dcnn_Chachapoyas_to_Juliaca_PERC/current_day_1dcnn_Chachapoyas_to_Juliaca_PERC-2021-08-15.png');\n",
      "\n",
      "INSERT INTO `DBTesis`.`metrics` (`ml_model_id`, `metric_name`, `date`, `value`, `previous_value`, `metric_image_path`, `metric_current_image_path`)\n",
      "VALUES (10, 'RMSE', '2021-08-16', 425.55266421650214, 473.1708172007108, 'graficos/1dcnn_Chachapoyas_to_Juliaca_PERC/1dcnn_Chachapoyas_to_Juliaca_PERC-2021-08-16.png','graficos/1dcnn_Chachapoyas_to_Juliaca_PERC/current_day_1dcnn_Chachapoyas_to_Juliaca_PERC-2021-08-16.png');\n",
      "\n",
      "INSERT INTO `DBTesis`.`metrics` (`ml_model_id`, `metric_name`, `date`, `value`, `previous_value`, `metric_image_path`, `metric_current_image_path`)\n",
      "VALUES (10, 'RMSE', '2021-08-17', 335.7451747498672, 425.55266421650214, 'graficos/1dcnn_Chachapoyas_to_Juliaca_PERC/1dcnn_Chachapoyas_to_Juliaca_PERC-2021-08-17.png','graficos/1dcnn_Chachapoyas_to_Juliaca_PERC/current_day_1dcnn_Chachapoyas_to_Juliaca_PERC-2021-08-17.png');\n",
      "\n",
      "INSERT INTO `DBTesis`.`metrics` (`ml_model_id`, `metric_name`, `date`, `value`, `previous_value`, `metric_image_path`, `metric_current_image_path`)\n",
      "VALUES (10, 'RMSE', '2021-08-18', 330.91520303955724, 335.7451747498672, 'graficos/1dcnn_Chachapoyas_to_Juliaca_PERC/1dcnn_Chachapoyas_to_Juliaca_PERC-2021-08-18.png','graficos/1dcnn_Chachapoyas_to_Juliaca_PERC/current_day_1dcnn_Chachapoyas_to_Juliaca_PERC-2021-08-18.png');\n",
      "\n",
      "INSERT INTO `DBTesis`.`metrics` (`ml_model_id`, `metric_name`, `date`, `value`, `previous_value`, `metric_image_path`, `metric_current_image_path`)\n",
      "VALUES (10, 'RMSE', '2021-08-19', 428.96190993370146, 330.91520303955724, 'graficos/1dcnn_Chachapoyas_to_Juliaca_PERC/1dcnn_Chachapoyas_to_Juliaca_PERC-2021-08-19.png','graficos/1dcnn_Chachapoyas_to_Juliaca_PERC/current_day_1dcnn_Chachapoyas_to_Juliaca_PERC-2021-08-19.png');\n",
      "\n",
      "INSERT INTO `DBTesis`.`metrics` (`ml_model_id`, `metric_name`, `date`, `value`, `previous_value`, `metric_image_path`, `metric_current_image_path`)\n",
      "VALUES (10, 'RMSE', '2021-08-20', 391.2759255704165, 428.96190993370146, 'graficos/1dcnn_Chachapoyas_to_Juliaca_PERC/1dcnn_Chachapoyas_to_Juliaca_PERC-2021-08-20.png','graficos/1dcnn_Chachapoyas_to_Juliaca_PERC/current_day_1dcnn_Chachapoyas_to_Juliaca_PERC-2021-08-20.png');\n",
      "\n",
      "INSERT INTO `DBTesis`.`metrics` (`ml_model_id`, `metric_name`, `date`, `value`, `previous_value`, `metric_image_path`, `metric_current_image_path`)\n",
      "VALUES (10, 'RMSE', '2021-08-21', 387.39575550785446, 391.2759255704165, 'graficos/1dcnn_Chachapoyas_to_Juliaca_PERC/1dcnn_Chachapoyas_to_Juliaca_PERC-2021-08-21.png','graficos/1dcnn_Chachapoyas_to_Juliaca_PERC/current_day_1dcnn_Chachapoyas_to_Juliaca_PERC-2021-08-21.png');\n",
      "\n",
      "INSERT INTO `DBTesis`.`metrics` (`ml_model_id`, `metric_name`, `date`, `value`, `previous_value`, `metric_image_path`, `metric_current_image_path`)\n",
      "VALUES (10, 'RMSE', '2021-08-22', 308.66219885290127, 387.39575550785446, 'graficos/1dcnn_Chachapoyas_to_Juliaca_PERC/1dcnn_Chachapoyas_to_Juliaca_PERC-2021-08-22.png','graficos/1dcnn_Chachapoyas_to_Juliaca_PERC/current_day_1dcnn_Chachapoyas_to_Juliaca_PERC-2021-08-22.png');\n",
      "\n",
      "INSERT INTO `DBTesis`.`metrics` (`ml_model_id`, `metric_name`, `date`, `value`, `previous_value`, `metric_image_path`, `metric_current_image_path`)\n",
      "VALUES (10, 'RMSE', '2021-08-23', 319.83535279560147, 308.66219885290127, 'graficos/1dcnn_Chachapoyas_to_Juliaca_PERC/1dcnn_Chachapoyas_to_Juliaca_PERC-2021-08-23.png','graficos/1dcnn_Chachapoyas_to_Juliaca_PERC/current_day_1dcnn_Chachapoyas_to_Juliaca_PERC-2021-08-23.png');\n",
      "\n",
      "INSERT INTO `DBTesis`.`metrics` (`ml_model_id`, `metric_name`, `date`, `value`, `previous_value`, `metric_image_path`, `metric_current_image_path`)\n",
      "VALUES (10, 'RMSE', '2021-08-24', 184.62830791403567, 319.83535279560147, 'graficos/1dcnn_Chachapoyas_to_Juliaca_PERC/1dcnn_Chachapoyas_to_Juliaca_PERC-2021-08-24.png','graficos/1dcnn_Chachapoyas_to_Juliaca_PERC/current_day_1dcnn_Chachapoyas_to_Juliaca_PERC-2021-08-24.png');\n",
      "\n",
      "INSERT INTO `DBTesis`.`metrics` (`ml_model_id`, `metric_name`, `date`, `value`, `previous_value`, `metric_image_path`, `metric_current_image_path`)\n",
      "VALUES (10, 'RMSE', '2021-08-25', 327.79698279050945, 184.62830791403567, 'graficos/1dcnn_Chachapoyas_to_Juliaca_PERC/1dcnn_Chachapoyas_to_Juliaca_PERC-2021-08-25.png','graficos/1dcnn_Chachapoyas_to_Juliaca_PERC/current_day_1dcnn_Chachapoyas_to_Juliaca_PERC-2021-08-25.png');\n",
      "\n",
      "INSERT INTO `DBTesis`.`metrics` (`ml_model_id`, `metric_name`, `date`, `value`, `previous_value`, `metric_image_path`, `metric_current_image_path`)\n",
      "VALUES (10, 'RMSE', '2021-08-26', 402.96106429229917, 327.79698279050945, 'graficos/1dcnn_Chachapoyas_to_Juliaca_PERC/1dcnn_Chachapoyas_to_Juliaca_PERC-2021-08-26.png','graficos/1dcnn_Chachapoyas_to_Juliaca_PERC/current_day_1dcnn_Chachapoyas_to_Juliaca_PERC-2021-08-26.png');\n",
      "\n",
      "INSERT INTO `DBTesis`.`metrics` (`ml_model_id`, `metric_name`, `date`, `value`, `previous_value`, `metric_image_path`, `metric_current_image_path`)\n",
      "VALUES (10, 'RMSE', '2021-08-27', 313.02583886771913, 402.96106429229917, 'graficos/1dcnn_Chachapoyas_to_Juliaca_PERC/1dcnn_Chachapoyas_to_Juliaca_PERC-2021-08-27.png','graficos/1dcnn_Chachapoyas_to_Juliaca_PERC/current_day_1dcnn_Chachapoyas_to_Juliaca_PERC-2021-08-27.png');\n",
      "\n",
      "INSERT INTO `DBTesis`.`metrics` (`ml_model_id`, `metric_name`, `date`, `value`, `previous_value`, `metric_image_path`, `metric_current_image_path`)\n",
      "VALUES (10, 'RMSE', '2021-08-28', 492.73908025779826, 313.02583886771913, 'graficos/1dcnn_Chachapoyas_to_Juliaca_PERC/1dcnn_Chachapoyas_to_Juliaca_PERC-2021-08-28.png','graficos/1dcnn_Chachapoyas_to_Juliaca_PERC/current_day_1dcnn_Chachapoyas_to_Juliaca_PERC-2021-08-28.png');\n",
      "\n",
      "INSERT INTO `DBTesis`.`metrics` (`ml_model_id`, `metric_name`, `date`, `value`, `previous_value`, `metric_image_path`, `metric_current_image_path`)\n",
      "VALUES (10, 'RMSE', '2021-08-29', 351.9966349164407, 492.73908025779826, 'graficos/1dcnn_Chachapoyas_to_Juliaca_PERC/1dcnn_Chachapoyas_to_Juliaca_PERC-2021-08-29.png','graficos/1dcnn_Chachapoyas_to_Juliaca_PERC/current_day_1dcnn_Chachapoyas_to_Juliaca_PERC-2021-08-29.png');\n",
      "\n",
      "INSERT INTO `DBTesis`.`metrics` (`ml_model_id`, `metric_name`, `date`, `value`, `previous_value`, `metric_image_path`, `metric_current_image_path`)\n",
      "VALUES (10, 'RMSE', '2021-08-30', 495.95087595538286, 351.9966349164407, 'graficos/1dcnn_Chachapoyas_to_Juliaca_PERC/1dcnn_Chachapoyas_to_Juliaca_PERC-2021-08-30.png','graficos/1dcnn_Chachapoyas_to_Juliaca_PERC/current_day_1dcnn_Chachapoyas_to_Juliaca_PERC-2021-08-30.png');\n",
      "\n",
      "INSERT INTO `DBTesis`.`metrics` (`ml_model_id`, `metric_name`, `date`, `value`, `previous_value`, `metric_image_path`, `metric_current_image_path`)\n",
      "VALUES (10, 'RMSE', '2021-08-31', 362.52866421674145, 495.95087595538286, 'graficos/1dcnn_Chachapoyas_to_Juliaca_PERC/1dcnn_Chachapoyas_to_Juliaca_PERC-2021-08-31.png','graficos/1dcnn_Chachapoyas_to_Juliaca_PERC/current_day_1dcnn_Chachapoyas_to_Juliaca_PERC-2021-08-31.png');\n",
      "\n",
      "INSERT INTO `DBTesis`.`metrics` (`ml_model_id`, `metric_name`, `date`, `value`, `previous_value`, `metric_image_path`, `metric_current_image_path`)\n",
      "VALUES (10, 'RMSE', '2021-09-01', 392.20161472777636, 362.52866421674145, 'graficos/1dcnn_Chachapoyas_to_Juliaca_PERC/1dcnn_Chachapoyas_to_Juliaca_PERC-2021-09-01.png','graficos/1dcnn_Chachapoyas_to_Juliaca_PERC/current_day_1dcnn_Chachapoyas_to_Juliaca_PERC-2021-09-01.png');\n",
      "\n",
      "INSERT INTO `DBTesis`.`metrics` (`ml_model_id`, `metric_name`, `date`, `value`, `previous_value`, `metric_image_path`, `metric_current_image_path`)\n",
      "VALUES (10, 'RMSE', '2021-09-02', 484.86598619368243, 392.20161472777636, 'graficos/1dcnn_Chachapoyas_to_Juliaca_PERC/1dcnn_Chachapoyas_to_Juliaca_PERC-2021-09-02.png','graficos/1dcnn_Chachapoyas_to_Juliaca_PERC/current_day_1dcnn_Chachapoyas_to_Juliaca_PERC-2021-09-02.png');\n",
      "\n",
      "INSERT INTO `DBTesis`.`metrics` (`ml_model_id`, `metric_name`, `date`, `value`, `previous_value`, `metric_image_path`, `metric_current_image_path`)\n",
      "VALUES (10, 'RMSE', '2021-09-03', 383.6069185719203, 484.86598619368243, 'graficos/1dcnn_Chachapoyas_to_Juliaca_PERC/1dcnn_Chachapoyas_to_Juliaca_PERC-2021-09-03.png','graficos/1dcnn_Chachapoyas_to_Juliaca_PERC/current_day_1dcnn_Chachapoyas_to_Juliaca_PERC-2021-09-03.png');\n",
      "\n",
      "INSERT INTO `DBTesis`.`metrics` (`ml_model_id`, `metric_name`, `date`, `value`, `previous_value`, `metric_image_path`, `metric_current_image_path`)\n",
      "VALUES (10, 'RMSE', '2021-09-04', 444.21253159666816, 383.6069185719203, 'graficos/1dcnn_Chachapoyas_to_Juliaca_PERC/1dcnn_Chachapoyas_to_Juliaca_PERC-2021-09-04.png','graficos/1dcnn_Chachapoyas_to_Juliaca_PERC/current_day_1dcnn_Chachapoyas_to_Juliaca_PERC-2021-09-04.png');\n",
      "\n",
      "INSERT INTO `DBTesis`.`metrics` (`ml_model_id`, `metric_name`, `date`, `value`, `previous_value`, `metric_image_path`, `metric_current_image_path`)\n",
      "VALUES (10, 'RMSE', '2021-09-05', 439.14339000063484, 444.21253159666816, 'graficos/1dcnn_Chachapoyas_to_Juliaca_PERC/1dcnn_Chachapoyas_to_Juliaca_PERC-2021-09-05.png','graficos/1dcnn_Chachapoyas_to_Juliaca_PERC/current_day_1dcnn_Chachapoyas_to_Juliaca_PERC-2021-09-05.png');\n",
      "\n",
      "INSERT INTO `DBTesis`.`metrics` (`ml_model_id`, `metric_name`, `date`, `value`, `previous_value`, `metric_image_path`, `metric_current_image_path`)\n",
      "VALUES (10, 'RMSE', '2021-09-06', 677.7820569990491, 439.14339000063484, 'graficos/1dcnn_Chachapoyas_to_Juliaca_PERC/1dcnn_Chachapoyas_to_Juliaca_PERC-2021-09-06.png','graficos/1dcnn_Chachapoyas_to_Juliaca_PERC/current_day_1dcnn_Chachapoyas_to_Juliaca_PERC-2021-09-06.png');\n",
      "\n",
      "INSERT INTO `DBTesis`.`metrics` (`ml_model_id`, `metric_name`, `date`, `value`, `previous_value`, `metric_image_path`, `metric_current_image_path`)\n",
      "VALUES (10, 'RMSE', '2021-09-07', 242.29603118251015, 677.7820569990491, 'graficos/1dcnn_Chachapoyas_to_Juliaca_PERC/1dcnn_Chachapoyas_to_Juliaca_PERC-2021-09-07.png','graficos/1dcnn_Chachapoyas_to_Juliaca_PERC/current_day_1dcnn_Chachapoyas_to_Juliaca_PERC-2021-09-07.png');\n",
      "\n",
      "INSERT INTO `DBTesis`.`metrics` (`ml_model_id`, `metric_name`, `date`, `value`, `previous_value`, `metric_image_path`, `metric_current_image_path`)\n",
      "VALUES (10, 'RMSE', '2021-09-08', 376.5432589667154, 242.29603118251015, 'graficos/1dcnn_Chachapoyas_to_Juliaca_PERC/1dcnn_Chachapoyas_to_Juliaca_PERC-2021-09-08.png','graficos/1dcnn_Chachapoyas_to_Juliaca_PERC/current_day_1dcnn_Chachapoyas_to_Juliaca_PERC-2021-09-08.png');\n",
      "\n",
      "INSERT INTO `DBTesis`.`metrics` (`ml_model_id`, `metric_name`, `date`, `value`, `previous_value`, `metric_image_path`, `metric_current_image_path`)\n",
      "VALUES (10, 'RMSE', '2021-09-09', 380.3829839041928, 376.5432589667154, 'graficos/1dcnn_Chachapoyas_to_Juliaca_PERC/1dcnn_Chachapoyas_to_Juliaca_PERC-2021-09-09.png','graficos/1dcnn_Chachapoyas_to_Juliaca_PERC/current_day_1dcnn_Chachapoyas_to_Juliaca_PERC-2021-09-09.png');\n",
      "\n",
      "INSERT INTO `DBTesis`.`metrics` (`ml_model_id`, `metric_name`, `date`, `value`, `previous_value`, `metric_image_path`, `metric_current_image_path`)\n",
      "VALUES (10, 'RMSE', '2021-09-10', 422.788472444375, 380.3829839041928, 'graficos/1dcnn_Chachapoyas_to_Juliaca_PERC/1dcnn_Chachapoyas_to_Juliaca_PERC-2021-09-10.png','graficos/1dcnn_Chachapoyas_to_Juliaca_PERC/current_day_1dcnn_Chachapoyas_to_Juliaca_PERC-2021-09-10.png');\n",
      "\n",
      "INSERT INTO `DBTesis`.`metrics` (`ml_model_id`, `metric_name`, `date`, `value`, `previous_value`, `metric_image_path`, `metric_current_image_path`)\n",
      "VALUES (10, 'RMSE', '2021-09-11', 257.89189550866826, 422.788472444375, 'graficos/1dcnn_Chachapoyas_to_Juliaca_PERC/1dcnn_Chachapoyas_to_Juliaca_PERC-2021-09-11.png','graficos/1dcnn_Chachapoyas_to_Juliaca_PERC/current_day_1dcnn_Chachapoyas_to_Juliaca_PERC-2021-09-11.png');\n",
      "\n",
      "INSERT INTO `DBTesis`.`metrics` (`ml_model_id`, `metric_name`, `date`, `value`, `previous_value`, `metric_image_path`, `metric_current_image_path`)\n",
      "VALUES (10, 'RMSE', '2021-09-12', 415.1784977988799, 257.89189550866826, 'graficos/1dcnn_Chachapoyas_to_Juliaca_PERC/1dcnn_Chachapoyas_to_Juliaca_PERC-2021-09-12.png','graficos/1dcnn_Chachapoyas_to_Juliaca_PERC/current_day_1dcnn_Chachapoyas_to_Juliaca_PERC-2021-09-12.png');\n",
      "\n",
      "INSERT INTO `DBTesis`.`metrics` (`ml_model_id`, `metric_name`, `date`, `value`, `previous_value`, `metric_image_path`, `metric_current_image_path`)\n",
      "VALUES (10, 'RMSE', '2021-09-13', 554.167680549098, 415.1784977988799, 'graficos/1dcnn_Chachapoyas_to_Juliaca_PERC/1dcnn_Chachapoyas_to_Juliaca_PERC-2021-09-13.png','graficos/1dcnn_Chachapoyas_to_Juliaca_PERC/current_day_1dcnn_Chachapoyas_to_Juliaca_PERC-2021-09-13.png');\n",
      "\n",
      "INSERT INTO `DBTesis`.`metrics` (`ml_model_id`, `metric_name`, `date`, `value`, `previous_value`, `metric_image_path`, `metric_current_image_path`)\n",
      "VALUES (10, 'RMSE', '2021-09-14', 459.7963055940872, 554.167680549098, 'graficos/1dcnn_Chachapoyas_to_Juliaca_PERC/1dcnn_Chachapoyas_to_Juliaca_PERC-2021-09-14.png','graficos/1dcnn_Chachapoyas_to_Juliaca_PERC/current_day_1dcnn_Chachapoyas_to_Juliaca_PERC-2021-09-14.png');\n",
      "\n",
      "INSERT INTO `DBTesis`.`metrics` (`ml_model_id`, `metric_name`, `date`, `value`, `previous_value`, `metric_image_path`, `metric_current_image_path`)\n",
      "VALUES (10, 'RMSE', '2021-09-15', 280.39587702345085, 459.7963055940872, 'graficos/1dcnn_Chachapoyas_to_Juliaca_PERC/1dcnn_Chachapoyas_to_Juliaca_PERC-2021-09-15.png','graficos/1dcnn_Chachapoyas_to_Juliaca_PERC/current_day_1dcnn_Chachapoyas_to_Juliaca_PERC-2021-09-15.png');\n",
      "\n",
      "INSERT INTO `DBTesis`.`metrics` (`ml_model_id`, `metric_name`, `date`, `value`, `previous_value`, `metric_image_path`, `metric_current_image_path`)\n",
      "VALUES (10, 'RMSE', '2021-09-16', 625.5110827426525, 280.39587702345085, 'graficos/1dcnn_Chachapoyas_to_Juliaca_PERC/1dcnn_Chachapoyas_to_Juliaca_PERC-2021-09-16.png','graficos/1dcnn_Chachapoyas_to_Juliaca_PERC/current_day_1dcnn_Chachapoyas_to_Juliaca_PERC-2021-09-16.png');\n",
      "\n",
      "INSERT INTO `DBTesis`.`metrics` (`ml_model_id`, `metric_name`, `date`, `value`, `previous_value`, `metric_image_path`, `metric_current_image_path`)\n",
      "VALUES (10, 'RMSE', '2021-09-17', 242.67277994221385, 625.5110827426525, 'graficos/1dcnn_Chachapoyas_to_Juliaca_PERC/1dcnn_Chachapoyas_to_Juliaca_PERC-2021-09-17.png','graficos/1dcnn_Chachapoyas_to_Juliaca_PERC/current_day_1dcnn_Chachapoyas_to_Juliaca_PERC-2021-09-17.png');\n",
      "\n",
      "INSERT INTO `DBTesis`.`metrics` (`ml_model_id`, `metric_name`, `date`, `value`, `previous_value`, `metric_image_path`, `metric_current_image_path`)\n",
      "VALUES (10, 'RMSE', '2021-09-18', 331.89765629542734, 242.67277994221385, 'graficos/1dcnn_Chachapoyas_to_Juliaca_PERC/1dcnn_Chachapoyas_to_Juliaca_PERC-2021-09-18.png','graficos/1dcnn_Chachapoyas_to_Juliaca_PERC/current_day_1dcnn_Chachapoyas_to_Juliaca_PERC-2021-09-18.png');\n",
      "\n",
      "INSERT INTO `DBTesis`.`metrics` (`ml_model_id`, `metric_name`, `date`, `value`, `previous_value`, `metric_image_path`, `metric_current_image_path`)\n",
      "VALUES (10, 'RMSE', '2021-09-19', 1626.1586227223806, 331.89765629542734, 'graficos/1dcnn_Chachapoyas_to_Juliaca_PERC/1dcnn_Chachapoyas_to_Juliaca_PERC-2021-09-19.png','graficos/1dcnn_Chachapoyas_to_Juliaca_PERC/current_day_1dcnn_Chachapoyas_to_Juliaca_PERC-2021-09-19.png');\n",
      "\n",
      "INSERT INTO `DBTesis`.`metrics` (`ml_model_id`, `metric_name`, `date`, `value`, `previous_value`, `metric_image_path`, `metric_current_image_path`)\n",
      "VALUES (10, 'RMSE', '2021-09-20', 771.3458280082449, 1626.1586227223806, 'graficos/1dcnn_Chachapoyas_to_Juliaca_PERC/1dcnn_Chachapoyas_to_Juliaca_PERC-2021-09-20.png','graficos/1dcnn_Chachapoyas_to_Juliaca_PERC/current_day_1dcnn_Chachapoyas_to_Juliaca_PERC-2021-09-20.png');\n",
      "\n",
      "INSERT INTO `DBTesis`.`metrics` (`ml_model_id`, `metric_name`, `date`, `value`, `previous_value`, `metric_image_path`, `metric_current_image_path`)\n",
      "VALUES (10, 'RMSE', '2021-09-21', 547.4785550218443, 771.3458280082449, 'graficos/1dcnn_Chachapoyas_to_Juliaca_PERC/1dcnn_Chachapoyas_to_Juliaca_PERC-2021-09-21.png','graficos/1dcnn_Chachapoyas_to_Juliaca_PERC/current_day_1dcnn_Chachapoyas_to_Juliaca_PERC-2021-09-21.png');\n",
      "\n",
      "INSERT INTO `DBTesis`.`metrics` (`ml_model_id`, `metric_name`, `date`, `value`, `previous_value`, `metric_image_path`, `metric_current_image_path`)\n",
      "VALUES (10, 'RMSE', '2021-09-22', 256.22952693065014, 547.4785550218443, 'graficos/1dcnn_Chachapoyas_to_Juliaca_PERC/1dcnn_Chachapoyas_to_Juliaca_PERC-2021-09-22.png','graficos/1dcnn_Chachapoyas_to_Juliaca_PERC/current_day_1dcnn_Chachapoyas_to_Juliaca_PERC-2021-09-22.png');\n",
      "\n",
      "INSERT INTO `DBTesis`.`metrics` (`ml_model_id`, `metric_name`, `date`, `value`, `previous_value`, `metric_image_path`, `metric_current_image_path`)\n",
      "VALUES (10, 'RMSE', '2021-09-23', 203.79109415821736, 256.22952693065014, 'graficos/1dcnn_Chachapoyas_to_Juliaca_PERC/1dcnn_Chachapoyas_to_Juliaca_PERC-2021-09-23.png','graficos/1dcnn_Chachapoyas_to_Juliaca_PERC/current_day_1dcnn_Chachapoyas_to_Juliaca_PERC-2021-09-23.png');\n",
      "\n",
      "INSERT INTO `DBTesis`.`metrics` (`ml_model_id`, `metric_name`, `date`, `value`, `previous_value`, `metric_image_path`, `metric_current_image_path`)\n",
      "VALUES (10, 'RMSE', '2021-09-24', 226.25080803733866, 203.79109415821736, 'graficos/1dcnn_Chachapoyas_to_Juliaca_PERC/1dcnn_Chachapoyas_to_Juliaca_PERC-2021-09-24.png','graficos/1dcnn_Chachapoyas_to_Juliaca_PERC/current_day_1dcnn_Chachapoyas_to_Juliaca_PERC-2021-09-24.png');\n",
      "\n",
      "INSERT INTO `DBTesis`.`metrics` (`ml_model_id`, `metric_name`, `date`, `value`, `previous_value`, `metric_image_path`, `metric_current_image_path`)\n",
      "VALUES (10, 'RMSE', '2021-09-25', 327.85333221551673, 226.25080803733866, 'graficos/1dcnn_Chachapoyas_to_Juliaca_PERC/1dcnn_Chachapoyas_to_Juliaca_PERC-2021-09-25.png','graficos/1dcnn_Chachapoyas_to_Juliaca_PERC/current_day_1dcnn_Chachapoyas_to_Juliaca_PERC-2021-09-25.png');\n",
      "\n",
      "INSERT INTO `DBTesis`.`metrics` (`ml_model_id`, `metric_name`, `date`, `value`, `previous_value`, `metric_image_path`, `metric_current_image_path`)\n",
      "VALUES (10, 'RMSE', '2021-09-26', 493.7263787189864, 327.85333221551673, 'graficos/1dcnn_Chachapoyas_to_Juliaca_PERC/1dcnn_Chachapoyas_to_Juliaca_PERC-2021-09-26.png','graficos/1dcnn_Chachapoyas_to_Juliaca_PERC/current_day_1dcnn_Chachapoyas_to_Juliaca_PERC-2021-09-26.png');\n",
      "\n",
      "INSERT INTO `DBTesis`.`metrics` (`ml_model_id`, `metric_name`, `date`, `value`, `previous_value`, `metric_image_path`, `metric_current_image_path`)\n",
      "VALUES (10, 'RMSE', '2021-09-27', 542.8763765933895, 493.7263787189864, 'graficos/1dcnn_Chachapoyas_to_Juliaca_PERC/1dcnn_Chachapoyas_to_Juliaca_PERC-2021-09-27.png','graficos/1dcnn_Chachapoyas_to_Juliaca_PERC/current_day_1dcnn_Chachapoyas_to_Juliaca_PERC-2021-09-27.png');\n",
      "\n",
      "INSERT INTO `DBTesis`.`metrics` (`ml_model_id`, `metric_name`, `date`, `value`, `previous_value`, `metric_image_path`, `metric_current_image_path`)\n",
      "VALUES (10, 'RMSE', '2021-09-28', 367.13381127152144, 542.8763765933895, 'graficos/1dcnn_Chachapoyas_to_Juliaca_PERC/1dcnn_Chachapoyas_to_Juliaca_PERC-2021-09-28.png','graficos/1dcnn_Chachapoyas_to_Juliaca_PERC/current_day_1dcnn_Chachapoyas_to_Juliaca_PERC-2021-09-28.png');\n",
      "\n",
      "INSERT INTO `DBTesis`.`metrics` (`ml_model_id`, `metric_name`, `date`, `value`, `previous_value`, `metric_image_path`, `metric_current_image_path`)\n",
      "VALUES (10, 'RMSE', '2021-09-29', 455.29761461079477, 367.13381127152144, 'graficos/1dcnn_Chachapoyas_to_Juliaca_PERC/1dcnn_Chachapoyas_to_Juliaca_PERC-2021-09-29.png','graficos/1dcnn_Chachapoyas_to_Juliaca_PERC/current_day_1dcnn_Chachapoyas_to_Juliaca_PERC-2021-09-29.png');\n",
      "\n",
      "INSERT INTO `DBTesis`.`metrics` (`ml_model_id`, `metric_name`, `date`, `value`, `previous_value`, `metric_image_path`, `metric_current_image_path`)\n",
      "VALUES (10, 'RMSE', '2021-09-30', 354.3855130273396, 455.29761461079477, 'graficos/1dcnn_Chachapoyas_to_Juliaca_PERC/1dcnn_Chachapoyas_to_Juliaca_PERC-2021-09-30.png','graficos/1dcnn_Chachapoyas_to_Juliaca_PERC/current_day_1dcnn_Chachapoyas_to_Juliaca_PERC-2021-09-30.png');\n",
      "\n",
      "INSERT INTO `DBTesis`.`metrics` (`ml_model_id`, `metric_name`, `date`, `value`, `previous_value`, `metric_image_path`, `metric_current_image_path`)\n",
      "VALUES (10, 'RMSE', '2021-10-01', 328.9808081063981, 354.3855130273396, 'graficos/1dcnn_Chachapoyas_to_Juliaca_PERC/1dcnn_Chachapoyas_to_Juliaca_PERC-2021-10-01.png','graficos/1dcnn_Chachapoyas_to_Juliaca_PERC/current_day_1dcnn_Chachapoyas_to_Juliaca_PERC-2021-10-01.png');\n",
      "\n",
      "INSERT INTO `DBTesis`.`metrics` (`ml_model_id`, `metric_name`, `date`, `value`, `previous_value`, `metric_image_path`, `metric_current_image_path`)\n",
      "VALUES (10, 'RMSE', '2021-10-02', 324.1705441765152, 328.9808081063981, 'graficos/1dcnn_Chachapoyas_to_Juliaca_PERC/1dcnn_Chachapoyas_to_Juliaca_PERC-2021-10-02.png','graficos/1dcnn_Chachapoyas_to_Juliaca_PERC/current_day_1dcnn_Chachapoyas_to_Juliaca_PERC-2021-10-02.png');\n",
      "\n",
      "INSERT INTO `DBTesis`.`metrics` (`ml_model_id`, `metric_name`, `date`, `value`, `previous_value`, `metric_image_path`, `metric_current_image_path`)\n",
      "VALUES (10, 'RMSE', '2021-10-03', 383.3916407128119, 324.1705441765152, 'graficos/1dcnn_Chachapoyas_to_Juliaca_PERC/1dcnn_Chachapoyas_to_Juliaca_PERC-2021-10-03.png','graficos/1dcnn_Chachapoyas_to_Juliaca_PERC/current_day_1dcnn_Chachapoyas_to_Juliaca_PERC-2021-10-03.png');\n",
      "\n",
      "INSERT INTO `DBTesis`.`metrics` (`ml_model_id`, `metric_name`, `date`, `value`, `previous_value`, `metric_image_path`, `metric_current_image_path`)\n",
      "VALUES (10, 'RMSE', '2021-10-04', 276.61214784099644, 383.3916407128119, 'graficos/1dcnn_Chachapoyas_to_Juliaca_PERC/1dcnn_Chachapoyas_to_Juliaca_PERC-2021-10-04.png','graficos/1dcnn_Chachapoyas_to_Juliaca_PERC/current_day_1dcnn_Chachapoyas_to_Juliaca_PERC-2021-10-04.png');\n",
      "\n",
      "INSERT INTO `DBTesis`.`metrics` (`ml_model_id`, `metric_name`, `date`, `value`, `previous_value`, `metric_image_path`, `metric_current_image_path`)\n",
      "VALUES (10, 'RMSE', '2021-10-05', 352.0706419024145, 276.61214784099644, 'graficos/1dcnn_Chachapoyas_to_Juliaca_PERC/1dcnn_Chachapoyas_to_Juliaca_PERC-2021-10-05.png','graficos/1dcnn_Chachapoyas_to_Juliaca_PERC/current_day_1dcnn_Chachapoyas_to_Juliaca_PERC-2021-10-05.png');\n",
      "\n",
      "INSERT INTO `DBTesis`.`metrics` (`ml_model_id`, `metric_name`, `date`, `value`, `previous_value`, `metric_image_path`, `metric_current_image_path`)\n",
      "VALUES (10, 'RMSE', '2021-10-06', 410.57044184410813, 352.0706419024145, 'graficos/1dcnn_Chachapoyas_to_Juliaca_PERC/1dcnn_Chachapoyas_to_Juliaca_PERC-2021-10-06.png','graficos/1dcnn_Chachapoyas_to_Juliaca_PERC/current_day_1dcnn_Chachapoyas_to_Juliaca_PERC-2021-10-06.png');\n",
      "\n",
      "INSERT INTO `DBTesis`.`metrics` (`ml_model_id`, `metric_name`, `date`, `value`, `previous_value`, `metric_image_path`, `metric_current_image_path`)\n",
      "VALUES (10, 'RMSE', '2021-10-07', 282.6008351550255, 410.57044184410813, 'graficos/1dcnn_Chachapoyas_to_Juliaca_PERC/1dcnn_Chachapoyas_to_Juliaca_PERC-2021-10-07.png','graficos/1dcnn_Chachapoyas_to_Juliaca_PERC/current_day_1dcnn_Chachapoyas_to_Juliaca_PERC-2021-10-07.png');\n",
      "\n",
      "INSERT INTO `DBTesis`.`metrics` (`ml_model_id`, `metric_name`, `date`, `value`, `previous_value`, `metric_image_path`, `metric_current_image_path`)\n",
      "VALUES (10, 'RMSE', '2021-10-08', 284.88716527686637, 282.6008351550255, 'graficos/1dcnn_Chachapoyas_to_Juliaca_PERC/1dcnn_Chachapoyas_to_Juliaca_PERC-2021-10-08.png','graficos/1dcnn_Chachapoyas_to_Juliaca_PERC/current_day_1dcnn_Chachapoyas_to_Juliaca_PERC-2021-10-08.png');\n",
      "\n",
      "INSERT INTO `DBTesis`.`metrics` (`ml_model_id`, `metric_name`, `date`, `value`, `previous_value`, `metric_image_path`, `metric_current_image_path`)\n",
      "VALUES (10, 'RMSE', '2021-10-09', 460.4234930336478, 284.88716527686637, 'graficos/1dcnn_Chachapoyas_to_Juliaca_PERC/1dcnn_Chachapoyas_to_Juliaca_PERC-2021-10-09.png','graficos/1dcnn_Chachapoyas_to_Juliaca_PERC/current_day_1dcnn_Chachapoyas_to_Juliaca_PERC-2021-10-09.png');\n",
      "\n",
      "INSERT INTO `DBTesis`.`metrics` (`ml_model_id`, `metric_name`, `date`, `value`, `previous_value`, `metric_image_path`, `metric_current_image_path`)\n",
      "VALUES (10, 'RMSE', '2021-10-10', 269.1844940575424, 460.4234930336478, 'graficos/1dcnn_Chachapoyas_to_Juliaca_PERC/1dcnn_Chachapoyas_to_Juliaca_PERC-2021-10-10.png','graficos/1dcnn_Chachapoyas_to_Juliaca_PERC/current_day_1dcnn_Chachapoyas_to_Juliaca_PERC-2021-10-10.png');\n",
      "\n",
      "INSERT INTO `DBTesis`.`metrics` (`ml_model_id`, `metric_name`, `date`, `value`, `previous_value`, `metric_image_path`, `metric_current_image_path`)\n",
      "VALUES (10, 'RMSE', '2021-10-11', 313.4398655420498, 269.1844940575424, 'graficos/1dcnn_Chachapoyas_to_Juliaca_PERC/1dcnn_Chachapoyas_to_Juliaca_PERC-2021-10-11.png','graficos/1dcnn_Chachapoyas_to_Juliaca_PERC/current_day_1dcnn_Chachapoyas_to_Juliaca_PERC-2021-10-11.png');\n",
      "\n",
      "INSERT INTO `DBTesis`.`metrics` (`ml_model_id`, `metric_name`, `date`, `value`, `previous_value`, `metric_image_path`, `metric_current_image_path`)\n",
      "VALUES (10, 'RMSE', '2021-10-12', 355.10227611310086, 313.4398655420498, 'graficos/1dcnn_Chachapoyas_to_Juliaca_PERC/1dcnn_Chachapoyas_to_Juliaca_PERC-2021-10-12.png','graficos/1dcnn_Chachapoyas_to_Juliaca_PERC/current_day_1dcnn_Chachapoyas_to_Juliaca_PERC-2021-10-12.png');\n",
      "\n",
      "INSERT INTO `DBTesis`.`metrics` (`ml_model_id`, `metric_name`, `date`, `value`, `previous_value`, `metric_image_path`, `metric_current_image_path`)\n",
      "VALUES (10, 'RMSE', '2021-10-13', 355.10227611310086, 355.10227611310086, 'graficos/1dcnn_Chachapoyas_to_Juliaca_PERC/1dcnn_Chachapoyas_to_Juliaca_PERC-2021-10-13.png','graficos/1dcnn_Chachapoyas_to_Juliaca_PERC/current_day_1dcnn_Chachapoyas_to_Juliaca_PERC-2021-10-13.png');\n",
      "\n",
      "INSERT INTO `DBTesis`.`metrics` (`ml_model_id`, `metric_name`, `date`, `value`, `previous_value`, `metric_image_path`, `metric_current_image_path`)\n",
      "VALUES (10, 'RMSE', '2021-10-14', 464.2134107019833, 355.10227611310086, 'graficos/1dcnn_Chachapoyas_to_Juliaca_PERC/1dcnn_Chachapoyas_to_Juliaca_PERC-2021-10-14.png','graficos/1dcnn_Chachapoyas_to_Juliaca_PERC/current_day_1dcnn_Chachapoyas_to_Juliaca_PERC-2021-10-14.png');\n",
      "\n",
      "INSERT INTO `DBTesis`.`metrics` (`ml_model_id`, `metric_name`, `date`, `value`, `previous_value`, `metric_image_path`, `metric_current_image_path`)\n",
      "VALUES (10, 'RMSE', '2021-10-15', 419.84982945623295, 464.2134107019833, 'graficos/1dcnn_Chachapoyas_to_Juliaca_PERC/1dcnn_Chachapoyas_to_Juliaca_PERC-2021-10-15.png','graficos/1dcnn_Chachapoyas_to_Juliaca_PERC/current_day_1dcnn_Chachapoyas_to_Juliaca_PERC-2021-10-15.png');\n",
      "\n",
      "INSERT INTO `DBTesis`.`metrics` (`ml_model_id`, `metric_name`, `date`, `value`, `previous_value`, `metric_image_path`, `metric_current_image_path`)\n",
      "VALUES (10, 'RMSE', '2021-10-16', 287.9308547622033, 419.84982945623295, 'graficos/1dcnn_Chachapoyas_to_Juliaca_PERC/1dcnn_Chachapoyas_to_Juliaca_PERC-2021-10-16.png','graficos/1dcnn_Chachapoyas_to_Juliaca_PERC/current_day_1dcnn_Chachapoyas_to_Juliaca_PERC-2021-10-16.png');\n",
      "\n",
      "INSERT INTO `DBTesis`.`metrics` (`ml_model_id`, `metric_name`, `date`, `value`, `previous_value`, `metric_image_path`, `metric_current_image_path`)\n",
      "VALUES (10, 'RMSE', '2021-10-17', 399.25743908564294, 287.9308547622033, 'graficos/1dcnn_Chachapoyas_to_Juliaca_PERC/1dcnn_Chachapoyas_to_Juliaca_PERC-2021-10-17.png','graficos/1dcnn_Chachapoyas_to_Juliaca_PERC/current_day_1dcnn_Chachapoyas_to_Juliaca_PERC-2021-10-17.png');\n",
      "\n",
      "INSERT INTO `DBTesis`.`metrics` (`ml_model_id`, `metric_name`, `date`, `value`, `previous_value`, `metric_image_path`, `metric_current_image_path`)\n",
      "VALUES (10, 'RMSE', '2021-10-18', 399.9409425155326, 399.25743908564294, 'graficos/1dcnn_Chachapoyas_to_Juliaca_PERC/1dcnn_Chachapoyas_to_Juliaca_PERC-2021-10-18.png','graficos/1dcnn_Chachapoyas_to_Juliaca_PERC/current_day_1dcnn_Chachapoyas_to_Juliaca_PERC-2021-10-18.png');\n",
      "\n",
      "INSERT INTO `DBTesis`.`metrics` (`ml_model_id`, `metric_name`, `date`, `value`, `previous_value`, `metric_image_path`, `metric_current_image_path`)\n",
      "VALUES (10, 'RMSE', '2021-10-19', 381.0733957815516, 399.9409425155326, 'graficos/1dcnn_Chachapoyas_to_Juliaca_PERC/1dcnn_Chachapoyas_to_Juliaca_PERC-2021-10-19.png','graficos/1dcnn_Chachapoyas_to_Juliaca_PERC/current_day_1dcnn_Chachapoyas_to_Juliaca_PERC-2021-10-19.png');\n",
      "\n",
      "INSERT INTO `DBTesis`.`metrics` (`ml_model_id`, `metric_name`, `date`, `value`, `previous_value`, `metric_image_path`, `metric_current_image_path`)\n",
      "VALUES (10, 'RMSE', '2021-10-20', 397.8503160127788, 381.0733957815516, 'graficos/1dcnn_Chachapoyas_to_Juliaca_PERC/1dcnn_Chachapoyas_to_Juliaca_PERC-2021-10-20.png','graficos/1dcnn_Chachapoyas_to_Juliaca_PERC/current_day_1dcnn_Chachapoyas_to_Juliaca_PERC-2021-10-20.png');\n",
      "\n",
      "INSERT INTO `DBTesis`.`metrics` (`ml_model_id`, `metric_name`, `date`, `value`, `previous_value`, `metric_image_path`, `metric_current_image_path`)\n",
      "VALUES (10, 'RMSE', '2021-10-21', 403.98084122837014, 397.8503160127788, 'graficos/1dcnn_Chachapoyas_to_Juliaca_PERC/1dcnn_Chachapoyas_to_Juliaca_PERC-2021-10-21.png','graficos/1dcnn_Chachapoyas_to_Juliaca_PERC/current_day_1dcnn_Chachapoyas_to_Juliaca_PERC-2021-10-21.png');\n",
      "\n",
      "INSERT INTO `DBTesis`.`metrics` (`ml_model_id`, `metric_name`, `date`, `value`, `previous_value`, `metric_image_path`, `metric_current_image_path`)\n",
      "VALUES (10, 'RMSE', '2021-10-22', 378.7831219269396, 403.98084122837014, 'graficos/1dcnn_Chachapoyas_to_Juliaca_PERC/1dcnn_Chachapoyas_to_Juliaca_PERC-2021-10-22.png','graficos/1dcnn_Chachapoyas_to_Juliaca_PERC/current_day_1dcnn_Chachapoyas_to_Juliaca_PERC-2021-10-22.png');\n",
      "\n",
      "INSERT INTO `DBTesis`.`metrics` (`ml_model_id`, `metric_name`, `date`, `value`, `previous_value`, `metric_image_path`, `metric_current_image_path`)\n",
      "VALUES (10, 'RMSE', '2021-10-23', 487.36623395336505, 378.7831219269396, 'graficos/1dcnn_Chachapoyas_to_Juliaca_PERC/1dcnn_Chachapoyas_to_Juliaca_PERC-2021-10-23.png','graficos/1dcnn_Chachapoyas_to_Juliaca_PERC/current_day_1dcnn_Chachapoyas_to_Juliaca_PERC-2021-10-23.png');\n",
      "\n",
      "INSERT INTO `DBTesis`.`metrics` (`ml_model_id`, `metric_name`, `date`, `value`, `previous_value`, `metric_image_path`, `metric_current_image_path`)\n",
      "VALUES (10, 'RMSE', '2021-10-24', 478.60145499431115, 487.36623395336505, 'graficos/1dcnn_Chachapoyas_to_Juliaca_PERC/1dcnn_Chachapoyas_to_Juliaca_PERC-2021-10-24.png','graficos/1dcnn_Chachapoyas_to_Juliaca_PERC/current_day_1dcnn_Chachapoyas_to_Juliaca_PERC-2021-10-24.png');\n",
      "\n",
      "INSERT INTO `DBTesis`.`metrics` (`ml_model_id`, `metric_name`, `date`, `value`, `previous_value`, `metric_image_path`, `metric_current_image_path`)\n",
      "VALUES (10, 'RMSE', '2021-10-25', 757.7865097594398, 478.60145499431115, 'graficos/1dcnn_Chachapoyas_to_Juliaca_PERC/1dcnn_Chachapoyas_to_Juliaca_PERC-2021-10-25.png','graficos/1dcnn_Chachapoyas_to_Juliaca_PERC/current_day_1dcnn_Chachapoyas_to_Juliaca_PERC-2021-10-25.png');\n",
      "\n",
      "INSERT INTO `DBTesis`.`metrics` (`ml_model_id`, `metric_name`, `date`, `value`, `previous_value`, `metric_image_path`, `metric_current_image_path`)\n",
      "VALUES (10, 'RMSE', '2021-10-26', 341.36906629768293, 757.7865097594398, 'graficos/1dcnn_Chachapoyas_to_Juliaca_PERC/1dcnn_Chachapoyas_to_Juliaca_PERC-2021-10-26.png','graficos/1dcnn_Chachapoyas_to_Juliaca_PERC/current_day_1dcnn_Chachapoyas_to_Juliaca_PERC-2021-10-26.png');\n",
      "\n",
      "INSERT INTO `DBTesis`.`metrics` (`ml_model_id`, `metric_name`, `date`, `value`, `previous_value`, `metric_image_path`, `metric_current_image_path`)\n",
      "VALUES (10, 'RMSE', '2021-10-27', 626.0506845412508, 341.36906629768293, 'graficos/1dcnn_Chachapoyas_to_Juliaca_PERC/1dcnn_Chachapoyas_to_Juliaca_PERC-2021-10-27.png','graficos/1dcnn_Chachapoyas_to_Juliaca_PERC/current_day_1dcnn_Chachapoyas_to_Juliaca_PERC-2021-10-27.png');\n",
      "\n",
      "INSERT INTO `DBTesis`.`metrics` (`ml_model_id`, `metric_name`, `date`, `value`, `previous_value`, `metric_image_path`, `metric_current_image_path`)\n",
      "VALUES (10, 'RMSE', '2021-10-28', 341.0379715343642, 626.0506845412508, 'graficos/1dcnn_Chachapoyas_to_Juliaca_PERC/1dcnn_Chachapoyas_to_Juliaca_PERC-2021-10-28.png','graficos/1dcnn_Chachapoyas_to_Juliaca_PERC/current_day_1dcnn_Chachapoyas_to_Juliaca_PERC-2021-10-28.png');\n",
      "\n",
      "INSERT INTO `DBTesis`.`metrics` (`ml_model_id`, `metric_name`, `date`, `value`, `previous_value`, `metric_image_path`, `metric_current_image_path`)\n",
      "VALUES (10, 'RMSE', '2021-10-29', 234.31771787336544, 341.0379715343642, 'graficos/1dcnn_Chachapoyas_to_Juliaca_PERC/1dcnn_Chachapoyas_to_Juliaca_PERC-2021-10-29.png','graficos/1dcnn_Chachapoyas_to_Juliaca_PERC/current_day_1dcnn_Chachapoyas_to_Juliaca_PERC-2021-10-29.png');\n",
      "\n",
      "INSERT INTO `DBTesis`.`metrics` (`ml_model_id`, `metric_name`, `date`, `value`, `previous_value`, `metric_image_path`, `metric_current_image_path`)\n",
      "VALUES (10, 'RMSE', '2021-10-30', 408.2745560708946, 234.31771787336544, 'graficos/1dcnn_Chachapoyas_to_Juliaca_PERC/1dcnn_Chachapoyas_to_Juliaca_PERC-2021-10-30.png','graficos/1dcnn_Chachapoyas_to_Juliaca_PERC/current_day_1dcnn_Chachapoyas_to_Juliaca_PERC-2021-10-30.png');\n",
      "\n",
      "INSERT INTO `DBTesis`.`metrics` (`ml_model_id`, `metric_name`, `date`, `value`, `previous_value`, `metric_image_path`, `metric_current_image_path`)\n",
      "VALUES (10, 'RMSE', '2021-10-31', 504.65437543139205, 408.2745560708946, 'graficos/1dcnn_Chachapoyas_to_Juliaca_PERC/1dcnn_Chachapoyas_to_Juliaca_PERC-2021-10-31.png','graficos/1dcnn_Chachapoyas_to_Juliaca_PERC/current_day_1dcnn_Chachapoyas_to_Juliaca_PERC-2021-10-31.png');\n",
      "\n"
     ]
    }
   ],
   "source": [
    "#Imprimir comando INSERT INTO\n",
    "# \n",
    "print(stri_cachatojuliaca_cnn_PERC)\n",
    "\n"
   ]
  },
  {
   "cell_type": "code",
   "execution_count": null,
   "metadata": {},
   "outputs": [],
   "source": []
  },
  {
   "cell_type": "markdown",
   "metadata": {},
   "source": [
    "## Datos PERC Not Transfered"
   ]
  },
  {
   "cell_type": "code",
   "execution_count": 553,
   "metadata": {},
   "outputs": [
    {
     "name": "stdout",
     "output_type": "stream",
     "text": [
      "llenado_Arequipa_UNSA_CIGS_agg_day_hour.csv\n",
      "llenado_Arequipa_UNSA_HIT_agg_day_hour.csv\n",
      "llenado_Arequipa_UNSA_PERC_agg_day_hour.csv\n",
      "llenado_Chachapoyas_UNTRM_CIGS_agg_day_hour.csv\n",
      "llenado_Chachapoyas_UNTRM_HIT_agg_day_hour.csv\n",
      "llenado_Chachapoyas_UNTRM_PERC_agg_day_hour.csv\n",
      "llenado_Juliaca_UNAJ_CIGS_agg_day_hour.csv\n",
      "llenado_Juliaca_UNAJ_HIT_agg_day_hour.csv\n",
      "llenado_Juliaca_UNAJ_PERC_agg_day_hour.csv\n",
      "llenado_Lima_PUCP_CIGS_agg_day_hour.csv\n",
      "llenado_Lima_PUCP_HIT_agg_day_hour.csv\n",
      "llenado_Lima_PUCP_PERC_agg_day_hour.csv\n",
      "llenado_Tacna_UNJBG_CIGS_agg_day_hour.csv\n",
      "llenado_Tacna_UNJBG_HIT_agg_day_hour.csv\n",
      "llenado_Tacna_UNJBG_PERC_agg_day_hour.csv\n"
     ]
    }
   ],
   "source": [
    "!ls {data_path}"
   ]
  },
  {
   "cell_type": "markdown",
   "metadata": {},
   "source": [
    "### Lectura de datos"
   ]
  },
  {
   "cell_type": "code",
   "execution_count": 554,
   "metadata": {},
   "outputs": [],
   "source": [
    "data_file = data_path+'llenado_Juliaca_UNAJ_PERC_agg_day_hour.csv'\n",
    "model_path = 'saved_models/1dcnn_Juliaca_PERC'\n",
    "model = '1dcnn'\n",
    "technology = 'PERC'\n",
    "ubicacion = 'Juliaca'\n",
    "df_columns = ['Pac', 'Tmod']\n",
    "fecha_ini = '2021-02-01'\n",
    "fecha_fin = '2021-10-31'"
   ]
  },
  {
   "cell_type": "code",
   "execution_count": 555,
   "metadata": {},
   "outputs": [
    {
     "data": {
      "text/plain": [
       "'/data/dibanez/tesis/data_preprocesada/2.llenada/llenado_Juliaca_UNAJ_PERC_agg_day_hour.csv'"
      ]
     },
     "execution_count": 555,
     "metadata": {},
     "output_type": "execute_result"
    }
   ],
   "source": [
    "data_file"
   ]
  },
  {
   "cell_type": "code",
   "execution_count": 556,
   "metadata": {},
   "outputs": [
    {
     "name": "stdout",
     "output_type": "stream",
     "text": [
      "(2098, 10)\n"
     ]
    },
    {
     "data": {
      "text/html": [
       "<div>\n",
       "<style scoped>\n",
       "    .dataframe tbody tr th:only-of-type {\n",
       "        vertical-align: middle;\n",
       "    }\n",
       "\n",
       "    .dataframe tbody tr th {\n",
       "        vertical-align: top;\n",
       "    }\n",
       "\n",
       "    .dataframe thead th {\n",
       "        text-align: right;\n",
       "    }\n",
       "</style>\n",
       "<table border=\"1\" class=\"dataframe\">\n",
       "  <thead>\n",
       "    <tr style=\"text-align: right;\">\n",
       "      <th></th>\n",
       "      <th>index</th>\n",
       "      <th>Fecha</th>\n",
       "      <th>Tamb</th>\n",
       "      <th>Tmod</th>\n",
       "      <th>Irradiancia</th>\n",
       "      <th>Vdc</th>\n",
       "      <th>Idc</th>\n",
       "      <th>Paparente</th>\n",
       "      <th>Pac</th>\n",
       "      <th>Pdc</th>\n",
       "    </tr>\n",
       "  </thead>\n",
       "  <tbody>\n",
       "    <tr>\n",
       "      <th>0</th>\n",
       "      <td>0</td>\n",
       "      <td>2021-04-24 09:00:00</td>\n",
       "      <td>NaN</td>\n",
       "      <td>40.497167</td>\n",
       "      <td>NaN</td>\n",
       "      <td>168.688167</td>\n",
       "      <td>7.573600</td>\n",
       "      <td>1225.683333</td>\n",
       "      <td>696.25</td>\n",
       "      <td>1275.976130</td>\n",
       "    </tr>\n",
       "    <tr>\n",
       "      <th>1</th>\n",
       "      <td>1</td>\n",
       "      <td>2021-04-24 10:00:00</td>\n",
       "      <td>NaN</td>\n",
       "      <td>40.059667</td>\n",
       "      <td>NaN</td>\n",
       "      <td>167.365778</td>\n",
       "      <td>8.069064</td>\n",
       "      <td>1291.077778</td>\n",
       "      <td>1387.75</td>\n",
       "      <td>1350.538889</td>\n",
       "    </tr>\n",
       "    <tr>\n",
       "      <th>2</th>\n",
       "      <td>2</td>\n",
       "      <td>2021-04-24 11:00:00</td>\n",
       "      <td>NaN</td>\n",
       "      <td>45.897333</td>\n",
       "      <td>NaN</td>\n",
       "      <td>167.806583</td>\n",
       "      <td>8.491028</td>\n",
       "      <td>1363.922222</td>\n",
       "      <td>1149.00</td>\n",
       "      <td>1426.380556</td>\n",
       "    </tr>\n",
       "    <tr>\n",
       "      <th>3</th>\n",
       "      <td>3</td>\n",
       "      <td>2021-04-24 12:00:00</td>\n",
       "      <td>NaN</td>\n",
       "      <td>50.813667</td>\n",
       "      <td>NaN</td>\n",
       "      <td>168.334324</td>\n",
       "      <td>7.464297</td>\n",
       "      <td>1208.514198</td>\n",
       "      <td>1462.00</td>\n",
       "      <td>1266.764674</td>\n",
       "    </tr>\n",
       "    <tr>\n",
       "      <th>4</th>\n",
       "      <td>4</td>\n",
       "      <td>2021-04-24 13:00:00</td>\n",
       "      <td>NaN</td>\n",
       "      <td>45.737241</td>\n",
       "      <td>NaN</td>\n",
       "      <td>167.121979</td>\n",
       "      <td>6.946930</td>\n",
       "      <td>1111.436476</td>\n",
       "      <td>1420.75</td>\n",
       "      <td>1162.694625</td>\n",
       "    </tr>\n",
       "  </tbody>\n",
       "</table>\n",
       "</div>"
      ],
      "text/plain": [
       "   index               Fecha  Tamb       Tmod  Irradiancia         Vdc  \\\n",
       "0      0 2021-04-24 09:00:00   NaN  40.497167          NaN  168.688167   \n",
       "1      1 2021-04-24 10:00:00   NaN  40.059667          NaN  167.365778   \n",
       "2      2 2021-04-24 11:00:00   NaN  45.897333          NaN  167.806583   \n",
       "3      3 2021-04-24 12:00:00   NaN  50.813667          NaN  168.334324   \n",
       "4      4 2021-04-24 13:00:00   NaN  45.737241          NaN  167.121979   \n",
       "\n",
       "        Idc    Paparente      Pac          Pdc  \n",
       "0  7.573600  1225.683333   696.25  1275.976130  \n",
       "1  8.069064  1291.077778  1387.75  1350.538889  \n",
       "2  8.491028  1363.922222  1149.00  1426.380556  \n",
       "3  7.464297  1208.514198  1462.00  1266.764674  \n",
       "4  6.946930  1111.436476  1420.75  1162.694625  "
      ]
     },
     "execution_count": 556,
     "metadata": {},
     "output_type": "execute_result"
    }
   ],
   "source": [
    "df = pd.read_csv(data_file, parse_dates=True)\n",
    "df.Fecha = pd.to_datetime(df.Fecha)\n",
    "df=df.reset_index()\n",
    "print_df(df)"
   ]
  },
  {
   "cell_type": "code",
   "execution_count": 557,
   "metadata": {},
   "outputs": [
    {
     "name": "stdout",
     "output_type": "stream",
     "text": [
      "2021-04-24 09:00:00\n",
      "2021-10-31 16:00:00\n"
     ]
    }
   ],
   "source": [
    "print(df.Fecha.min())\n",
    "print(df.Fecha.max())"
   ]
  },
  {
   "cell_type": "code",
   "execution_count": 558,
   "metadata": {},
   "outputs": [
    {
     "data": {
      "text/plain": [
       "index          0.0\n",
       "Fecha          0.0\n",
       "Tamb           1.0\n",
       "Tmod           0.0\n",
       "Irradiancia    1.0\n",
       "Vdc            0.0\n",
       "Idc            0.0\n",
       "Paparente      0.0\n",
       "Pac            0.0\n",
       "Pdc            0.0\n",
       "dtype: float64"
      ]
     },
     "execution_count": 558,
     "metadata": {},
     "output_type": "execute_result"
    }
   ],
   "source": [
    "df.isna().sum()/len(df)"
   ]
  },
  {
   "cell_type": "markdown",
   "metadata": {},
   "source": [
    "### Preprocesamiento"
   ]
  },
  {
   "cell_type": "code",
   "execution_count": 559,
   "metadata": {},
   "outputs": [],
   "source": [
    "start = df.iloc[0]['Fecha']"
   ]
  },
  {
   "cell_type": "code",
   "execution_count": 560,
   "metadata": {},
   "outputs": [],
   "source": [
    "df['Fecha_cod'] = pd.date_range(freq='H', start=start, periods=len(df))\n",
    "# df.head(13)"
   ]
  },
  {
   "cell_type": "code",
   "execution_count": 561,
   "metadata": {},
   "outputs": [],
   "source": [
    "series_raw = TimeSeries.from_dataframe(df, 'Fecha_cod', df_columns)#,'Irradiancia'])#, freq='H')\n"
   ]
  },
  {
   "cell_type": "code",
   "execution_count": 562,
   "metadata": {},
   "outputs": [],
   "source": [
    "col_obj = 'Pac'"
   ]
  },
  {
   "cell_type": "code",
   "execution_count": 563,
   "metadata": {},
   "outputs": [
    {
     "data": {
      "image/png": "[encoded data removed]",
      "text/plain": [
       "<Figure size 432x288 with 1 Axes>"
      ]
     },
     "metadata": {
      "needs_background": "light"
     },
     "output_type": "display_data"
    }
   ],
   "source": [
    "series_raw[0:30][col_obj].plot()"
   ]
  },
  {
   "cell_type": "code",
   "execution_count": 564,
   "metadata": {},
   "outputs": [
    {
     "data": {
      "image/png": "[encoded data removed]",
      "text/plain": [
       "<Figure size 432x288 with 1 Axes>"
      ]
     },
     "metadata": {
      "needs_background": "light"
     },
     "output_type": "display_data"
    }
   ],
   "source": [
    "series_raw.plot()"
   ]
  },
  {
   "cell_type": "code",
   "execution_count": 565,
   "metadata": {},
   "outputs": [
    {
     "data": {
      "image/png": "[encoded data removed]",
      "text/plain": [
       "<Figure size 432x288 with 1 Axes>"
      ]
     },
     "metadata": {
      "needs_background": "light"
     },
     "output_type": "display_data"
    }
   ],
   "source": [
    "# TODO\n",
    "filler = MissingValuesFiller()\n",
    "series = filler.transform(series_raw, method='linear')\n",
    "series.plot()"
   ]
  },
  {
   "cell_type": "code",
   "execution_count": 566,
   "metadata": {},
   "outputs": [
    {
     "data": {
      "text/plain": [
       "0"
      ]
     },
     "execution_count": 566,
     "metadata": {},
     "output_type": "execute_result"
    }
   ],
   "source": [
    "(series.values() != series_raw.values()).sum()"
   ]
  },
  {
   "cell_type": "code",
   "execution_count": 567,
   "metadata": {},
   "outputs": [],
   "source": [
    "# len(series)"
   ]
  },
  {
   "cell_type": "code",
   "execution_count": 568,
   "metadata": {},
   "outputs": [],
   "source": [
    "# new_data = pd.DataFrame(series.values(), columns=df_columns)\n",
    "# new_data"
   ]
  },
  {
   "cell_type": "code",
   "execution_count": 569,
   "metadata": {},
   "outputs": [],
   "source": [
    "# df[df_columns] = new_data\n",
    "# df.head()"
   ]
  },
  {
   "cell_type": "code",
   "execution_count": 570,
   "metadata": {},
   "outputs": [
    {
     "data": {
      "text/plain": [
       "index             0\n",
       "Fecha             0\n",
       "Tamb           2098\n",
       "Tmod              0\n",
       "Irradiancia    2098\n",
       "Vdc               0\n",
       "Idc               0\n",
       "Paparente         0\n",
       "Pac               0\n",
       "Pdc               0\n",
       "Fecha_cod         0\n",
       "dtype: int64"
      ]
     },
     "execution_count": 570,
     "metadata": {},
     "output_type": "execute_result"
    }
   ],
   "source": [
    "df.isna().sum()"
   ]
  },
  {
   "cell_type": "markdown",
   "metadata": {},
   "source": [
    "## Predicción CNN"
   ]
  },
  {
   "cell_type": "code",
   "execution_count": 571,
   "metadata": {},
   "outputs": [
    {
     "data": {
      "text/plain": [
       "'saved_models/1dcnn_Juliaca_PERC'"
      ]
     },
     "execution_count": 571,
     "metadata": {},
     "output_type": "execute_result"
    }
   ],
   "source": [
    "model_path"
   ]
  },
  {
   "cell_type": "code",
   "execution_count": 572,
   "metadata": {},
   "outputs": [
    {
     "name": "stdout",
     "output_type": "stream",
     "text": [
      "Model: \"sequential_1\"\n",
      "_________________________________________________________________\n",
      "Layer (type)                 Output Shape              Param #   \n",
      "=================================================================\n",
      "conv1d_1 (Conv1D)            (None, 10, 64)            320       \n",
      "_________________________________________________________________\n",
      "max_pooling1d_1 (MaxPooling1 (None, 5, 64)             0         \n",
      "_________________________________________________________________\n",
      "flatten_1 (Flatten)          (None, 320)               0         \n",
      "_________________________________________________________________\n",
      "dense_1 (Dense)              (None, 50)                16050     \n",
      "_________________________________________________________________\n",
      "dense_2 (Dense)              (None, 11)                561       \n",
      "=================================================================\n",
      "Total params: 16,931\n",
      "Trainable params: 16,931\n",
      "Non-trainable params: 0\n",
      "_________________________________________________________________\n"
     ]
    }
   ],
   "source": [
    "new_model = tf.keras.models.load_model(model_path)\n",
    "new_model.summary()"
   ]
  },
  {
   "cell_type": "code",
   "execution_count": 573,
   "metadata": {},
   "outputs": [
    {
     "name": "stdout",
     "output_type": "stream",
     "text": [
      "(2098, 10)\n"
     ]
    },
    {
     "data": {
      "text/html": [
       "<div>\n",
       "<style scoped>\n",
       "    .dataframe tbody tr th:only-of-type {\n",
       "        vertical-align: middle;\n",
       "    }\n",
       "\n",
       "    .dataframe tbody tr th {\n",
       "        vertical-align: top;\n",
       "    }\n",
       "\n",
       "    .dataframe thead th {\n",
       "        text-align: right;\n",
       "    }\n",
       "</style>\n",
       "<table border=\"1\" class=\"dataframe\">\n",
       "  <thead>\n",
       "    <tr style=\"text-align: right;\">\n",
       "      <th></th>\n",
       "      <th>index</th>\n",
       "      <th>Tamb</th>\n",
       "      <th>Tmod</th>\n",
       "      <th>Irradiancia</th>\n",
       "      <th>Vdc</th>\n",
       "      <th>Idc</th>\n",
       "      <th>Paparente</th>\n",
       "      <th>Pac</th>\n",
       "      <th>Pdc</th>\n",
       "      <th>Fecha_cod</th>\n",
       "    </tr>\n",
       "    <tr>\n",
       "      <th>Fecha</th>\n",
       "      <th></th>\n",
       "      <th></th>\n",
       "      <th></th>\n",
       "      <th></th>\n",
       "      <th></th>\n",
       "      <th></th>\n",
       "      <th></th>\n",
       "      <th></th>\n",
       "      <th></th>\n",
       "      <th></th>\n",
       "    </tr>\n",
       "  </thead>\n",
       "  <tbody>\n",
       "    <tr>\n",
       "      <th>2021-04-24 09:00:00</th>\n",
       "      <td>0</td>\n",
       "      <td>NaN</td>\n",
       "      <td>40.497167</td>\n",
       "      <td>NaN</td>\n",
       "      <td>168.688167</td>\n",
       "      <td>7.573600</td>\n",
       "      <td>1225.683333</td>\n",
       "      <td>696.25</td>\n",
       "      <td>1275.976130</td>\n",
       "      <td>2021-04-24 09:00:00</td>\n",
       "    </tr>\n",
       "    <tr>\n",
       "      <th>2021-04-24 10:00:00</th>\n",
       "      <td>1</td>\n",
       "      <td>NaN</td>\n",
       "      <td>40.059667</td>\n",
       "      <td>NaN</td>\n",
       "      <td>167.365778</td>\n",
       "      <td>8.069064</td>\n",
       "      <td>1291.077778</td>\n",
       "      <td>1387.75</td>\n",
       "      <td>1350.538889</td>\n",
       "      <td>2021-04-24 10:00:00</td>\n",
       "    </tr>\n",
       "    <tr>\n",
       "      <th>2021-04-24 11:00:00</th>\n",
       "      <td>2</td>\n",
       "      <td>NaN</td>\n",
       "      <td>45.897333</td>\n",
       "      <td>NaN</td>\n",
       "      <td>167.806583</td>\n",
       "      <td>8.491028</td>\n",
       "      <td>1363.922222</td>\n",
       "      <td>1149.00</td>\n",
       "      <td>1426.380556</td>\n",
       "      <td>2021-04-24 11:00:00</td>\n",
       "    </tr>\n",
       "    <tr>\n",
       "      <th>2021-04-24 12:00:00</th>\n",
       "      <td>3</td>\n",
       "      <td>NaN</td>\n",
       "      <td>50.813667</td>\n",
       "      <td>NaN</td>\n",
       "      <td>168.334324</td>\n",
       "      <td>7.464297</td>\n",
       "      <td>1208.514198</td>\n",
       "      <td>1462.00</td>\n",
       "      <td>1266.764674</td>\n",
       "      <td>2021-04-24 12:00:00</td>\n",
       "    </tr>\n",
       "    <tr>\n",
       "      <th>2021-04-24 13:00:00</th>\n",
       "      <td>4</td>\n",
       "      <td>NaN</td>\n",
       "      <td>45.737241</td>\n",
       "      <td>NaN</td>\n",
       "      <td>167.121979</td>\n",
       "      <td>6.946930</td>\n",
       "      <td>1111.436476</td>\n",
       "      <td>1420.75</td>\n",
       "      <td>1162.694625</td>\n",
       "      <td>2021-04-24 13:00:00</td>\n",
       "    </tr>\n",
       "  </tbody>\n",
       "</table>\n",
       "</div>"
      ],
      "text/plain": [
       "                     index  Tamb       Tmod  Irradiancia         Vdc  \\\n",
       "Fecha                                                                  \n",
       "2021-04-24 09:00:00      0   NaN  40.497167          NaN  168.688167   \n",
       "2021-04-24 10:00:00      1   NaN  40.059667          NaN  167.365778   \n",
       "2021-04-24 11:00:00      2   NaN  45.897333          NaN  167.806583   \n",
       "2021-04-24 12:00:00      3   NaN  50.813667          NaN  168.334324   \n",
       "2021-04-24 13:00:00      4   NaN  45.737241          NaN  167.121979   \n",
       "\n",
       "                          Idc    Paparente      Pac          Pdc  \\\n",
       "Fecha                                                              \n",
       "2021-04-24 09:00:00  7.573600  1225.683333   696.25  1275.976130   \n",
       "2021-04-24 10:00:00  8.069064  1291.077778  1387.75  1350.538889   \n",
       "2021-04-24 11:00:00  8.491028  1363.922222  1149.00  1426.380556   \n",
       "2021-04-24 12:00:00  7.464297  1208.514198  1462.00  1266.764674   \n",
       "2021-04-24 13:00:00  6.946930  1111.436476  1420.75  1162.694625   \n",
       "\n",
       "                              Fecha_cod  \n",
       "Fecha                                    \n",
       "2021-04-24 09:00:00 2021-04-24 09:00:00  \n",
       "2021-04-24 10:00:00 2021-04-24 10:00:00  \n",
       "2021-04-24 11:00:00 2021-04-24 11:00:00  \n",
       "2021-04-24 12:00:00 2021-04-24 12:00:00  \n",
       "2021-04-24 13:00:00 2021-04-24 13:00:00  "
      ]
     },
     "execution_count": 573,
     "metadata": {},
     "output_type": "execute_result"
    }
   ],
   "source": [
    "df_f = df.set_index('Fecha')\n",
    "print_df(df_f)"
   ]
  },
  {
   "cell_type": "code",
   "execution_count": 574,
   "metadata": {},
   "outputs": [
    {
     "data": {
      "text/plain": [
       "array([[ 696.25      ,   40.49716667],\n",
       "       [1387.75      ,   40.05966667],\n",
       "       [1149.        ,   45.89733333],\n",
       "       [1462.        ,   50.81366667],\n",
       "       [1420.75      ,   45.73724138],\n",
       "       [1234.        ,   44.03833333],\n",
       "       [ 896.        ,   35.62728814],\n",
       "       [ 343.75      ,   20.45216667]])"
      ]
     },
     "execution_count": 574,
     "metadata": {},
     "output_type": "execute_result"
    }
   ],
   "source": [
    "df_f[\"2021-04-24\"][df_columns].values"
   ]
  },
  {
   "cell_type": "code",
   "execution_count": 575,
   "metadata": {},
   "outputs": [],
   "source": [
    "fecha_ini = '2021-04-25'"
   ]
  },
  {
   "cell_type": "code",
   "execution_count": 576,
   "metadata": {},
   "outputs": [
    {
     "data": {
      "text/html": [
       "<div>\n",
       "<style scoped>\n",
       "    .dataframe tbody tr th:only-of-type {\n",
       "        vertical-align: middle;\n",
       "    }\n",
       "\n",
       "    .dataframe tbody tr th {\n",
       "        vertical-align: top;\n",
       "    }\n",
       "\n",
       "    .dataframe thead th {\n",
       "        text-align: right;\n",
       "    }\n",
       "</style>\n",
       "<table border=\"1\" class=\"dataframe\">\n",
       "  <thead>\n",
       "    <tr style=\"text-align: right;\">\n",
       "      <th></th>\n",
       "      <th>Pac</th>\n",
       "      <th>Tmod</th>\n",
       "      <th>Fecha</th>\n",
       "      <th>Date</th>\n",
       "    </tr>\n",
       "    <tr>\n",
       "      <th>Fecha</th>\n",
       "      <th></th>\n",
       "      <th></th>\n",
       "      <th></th>\n",
       "      <th></th>\n",
       "    </tr>\n",
       "  </thead>\n",
       "  <tbody>\n",
       "    <tr>\n",
       "      <th>2021-04-25 06:00:00</th>\n",
       "      <td>220.105263</td>\n",
       "      <td>2.292203</td>\n",
       "      <td>2021-04-25 06:00:00</td>\n",
       "      <td>2021-04-25</td>\n",
       "    </tr>\n",
       "    <tr>\n",
       "      <th>2021-04-25 07:00:00</th>\n",
       "      <td>655.000000</td>\n",
       "      <td>18.341695</td>\n",
       "      <td>2021-04-25 07:00:00</td>\n",
       "      <td>2021-04-25</td>\n",
       "    </tr>\n",
       "    <tr>\n",
       "      <th>2021-04-25 08:00:00</th>\n",
       "      <td>1016.450000</td>\n",
       "      <td>27.616949</td>\n",
       "      <td>2021-04-25 08:00:00</td>\n",
       "      <td>2021-04-25</td>\n",
       "    </tr>\n",
       "    <tr>\n",
       "      <th>2021-04-25 09:00:00</th>\n",
       "      <td>1283.750000</td>\n",
       "      <td>40.497167</td>\n",
       "      <td>2021-04-25 09:00:00</td>\n",
       "      <td>2021-04-25</td>\n",
       "    </tr>\n",
       "    <tr>\n",
       "      <th>2021-04-25 10:00:00</th>\n",
       "      <td>1352.283333</td>\n",
       "      <td>40.059667</td>\n",
       "      <td>2021-04-25 10:00:00</td>\n",
       "      <td>2021-04-25</td>\n",
       "    </tr>\n",
       "    <tr>\n",
       "      <th>...</th>\n",
       "      <td>...</td>\n",
       "      <td>...</td>\n",
       "      <td>...</td>\n",
       "      <td>...</td>\n",
       "    </tr>\n",
       "    <tr>\n",
       "      <th>2021-10-31 12:00:00</th>\n",
       "      <td>1416.250000</td>\n",
       "      <td>40.932926</td>\n",
       "      <td>2021-10-31 12:00:00</td>\n",
       "      <td>2021-10-31</td>\n",
       "    </tr>\n",
       "    <tr>\n",
       "      <th>2021-10-31 13:00:00</th>\n",
       "      <td>738.500000</td>\n",
       "      <td>36.109214</td>\n",
       "      <td>2021-10-31 13:00:00</td>\n",
       "      <td>2021-10-31</td>\n",
       "    </tr>\n",
       "    <tr>\n",
       "      <th>2021-10-31 14:00:00</th>\n",
       "      <td>362.250000</td>\n",
       "      <td>29.766405</td>\n",
       "      <td>2021-10-31 14:00:00</td>\n",
       "      <td>2021-10-31</td>\n",
       "    </tr>\n",
       "    <tr>\n",
       "      <th>2021-10-31 15:00:00</th>\n",
       "      <td>177.500000</td>\n",
       "      <td>21.502647</td>\n",
       "      <td>2021-10-31 15:00:00</td>\n",
       "      <td>2021-10-31</td>\n",
       "    </tr>\n",
       "    <tr>\n",
       "      <th>2021-10-31 16:00:00</th>\n",
       "      <td>232.750000</td>\n",
       "      <td>15.208282</td>\n",
       "      <td>2021-10-31 16:00:00</td>\n",
       "      <td>2021-10-31</td>\n",
       "    </tr>\n",
       "  </tbody>\n",
       "</table>\n",
       "<p>2090 rows × 4 columns</p>\n",
       "</div>"
      ],
      "text/plain": [
       "                             Pac       Tmod               Fecha        Date\n",
       "Fecha                                                                      \n",
       "2021-04-25 06:00:00   220.105263   2.292203 2021-04-25 06:00:00  2021-04-25\n",
       "2021-04-25 07:00:00   655.000000  18.341695 2021-04-25 07:00:00  2021-04-25\n",
       "2021-04-25 08:00:00  1016.450000  27.616949 2021-04-25 08:00:00  2021-04-25\n",
       "2021-04-25 09:00:00  1283.750000  40.497167 2021-04-25 09:00:00  2021-04-25\n",
       "2021-04-25 10:00:00  1352.283333  40.059667 2021-04-25 10:00:00  2021-04-25\n",
       "...                          ...        ...                 ...         ...\n",
       "2021-10-31 12:00:00  1416.250000  40.932926 2021-10-31 12:00:00  2021-10-31\n",
       "2021-10-31 13:00:00   738.500000  36.109214 2021-10-31 13:00:00  2021-10-31\n",
       "2021-10-31 14:00:00   362.250000  29.766405 2021-10-31 14:00:00  2021-10-31\n",
       "2021-10-31 15:00:00   177.500000  21.502647 2021-10-31 15:00:00  2021-10-31\n",
       "2021-10-31 16:00:00   232.750000  15.208282 2021-10-31 16:00:00  2021-10-31\n",
       "\n",
       "[2090 rows x 4 columns]"
      ]
     },
     "execution_count": 576,
     "metadata": {},
     "output_type": "execute_result"
    }
   ],
   "source": [
    "df_t = df_f[fecha_ini: fecha_fin][df_columns]\n",
    "df_t['Fecha'] = df_t.index\n",
    "df_t['Date'] = df_t.index.date\n",
    "df_t"
   ]
  },
  {
   "cell_type": "code",
   "execution_count": 577,
   "metadata": {},
   "outputs": [],
   "source": [
    "# df_t[df_columns]"
   ]
  },
  {
   "cell_type": "code",
   "execution_count": 578,
   "metadata": {},
   "outputs": [
    {
     "name": "stdout",
     "output_type": "stream",
     "text": [
      "[[219.06866 350.85773 534.771   623.63513 707.1924  709.91095 668.348\n",
      "  669.5811  612.7576  478.53146 396.81577]]\n"
     ]
    },
    {
     "data": {
      "text/plain": [
       "Fecha\n",
       "2021-04-26 06:00:00    219.068665\n",
       "2021-04-26 07:00:00    350.857727\n",
       "2021-04-26 08:00:00    534.770996\n",
       "2021-04-26 09:00:00    623.635132\n",
       "2021-04-26 10:00:00    707.192383\n",
       "                          ...    \n",
       "2021-10-31 12:00:00    934.012207\n",
       "2021-10-31 13:00:00    798.578186\n",
       "2021-10-31 14:00:00    565.235962\n",
       "2021-10-31 15:00:00    215.200684\n",
       "2021-10-31 16:00:00     34.837223\n",
       "Length: 2079, dtype: float32"
      ]
     },
     "execution_count": 578,
     "metadata": {},
     "output_type": "execute_result"
    }
   ],
   "source": [
    "series_t = None\n",
    "for dtime in list(df_t.Date.drop_duplicates())[:-1]:\n",
    "#     print(dtime)\n",
    "    x_input = df_t[str(dtime)][df_columns].values.reshape((1,11,2)) \n",
    "    pred = new_model.predict(x_input)\n",
    "    if series_t is None:\n",
    "        print(pred)\n",
    "        series_t = pd.Series(pred.ravel(), df_t[str(dtime+ dt.timedelta(days=1))].index)\n",
    "    else :\n",
    "        series_t = series_t.append(pd.Series(pred.ravel(), df_t[str(dtime+ dt.timedelta(days=1))].index))\n",
    "series_t"
   ]
  },
  {
   "cell_type": "code",
   "execution_count": 579,
   "metadata": {},
   "outputs": [],
   "source": [
    "df_t['pred']= series_t"
   ]
  },
  {
   "cell_type": "code",
   "execution_count": 580,
   "metadata": {},
   "outputs": [
    {
     "data": {
      "text/plain": [
       "'graficos/1dcnn_Juliaca_PERC'"
      ]
     },
     "execution_count": 580,
     "metadata": {},
     "output_type": "execute_result"
    }
   ],
   "source": [
    "image_dir =  f'graficos/{model_path.split(\"/\")[-1]}'\n",
    "image_dir"
   ]
  },
  {
   "cell_type": "code",
   "execution_count": 581,
   "metadata": {},
   "outputs": [
    {
     "name": "stdout",
     "output_type": "stream",
     "text": [
      "mkdir: cannot create directory ‘graficos’: File exists\n"
     ]
    }
   ],
   "source": [
    "!mkdir graficos"
   ]
  },
  {
   "cell_type": "code",
   "execution_count": 582,
   "metadata": {},
   "outputs": [],
   "source": [
    "!mkdir {image_dir}"
   ]
  },
  {
   "cell_type": "code",
   "execution_count": 583,
   "metadata": {},
   "outputs": [
    {
     "name": "stdout",
     "output_type": "stream",
     "text": [
      "[('2021-04-29', 'graficos/1dcnn_Juliaca_PERC/1dcnn_Juliaca_PERC-2021-04-29.png', 'graficos/1dcnn_Juliaca_PERC/current_day_1dcnn_Juliaca_PERC-2021-04-29.png', 132.9577639529364, 496.08675906893643), ('2021-04-30', 'graficos/1dcnn_Juliaca_PERC/1dcnn_Juliaca_PERC-2021-04-30.png', 'graficos/1dcnn_Juliaca_PERC/current_day_1dcnn_Juliaca_PERC-2021-04-30.png', 166.60863463470454, 132.9577639529364)]\n",
      "CPU times: user 1min 29s, sys: 0 ns, total: 1min 29s\n",
      "Wall time: 1min 28s\n"
     ]
    },
    {
     "data": {
      "text/plain": [
       "186"
      ]
     },
     "execution_count": 583,
     "metadata": {},
     "output_type": "execute_result"
    },
    {
     "data": {
      "text/plain": [
       "<Figure size 432x288 with 0 Axes>"
      ]
     },
     "metadata": {},
     "output_type": "display_data"
    }
   ],
   "source": [
    "%%time\n",
    "ls = []\n",
    "for dtime in list(df_t.Date.drop_duplicates())[4:]:\n",
    "    \n",
    "    #previous day fig\n",
    "#     print(dtime)\n",
    "    pac = df_t[str(dtime)]['Pac']\n",
    "    pred = df_t[str(dtime)]['pred']\n",
    "    pac_1 = df_t[str(dtime- dt.timedelta(days=1))]['Pac']\n",
    "    pred_1 = df_t[str(dtime- dt.timedelta(days=1))]['pred']\n",
    "    pac_2 = df_t[str(dtime- dt.timedelta(days=2))]['Pac']\n",
    "    pred_2 = df_t[str(dtime- dt.timedelta(days=2))]['pred']\n",
    "#     pac_3 = df_t[str(dtime- dt.timedelta(days=3))]['Pac']\n",
    "#     pred_3 = df_t[str(dtime- dt.timedelta(days=3))]['pred']\n",
    "    \n",
    "#     pac_3.plot(color='r', marker='o', markersize=4)\n",
    "#     pred_3.plot(color='g', marker='o', markersize=4)\n",
    "    pac_2.plot(color='r', marker='o', markersize=4)\n",
    "    pred_2.plot(color='g', marker='o', markersize=4)\n",
    "    pac_1.plot(color='r', marker='o', markersize=4)\n",
    "    pred_1.plot(color='g', marker='o', markersize=4)\n",
    "    pac.plot(color='r', marker='o', markersize=4)\n",
    "    pred.plot(color='g', marker='o', markersize=4)\n",
    "    \n",
    "    plt.legend(['Pac real', 'Pac predicho'])\n",
    "    plt.ylabel('Pac (W)')\n",
    "    plt.xlabel('Fecha y hora')\n",
    "    name = f'graficos/{model_path.split(\"/\")[-1]}/{model_path.split(\"/\")[-1]}-{str(dtime)}.png'\n",
    "    plt.savefig(name,bbox_inches='tight')\n",
    "#     plt.savefig('images/p3.png',bbox_inches='tight')\n",
    "    plt.clf()\n",
    "    \n",
    "    #current day fig\n",
    "    \n",
    "    pac = df_t[str(dtime)]['Pac']\n",
    "    pred = df_t[str(dtime)]['pred']\n",
    "    pac_1 = df_t[str(dtime- dt.timedelta(days=1))]['Pac']\n",
    "    pred_1 = df_t[str(dtime- dt.timedelta(days=1))]['pred']\n",
    "    pac_2 = df_t[str(dtime- dt.timedelta(days=2))]['Pac']\n",
    "    pred_2 = df_t[str(dtime- dt.timedelta(days=2))]['pred']\n",
    "#     pac_3 = df_t[str(dtime- dt.timedelta(days=3))]['Pac']\n",
    "#     pred_3 = df_t[str(dtime- dt.timedelta(days=3))]['pred']\n",
    "    \n",
    "#     pac_3.plot(color='r', marker='o', markersize=4)\n",
    "#     pred_3.plot(color='g', marker='o', markersize=4)\n",
    "    pac_2.plot(color='r', marker='o', markersize=4)\n",
    "    pred_2.plot(color='g', marker='o', markersize=4)\n",
    "    pac_1.plot(color='r', marker='o', markersize=4)\n",
    "    pred_1.plot(color='g', marker='o', markersize=4)\n",
    "#     pac.plot(color='r', marker='o', markersize=4)\n",
    "    pred.plot(color='g', marker='o', markersize=4)\n",
    "    \n",
    "    plt.legend(['Pac real', 'Pac predicho'])\n",
    "    plt.ylabel('Pac (W)')\n",
    "    plt.xlabel('Fecha y hora')\n",
    "    name_current_day = f'graficos/{model_path.split(\"/\")[-1]}/current_day_{model_path.split(\"/\")[-1]}-{str(dtime)}.png'\n",
    "    \n",
    "    plt.savefig(name_current_day,bbox_inches='tight')\n",
    "    plt.clf()\n",
    "\n",
    "    ls.append((str(dtime), name, name_current_day,\\\n",
    "               math.sqrt(mean_squared_error(pac, pred)),\\\n",
    "               math.sqrt(mean_squared_error(pac_1, pred_1))))\n",
    "#     break\n",
    "print(ls[:2])\n",
    "len(ls)\n"
   ]
  },
  {
   "cell_type": "code",
   "execution_count": 584,
   "metadata": {},
   "outputs": [],
   "source": [
    "# list(df_t.Date.drop_duplicates())[1:-1]"
   ]
  },
  {
   "cell_type": "code",
   "execution_count": 585,
   "metadata": {},
   "outputs": [],
   "source": [
    "# ls"
   ]
  },
  {
   "cell_type": "code",
   "execution_count": 586,
   "metadata": {},
   "outputs": [],
   "source": [
    "ml_model_id = 9\n",
    "metric_name = 'RMSE'\n",
    "date = ''\n",
    "value = ''\n",
    "previous_value = ''\n",
    "imag_path = ''"
   ]
  },
  {
   "cell_type": "code",
   "execution_count": 587,
   "metadata": {},
   "outputs": [
    {
     "data": {
      "text/plain": [
       "\"\\nINSERT INTO `DBTesis`.`metrics` (`ml_model_id`, `metric_name`, `date`, `value`, `previous_value`, `metric_image_path`, `metric_current_image_path`)\\nVALUES ('f', 'f', 'f', 'f', 'f', 'f','f');\\n\""
      ]
     },
     "execution_count": 587,
     "metadata": {},
     "output_type": "execute_result"
    }
   ],
   "source": [
    "\"\"\"\n",
    "INSERT INTO `DBTesis`.`metrics` (`ml_model_id`, `metric_name`, `date`, `value`, `previous_value`, `metric_image_path`, `metric_current_image_path`)\n",
    "VALUES ('f', 'f', 'f', 'f', 'f', 'f','f');\n",
    "\"\"\""
   ]
  },
  {
   "cell_type": "code",
   "execution_count": 588,
   "metadata": {},
   "outputs": [],
   "source": [
    "stri = ''\n",
    "for l in ls:\n",
    "    date = l[0]\n",
    "    imag_path=l[1]\n",
    "    current_img_path = l[2]\n",
    "    value=l[3]\n",
    "    previous_value=l[4]\n",
    "    stri +=f\"\"\"\n",
    "INSERT INTO `DBTesis`.`metrics` (`ml_model_id`, `metric_name`, `date`, `value`, `previous_value`, `metric_image_path`, `metric_current_image_path`)\n",
    "VALUES ({ml_model_id}, '{metric_name}', '{date}', {value}, {previous_value}, '{imag_path}','{current_img_path}');\n",
    "\"\"\""
   ]
  },
  {
   "cell_type": "code",
   "execution_count": 589,
   "metadata": {},
   "outputs": [
    {
     "data": {
      "text/plain": [
       "186"
      ]
     },
     "execution_count": 589,
     "metadata": {},
     "output_type": "execute_result"
    }
   ],
   "source": [
    "len(stri.split('\\n\\n'))"
   ]
  },
  {
   "cell_type": "code",
   "execution_count": 590,
   "metadata": {},
   "outputs": [],
   "source": [
    "stri_cachatojuliaca_cnn_PERC = stri"
   ]
  },
  {
   "cell_type": "code",
   "execution_count": 591,
   "metadata": {},
   "outputs": [
    {
     "name": "stdout",
     "output_type": "stream",
     "text": [
      "\n",
      "INSERT INTO `DBTesis`.`metrics` (`ml_model_id`, `metric_name`, `date`, `value`, `previous_value`, `metric_image_path`, `metric_current_image_path`)\n",
      "VALUES (9, 'RMSE', '2021-04-29', 132.9577639529364, 496.08675906893643, 'graficos/1dcnn_Juliaca_PERC/1dcnn_Juliaca_PERC-2021-04-29.png','graficos/1dcnn_Juliaca_PERC/current_day_1dcnn_Juliaca_PERC-2021-04-29.png');\n",
      "\n",
      "INSERT INTO `DBTesis`.`metrics` (`ml_model_id`, `metric_name`, `date`, `value`, `previous_value`, `metric_image_path`, `metric_current_image_path`)\n",
      "VALUES (9, 'RMSE', '2021-04-30', 166.60863463470454, 132.9577639529364, 'graficos/1dcnn_Juliaca_PERC/1dcnn_Juliaca_PERC-2021-04-30.png','graficos/1dcnn_Juliaca_PERC/current_day_1dcnn_Juliaca_PERC-2021-04-30.png');\n",
      "\n",
      "INSERT INTO `DBTesis`.`metrics` (`ml_model_id`, `metric_name`, `date`, `value`, `previous_value`, `metric_image_path`, `metric_current_image_path`)\n",
      "VALUES (9, 'RMSE', '2021-05-01', 247.47882823287375, 166.60863463470454, 'graficos/1dcnn_Juliaca_PERC/1dcnn_Juliaca_PERC-2021-05-01.png','graficos/1dcnn_Juliaca_PERC/current_day_1dcnn_Juliaca_PERC-2021-05-01.png');\n",
      "\n",
      "INSERT INTO `DBTesis`.`metrics` (`ml_model_id`, `metric_name`, `date`, `value`, `previous_value`, `metric_image_path`, `metric_current_image_path`)\n",
      "VALUES (9, 'RMSE', '2021-05-02', 195.80862045165668, 247.47882823287375, 'graficos/1dcnn_Juliaca_PERC/1dcnn_Juliaca_PERC-2021-05-02.png','graficos/1dcnn_Juliaca_PERC/current_day_1dcnn_Juliaca_PERC-2021-05-02.png');\n",
      "\n",
      "INSERT INTO `DBTesis`.`metrics` (`ml_model_id`, `metric_name`, `date`, `value`, `previous_value`, `metric_image_path`, `metric_current_image_path`)\n",
      "VALUES (9, 'RMSE', '2021-05-03', 250.08618132774765, 195.80862045165668, 'graficos/1dcnn_Juliaca_PERC/1dcnn_Juliaca_PERC-2021-05-03.png','graficos/1dcnn_Juliaca_PERC/current_day_1dcnn_Juliaca_PERC-2021-05-03.png');\n",
      "\n",
      "INSERT INTO `DBTesis`.`metrics` (`ml_model_id`, `metric_name`, `date`, `value`, `previous_value`, `metric_image_path`, `metric_current_image_path`)\n",
      "VALUES (9, 'RMSE', '2021-05-04', 151.16126406934313, 250.08618132774765, 'graficos/1dcnn_Juliaca_PERC/1dcnn_Juliaca_PERC-2021-05-04.png','graficos/1dcnn_Juliaca_PERC/current_day_1dcnn_Juliaca_PERC-2021-05-04.png');\n",
      "\n",
      "INSERT INTO `DBTesis`.`metrics` (`ml_model_id`, `metric_name`, `date`, `value`, `previous_value`, `metric_image_path`, `metric_current_image_path`)\n",
      "VALUES (9, 'RMSE', '2021-05-05', 155.75694671485388, 151.16126406934313, 'graficos/1dcnn_Juliaca_PERC/1dcnn_Juliaca_PERC-2021-05-05.png','graficos/1dcnn_Juliaca_PERC/current_day_1dcnn_Juliaca_PERC-2021-05-05.png');\n",
      "\n",
      "INSERT INTO `DBTesis`.`metrics` (`ml_model_id`, `metric_name`, `date`, `value`, `previous_value`, `metric_image_path`, `metric_current_image_path`)\n",
      "VALUES (9, 'RMSE', '2021-05-06', 276.7091315004362, 155.75694671485388, 'graficos/1dcnn_Juliaca_PERC/1dcnn_Juliaca_PERC-2021-05-06.png','graficos/1dcnn_Juliaca_PERC/current_day_1dcnn_Juliaca_PERC-2021-05-06.png');\n",
      "\n",
      "INSERT INTO `DBTesis`.`metrics` (`ml_model_id`, `metric_name`, `date`, `value`, `previous_value`, `metric_image_path`, `metric_current_image_path`)\n",
      "VALUES (9, 'RMSE', '2021-05-07', 247.25774702750107, 276.7091315004362, 'graficos/1dcnn_Juliaca_PERC/1dcnn_Juliaca_PERC-2021-05-07.png','graficos/1dcnn_Juliaca_PERC/current_day_1dcnn_Juliaca_PERC-2021-05-07.png');\n",
      "\n",
      "INSERT INTO `DBTesis`.`metrics` (`ml_model_id`, `metric_name`, `date`, `value`, `previous_value`, `metric_image_path`, `metric_current_image_path`)\n",
      "VALUES (9, 'RMSE', '2021-05-08', 363.88224780528367, 247.25774702750107, 'graficos/1dcnn_Juliaca_PERC/1dcnn_Juliaca_PERC-2021-05-08.png','graficos/1dcnn_Juliaca_PERC/current_day_1dcnn_Juliaca_PERC-2021-05-08.png');\n",
      "\n",
      "INSERT INTO `DBTesis`.`metrics` (`ml_model_id`, `metric_name`, `date`, `value`, `previous_value`, `metric_image_path`, `metric_current_image_path`)\n",
      "VALUES (9, 'RMSE', '2021-05-09', 284.4625048482252, 363.88224780528367, 'graficos/1dcnn_Juliaca_PERC/1dcnn_Juliaca_PERC-2021-05-09.png','graficos/1dcnn_Juliaca_PERC/current_day_1dcnn_Juliaca_PERC-2021-05-09.png');\n",
      "\n",
      "INSERT INTO `DBTesis`.`metrics` (`ml_model_id`, `metric_name`, `date`, `value`, `previous_value`, `metric_image_path`, `metric_current_image_path`)\n",
      "VALUES (9, 'RMSE', '2021-05-10', 222.92402073800744, 284.4625048482252, 'graficos/1dcnn_Juliaca_PERC/1dcnn_Juliaca_PERC-2021-05-10.png','graficos/1dcnn_Juliaca_PERC/current_day_1dcnn_Juliaca_PERC-2021-05-10.png');\n",
      "\n",
      "INSERT INTO `DBTesis`.`metrics` (`ml_model_id`, `metric_name`, `date`, `value`, `previous_value`, `metric_image_path`, `metric_current_image_path`)\n",
      "VALUES (9, 'RMSE', '2021-05-11', 299.48030712662415, 222.92402073800744, 'graficos/1dcnn_Juliaca_PERC/1dcnn_Juliaca_PERC-2021-05-11.png','graficos/1dcnn_Juliaca_PERC/current_day_1dcnn_Juliaca_PERC-2021-05-11.png');\n",
      "\n",
      "INSERT INTO `DBTesis`.`metrics` (`ml_model_id`, `metric_name`, `date`, `value`, `previous_value`, `metric_image_path`, `metric_current_image_path`)\n",
      "VALUES (9, 'RMSE', '2021-05-12', 235.85860749686742, 299.48030712662415, 'graficos/1dcnn_Juliaca_PERC/1dcnn_Juliaca_PERC-2021-05-12.png','graficos/1dcnn_Juliaca_PERC/current_day_1dcnn_Juliaca_PERC-2021-05-12.png');\n",
      "\n",
      "INSERT INTO `DBTesis`.`metrics` (`ml_model_id`, `metric_name`, `date`, `value`, `previous_value`, `metric_image_path`, `metric_current_image_path`)\n",
      "VALUES (9, 'RMSE', '2021-05-13', 228.23268696491002, 235.85860749686742, 'graficos/1dcnn_Juliaca_PERC/1dcnn_Juliaca_PERC-2021-05-13.png','graficos/1dcnn_Juliaca_PERC/current_day_1dcnn_Juliaca_PERC-2021-05-13.png');\n",
      "\n",
      "INSERT INTO `DBTesis`.`metrics` (`ml_model_id`, `metric_name`, `date`, `value`, `previous_value`, `metric_image_path`, `metric_current_image_path`)\n",
      "VALUES (9, 'RMSE', '2021-05-14', 396.7190118102843, 228.23268696491002, 'graficos/1dcnn_Juliaca_PERC/1dcnn_Juliaca_PERC-2021-05-14.png','graficos/1dcnn_Juliaca_PERC/current_day_1dcnn_Juliaca_PERC-2021-05-14.png');\n",
      "\n",
      "INSERT INTO `DBTesis`.`metrics` (`ml_model_id`, `metric_name`, `date`, `value`, `previous_value`, `metric_image_path`, `metric_current_image_path`)\n",
      "VALUES (9, 'RMSE', '2021-05-15', 240.85429119745254, 396.7190118102843, 'graficos/1dcnn_Juliaca_PERC/1dcnn_Juliaca_PERC-2021-05-15.png','graficos/1dcnn_Juliaca_PERC/current_day_1dcnn_Juliaca_PERC-2021-05-15.png');\n",
      "\n",
      "INSERT INTO `DBTesis`.`metrics` (`ml_model_id`, `metric_name`, `date`, `value`, `previous_value`, `metric_image_path`, `metric_current_image_path`)\n",
      "VALUES (9, 'RMSE', '2021-05-16', 473.42156804172026, 240.85429119745254, 'graficos/1dcnn_Juliaca_PERC/1dcnn_Juliaca_PERC-2021-05-16.png','graficos/1dcnn_Juliaca_PERC/current_day_1dcnn_Juliaca_PERC-2021-05-16.png');\n",
      "\n",
      "INSERT INTO `DBTesis`.`metrics` (`ml_model_id`, `metric_name`, `date`, `value`, `previous_value`, `metric_image_path`, `metric_current_image_path`)\n",
      "VALUES (9, 'RMSE', '2021-05-17', 335.6168419589076, 473.42156804172026, 'graficos/1dcnn_Juliaca_PERC/1dcnn_Juliaca_PERC-2021-05-17.png','graficos/1dcnn_Juliaca_PERC/current_day_1dcnn_Juliaca_PERC-2021-05-17.png');\n",
      "\n",
      "INSERT INTO `DBTesis`.`metrics` (`ml_model_id`, `metric_name`, `date`, `value`, `previous_value`, `metric_image_path`, `metric_current_image_path`)\n",
      "VALUES (9, 'RMSE', '2021-05-18', 196.73758635058877, 335.6168419589076, 'graficos/1dcnn_Juliaca_PERC/1dcnn_Juliaca_PERC-2021-05-18.png','graficos/1dcnn_Juliaca_PERC/current_day_1dcnn_Juliaca_PERC-2021-05-18.png');\n",
      "\n",
      "INSERT INTO `DBTesis`.`metrics` (`ml_model_id`, `metric_name`, `date`, `value`, `previous_value`, `metric_image_path`, `metric_current_image_path`)\n",
      "VALUES (9, 'RMSE', '2021-05-19', 375.1337115625276, 196.73758635058877, 'graficos/1dcnn_Juliaca_PERC/1dcnn_Juliaca_PERC-2021-05-19.png','graficos/1dcnn_Juliaca_PERC/current_day_1dcnn_Juliaca_PERC-2021-05-19.png');\n",
      "\n",
      "INSERT INTO `DBTesis`.`metrics` (`ml_model_id`, `metric_name`, `date`, `value`, `previous_value`, `metric_image_path`, `metric_current_image_path`)\n",
      "VALUES (9, 'RMSE', '2021-05-20', 246.47133374213038, 375.1337115625276, 'graficos/1dcnn_Juliaca_PERC/1dcnn_Juliaca_PERC-2021-05-20.png','graficos/1dcnn_Juliaca_PERC/current_day_1dcnn_Juliaca_PERC-2021-05-20.png');\n",
      "\n",
      "INSERT INTO `DBTesis`.`metrics` (`ml_model_id`, `metric_name`, `date`, `value`, `previous_value`, `metric_image_path`, `metric_current_image_path`)\n",
      "VALUES (9, 'RMSE', '2021-05-21', 187.60111831425354, 246.47133374213038, 'graficos/1dcnn_Juliaca_PERC/1dcnn_Juliaca_PERC-2021-05-21.png','graficos/1dcnn_Juliaca_PERC/current_day_1dcnn_Juliaca_PERC-2021-05-21.png');\n",
      "\n",
      "INSERT INTO `DBTesis`.`metrics` (`ml_model_id`, `metric_name`, `date`, `value`, `previous_value`, `metric_image_path`, `metric_current_image_path`)\n",
      "VALUES (9, 'RMSE', '2021-05-22', 199.46611221370628, 187.60111831425354, 'graficos/1dcnn_Juliaca_PERC/1dcnn_Juliaca_PERC-2021-05-22.png','graficos/1dcnn_Juliaca_PERC/current_day_1dcnn_Juliaca_PERC-2021-05-22.png');\n",
      "\n",
      "INSERT INTO `DBTesis`.`metrics` (`ml_model_id`, `metric_name`, `date`, `value`, `previous_value`, `metric_image_path`, `metric_current_image_path`)\n",
      "VALUES (9, 'RMSE', '2021-05-23', 373.17985864992244, 199.46611221370628, 'graficos/1dcnn_Juliaca_PERC/1dcnn_Juliaca_PERC-2021-05-23.png','graficos/1dcnn_Juliaca_PERC/current_day_1dcnn_Juliaca_PERC-2021-05-23.png');\n",
      "\n",
      "INSERT INTO `DBTesis`.`metrics` (`ml_model_id`, `metric_name`, `date`, `value`, `previous_value`, `metric_image_path`, `metric_current_image_path`)\n",
      "VALUES (9, 'RMSE', '2021-05-24', 138.6702332239697, 373.17985864992244, 'graficos/1dcnn_Juliaca_PERC/1dcnn_Juliaca_PERC-2021-05-24.png','graficos/1dcnn_Juliaca_PERC/current_day_1dcnn_Juliaca_PERC-2021-05-24.png');\n",
      "\n",
      "INSERT INTO `DBTesis`.`metrics` (`ml_model_id`, `metric_name`, `date`, `value`, `previous_value`, `metric_image_path`, `metric_current_image_path`)\n",
      "VALUES (9, 'RMSE', '2021-05-25', 250.94604960035457, 138.6702332239697, 'graficos/1dcnn_Juliaca_PERC/1dcnn_Juliaca_PERC-2021-05-25.png','graficos/1dcnn_Juliaca_PERC/current_day_1dcnn_Juliaca_PERC-2021-05-25.png');\n",
      "\n",
      "INSERT INTO `DBTesis`.`metrics` (`ml_model_id`, `metric_name`, `date`, `value`, `previous_value`, `metric_image_path`, `metric_current_image_path`)\n",
      "VALUES (9, 'RMSE', '2021-05-26', 450.99224767821545, 250.94604960035457, 'graficos/1dcnn_Juliaca_PERC/1dcnn_Juliaca_PERC-2021-05-26.png','graficos/1dcnn_Juliaca_PERC/current_day_1dcnn_Juliaca_PERC-2021-05-26.png');\n",
      "\n",
      "INSERT INTO `DBTesis`.`metrics` (`ml_model_id`, `metric_name`, `date`, `value`, `previous_value`, `metric_image_path`, `metric_current_image_path`)\n",
      "VALUES (9, 'RMSE', '2021-05-27', 419.3580078307337, 450.99224767821545, 'graficos/1dcnn_Juliaca_PERC/1dcnn_Juliaca_PERC-2021-05-27.png','graficos/1dcnn_Juliaca_PERC/current_day_1dcnn_Juliaca_PERC-2021-05-27.png');\n",
      "\n",
      "INSERT INTO `DBTesis`.`metrics` (`ml_model_id`, `metric_name`, `date`, `value`, `previous_value`, `metric_image_path`, `metric_current_image_path`)\n",
      "VALUES (9, 'RMSE', '2021-05-28', 385.5923904934133, 419.3580078307337, 'graficos/1dcnn_Juliaca_PERC/1dcnn_Juliaca_PERC-2021-05-28.png','graficos/1dcnn_Juliaca_PERC/current_day_1dcnn_Juliaca_PERC-2021-05-28.png');\n",
      "\n",
      "INSERT INTO `DBTesis`.`metrics` (`ml_model_id`, `metric_name`, `date`, `value`, `previous_value`, `metric_image_path`, `metric_current_image_path`)\n",
      "VALUES (9, 'RMSE', '2021-05-29', 219.21996974206812, 385.5923904934133, 'graficos/1dcnn_Juliaca_PERC/1dcnn_Juliaca_PERC-2021-05-29.png','graficos/1dcnn_Juliaca_PERC/current_day_1dcnn_Juliaca_PERC-2021-05-29.png');\n",
      "\n",
      "INSERT INTO `DBTesis`.`metrics` (`ml_model_id`, `metric_name`, `date`, `value`, `previous_value`, `metric_image_path`, `metric_current_image_path`)\n",
      "VALUES (9, 'RMSE', '2021-05-30', 196.0363833355563, 219.21996974206812, 'graficos/1dcnn_Juliaca_PERC/1dcnn_Juliaca_PERC-2021-05-30.png','graficos/1dcnn_Juliaca_PERC/current_day_1dcnn_Juliaca_PERC-2021-05-30.png');\n",
      "\n",
      "INSERT INTO `DBTesis`.`metrics` (`ml_model_id`, `metric_name`, `date`, `value`, `previous_value`, `metric_image_path`, `metric_current_image_path`)\n",
      "VALUES (9, 'RMSE', '2021-05-31', 258.5630493171213, 196.0363833355563, 'graficos/1dcnn_Juliaca_PERC/1dcnn_Juliaca_PERC-2021-05-31.png','graficos/1dcnn_Juliaca_PERC/current_day_1dcnn_Juliaca_PERC-2021-05-31.png');\n",
      "\n",
      "INSERT INTO `DBTesis`.`metrics` (`ml_model_id`, `metric_name`, `date`, `value`, `previous_value`, `metric_image_path`, `metric_current_image_path`)\n",
      "VALUES (9, 'RMSE', '2021-06-01', 422.14879458506357, 258.5630493171213, 'graficos/1dcnn_Juliaca_PERC/1dcnn_Juliaca_PERC-2021-06-01.png','graficos/1dcnn_Juliaca_PERC/current_day_1dcnn_Juliaca_PERC-2021-06-01.png');\n",
      "\n",
      "INSERT INTO `DBTesis`.`metrics` (`ml_model_id`, `metric_name`, `date`, `value`, `previous_value`, `metric_image_path`, `metric_current_image_path`)\n",
      "VALUES (9, 'RMSE', '2021-06-02', 188.13898889166353, 422.14879458506357, 'graficos/1dcnn_Juliaca_PERC/1dcnn_Juliaca_PERC-2021-06-02.png','graficos/1dcnn_Juliaca_PERC/current_day_1dcnn_Juliaca_PERC-2021-06-02.png');\n",
      "\n",
      "INSERT INTO `DBTesis`.`metrics` (`ml_model_id`, `metric_name`, `date`, `value`, `previous_value`, `metric_image_path`, `metric_current_image_path`)\n",
      "VALUES (9, 'RMSE', '2021-06-03', 151.59807267940087, 188.13898889166353, 'graficos/1dcnn_Juliaca_PERC/1dcnn_Juliaca_PERC-2021-06-03.png','graficos/1dcnn_Juliaca_PERC/current_day_1dcnn_Juliaca_PERC-2021-06-03.png');\n",
      "\n",
      "INSERT INTO `DBTesis`.`metrics` (`ml_model_id`, `metric_name`, `date`, `value`, `previous_value`, `metric_image_path`, `metric_current_image_path`)\n",
      "VALUES (9, 'RMSE', '2021-06-04', 224.91035844460276, 151.59807267940087, 'graficos/1dcnn_Juliaca_PERC/1dcnn_Juliaca_PERC-2021-06-04.png','graficos/1dcnn_Juliaca_PERC/current_day_1dcnn_Juliaca_PERC-2021-06-04.png');\n",
      "\n",
      "INSERT INTO `DBTesis`.`metrics` (`ml_model_id`, `metric_name`, `date`, `value`, `previous_value`, `metric_image_path`, `metric_current_image_path`)\n",
      "VALUES (9, 'RMSE', '2021-06-05', 312.2166503057084, 224.91035844460276, 'graficos/1dcnn_Juliaca_PERC/1dcnn_Juliaca_PERC-2021-06-05.png','graficos/1dcnn_Juliaca_PERC/current_day_1dcnn_Juliaca_PERC-2021-06-05.png');\n",
      "\n",
      "INSERT INTO `DBTesis`.`metrics` (`ml_model_id`, `metric_name`, `date`, `value`, `previous_value`, `metric_image_path`, `metric_current_image_path`)\n",
      "VALUES (9, 'RMSE', '2021-06-06', 207.5504746685144, 312.2166503057084, 'graficos/1dcnn_Juliaca_PERC/1dcnn_Juliaca_PERC-2021-06-06.png','graficos/1dcnn_Juliaca_PERC/current_day_1dcnn_Juliaca_PERC-2021-06-06.png');\n",
      "\n",
      "INSERT INTO `DBTesis`.`metrics` (`ml_model_id`, `metric_name`, `date`, `value`, `previous_value`, `metric_image_path`, `metric_current_image_path`)\n",
      "VALUES (9, 'RMSE', '2021-06-07', 370.8509042388886, 207.5504746685144, 'graficos/1dcnn_Juliaca_PERC/1dcnn_Juliaca_PERC-2021-06-07.png','graficos/1dcnn_Juliaca_PERC/current_day_1dcnn_Juliaca_PERC-2021-06-07.png');\n",
      "\n",
      "INSERT INTO `DBTesis`.`metrics` (`ml_model_id`, `metric_name`, `date`, `value`, `previous_value`, `metric_image_path`, `metric_current_image_path`)\n",
      "VALUES (9, 'RMSE', '2021-06-08', 228.5945989847689, 370.8509042388886, 'graficos/1dcnn_Juliaca_PERC/1dcnn_Juliaca_PERC-2021-06-08.png','graficos/1dcnn_Juliaca_PERC/current_day_1dcnn_Juliaca_PERC-2021-06-08.png');\n",
      "\n",
      "INSERT INTO `DBTesis`.`metrics` (`ml_model_id`, `metric_name`, `date`, `value`, `previous_value`, `metric_image_path`, `metric_current_image_path`)\n",
      "VALUES (9, 'RMSE', '2021-06-09', 392.6448417038185, 228.5945989847689, 'graficos/1dcnn_Juliaca_PERC/1dcnn_Juliaca_PERC-2021-06-09.png','graficos/1dcnn_Juliaca_PERC/current_day_1dcnn_Juliaca_PERC-2021-06-09.png');\n",
      "\n",
      "INSERT INTO `DBTesis`.`metrics` (`ml_model_id`, `metric_name`, `date`, `value`, `previous_value`, `metric_image_path`, `metric_current_image_path`)\n",
      "VALUES (9, 'RMSE', '2021-06-10', 234.7742256522806, 392.6448417038185, 'graficos/1dcnn_Juliaca_PERC/1dcnn_Juliaca_PERC-2021-06-10.png','graficos/1dcnn_Juliaca_PERC/current_day_1dcnn_Juliaca_PERC-2021-06-10.png');\n",
      "\n",
      "INSERT INTO `DBTesis`.`metrics` (`ml_model_id`, `metric_name`, `date`, `value`, `previous_value`, `metric_image_path`, `metric_current_image_path`)\n",
      "VALUES (9, 'RMSE', '2021-06-11', 221.67420631552673, 234.7742256522806, 'graficos/1dcnn_Juliaca_PERC/1dcnn_Juliaca_PERC-2021-06-11.png','graficos/1dcnn_Juliaca_PERC/current_day_1dcnn_Juliaca_PERC-2021-06-11.png');\n",
      "\n",
      "INSERT INTO `DBTesis`.`metrics` (`ml_model_id`, `metric_name`, `date`, `value`, `previous_value`, `metric_image_path`, `metric_current_image_path`)\n",
      "VALUES (9, 'RMSE', '2021-06-12', 163.3318152132448, 221.67420631552673, 'graficos/1dcnn_Juliaca_PERC/1dcnn_Juliaca_PERC-2021-06-12.png','graficos/1dcnn_Juliaca_PERC/current_day_1dcnn_Juliaca_PERC-2021-06-12.png');\n",
      "\n",
      "INSERT INTO `DBTesis`.`metrics` (`ml_model_id`, `metric_name`, `date`, `value`, `previous_value`, `metric_image_path`, `metric_current_image_path`)\n",
      "VALUES (9, 'RMSE', '2021-06-13', 308.76431449132866, 163.3318152132448, 'graficos/1dcnn_Juliaca_PERC/1dcnn_Juliaca_PERC-2021-06-13.png','graficos/1dcnn_Juliaca_PERC/current_day_1dcnn_Juliaca_PERC-2021-06-13.png');\n",
      "\n",
      "INSERT INTO `DBTesis`.`metrics` (`ml_model_id`, `metric_name`, `date`, `value`, `previous_value`, `metric_image_path`, `metric_current_image_path`)\n",
      "VALUES (9, 'RMSE', '2021-06-14', 245.0046286386164, 308.76431449132866, 'graficos/1dcnn_Juliaca_PERC/1dcnn_Juliaca_PERC-2021-06-14.png','graficos/1dcnn_Juliaca_PERC/current_day_1dcnn_Juliaca_PERC-2021-06-14.png');\n",
      "\n",
      "INSERT INTO `DBTesis`.`metrics` (`ml_model_id`, `metric_name`, `date`, `value`, `previous_value`, `metric_image_path`, `metric_current_image_path`)\n",
      "VALUES (9, 'RMSE', '2021-06-15', 112.9617322847633, 245.0046286386164, 'graficos/1dcnn_Juliaca_PERC/1dcnn_Juliaca_PERC-2021-06-15.png','graficos/1dcnn_Juliaca_PERC/current_day_1dcnn_Juliaca_PERC-2021-06-15.png');\n",
      "\n",
      "INSERT INTO `DBTesis`.`metrics` (`ml_model_id`, `metric_name`, `date`, `value`, `previous_value`, `metric_image_path`, `metric_current_image_path`)\n",
      "VALUES (9, 'RMSE', '2021-06-16', 150.1816018305981, 112.9617322847633, 'graficos/1dcnn_Juliaca_PERC/1dcnn_Juliaca_PERC-2021-06-16.png','graficos/1dcnn_Juliaca_PERC/current_day_1dcnn_Juliaca_PERC-2021-06-16.png');\n",
      "\n",
      "INSERT INTO `DBTesis`.`metrics` (`ml_model_id`, `metric_name`, `date`, `value`, `previous_value`, `metric_image_path`, `metric_current_image_path`)\n",
      "VALUES (9, 'RMSE', '2021-06-17', 415.088464570501, 150.1816018305981, 'graficos/1dcnn_Juliaca_PERC/1dcnn_Juliaca_PERC-2021-06-17.png','graficos/1dcnn_Juliaca_PERC/current_day_1dcnn_Juliaca_PERC-2021-06-17.png');\n",
      "\n",
      "INSERT INTO `DBTesis`.`metrics` (`ml_model_id`, `metric_name`, `date`, `value`, `previous_value`, `metric_image_path`, `metric_current_image_path`)\n",
      "VALUES (9, 'RMSE', '2021-06-18', 175.54747505334973, 415.088464570501, 'graficos/1dcnn_Juliaca_PERC/1dcnn_Juliaca_PERC-2021-06-18.png','graficos/1dcnn_Juliaca_PERC/current_day_1dcnn_Juliaca_PERC-2021-06-18.png');\n",
      "\n",
      "INSERT INTO `DBTesis`.`metrics` (`ml_model_id`, `metric_name`, `date`, `value`, `previous_value`, `metric_image_path`, `metric_current_image_path`)\n",
      "VALUES (9, 'RMSE', '2021-06-19', 323.03065052054916, 175.54747505334973, 'graficos/1dcnn_Juliaca_PERC/1dcnn_Juliaca_PERC-2021-06-19.png','graficos/1dcnn_Juliaca_PERC/current_day_1dcnn_Juliaca_PERC-2021-06-19.png');\n",
      "\n",
      "INSERT INTO `DBTesis`.`metrics` (`ml_model_id`, `metric_name`, `date`, `value`, `previous_value`, `metric_image_path`, `metric_current_image_path`)\n",
      "VALUES (9, 'RMSE', '2021-06-20', 183.950965552331, 323.03065052054916, 'graficos/1dcnn_Juliaca_PERC/1dcnn_Juliaca_PERC-2021-06-20.png','graficos/1dcnn_Juliaca_PERC/current_day_1dcnn_Juliaca_PERC-2021-06-20.png');\n",
      "\n",
      "INSERT INTO `DBTesis`.`metrics` (`ml_model_id`, `metric_name`, `date`, `value`, `previous_value`, `metric_image_path`, `metric_current_image_path`)\n",
      "VALUES (9, 'RMSE', '2021-06-21', 315.1053190475449, 183.950965552331, 'graficos/1dcnn_Juliaca_PERC/1dcnn_Juliaca_PERC-2021-06-21.png','graficos/1dcnn_Juliaca_PERC/current_day_1dcnn_Juliaca_PERC-2021-06-21.png');\n",
      "\n",
      "INSERT INTO `DBTesis`.`metrics` (`ml_model_id`, `metric_name`, `date`, `value`, `previous_value`, `metric_image_path`, `metric_current_image_path`)\n",
      "VALUES (9, 'RMSE', '2021-06-22', 344.54218222054294, 315.1053190475449, 'graficos/1dcnn_Juliaca_PERC/1dcnn_Juliaca_PERC-2021-06-22.png','graficos/1dcnn_Juliaca_PERC/current_day_1dcnn_Juliaca_PERC-2021-06-22.png');\n",
      "\n",
      "INSERT INTO `DBTesis`.`metrics` (`ml_model_id`, `metric_name`, `date`, `value`, `previous_value`, `metric_image_path`, `metric_current_image_path`)\n",
      "VALUES (9, 'RMSE', '2021-06-23', 372.46417258793156, 344.54218222054294, 'graficos/1dcnn_Juliaca_PERC/1dcnn_Juliaca_PERC-2021-06-23.png','graficos/1dcnn_Juliaca_PERC/current_day_1dcnn_Juliaca_PERC-2021-06-23.png');\n",
      "\n",
      "INSERT INTO `DBTesis`.`metrics` (`ml_model_id`, `metric_name`, `date`, `value`, `previous_value`, `metric_image_path`, `metric_current_image_path`)\n",
      "VALUES (9, 'RMSE', '2021-06-24', 310.32670527636094, 372.46417258793156, 'graficos/1dcnn_Juliaca_PERC/1dcnn_Juliaca_PERC-2021-06-24.png','graficos/1dcnn_Juliaca_PERC/current_day_1dcnn_Juliaca_PERC-2021-06-24.png');\n",
      "\n",
      "INSERT INTO `DBTesis`.`metrics` (`ml_model_id`, `metric_name`, `date`, `value`, `previous_value`, `metric_image_path`, `metric_current_image_path`)\n",
      "VALUES (9, 'RMSE', '2021-06-25', 144.95326562795398, 310.32670527636094, 'graficos/1dcnn_Juliaca_PERC/1dcnn_Juliaca_PERC-2021-06-25.png','graficos/1dcnn_Juliaca_PERC/current_day_1dcnn_Juliaca_PERC-2021-06-25.png');\n",
      "\n",
      "INSERT INTO `DBTesis`.`metrics` (`ml_model_id`, `metric_name`, `date`, `value`, `previous_value`, `metric_image_path`, `metric_current_image_path`)\n",
      "VALUES (9, 'RMSE', '2021-06-26', 321.5903123902743, 144.95326562795398, 'graficos/1dcnn_Juliaca_PERC/1dcnn_Juliaca_PERC-2021-06-26.png','graficos/1dcnn_Juliaca_PERC/current_day_1dcnn_Juliaca_PERC-2021-06-26.png');\n",
      "\n",
      "INSERT INTO `DBTesis`.`metrics` (`ml_model_id`, `metric_name`, `date`, `value`, `previous_value`, `metric_image_path`, `metric_current_image_path`)\n",
      "VALUES (9, 'RMSE', '2021-06-27', 525.3743036082756, 321.5903123902743, 'graficos/1dcnn_Juliaca_PERC/1dcnn_Juliaca_PERC-2021-06-27.png','graficos/1dcnn_Juliaca_PERC/current_day_1dcnn_Juliaca_PERC-2021-06-27.png');\n",
      "\n",
      "INSERT INTO `DBTesis`.`metrics` (`ml_model_id`, `metric_name`, `date`, `value`, `previous_value`, `metric_image_path`, `metric_current_image_path`)\n",
      "VALUES (9, 'RMSE', '2021-06-28', 304.8366368731977, 525.3743036082756, 'graficos/1dcnn_Juliaca_PERC/1dcnn_Juliaca_PERC-2021-06-28.png','graficos/1dcnn_Juliaca_PERC/current_day_1dcnn_Juliaca_PERC-2021-06-28.png');\n",
      "\n",
      "INSERT INTO `DBTesis`.`metrics` (`ml_model_id`, `metric_name`, `date`, `value`, `previous_value`, `metric_image_path`, `metric_current_image_path`)\n",
      "VALUES (9, 'RMSE', '2021-06-29', 120.65926021914211, 304.8366368731977, 'graficos/1dcnn_Juliaca_PERC/1dcnn_Juliaca_PERC-2021-06-29.png','graficos/1dcnn_Juliaca_PERC/current_day_1dcnn_Juliaca_PERC-2021-06-29.png');\n",
      "\n",
      "INSERT INTO `DBTesis`.`metrics` (`ml_model_id`, `metric_name`, `date`, `value`, `previous_value`, `metric_image_path`, `metric_current_image_path`)\n",
      "VALUES (9, 'RMSE', '2021-06-30', 139.81270307602787, 120.65926021914211, 'graficos/1dcnn_Juliaca_PERC/1dcnn_Juliaca_PERC-2021-06-30.png','graficos/1dcnn_Juliaca_PERC/current_day_1dcnn_Juliaca_PERC-2021-06-30.png');\n",
      "\n",
      "INSERT INTO `DBTesis`.`metrics` (`ml_model_id`, `metric_name`, `date`, `value`, `previous_value`, `metric_image_path`, `metric_current_image_path`)\n",
      "VALUES (9, 'RMSE', '2021-07-01', 208.64755103524783, 139.81270307602787, 'graficos/1dcnn_Juliaca_PERC/1dcnn_Juliaca_PERC-2021-07-01.png','graficos/1dcnn_Juliaca_PERC/current_day_1dcnn_Juliaca_PERC-2021-07-01.png');\n",
      "\n",
      "INSERT INTO `DBTesis`.`metrics` (`ml_model_id`, `metric_name`, `date`, `value`, `previous_value`, `metric_image_path`, `metric_current_image_path`)\n",
      "VALUES (9, 'RMSE', '2021-07-02', 270.4666531634805, 208.64755103524783, 'graficos/1dcnn_Juliaca_PERC/1dcnn_Juliaca_PERC-2021-07-02.png','graficos/1dcnn_Juliaca_PERC/current_day_1dcnn_Juliaca_PERC-2021-07-02.png');\n",
      "\n",
      "INSERT INTO `DBTesis`.`metrics` (`ml_model_id`, `metric_name`, `date`, `value`, `previous_value`, `metric_image_path`, `metric_current_image_path`)\n",
      "VALUES (9, 'RMSE', '2021-07-03', 223.96794765169346, 270.4666531634805, 'graficos/1dcnn_Juliaca_PERC/1dcnn_Juliaca_PERC-2021-07-03.png','graficos/1dcnn_Juliaca_PERC/current_day_1dcnn_Juliaca_PERC-2021-07-03.png');\n",
      "\n",
      "INSERT INTO `DBTesis`.`metrics` (`ml_model_id`, `metric_name`, `date`, `value`, `previous_value`, `metric_image_path`, `metric_current_image_path`)\n",
      "VALUES (9, 'RMSE', '2021-07-04', 231.95303242853714, 223.96794765169346, 'graficos/1dcnn_Juliaca_PERC/1dcnn_Juliaca_PERC-2021-07-04.png','graficos/1dcnn_Juliaca_PERC/current_day_1dcnn_Juliaca_PERC-2021-07-04.png');\n",
      "\n",
      "INSERT INTO `DBTesis`.`metrics` (`ml_model_id`, `metric_name`, `date`, `value`, `previous_value`, `metric_image_path`, `metric_current_image_path`)\n",
      "VALUES (9, 'RMSE', '2021-07-05', 223.35318441386747, 231.95303242853714, 'graficos/1dcnn_Juliaca_PERC/1dcnn_Juliaca_PERC-2021-07-05.png','graficos/1dcnn_Juliaca_PERC/current_day_1dcnn_Juliaca_PERC-2021-07-05.png');\n",
      "\n",
      "INSERT INTO `DBTesis`.`metrics` (`ml_model_id`, `metric_name`, `date`, `value`, `previous_value`, `metric_image_path`, `metric_current_image_path`)\n",
      "VALUES (9, 'RMSE', '2021-07-06', 230.74935054190962, 223.35318441386747, 'graficos/1dcnn_Juliaca_PERC/1dcnn_Juliaca_PERC-2021-07-06.png','graficos/1dcnn_Juliaca_PERC/current_day_1dcnn_Juliaca_PERC-2021-07-06.png');\n",
      "\n",
      "INSERT INTO `DBTesis`.`metrics` (`ml_model_id`, `metric_name`, `date`, `value`, `previous_value`, `metric_image_path`, `metric_current_image_path`)\n",
      "VALUES (9, 'RMSE', '2021-07-07', 197.87680533739672, 230.74935054190962, 'graficos/1dcnn_Juliaca_PERC/1dcnn_Juliaca_PERC-2021-07-07.png','graficos/1dcnn_Juliaca_PERC/current_day_1dcnn_Juliaca_PERC-2021-07-07.png');\n",
      "\n",
      "INSERT INTO `DBTesis`.`metrics` (`ml_model_id`, `metric_name`, `date`, `value`, `previous_value`, `metric_image_path`, `metric_current_image_path`)\n",
      "VALUES (9, 'RMSE', '2021-07-08', 255.2727236543602, 197.87680533739672, 'graficos/1dcnn_Juliaca_PERC/1dcnn_Juliaca_PERC-2021-07-08.png','graficos/1dcnn_Juliaca_PERC/current_day_1dcnn_Juliaca_PERC-2021-07-08.png');\n",
      "\n",
      "INSERT INTO `DBTesis`.`metrics` (`ml_model_id`, `metric_name`, `date`, `value`, `previous_value`, `metric_image_path`, `metric_current_image_path`)\n",
      "VALUES (9, 'RMSE', '2021-07-09', 143.98146489842236, 255.2727236543602, 'graficos/1dcnn_Juliaca_PERC/1dcnn_Juliaca_PERC-2021-07-09.png','graficos/1dcnn_Juliaca_PERC/current_day_1dcnn_Juliaca_PERC-2021-07-09.png');\n",
      "\n",
      "INSERT INTO `DBTesis`.`metrics` (`ml_model_id`, `metric_name`, `date`, `value`, `previous_value`, `metric_image_path`, `metric_current_image_path`)\n",
      "VALUES (9, 'RMSE', '2021-07-10', 220.742641465058, 143.98146489842236, 'graficos/1dcnn_Juliaca_PERC/1dcnn_Juliaca_PERC-2021-07-10.png','graficos/1dcnn_Juliaca_PERC/current_day_1dcnn_Juliaca_PERC-2021-07-10.png');\n",
      "\n",
      "INSERT INTO `DBTesis`.`metrics` (`ml_model_id`, `metric_name`, `date`, `value`, `previous_value`, `metric_image_path`, `metric_current_image_path`)\n",
      "VALUES (9, 'RMSE', '2021-07-11', 184.244185528341, 220.742641465058, 'graficos/1dcnn_Juliaca_PERC/1dcnn_Juliaca_PERC-2021-07-11.png','graficos/1dcnn_Juliaca_PERC/current_day_1dcnn_Juliaca_PERC-2021-07-11.png');\n",
      "\n",
      "INSERT INTO `DBTesis`.`metrics` (`ml_model_id`, `metric_name`, `date`, `value`, `previous_value`, `metric_image_path`, `metric_current_image_path`)\n",
      "VALUES (9, 'RMSE', '2021-07-12', 241.57887182303762, 184.244185528341, 'graficos/1dcnn_Juliaca_PERC/1dcnn_Juliaca_PERC-2021-07-12.png','graficos/1dcnn_Juliaca_PERC/current_day_1dcnn_Juliaca_PERC-2021-07-12.png');\n",
      "\n",
      "INSERT INTO `DBTesis`.`metrics` (`ml_model_id`, `metric_name`, `date`, `value`, `previous_value`, `metric_image_path`, `metric_current_image_path`)\n",
      "VALUES (9, 'RMSE', '2021-07-13', 246.75081203333718, 241.57887182303762, 'graficos/1dcnn_Juliaca_PERC/1dcnn_Juliaca_PERC-2021-07-13.png','graficos/1dcnn_Juliaca_PERC/current_day_1dcnn_Juliaca_PERC-2021-07-13.png');\n",
      "\n",
      "INSERT INTO `DBTesis`.`metrics` (`ml_model_id`, `metric_name`, `date`, `value`, `previous_value`, `metric_image_path`, `metric_current_image_path`)\n",
      "VALUES (9, 'RMSE', '2021-07-14', 267.560720053543, 246.75081203333718, 'graficos/1dcnn_Juliaca_PERC/1dcnn_Juliaca_PERC-2021-07-14.png','graficos/1dcnn_Juliaca_PERC/current_day_1dcnn_Juliaca_PERC-2021-07-14.png');\n",
      "\n",
      "INSERT INTO `DBTesis`.`metrics` (`ml_model_id`, `metric_name`, `date`, `value`, `previous_value`, `metric_image_path`, `metric_current_image_path`)\n",
      "VALUES (9, 'RMSE', '2021-07-15', 285.36529141483686, 267.560720053543, 'graficos/1dcnn_Juliaca_PERC/1dcnn_Juliaca_PERC-2021-07-15.png','graficos/1dcnn_Juliaca_PERC/current_day_1dcnn_Juliaca_PERC-2021-07-15.png');\n",
      "\n",
      "INSERT INTO `DBTesis`.`metrics` (`ml_model_id`, `metric_name`, `date`, `value`, `previous_value`, `metric_image_path`, `metric_current_image_path`)\n",
      "VALUES (9, 'RMSE', '2021-07-16', 278.66803886082414, 285.36529141483686, 'graficos/1dcnn_Juliaca_PERC/1dcnn_Juliaca_PERC-2021-07-16.png','graficos/1dcnn_Juliaca_PERC/current_day_1dcnn_Juliaca_PERC-2021-07-16.png');\n",
      "\n",
      "INSERT INTO `DBTesis`.`metrics` (`ml_model_id`, `metric_name`, `date`, `value`, `previous_value`, `metric_image_path`, `metric_current_image_path`)\n",
      "VALUES (9, 'RMSE', '2021-07-17', 254.66643659248064, 278.66803886082414, 'graficos/1dcnn_Juliaca_PERC/1dcnn_Juliaca_PERC-2021-07-17.png','graficos/1dcnn_Juliaca_PERC/current_day_1dcnn_Juliaca_PERC-2021-07-17.png');\n",
      "\n",
      "INSERT INTO `DBTesis`.`metrics` (`ml_model_id`, `metric_name`, `date`, `value`, `previous_value`, `metric_image_path`, `metric_current_image_path`)\n",
      "VALUES (9, 'RMSE', '2021-07-18', 164.13200554645647, 254.66643659248064, 'graficos/1dcnn_Juliaca_PERC/1dcnn_Juliaca_PERC-2021-07-18.png','graficos/1dcnn_Juliaca_PERC/current_day_1dcnn_Juliaca_PERC-2021-07-18.png');\n",
      "\n",
      "INSERT INTO `DBTesis`.`metrics` (`ml_model_id`, `metric_name`, `date`, `value`, `previous_value`, `metric_image_path`, `metric_current_image_path`)\n",
      "VALUES (9, 'RMSE', '2021-07-19', 177.64925037582455, 164.13200554645647, 'graficos/1dcnn_Juliaca_PERC/1dcnn_Juliaca_PERC-2021-07-19.png','graficos/1dcnn_Juliaca_PERC/current_day_1dcnn_Juliaca_PERC-2021-07-19.png');\n",
      "\n",
      "INSERT INTO `DBTesis`.`metrics` (`ml_model_id`, `metric_name`, `date`, `value`, `previous_value`, `metric_image_path`, `metric_current_image_path`)\n",
      "VALUES (9, 'RMSE', '2021-07-20', 273.72056884014285, 177.64925037582455, 'graficos/1dcnn_Juliaca_PERC/1dcnn_Juliaca_PERC-2021-07-20.png','graficos/1dcnn_Juliaca_PERC/current_day_1dcnn_Juliaca_PERC-2021-07-20.png');\n",
      "\n",
      "INSERT INTO `DBTesis`.`metrics` (`ml_model_id`, `metric_name`, `date`, `value`, `previous_value`, `metric_image_path`, `metric_current_image_path`)\n",
      "VALUES (9, 'RMSE', '2021-07-21', 611.013097051827, 273.72056884014285, 'graficos/1dcnn_Juliaca_PERC/1dcnn_Juliaca_PERC-2021-07-21.png','graficos/1dcnn_Juliaca_PERC/current_day_1dcnn_Juliaca_PERC-2021-07-21.png');\n",
      "\n",
      "INSERT INTO `DBTesis`.`metrics` (`ml_model_id`, `metric_name`, `date`, `value`, `previous_value`, `metric_image_path`, `metric_current_image_path`)\n",
      "VALUES (9, 'RMSE', '2021-07-22', 199.38161687112068, 611.013097051827, 'graficos/1dcnn_Juliaca_PERC/1dcnn_Juliaca_PERC-2021-07-22.png','graficos/1dcnn_Juliaca_PERC/current_day_1dcnn_Juliaca_PERC-2021-07-22.png');\n",
      "\n",
      "INSERT INTO `DBTesis`.`metrics` (`ml_model_id`, `metric_name`, `date`, `value`, `previous_value`, `metric_image_path`, `metric_current_image_path`)\n",
      "VALUES (9, 'RMSE', '2021-07-23', 233.192099896779, 199.38161687112068, 'graficos/1dcnn_Juliaca_PERC/1dcnn_Juliaca_PERC-2021-07-23.png','graficos/1dcnn_Juliaca_PERC/current_day_1dcnn_Juliaca_PERC-2021-07-23.png');\n",
      "\n",
      "INSERT INTO `DBTesis`.`metrics` (`ml_model_id`, `metric_name`, `date`, `value`, `previous_value`, `metric_image_path`, `metric_current_image_path`)\n",
      "VALUES (9, 'RMSE', '2021-07-24', 224.86384179593767, 233.192099896779, 'graficos/1dcnn_Juliaca_PERC/1dcnn_Juliaca_PERC-2021-07-24.png','graficos/1dcnn_Juliaca_PERC/current_day_1dcnn_Juliaca_PERC-2021-07-24.png');\n",
      "\n",
      "INSERT INTO `DBTesis`.`metrics` (`ml_model_id`, `metric_name`, `date`, `value`, `previous_value`, `metric_image_path`, `metric_current_image_path`)\n",
      "VALUES (9, 'RMSE', '2021-07-25', 248.5817146891106, 224.86384179593767, 'graficos/1dcnn_Juliaca_PERC/1dcnn_Juliaca_PERC-2021-07-25.png','graficos/1dcnn_Juliaca_PERC/current_day_1dcnn_Juliaca_PERC-2021-07-25.png');\n",
      "\n",
      "INSERT INTO `DBTesis`.`metrics` (`ml_model_id`, `metric_name`, `date`, `value`, `previous_value`, `metric_image_path`, `metric_current_image_path`)\n",
      "VALUES (9, 'RMSE', '2021-07-26', 429.96492058202836, 248.5817146891106, 'graficos/1dcnn_Juliaca_PERC/1dcnn_Juliaca_PERC-2021-07-26.png','graficos/1dcnn_Juliaca_PERC/current_day_1dcnn_Juliaca_PERC-2021-07-26.png');\n",
      "\n",
      "INSERT INTO `DBTesis`.`metrics` (`ml_model_id`, `metric_name`, `date`, `value`, `previous_value`, `metric_image_path`, `metric_current_image_path`)\n",
      "VALUES (9, 'RMSE', '2021-07-27', 286.02790406709204, 429.96492058202836, 'graficos/1dcnn_Juliaca_PERC/1dcnn_Juliaca_PERC-2021-07-27.png','graficos/1dcnn_Juliaca_PERC/current_day_1dcnn_Juliaca_PERC-2021-07-27.png');\n",
      "\n",
      "INSERT INTO `DBTesis`.`metrics` (`ml_model_id`, `metric_name`, `date`, `value`, `previous_value`, `metric_image_path`, `metric_current_image_path`)\n",
      "VALUES (9, 'RMSE', '2021-07-28', 265.7647127721647, 286.02790406709204, 'graficos/1dcnn_Juliaca_PERC/1dcnn_Juliaca_PERC-2021-07-28.png','graficos/1dcnn_Juliaca_PERC/current_day_1dcnn_Juliaca_PERC-2021-07-28.png');\n",
      "\n",
      "INSERT INTO `DBTesis`.`metrics` (`ml_model_id`, `metric_name`, `date`, `value`, `previous_value`, `metric_image_path`, `metric_current_image_path`)\n",
      "VALUES (9, 'RMSE', '2021-07-29', 258.24491470633814, 265.7647127721647, 'graficos/1dcnn_Juliaca_PERC/1dcnn_Juliaca_PERC-2021-07-29.png','graficos/1dcnn_Juliaca_PERC/current_day_1dcnn_Juliaca_PERC-2021-07-29.png');\n",
      "\n",
      "INSERT INTO `DBTesis`.`metrics` (`ml_model_id`, `metric_name`, `date`, `value`, `previous_value`, `metric_image_path`, `metric_current_image_path`)\n",
      "VALUES (9, 'RMSE', '2021-07-30', 222.1743511885369, 258.24491470633814, 'graficos/1dcnn_Juliaca_PERC/1dcnn_Juliaca_PERC-2021-07-30.png','graficos/1dcnn_Juliaca_PERC/current_day_1dcnn_Juliaca_PERC-2021-07-30.png');\n",
      "\n",
      "INSERT INTO `DBTesis`.`metrics` (`ml_model_id`, `metric_name`, `date`, `value`, `previous_value`, `metric_image_path`, `metric_current_image_path`)\n",
      "VALUES (9, 'RMSE', '2021-07-31', 314.04340554535156, 222.1743511885369, 'graficos/1dcnn_Juliaca_PERC/1dcnn_Juliaca_PERC-2021-07-31.png','graficos/1dcnn_Juliaca_PERC/current_day_1dcnn_Juliaca_PERC-2021-07-31.png');\n",
      "\n",
      "INSERT INTO `DBTesis`.`metrics` (`ml_model_id`, `metric_name`, `date`, `value`, `previous_value`, `metric_image_path`, `metric_current_image_path`)\n",
      "VALUES (9, 'RMSE', '2021-08-01', 194.88982553360333, 314.04340554535156, 'graficos/1dcnn_Juliaca_PERC/1dcnn_Juliaca_PERC-2021-08-01.png','graficos/1dcnn_Juliaca_PERC/current_day_1dcnn_Juliaca_PERC-2021-08-01.png');\n",
      "\n",
      "INSERT INTO `DBTesis`.`metrics` (`ml_model_id`, `metric_name`, `date`, `value`, `previous_value`, `metric_image_path`, `metric_current_image_path`)\n",
      "VALUES (9, 'RMSE', '2021-08-02', 329.1407110596407, 194.88982553360333, 'graficos/1dcnn_Juliaca_PERC/1dcnn_Juliaca_PERC-2021-08-02.png','graficos/1dcnn_Juliaca_PERC/current_day_1dcnn_Juliaca_PERC-2021-08-02.png');\n",
      "\n",
      "INSERT INTO `DBTesis`.`metrics` (`ml_model_id`, `metric_name`, `date`, `value`, `previous_value`, `metric_image_path`, `metric_current_image_path`)\n",
      "VALUES (9, 'RMSE', '2021-08-03', 269.32563586166606, 329.1407110596407, 'graficos/1dcnn_Juliaca_PERC/1dcnn_Juliaca_PERC-2021-08-03.png','graficos/1dcnn_Juliaca_PERC/current_day_1dcnn_Juliaca_PERC-2021-08-03.png');\n",
      "\n",
      "INSERT INTO `DBTesis`.`metrics` (`ml_model_id`, `metric_name`, `date`, `value`, `previous_value`, `metric_image_path`, `metric_current_image_path`)\n",
      "VALUES (9, 'RMSE', '2021-08-04', 312.1514895748449, 269.32563586166606, 'graficos/1dcnn_Juliaca_PERC/1dcnn_Juliaca_PERC-2021-08-04.png','graficos/1dcnn_Juliaca_PERC/current_day_1dcnn_Juliaca_PERC-2021-08-04.png');\n",
      "\n",
      "INSERT INTO `DBTesis`.`metrics` (`ml_model_id`, `metric_name`, `date`, `value`, `previous_value`, `metric_image_path`, `metric_current_image_path`)\n",
      "VALUES (9, 'RMSE', '2021-08-05', 300.75284067568987, 312.1514895748449, 'graficos/1dcnn_Juliaca_PERC/1dcnn_Juliaca_PERC-2021-08-05.png','graficos/1dcnn_Juliaca_PERC/current_day_1dcnn_Juliaca_PERC-2021-08-05.png');\n",
      "\n",
      "INSERT INTO `DBTesis`.`metrics` (`ml_model_id`, `metric_name`, `date`, `value`, `previous_value`, `metric_image_path`, `metric_current_image_path`)\n",
      "VALUES (9, 'RMSE', '2021-08-06', 300.75284067568987, 300.75284067568987, 'graficos/1dcnn_Juliaca_PERC/1dcnn_Juliaca_PERC-2021-08-06.png','graficos/1dcnn_Juliaca_PERC/current_day_1dcnn_Juliaca_PERC-2021-08-06.png');\n",
      "\n",
      "INSERT INTO `DBTesis`.`metrics` (`ml_model_id`, `metric_name`, `date`, `value`, `previous_value`, `metric_image_path`, `metric_current_image_path`)\n",
      "VALUES (9, 'RMSE', '2021-08-07', 300.75284067568987, 300.75284067568987, 'graficos/1dcnn_Juliaca_PERC/1dcnn_Juliaca_PERC-2021-08-07.png','graficos/1dcnn_Juliaca_PERC/current_day_1dcnn_Juliaca_PERC-2021-08-07.png');\n",
      "\n",
      "INSERT INTO `DBTesis`.`metrics` (`ml_model_id`, `metric_name`, `date`, `value`, `previous_value`, `metric_image_path`, `metric_current_image_path`)\n",
      "VALUES (9, 'RMSE', '2021-08-08', 300.75284067568987, 300.75284067568987, 'graficos/1dcnn_Juliaca_PERC/1dcnn_Juliaca_PERC-2021-08-08.png','graficos/1dcnn_Juliaca_PERC/current_day_1dcnn_Juliaca_PERC-2021-08-08.png');\n",
      "\n",
      "INSERT INTO `DBTesis`.`metrics` (`ml_model_id`, `metric_name`, `date`, `value`, `previous_value`, `metric_image_path`, `metric_current_image_path`)\n",
      "VALUES (9, 'RMSE', '2021-08-09', 300.75284067568987, 300.75284067568987, 'graficos/1dcnn_Juliaca_PERC/1dcnn_Juliaca_PERC-2021-08-09.png','graficos/1dcnn_Juliaca_PERC/current_day_1dcnn_Juliaca_PERC-2021-08-09.png');\n",
      "\n",
      "INSERT INTO `DBTesis`.`metrics` (`ml_model_id`, `metric_name`, `date`, `value`, `previous_value`, `metric_image_path`, `metric_current_image_path`)\n",
      "VALUES (9, 'RMSE', '2021-08-10', 353.5596260936619, 300.75284067568987, 'graficos/1dcnn_Juliaca_PERC/1dcnn_Juliaca_PERC-2021-08-10.png','graficos/1dcnn_Juliaca_PERC/current_day_1dcnn_Juliaca_PERC-2021-08-10.png');\n",
      "\n",
      "INSERT INTO `DBTesis`.`metrics` (`ml_model_id`, `metric_name`, `date`, `value`, `previous_value`, `metric_image_path`, `metric_current_image_path`)\n",
      "VALUES (9, 'RMSE', '2021-08-11', 313.53134740864687, 353.5596260936619, 'graficos/1dcnn_Juliaca_PERC/1dcnn_Juliaca_PERC-2021-08-11.png','graficos/1dcnn_Juliaca_PERC/current_day_1dcnn_Juliaca_PERC-2021-08-11.png');\n",
      "\n",
      "INSERT INTO `DBTesis`.`metrics` (`ml_model_id`, `metric_name`, `date`, `value`, `previous_value`, `metric_image_path`, `metric_current_image_path`)\n",
      "VALUES (9, 'RMSE', '2021-08-12', 337.0764438873196, 313.53134740864687, 'graficos/1dcnn_Juliaca_PERC/1dcnn_Juliaca_PERC-2021-08-12.png','graficos/1dcnn_Juliaca_PERC/current_day_1dcnn_Juliaca_PERC-2021-08-12.png');\n",
      "\n",
      "INSERT INTO `DBTesis`.`metrics` (`ml_model_id`, `metric_name`, `date`, `value`, `previous_value`, `metric_image_path`, `metric_current_image_path`)\n",
      "VALUES (9, 'RMSE', '2021-08-13', 325.01244156502753, 337.0764438873196, 'graficos/1dcnn_Juliaca_PERC/1dcnn_Juliaca_PERC-2021-08-13.png','graficos/1dcnn_Juliaca_PERC/current_day_1dcnn_Juliaca_PERC-2021-08-13.png');\n",
      "\n",
      "INSERT INTO `DBTesis`.`metrics` (`ml_model_id`, `metric_name`, `date`, `value`, `previous_value`, `metric_image_path`, `metric_current_image_path`)\n",
      "VALUES (9, 'RMSE', '2021-08-14', 264.60043435111123, 325.01244156502753, 'graficos/1dcnn_Juliaca_PERC/1dcnn_Juliaca_PERC-2021-08-14.png','graficos/1dcnn_Juliaca_PERC/current_day_1dcnn_Juliaca_PERC-2021-08-14.png');\n",
      "\n",
      "INSERT INTO `DBTesis`.`metrics` (`ml_model_id`, `metric_name`, `date`, `value`, `previous_value`, `metric_image_path`, `metric_current_image_path`)\n",
      "VALUES (9, 'RMSE', '2021-08-15', 325.6994837455477, 264.60043435111123, 'graficos/1dcnn_Juliaca_PERC/1dcnn_Juliaca_PERC-2021-08-15.png','graficos/1dcnn_Juliaca_PERC/current_day_1dcnn_Juliaca_PERC-2021-08-15.png');\n",
      "\n",
      "INSERT INTO `DBTesis`.`metrics` (`ml_model_id`, `metric_name`, `date`, `value`, `previous_value`, `metric_image_path`, `metric_current_image_path`)\n",
      "VALUES (9, 'RMSE', '2021-08-16', 390.5730813990847, 325.6994837455477, 'graficos/1dcnn_Juliaca_PERC/1dcnn_Juliaca_PERC-2021-08-16.png','graficos/1dcnn_Juliaca_PERC/current_day_1dcnn_Juliaca_PERC-2021-08-16.png');\n",
      "\n",
      "INSERT INTO `DBTesis`.`metrics` (`ml_model_id`, `metric_name`, `date`, `value`, `previous_value`, `metric_image_path`, `metric_current_image_path`)\n",
      "VALUES (9, 'RMSE', '2021-08-17', 222.56692668117358, 390.5730813990847, 'graficos/1dcnn_Juliaca_PERC/1dcnn_Juliaca_PERC-2021-08-17.png','graficos/1dcnn_Juliaca_PERC/current_day_1dcnn_Juliaca_PERC-2021-08-17.png');\n",
      "\n",
      "INSERT INTO `DBTesis`.`metrics` (`ml_model_id`, `metric_name`, `date`, `value`, `previous_value`, `metric_image_path`, `metric_current_image_path`)\n",
      "VALUES (9, 'RMSE', '2021-08-18', 314.48157700835395, 222.56692668117358, 'graficos/1dcnn_Juliaca_PERC/1dcnn_Juliaca_PERC-2021-08-18.png','graficos/1dcnn_Juliaca_PERC/current_day_1dcnn_Juliaca_PERC-2021-08-18.png');\n",
      "\n",
      "INSERT INTO `DBTesis`.`metrics` (`ml_model_id`, `metric_name`, `date`, `value`, `previous_value`, `metric_image_path`, `metric_current_image_path`)\n",
      "VALUES (9, 'RMSE', '2021-08-19', 371.7485657010667, 314.48157700835395, 'graficos/1dcnn_Juliaca_PERC/1dcnn_Juliaca_PERC-2021-08-19.png','graficos/1dcnn_Juliaca_PERC/current_day_1dcnn_Juliaca_PERC-2021-08-19.png');\n",
      "\n",
      "INSERT INTO `DBTesis`.`metrics` (`ml_model_id`, `metric_name`, `date`, `value`, `previous_value`, `metric_image_path`, `metric_current_image_path`)\n",
      "VALUES (9, 'RMSE', '2021-08-20', 351.2777464660268, 371.7485657010667, 'graficos/1dcnn_Juliaca_PERC/1dcnn_Juliaca_PERC-2021-08-20.png','graficos/1dcnn_Juliaca_PERC/current_day_1dcnn_Juliaca_PERC-2021-08-20.png');\n",
      "\n",
      "INSERT INTO `DBTesis`.`metrics` (`ml_model_id`, `metric_name`, `date`, `value`, `previous_value`, `metric_image_path`, `metric_current_image_path`)\n",
      "VALUES (9, 'RMSE', '2021-08-21', 352.261684313374, 351.2777464660268, 'graficos/1dcnn_Juliaca_PERC/1dcnn_Juliaca_PERC-2021-08-21.png','graficos/1dcnn_Juliaca_PERC/current_day_1dcnn_Juliaca_PERC-2021-08-21.png');\n",
      "\n",
      "INSERT INTO `DBTesis`.`metrics` (`ml_model_id`, `metric_name`, `date`, `value`, `previous_value`, `metric_image_path`, `metric_current_image_path`)\n",
      "VALUES (9, 'RMSE', '2021-08-22', 292.17309901492365, 352.261684313374, 'graficos/1dcnn_Juliaca_PERC/1dcnn_Juliaca_PERC-2021-08-22.png','graficos/1dcnn_Juliaca_PERC/current_day_1dcnn_Juliaca_PERC-2021-08-22.png');\n",
      "\n",
      "INSERT INTO `DBTesis`.`metrics` (`ml_model_id`, `metric_name`, `date`, `value`, `previous_value`, `metric_image_path`, `metric_current_image_path`)\n",
      "VALUES (9, 'RMSE', '2021-08-23', 249.49102228172183, 292.17309901492365, 'graficos/1dcnn_Juliaca_PERC/1dcnn_Juliaca_PERC-2021-08-23.png','graficos/1dcnn_Juliaca_PERC/current_day_1dcnn_Juliaca_PERC-2021-08-23.png');\n",
      "\n",
      "INSERT INTO `DBTesis`.`metrics` (`ml_model_id`, `metric_name`, `date`, `value`, `previous_value`, `metric_image_path`, `metric_current_image_path`)\n",
      "VALUES (9, 'RMSE', '2021-08-24', 162.9410734703616, 249.49102228172183, 'graficos/1dcnn_Juliaca_PERC/1dcnn_Juliaca_PERC-2021-08-24.png','graficos/1dcnn_Juliaca_PERC/current_day_1dcnn_Juliaca_PERC-2021-08-24.png');\n",
      "\n",
      "INSERT INTO `DBTesis`.`metrics` (`ml_model_id`, `metric_name`, `date`, `value`, `previous_value`, `metric_image_path`, `metric_current_image_path`)\n",
      "VALUES (9, 'RMSE', '2021-08-25', 440.9591565432602, 162.9410734703616, 'graficos/1dcnn_Juliaca_PERC/1dcnn_Juliaca_PERC-2021-08-25.png','graficos/1dcnn_Juliaca_PERC/current_day_1dcnn_Juliaca_PERC-2021-08-25.png');\n",
      "\n",
      "INSERT INTO `DBTesis`.`metrics` (`ml_model_id`, `metric_name`, `date`, `value`, `previous_value`, `metric_image_path`, `metric_current_image_path`)\n",
      "VALUES (9, 'RMSE', '2021-08-26', 309.5926107512482, 440.9591565432602, 'graficos/1dcnn_Juliaca_PERC/1dcnn_Juliaca_PERC-2021-08-26.png','graficos/1dcnn_Juliaca_PERC/current_day_1dcnn_Juliaca_PERC-2021-08-26.png');\n",
      "\n",
      "INSERT INTO `DBTesis`.`metrics` (`ml_model_id`, `metric_name`, `date`, `value`, `previous_value`, `metric_image_path`, `metric_current_image_path`)\n",
      "VALUES (9, 'RMSE', '2021-08-27', 239.74815748322862, 309.5926107512482, 'graficos/1dcnn_Juliaca_PERC/1dcnn_Juliaca_PERC-2021-08-27.png','graficos/1dcnn_Juliaca_PERC/current_day_1dcnn_Juliaca_PERC-2021-08-27.png');\n",
      "\n",
      "INSERT INTO `DBTesis`.`metrics` (`ml_model_id`, `metric_name`, `date`, `value`, `previous_value`, `metric_image_path`, `metric_current_image_path`)\n",
      "VALUES (9, 'RMSE', '2021-08-28', 705.73494455871, 239.74815748322862, 'graficos/1dcnn_Juliaca_PERC/1dcnn_Juliaca_PERC-2021-08-28.png','graficos/1dcnn_Juliaca_PERC/current_day_1dcnn_Juliaca_PERC-2021-08-28.png');\n",
      "\n",
      "INSERT INTO `DBTesis`.`metrics` (`ml_model_id`, `metric_name`, `date`, `value`, `previous_value`, `metric_image_path`, `metric_current_image_path`)\n",
      "VALUES (9, 'RMSE', '2021-08-29', 347.8701313924539, 705.73494455871, 'graficos/1dcnn_Juliaca_PERC/1dcnn_Juliaca_PERC-2021-08-29.png','graficos/1dcnn_Juliaca_PERC/current_day_1dcnn_Juliaca_PERC-2021-08-29.png');\n",
      "\n",
      "INSERT INTO `DBTesis`.`metrics` (`ml_model_id`, `metric_name`, `date`, `value`, `previous_value`, `metric_image_path`, `metric_current_image_path`)\n",
      "VALUES (9, 'RMSE', '2021-08-30', 345.136630926069, 347.8701313924539, 'graficos/1dcnn_Juliaca_PERC/1dcnn_Juliaca_PERC-2021-08-30.png','graficos/1dcnn_Juliaca_PERC/current_day_1dcnn_Juliaca_PERC-2021-08-30.png');\n",
      "\n",
      "INSERT INTO `DBTesis`.`metrics` (`ml_model_id`, `metric_name`, `date`, `value`, `previous_value`, `metric_image_path`, `metric_current_image_path`)\n",
      "VALUES (9, 'RMSE', '2021-08-31', 278.3859145075801, 345.136630926069, 'graficos/1dcnn_Juliaca_PERC/1dcnn_Juliaca_PERC-2021-08-31.png','graficos/1dcnn_Juliaca_PERC/current_day_1dcnn_Juliaca_PERC-2021-08-31.png');\n",
      "\n",
      "INSERT INTO `DBTesis`.`metrics` (`ml_model_id`, `metric_name`, `date`, `value`, `previous_value`, `metric_image_path`, `metric_current_image_path`)\n",
      "VALUES (9, 'RMSE', '2021-09-01', 291.2340382287415, 278.3859145075801, 'graficos/1dcnn_Juliaca_PERC/1dcnn_Juliaca_PERC-2021-09-01.png','graficos/1dcnn_Juliaca_PERC/current_day_1dcnn_Juliaca_PERC-2021-09-01.png');\n",
      "\n",
      "INSERT INTO `DBTesis`.`metrics` (`ml_model_id`, `metric_name`, `date`, `value`, `previous_value`, `metric_image_path`, `metric_current_image_path`)\n",
      "VALUES (9, 'RMSE', '2021-09-02', 314.82749860885156, 291.2340382287415, 'graficos/1dcnn_Juliaca_PERC/1dcnn_Juliaca_PERC-2021-09-02.png','graficos/1dcnn_Juliaca_PERC/current_day_1dcnn_Juliaca_PERC-2021-09-02.png');\n",
      "\n",
      "INSERT INTO `DBTesis`.`metrics` (`ml_model_id`, `metric_name`, `date`, `value`, `previous_value`, `metric_image_path`, `metric_current_image_path`)\n",
      "VALUES (9, 'RMSE', '2021-09-03', 312.11183550550743, 314.82749860885156, 'graficos/1dcnn_Juliaca_PERC/1dcnn_Juliaca_PERC-2021-09-03.png','graficos/1dcnn_Juliaca_PERC/current_day_1dcnn_Juliaca_PERC-2021-09-03.png');\n",
      "\n",
      "INSERT INTO `DBTesis`.`metrics` (`ml_model_id`, `metric_name`, `date`, `value`, `previous_value`, `metric_image_path`, `metric_current_image_path`)\n",
      "VALUES (9, 'RMSE', '2021-09-04', 334.48051604780693, 312.11183550550743, 'graficos/1dcnn_Juliaca_PERC/1dcnn_Juliaca_PERC-2021-09-04.png','graficos/1dcnn_Juliaca_PERC/current_day_1dcnn_Juliaca_PERC-2021-09-04.png');\n",
      "\n",
      "INSERT INTO `DBTesis`.`metrics` (`ml_model_id`, `metric_name`, `date`, `value`, `previous_value`, `metric_image_path`, `metric_current_image_path`)\n",
      "VALUES (9, 'RMSE', '2021-09-05', 275.30811034745227, 334.48051604780693, 'graficos/1dcnn_Juliaca_PERC/1dcnn_Juliaca_PERC-2021-09-05.png','graficos/1dcnn_Juliaca_PERC/current_day_1dcnn_Juliaca_PERC-2021-09-05.png');\n",
      "\n",
      "INSERT INTO `DBTesis`.`metrics` (`ml_model_id`, `metric_name`, `date`, `value`, `previous_value`, `metric_image_path`, `metric_current_image_path`)\n",
      "VALUES (9, 'RMSE', '2021-09-06', 481.0154397436993, 275.30811034745227, 'graficos/1dcnn_Juliaca_PERC/1dcnn_Juliaca_PERC-2021-09-06.png','graficos/1dcnn_Juliaca_PERC/current_day_1dcnn_Juliaca_PERC-2021-09-06.png');\n",
      "\n",
      "INSERT INTO `DBTesis`.`metrics` (`ml_model_id`, `metric_name`, `date`, `value`, `previous_value`, `metric_image_path`, `metric_current_image_path`)\n",
      "VALUES (9, 'RMSE', '2021-09-07', 116.97570048361433, 481.0154397436993, 'graficos/1dcnn_Juliaca_PERC/1dcnn_Juliaca_PERC-2021-09-07.png','graficos/1dcnn_Juliaca_PERC/current_day_1dcnn_Juliaca_PERC-2021-09-07.png');\n",
      "\n",
      "INSERT INTO `DBTesis`.`metrics` (`ml_model_id`, `metric_name`, `date`, `value`, `previous_value`, `metric_image_path`, `metric_current_image_path`)\n",
      "VALUES (9, 'RMSE', '2021-09-08', 403.0397346373367, 116.97570048361433, 'graficos/1dcnn_Juliaca_PERC/1dcnn_Juliaca_PERC-2021-09-08.png','graficos/1dcnn_Juliaca_PERC/current_day_1dcnn_Juliaca_PERC-2021-09-08.png');\n",
      "\n",
      "INSERT INTO `DBTesis`.`metrics` (`ml_model_id`, `metric_name`, `date`, `value`, `previous_value`, `metric_image_path`, `metric_current_image_path`)\n",
      "VALUES (9, 'RMSE', '2021-09-09', 367.8060683666525, 403.0397346373367, 'graficos/1dcnn_Juliaca_PERC/1dcnn_Juliaca_PERC-2021-09-09.png','graficos/1dcnn_Juliaca_PERC/current_day_1dcnn_Juliaca_PERC-2021-09-09.png');\n",
      "\n",
      "INSERT INTO `DBTesis`.`metrics` (`ml_model_id`, `metric_name`, `date`, `value`, `previous_value`, `metric_image_path`, `metric_current_image_path`)\n",
      "VALUES (9, 'RMSE', '2021-09-10', 363.10367672606236, 367.8060683666525, 'graficos/1dcnn_Juliaca_PERC/1dcnn_Juliaca_PERC-2021-09-10.png','graficos/1dcnn_Juliaca_PERC/current_day_1dcnn_Juliaca_PERC-2021-09-10.png');\n",
      "\n",
      "INSERT INTO `DBTesis`.`metrics` (`ml_model_id`, `metric_name`, `date`, `value`, `previous_value`, `metric_image_path`, `metric_current_image_path`)\n",
      "VALUES (9, 'RMSE', '2021-09-11', 245.3923562053878, 363.10367672606236, 'graficos/1dcnn_Juliaca_PERC/1dcnn_Juliaca_PERC-2021-09-11.png','graficos/1dcnn_Juliaca_PERC/current_day_1dcnn_Juliaca_PERC-2021-09-11.png');\n",
      "\n",
      "INSERT INTO `DBTesis`.`metrics` (`ml_model_id`, `metric_name`, `date`, `value`, `previous_value`, `metric_image_path`, `metric_current_image_path`)\n",
      "VALUES (9, 'RMSE', '2021-09-12', 542.6456021049488, 245.3923562053878, 'graficos/1dcnn_Juliaca_PERC/1dcnn_Juliaca_PERC-2021-09-12.png','graficos/1dcnn_Juliaca_PERC/current_day_1dcnn_Juliaca_PERC-2021-09-12.png');\n",
      "\n",
      "INSERT INTO `DBTesis`.`metrics` (`ml_model_id`, `metric_name`, `date`, `value`, `previous_value`, `metric_image_path`, `metric_current_image_path`)\n",
      "VALUES (9, 'RMSE', '2021-09-13', 313.6338343931699, 542.6456021049488, 'graficos/1dcnn_Juliaca_PERC/1dcnn_Juliaca_PERC-2021-09-13.png','graficos/1dcnn_Juliaca_PERC/current_day_1dcnn_Juliaca_PERC-2021-09-13.png');\n",
      "\n",
      "INSERT INTO `DBTesis`.`metrics` (`ml_model_id`, `metric_name`, `date`, `value`, `previous_value`, `metric_image_path`, `metric_current_image_path`)\n",
      "VALUES (9, 'RMSE', '2021-09-14', 269.8394762301444, 313.6338343931699, 'graficos/1dcnn_Juliaca_PERC/1dcnn_Juliaca_PERC-2021-09-14.png','graficos/1dcnn_Juliaca_PERC/current_day_1dcnn_Juliaca_PERC-2021-09-14.png');\n",
      "\n",
      "INSERT INTO `DBTesis`.`metrics` (`ml_model_id`, `metric_name`, `date`, `value`, `previous_value`, `metric_image_path`, `metric_current_image_path`)\n",
      "VALUES (9, 'RMSE', '2021-09-15', 296.17883877121267, 269.8394762301444, 'graficos/1dcnn_Juliaca_PERC/1dcnn_Juliaca_PERC-2021-09-15.png','graficos/1dcnn_Juliaca_PERC/current_day_1dcnn_Juliaca_PERC-2021-09-15.png');\n",
      "\n",
      "INSERT INTO `DBTesis`.`metrics` (`ml_model_id`, `metric_name`, `date`, `value`, `previous_value`, `metric_image_path`, `metric_current_image_path`)\n",
      "VALUES (9, 'RMSE', '2021-09-16', 430.38800837607903, 296.17883877121267, 'graficos/1dcnn_Juliaca_PERC/1dcnn_Juliaca_PERC-2021-09-16.png','graficos/1dcnn_Juliaca_PERC/current_day_1dcnn_Juliaca_PERC-2021-09-16.png');\n",
      "\n",
      "INSERT INTO `DBTesis`.`metrics` (`ml_model_id`, `metric_name`, `date`, `value`, `previous_value`, `metric_image_path`, `metric_current_image_path`)\n",
      "VALUES (9, 'RMSE', '2021-09-17', 268.5521089619691, 430.38800837607903, 'graficos/1dcnn_Juliaca_PERC/1dcnn_Juliaca_PERC-2021-09-17.png','graficos/1dcnn_Juliaca_PERC/current_day_1dcnn_Juliaca_PERC-2021-09-17.png');\n",
      "\n",
      "INSERT INTO `DBTesis`.`metrics` (`ml_model_id`, `metric_name`, `date`, `value`, `previous_value`, `metric_image_path`, `metric_current_image_path`)\n",
      "VALUES (9, 'RMSE', '2021-09-18', 388.79074733023197, 268.5521089619691, 'graficos/1dcnn_Juliaca_PERC/1dcnn_Juliaca_PERC-2021-09-18.png','graficos/1dcnn_Juliaca_PERC/current_day_1dcnn_Juliaca_PERC-2021-09-18.png');\n",
      "\n",
      "INSERT INTO `DBTesis`.`metrics` (`ml_model_id`, `metric_name`, `date`, `value`, `previous_value`, `metric_image_path`, `metric_current_image_path`)\n",
      "VALUES (9, 'RMSE', '2021-09-19', 1481.743629424951, 388.79074733023197, 'graficos/1dcnn_Juliaca_PERC/1dcnn_Juliaca_PERC-2021-09-19.png','graficos/1dcnn_Juliaca_PERC/current_day_1dcnn_Juliaca_PERC-2021-09-19.png');\n",
      "\n",
      "INSERT INTO `DBTesis`.`metrics` (`ml_model_id`, `metric_name`, `date`, `value`, `previous_value`, `metric_image_path`, `metric_current_image_path`)\n",
      "VALUES (9, 'RMSE', '2021-09-20', 357.2564230087666, 1481.743629424951, 'graficos/1dcnn_Juliaca_PERC/1dcnn_Juliaca_PERC-2021-09-20.png','graficos/1dcnn_Juliaca_PERC/current_day_1dcnn_Juliaca_PERC-2021-09-20.png');\n",
      "\n",
      "INSERT INTO `DBTesis`.`metrics` (`ml_model_id`, `metric_name`, `date`, `value`, `previous_value`, `metric_image_path`, `metric_current_image_path`)\n",
      "VALUES (9, 'RMSE', '2021-09-21', 385.8782621599987, 357.2564230087666, 'graficos/1dcnn_Juliaca_PERC/1dcnn_Juliaca_PERC-2021-09-21.png','graficos/1dcnn_Juliaca_PERC/current_day_1dcnn_Juliaca_PERC-2021-09-21.png');\n",
      "\n",
      "INSERT INTO `DBTesis`.`metrics` (`ml_model_id`, `metric_name`, `date`, `value`, `previous_value`, `metric_image_path`, `metric_current_image_path`)\n",
      "VALUES (9, 'RMSE', '2021-09-22', 216.90704718392087, 385.8782621599987, 'graficos/1dcnn_Juliaca_PERC/1dcnn_Juliaca_PERC-2021-09-22.png','graficos/1dcnn_Juliaca_PERC/current_day_1dcnn_Juliaca_PERC-2021-09-22.png');\n",
      "\n",
      "INSERT INTO `DBTesis`.`metrics` (`ml_model_id`, `metric_name`, `date`, `value`, `previous_value`, `metric_image_path`, `metric_current_image_path`)\n",
      "VALUES (9, 'RMSE', '2021-09-23', 236.37468579007205, 216.90704718392087, 'graficos/1dcnn_Juliaca_PERC/1dcnn_Juliaca_PERC-2021-09-23.png','graficos/1dcnn_Juliaca_PERC/current_day_1dcnn_Juliaca_PERC-2021-09-23.png');\n",
      "\n",
      "INSERT INTO `DBTesis`.`metrics` (`ml_model_id`, `metric_name`, `date`, `value`, `previous_value`, `metric_image_path`, `metric_current_image_path`)\n",
      "VALUES (9, 'RMSE', '2021-09-24', 541.3850771945566, 236.37468579007205, 'graficos/1dcnn_Juliaca_PERC/1dcnn_Juliaca_PERC-2021-09-24.png','graficos/1dcnn_Juliaca_PERC/current_day_1dcnn_Juliaca_PERC-2021-09-24.png');\n",
      "\n",
      "INSERT INTO `DBTesis`.`metrics` (`ml_model_id`, `metric_name`, `date`, `value`, `previous_value`, `metric_image_path`, `metric_current_image_path`)\n",
      "VALUES (9, 'RMSE', '2021-09-25', 259.43837591240174, 541.3850771945566, 'graficos/1dcnn_Juliaca_PERC/1dcnn_Juliaca_PERC-2021-09-25.png','graficos/1dcnn_Juliaca_PERC/current_day_1dcnn_Juliaca_PERC-2021-09-25.png');\n",
      "\n",
      "INSERT INTO `DBTesis`.`metrics` (`ml_model_id`, `metric_name`, `date`, `value`, `previous_value`, `metric_image_path`, `metric_current_image_path`)\n",
      "VALUES (9, 'RMSE', '2021-09-26', 560.5127556764891, 259.43837591240174, 'graficos/1dcnn_Juliaca_PERC/1dcnn_Juliaca_PERC-2021-09-26.png','graficos/1dcnn_Juliaca_PERC/current_day_1dcnn_Juliaca_PERC-2021-09-26.png');\n",
      "\n",
      "INSERT INTO `DBTesis`.`metrics` (`ml_model_id`, `metric_name`, `date`, `value`, `previous_value`, `metric_image_path`, `metric_current_image_path`)\n",
      "VALUES (9, 'RMSE', '2021-09-27', 385.7154938906516, 560.5127556764891, 'graficos/1dcnn_Juliaca_PERC/1dcnn_Juliaca_PERC-2021-09-27.png','graficos/1dcnn_Juliaca_PERC/current_day_1dcnn_Juliaca_PERC-2021-09-27.png');\n",
      "\n",
      "INSERT INTO `DBTesis`.`metrics` (`ml_model_id`, `metric_name`, `date`, `value`, `previous_value`, `metric_image_path`, `metric_current_image_path`)\n",
      "VALUES (9, 'RMSE', '2021-09-28', 412.3084515117372, 385.7154938906516, 'graficos/1dcnn_Juliaca_PERC/1dcnn_Juliaca_PERC-2021-09-28.png','graficos/1dcnn_Juliaca_PERC/current_day_1dcnn_Juliaca_PERC-2021-09-28.png');\n",
      "\n",
      "INSERT INTO `DBTesis`.`metrics` (`ml_model_id`, `metric_name`, `date`, `value`, `previous_value`, `metric_image_path`, `metric_current_image_path`)\n",
      "VALUES (9, 'RMSE', '2021-09-29', 311.57596994994145, 412.3084515117372, 'graficos/1dcnn_Juliaca_PERC/1dcnn_Juliaca_PERC-2021-09-29.png','graficos/1dcnn_Juliaca_PERC/current_day_1dcnn_Juliaca_PERC-2021-09-29.png');\n",
      "\n",
      "INSERT INTO `DBTesis`.`metrics` (`ml_model_id`, `metric_name`, `date`, `value`, `previous_value`, `metric_image_path`, `metric_current_image_path`)\n",
      "VALUES (9, 'RMSE', '2021-09-30', 272.5000107826006, 311.57596994994145, 'graficos/1dcnn_Juliaca_PERC/1dcnn_Juliaca_PERC-2021-09-30.png','graficos/1dcnn_Juliaca_PERC/current_day_1dcnn_Juliaca_PERC-2021-09-30.png');\n",
      "\n",
      "INSERT INTO `DBTesis`.`metrics` (`ml_model_id`, `metric_name`, `date`, `value`, `previous_value`, `metric_image_path`, `metric_current_image_path`)\n",
      "VALUES (9, 'RMSE', '2021-10-01', 177.6081319458793, 272.5000107826006, 'graficos/1dcnn_Juliaca_PERC/1dcnn_Juliaca_PERC-2021-10-01.png','graficos/1dcnn_Juliaca_PERC/current_day_1dcnn_Juliaca_PERC-2021-10-01.png');\n",
      "\n",
      "INSERT INTO `DBTesis`.`metrics` (`ml_model_id`, `metric_name`, `date`, `value`, `previous_value`, `metric_image_path`, `metric_current_image_path`)\n",
      "VALUES (9, 'RMSE', '2021-10-02', 252.71736849100543, 177.6081319458793, 'graficos/1dcnn_Juliaca_PERC/1dcnn_Juliaca_PERC-2021-10-02.png','graficos/1dcnn_Juliaca_PERC/current_day_1dcnn_Juliaca_PERC-2021-10-02.png');\n",
      "\n",
      "INSERT INTO `DBTesis`.`metrics` (`ml_model_id`, `metric_name`, `date`, `value`, `previous_value`, `metric_image_path`, `metric_current_image_path`)\n",
      "VALUES (9, 'RMSE', '2021-10-03', 212.8223099900754, 252.71736849100543, 'graficos/1dcnn_Juliaca_PERC/1dcnn_Juliaca_PERC-2021-10-03.png','graficos/1dcnn_Juliaca_PERC/current_day_1dcnn_Juliaca_PERC-2021-10-03.png');\n",
      "\n",
      "INSERT INTO `DBTesis`.`metrics` (`ml_model_id`, `metric_name`, `date`, `value`, `previous_value`, `metric_image_path`, `metric_current_image_path`)\n",
      "VALUES (9, 'RMSE', '2021-10-04', 291.5650099375468, 212.8223099900754, 'graficos/1dcnn_Juliaca_PERC/1dcnn_Juliaca_PERC-2021-10-04.png','graficos/1dcnn_Juliaca_PERC/current_day_1dcnn_Juliaca_PERC-2021-10-04.png');\n",
      "\n",
      "INSERT INTO `DBTesis`.`metrics` (`ml_model_id`, `metric_name`, `date`, `value`, `previous_value`, `metric_image_path`, `metric_current_image_path`)\n",
      "VALUES (9, 'RMSE', '2021-10-05', 419.1302866937097, 291.5650099375468, 'graficos/1dcnn_Juliaca_PERC/1dcnn_Juliaca_PERC-2021-10-05.png','graficos/1dcnn_Juliaca_PERC/current_day_1dcnn_Juliaca_PERC-2021-10-05.png');\n",
      "\n",
      "INSERT INTO `DBTesis`.`metrics` (`ml_model_id`, `metric_name`, `date`, `value`, `previous_value`, `metric_image_path`, `metric_current_image_path`)\n",
      "VALUES (9, 'RMSE', '2021-10-06', 342.99126430271724, 419.1302866937097, 'graficos/1dcnn_Juliaca_PERC/1dcnn_Juliaca_PERC-2021-10-06.png','graficos/1dcnn_Juliaca_PERC/current_day_1dcnn_Juliaca_PERC-2021-10-06.png');\n",
      "\n",
      "INSERT INTO `DBTesis`.`metrics` (`ml_model_id`, `metric_name`, `date`, `value`, `previous_value`, `metric_image_path`, `metric_current_image_path`)\n",
      "VALUES (9, 'RMSE', '2021-10-07', 312.99946706471167, 342.99126430271724, 'graficos/1dcnn_Juliaca_PERC/1dcnn_Juliaca_PERC-2021-10-07.png','graficos/1dcnn_Juliaca_PERC/current_day_1dcnn_Juliaca_PERC-2021-10-07.png');\n",
      "\n",
      "INSERT INTO `DBTesis`.`metrics` (`ml_model_id`, `metric_name`, `date`, `value`, `previous_value`, `metric_image_path`, `metric_current_image_path`)\n",
      "VALUES (9, 'RMSE', '2021-10-08', 274.27005572666076, 312.99946706471167, 'graficos/1dcnn_Juliaca_PERC/1dcnn_Juliaca_PERC-2021-10-08.png','graficos/1dcnn_Juliaca_PERC/current_day_1dcnn_Juliaca_PERC-2021-10-08.png');\n",
      "\n",
      "INSERT INTO `DBTesis`.`metrics` (`ml_model_id`, `metric_name`, `date`, `value`, `previous_value`, `metric_image_path`, `metric_current_image_path`)\n",
      "VALUES (9, 'RMSE', '2021-10-09', 446.0174642302439, 274.27005572666076, 'graficos/1dcnn_Juliaca_PERC/1dcnn_Juliaca_PERC-2021-10-09.png','graficos/1dcnn_Juliaca_PERC/current_day_1dcnn_Juliaca_PERC-2021-10-09.png');\n",
      "\n",
      "INSERT INTO `DBTesis`.`metrics` (`ml_model_id`, `metric_name`, `date`, `value`, `previous_value`, `metric_image_path`, `metric_current_image_path`)\n",
      "VALUES (9, 'RMSE', '2021-10-10', 371.34742664070706, 446.0174642302439, 'graficos/1dcnn_Juliaca_PERC/1dcnn_Juliaca_PERC-2021-10-10.png','graficos/1dcnn_Juliaca_PERC/current_day_1dcnn_Juliaca_PERC-2021-10-10.png');\n",
      "\n",
      "INSERT INTO `DBTesis`.`metrics` (`ml_model_id`, `metric_name`, `date`, `value`, `previous_value`, `metric_image_path`, `metric_current_image_path`)\n",
      "VALUES (9, 'RMSE', '2021-10-11', 179.5515992680292, 371.34742664070706, 'graficos/1dcnn_Juliaca_PERC/1dcnn_Juliaca_PERC-2021-10-11.png','graficos/1dcnn_Juliaca_PERC/current_day_1dcnn_Juliaca_PERC-2021-10-11.png');\n",
      "\n",
      "INSERT INTO `DBTesis`.`metrics` (`ml_model_id`, `metric_name`, `date`, `value`, `previous_value`, `metric_image_path`, `metric_current_image_path`)\n",
      "VALUES (9, 'RMSE', '2021-10-12', 238.10712371123034, 179.5515992680292, 'graficos/1dcnn_Juliaca_PERC/1dcnn_Juliaca_PERC-2021-10-12.png','graficos/1dcnn_Juliaca_PERC/current_day_1dcnn_Juliaca_PERC-2021-10-12.png');\n",
      "\n",
      "INSERT INTO `DBTesis`.`metrics` (`ml_model_id`, `metric_name`, `date`, `value`, `previous_value`, `metric_image_path`, `metric_current_image_path`)\n",
      "VALUES (9, 'RMSE', '2021-10-13', 238.10712371123034, 238.10712371123034, 'graficos/1dcnn_Juliaca_PERC/1dcnn_Juliaca_PERC-2021-10-13.png','graficos/1dcnn_Juliaca_PERC/current_day_1dcnn_Juliaca_PERC-2021-10-13.png');\n",
      "\n",
      "INSERT INTO `DBTesis`.`metrics` (`ml_model_id`, `metric_name`, `date`, `value`, `previous_value`, `metric_image_path`, `metric_current_image_path`)\n",
      "VALUES (9, 'RMSE', '2021-10-14', 348.2151246116783, 238.10712371123034, 'graficos/1dcnn_Juliaca_PERC/1dcnn_Juliaca_PERC-2021-10-14.png','graficos/1dcnn_Juliaca_PERC/current_day_1dcnn_Juliaca_PERC-2021-10-14.png');\n",
      "\n",
      "INSERT INTO `DBTesis`.`metrics` (`ml_model_id`, `metric_name`, `date`, `value`, `previous_value`, `metric_image_path`, `metric_current_image_path`)\n",
      "VALUES (9, 'RMSE', '2021-10-15', 277.3929381406482, 348.2151246116783, 'graficos/1dcnn_Juliaca_PERC/1dcnn_Juliaca_PERC-2021-10-15.png','graficos/1dcnn_Juliaca_PERC/current_day_1dcnn_Juliaca_PERC-2021-10-15.png');\n",
      "\n",
      "INSERT INTO `DBTesis`.`metrics` (`ml_model_id`, `metric_name`, `date`, `value`, `previous_value`, `metric_image_path`, `metric_current_image_path`)\n",
      "VALUES (9, 'RMSE', '2021-10-16', 143.88262535664379, 277.3929381406482, 'graficos/1dcnn_Juliaca_PERC/1dcnn_Juliaca_PERC-2021-10-16.png','graficos/1dcnn_Juliaca_PERC/current_day_1dcnn_Juliaca_PERC-2021-10-16.png');\n",
      "\n",
      "INSERT INTO `DBTesis`.`metrics` (`ml_model_id`, `metric_name`, `date`, `value`, `previous_value`, `metric_image_path`, `metric_current_image_path`)\n",
      "VALUES (9, 'RMSE', '2021-10-17', 309.3718189227271, 143.88262535664379, 'graficos/1dcnn_Juliaca_PERC/1dcnn_Juliaca_PERC-2021-10-17.png','graficos/1dcnn_Juliaca_PERC/current_day_1dcnn_Juliaca_PERC-2021-10-17.png');\n",
      "\n",
      "INSERT INTO `DBTesis`.`metrics` (`ml_model_id`, `metric_name`, `date`, `value`, `previous_value`, `metric_image_path`, `metric_current_image_path`)\n",
      "VALUES (9, 'RMSE', '2021-10-18', 373.1089544836795, 309.3718189227271, 'graficos/1dcnn_Juliaca_PERC/1dcnn_Juliaca_PERC-2021-10-18.png','graficos/1dcnn_Juliaca_PERC/current_day_1dcnn_Juliaca_PERC-2021-10-18.png');\n",
      "\n",
      "INSERT INTO `DBTesis`.`metrics` (`ml_model_id`, `metric_name`, `date`, `value`, `previous_value`, `metric_image_path`, `metric_current_image_path`)\n",
      "VALUES (9, 'RMSE', '2021-10-19', 181.90161397963305, 373.1089544836795, 'graficos/1dcnn_Juliaca_PERC/1dcnn_Juliaca_PERC-2021-10-19.png','graficos/1dcnn_Juliaca_PERC/current_day_1dcnn_Juliaca_PERC-2021-10-19.png');\n",
      "\n",
      "INSERT INTO `DBTesis`.`metrics` (`ml_model_id`, `metric_name`, `date`, `value`, `previous_value`, `metric_image_path`, `metric_current_image_path`)\n",
      "VALUES (9, 'RMSE', '2021-10-20', 115.46521442565596, 181.90161397963305, 'graficos/1dcnn_Juliaca_PERC/1dcnn_Juliaca_PERC-2021-10-20.png','graficos/1dcnn_Juliaca_PERC/current_day_1dcnn_Juliaca_PERC-2021-10-20.png');\n",
      "\n",
      "INSERT INTO `DBTesis`.`metrics` (`ml_model_id`, `metric_name`, `date`, `value`, `previous_value`, `metric_image_path`, `metric_current_image_path`)\n",
      "VALUES (9, 'RMSE', '2021-10-21', 304.5120656612607, 115.46521442565596, 'graficos/1dcnn_Juliaca_PERC/1dcnn_Juliaca_PERC-2021-10-21.png','graficos/1dcnn_Juliaca_PERC/current_day_1dcnn_Juliaca_PERC-2021-10-21.png');\n",
      "\n",
      "INSERT INTO `DBTesis`.`metrics` (`ml_model_id`, `metric_name`, `date`, `value`, `previous_value`, `metric_image_path`, `metric_current_image_path`)\n",
      "VALUES (9, 'RMSE', '2021-10-22', 239.09994618471418, 304.5120656612607, 'graficos/1dcnn_Juliaca_PERC/1dcnn_Juliaca_PERC-2021-10-22.png','graficos/1dcnn_Juliaca_PERC/current_day_1dcnn_Juliaca_PERC-2021-10-22.png');\n",
      "\n",
      "INSERT INTO `DBTesis`.`metrics` (`ml_model_id`, `metric_name`, `date`, `value`, `previous_value`, `metric_image_path`, `metric_current_image_path`)\n",
      "VALUES (9, 'RMSE', '2021-10-23', 285.654729865018, 239.09994618471418, 'graficos/1dcnn_Juliaca_PERC/1dcnn_Juliaca_PERC-2021-10-23.png','graficos/1dcnn_Juliaca_PERC/current_day_1dcnn_Juliaca_PERC-2021-10-23.png');\n",
      "\n",
      "INSERT INTO `DBTesis`.`metrics` (`ml_model_id`, `metric_name`, `date`, `value`, `previous_value`, `metric_image_path`, `metric_current_image_path`)\n",
      "VALUES (9, 'RMSE', '2021-10-24', 468.46673973601906, 285.654729865018, 'graficos/1dcnn_Juliaca_PERC/1dcnn_Juliaca_PERC-2021-10-24.png','graficos/1dcnn_Juliaca_PERC/current_day_1dcnn_Juliaca_PERC-2021-10-24.png');\n",
      "\n",
      "INSERT INTO `DBTesis`.`metrics` (`ml_model_id`, `metric_name`, `date`, `value`, `previous_value`, `metric_image_path`, `metric_current_image_path`)\n",
      "VALUES (9, 'RMSE', '2021-10-25', 434.447389460629, 468.46673973601906, 'graficos/1dcnn_Juliaca_PERC/1dcnn_Juliaca_PERC-2021-10-25.png','graficos/1dcnn_Juliaca_PERC/current_day_1dcnn_Juliaca_PERC-2021-10-25.png');\n",
      "\n",
      "INSERT INTO `DBTesis`.`metrics` (`ml_model_id`, `metric_name`, `date`, `value`, `previous_value`, `metric_image_path`, `metric_current_image_path`)\n",
      "VALUES (9, 'RMSE', '2021-10-26', 301.0913583732491, 434.447389460629, 'graficos/1dcnn_Juliaca_PERC/1dcnn_Juliaca_PERC-2021-10-26.png','graficos/1dcnn_Juliaca_PERC/current_day_1dcnn_Juliaca_PERC-2021-10-26.png');\n",
      "\n",
      "INSERT INTO `DBTesis`.`metrics` (`ml_model_id`, `metric_name`, `date`, `value`, `previous_value`, `metric_image_path`, `metric_current_image_path`)\n",
      "VALUES (9, 'RMSE', '2021-10-27', 893.2185757680116, 301.0913583732491, 'graficos/1dcnn_Juliaca_PERC/1dcnn_Juliaca_PERC-2021-10-27.png','graficos/1dcnn_Juliaca_PERC/current_day_1dcnn_Juliaca_PERC-2021-10-27.png');\n",
      "\n",
      "INSERT INTO `DBTesis`.`metrics` (`ml_model_id`, `metric_name`, `date`, `value`, `previous_value`, `metric_image_path`, `metric_current_image_path`)\n",
      "VALUES (9, 'RMSE', '2021-10-28', 157.52469498543294, 893.2185757680116, 'graficos/1dcnn_Juliaca_PERC/1dcnn_Juliaca_PERC-2021-10-28.png','graficos/1dcnn_Juliaca_PERC/current_day_1dcnn_Juliaca_PERC-2021-10-28.png');\n",
      "\n",
      "INSERT INTO `DBTesis`.`metrics` (`ml_model_id`, `metric_name`, `date`, `value`, `previous_value`, `metric_image_path`, `metric_current_image_path`)\n",
      "VALUES (9, 'RMSE', '2021-10-29', 243.55477517868277, 157.52469498543294, 'graficos/1dcnn_Juliaca_PERC/1dcnn_Juliaca_PERC-2021-10-29.png','graficos/1dcnn_Juliaca_PERC/current_day_1dcnn_Juliaca_PERC-2021-10-29.png');\n",
      "\n",
      "INSERT INTO `DBTesis`.`metrics` (`ml_model_id`, `metric_name`, `date`, `value`, `previous_value`, `metric_image_path`, `metric_current_image_path`)\n",
      "VALUES (9, 'RMSE', '2021-10-30', 311.2072404451004, 243.55477517868277, 'graficos/1dcnn_Juliaca_PERC/1dcnn_Juliaca_PERC-2021-10-30.png','graficos/1dcnn_Juliaca_PERC/current_day_1dcnn_Juliaca_PERC-2021-10-30.png');\n",
      "\n",
      "INSERT INTO `DBTesis`.`metrics` (`ml_model_id`, `metric_name`, `date`, `value`, `previous_value`, `metric_image_path`, `metric_current_image_path`)\n",
      "VALUES (9, 'RMSE', '2021-10-31', 222.92473647153432, 311.2072404451004, 'graficos/1dcnn_Juliaca_PERC/1dcnn_Juliaca_PERC-2021-10-31.png','graficos/1dcnn_Juliaca_PERC/current_day_1dcnn_Juliaca_PERC-2021-10-31.png');\n",
      "\n"
     ]
    }
   ],
   "source": [
    "#Imprimir comando INSERT INTO\n",
    "# \n",
    "print(stri_cachatojuliaca_cnn_PERC)\n",
    "\n"
   ]
  },
  {
   "cell_type": "code",
   "execution_count": 593,
   "metadata": {},
   "outputs": [],
   "source": [
    "# !zip -r graficos13469-10.zip graficos"
   ]
  },
  {
   "cell_type": "code",
   "execution_count": null,
   "metadata": {},
   "outputs": [],
   "source": []
  }
 ],
 "metadata": {
  "kernelspec": {
   "display_name": "torchenv",
   "language": "python",
   "name": "torchenv"
  },
  "language_info": {
   "codemirror_mode": {
    "name": "ipython",
    "version": 3
   },
   "file_extension": ".py",
   "mimetype": "text/x-python",
   "name": "python",
   "nbconvert_exporter": "python",
   "pygments_lexer": "ipython3",
   "version": "3.6.9"
  }
 },
 "nbformat": 4,
 "nbformat_minor": 4
}
