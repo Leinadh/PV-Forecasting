{
 "cells": [
  {
   "cell_type": "code",
   "execution_count": 12,
   "metadata": {},
   "outputs": [],
   "source": [
    "import pandas as pd\n",
    "import os\n",
    "# import torch\n",
    "# import torch.nn as nn\n",
    "# import torch.nn.functional as F\n",
    "# import torchvision\n",
    "# import torchvision.transforms as transforms\n",
    "import matplotlib.pyplot as plt\n",
    "import numpy as np\n",
    "import darts\n",
    "import math"
   ]
  },
  {
   "cell_type": "code",
   "execution_count": 13,
   "metadata": {},
   "outputs": [],
   "source": [
    "from statsmodels.tools.eval_measures import rmse\n",
    "from sklearn.metrics import r2_score"
   ]
  },
  {
   "cell_type": "code",
   "execution_count": 14,
   "metadata": {},
   "outputs": [
    {
     "name": "stderr",
     "output_type": "stream",
     "text": [
      "Importing plotly failed. Interactive plots will not work.\n"
     ]
    }
   ],
   "source": [
    "from darts import TimeSeries\n",
    "from darts.dataprocessing.transformers import Scaler, MissingValuesFiller\n",
    "from darts.utils.statistics import plot_acf\n",
    "from darts.models.arima import ARIMA\n",
    "from darts.models import RNNModel, ExponentialSmoothing\n",
    "from darts.metrics import mape"
   ]
  },
  {
   "cell_type": "code",
   "execution_count": 15,
   "metadata": {},
   "outputs": [
    {
     "name": "stdout",
     "output_type": "stream",
     "text": [
      "[]\n"
     ]
    }
   ],
   "source": [
    "#import os\n",
    "#os.environ[\"CUDA_VISIBLE_DEVICES\"] = \"-1\"  # Force TF to use only the CPU\n",
    "import tensorflow as tf\n",
    "\n",
    "gpus = tf.config.list_physical_devices('GPU')  # obtiene las gpus instaladas\n",
    "if len(gpus) > 0:   # si hay alguna gpu instalada\n",
    "    # setea para alocar apenas a memória da GPU necessária para as alocações de tempo de execução\n",
    "    tf.config.experimental.set_memory_growth(gpus[0], True) \n",
    "print(gpus)"
   ]
  },
  {
   "cell_type": "code",
   "execution_count": 16,
   "metadata": {},
   "outputs": [
    {
     "name": "stdout",
     "output_type": "stream",
     "text": [
      "2.1.0\n",
      "2.2.4-tf\n",
      "2.3.1\n"
     ]
    }
   ],
   "source": [
    "print(tf.__version__)\n",
    "print(tf.keras.__version__)\n",
    "import keras\n",
    "print(keras.__version__)"
   ]
  },
  {
   "cell_type": "code",
   "execution_count": 17,
   "metadata": {},
   "outputs": [],
   "source": [
    "import pandas as pd\n",
    "import numpy as np\n",
    "from numpy import hstack\n",
    "import matplotlib.pyplot as plt\n",
    "%matplotlib inline\n",
    "\n",
    "from keras.models import Sequential    \n",
    "from keras.layers import Dense\n",
    "from keras.layers import Flatten\n",
    "\n",
    "from keras.layers.convolutional import Conv1D\n",
    "from keras.layers.convolutional import MaxPooling1D\n",
    "\n",
    "from keras.models import Model\n",
    "from keras.layers import Input\n",
    "from keras.layers.merge import concatenate\n",
    "\n",
    "from keras.layers import LSTM"
   ]
  },
  {
   "cell_type": "code",
   "execution_count": 18,
   "metadata": {},
   "outputs": [],
   "source": [
    "root = r'./'\n",
    "data_path = r'data/'"
   ]
  },
  {
   "cell_type": "markdown",
   "metadata": {},
   "source": [
    "# Preparación y Entrenamiento"
   ]
  },
  {
   "cell_type": "markdown",
   "metadata": {},
   "source": [
    "## Lectura de datos"
   ]
  },
  {
   "cell_type": "code",
   "execution_count": 19,
   "metadata": {},
   "outputs": [],
   "source": [
    "def print_df(df):\n",
    "  print(df.shape)\n",
    "  return df.head()"
   ]
  },
  {
   "cell_type": "code",
   "execution_count": 20,
   "metadata": {},
   "outputs": [],
   "source": [
    "data_file = data_path+'2017_agg_day_hour.csv'"
   ]
  },
  {
   "cell_type": "code",
   "execution_count": 21,
   "metadata": {},
   "outputs": [
    {
     "name": "stdout",
     "output_type": "stream",
     "text": [
      "(3773, 12)\n"
     ]
    },
    {
     "data": {
      "text/html": [
       "<div>\n",
       "<style scoped>\n",
       "    .dataframe tbody tr th:only-of-type {\n",
       "        vertical-align: middle;\n",
       "    }\n",
       "\n",
       "    .dataframe tbody tr th {\n",
       "        vertical-align: top;\n",
       "    }\n",
       "\n",
       "    .dataframe thead th {\n",
       "        text-align: right;\n",
       "    }\n",
       "</style>\n",
       "<table border=\"1\" class=\"dataframe\">\n",
       "  <thead>\n",
       "    <tr style=\"text-align: right;\">\n",
       "      <th></th>\n",
       "      <th>index</th>\n",
       "      <th>Fecha</th>\n",
       "      <th>Tamb</th>\n",
       "      <th>Tmod</th>\n",
       "      <th>Vdc</th>\n",
       "      <th>Idc</th>\n",
       "      <th>Paparente</th>\n",
       "      <th>Pac</th>\n",
       "      <th>Pdc</th>\n",
       "      <th>Pac*</th>\n",
       "      <th>Pdc*</th>\n",
       "      <th>TONC</th>\n",
       "    </tr>\n",
       "  </thead>\n",
       "  <tbody>\n",
       "    <tr>\n",
       "      <th>0</th>\n",
       "      <td>0</td>\n",
       "      <td>2017-01-01 06:00:00</td>\n",
       "      <td>18.332500</td>\n",
       "      <td>16.995417</td>\n",
       "      <td>383.942917</td>\n",
       "      <td>1.175042</td>\n",
       "      <td>464.887083</td>\n",
       "      <td>455.408333</td>\n",
       "      <td>451.989621</td>\n",
       "      <td>441.821121</td>\n",
       "      <td>438.496964</td>\n",
       "      <td>6.042198</td>\n",
       "    </tr>\n",
       "    <tr>\n",
       "      <th>1</th>\n",
       "      <td>1</td>\n",
       "      <td>2017-01-01 07:00:00</td>\n",
       "      <td>22.321250</td>\n",
       "      <td>30.272083</td>\n",
       "      <td>374.950000</td>\n",
       "      <td>2.925125</td>\n",
       "      <td>1095.325417</td>\n",
       "      <td>1091.558750</td>\n",
       "      <td>1093.614275</td>\n",
       "      <td>1121.598759</td>\n",
       "      <td>1123.749676</td>\n",
       "      <td>36.922743</td>\n",
       "    </tr>\n",
       "    <tr>\n",
       "      <th>2</th>\n",
       "      <td>2</td>\n",
       "      <td>2017-01-01 08:00:00</td>\n",
       "      <td>24.961250</td>\n",
       "      <td>38.689583</td>\n",
       "      <td>356.565833</td>\n",
       "      <td>4.966667</td>\n",
       "      <td>1757.545000</td>\n",
       "      <td>1755.746667</td>\n",
       "      <td>1768.960983</td>\n",
       "      <td>1871.202144</td>\n",
       "      <td>1885.285511</td>\n",
       "      <td>38.080451</td>\n",
       "    </tr>\n",
       "    <tr>\n",
       "      <th>3</th>\n",
       "      <td>3</td>\n",
       "      <td>2017-01-01 09:00:00</td>\n",
       "      <td>25.222917</td>\n",
       "      <td>40.076667</td>\n",
       "      <td>347.599583</td>\n",
       "      <td>6.470000</td>\n",
       "      <td>2224.939583</td>\n",
       "      <td>2223.026250</td>\n",
       "      <td>2248.890346</td>\n",
       "      <td>2384.230654</td>\n",
       "      <td>2411.958771</td>\n",
       "      <td>35.146449</td>\n",
       "    </tr>\n",
       "    <tr>\n",
       "      <th>4</th>\n",
       "      <td>4</td>\n",
       "      <td>2017-01-01 10:00:00</td>\n",
       "      <td>24.296250</td>\n",
       "      <td>40.131250</td>\n",
       "      <td>342.759583</td>\n",
       "      <td>7.692000</td>\n",
       "      <td>2598.814167</td>\n",
       "      <td>2596.799583</td>\n",
       "      <td>2636.285487</td>\n",
       "      <td>2786.462959</td>\n",
       "      <td>2828.823842</td>\n",
       "      <td>33.590908</td>\n",
       "    </tr>\n",
       "  </tbody>\n",
       "</table>\n",
       "</div>"
      ],
      "text/plain": [
       "   index               Fecha       Tamb       Tmod         Vdc       Idc  \\\n",
       "0      0 2017-01-01 06:00:00  18.332500  16.995417  383.942917  1.175042   \n",
       "1      1 2017-01-01 07:00:00  22.321250  30.272083  374.950000  2.925125   \n",
       "2      2 2017-01-01 08:00:00  24.961250  38.689583  356.565833  4.966667   \n",
       "3      3 2017-01-01 09:00:00  25.222917  40.076667  347.599583  6.470000   \n",
       "4      4 2017-01-01 10:00:00  24.296250  40.131250  342.759583  7.692000   \n",
       "\n",
       "     Paparente          Pac          Pdc         Pac*         Pdc*       TONC  \n",
       "0   464.887083   455.408333   451.989621   441.821121   438.496964   6.042198  \n",
       "1  1095.325417  1091.558750  1093.614275  1121.598759  1123.749676  36.922743  \n",
       "2  1757.545000  1755.746667  1768.960983  1871.202144  1885.285511  38.080451  \n",
       "3  2224.939583  2223.026250  2248.890346  2384.230654  2411.958771  35.146449  \n",
       "4  2598.814167  2596.799583  2636.285487  2786.462959  2828.823842  33.590908  "
      ]
     },
     "execution_count": 21,
     "metadata": {},
     "output_type": "execute_result"
    }
   ],
   "source": [
    "df = pd.read_csv(root+data_file, parse_dates=True)\n",
    "df.Fecha = pd.to_datetime(df.Fecha)\n",
    "df=df.reset_index()\n",
    "print_df(df)"
   ]
  },
  {
   "cell_type": "code",
   "execution_count": null,
   "metadata": {},
   "outputs": [],
   "source": []
  },
  {
   "cell_type": "markdown",
   "metadata": {},
   "source": [
    "## Codificación de fechas\n"
   ]
  },
  {
   "cell_type": "code",
   "execution_count": 22,
   "metadata": {},
   "outputs": [],
   "source": [
    "start = df.iloc[0]['Fecha']"
   ]
  },
  {
   "cell_type": "code",
   "execution_count": 23,
   "metadata": {},
   "outputs": [
    {
     "data": {
      "text/html": [
       "<div>\n",
       "<style scoped>\n",
       "    .dataframe tbody tr th:only-of-type {\n",
       "        vertical-align: middle;\n",
       "    }\n",
       "\n",
       "    .dataframe tbody tr th {\n",
       "        vertical-align: top;\n",
       "    }\n",
       "\n",
       "    .dataframe thead th {\n",
       "        text-align: right;\n",
       "    }\n",
       "</style>\n",
       "<table border=\"1\" class=\"dataframe\">\n",
       "  <thead>\n",
       "    <tr style=\"text-align: right;\">\n",
       "      <th></th>\n",
       "      <th>index</th>\n",
       "      <th>Fecha</th>\n",
       "      <th>Tamb</th>\n",
       "      <th>Tmod</th>\n",
       "      <th>Vdc</th>\n",
       "      <th>Idc</th>\n",
       "      <th>Paparente</th>\n",
       "      <th>Pac</th>\n",
       "      <th>Pdc</th>\n",
       "      <th>Pac*</th>\n",
       "      <th>Pdc*</th>\n",
       "      <th>TONC</th>\n",
       "      <th>Fecha_cod</th>\n",
       "    </tr>\n",
       "  </thead>\n",
       "  <tbody>\n",
       "    <tr>\n",
       "      <th>0</th>\n",
       "      <td>0</td>\n",
       "      <td>2017-01-01 06:00:00</td>\n",
       "      <td>18.332500</td>\n",
       "      <td>16.995417</td>\n",
       "      <td>383.942917</td>\n",
       "      <td>1.175042</td>\n",
       "      <td>464.887083</td>\n",
       "      <td>455.408333</td>\n",
       "      <td>451.989621</td>\n",
       "      <td>441.821121</td>\n",
       "      <td>438.496964</td>\n",
       "      <td>6.042198</td>\n",
       "      <td>2017-01-01 06:00:00</td>\n",
       "    </tr>\n",
       "    <tr>\n",
       "      <th>1</th>\n",
       "      <td>1</td>\n",
       "      <td>2017-01-01 07:00:00</td>\n",
       "      <td>22.321250</td>\n",
       "      <td>30.272083</td>\n",
       "      <td>374.950000</td>\n",
       "      <td>2.925125</td>\n",
       "      <td>1095.325417</td>\n",
       "      <td>1091.558750</td>\n",
       "      <td>1093.614275</td>\n",
       "      <td>1121.598759</td>\n",
       "      <td>1123.749676</td>\n",
       "      <td>36.922743</td>\n",
       "      <td>2017-01-01 07:00:00</td>\n",
       "    </tr>\n",
       "    <tr>\n",
       "      <th>2</th>\n",
       "      <td>2</td>\n",
       "      <td>2017-01-01 08:00:00</td>\n",
       "      <td>24.961250</td>\n",
       "      <td>38.689583</td>\n",
       "      <td>356.565833</td>\n",
       "      <td>4.966667</td>\n",
       "      <td>1757.545000</td>\n",
       "      <td>1755.746667</td>\n",
       "      <td>1768.960983</td>\n",
       "      <td>1871.202144</td>\n",
       "      <td>1885.285511</td>\n",
       "      <td>38.080451</td>\n",
       "      <td>2017-01-01 08:00:00</td>\n",
       "    </tr>\n",
       "    <tr>\n",
       "      <th>3</th>\n",
       "      <td>3</td>\n",
       "      <td>2017-01-01 09:00:00</td>\n",
       "      <td>25.222917</td>\n",
       "      <td>40.076667</td>\n",
       "      <td>347.599583</td>\n",
       "      <td>6.470000</td>\n",
       "      <td>2224.939583</td>\n",
       "      <td>2223.026250</td>\n",
       "      <td>2248.890346</td>\n",
       "      <td>2384.230654</td>\n",
       "      <td>2411.958771</td>\n",
       "      <td>35.146449</td>\n",
       "      <td>2017-01-01 09:00:00</td>\n",
       "    </tr>\n",
       "    <tr>\n",
       "      <th>4</th>\n",
       "      <td>4</td>\n",
       "      <td>2017-01-01 10:00:00</td>\n",
       "      <td>24.296250</td>\n",
       "      <td>40.131250</td>\n",
       "      <td>342.759583</td>\n",
       "      <td>7.692000</td>\n",
       "      <td>2598.814167</td>\n",
       "      <td>2596.799583</td>\n",
       "      <td>2636.285487</td>\n",
       "      <td>2786.462959</td>\n",
       "      <td>2828.823842</td>\n",
       "      <td>33.590908</td>\n",
       "      <td>2017-01-01 10:00:00</td>\n",
       "    </tr>\n",
       "    <tr>\n",
       "      <th>5</th>\n",
       "      <td>5</td>\n",
       "      <td>2017-01-01 11:00:00</td>\n",
       "      <td>25.050417</td>\n",
       "      <td>42.937500</td>\n",
       "      <td>337.940000</td>\n",
       "      <td>8.215250</td>\n",
       "      <td>2731.356250</td>\n",
       "      <td>2729.306250</td>\n",
       "      <td>2776.049104</td>\n",
       "      <td>2969.242272</td>\n",
       "      <td>3020.110528</td>\n",
       "      <td>34.371957</td>\n",
       "      <td>2017-01-01 11:00:00</td>\n",
       "    </tr>\n",
       "    <tr>\n",
       "      <th>6</th>\n",
       "      <td>6</td>\n",
       "      <td>2017-01-01 12:00:00</td>\n",
       "      <td>25.745417</td>\n",
       "      <td>44.124167</td>\n",
       "      <td>338.329167</td>\n",
       "      <td>8.023958</td>\n",
       "      <td>2660.570417</td>\n",
       "      <td>2658.960000</td>\n",
       "      <td>2711.938675</td>\n",
       "      <td>2911.306451</td>\n",
       "      <td>2969.399377</td>\n",
       "      <td>35.570187</td>\n",
       "      <td>2017-01-01 12:00:00</td>\n",
       "    </tr>\n",
       "    <tr>\n",
       "      <th>7</th>\n",
       "      <td>7</td>\n",
       "      <td>2017-01-01 13:00:00</td>\n",
       "      <td>21.740000</td>\n",
       "      <td>25.829167</td>\n",
       "      <td>366.020417</td>\n",
       "      <td>1.521083</td>\n",
       "      <td>567.212083</td>\n",
       "      <td>560.105417</td>\n",
       "      <td>556.150704</td>\n",
       "      <td>564.441982</td>\n",
       "      <td>560.498123</td>\n",
       "      <td>36.753964</td>\n",
       "      <td>2017-01-01 13:00:00</td>\n",
       "    </tr>\n",
       "    <tr>\n",
       "      <th>8</th>\n",
       "      <td>8</td>\n",
       "      <td>2017-01-01 14:00:00</td>\n",
       "      <td>20.186667</td>\n",
       "      <td>21.922500</td>\n",
       "      <td>365.706250</td>\n",
       "      <td>0.916750</td>\n",
       "      <td>351.538333</td>\n",
       "      <td>340.181667</td>\n",
       "      <td>335.874500</td>\n",
       "      <td>335.606696</td>\n",
       "      <td>331.358773</td>\n",
       "      <td>32.567566</td>\n",
       "      <td>2017-01-01 14:00:00</td>\n",
       "    </tr>\n",
       "    <tr>\n",
       "      <th>9</th>\n",
       "      <td>9</td>\n",
       "      <td>2017-01-01 15:00:00</td>\n",
       "      <td>18.882083</td>\n",
       "      <td>4.700417</td>\n",
       "      <td>83.676667</td>\n",
       "      <td>0.093208</td>\n",
       "      <td>38.940000</td>\n",
       "      <td>34.205417</td>\n",
       "      <td>32.857613</td>\n",
       "      <td>33.431982</td>\n",
       "      <td>32.114377</td>\n",
       "      <td>7.223749</td>\n",
       "      <td>2017-01-01 15:00:00</td>\n",
       "    </tr>\n",
       "    <tr>\n",
       "      <th>10</th>\n",
       "      <td>10</td>\n",
       "      <td>2017-01-01 16:00:00</td>\n",
       "      <td>17.837917</td>\n",
       "      <td>13.214167</td>\n",
       "      <td>272.165000</td>\n",
       "      <td>0.454042</td>\n",
       "      <td>177.993333</td>\n",
       "      <td>166.082083</td>\n",
       "      <td>163.447413</td>\n",
       "      <td>160.504818</td>\n",
       "      <td>157.954493</td>\n",
       "      <td>11.328412</td>\n",
       "      <td>2017-01-01 16:00:00</td>\n",
       "    </tr>\n",
       "    <tr>\n",
       "      <th>11</th>\n",
       "      <td>11</td>\n",
       "      <td>2017-01-02 06:00:00</td>\n",
       "      <td>15.463333</td>\n",
       "      <td>12.213750</td>\n",
       "      <td>295.405000</td>\n",
       "      <td>0.484250</td>\n",
       "      <td>191.869167</td>\n",
       "      <td>178.710833</td>\n",
       "      <td>177.523129</td>\n",
       "      <td>171.262423</td>\n",
       "      <td>170.129931</td>\n",
       "      <td>11.173417</td>\n",
       "      <td>2017-01-01 17:00:00</td>\n",
       "    </tr>\n",
       "    <tr>\n",
       "      <th>12</th>\n",
       "      <td>12</td>\n",
       "      <td>2017-01-02 07:00:00</td>\n",
       "      <td>16.270833</td>\n",
       "      <td>18.687500</td>\n",
       "      <td>372.539583</td>\n",
       "      <td>1.174583</td>\n",
       "      <td>448.757917</td>\n",
       "      <td>439.659167</td>\n",
       "      <td>437.688608</td>\n",
       "      <td>428.218434</td>\n",
       "      <td>426.289880</td>\n",
       "      <td>33.125627</td>\n",
       "      <td>2017-01-01 18:00:00</td>\n",
       "    </tr>\n",
       "  </tbody>\n",
       "</table>\n",
       "</div>"
      ],
      "text/plain": [
       "    index               Fecha       Tamb       Tmod         Vdc       Idc  \\\n",
       "0       0 2017-01-01 06:00:00  18.332500  16.995417  383.942917  1.175042   \n",
       "1       1 2017-01-01 07:00:00  22.321250  30.272083  374.950000  2.925125   \n",
       "2       2 2017-01-01 08:00:00  24.961250  38.689583  356.565833  4.966667   \n",
       "3       3 2017-01-01 09:00:00  25.222917  40.076667  347.599583  6.470000   \n",
       "4       4 2017-01-01 10:00:00  24.296250  40.131250  342.759583  7.692000   \n",
       "5       5 2017-01-01 11:00:00  25.050417  42.937500  337.940000  8.215250   \n",
       "6       6 2017-01-01 12:00:00  25.745417  44.124167  338.329167  8.023958   \n",
       "7       7 2017-01-01 13:00:00  21.740000  25.829167  366.020417  1.521083   \n",
       "8       8 2017-01-01 14:00:00  20.186667  21.922500  365.706250  0.916750   \n",
       "9       9 2017-01-01 15:00:00  18.882083   4.700417   83.676667  0.093208   \n",
       "10     10 2017-01-01 16:00:00  17.837917  13.214167  272.165000  0.454042   \n",
       "11     11 2017-01-02 06:00:00  15.463333  12.213750  295.405000  0.484250   \n",
       "12     12 2017-01-02 07:00:00  16.270833  18.687500  372.539583  1.174583   \n",
       "\n",
       "      Paparente          Pac          Pdc         Pac*         Pdc*  \\\n",
       "0    464.887083   455.408333   451.989621   441.821121   438.496964   \n",
       "1   1095.325417  1091.558750  1093.614275  1121.598759  1123.749676   \n",
       "2   1757.545000  1755.746667  1768.960983  1871.202144  1885.285511   \n",
       "3   2224.939583  2223.026250  2248.890346  2384.230654  2411.958771   \n",
       "4   2598.814167  2596.799583  2636.285487  2786.462959  2828.823842   \n",
       "5   2731.356250  2729.306250  2776.049104  2969.242272  3020.110528   \n",
       "6   2660.570417  2658.960000  2711.938675  2911.306451  2969.399377   \n",
       "7    567.212083   560.105417   556.150704   564.441982   560.498123   \n",
       "8    351.538333   340.181667   335.874500   335.606696   331.358773   \n",
       "9     38.940000    34.205417    32.857613    33.431982    32.114377   \n",
       "10   177.993333   166.082083   163.447413   160.504818   157.954493   \n",
       "11   191.869167   178.710833   177.523129   171.262423   170.129931   \n",
       "12   448.757917   439.659167   437.688608   428.218434   426.289880   \n",
       "\n",
       "         TONC           Fecha_cod  \n",
       "0    6.042198 2017-01-01 06:00:00  \n",
       "1   36.922743 2017-01-01 07:00:00  \n",
       "2   38.080451 2017-01-01 08:00:00  \n",
       "3   35.146449 2017-01-01 09:00:00  \n",
       "4   33.590908 2017-01-01 10:00:00  \n",
       "5   34.371957 2017-01-01 11:00:00  \n",
       "6   35.570187 2017-01-01 12:00:00  \n",
       "7   36.753964 2017-01-01 13:00:00  \n",
       "8   32.567566 2017-01-01 14:00:00  \n",
       "9    7.223749 2017-01-01 15:00:00  \n",
       "10  11.328412 2017-01-01 16:00:00  \n",
       "11  11.173417 2017-01-01 17:00:00  \n",
       "12  33.125627 2017-01-01 18:00:00  "
      ]
     },
     "execution_count": 23,
     "metadata": {},
     "output_type": "execute_result"
    }
   ],
   "source": [
    "df['Fecha_cod'] = pd.date_range(freq='H', start=start, periods=len(df))\n",
    "df.head(13)"
   ]
  },
  {
   "cell_type": "code",
   "execution_count": 24,
   "metadata": {},
   "outputs": [],
   "source": [
    "fechas_origen = df.Fecha"
   ]
  },
  {
   "cell_type": "code",
   "execution_count": 25,
   "metadata": {},
   "outputs": [
    {
     "data": {
      "text/plain": [
       "0    2017-01-01 06:00:00\n",
       "1    2017-01-01 07:00:00\n",
       "2    2017-01-01 08:00:00\n",
       "3    2017-01-01 09:00:00\n",
       "4    2017-01-01 10:00:00\n",
       "5    2017-01-01 11:00:00\n",
       "6    2017-01-01 12:00:00\n",
       "7    2017-01-01 13:00:00\n",
       "8    2017-01-01 14:00:00\n",
       "9    2017-01-01 15:00:00\n",
       "10   2017-01-01 16:00:00\n",
       "11   2017-01-02 06:00:00\n",
       "Name: Fecha, dtype: datetime64[ns]"
      ]
     },
     "execution_count": 25,
     "metadata": {},
     "output_type": "execute_result"
    }
   ],
   "source": [
    "fechas_origen[:11+1]"
   ]
  },
  {
   "cell_type": "markdown",
   "metadata": {},
   "source": [
    "## Preprocesamiento"
   ]
  },
  {
   "cell_type": "code",
   "execution_count": 26,
   "metadata": {},
   "outputs": [
    {
     "data": {
      "text/plain": [
       "darts.timeseries.TimeSeries"
      ]
     },
     "execution_count": 26,
     "metadata": {},
     "output_type": "execute_result"
    }
   ],
   "source": [
    "series_raw = TimeSeries.from_dataframe(df, 'Fecha_cod', ['Pac','Tamb'])#, freq='H')\n",
    "type(series_raw)"
   ]
  },
  {
   "cell_type": "code",
   "execution_count": 27,
   "metadata": {},
   "outputs": [],
   "source": [
    "col_obj = 'Pac'"
   ]
  },
  {
   "cell_type": "code",
   "execution_count": 28,
   "metadata": {},
   "outputs": [
    {
     "data": {
      "text/plain": [
       "                             Pac\n",
       "Fecha_cod                       \n",
       "2017-01-01 06:00:00   455.408333\n",
       "2017-01-01 07:00:00  1091.558750\n",
       "2017-01-01 08:00:00  1755.746667\n",
       "2017-01-01 09:00:00  2223.026250\n",
       "2017-01-01 10:00:00  2596.799583\n",
       "...                          ...\n",
       "2017-06-07 06:00:00  2491.336250\n",
       "2017-06-07 07:00:00  2270.216667\n",
       "2017-06-07 08:00:00  1745.285833\n",
       "2017-06-07 09:00:00  1222.645417\n",
       "2017-06-07 10:00:00   643.592500\n",
       "\n",
       "[3773 rows x 1 columns]\n",
       "Freq: H"
      ]
     },
     "execution_count": 28,
     "metadata": {},
     "output_type": "execute_result"
    }
   ],
   "source": [
    "series_raw[col_obj]"
   ]
  },
  {
   "cell_type": "code",
   "execution_count": 29,
   "metadata": {},
   "outputs": [
    {
     "data": {
      "text/plain": [
       "                             Pac\n",
       "Fecha_cod                       \n",
       "2017-01-01 06:00:00   455.408333\n",
       "2017-01-01 07:00:00  1091.558750\n",
       "2017-01-01 08:00:00  1755.746667\n",
       "2017-01-01 09:00:00  2223.026250\n",
       "2017-01-01 10:00:00  2596.799583\n",
       "2017-01-01 11:00:00  2729.306250\n",
       "2017-01-01 12:00:00  2658.960000\n",
       "2017-01-01 13:00:00   560.105417\n",
       "2017-01-01 14:00:00   340.181667\n",
       "2017-01-01 15:00:00    34.205417\n",
       "2017-01-01 16:00:00   166.082083\n",
       "2017-01-01 17:00:00   178.710833\n",
       "Freq: H"
      ]
     },
     "execution_count": 29,
     "metadata": {},
     "output_type": "execute_result"
    }
   ],
   "source": [
    "series_raw[col_obj][:12]"
   ]
  },
  {
   "cell_type": "code",
   "execution_count": 30,
   "metadata": {},
   "outputs": [
    {
     "data": {
      "text/plain": [
       "3773"
      ]
     },
     "execution_count": 30,
     "metadata": {},
     "output_type": "execute_result"
    }
   ],
   "source": [
    "len(series_raw)"
   ]
  },
  {
   "cell_type": "code",
   "execution_count": 31,
   "metadata": {},
   "outputs": [
    {
     "data": {
      "image/png": "[encoded data removed]",
      "text/plain": [
       "<Figure size 432x288 with 1 Axes>"
      ]
     },
     "metadata": {
      "needs_background": "light"
     },
     "output_type": "display_data"
    }
   ],
   "source": [
    "series_raw[0:30].plot()"
   ]
  },
  {
   "cell_type": "markdown",
   "metadata": {},
   "source": [
    "### Imputación de datos faltantes"
   ]
  },
  {
   "cell_type": "code",
   "execution_count": 32,
   "metadata": {},
   "outputs": [
    {
     "data": {
      "image/png": "[encoded data removed]",
      "text/plain": [
       "<Figure size 432x288 with 1 Axes>"
      ]
     },
     "metadata": {
      "needs_background": "light"
     },
     "output_type": "display_data"
    }
   ],
   "source": [
    "series_raw.plot()"
   ]
  },
  {
   "cell_type": "code",
   "execution_count": 33,
   "metadata": {},
   "outputs": [
    {
     "data": {
      "image/png": "[encoded data removed]",
      "text/plain": [
       "<Figure size 432x288 with 1 Axes>"
      ]
     },
     "metadata": {
      "needs_background": "light"
     },
     "output_type": "display_data"
    }
   ],
   "source": [
    "# TODO\n",
    "filler = MissingValuesFiller()\n",
    "series = filler.transform(series_raw, method='linear')\n",
    "series.plot()"
   ]
  },
  {
   "cell_type": "markdown",
   "metadata": {},
   "source": [
    "### Separación de conjuntos de entrenamiento y validación"
   ]
  },
  {
   "cell_type": "code",
   "execution_count": 34,
   "metadata": {},
   "outputs": [
    {
     "data": {
      "text/plain": [
       "3019"
      ]
     },
     "execution_count": 34,
     "metadata": {},
     "output_type": "execute_result"
    }
   ],
   "source": [
    "train_perc = .8\n",
    "math.ceil(len(series)*train_perc)"
   ]
  },
  {
   "cell_type": "code",
   "execution_count": 35,
   "metadata": {},
   "outputs": [],
   "source": [
    "val_len = int(len(series)*(1-train_perc))"
   ]
  },
  {
   "cell_type": "code",
   "execution_count": 36,
   "metadata": {},
   "outputs": [],
   "source": [
    "val_len -= val_len%11"
   ]
  },
  {
   "cell_type": "code",
   "execution_count": 37,
   "metadata": {},
   "outputs": [
    {
     "data": {
      "text/plain": [
       "748"
      ]
     },
     "execution_count": 37,
     "metadata": {},
     "output_type": "execute_result"
    }
   ],
   "source": [
    "val_len"
   ]
  },
  {
   "cell_type": "code",
   "execution_count": 38,
   "metadata": {},
   "outputs": [],
   "source": [
    "train, val = series[:-val_len], series[-val_len:]"
   ]
  },
  {
   "cell_type": "code",
   "execution_count": 39,
   "metadata": {},
   "outputs": [
    {
     "data": {
      "text/plain": [
       "                             Pac       Tamb\n",
       "Fecha_cod                                  \n",
       "2017-01-01 06:00:00   455.408333  18.332500\n",
       "2017-01-01 07:00:00  1091.558750  22.321250\n",
       "2017-01-01 08:00:00  1755.746667  24.961250\n",
       "2017-01-01 09:00:00  2223.026250  25.222917\n",
       "2017-01-01 10:00:00  2596.799583  24.296250\n",
       "...                          ...        ...\n",
       "2017-05-07 02:00:00  2582.510417  26.527917\n",
       "2017-05-07 03:00:00  2287.591250  26.619583\n",
       "2017-05-07 04:00:00  1820.930000  25.294583\n",
       "2017-05-07 05:00:00  1200.292917  23.883333\n",
       "2017-05-07 06:00:00   502.802929  22.205439\n",
       "\n",
       "[3025 rows x 2 columns]\n",
       "Freq: H"
      ]
     },
     "execution_count": 39,
     "metadata": {},
     "output_type": "execute_result"
    }
   ],
   "source": [
    "train"
   ]
  },
  {
   "cell_type": "code",
   "execution_count": 40,
   "metadata": {},
   "outputs": [],
   "source": [
    "# plot_acf(train)"
   ]
  },
  {
   "cell_type": "markdown",
   "metadata": {},
   "source": [
    "## Visualización"
   ]
  },
  {
   "cell_type": "code",
   "execution_count": 41,
   "metadata": {},
   "outputs": [],
   "source": [
    "from statsmodels.graphics.tsaplots import plot_acf, plot_pacf"
   ]
  },
  {
   "cell_type": "code",
   "execution_count": null,
   "metadata": {},
   "outputs": [],
   "source": []
  },
  {
   "cell_type": "code",
   "execution_count": 42,
   "metadata": {},
   "outputs": [
    {
     "data": {
      "image/png": "[encoded data removed]",
      "text/plain": [
       "<Figure size 432x288 with 1 Axes>"
      ]
     },
     "execution_count": 42,
     "metadata": {},
     "output_type": "execute_result"
    },
    {
     "data": {
      "image/png": "[encoded data removed]",
      "text/plain": [
       "<Figure size 432x288 with 1 Axes>"
      ]
     },
     "metadata": {
      "needs_background": "light"
     },
     "output_type": "display_data"
    }
   ],
   "source": [
    "plot_acf(train[col_obj].values())"
   ]
  },
  {
   "cell_type": "code",
   "execution_count": 43,
   "metadata": {},
   "outputs": [
    {
     "data": {
      "image/png": "[encoded data removed]",
      "text/plain": [
       "<Figure size 432x288 with 1 Axes>"
      ]
     },
     "execution_count": 43,
     "metadata": {},
     "output_type": "execute_result"
    },
    {
     "data": {
      "image/png": "[encoded data removed]",
      "text/plain": [
       "<Figure size 432x288 with 1 Axes>"
      ]
     },
     "metadata": {
      "needs_background": "light"
     },
     "output_type": "display_data"
    }
   ],
   "source": [
    "plot_pacf(train[col_obj].values())"
   ]
  },
  {
   "cell_type": "code",
   "execution_count": null,
   "metadata": {},
   "outputs": [],
   "source": []
  },
  {
   "cell_type": "markdown",
   "metadata": {},
   "source": [
    "## Training (ARIMA)"
   ]
  },
  {
   "cell_type": "code",
   "execution_count": 31,
   "metadata": {},
   "outputs": [],
   "source": [
    "model = ARIMA(p=2, d=0, q=11)"
   ]
  },
  {
   "cell_type": "code",
   "execution_count": 32,
   "metadata": {},
   "outputs": [
    {
     "name": "stdout",
     "output_type": "stream",
     "text": [
      "CPU times: user 10min 30s, sys: 11min 54s, total: 22min 24s\n",
      "Wall time: 1min\n"
     ]
    }
   ],
   "source": [
    "%%time\n",
    "model.fit(train[col_obj])"
   ]
  },
  {
   "cell_type": "code",
   "execution_count": 33,
   "metadata": {},
   "outputs": [
    {
     "data": {
      "text/plain": [
       "                             Pac       Tamb\n",
       "Fecha_cod                                  \n",
       "2017-01-01 06:00:00   455.408333  18.332500\n",
       "2017-01-01 07:00:00  1091.558750  22.321250\n",
       "2017-01-01 08:00:00  1755.746667  24.961250\n",
       "2017-01-01 09:00:00  2223.026250  25.222917\n",
       "2017-01-01 10:00:00  2596.799583  24.296250\n",
       "...                          ...        ...\n",
       "2017-05-07 02:00:00  2582.510417  26.527917\n",
       "2017-05-07 03:00:00  2287.591250  26.619583\n",
       "2017-05-07 04:00:00  1820.930000  25.294583\n",
       "2017-05-07 05:00:00  1200.292917  23.883333\n",
       "2017-05-07 06:00:00   502.802929  22.205439\n",
       "\n",
       "[3025 rows x 2 columns]\n",
       "Freq: H"
      ]
     },
     "execution_count": 33,
     "metadata": {},
     "output_type": "execute_result"
    }
   ],
   "source": [
    "train"
   ]
  },
  {
   "cell_type": "code",
   "execution_count": 34,
   "metadata": {},
   "outputs": [],
   "source": [
    "n_predict = 80"
   ]
  },
  {
   "cell_type": "code",
   "execution_count": 35,
   "metadata": {},
   "outputs": [
    {
     "name": "stdout",
     "output_type": "stream",
     "text": [
      "CPU times: user 418 ms, sys: 508 ms, total: 926 ms\n",
      "Wall time: 40.7 ms\n"
     ]
    },
    {
     "data": {
      "text/plain": [
       "                               0\n",
       "2017-05-07 07:00:00   347.063028\n",
       "2017-05-07 08:00:00   641.926299\n",
       "2017-05-07 09:00:00  1174.898180\n",
       "2017-05-07 10:00:00  1743.496876\n",
       "2017-05-07 11:00:00  2156.955701\n",
       "...                          ...\n",
       "2017-05-10 10:00:00   722.461815\n",
       "2017-05-10 11:00:00   389.781913\n",
       "2017-05-10 12:00:00   336.146406\n",
       "2017-05-10 13:00:00   577.850294\n",
       "2017-05-10 14:00:00  1037.568886\n",
       "\n",
       "[80 rows x 1 columns]\n",
       "Freq: H"
      ]
     },
     "execution_count": 35,
     "metadata": {},
     "output_type": "execute_result"
    }
   ],
   "source": [
    "%%time\n",
    "pred = model.predict(n_predict)\n",
    "pred"
   ]
  },
  {
   "cell_type": "code",
   "execution_count": 36,
   "metadata": {},
   "outputs": [
    {
     "data": {
      "text/plain": [
       "                             Pac       Tamb\n",
       "Fecha_cod                                  \n",
       "2017-05-07 07:00:00   434.088750  14.522917\n",
       "2017-05-07 08:00:00  1170.127083  19.560417\n",
       "2017-05-07 09:00:00  1785.090417  24.650000\n",
       "2017-05-07 10:00:00  2249.656667  24.322500\n",
       "2017-05-07 11:00:00  2549.714167  24.848750\n",
       "...                          ...        ...\n",
       "2017-05-11 06:00:00  2071.770833  24.311667\n",
       "2017-05-11 07:00:00  1410.895000  23.180833\n",
       "2017-05-11 08:00:00  1132.319583  23.412083\n",
       "2017-05-11 09:00:00   536.687917  21.356250\n",
       "2017-05-11 10:00:00   309.435833  17.710417\n",
       "\n",
       "[100 rows x 2 columns]\n",
       "Freq: H"
      ]
     },
     "execution_count": 36,
     "metadata": {},
     "output_type": "execute_result"
    }
   ],
   "source": [
    "val[:100]"
   ]
  },
  {
   "cell_type": "code",
   "execution_count": 37,
   "metadata": {},
   "outputs": [
    {
     "data": {
      "image/png": "[encoded data removed]",
      "text/plain": [
       "<Figure size 432x288 with 1 Axes>"
      ]
     },
     "metadata": {
      "needs_background": "light"
     },
     "output_type": "display_data"
    }
   ],
   "source": [
    "train[-200:].plot()\n",
    "val[col_obj][:n_predict].plot()\n",
    "pred.plot()"
   ]
  },
  {
   "cell_type": "code",
   "execution_count": 38,
   "metadata": {},
   "outputs": [],
   "source": [
    "# %%time\n",
    "# model.backtest(val,forecast_horizon=11, verbose=True)"
   ]
  },
  {
   "cell_type": "code",
   "execution_count": 39,
   "metadata": {},
   "outputs": [
    {
     "name": "stdout",
     "output_type": "stream",
     "text": [
      "MAPE: 46.25%\n"
     ]
    }
   ],
   "source": [
    "print('MAPE: {:.2f}%'.format(mape(pred, val[col_obj])))"
   ]
  },
  {
   "cell_type": "markdown",
   "metadata": {},
   "source": [
    "## Training (CNN)"
   ]
  },
  {
   "cell_type": "code",
   "execution_count": 143,
   "metadata": {},
   "outputs": [],
   "source": [
    "df_columns = ['Pac', 'Tamb']"
   ]
  },
  {
   "cell_type": "code",
   "execution_count": 144,
   "metadata": {},
   "outputs": [
    {
     "data": {
      "text/plain": [
       "array([[ 455.40833333,   18.3325    ],\n",
       "       [1091.55875   ,   22.32125   ],\n",
       "       [1755.74666667,   24.96125   ],\n",
       "       ...,\n",
       "       [1820.93      ,   25.29458333],\n",
       "       [1200.29291667,   23.88333333],\n",
       "       [ 502.80292887,   22.20543933]])"
      ]
     },
     "execution_count": 144,
     "metadata": {},
     "output_type": "execute_result"
    }
   ],
   "source": [
    "arr_train = train.values()\n",
    "arr_train"
   ]
  },
  {
   "cell_type": "code",
   "execution_count": 145,
   "metadata": {},
   "outputs": [],
   "source": [
    "def split_sequences(sequences, n_steps_in, n_steps_out):\n",
    "    X, y = list(), list()\n",
    "    for i in range(len(sequences)):\n",
    "        # calcula el indice del final de la secuencia de entrada y salida actual\n",
    "        end_ix = i + n_steps_in\n",
    "        out_end_ix = end_ix + n_steps_out\n",
    "\n",
    "        # si el indice de salida es mayor que la longitud de las secuencias entonces deja de generar mas muestras\n",
    "        if out_end_ix > len(sequences):\n",
    "            break\n",
    "            \n",
    "        # separa la parte de la secuencias de entrada y el vector de traget \n",
    "        X.append( sequences[i:end_ix, :] ) # añade las secuencias de entrada a las muestras de  entrenamiento\n",
    "        y.append( sequences[end_ix:out_end_ix, 0] ) # añade los n_steps_out siguientes como secuencias target de salida de la primera columna \n",
    "        \n",
    "    return np.array(X), np.array(y)   "
   ]
  },
  {
   "cell_type": "code",
   "execution_count": 146,
   "metadata": {},
   "outputs": [
    {
     "name": "stdout",
     "output_type": "stream",
     "text": [
      "(3004, 11, 2) (3004, 11)\n"
     ]
    }
   ],
   "source": [
    "n_steps_in, n_steps_out = 11, 11\n",
    "X, y = split_sequences(arr_train, n_steps_in, n_steps_out)\n",
    "print(X.shape, y.shape)"
   ]
  },
  {
   "cell_type": "code",
   "execution_count": 147,
   "metadata": {},
   "outputs": [
    {
     "name": "stdout",
     "output_type": "stream",
     "text": [
      "[[ 455.40833333   18.3325    ]\n",
      " [1091.55875      22.32125   ]\n",
      " [1755.74666667   24.96125   ]\n",
      " [2223.02625      25.22291667]\n",
      " [2596.79958333   24.29625   ]\n",
      " [2729.30625      25.05041667]\n",
      " [2658.96         25.74541667]\n",
      " [ 560.10541667   21.74      ]\n",
      " [ 340.18166667   20.18666667]\n",
      " [  34.20541667   18.88208333]\n",
      " [ 166.08208333   17.83791667]] [ 178.71083333  439.65916667  774.8675     1381.30458333 2440.075\n",
      " 2182.44541667 1245.7334728   762.79375     886.52208333  445.84291667\n",
      "  265.0875    ]\n"
     ]
    }
   ],
   "source": [
    "print(X[0], y[0])"
   ]
  },
  {
   "cell_type": "code",
   "execution_count": 148,
   "metadata": {},
   "outputs": [
    {
     "data": {
      "text/plain": [
       "(3004, 11, 2)"
      ]
     },
     "execution_count": 148,
     "metadata": {},
     "output_type": "execute_result"
    }
   ],
   "source": [
    "X.shape"
   ]
  },
  {
   "cell_type": "code",
   "execution_count": 149,
   "metadata": {},
   "outputs": [
    {
     "data": {
      "text/plain": [
       "(3004, 11)"
      ]
     },
     "execution_count": 149,
     "metadata": {},
     "output_type": "execute_result"
    }
   ],
   "source": [
    "y.shape"
   ]
  },
  {
   "cell_type": "code",
   "execution_count": null,
   "metadata": {},
   "outputs": [],
   "source": [
    "%%time\n",
    "# el numero de features es la tercera dimension del dataset\n",
    "n_features = X.shape[2]   \n",
    "\n",
    "# # aplana las secuencias de salida\n",
    "# n_output = y.shape[1] * y.shape[2]\n",
    "# y = y.reshape((y.shape[0], n_output))\n",
    "\n",
    "# define el modelo\n",
    "modelo_cnn = Sequential()\n",
    "modelo_cnn.add(Conv1D(filters=64, kernel_size=2, activation='relu', input_shape=(n_steps_in, n_features)))\n",
    "modelo_cnn.add(MaxPooling1D(pool_size=2))\n",
    "modelo_cnn.add(Flatten())\n",
    "modelo_cnn.add(Dense(50, activation='relu'))\n",
    "modelo_cnn.add(Dense(n_steps_out))\n",
    "modelo_cnn.compile(optimizer='adam', loss='mse')\n",
    "\n",
    "# entrena el modelo Vector-Output Mulkti-step MLP con la la data de entrenamiento generada\n",
    "hist_cnn = modelo_cnn.fit(X, y, epochs=2000, verbose=1)\n",
    "\n",
    "\n"
   ]
  },
  {
   "cell_type": "code",
   "execution_count": 152,
   "metadata": {},
   "outputs": [
    {
     "data": {
      "text/plain": [
       "[<matplotlib.lines.Line2D at 0x7f177c31c6a0>]"
      ]
     },
     "execution_count": 152,
     "metadata": {},
     "output_type": "execute_result"
    },
    {
     "data": {
      "image/png": "[encoded data removed]",
      "text/plain": [
       "<Figure size 432x288 with 1 Axes>"
      ]
     },
     "metadata": {
      "needs_background": "light"
     },
     "output_type": "display_data"
    }
   ],
   "source": [
    "plt.plot(hist_cnn.history['loss'])"
   ]
  },
  {
   "cell_type": "code",
   "execution_count": 153,
   "metadata": {},
   "outputs": [
    {
     "name": "stdout",
     "output_type": "stream",
     "text": [
      "Model: \"sequential_14\"\n",
      "_________________________________________________________________\n",
      "Layer (type)                 Output Shape              Param #   \n",
      "=================================================================\n",
      "conv1d_7 (Conv1D)            (None, 10, 64)            320       \n",
      "_________________________________________________________________\n",
      "max_pooling1d_7 (MaxPooling1 (None, 5, 64)             0         \n",
      "_________________________________________________________________\n",
      "flatten_7 (Flatten)          (None, 320)               0         \n",
      "_________________________________________________________________\n",
      "dense_20 (Dense)             (None, 50)                16050     \n",
      "_________________________________________________________________\n",
      "dense_21 (Dense)             (None, 11)                561       \n",
      "=================================================================\n",
      "Total params: 16,931\n",
      "Trainable params: 16,931\n",
      "Non-trainable params: 0\n",
      "_________________________________________________________________\n"
     ]
    }
   ],
   "source": [
    "# muestra un resumen de la topologia del modelo\n",
    "modelo_cnn.summary()"
   ]
  },
  {
   "cell_type": "code",
   "execution_count": 154,
   "metadata": {},
   "outputs": [],
   "source": [
    "# modelo_cnn = modelo"
   ]
  },
  {
   "cell_type": "code",
   "execution_count": 155,
   "metadata": {},
   "outputs": [
    {
     "name": "stdout",
     "output_type": "stream",
     "text": [
      "1/1 [==============================] - 0s 10ms/step\n"
     ]
    },
    {
     "data": {
      "text/plain": [
       "array([[ 414.4701,  991.9556, 1628.1176, 2084.6936, 2385.5737, 2474.6086,\n",
       "        2354.728 , 2069.403 , 1706.6467, 1136.0331,  471.2032]],\n",
       "      dtype=float32)"
      ]
     },
     "execution_count": 155,
     "metadata": {},
     "output_type": "execute_result"
    }
   ],
   "source": [
    "x_input = train[-11:].values()\n",
    "x_input = x_input.reshape((1, n_steps_in, n_features)) \n",
    "y_hat = modelo_cnn.predict(x_input, verbose=1)\n",
    "y_hat"
   ]
  },
  {
   "cell_type": "markdown",
   "metadata": {},
   "source": [
    "## Training (LSTM)"
   ]
  },
  {
   "cell_type": "code",
   "execution_count": null,
   "metadata": {},
   "outputs": [],
   "source": []
  },
  {
   "cell_type": "code",
   "execution_count": null,
   "metadata": {},
   "outputs": [],
   "source": [
    "# my_model = RNNModel(\n",
    "#     model='LSTM',\n",
    "#     dropout=0,\n",
    "#     batch_size=16,\n",
    "#     n_epochs=300,\n",
    "#     optimizer_kwargs={'lr': 1e-3}, \n",
    "#     model_name='LSTM_model',\n",
    "#     log_tensorboard=True,\n",
    "#     random_state=42,\n",
    "#     input_chunk_length=11,\n",
    "#     output_chunk_length=11\n",
    "# )"
   ]
  },
  {
   "cell_type": "code",
   "execution_count": null,
   "metadata": {},
   "outputs": [],
   "source": [
    "# %%time\n",
    "# my_model.fit(train[col_obj],\n",
    "#              val_series=val[col_obj],\n",
    "#              verbose=True)"
   ]
  },
  {
   "cell_type": "code",
   "execution_count": 62,
   "metadata": {},
   "outputs": [],
   "source": [
    "df_columns = ['Pac', 'Tamb']"
   ]
  },
  {
   "cell_type": "code",
   "execution_count": 63,
   "metadata": {},
   "outputs": [
    {
     "data": {
      "text/plain": [
       "array([[ 455.40833333,   18.3325    ],\n",
       "       [1091.55875   ,   22.32125   ],\n",
       "       [1755.74666667,   24.96125   ],\n",
       "       ...,\n",
       "       [1820.93      ,   25.29458333],\n",
       "       [1200.29291667,   23.88333333],\n",
       "       [ 502.80292887,   22.20543933]])"
      ]
     },
     "execution_count": 63,
     "metadata": {},
     "output_type": "execute_result"
    }
   ],
   "source": [
    "arr_train = train.values()\n",
    "arr_train"
   ]
  },
  {
   "cell_type": "code",
   "execution_count": 64,
   "metadata": {},
   "outputs": [],
   "source": [
    "def split_sequences(sequences, n_steps_in, n_steps_out):\n",
    "    X, y = list(), list()\n",
    "    for i in range(len(sequences)):\n",
    "        # calcula el indice del final de la secuencia de entrada y salida actual\n",
    "        end_ix = i + n_steps_in\n",
    "        out_end_ix = end_ix + n_steps_out\n",
    "\n",
    "        # si el indice de salida es mayor que la longitud de las secuencias entonces deja de generar mas muestras\n",
    "        if out_end_ix > len(sequences):\n",
    "            break\n",
    "            \n",
    "        # separa la parte de la secuencias de entrada y el vector de traget \n",
    "        X.append( sequences[i:end_ix, :] ) # añade las secuencias de entrada a las muestras de  entrenamiento\n",
    "        y.append( sequences[end_ix:out_end_ix, 0] ) # añade los n_steps_out siguientes como secuencias target de salida de la primera columna \n",
    "        \n",
    "    return np.array(X), np.array(y)   "
   ]
  },
  {
   "cell_type": "code",
   "execution_count": 65,
   "metadata": {},
   "outputs": [
    {
     "name": "stdout",
     "output_type": "stream",
     "text": [
      "(3004, 11, 2) (3004, 11)\n"
     ]
    }
   ],
   "source": [
    "n_steps_in, n_steps_out = 11, 11\n",
    "X, y = split_sequences(arr_train, n_steps_in, n_steps_out)\n",
    "print(X.shape, y.shape)"
   ]
  },
  {
   "cell_type": "code",
   "execution_count": 66,
   "metadata": {},
   "outputs": [
    {
     "name": "stdout",
     "output_type": "stream",
     "text": [
      "[[ 455.40833333   18.3325    ]\n",
      " [1091.55875      22.32125   ]\n",
      " [1755.74666667   24.96125   ]\n",
      " [2223.02625      25.22291667]\n",
      " [2596.79958333   24.29625   ]\n",
      " [2729.30625      25.05041667]\n",
      " [2658.96         25.74541667]\n",
      " [ 560.10541667   21.74      ]\n",
      " [ 340.18166667   20.18666667]\n",
      " [  34.20541667   18.88208333]\n",
      " [ 166.08208333   17.83791667]] [ 178.71083333  439.65916667  774.8675     1381.30458333 2440.075\n",
      " 2182.44541667 1245.7334728   762.79375     886.52208333  445.84291667\n",
      "  265.0875    ]\n"
     ]
    }
   ],
   "source": [
    "print(X[0], y[0])"
   ]
  },
  {
   "cell_type": "code",
   "execution_count": 67,
   "metadata": {},
   "outputs": [
    {
     "data": {
      "text/plain": [
       "(3004, 11, 2)"
      ]
     },
     "execution_count": 67,
     "metadata": {},
     "output_type": "execute_result"
    }
   ],
   "source": [
    "X.shape"
   ]
  },
  {
   "cell_type": "code",
   "execution_count": 70,
   "metadata": {},
   "outputs": [
    {
     "data": {
      "text/plain": [
       "(3004, 11)"
      ]
     },
     "execution_count": 70,
     "metadata": {},
     "output_type": "execute_result"
    }
   ],
   "source": [
    "y.shape"
   ]
  },
  {
   "cell_type": "code",
   "execution_count": null,
   "metadata": {},
   "outputs": [],
   "source": [
    "%%time\n",
    "# el numero de features es la tercera dimension del dataset\n",
    "n_features = X.shape[2]   \n",
    "\n",
    "# # aplana las secuencias de salida\n",
    "# n_output = y.shape[1] * y.shape[2]\n",
    "# y = y.reshape((y.shape[0], n_output))\n",
    "\n",
    "# define el modelo\n",
    "modelo = Sequential()\n",
    "modelo.add(LSTM(50, activation='relu', return_sequences=True, input_shape=(n_steps_in, n_features)))\n",
    "modelo.add(LSTM(10, activation='relu'))\n",
    "modelo.add(Dense(n_steps_out))\n",
    "modelo.compile(optimizer='adam', loss='mse')\n",
    "\n",
    "# entrena el modelo Stacked LSTM Vector-Output con la la data de entrenamiento generada\n",
    "hist = modelo.fit(X, y, epochs=738, verbose=1)\n",
    "\n"
   ]
  },
  {
   "cell_type": "code",
   "execution_count": null,
   "metadata": {},
   "outputs": [],
   "source": [
    "#24m"
   ]
  },
  {
   "cell_type": "code",
   "execution_count": 85,
   "metadata": {},
   "outputs": [],
   "source": [
    "modelo_lstm = modelo\n",
    "hist_lstm = hist"
   ]
  },
  {
   "cell_type": "code",
   "execution_count": 86,
   "metadata": {},
   "outputs": [
    {
     "name": "stdout",
     "output_type": "stream",
     "text": [
      "Model: \"sequential_12\"\n",
      "_________________________________________________________________\n",
      "Layer (type)                 Output Shape              Param #   \n",
      "=================================================================\n",
      "lstm_13 (LSTM)               (None, 11, 50)            10600     \n",
      "_________________________________________________________________\n",
      "lstm_14 (LSTM)               (None, 10)                2440      \n",
      "_________________________________________________________________\n",
      "dense_17 (Dense)             (None, 11)                121       \n",
      "=================================================================\n",
      "Total params: 13,161\n",
      "Trainable params: 13,161\n",
      "Non-trainable params: 0\n",
      "_________________________________________________________________\n"
     ]
    }
   ],
   "source": [
    "# muestra un resumen de la topologia del modelo\n",
    "modelo_lstm.summary()"
   ]
  },
  {
   "cell_type": "code",
   "execution_count": 87,
   "metadata": {},
   "outputs": [
    {
     "data": {
      "text/plain": [
       "[<matplotlib.lines.Line2D at 0x7f179c1a34a8>]"
      ]
     },
     "execution_count": 87,
     "metadata": {},
     "output_type": "execute_result"
    },
    {
     "data": {
      "image/png": "[encoded data removed]",
      "text/plain": [
       "<Figure size 432x288 with 1 Axes>"
      ]
     },
     "metadata": {
      "needs_background": "light"
     },
     "output_type": "display_data"
    }
   ],
   "source": [
    "plt.plot(hist_lstm.history['loss'])"
   ]
  },
  {
   "cell_type": "code",
   "execution_count": 88,
   "metadata": {},
   "outputs": [
    {
     "name": "stdout",
     "output_type": "stream",
     "text": [
      "1/1 [==============================] - 0s 72ms/step\n"
     ]
    },
    {
     "data": {
      "text/plain": [
       "array([[ 462.38556,  889.6997 , 1500.8733 , 2040.4104 , 2376.893  ,\n",
       "        2464.4165 , 2297.677  , 1913.4291 , 1404.0825 ,  824.12726,\n",
       "         425.62314]], dtype=float32)"
      ]
     },
     "execution_count": 88,
     "metadata": {},
     "output_type": "execute_result"
    }
   ],
   "source": [
    "x_input = train[-11:].values()\n",
    "x_input = x_input.reshape((1, n_steps_in, n_features)) \n",
    "y_hat = modelo_lstm.predict(x_input, verbose=1)\n",
    "y_hat"
   ]
  },
  {
   "cell_type": "code",
   "execution_count": null,
   "metadata": {},
   "outputs": [],
   "source": []
  },
  {
   "cell_type": "markdown",
   "metadata": {},
   "source": [
    "## Training (Baseline)"
   ]
  },
  {
   "cell_type": "code",
   "execution_count": 577,
   "metadata": {},
   "outputs": [],
   "source": [
    "class baseline_model:\n",
    "    history = None\n",
    "    def fit(self, history):\n",
    "        self.history = history\n",
    "    def predict(self, n, col_obj):\n",
    "        assert self.history is not None, 'Es necesario realizar entrenamiento (fit)'\n",
    "        return self.history[-11:-11+n][col_obj] ##No utilizar indices"
   ]
  },
  {
   "cell_type": "code",
   "execution_count": 501,
   "metadata": {},
   "outputs": [
    {
     "data": {
      "text/plain": [
       "                             Pac\n",
       "Fecha_cod                       \n",
       "2017-05-06 20:00:00   433.067083\n",
       "2017-05-06 21:00:00  1179.527500\n",
       "Freq: H"
      ]
     },
     "execution_count": 501,
     "metadata": {},
     "output_type": "execute_result"
    }
   ],
   "source": [
    "f = baseline_model()\n",
    "f.fit(train)\n",
    "f.predict(2, col_obj)\n",
    "##No utilizar indices"
   ]
  },
  {
   "cell_type": "markdown",
   "metadata": {},
   "source": [
    "# Comparación de modelos\n"
   ]
  },
  {
   "cell_type": "code",
   "execution_count": null,
   "metadata": {},
   "outputs": [],
   "source": []
  },
  {
   "cell_type": "markdown",
   "metadata": {},
   "source": [
    "### Definicion Walkforward"
   ]
  },
  {
   "cell_type": "code",
   "execution_count": 576,
   "metadata": {},
   "outputs": [],
   "source": [
    "def walk_forward_evaluation(train, val, model, n_pred, col_obj, es_neuronal=False):\n",
    "    assert len(val)//n_pred >= 2, \"Deben haber mínimo 2 días (periodos de pronóstico) de validación\"\n",
    "    history = train\n",
    "    if es_neuronal:\n",
    "        pass #model.fit(train)\n",
    "    arr_pred=None\n",
    "    arr_real=None \n",
    "    for t in range(len(val)-n_pred):\n",
    "        print(f't={t}/{len(val)-n_pred-1}')\n",
    "        print(f'history len = {len(history)}')\n",
    "        print()\n",
    "        \n",
    "        #valores predichos\n",
    "        if not es_neuronal:\n",
    "            model.fit(history[col_obj])\n",
    "            pred = model.predict(n_pred)\n",
    "        if not isinstance(pred, np.ndarray):\n",
    "            pred = pred.univariate_values().reshape((1,-1))\n",
    "        else:\n",
    "            pred = pred.reshape((1,-1))\n",
    "        if arr_pred is None:\n",
    "            arr_pred = pred\n",
    "        else:\n",
    "            arr_pred = np.concatenate([arr_pred,pred], axis=0)\n",
    "            \n",
    "        #valores reales:\n",
    "        real = val[t:t+n_pred][col_obj].univariate_values().reshape((1,-1))\n",
    "        if arr_real is None:\n",
    "            arr_real = real\n",
    "        else:\n",
    "            arr_real = np.concatenate([arr_real,real], axis=0)\n",
    "        #history_new = history.append(val[t])\n",
    "        #history = history_new\n",
    "        history = history.append(val[t])\n",
    "    \n",
    "    return arr_pred, arr_real\n",
    "    "
   ]
  },
  {
   "cell_type": "markdown",
   "metadata": {},
   "source": [
    "#### Walk forward para modelos neuronales"
   ]
  },
  {
   "cell_type": "code",
   "execution_count": 173,
   "metadata": {},
   "outputs": [],
   "source": [
    "def walk_forward_evaluation_neuronal(train, val, model, n_pred, col_obj, es_neuronal=True):\n",
    "    assert len(val)//n_pred >= 2, \"Deben haber mínimo 2 días (periodos de pronóstico) de validación\"\n",
    "    x_input = train[-11:]\n",
    "    if es_neuronal:\n",
    "        pass #model.fit(train)\n",
    "    \n",
    "    arr_pred=None\n",
    "    arr_real=None \n",
    "    for t in range(val.shape[0]-n_pred):\n",
    "        print(f't={t}/{val.shape[0]-n_pred-1}')\n",
    "        print(f'history len = {x_input.shape[0]}')\n",
    "        print()\n",
    "        \n",
    "        #valores predichos\n",
    "        if not es_neuronal:\n",
    "#             model.fit(history[col_obj])\n",
    "            pred = model.predict(n_pred)\n",
    "        else:\n",
    "            pred = model.predict(x_input.reshape((1, 11, train.shape[1])) )\n",
    "            \n",
    "        if not isinstance(pred, np.ndarray):\n",
    "            pred = pred.univariate_values().reshape((1,-1))\n",
    "        else:\n",
    "            pred = pred.reshape((1,-1))\n",
    "            \n",
    "        if arr_pred is None:\n",
    "            arr_pred = pred\n",
    "        else:\n",
    "            arr_pred = np.concatenate([arr_pred,pred], axis=0)\n",
    "            \n",
    "        #valores reales:\n",
    "        if not es_neuronal:\n",
    "            real = val[t:t+n_pred][col_obj].univariate_values().reshape((1,-1))\n",
    "        else:\n",
    "            real = val[t:t+n_pred,0].reshape((1,-1))\n",
    "        if arr_real is None:\n",
    "            arr_real = real\n",
    "        else:\n",
    "            arr_real = np.concatenate([arr_real,real], axis=0)\n",
    "        #history_new = history.append(val[t])\n",
    "        #history = history_new\n",
    "        x_input = np.vstack((x_input[1:],val[t]))\n",
    "    \n",
    "    return arr_pred, arr_real\n",
    "    "
   ]
  },
  {
   "cell_type": "code",
   "execution_count": null,
   "metadata": {},
   "outputs": [],
   "source": []
  },
  {
   "cell_type": "markdown",
   "metadata": {},
   "source": [
    "### Prediction ARIMA"
   ]
  },
  {
   "cell_type": "code",
   "execution_count": null,
   "metadata": {},
   "outputs": [],
   "source": [
    "model = ARIMA(p=2, d=0, q=11)\n",
    "n_pred = 11\n",
    "val_wfe = val[:n_pred*3] # Minimo 2 dias\n",
    "# train_wfe = train[-n_pred*40:]\n",
    "train_wfe = train\n",
    "print(len(train_wfe))\n",
    "print(len(val_wfe))"
   ]
  },
  {
   "cell_type": "code",
   "execution_count": 436,
   "metadata": {},
   "outputs": [
    {
     "name": "stdout",
     "output_type": "stream",
     "text": [
      "CPU times: user 10min 28s, sys: 11min 41s, total: 22min 9s\n",
      "Wall time: 55.6 s\n"
     ]
    }
   ],
   "source": [
    "%%time\n",
    "model.fit(train[col_obj])"
   ]
  },
  {
   "cell_type": "code",
   "execution_count": 437,
   "metadata": {},
   "outputs": [],
   "source": [
    "n_predict = 80"
   ]
  },
  {
   "cell_type": "code",
   "execution_count": 438,
   "metadata": {},
   "outputs": [
    {
     "name": "stdout",
     "output_type": "stream",
     "text": [
      "CPU times: user 478 ms, sys: 523 ms, total: 1 s\n",
      "Wall time: 41.8 ms\n"
     ]
    },
    {
     "data": {
      "text/plain": [
       "                               0\n",
       "2017-05-07 07:00:00   347.063028\n",
       "2017-05-07 08:00:00   641.926299\n",
       "2017-05-07 09:00:00  1174.898180\n",
       "2017-05-07 10:00:00  1743.496876\n",
       "2017-05-07 11:00:00  2156.955701\n",
       "...                          ...\n",
       "2017-05-10 10:00:00   722.461815\n",
       "2017-05-10 11:00:00   389.781913\n",
       "2017-05-10 12:00:00   336.146406\n",
       "2017-05-10 13:00:00   577.850294\n",
       "2017-05-10 14:00:00  1037.568886\n",
       "\n",
       "[80 rows x 1 columns]\n",
       "Freq: H"
      ]
     },
     "execution_count": 438,
     "metadata": {},
     "output_type": "execute_result"
    }
   ],
   "source": [
    "%%time\n",
    "pred = model.predict(n_predict)\n",
    "pred"
   ]
  },
  {
   "cell_type": "code",
   "execution_count": 439,
   "metadata": {},
   "outputs": [
    {
     "data": {
      "text/plain": [
       "                             Pac       Tamb\n",
       "Fecha_cod                                  \n",
       "2017-05-07 07:00:00   434.088750  14.522917\n",
       "2017-05-07 08:00:00  1170.127083  19.560417\n",
       "2017-05-07 09:00:00  1785.090417  24.650000\n",
       "2017-05-07 10:00:00  2249.656667  24.322500\n",
       "2017-05-07 11:00:00  2549.714167  24.848750\n",
       "...                          ...        ...\n",
       "2017-05-11 06:00:00  2071.770833  24.311667\n",
       "2017-05-11 07:00:00  1410.895000  23.180833\n",
       "2017-05-11 08:00:00  1132.319583  23.412083\n",
       "2017-05-11 09:00:00   536.687917  21.356250\n",
       "2017-05-11 10:00:00   309.435833  17.710417\n",
       "\n",
       "[100 rows x 2 columns]\n",
       "Freq: H"
      ]
     },
     "execution_count": 439,
     "metadata": {},
     "output_type": "execute_result"
    }
   ],
   "source": [
    "val[:100]"
   ]
  },
  {
   "cell_type": "code",
   "execution_count": 440,
   "metadata": {},
   "outputs": [
    {
     "data": {
      "image/png": "[encoded data removed]",
      "text/plain": [
       "<Figure size 432x288 with 1 Axes>"
      ]
     },
     "metadata": {
      "needs_background": "light"
     },
     "output_type": "display_data"
    }
   ],
   "source": [
    "train[-200:].plot()\n",
    "val[col_obj][:n_predict].plot()\n",
    "pred.plot()"
   ]
  },
  {
   "cell_type": "code",
   "execution_count": 329,
   "metadata": {},
   "outputs": [],
   "source": [
    "# %%time\n",
    "# model.backtest(val,forecast_horizon=11, verbose=True)"
   ]
  },
  {
   "cell_type": "code",
   "execution_count": 441,
   "metadata": {},
   "outputs": [
    {
     "name": "stdout",
     "output_type": "stream",
     "text": [
      "MAPE: 46.25%\n"
     ]
    }
   ],
   "source": [
    "print('MAPE: {:.2f}%'.format(mape(pred, val[col_obj])))"
   ]
  },
  {
   "cell_type": "code",
   "execution_count": 319,
   "metadata": {},
   "outputs": [
    {
     "name": "stdout",
     "output_type": "stream",
     "text": [
      "MAPE: 33.43%\n"
     ]
    }
   ],
   "source": [
    "# print('MAPE: {:.2f}%'.format(mape(pred, val[col_obj])))"
   ]
  },
  {
   "cell_type": "code",
   "execution_count": null,
   "metadata": {},
   "outputs": [],
   "source": []
  },
  {
   "cell_type": "code",
   "execution_count": null,
   "metadata": {},
   "outputs": [],
   "source": []
  },
  {
   "cell_type": "markdown",
   "metadata": {},
   "source": [
    "#### Walk forward ARIMA"
   ]
  },
  {
   "cell_type": "code",
   "execution_count": 460,
   "metadata": {},
   "outputs": [
    {
     "name": "stdout",
     "output_type": "stream",
     "text": [
      "3025\n",
      "33\n"
     ]
    }
   ],
   "source": [
    "model = ARIMA(p=2, d=0, q=11)\n",
    "n_pred = 11\n",
    "val_wfe = val[:n_pred*3] # Minimo 2 dias\n",
    "# train_wfe = train[-n_pred*40:]\n",
    "train_wfe = train\n",
    "print(len(train_wfe))\n",
    "print(len(val_wfe))"
   ]
  },
  {
   "cell_type": "code",
   "execution_count": 461,
   "metadata": {},
   "outputs": [
    {
     "name": "stdout",
     "output_type": "stream",
     "text": [
      "t=0/21\n",
      "history len = 3025\n",
      "\n",
      "t=1/21\n",
      "history len = 3026\n",
      "\n",
      "t=2/21\n",
      "history len = 3027\n",
      "\n",
      "t=3/21\n",
      "history len = 3028\n",
      "\n",
      "t=4/21\n",
      "history len = 3029\n",
      "\n",
      "t=5/21\n",
      "history len = 3030\n",
      "\n",
      "t=6/21\n",
      "history len = 3031\n",
      "\n",
      "t=7/21\n",
      "history len = 3032\n",
      "\n",
      "t=8/21\n",
      "history len = 3033\n",
      "\n",
      "t=9/21\n",
      "history len = 3034\n",
      "\n",
      "t=10/21\n",
      "history len = 3035\n",
      "\n",
      "t=11/21\n",
      "history len = 3036\n",
      "\n",
      "t=12/21\n",
      "history len = 3037\n",
      "\n",
      "t=13/21\n",
      "history len = 3038\n",
      "\n",
      "t=14/21\n",
      "history len = 3039\n",
      "\n",
      "t=15/21\n",
      "history len = 3040\n",
      "\n",
      "t=16/21\n",
      "history len = 3041\n",
      "\n",
      "t=17/21\n",
      "history len = 3042\n",
      "\n",
      "t=18/21\n",
      "history len = 3043\n",
      "\n",
      "t=19/21\n",
      "history len = 3044\n",
      "\n",
      "t=20/21\n",
      "history len = 3045\n",
      "\n",
      "t=21/21\n",
      "history len = 3046\n",
      "\n",
      "CPU times: user 5h 5min 9s, sys: 6h 20min 43s, total: 11h 25min 52s\n",
      "Wall time: 36min 57s\n"
     ]
    }
   ],
   "source": [
    "%%time\n",
    "arr_pred, arr_real = walk_forward_evaluation(train=train_wfe, val=val_wfe, model=model, n_pred=n_pred,col_obj=col_obj, es_neuronal=False)"
   ]
  },
  {
   "cell_type": "code",
   "execution_count": 462,
   "metadata": {},
   "outputs": [
    {
     "data": {
      "text/plain": [
       "(22, 11)"
      ]
     },
     "execution_count": 462,
     "metadata": {},
     "output_type": "execute_result"
    }
   ],
   "source": [
    "arr_pred.shape"
   ]
  },
  {
   "cell_type": "code",
   "execution_count": 463,
   "metadata": {},
   "outputs": [
    {
     "data": {
      "text/plain": [
       "(22, 11)"
      ]
     },
     "execution_count": 463,
     "metadata": {},
     "output_type": "execute_result"
    }
   ],
   "source": [
    "arr_real.shape"
   ]
  },
  {
   "cell_type": "markdown",
   "metadata": {},
   "source": [
    "#### Metric Evaluation ARIMA"
   ]
  },
  {
   "cell_type": "code",
   "execution_count": 464,
   "metadata": {},
   "outputs": [],
   "source": [
    "def evaluate_metric_t(arr_pred, arr_real, metric):\n",
    "    num_cols = arr_pred.shape[1]\n",
    "    ls_metric = np.zeros(num_cols)\n",
    "    for col in range(num_cols):\n",
    "        ls_metric[col] = metric(arr_pred[:,col], arr_real[:,col])\n",
    "    return ls_metric\n",
    "    "
   ]
  },
  {
   "cell_type": "markdown",
   "metadata": {},
   "source": [
    "##### RMSE"
   ]
  },
  {
   "cell_type": "code",
   "execution_count": 465,
   "metadata": {},
   "outputs": [
    {
     "data": {
      "text/plain": [
       "array([160.64776544, 270.69151432, 315.9885493 , 334.01812193,\n",
       "       348.00484558, 372.36320726, 403.76765114, 427.86701613,\n",
       "       436.60018178, 432.48102117, 439.43991836])"
      ]
     },
     "execution_count": 465,
     "metadata": {},
     "output_type": "execute_result"
    }
   ],
   "source": [
    "metric = rmse\n",
    "ls_metric_t = evaluate_metric_t(arr_pred, arr_real, metric=metric)\n",
    "ls_metric_t"
   ]
  },
  {
   "cell_type": "code",
   "execution_count": null,
   "metadata": {},
   "outputs": [],
   "source": []
  },
  {
   "cell_type": "code",
   "execution_count": 466,
   "metadata": {},
   "outputs": [
    {
     "data": {
      "image/png": "[encoded data removed]",
      "text/plain": [
       "<Figure size 432x288 with 1 Axes>"
      ]
     },
     "metadata": {
      "needs_background": "light"
     },
     "output_type": "display_data"
    }
   ],
   "source": [
    "plt.title('Métrica RMSE para predicciones t+i')\n",
    "plt.ylabel('RMSE')\n",
    "plt.plot([f't+{i}' for i in range(1,n_pred+1)],ls_metric_t)\n",
    "plt.show()"
   ]
  },
  {
   "cell_type": "markdown",
   "metadata": {},
   "source": [
    "##### R^2"
   ]
  },
  {
   "cell_type": "code",
   "execution_count": 467,
   "metadata": {},
   "outputs": [
    {
     "data": {
      "text/plain": [
       "array([0.95698311, 0.8716135 , 0.8166354 , 0.78997067, 0.77035765,\n",
       "       0.73757084, 0.69279894, 0.65660533, 0.64425295, 0.65094365,\n",
       "       0.63929683])"
      ]
     },
     "execution_count": 467,
     "metadata": {},
     "output_type": "execute_result"
    }
   ],
   "source": [
    "metric = r2_score\n",
    "ls_metric_t = evaluate_metric_t(arr_pred, arr_real, metric=metric)\n",
    "ls_metric_t"
   ]
  },
  {
   "cell_type": "code",
   "execution_count": 468,
   "metadata": {},
   "outputs": [
    {
     "data": {
      "image/png": "[encoded data removed]",
      "text/plain": [
       "<Figure size 432x288 with 1 Axes>"
      ]
     },
     "metadata": {
      "needs_background": "light"
     },
     "output_type": "display_data"
    }
   ],
   "source": [
    "plt.title('Métrica R^2 para predicciones t+i')\n",
    "plt.ylabel('R^2')\n",
    "plt.plot([f't+{i}' for i in range(1,n_pred+1)],ls_metric_t)\n",
    "plt.show()"
   ]
  },
  {
   "cell_type": "code",
   "execution_count": null,
   "metadata": {},
   "outputs": [],
   "source": []
  },
  {
   "cell_type": "code",
   "execution_count": null,
   "metadata": {},
   "outputs": [],
   "source": []
  },
  {
   "cell_type": "code",
   "execution_count": null,
   "metadata": {},
   "outputs": [],
   "source": []
  },
  {
   "cell_type": "markdown",
   "metadata": {},
   "source": [
    "###  Predicción Baseline"
   ]
  },
  {
   "cell_type": "code",
   "execution_count": null,
   "metadata": {},
   "outputs": [],
   "source": []
  },
  {
   "cell_type": "code",
   "execution_count": 506,
   "metadata": {},
   "outputs": [
    {
     "name": "stdout",
     "output_type": "stream",
     "text": [
      "3025\n",
      "33\n"
     ]
    }
   ],
   "source": [
    "n_pred = 11\n",
    "val_wfe = val[:n_pred*3] # Minimo 2 dias\n",
    "# train_wfe = train[-n_pred*40:]\n",
    "train_wfe = train\n",
    "print(len(train_wfe))\n",
    "print(len(val_wfe))"
   ]
  },
  {
   "cell_type": "code",
   "execution_count": 579,
   "metadata": {},
   "outputs": [],
   "source": [
    "class baseline_model:\n",
    "    history = None\n",
    "    n_pred = 11\n",
    "    def fit(self, history):\n",
    "        self.history = history\n",
    "    def predict(self, n):\n",
    "        assert self.history is not None, 'Es necesario realizar entrenamiento (fit)'\n",
    "        assert n<=self.n_pred, f'n debe ser menor a self.n_pred ({self.n_pred})'\n",
    "        if n>=self.n_pred:\n",
    "            return self.history[-self.n_pred:]\n",
    "        return self.history[-self.n_pred:-self.n_pred+n] ##No utilizar indices"
   ]
  },
  {
   "cell_type": "code",
   "execution_count": 566,
   "metadata": {},
   "outputs": [
    {
     "data": {
      "text/plain": [
       "                             Pac       Tamb\n",
       "Fecha_cod                                  \n",
       "2017-05-06 20:00:00   433.067083  13.104167\n",
       "2017-05-06 21:00:00  1179.527500  18.623333\n",
       "2017-05-06 22:00:00  1814.646667  24.077083\n",
       "2017-05-06 23:00:00  2256.192917  25.899583\n",
       "2017-05-07 00:00:00  2561.787083  26.175417\n",
       "2017-05-07 01:00:00  2653.807083  26.612917\n",
       "2017-05-07 02:00:00  2582.510417  26.527917\n",
       "2017-05-07 03:00:00  2287.591250  26.619583\n",
       "2017-05-07 04:00:00  1820.930000  25.294583\n",
       "2017-05-07 05:00:00  1200.292917  23.883333\n",
       "2017-05-07 06:00:00   502.802929  22.205439\n",
       "Freq: H"
      ]
     },
     "execution_count": 566,
     "metadata": {},
     "output_type": "execute_result"
    }
   ],
   "source": [
    "f = baseline_model()\n",
    "f.fit(train_wfe)\n",
    "f.predict(11)\n",
    "##No utilizar indices"
   ]
  },
  {
   "cell_type": "markdown",
   "metadata": {},
   "source": [
    "### Walk Forward Baseline"
   ]
  },
  {
   "cell_type": "code",
   "execution_count": 567,
   "metadata": {},
   "outputs": [
    {
     "name": "stdout",
     "output_type": "stream",
     "text": [
      "3025\n",
      "33\n"
     ]
    }
   ],
   "source": [
    "model = baseline_model()\n",
    "n_pred = 11\n",
    "val_wfe = val[:n_pred*3] # Minimo 2 dias\n",
    "# train_wfe = train[-n_pred*40:]\n",
    "train_wfe = train\n",
    "print(len(train_wfe))\n",
    "print(len(val_wfe))"
   ]
  },
  {
   "cell_type": "code",
   "execution_count": 568,
   "metadata": {},
   "outputs": [
    {
     "name": "stdout",
     "output_type": "stream",
     "text": [
      "t=0/21\n",
      "history len = 3025\n",
      "\n",
      "t=1/21\n",
      "history len = 3026\n",
      "\n",
      "t=2/21\n",
      "history len = 3027\n",
      "\n",
      "t=3/21\n",
      "history len = 3028\n",
      "\n",
      "t=4/21\n",
      "history len = 3029\n",
      "\n",
      "t=5/21\n",
      "history len = 3030\n",
      "\n",
      "t=6/21\n",
      "history len = 3031\n",
      "\n",
      "t=7/21\n",
      "history len = 3032\n",
      "\n",
      "t=8/21\n",
      "history len = 3033\n",
      "\n",
      "t=9/21\n",
      "history len = 3034\n",
      "\n",
      "t=10/21\n",
      "history len = 3035\n",
      "\n",
      "t=11/21\n",
      "history len = 3036\n",
      "\n",
      "t=12/21\n",
      "history len = 3037\n",
      "\n",
      "t=13/21\n",
      "history len = 3038\n",
      "\n",
      "t=14/21\n",
      "history len = 3039\n",
      "\n",
      "t=15/21\n",
      "history len = 3040\n",
      "\n",
      "t=16/21\n",
      "history len = 3041\n",
      "\n",
      "t=17/21\n",
      "history len = 3042\n",
      "\n",
      "t=18/21\n",
      "history len = 3043\n",
      "\n",
      "t=19/21\n",
      "history len = 3044\n",
      "\n",
      "t=20/21\n",
      "history len = 3045\n",
      "\n",
      "t=21/21\n",
      "history len = 3046\n",
      "\n",
      "CPU times: user 303 ms, sys: 0 ns, total: 303 ms\n",
      "Wall time: 295 ms\n"
     ]
    }
   ],
   "source": [
    "%%time\n",
    "arr_pred, arr_real = walk_forward_evaluation(train=train_wfe, val=val_wfe, model=model, n_pred=n_pred,col_obj=col_obj, es_neuronal=False)"
   ]
  },
  {
   "cell_type": "code",
   "execution_count": 569,
   "metadata": {},
   "outputs": [
    {
     "data": {
      "text/plain": [
       "array([[ 433.06708333, 1179.5275    , 1814.64666667, 2256.19291667,\n",
       "        2561.78708333, 2653.80708333, 2582.51041667, 2287.59125   ,\n",
       "        1820.93      , 1200.29291667,  502.80292887],\n",
       "       [1179.5275    , 1814.64666667, 2256.19291667, 2561.78708333,\n",
       "        2653.80708333, 2582.51041667, 2287.59125   , 1820.93      ,\n",
       "        1200.29291667,  502.80292887,  434.08875   ],\n",
       "       [1814.64666667, 2256.19291667, 2561.78708333, 2653.80708333,\n",
       "        2582.51041667, 2287.59125   , 1820.93      , 1200.29291667,\n",
       "         502.80292887,  434.08875   , 1170.12708333],\n",
       "       [2256.19291667, 2561.78708333, 2653.80708333, 2582.51041667,\n",
       "        2287.59125   , 1820.93      , 1200.29291667,  502.80292887,\n",
       "         434.08875   , 1170.12708333, 1785.09041667],\n",
       "       [2561.78708333, 2653.80708333, 2582.51041667, 2287.59125   ,\n",
       "        1820.93      , 1200.29291667,  502.80292887,  434.08875   ,\n",
       "        1170.12708333, 1785.09041667, 2249.65666667],\n",
       "       [2653.80708333, 2582.51041667, 2287.59125   , 1820.93      ,\n",
       "        1200.29291667,  502.80292887,  434.08875   , 1170.12708333,\n",
       "        1785.09041667, 2249.65666667, 2549.71416667],\n",
       "       [2582.51041667, 2287.59125   , 1820.93      , 1200.29291667,\n",
       "         502.80292887,  434.08875   , 1170.12708333, 1785.09041667,\n",
       "        2249.65666667, 2549.71416667, 2626.0275    ],\n",
       "       [2287.59125   , 1820.93      , 1200.29291667,  502.80292887,\n",
       "         434.08875   , 1170.12708333, 1785.09041667, 2249.65666667,\n",
       "        2549.71416667, 2626.0275    , 2549.17375   ],\n",
       "       [1820.93      , 1200.29291667,  502.80292887,  434.08875   ,\n",
       "        1170.12708333, 1785.09041667, 2249.65666667, 2549.71416667,\n",
       "        2626.0275    , 2549.17375   , 2307.63208333],\n",
       "       [1200.29291667,  502.80292887,  434.08875   , 1170.12708333,\n",
       "        1785.09041667, 2249.65666667, 2549.71416667, 2626.0275    ,\n",
       "        2549.17375   , 2307.63208333, 1830.59958333],\n",
       "       [ 502.80292887,  434.08875   , 1170.12708333, 1785.09041667,\n",
       "        2249.65666667, 2549.71416667, 2626.0275    , 2549.17375   ,\n",
       "        2307.63208333, 1830.59958333, 1196.37333333],\n",
       "       [ 434.08875   , 1170.12708333, 1785.09041667, 2249.65666667,\n",
       "        2549.71416667, 2626.0275    , 2549.17375   , 2307.63208333,\n",
       "        1830.59958333, 1196.37333333,  483.49708333],\n",
       "       [1170.12708333, 1785.09041667, 2249.65666667, 2549.71416667,\n",
       "        2626.0275    , 2549.17375   , 2307.63208333, 1830.59958333,\n",
       "        1196.37333333,  483.49708333,  419.27583333],\n",
       "       [1785.09041667, 2249.65666667, 2549.71416667, 2626.0275    ,\n",
       "        2549.17375   , 2307.63208333, 1830.59958333, 1196.37333333,\n",
       "         483.49708333,  419.27583333, 1134.27166667],\n",
       "       [2249.65666667, 2549.71416667, 2626.0275    , 2549.17375   ,\n",
       "        2307.63208333, 1830.59958333, 1196.37333333,  483.49708333,\n",
       "         419.27583333, 1134.27166667, 1675.97208333],\n",
       "       [2549.71416667, 2626.0275    , 2549.17375   , 2307.63208333,\n",
       "        1830.59958333, 1196.37333333,  483.49708333,  419.27583333,\n",
       "        1134.27166667, 1675.97208333, 2210.39333333],\n",
       "       [2626.0275    , 2549.17375   , 2307.63208333, 1830.59958333,\n",
       "        1196.37333333,  483.49708333,  419.27583333, 1134.27166667,\n",
       "        1675.97208333, 2210.39333333, 2544.57541667],\n",
       "       [2549.17375   , 2307.63208333, 1830.59958333, 1196.37333333,\n",
       "         483.49708333,  419.27583333, 1134.27166667, 1675.97208333,\n",
       "        2210.39333333, 2544.57541667, 2641.45041667],\n",
       "       [2307.63208333, 1830.59958333, 1196.37333333,  483.49708333,\n",
       "         419.27583333, 1134.27166667, 1675.97208333, 2210.39333333,\n",
       "        2544.57541667, 2641.45041667, 2532.21916667],\n",
       "       [1830.59958333, 1196.37333333,  483.49708333,  419.27583333,\n",
       "        1134.27166667, 1675.97208333, 2210.39333333, 2544.57541667,\n",
       "        2641.45041667, 2532.21916667, 2264.96833333],\n",
       "       [1196.37333333,  483.49708333,  419.27583333, 1134.27166667,\n",
       "        1675.97208333, 2210.39333333, 2544.57541667, 2641.45041667,\n",
       "        2532.21916667, 2264.96833333, 1792.13916667],\n",
       "       [ 483.49708333,  419.27583333, 1134.27166667, 1675.97208333,\n",
       "        2210.39333333, 2544.57541667, 2641.45041667, 2532.21916667,\n",
       "        2264.96833333, 1792.13916667, 1102.335     ]])"
      ]
     },
     "execution_count": 569,
     "metadata": {},
     "output_type": "execute_result"
    }
   ],
   "source": [
    "arr_pred"
   ]
  },
  {
   "cell_type": "code",
   "execution_count": 570,
   "metadata": {},
   "outputs": [
    {
     "data": {
      "text/plain": [
       "array([[ 434.08875   , 1170.12708333, 1785.09041667, 2249.65666667,\n",
       "        2549.71416667, 2626.0275    , 2549.17375   , 2307.63208333,\n",
       "        1830.59958333, 1196.37333333,  483.49708333],\n",
       "       [1170.12708333, 1785.09041667, 2249.65666667, 2549.71416667,\n",
       "        2626.0275    , 2549.17375   , 2307.63208333, 1830.59958333,\n",
       "        1196.37333333,  483.49708333,  419.27583333],\n",
       "       [1785.09041667, 2249.65666667, 2549.71416667, 2626.0275    ,\n",
       "        2549.17375   , 2307.63208333, 1830.59958333, 1196.37333333,\n",
       "         483.49708333,  419.27583333, 1134.27166667],\n",
       "       [2249.65666667, 2549.71416667, 2626.0275    , 2549.17375   ,\n",
       "        2307.63208333, 1830.59958333, 1196.37333333,  483.49708333,\n",
       "         419.27583333, 1134.27166667, 1675.97208333],\n",
       "       [2549.71416667, 2626.0275    , 2549.17375   , 2307.63208333,\n",
       "        1830.59958333, 1196.37333333,  483.49708333,  419.27583333,\n",
       "        1134.27166667, 1675.97208333, 2210.39333333],\n",
       "       [2626.0275    , 2549.17375   , 2307.63208333, 1830.59958333,\n",
       "        1196.37333333,  483.49708333,  419.27583333, 1134.27166667,\n",
       "        1675.97208333, 2210.39333333, 2544.57541667],\n",
       "       [2549.17375   , 2307.63208333, 1830.59958333, 1196.37333333,\n",
       "         483.49708333,  419.27583333, 1134.27166667, 1675.97208333,\n",
       "        2210.39333333, 2544.57541667, 2641.45041667],\n",
       "       [2307.63208333, 1830.59958333, 1196.37333333,  483.49708333,\n",
       "         419.27583333, 1134.27166667, 1675.97208333, 2210.39333333,\n",
       "        2544.57541667, 2641.45041667, 2532.21916667],\n",
       "       [1830.59958333, 1196.37333333,  483.49708333,  419.27583333,\n",
       "        1134.27166667, 1675.97208333, 2210.39333333, 2544.57541667,\n",
       "        2641.45041667, 2532.21916667, 2264.96833333],\n",
       "       [1196.37333333,  483.49708333,  419.27583333, 1134.27166667,\n",
       "        1675.97208333, 2210.39333333, 2544.57541667, 2641.45041667,\n",
       "        2532.21916667, 2264.96833333, 1792.13916667],\n",
       "       [ 483.49708333,  419.27583333, 1134.27166667, 1675.97208333,\n",
       "        2210.39333333, 2544.57541667, 2641.45041667, 2532.21916667,\n",
       "        2264.96833333, 1792.13916667, 1102.335     ],\n",
       "       [ 419.27583333, 1134.27166667, 1675.97208333, 2210.39333333,\n",
       "        2544.57541667, 2641.45041667, 2532.21916667, 2264.96833333,\n",
       "        1792.13916667, 1102.335     ,  472.22375   ],\n",
       "       [1134.27166667, 1675.97208333, 2210.39333333, 2544.57541667,\n",
       "        2641.45041667, 2532.21916667, 2264.96833333, 1792.13916667,\n",
       "        1102.335     ,  472.22375   ,  417.02333333],\n",
       "       [1675.97208333, 2210.39333333, 2544.57541667, 2641.45041667,\n",
       "        2532.21916667, 2264.96833333, 1792.13916667, 1102.335     ,\n",
       "         472.22375   ,  417.02333333, 1108.49291667],\n",
       "       [2210.39333333, 2544.57541667, 2641.45041667, 2532.21916667,\n",
       "        2264.96833333, 1792.13916667, 1102.335     ,  472.22375   ,\n",
       "         417.02333333, 1108.49291667, 1726.02583333],\n",
       "       [2544.57541667, 2641.45041667, 2532.21916667, 2264.96833333,\n",
       "        1792.13916667, 1102.335     ,  472.22375   ,  417.02333333,\n",
       "        1108.49291667, 1726.02583333, 2158.00625   ],\n",
       "       [2641.45041667, 2532.21916667, 2264.96833333, 1792.13916667,\n",
       "        1102.335     ,  472.22375   ,  417.02333333, 1108.49291667,\n",
       "        1726.02583333, 2158.00625   , 2477.56333333],\n",
       "       [2532.21916667, 2264.96833333, 1792.13916667, 1102.335     ,\n",
       "         472.22375   ,  417.02333333, 1108.49291667, 1726.02583333,\n",
       "        2158.00625   , 2477.56333333, 2601.76083333],\n",
       "       [2264.96833333, 1792.13916667, 1102.335     ,  472.22375   ,\n",
       "         417.02333333, 1108.49291667, 1726.02583333, 2158.00625   ,\n",
       "        2477.56333333, 2601.76083333, 2510.31916667],\n",
       "       [1792.13916667, 1102.335     ,  472.22375   ,  417.02333333,\n",
       "        1108.49291667, 1726.02583333, 2158.00625   , 2477.56333333,\n",
       "        2601.76083333, 2510.31916667, 2217.32041667],\n",
       "       [1102.335     ,  472.22375   ,  417.02333333, 1108.49291667,\n",
       "        1726.02583333, 2158.00625   , 2477.56333333, 2601.76083333,\n",
       "        2510.31916667, 2217.32041667, 1759.97333333],\n",
       "       [ 472.22375   ,  417.02333333, 1108.49291667, 1726.02583333,\n",
       "        2158.00625   , 2477.56333333, 2601.76083333, 2510.31916667,\n",
       "        2217.32041667, 1759.97333333, 1123.78208333]])"
      ]
     },
     "execution_count": 570,
     "metadata": {},
     "output_type": "execute_result"
    }
   ],
   "source": [
    "arr_real"
   ]
  },
  {
   "cell_type": "markdown",
   "metadata": {},
   "source": [
    "#### Metric Evaluation Baseline"
   ]
  },
  {
   "cell_type": "code",
   "execution_count": 571,
   "metadata": {},
   "outputs": [],
   "source": [
    "def evaluate_metric_t(arr_pred, arr_real, metric):\n",
    "    num_cols = arr_pred.shape[1]\n",
    "    ls_metric = np.zeros(num_cols)\n",
    "    for col in range(num_cols):\n",
    "        ls_metric[col] = metric(arr_pred[:,col], arr_real[:,col])\n",
    "    return ls_metric\n",
    "    "
   ]
  },
  {
   "cell_type": "markdown",
   "metadata": {},
   "source": [
    "##### RMSE"
   ]
  },
  {
   "cell_type": "code",
   "execution_count": 572,
   "metadata": {},
   "outputs": [
    {
     "data": {
      "text/plain": [
       "array([37.95487422, 37.95728727, 38.30072428, 39.2570819 , 40.79120364,\n",
       "       43.14413184, 43.56537003, 43.23455526, 44.20596312, 44.68720473,\n",
       "       44.91275993])"
      ]
     },
     "execution_count": 572,
     "metadata": {},
     "output_type": "execute_result"
    }
   ],
   "source": [
    "metric = rmse\n",
    "ls_metric_t = evaluate_metric_t(arr_pred, arr_real, metric=metric)\n",
    "ls_metric_t"
   ]
  },
  {
   "cell_type": "code",
   "execution_count": 573,
   "metadata": {},
   "outputs": [
    {
     "data": {
      "image/png": "[encoded data removed]",
      "text/plain": [
       "<Figure size 432x288 with 1 Axes>"
      ]
     },
     "metadata": {
      "needs_background": "light"
     },
     "output_type": "display_data"
    }
   ],
   "source": [
    "plt.title('Métrica RMSE para predicciones t+i')\n",
    "plt.ylabel('RMSE')\n",
    "plt.plot([f't+{i}' for i in range(1,n_pred+1)],ls_metric_t)\n",
    "plt.show()"
   ]
  },
  {
   "cell_type": "markdown",
   "metadata": {},
   "source": [
    "##### R^2"
   ]
  },
  {
   "cell_type": "code",
   "execution_count": 574,
   "metadata": {},
   "outputs": [
    {
     "data": {
      "text/plain": [
       "array([0.99760507, 0.99761134, 0.99757768, 0.99745508, 0.99724291,\n",
       "       0.99690913, 0.99684312, 0.99687132, 0.99672303, 0.9966502 ,\n",
       "       0.99664528])"
      ]
     },
     "execution_count": 574,
     "metadata": {},
     "output_type": "execute_result"
    }
   ],
   "source": [
    "metric = r2_score\n",
    "ls_metric_t = evaluate_metric_t(arr_pred, arr_real, metric=metric)\n",
    "ls_metric_t"
   ]
  },
  {
   "cell_type": "code",
   "execution_count": 575,
   "metadata": {},
   "outputs": [
    {
     "data": {
      "image/png": "[encoded data removed]",
      "text/plain": [
       "<Figure size 432x288 with 1 Axes>"
      ]
     },
     "metadata": {
      "needs_background": "light"
     },
     "output_type": "display_data"
    }
   ],
   "source": [
    "plt.title('Métrica R^2 para predicciones t+i')\n",
    "plt.ylabel('R^2')\n",
    "plt.plot([f't+{i}' for i in range(1,n_pred+1)],ls_metric_t)\n",
    "plt.show()"
   ]
  },
  {
   "cell_type": "markdown",
   "metadata": {},
   "source": [
    "### Prediction CNN\n"
   ]
  },
  {
   "cell_type": "code",
   "execution_count": 174,
   "metadata": {},
   "outputs": [
    {
     "name": "stdout",
     "output_type": "stream",
     "text": [
      "1/1 [==============================] - 0s 1ms/step\n"
     ]
    },
    {
     "data": {
      "text/plain": [
       "array([[ 414.4701,  991.9556, 1628.1176, 2084.6936, 2385.5737, 2474.6086,\n",
       "        2354.728 , 2069.403 , 1706.6467, 1136.0331,  471.2032]],\n",
       "      dtype=float32)"
      ]
     },
     "execution_count": 174,
     "metadata": {},
     "output_type": "execute_result"
    }
   ],
   "source": [
    "x_input = train[-11:].values()\n",
    "x_input = x_input.reshape((1, n_steps_in, n_features)) \n",
    "y_hat = modelo_cnn.predict(x_input, verbose=1)\n",
    "y_hat"
   ]
  },
  {
   "cell_type": "code",
   "execution_count": 175,
   "metadata": {},
   "outputs": [
    {
     "name": "stdout",
     "output_type": "stream",
     "text": [
      "1/1 [==============================] - 0s 1ms/step\n"
     ]
    },
    {
     "data": {
      "text/plain": [
       "array([[ 414.4701,  991.9556, 1628.1176, 2084.6936, 2385.5737, 2474.6086,\n",
       "        2354.728 , 2069.403 , 1706.6467, 1136.0331,  471.2032]],\n",
       "      dtype=float32)"
      ]
     },
     "execution_count": 175,
     "metadata": {},
     "output_type": "execute_result"
    }
   ],
   "source": [
    "x_input = train[-11:].values()\n",
    "x_input = x_input.reshape((1, n_steps_in, n_features)) \n",
    "y_hat = modelo_cnn.predict(x_input, verbose=1)\n",
    "y_hat"
   ]
  },
  {
   "cell_type": "markdown",
   "metadata": {},
   "source": [
    "### Walk Forward CNN"
   ]
  },
  {
   "cell_type": "code",
   "execution_count": 176,
   "metadata": {},
   "outputs": [
    {
     "name": "stdout",
     "output_type": "stream",
     "text": [
      "3025\n",
      "33\n"
     ]
    }
   ],
   "source": [
    "model = modelo_cnn\n",
    "n_pred = 11\n",
    "val_wfe = val.values()[:n_pred*3] # Minimo 2 dias\n",
    "# train_wfe = train[-n_pred*40:]\n",
    "train_wfe = train.values()\n",
    "print(len(train_wfe))\n",
    "print(len(val_wfe))"
   ]
  },
  {
   "cell_type": "code",
   "execution_count": 177,
   "metadata": {},
   "outputs": [
    {
     "data": {
      "text/plain": [
       "2"
      ]
     },
     "execution_count": 177,
     "metadata": {},
     "output_type": "execute_result"
    }
   ],
   "source": [
    "n_features"
   ]
  },
  {
   "cell_type": "code",
   "execution_count": 178,
   "metadata": {},
   "outputs": [
    {
     "name": "stdout",
     "output_type": "stream",
     "text": [
      "t=0/21\n",
      "history len = 11\n",
      "\n",
      "t=1/21\n",
      "history len = 11\n",
      "\n",
      "t=2/21\n",
      "history len = 11\n",
      "\n",
      "t=3/21\n",
      "history len = 11\n",
      "\n",
      "t=4/21\n",
      "history len = 11\n",
      "\n",
      "t=5/21\n",
      "history len = 11\n",
      "\n",
      "t=6/21\n",
      "history len = 11\n",
      "\n",
      "t=7/21\n",
      "history len = 11\n",
      "\n",
      "t=8/21\n",
      "history len = 11\n",
      "\n",
      "t=9/21\n",
      "history len = 11\n",
      "\n",
      "t=10/21\n",
      "history len = 11\n",
      "\n",
      "t=11/21\n",
      "history len = 11\n",
      "\n",
      "t=12/21\n",
      "history len = 11\n",
      "\n",
      "t=13/21\n",
      "history len = 11\n",
      "\n",
      "t=14/21\n",
      "history len = 11\n",
      "\n",
      "t=15/21\n",
      "history len = 11\n",
      "\n",
      "t=16/21\n",
      "history len = 11\n",
      "\n",
      "t=17/21\n",
      "history len = 11\n",
      "\n",
      "t=18/21\n",
      "history len = 11\n",
      "\n",
      "t=19/21\n",
      "history len = 11\n",
      "\n",
      "t=20/21\n",
      "history len = 11\n",
      "\n",
      "t=21/21\n",
      "history len = 11\n",
      "\n",
      "CPU times: user 51.6 ms, sys: 6.66 ms, total: 58.3 ms\n",
      "Wall time: 33.1 ms\n"
     ]
    }
   ],
   "source": [
    "%%time\n",
    "arr_pred, arr_real = walk_forward_evaluation_neuronal(train=train_wfe, val=val_wfe, model=model, n_pred=n_pred,col_obj=col_obj, es_neuronal=True)\n"
   ]
  },
  {
   "cell_type": "code",
   "execution_count": 179,
   "metadata": {},
   "outputs": [
    {
     "data": {
      "text/plain": [
       "array([[ 414.4701 ,  991.9556 , 1628.1176 , 2084.6936 , 2385.5737 ,\n",
       "        2474.6086 , 2354.728  , 2069.403  , 1706.6467 , 1136.0331 ,\n",
       "         471.2032 ],\n",
       "       [1059.8314 , 1695.9735 , 2176.3994 , 2486.659  , 2617.3767 ,\n",
       "        2538.938  , 2260.71   , 1826.1381 , 1196.556  ,  559.9637 ,\n",
       "         420.77014],\n",
       "       [1713.2297 , 2088.0686 , 2319.5803 , 2379.7202 , 2341.3887 ,\n",
       "        2157.75   , 1788.2705 , 1331.0879 ,  756.7093 ,  634.5925 ,\n",
       "        1255.1155 ],\n",
       "       [2245.996  , 2434.8813 , 2500.2214 , 2381.8313 , 2127.1792 ,\n",
       "        1761.2798 , 1132.0209 ,  546.4005 ,  504.9545 , 1090.4867 ,\n",
       "        1727.251  ],\n",
       "       [2585.7183 , 2526.8582 , 2369.3125 , 2161.7126 , 1882.8794 ,\n",
       "        1348.5715 ,  683.1343 ,  579.24207, 1233.6035 , 1963.0629 ,\n",
       "        2331.5867 ],\n",
       "       [2614.0374 , 2494.0652 , 2190.7373 , 1748.7565 , 1179.9563 ,\n",
       "         617.4442 ,  563.5681 , 1198.7642 , 1927.3892 , 2528.515  ,\n",
       "        2747.6448 ],\n",
       "       [2514.6096 , 2185.3284 , 1722.7565 , 1192.4146 ,  658.5187 ,\n",
       "         596.7883 , 1192.891  , 1855.4397 , 2257.7883 , 2531.613  ,\n",
       "        2593.483  ],\n",
       "       [2313.8894 , 1879.3038 , 1190.3973 ,  511.40176,  386.7817 ,\n",
       "         942.3211 , 1630.4596 , 2119.7065 , 2457.2578 , 2632.3372 ,\n",
       "        2546.4404 ],\n",
       "       [1795.6654 , 1256.7318 ,  651.4749 ,  572.1714 , 1161.6432 ,\n",
       "        1829.6033 , 2278.0356 , 2581.8735 , 2797.794  , 2775.1423 ,\n",
       "        2473.3687 ],\n",
       "       [1138.9883 ,  503.78372,  432.58356, 1119.1278 , 1904.5228 ,\n",
       "        2438.1257 , 2769.5637 , 2918.311  , 2848.278  , 2564.5444 ,\n",
       "        2045.9061 ],\n",
       "       [ 563.7264 ,  469.1066 , 1028.7578 , 1743.1517 , 2185.9924 ,\n",
       "        2449.893  , 2587.     , 2487.1418 , 2215.9028 , 1767.5502 ,\n",
       "        1161.9081 ],\n",
       "       [ 439.97977, 1069.7343 , 1727.6477 , 2197.376  , 2507.188  ,\n",
       "        2577.4175 , 2453.2188 , 2175.8357 , 1793.605  , 1180.9116 ,\n",
       "         489.62134],\n",
       "       [1084.4551 , 1791.5907 , 2300.776  , 2619.129  , 2792.7783 ,\n",
       "        2742.8003 , 2447.2546 , 1979.8402 , 1292.3744 ,  585.29266,\n",
       "         406.91278],\n",
       "       [1716.3518 , 2143.2822 , 2351.3176 , 2358.121  , 2330.7566 ,\n",
       "        2191.9358 , 1778.4424 , 1244.558  ,  642.13806,  475.2302 ,\n",
       "        1089.951  ],\n",
       "       [2049.3186 , 2237.5806 , 2308.859  , 2218.6396 , 2028.9984 ,\n",
       "        1745.1427 , 1115.3973 ,  489.34787,  441.63065,  985.96027,\n",
       "        1590.7319 ],\n",
       "       [2465.2559 , 2377.4937 , 2216.7363 , 2030.0427 , 1759.0404 ,\n",
       "        1226.8718 ,  547.2451 ,  460.17606, 1096.7688 , 1785.8961 ,\n",
       "        2177.7798 ],\n",
       "       [2543.8286 , 2444.727  , 2166.7869 , 1783.8456 , 1194.2003 ,\n",
       "         588.3321 ,  529.3032 , 1142.0503 , 1846.3765 , 2345.3755 ,\n",
       "        2468.5833 ],\n",
       "       [2462.4316 , 2200.0042 , 1708.9802 , 1142.3422 ,  570.10443,\n",
       "         455.77026, 1033.6986 , 1711.0482 , 2152.0767 , 2380.0803 ,\n",
       "        2378.5361 ],\n",
       "       [2320.8855 , 1934.1538 , 1217.8462 ,  481.20078,  365.74722,\n",
       "         925.7464 , 1581.4124 , 2017.3833 , 2310.0554 , 2443.449  ,\n",
       "        2346.1697 ],\n",
       "       [1710.1136 , 1155.862  ,  586.55164,  540.161  , 1138.4684 ,\n",
       "        1826.5361 , 2267.7693 , 2523.5635 , 2707.2424 , 2683.975  ,\n",
       "        2379.201  ],\n",
       "       [1097.8112 ,  453.63208,  411.46063, 1133.7749 , 1892.308  ,\n",
       "        2347.9543 , 2635.2227 , 2778.5728 , 2704.0657 , 2460.5115 ,\n",
       "        2009.9865 ],\n",
       "       [ 531.5213 ,  460.09232, 1001.52936, 1736.5275 , 2189.7256 ,\n",
       "        2414.3489 , 2502.95   , 2379.264  , 2089.092  , 1631.6907 ,\n",
       "        1055.2853 ]], dtype=float32)"
      ]
     },
     "execution_count": 179,
     "metadata": {},
     "output_type": "execute_result"
    }
   ],
   "source": [
    "arr_pred"
   ]
  },
  {
   "cell_type": "code",
   "execution_count": 180,
   "metadata": {},
   "outputs": [
    {
     "data": {
      "text/plain": [
       "array([[ 434.08875   , 1170.12708333, 1785.09041667, 2249.65666667,\n",
       "        2549.71416667, 2626.0275    , 2549.17375   , 2307.63208333,\n",
       "        1830.59958333, 1196.37333333,  483.49708333],\n",
       "       [1170.12708333, 1785.09041667, 2249.65666667, 2549.71416667,\n",
       "        2626.0275    , 2549.17375   , 2307.63208333, 1830.59958333,\n",
       "        1196.37333333,  483.49708333,  419.27583333],\n",
       "       [1785.09041667, 2249.65666667, 2549.71416667, 2626.0275    ,\n",
       "        2549.17375   , 2307.63208333, 1830.59958333, 1196.37333333,\n",
       "         483.49708333,  419.27583333, 1134.27166667],\n",
       "       [2249.65666667, 2549.71416667, 2626.0275    , 2549.17375   ,\n",
       "        2307.63208333, 1830.59958333, 1196.37333333,  483.49708333,\n",
       "         419.27583333, 1134.27166667, 1675.97208333],\n",
       "       [2549.71416667, 2626.0275    , 2549.17375   , 2307.63208333,\n",
       "        1830.59958333, 1196.37333333,  483.49708333,  419.27583333,\n",
       "        1134.27166667, 1675.97208333, 2210.39333333],\n",
       "       [2626.0275    , 2549.17375   , 2307.63208333, 1830.59958333,\n",
       "        1196.37333333,  483.49708333,  419.27583333, 1134.27166667,\n",
       "        1675.97208333, 2210.39333333, 2544.57541667],\n",
       "       [2549.17375   , 2307.63208333, 1830.59958333, 1196.37333333,\n",
       "         483.49708333,  419.27583333, 1134.27166667, 1675.97208333,\n",
       "        2210.39333333, 2544.57541667, 2641.45041667],\n",
       "       [2307.63208333, 1830.59958333, 1196.37333333,  483.49708333,\n",
       "         419.27583333, 1134.27166667, 1675.97208333, 2210.39333333,\n",
       "        2544.57541667, 2641.45041667, 2532.21916667],\n",
       "       [1830.59958333, 1196.37333333,  483.49708333,  419.27583333,\n",
       "        1134.27166667, 1675.97208333, 2210.39333333, 2544.57541667,\n",
       "        2641.45041667, 2532.21916667, 2264.96833333],\n",
       "       [1196.37333333,  483.49708333,  419.27583333, 1134.27166667,\n",
       "        1675.97208333, 2210.39333333, 2544.57541667, 2641.45041667,\n",
       "        2532.21916667, 2264.96833333, 1792.13916667],\n",
       "       [ 483.49708333,  419.27583333, 1134.27166667, 1675.97208333,\n",
       "        2210.39333333, 2544.57541667, 2641.45041667, 2532.21916667,\n",
       "        2264.96833333, 1792.13916667, 1102.335     ],\n",
       "       [ 419.27583333, 1134.27166667, 1675.97208333, 2210.39333333,\n",
       "        2544.57541667, 2641.45041667, 2532.21916667, 2264.96833333,\n",
       "        1792.13916667, 1102.335     ,  472.22375   ],\n",
       "       [1134.27166667, 1675.97208333, 2210.39333333, 2544.57541667,\n",
       "        2641.45041667, 2532.21916667, 2264.96833333, 1792.13916667,\n",
       "        1102.335     ,  472.22375   ,  417.02333333],\n",
       "       [1675.97208333, 2210.39333333, 2544.57541667, 2641.45041667,\n",
       "        2532.21916667, 2264.96833333, 1792.13916667, 1102.335     ,\n",
       "         472.22375   ,  417.02333333, 1108.49291667],\n",
       "       [2210.39333333, 2544.57541667, 2641.45041667, 2532.21916667,\n",
       "        2264.96833333, 1792.13916667, 1102.335     ,  472.22375   ,\n",
       "         417.02333333, 1108.49291667, 1726.02583333],\n",
       "       [2544.57541667, 2641.45041667, 2532.21916667, 2264.96833333,\n",
       "        1792.13916667, 1102.335     ,  472.22375   ,  417.02333333,\n",
       "        1108.49291667, 1726.02583333, 2158.00625   ],\n",
       "       [2641.45041667, 2532.21916667, 2264.96833333, 1792.13916667,\n",
       "        1102.335     ,  472.22375   ,  417.02333333, 1108.49291667,\n",
       "        1726.02583333, 2158.00625   , 2477.56333333],\n",
       "       [2532.21916667, 2264.96833333, 1792.13916667, 1102.335     ,\n",
       "         472.22375   ,  417.02333333, 1108.49291667, 1726.02583333,\n",
       "        2158.00625   , 2477.56333333, 2601.76083333],\n",
       "       [2264.96833333, 1792.13916667, 1102.335     ,  472.22375   ,\n",
       "         417.02333333, 1108.49291667, 1726.02583333, 2158.00625   ,\n",
       "        2477.56333333, 2601.76083333, 2510.31916667],\n",
       "       [1792.13916667, 1102.335     ,  472.22375   ,  417.02333333,\n",
       "        1108.49291667, 1726.02583333, 2158.00625   , 2477.56333333,\n",
       "        2601.76083333, 2510.31916667, 2217.32041667],\n",
       "       [1102.335     ,  472.22375   ,  417.02333333, 1108.49291667,\n",
       "        1726.02583333, 2158.00625   , 2477.56333333, 2601.76083333,\n",
       "        2510.31916667, 2217.32041667, 1759.97333333],\n",
       "       [ 472.22375   ,  417.02333333, 1108.49291667, 1726.02583333,\n",
       "        2158.00625   , 2477.56333333, 2601.76083333, 2510.31916667,\n",
       "        2217.32041667, 1759.97333333, 1123.78208333]])"
      ]
     },
     "execution_count": 180,
     "metadata": {},
     "output_type": "execute_result"
    }
   ],
   "source": [
    "arr_real"
   ]
  },
  {
   "cell_type": "markdown",
   "metadata": {},
   "source": [
    "#### Metric Evaluation CNN"
   ]
  },
  {
   "cell_type": "code",
   "execution_count": 181,
   "metadata": {},
   "outputs": [],
   "source": [
    "def evaluate_metric_t(arr_pred, arr_real, metric):\n",
    "    num_cols = arr_pred.shape[1]\n",
    "    ls_metric = np.zeros(num_cols)\n",
    "    for col in range(num_cols):\n",
    "        ls_metric[col] = metric(arr_pred[:,col], arr_real[:,col])\n",
    "    return ls_metric\n",
    "    "
   ]
  },
  {
   "cell_type": "markdown",
   "metadata": {},
   "source": [
    "##### RMSE"
   ]
  },
  {
   "cell_type": "code",
   "execution_count": 182,
   "metadata": {},
   "outputs": [
    {
     "data": {
      "text/plain": [
       "array([ 66.03059827, 124.09463853, 152.07329848, 140.44600895,\n",
       "       128.4332031 , 137.22035643, 117.07118223, 129.04759466,\n",
       "       147.78023468, 166.15645215, 130.88758569])"
      ]
     },
     "execution_count": 182,
     "metadata": {},
     "output_type": "execute_result"
    }
   ],
   "source": [
    "metric = rmse\n",
    "ls_metric_t = evaluate_metric_t(arr_pred, arr_real, metric=metric)\n",
    "ls_metric_t"
   ]
  },
  {
   "cell_type": "code",
   "execution_count": 183,
   "metadata": {},
   "outputs": [
    {
     "data": {
      "image/png": "[encoded data removed]",
      "text/plain": [
       "<Figure size 432x288 with 1 Axes>"
      ]
     },
     "metadata": {
      "needs_background": "light"
     },
     "output_type": "display_data"
    }
   ],
   "source": [
    "plt.title('Métrica RMSE para predicciones t+i')\n",
    "plt.ylabel('RMSE')\n",
    "plt.plot([f't+{i}' for i in range(1,n_pred+1)],ls_metric_t)\n",
    "plt.show()"
   ]
  },
  {
   "cell_type": "markdown",
   "metadata": {},
   "source": [
    "##### R^2"
   ]
  },
  {
   "cell_type": "code",
   "execution_count": 184,
   "metadata": {},
   "outputs": [
    {
     "data": {
      "text/plain": [
       "array([0.99245755, 0.97053042, 0.95181674, 0.95881791, 0.96936259,\n",
       "       0.96646702, 0.9756328 , 0.97043425, 0.96130104, 0.9557406 ,\n",
       "       0.97213966])"
      ]
     },
     "execution_count": 184,
     "metadata": {},
     "output_type": "execute_result"
    }
   ],
   "source": [
    "metric = r2_score\n",
    "ls_metric_t = evaluate_metric_t(arr_pred, arr_real, metric=metric)\n",
    "ls_metric_t"
   ]
  },
  {
   "cell_type": "code",
   "execution_count": 185,
   "metadata": {},
   "outputs": [
    {
     "data": {
      "image/png": "[encoded data removed]",
      "text/plain": [
       "<Figure size 432x288 with 1 Axes>"
      ]
     },
     "metadata": {
      "needs_background": "light"
     },
     "output_type": "display_data"
    }
   ],
   "source": [
    "plt.title('Métrica R^2 para predicciones t+i')\n",
    "plt.ylabel('R^2')\n",
    "plt.plot([f't+{i}' for i in range(1,n_pred+1)],ls_metric_t)\n",
    "plt.show()"
   ]
  },
  {
   "cell_type": "code",
   "execution_count": null,
   "metadata": {},
   "outputs": [],
   "source": []
  },
  {
   "cell_type": "markdown",
   "metadata": {},
   "source": [
    "### Prediction LSTM\n"
   ]
  },
  {
   "cell_type": "code",
   "execution_count": 186,
   "metadata": {},
   "outputs": [
    {
     "name": "stdout",
     "output_type": "stream",
     "text": [
      "1/1 [==============================] - 0s 5ms/step\n"
     ]
    },
    {
     "data": {
      "text/plain": [
       "array([[ 462.38556,  889.6997 , 1500.8733 , 2040.4104 , 2376.893  ,\n",
       "        2464.4165 , 2297.677  , 1913.4291 , 1404.0825 ,  824.12726,\n",
       "         425.62314]], dtype=float32)"
      ]
     },
     "execution_count": 186,
     "metadata": {},
     "output_type": "execute_result"
    }
   ],
   "source": [
    "x_input = train[-11:].values()\n",
    "x_input = x_input.reshape((1, n_steps_in, n_features)) \n",
    "y_hat = modelo_lstm.predict(x_input, verbose=1)\n",
    "y_hat"
   ]
  },
  {
   "cell_type": "markdown",
   "metadata": {},
   "source": [
    "### Walk Forward LSTM"
   ]
  },
  {
   "cell_type": "code",
   "execution_count": 187,
   "metadata": {},
   "outputs": [
    {
     "name": "stdout",
     "output_type": "stream",
     "text": [
      "3025\n",
      "33\n"
     ]
    }
   ],
   "source": [
    "model = modelo_lstm\n",
    "n_pred = 11\n",
    "val_wfe = val.values()[:n_pred*3] # Minimo 2 dias\n",
    "# train_wfe = train[-n_pred*40:]\n",
    "train_wfe = train.values()\n",
    "print(len(train_wfe))\n",
    "print(len(val_wfe))"
   ]
  },
  {
   "cell_type": "code",
   "execution_count": 188,
   "metadata": {},
   "outputs": [
    {
     "data": {
      "text/plain": [
       "2"
      ]
     },
     "execution_count": 188,
     "metadata": {},
     "output_type": "execute_result"
    }
   ],
   "source": [
    "n_features"
   ]
  },
  {
   "cell_type": "code",
   "execution_count": 189,
   "metadata": {},
   "outputs": [
    {
     "name": "stdout",
     "output_type": "stream",
     "text": [
      "t=0/21\n",
      "history len = 11\n",
      "\n",
      "t=1/21\n",
      "history len = 11\n",
      "\n",
      "t=2/21\n",
      "history len = 11\n",
      "\n",
      "t=3/21\n",
      "history len = 11\n",
      "\n",
      "t=4/21\n",
      "history len = 11\n",
      "\n",
      "t=5/21\n",
      "history len = 11\n",
      "\n",
      "t=6/21\n",
      "history len = 11\n",
      "\n",
      "t=7/21\n",
      "history len = 11\n",
      "\n",
      "t=8/21\n",
      "history len = 11\n",
      "\n",
      "t=9/21\n",
      "history len = 11\n",
      "\n",
      "t=10/21\n",
      "history len = 11\n",
      "\n",
      "t=11/21\n",
      "history len = 11\n",
      "\n",
      "t=12/21\n",
      "history len = 11\n",
      "\n",
      "t=13/21\n",
      "history len = 11\n",
      "\n",
      "t=14/21\n",
      "history len = 11\n",
      "\n",
      "t=15/21\n",
      "history len = 11\n",
      "\n",
      "t=16/21\n",
      "history len = 11\n",
      "\n",
      "t=17/21\n",
      "history len = 11\n",
      "\n",
      "t=18/21\n",
      "history len = 11\n",
      "\n",
      "t=19/21\n",
      "history len = 11\n",
      "\n",
      "t=20/21\n",
      "history len = 11\n",
      "\n",
      "t=21/21\n",
      "history len = 11\n",
      "\n",
      "CPU times: user 238 ms, sys: 67.2 ms, total: 305 ms\n",
      "Wall time: 102 ms\n"
     ]
    }
   ],
   "source": [
    "%%time\n",
    "arr_pred, arr_real = walk_forward_evaluation_neuronal(train=train_wfe, val=val_wfe, model=model, n_pred=n_pred,col_obj=col_obj, es_neuronal=True)\n"
   ]
  },
  {
   "cell_type": "code",
   "execution_count": 190,
   "metadata": {},
   "outputs": [
    {
     "data": {
      "text/plain": [
       "array([[ 462.38556,  889.6997 , 1500.8733 , 2040.4104 , 2376.893  ,\n",
       "        2464.4165 , 2297.677  , 1913.4291 , 1404.0825 ,  824.12726,\n",
       "         425.62314],\n",
       "       [ 737.5334 , 1241.9738 , 1720.9745 , 2091.577  , 2285.7573 ,\n",
       "        2280.4714 , 2039.9794 , 1579.5532 ,  986.767  ,  465.55008,\n",
       "         379.3336 ],\n",
       "       [1708.7362 , 2033.2561 , 2169.305  , 2285.4094 , 2399.606  ,\n",
       "        2276.7283 , 1734.406  ,  988.9572 ,  515.4057 ,  562.57416,\n",
       "        1035.902  ],\n",
       "       [2146.0974 , 2341.3909 , 2341.6892 , 2238.6692 , 2063.3533 ,\n",
       "        1654.9498 , 1020.3772 ,  512.823  ,  541.0208 , 1062.4093 ,\n",
       "        1715.3575 ],\n",
       "       [2357.3774 , 2431.8064 , 2301.9375 , 1942.7925 , 1433.8888 ,\n",
       "         880.18823,  506.30902,  562.7502 , 1056.2153 , 1673.8301 ,\n",
       "        2184.635  ],\n",
       "       [2513.2107 , 2453.1042 , 2152.5264 , 1581.799  ,  896.07104,\n",
       "         406.41943,  395.2406 ,  908.8264 , 1604.0752 , 2086.71   ,\n",
       "        2391.2146 ],\n",
       "       [2407.9592 , 2057.7625 , 1500.4854 ,  858.83453,  369.75323,\n",
       "         303.16998,  739.5746 , 1510.6317 , 2194.133  , 2470.1123 ,\n",
       "        2486.58   ],\n",
       "       [2224.212  , 1642.6619 ,  946.5222 ,  416.27643,  308.13635,\n",
       "         679.25543, 1335.041  , 2026.0558 , 2514.322  , 2629.1025 ,\n",
       "        2453.4963 ],\n",
       "       [1575.237  ,  992.1229 ,  500.34546,  395.77338,  774.21173,\n",
       "        1405.2311 , 1953.7299 , 2269.6455 , 2376.4849 , 2280.4675 ,\n",
       "        2015.276  ],\n",
       "       [ 922.1684 ,  478.6099 ,  353.23315,  664.6547 , 1334.3871 ,\n",
       "        2014.9655 , 2413.4343 , 2488.3445 , 2365.7188 , 2062.643  ,\n",
       "        1608.1665 ],\n",
       "       [ 357.25842,  312.1111 ,  672.8357 , 1278.7908 , 1953.4686 ,\n",
       "        2427.065  , 2559.6167 , 2395.6199 , 2091.6846 , 1612.9779 ,\n",
       "        1011.47437],\n",
       "       [ 473.08276,  890.71643, 1494.2335 , 2036.4417 , 2379.1174 ,\n",
       "        2470.3418 , 2303.9055 , 1917.4457 , 1398.354  ,  812.0129 ,\n",
       "         425.743  ],\n",
       "       [ 720.31335, 1213.7245 , 1685.971  , 2057.5574 , 2259.0203 ,\n",
       "        2263.0137 , 2031.6128 , 1578.9558 ,  991.0521 ,  471.1459 ,\n",
       "         381.24826],\n",
       "       [1687.6177 , 2018.5122 , 2156.6436 , 2276.286  , 2395.6082 ,\n",
       "        2281.586  , 1746.2684 ,  996.12695,  500.20502,  523.38055,\n",
       "         993.6532 ],\n",
       "       [2014.4231 , 2212.9976 , 2231.0916 , 2150.8123 , 1993.986  ,\n",
       "        1597.9086 ,  976.8479 ,  482.36786,  514.1878 , 1023.9742 ,\n",
       "        1652.5825 ],\n",
       "       [2286.1125 , 2363.894  , 2246.5815 , 1904.8513 , 1412.3405 ,\n",
       "         864.5855 ,  485.7815 ,  532.91156, 1023.589  , 1643.4042 ,\n",
       "        2147.5764 ],\n",
       "       [2484.3254 , 2444.5867 , 2163.0825 , 1602.4668 ,  915.4211 ,\n",
       "         409.08432,  368.94086,  854.2196 , 1541.332  , 2035.8274 ,\n",
       "        2352.301  ],\n",
       "       [2419.5393 , 2081.759  , 1528.9323 ,  881.7293 ,  378.48962,\n",
       "         293.94125,  712.11804, 1468.8733 , 2146.6511 , 2428.9756 ,\n",
       "        2461.5154 ],\n",
       "       [2199.4155 , 1626.4924 ,  927.322  ,  393.50348,  288.62347,\n",
       "         664.33624, 1314.212  , 1987.5782 , 2463.277  , 2582.2527 ,\n",
       "        2417.188  ],\n",
       "       [1561.9427 ,  973.91064,  462.43774,  340.03436,  709.7236 ,\n",
       "        1340.0868 , 1889.7211 , 2205.5164 , 2314.1365 , 2231.6313 ,\n",
       "        1988.5463 ],\n",
       "       [ 919.70654,  482.56168,  352.21094,  651.634  , 1306.3997 ,\n",
       "        1975.7981 , 2369.7502 , 2445.031  , 2323.6326 , 2026.4519 ,\n",
       "        1586.6539 ],\n",
       "       [ 355.81442,  326.3268 ,  695.0259 , 1297.7397 , 1957.3394 ,\n",
       "        2413.338  , 2534.0894 , 2364.588  , 2054.7097 , 1573.2421 ,\n",
       "         983.35803]], dtype=float32)"
      ]
     },
     "execution_count": 190,
     "metadata": {},
     "output_type": "execute_result"
    }
   ],
   "source": [
    "arr_pred"
   ]
  },
  {
   "cell_type": "code",
   "execution_count": 191,
   "metadata": {},
   "outputs": [
    {
     "data": {
      "text/plain": [
       "array([[ 434.08875   , 1170.12708333, 1785.09041667, 2249.65666667,\n",
       "        2549.71416667, 2626.0275    , 2549.17375   , 2307.63208333,\n",
       "        1830.59958333, 1196.37333333,  483.49708333],\n",
       "       [1170.12708333, 1785.09041667, 2249.65666667, 2549.71416667,\n",
       "        2626.0275    , 2549.17375   , 2307.63208333, 1830.59958333,\n",
       "        1196.37333333,  483.49708333,  419.27583333],\n",
       "       [1785.09041667, 2249.65666667, 2549.71416667, 2626.0275    ,\n",
       "        2549.17375   , 2307.63208333, 1830.59958333, 1196.37333333,\n",
       "         483.49708333,  419.27583333, 1134.27166667],\n",
       "       [2249.65666667, 2549.71416667, 2626.0275    , 2549.17375   ,\n",
       "        2307.63208333, 1830.59958333, 1196.37333333,  483.49708333,\n",
       "         419.27583333, 1134.27166667, 1675.97208333],\n",
       "       [2549.71416667, 2626.0275    , 2549.17375   , 2307.63208333,\n",
       "        1830.59958333, 1196.37333333,  483.49708333,  419.27583333,\n",
       "        1134.27166667, 1675.97208333, 2210.39333333],\n",
       "       [2626.0275    , 2549.17375   , 2307.63208333, 1830.59958333,\n",
       "        1196.37333333,  483.49708333,  419.27583333, 1134.27166667,\n",
       "        1675.97208333, 2210.39333333, 2544.57541667],\n",
       "       [2549.17375   , 2307.63208333, 1830.59958333, 1196.37333333,\n",
       "         483.49708333,  419.27583333, 1134.27166667, 1675.97208333,\n",
       "        2210.39333333, 2544.57541667, 2641.45041667],\n",
       "       [2307.63208333, 1830.59958333, 1196.37333333,  483.49708333,\n",
       "         419.27583333, 1134.27166667, 1675.97208333, 2210.39333333,\n",
       "        2544.57541667, 2641.45041667, 2532.21916667],\n",
       "       [1830.59958333, 1196.37333333,  483.49708333,  419.27583333,\n",
       "        1134.27166667, 1675.97208333, 2210.39333333, 2544.57541667,\n",
       "        2641.45041667, 2532.21916667, 2264.96833333],\n",
       "       [1196.37333333,  483.49708333,  419.27583333, 1134.27166667,\n",
       "        1675.97208333, 2210.39333333, 2544.57541667, 2641.45041667,\n",
       "        2532.21916667, 2264.96833333, 1792.13916667],\n",
       "       [ 483.49708333,  419.27583333, 1134.27166667, 1675.97208333,\n",
       "        2210.39333333, 2544.57541667, 2641.45041667, 2532.21916667,\n",
       "        2264.96833333, 1792.13916667, 1102.335     ],\n",
       "       [ 419.27583333, 1134.27166667, 1675.97208333, 2210.39333333,\n",
       "        2544.57541667, 2641.45041667, 2532.21916667, 2264.96833333,\n",
       "        1792.13916667, 1102.335     ,  472.22375   ],\n",
       "       [1134.27166667, 1675.97208333, 2210.39333333, 2544.57541667,\n",
       "        2641.45041667, 2532.21916667, 2264.96833333, 1792.13916667,\n",
       "        1102.335     ,  472.22375   ,  417.02333333],\n",
       "       [1675.97208333, 2210.39333333, 2544.57541667, 2641.45041667,\n",
       "        2532.21916667, 2264.96833333, 1792.13916667, 1102.335     ,\n",
       "         472.22375   ,  417.02333333, 1108.49291667],\n",
       "       [2210.39333333, 2544.57541667, 2641.45041667, 2532.21916667,\n",
       "        2264.96833333, 1792.13916667, 1102.335     ,  472.22375   ,\n",
       "         417.02333333, 1108.49291667, 1726.02583333],\n",
       "       [2544.57541667, 2641.45041667, 2532.21916667, 2264.96833333,\n",
       "        1792.13916667, 1102.335     ,  472.22375   ,  417.02333333,\n",
       "        1108.49291667, 1726.02583333, 2158.00625   ],\n",
       "       [2641.45041667, 2532.21916667, 2264.96833333, 1792.13916667,\n",
       "        1102.335     ,  472.22375   ,  417.02333333, 1108.49291667,\n",
       "        1726.02583333, 2158.00625   , 2477.56333333],\n",
       "       [2532.21916667, 2264.96833333, 1792.13916667, 1102.335     ,\n",
       "         472.22375   ,  417.02333333, 1108.49291667, 1726.02583333,\n",
       "        2158.00625   , 2477.56333333, 2601.76083333],\n",
       "       [2264.96833333, 1792.13916667, 1102.335     ,  472.22375   ,\n",
       "         417.02333333, 1108.49291667, 1726.02583333, 2158.00625   ,\n",
       "        2477.56333333, 2601.76083333, 2510.31916667],\n",
       "       [1792.13916667, 1102.335     ,  472.22375   ,  417.02333333,\n",
       "        1108.49291667, 1726.02583333, 2158.00625   , 2477.56333333,\n",
       "        2601.76083333, 2510.31916667, 2217.32041667],\n",
       "       [1102.335     ,  472.22375   ,  417.02333333, 1108.49291667,\n",
       "        1726.02583333, 2158.00625   , 2477.56333333, 2601.76083333,\n",
       "        2510.31916667, 2217.32041667, 1759.97333333],\n",
       "       [ 472.22375   ,  417.02333333, 1108.49291667, 1726.02583333,\n",
       "        2158.00625   , 2477.56333333, 2601.76083333, 2510.31916667,\n",
       "        2217.32041667, 1759.97333333, 1123.78208333]])"
      ]
     },
     "execution_count": 191,
     "metadata": {},
     "output_type": "execute_result"
    }
   ],
   "source": [
    "arr_real"
   ]
  },
  {
   "cell_type": "markdown",
   "metadata": {},
   "source": [
    "#### Metric Evaluation LSTM"
   ]
  },
  {
   "cell_type": "code",
   "execution_count": 192,
   "metadata": {},
   "outputs": [],
   "source": [
    "def evaluate_metric_t(arr_pred, arr_real, metric):\n",
    "    num_cols = arr_pred.shape[1]\n",
    "    ls_metric = np.zeros(num_cols)\n",
    "    for col in range(num_cols):\n",
    "        ls_metric[col] = metric(arr_pred[:,col], arr_real[:,col])\n",
    "    return ls_metric\n",
    "    "
   ]
  },
  {
   "cell_type": "markdown",
   "metadata": {},
   "source": [
    "##### RMSE"
   ]
  },
  {
   "cell_type": "code",
   "execution_count": 193,
   "metadata": {},
   "outputs": [
    {
     "data": {
      "text/plain": [
       "array([197.55610394, 238.56362632, 305.55899102, 324.96683809,\n",
       "       274.55980543, 231.67606308, 221.54597819, 211.42255549,\n",
       "       184.07502815, 164.89740173, 124.90828435])"
      ]
     },
     "execution_count": 193,
     "metadata": {},
     "output_type": "execute_result"
    }
   ],
   "source": [
    "metric = rmse\n",
    "ls_metric_t = evaluate_metric_t(arr_pred, arr_real, metric=metric)\n",
    "ls_metric_t"
   ]
  },
  {
   "cell_type": "code",
   "execution_count": 194,
   "metadata": {},
   "outputs": [
    {
     "data": {
      "image/png": "[encoded data removed]",
      "text/plain": [
       "<Figure size 432x288 with 1 Axes>"
      ]
     },
     "metadata": {
      "needs_background": "light"
     },
     "output_type": "display_data"
    }
   ],
   "source": [
    "plt.title('Métrica RMSE para predicciones t+i')\n",
    "plt.ylabel('RMSE')\n",
    "plt.plot([f't+{i}' for i in range(1,n_pred+1)],ls_metric_t)\n",
    "plt.show()"
   ]
  },
  {
   "cell_type": "markdown",
   "metadata": {},
   "source": [
    "##### R^2"
   ]
  },
  {
   "cell_type": "code",
   "execution_count": null,
   "metadata": {},
   "outputs": [],
   "source": []
  },
  {
   "cell_type": "code",
   "execution_count": 195,
   "metadata": {},
   "outputs": [
    {
     "data": {
      "text/plain": [
       "array([0.9354495 , 0.8969718 , 0.8117387 , 0.78788145, 0.86891083,\n",
       "       0.9153973 , 0.91270125, 0.90583947, 0.93250621, 0.94930829,\n",
       "       0.97196451])"
      ]
     },
     "execution_count": 195,
     "metadata": {},
     "output_type": "execute_result"
    }
   ],
   "source": [
    "metric = r2_score\n",
    "ls_metric_t = evaluate_metric_t(arr_pred, arr_real, metric=metric)\n",
    "ls_metric_t"
   ]
  },
  {
   "cell_type": "code",
   "execution_count": 196,
   "metadata": {},
   "outputs": [
    {
     "data": {
      "image/png": "[encoded data removed]",
      "text/plain": [
       "<Figure size 432x288 with 1 Axes>"
      ]
     },
     "metadata": {
      "needs_background": "light"
     },
     "output_type": "display_data"
    }
   ],
   "source": [
    "plt.title('Métrica R^2 para predicciones t+i')\n",
    "plt.ylabel('R^2')\n",
    "plt.plot([f't+{i}' for i in range(1,n_pred+1)],ls_metric_t)\n",
    "plt.show()"
   ]
  },
  {
   "cell_type": "code",
   "execution_count": null,
   "metadata": {},
   "outputs": [],
   "source": [
    "\n",
    "\n"
   ]
  },
  {
   "cell_type": "code",
   "execution_count": null,
   "metadata": {},
   "outputs": [],
   "source": []
  },
  {
   "cell_type": "code",
   "execution_count": 197,
   "metadata": {},
   "outputs": [
    {
     "name": "stdout",
     "output_type": "stream",
     "text": [
      "1/1 [==============================] - 0s 1ms/step\n"
     ]
    },
    {
     "data": {
      "text/plain": [
       "array([[ 414.4701,  991.9556, 1628.1176, 2084.6936, 2385.5737, 2474.6086,\n",
       "        2354.728 , 2069.403 , 1706.6467, 1136.0331,  471.2032]],\n",
       "      dtype=float32)"
      ]
     },
     "execution_count": 197,
     "metadata": {},
     "output_type": "execute_result"
    }
   ],
   "source": [
    "modelo_cnn.predict(x_input, verbose=1)"
   ]
  },
  {
   "cell_type": "code",
   "execution_count": 198,
   "metadata": {},
   "outputs": [
    {
     "name": "stdout",
     "output_type": "stream",
     "text": [
      "1/1 [==============================] - 0s 5ms/step\n"
     ]
    },
    {
     "data": {
      "text/plain": [
       "array([[ 462.38556,  889.6997 , 1500.8733 , 2040.4104 , 2376.893  ,\n",
       "        2464.4165 , 2297.677  , 1913.4291 , 1404.0825 ,  824.12726,\n",
       "         425.62314]], dtype=float32)"
      ]
     },
     "execution_count": 198,
     "metadata": {},
     "output_type": "execute_result"
    }
   ],
   "source": [
    "modelo_lstm.predict(x_input, verbose=1)"
   ]
  },
  {
   "cell_type": "markdown",
   "metadata": {},
   "source": [
    "### Comapración de Análisis Walk Forward"
   ]
  },
  {
   "cell_type": "code",
   "execution_count": 219,
   "metadata": {},
   "outputs": [],
   "source": [
    "rmse_arima = np.array([160.64776544, 270.69151432, 315.9885493 , 334.01812193,\n",
    "       348.00484558, 372.36320726, 403.76765114, 427.86701613,\n",
    "       436.60018178, 432.48102117, 439.43991836])\n",
    "rmse_baseline = np.array([37.95487422, 37.95728727, 38.30072428, 39.2570819 , 40.79120364,\n",
    "       43.14413184, 43.56537003, 43.23455526, 44.20596312, 44.68720473,\n",
    "       44.91275993])\n",
    "rmse_cnn = np.array([ 66.03059827, 124.09463853, 152.07329848, 140.44600895,\n",
    "       128.4332031 , 137.22035643, 117.07118223, 129.04759466,\n",
    "       147.78023468, 166.15645215, 130.88758569])\n",
    "rmse_lstm = np.array([197.55610394, 238.56362632, 305.55899102, 324.96683809,\n",
    "       274.55980543, 231.67606308, 221.54597819, 211.42255549,\n",
    "       184.07502815, 164.89740173, 124.90828435])\n",
    "ls_rmse = [  rmse_arima,rmse_cnn,rmse_lstm,rmse_baseline]"
   ]
  },
  {
   "cell_type": "code",
   "execution_count": 220,
   "metadata": {},
   "outputs": [],
   "source": [
    "r2_arima = np.array([0.95698311, 0.8716135 , 0.8166354 , 0.78997067, 0.77035765,\n",
    "       0.73757084, 0.69279894, 0.65660533, 0.64425295, 0.65094365,\n",
    "       0.63929683])\n",
    "r2_baseline = np.array([0.99760507, 0.99761134, 0.99757768, 0.99745508, 0.99724291,\n",
    "       0.99690913, 0.99684312, 0.99687132, 0.99672303, 0.9966502 ,\n",
    "       0.99664528])\n",
    "r2_cnn = np.array([0.99245755, 0.97053042, 0.95181674, 0.95881791, 0.96936259,\n",
    "       0.96646702, 0.9756328 , 0.97043425, 0.96130104, 0.9557406 ,\n",
    "       0.97213966])\n",
    "r2_lstm = np.array([0.9354495 , 0.8969718 , 0.8117387 , 0.78788145, 0.86891083,\n",
    "       0.9153973 , 0.91270125, 0.90583947, 0.93250621, 0.94930829,\n",
    "       0.97196451])\n",
    "ls_r2 = [ r2_arima, r2_cnn,r2_lstm,r2_baseline]"
   ]
  },
  {
   "cell_type": "code",
   "execution_count": 221,
   "metadata": {},
   "outputs": [],
   "source": [
    "nombres_modelos = [ 'ARIMA', 'CNN', 'LSTM','Baseline']"
   ]
  },
  {
   "cell_type": "markdown",
   "metadata": {},
   "source": [
    "#### Comparación de métrica RMSE "
   ]
  },
  {
   "cell_type": "code",
   "execution_count": 222,
   "metadata": {},
   "outputs": [
    {
     "data": {
      "image/png": "[encoded data removed]",
      "text/plain": [
       "<Figure size 432x288 with 1 Axes>"
      ]
     },
     "metadata": {
      "needs_background": "light"
     },
     "output_type": "display_data"
    }
   ],
   "source": [
    "plt.title('Métrica RMSE para predicciones t+i')\n",
    "plt.ylabel('RMSE')\n",
    "for ls_metric_t in ls_rmse:\n",
    "    plt.plot([f't+{i}' for i in range(1,n_pred+1)],ls_metric_t)\n",
    "plt.legend(nombres_modelos)\n",
    "plt.show()"
   ]
  },
  {
   "cell_type": "code",
   "execution_count": 223,
   "metadata": {},
   "outputs": [
    {
     "data": {
      "image/png": "[encoded data removed]",
      "text/plain": [
       "<Figure size 432x288 with 1 Axes>"
      ]
     },
     "metadata": {
      "needs_background": "light"
     },
     "output_type": "display_data"
    }
   ],
   "source": [
    "plt.title('Métrica RMSE para predicciones t+i')\n",
    "plt.ylabel('RMSE')\n",
    "for ls_metric_t in ls_rmse[:-1]:\n",
    "    plt.plot([f't+{i}' for i in range(1,n_pred+1)],ls_metric_t)\n",
    "plt.legend(nombres_modelos[:-1])\n",
    "plt.show()"
   ]
  },
  {
   "cell_type": "markdown",
   "metadata": {},
   "source": [
    "#### Comparación de métrica R^2"
   ]
  },
  {
   "cell_type": "code",
   "execution_count": 226,
   "metadata": {},
   "outputs": [
    {
     "data": {
      "image/png": "[encoded data removed]",
      "text/plain": [
       "<Figure size 432x288 with 1 Axes>"
      ]
     },
     "metadata": {
      "needs_background": "light"
     },
     "output_type": "display_data"
    }
   ],
   "source": [
    "plt.title('Métrica R^2 para predicciones t+i')\n",
    "plt.ylabel('R^2')\n",
    "for ls_metric_t in ls_r2:\n",
    "    plt.plot([f't+{i}' for i in range(1,n_pred+1)],ls_metric_t)\n",
    "plt.legend(nombres_modelos)\n",
    "plt.show()"
   ]
  },
  {
   "cell_type": "code",
   "execution_count": 227,
   "metadata": {},
   "outputs": [
    {
     "data": {
      "image/png": "[encoded data removed]",
      "text/plain": [
       "<Figure size 432x288 with 1 Axes>"
      ]
     },
     "metadata": {
      "needs_background": "light"
     },
     "output_type": "display_data"
    }
   ],
   "source": [
    "plt.title('Métrica R^2 para predicciones t+i')\n",
    "plt.ylabel('R^2')\n",
    "for ls_metric_t in ls_r2[:-1]:\n",
    "    plt.plot([f't+{i}' for i in range(1,n_pred+1)],ls_metric_t)\n",
    "plt.legend(nombres_modelos[:-1])\n",
    "plt.show()"
   ]
  }
 ],
 "metadata": {
  "kernelspec": {
   "display_name": "torchenv",
   "language": "python",
   "name": "torchenv"
  },
  "language_info": {
   "codemirror_mode": {
    "name": "ipython",
    "version": 3
   },
   "file_extension": ".py",
   "mimetype": "text/x-python",
   "name": "python",
   "nbconvert_exporter": "python",
   "pygments_lexer": "ipython3",
   "version": "3.6.9"
  }
 },
 "nbformat": 4,
 "nbformat_minor": 4
}
