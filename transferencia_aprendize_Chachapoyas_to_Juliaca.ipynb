{
 "cells": [
  {
   "cell_type": "code",
   "execution_count": null,
   "metadata": {},
   "outputs": [],
   "source": []
  },
  {
   "cell_type": "code",
   "execution_count": 1,
   "metadata": {},
   "outputs": [],
   "source": [
    "import pandas as pd\n",
    "import os\n",
    "# import torch\n",
    "# import torch.nn as nn\n",
    "# import torch.nn.functional as F\n",
    "# import torchvision\n",
    "# import torchvision.transforms as transforms\n",
    "import matplotlib.pyplot as plt\n",
    "import numpy as np\n",
    "import darts\n",
    "import math"
   ]
  },
  {
   "cell_type": "code",
   "execution_count": 2,
   "metadata": {},
   "outputs": [],
   "source": [
    "# from tqdm.keras import TqdmCallback\n",
    "# import tensorflow_addons as tfa\n",
    "# from keras_tqdm import TQDMNotebookCallback"
   ]
  },
  {
   "cell_type": "code",
   "execution_count": 3,
   "metadata": {},
   "outputs": [],
   "source": [
    "from statsmodels.tools.eval_measures import rmse\n",
    "from sklearn.metrics import r2_score"
   ]
  },
  {
   "cell_type": "code",
   "execution_count": 4,
   "metadata": {},
   "outputs": [
    {
     "name": "stderr",
     "output_type": "stream",
     "text": [
      "Importing plotly failed. Interactive plots will not work.\n"
     ]
    }
   ],
   "source": [
    "from darts import TimeSeries\n",
    "from darts.dataprocessing.transformers import Scaler, MissingValuesFiller\n",
    "from darts.utils.statistics import plot_acf\n",
    "from darts.models.arima import ARIMA\n",
    "from darts.models import RNNModel, ExponentialSmoothing\n",
    "from darts.metrics import mape"
   ]
  },
  {
   "cell_type": "code",
   "execution_count": 5,
   "metadata": {},
   "outputs": [
    {
     "name": "stdout",
     "output_type": "stream",
     "text": [
      "[]\n"
     ]
    }
   ],
   "source": [
    "#import os\n",
    "#os.environ[\"CUDA_VISIBLE_DEVICES\"] = \"-1\"  # Force TF to use only the CPU\n",
    "import tensorflow as tf\n",
    "\n",
    "gpus = tf.config.list_physical_devices('GPU')  # obtiene las gpus instaladas\n",
    "if len(gpus) > 0:   # si hay alguna gpu instalada\n",
    "    # setea para alocar apenas a memória da GPU necessária para as alocações de tempo de execução\n",
    "    tf.config.experimental.set_memory_growth(gpus[0], True) \n",
    "print(gpus)"
   ]
  },
  {
   "cell_type": "code",
   "execution_count": 6,
   "metadata": {},
   "outputs": [
    {
     "name": "stdout",
     "output_type": "stream",
     "text": [
      "2.1.0\n",
      "2.2.4-tf\n",
      "2.3.1\n"
     ]
    },
    {
     "name": "stderr",
     "output_type": "stream",
     "text": [
      "Using TensorFlow backend.\n"
     ]
    }
   ],
   "source": [
    "print(tf.__version__)\n",
    "print(tf.keras.__version__)\n",
    "import keras\n",
    "print(keras.__version__)"
   ]
  },
  {
   "cell_type": "code",
   "execution_count": 7,
   "metadata": {},
   "outputs": [],
   "source": [
    "import pandas as pd\n",
    "import numpy as np\n",
    "from numpy import hstack\n",
    "import matplotlib.pyplot as plt\n",
    "%matplotlib inline\n",
    "\n",
    "from keras.models import Sequential    \n",
    "from keras.layers import Dense\n",
    "from keras.layers import Flatten\n",
    "\n",
    "from keras.layers.convolutional import Conv1D\n",
    "from keras.layers.convolutional import MaxPooling1D\n",
    "\n",
    "from keras.models import Model\n",
    "from keras.layers import Input\n",
    "from keras.layers.merge import concatenate\n",
    "\n",
    "from keras.layers import LSTM"
   ]
  },
  {
   "cell_type": "code",
   "execution_count": 8,
   "metadata": {},
   "outputs": [],
   "source": [
    "root = r'/'\n",
    "data_path = r'data/dibanez/tesis/data_preprocesada/2.llenada/'"
   ]
  },
  {
   "cell_type": "code",
   "execution_count": 9,
   "metadata": {},
   "outputs": [
    {
     "name": "stdout",
     "output_type": "stream",
     "text": [
      "llenado_Arequipa_UNSA_CIGS_agg_day_hour.csv\n",
      "llenado_Arequipa_UNSA_HIT_agg_day_hour.csv\n",
      "llenado_Arequipa_UNSA_PERC_agg_day_hour.csv\n",
      "llenado_Chachapoyas_UNTRM_CIGS_agg_day_hour.csv\n",
      "llenado_Chachapoyas_UNTRM_HIT_agg_day_hour.csv\n",
      "llenado_Chachapoyas_UNTRM_PERC_agg_day_hour.csv\n",
      "llenado_Juliaca_UNAJ_CIGS_agg_day_hour.csv\n",
      "llenado_Juliaca_UNAJ_HIT_agg_day_hour.csv\n",
      "llenado_Juliaca_UNAJ_PERC_agg_day_hour.csv\n",
      "llenado_Lima_PUCP_CIGS_agg_day_hour.csv\n",
      "llenado_Lima_PUCP_HIT_agg_day_hour.csv\n",
      "llenado_Lima_PUCP_PERC_agg_day_hour.csv\n",
      "llenado_Tacna_UNJBG_CIGS_agg_day_hour.csv\n",
      "llenado_Tacna_UNJBG_HIT_agg_day_hour.csv\n",
      "llenado_Tacna_UNJBG_PERC_agg_day_hour.csv\n"
     ]
    }
   ],
   "source": [
    "!ls /{data_path}"
   ]
  },
  {
   "cell_type": "code",
   "execution_count": null,
   "metadata": {},
   "outputs": [],
   "source": []
  },
  {
   "cell_type": "markdown",
   "metadata": {},
   "source": [
    "# Preparación y Entrenamiento"
   ]
  },
  {
   "cell_type": "markdown",
   "metadata": {},
   "source": [
    "## Lectura de datos"
   ]
  },
  {
   "cell_type": "code",
   "execution_count": 11,
   "metadata": {},
   "outputs": [],
   "source": [
    "def print_df(df):\n",
    "  print(df.shape)\n",
    "  return df.head()"
   ]
  },
  {
   "cell_type": "code",
   "execution_count": 12,
   "metadata": {},
   "outputs": [],
   "source": [
    "data_file = data_path+'llenado_Chachapoyas_UNTRM_HIT_agg_day_hour.csv'"
   ]
  },
  {
   "cell_type": "code",
   "execution_count": 10,
   "metadata": {},
   "outputs": [],
   "source": [
    "data_file_Juliaca = data_path+'llenado_Juliaca_UNAJ_HIT_agg_day_hour.csv'"
   ]
  },
  {
   "cell_type": "code",
   "execution_count": 13,
   "metadata": {},
   "outputs": [
    {
     "name": "stdout",
     "output_type": "stream",
     "text": [
      "(3145, 10)\n"
     ]
    },
    {
     "data": {
      "text/html": [
       "<div>\n",
       "<style scoped>\n",
       "    .dataframe tbody tr th:only-of-type {\n",
       "        vertical-align: middle;\n",
       "    }\n",
       "\n",
       "    .dataframe tbody tr th {\n",
       "        vertical-align: top;\n",
       "    }\n",
       "\n",
       "    .dataframe thead th {\n",
       "        text-align: right;\n",
       "    }\n",
       "</style>\n",
       "<table border=\"1\" class=\"dataframe\">\n",
       "  <thead>\n",
       "    <tr style=\"text-align: right;\">\n",
       "      <th></th>\n",
       "      <th>index</th>\n",
       "      <th>Fecha</th>\n",
       "      <th>Tamb</th>\n",
       "      <th>Tmod</th>\n",
       "      <th>Irradiancia</th>\n",
       "      <th>Vdc</th>\n",
       "      <th>Idc</th>\n",
       "      <th>Paparente</th>\n",
       "      <th>Pac</th>\n",
       "      <th>Pdc</th>\n",
       "    </tr>\n",
       "  </thead>\n",
       "  <tbody>\n",
       "    <tr>\n",
       "      <th>0</th>\n",
       "      <td>0</td>\n",
       "      <td>2021-01-19 07:00:00</td>\n",
       "      <td>NaN</td>\n",
       "      <td>15.481038</td>\n",
       "      <td>126.680377</td>\n",
       "      <td>280.261225</td>\n",
       "      <td>0.663656</td>\n",
       "      <td>169.232893</td>\n",
       "      <td>127.25</td>\n",
       "      <td>188.702179</td>\n",
       "    </tr>\n",
       "    <tr>\n",
       "      <th>1</th>\n",
       "      <td>1</td>\n",
       "      <td>2021-01-19 08:00:00</td>\n",
       "      <td>NaN</td>\n",
       "      <td>21.373603</td>\n",
       "      <td>243.603396</td>\n",
       "      <td>286.352633</td>\n",
       "      <td>1.309358</td>\n",
       "      <td>352.285000</td>\n",
       "      <td>259.25</td>\n",
       "      <td>376.508333</td>\n",
       "    </tr>\n",
       "    <tr>\n",
       "      <th>2</th>\n",
       "      <td>2</td>\n",
       "      <td>2021-01-19 09:00:00</td>\n",
       "      <td>NaN</td>\n",
       "      <td>27.428326</td>\n",
       "      <td>326.799399</td>\n",
       "      <td>284.905883</td>\n",
       "      <td>1.737817</td>\n",
       "      <td>468.926667</td>\n",
       "      <td>488.50</td>\n",
       "      <td>495.450000</td>\n",
       "    </tr>\n",
       "    <tr>\n",
       "      <th>3</th>\n",
       "      <td>3</td>\n",
       "      <td>2021-01-19 10:00:00</td>\n",
       "      <td>NaN</td>\n",
       "      <td>35.033718</td>\n",
       "      <td>519.406319</td>\n",
       "      <td>284.755117</td>\n",
       "      <td>2.515042</td>\n",
       "      <td>682.881667</td>\n",
       "      <td>610.75</td>\n",
       "      <td>714.733333</td>\n",
       "    </tr>\n",
       "    <tr>\n",
       "      <th>4</th>\n",
       "      <td>4</td>\n",
       "      <td>2021-01-19 11:00:00</td>\n",
       "      <td>NaN</td>\n",
       "      <td>38.094180</td>\n",
       "      <td>621.082664</td>\n",
       "      <td>284.442400</td>\n",
       "      <td>2.985145</td>\n",
       "      <td>813.890000</td>\n",
       "      <td>434.75</td>\n",
       "      <td>850.175000</td>\n",
       "    </tr>\n",
       "  </tbody>\n",
       "</table>\n",
       "</div>"
      ],
      "text/plain": [
       "   index               Fecha  Tamb       Tmod  Irradiancia         Vdc  \\\n",
       "0      0 2021-01-19 07:00:00   NaN  15.481038   126.680377  280.261225   \n",
       "1      1 2021-01-19 08:00:00   NaN  21.373603   243.603396  286.352633   \n",
       "2      2 2021-01-19 09:00:00   NaN  27.428326   326.799399  284.905883   \n",
       "3      3 2021-01-19 10:00:00   NaN  35.033718   519.406319  284.755117   \n",
       "4      4 2021-01-19 11:00:00   NaN  38.094180   621.082664  284.442400   \n",
       "\n",
       "        Idc   Paparente     Pac         Pdc  \n",
       "0  0.663656  169.232893  127.25  188.702179  \n",
       "1  1.309358  352.285000  259.25  376.508333  \n",
       "2  1.737817  468.926667  488.50  495.450000  \n",
       "3  2.515042  682.881667  610.75  714.733333  \n",
       "4  2.985145  813.890000  434.75  850.175000  "
      ]
     },
     "execution_count": 13,
     "metadata": {},
     "output_type": "execute_result"
    }
   ],
   "source": [
    "df = pd.read_csv(root+data_file, parse_dates=True)\n",
    "df.Fecha = pd.to_datetime(df.Fecha)\n",
    "df=df.reset_index()\n",
    "print_df(df)"
   ]
  },
  {
   "cell_type": "code",
   "execution_count": 14,
   "metadata": {},
   "outputs": [
    {
     "name": "stdout",
     "output_type": "stream",
     "text": [
      "(2098, 10)\n"
     ]
    },
    {
     "data": {
      "text/html": [
       "<div>\n",
       "<style scoped>\n",
       "    .dataframe tbody tr th:only-of-type {\n",
       "        vertical-align: middle;\n",
       "    }\n",
       "\n",
       "    .dataframe tbody tr th {\n",
       "        vertical-align: top;\n",
       "    }\n",
       "\n",
       "    .dataframe thead th {\n",
       "        text-align: right;\n",
       "    }\n",
       "</style>\n",
       "<table border=\"1\" class=\"dataframe\">\n",
       "  <thead>\n",
       "    <tr style=\"text-align: right;\">\n",
       "      <th></th>\n",
       "      <th>index</th>\n",
       "      <th>Fecha</th>\n",
       "      <th>Tamb</th>\n",
       "      <th>Tmod</th>\n",
       "      <th>Irradiancia</th>\n",
       "      <th>Vdc</th>\n",
       "      <th>Idc</th>\n",
       "      <th>Paparente</th>\n",
       "      <th>Pac</th>\n",
       "      <th>Pdc</th>\n",
       "    </tr>\n",
       "  </thead>\n",
       "  <tbody>\n",
       "    <tr>\n",
       "      <th>0</th>\n",
       "      <td>0</td>\n",
       "      <td>2021-04-24 09:00:00</td>\n",
       "      <td>NaN</td>\n",
       "      <td>34.972500</td>\n",
       "      <td>NaN</td>\n",
       "      <td>280.775139</td>\n",
       "      <td>4.749689</td>\n",
       "      <td>1280.711111</td>\n",
       "      <td>725.25</td>\n",
       "      <td>1335.512452</td>\n",
       "    </tr>\n",
       "    <tr>\n",
       "      <th>1</th>\n",
       "      <td>1</td>\n",
       "      <td>2021-04-24 10:00:00</td>\n",
       "      <td>NaN</td>\n",
       "      <td>35.085333</td>\n",
       "      <td>NaN</td>\n",
       "      <td>286.157139</td>\n",
       "      <td>4.822428</td>\n",
       "      <td>1329.452778</td>\n",
       "      <td>1422.00</td>\n",
       "      <td>1383.670669</td>\n",
       "    </tr>\n",
       "    <tr>\n",
       "      <th>2</th>\n",
       "      <td>2</td>\n",
       "      <td>2021-04-24 11:00:00</td>\n",
       "      <td>NaN</td>\n",
       "      <td>40.175500</td>\n",
       "      <td>NaN</td>\n",
       "      <td>292.318028</td>\n",
       "      <td>4.879322</td>\n",
       "      <td>1379.002778</td>\n",
       "      <td>1152.00</td>\n",
       "      <td>1433.825000</td>\n",
       "    </tr>\n",
       "    <tr>\n",
       "      <th>3</th>\n",
       "      <td>3</td>\n",
       "      <td>2021-04-24 12:00:00</td>\n",
       "      <td>NaN</td>\n",
       "      <td>44.957333</td>\n",
       "      <td>NaN</td>\n",
       "      <td>288.280642</td>\n",
       "      <td>4.392036</td>\n",
       "      <td>1229.313272</td>\n",
       "      <td>1463.75</td>\n",
       "      <td>1278.857407</td>\n",
       "    </tr>\n",
       "    <tr>\n",
       "      <th>4</th>\n",
       "      <td>4</td>\n",
       "      <td>2021-04-24 13:00:00</td>\n",
       "      <td>NaN</td>\n",
       "      <td>39.497586</td>\n",
       "      <td>NaN</td>\n",
       "      <td>282.816713</td>\n",
       "      <td>4.245637</td>\n",
       "      <td>1154.008380</td>\n",
       "      <td>1480.75</td>\n",
       "      <td>1203.392830</td>\n",
       "    </tr>\n",
       "  </tbody>\n",
       "</table>\n",
       "</div>"
      ],
      "text/plain": [
       "   index               Fecha  Tamb       Tmod  Irradiancia         Vdc  \\\n",
       "0      0 2021-04-24 09:00:00   NaN  34.972500          NaN  280.775139   \n",
       "1      1 2021-04-24 10:00:00   NaN  35.085333          NaN  286.157139   \n",
       "2      2 2021-04-24 11:00:00   NaN  40.175500          NaN  292.318028   \n",
       "3      3 2021-04-24 12:00:00   NaN  44.957333          NaN  288.280642   \n",
       "4      4 2021-04-24 13:00:00   NaN  39.497586          NaN  282.816713   \n",
       "\n",
       "        Idc    Paparente      Pac          Pdc  \n",
       "0  4.749689  1280.711111   725.25  1335.512452  \n",
       "1  4.822428  1329.452778  1422.00  1383.670669  \n",
       "2  4.879322  1379.002778  1152.00  1433.825000  \n",
       "3  4.392036  1229.313272  1463.75  1278.857407  \n",
       "4  4.245637  1154.008380  1480.75  1203.392830  "
      ]
     },
     "execution_count": 14,
     "metadata": {},
     "output_type": "execute_result"
    }
   ],
   "source": [
    "df_Juliaca = pd.read_csv(root+data_file_Juliaca, parse_dates=True)\n",
    "df_Juliaca.Fecha = pd.to_datetime(df_Juliaca.Fecha)\n",
    "df_Juliaca=df_Juliaca.reset_index()\n",
    "print_df(df_Juliaca)"
   ]
  },
  {
   "cell_type": "code",
   "execution_count": 15,
   "metadata": {},
   "outputs": [
    {
     "data": {
      "text/plain": [
       "index          0.0\n",
       "Fecha          0.0\n",
       "Tamb           1.0\n",
       "Tmod           0.0\n",
       "Irradiancia    0.0\n",
       "Vdc            0.0\n",
       "Idc            0.0\n",
       "Paparente      0.0\n",
       "Pac            0.0\n",
       "Pdc            0.0\n",
       "dtype: float64"
      ]
     },
     "execution_count": 15,
     "metadata": {},
     "output_type": "execute_result"
    }
   ],
   "source": [
    "df.isna().sum()/len(df)"
   ]
  },
  {
   "cell_type": "code",
   "execution_count": 16,
   "metadata": {},
   "outputs": [
    {
     "data": {
      "text/plain": [
       "index          0.0\n",
       "Fecha          0.0\n",
       "Tamb           1.0\n",
       "Tmod           0.0\n",
       "Irradiancia    1.0\n",
       "Vdc            0.0\n",
       "Idc            0.0\n",
       "Paparente      0.0\n",
       "Pac            0.0\n",
       "Pdc            0.0\n",
       "dtype: float64"
      ]
     },
     "execution_count": 16,
     "metadata": {},
     "output_type": "execute_result"
    }
   ],
   "source": [
    "df_Juliaca.isna().sum()/len(df_Juliaca)"
   ]
  },
  {
   "cell_type": "markdown",
   "metadata": {},
   "source": [
    "## Codificación de fechas\n"
   ]
  },
  {
   "cell_type": "code",
   "execution_count": 28,
   "metadata": {},
   "outputs": [
    {
     "data": {
      "text/plain": [
       "Timestamp('2021-01-19 07:00:00')"
      ]
     },
     "execution_count": 28,
     "metadata": {},
     "output_type": "execute_result"
    }
   ],
   "source": [
    "start = df.iloc[0]['Fecha']\n",
    "start"
   ]
  },
  {
   "cell_type": "code",
   "execution_count": 29,
   "metadata": {},
   "outputs": [
    {
     "data": {
      "text/plain": [
       "Timestamp('2021-04-24 09:00:00')"
      ]
     },
     "execution_count": 29,
     "metadata": {},
     "output_type": "execute_result"
    }
   ],
   "source": [
    "start_J = df_Juliaca.iloc[0]['Fecha']\n",
    "start_J"
   ]
  },
  {
   "cell_type": "code",
   "execution_count": 30,
   "metadata": {},
   "outputs": [
    {
     "data": {
      "text/html": [
       "<div>\n",
       "<style scoped>\n",
       "    .dataframe tbody tr th:only-of-type {\n",
       "        vertical-align: middle;\n",
       "    }\n",
       "\n",
       "    .dataframe tbody tr th {\n",
       "        vertical-align: top;\n",
       "    }\n",
       "\n",
       "    .dataframe thead th {\n",
       "        text-align: right;\n",
       "    }\n",
       "</style>\n",
       "<table border=\"1\" class=\"dataframe\">\n",
       "  <thead>\n",
       "    <tr style=\"text-align: right;\">\n",
       "      <th></th>\n",
       "      <th>index</th>\n",
       "      <th>Fecha</th>\n",
       "      <th>Tamb</th>\n",
       "      <th>Tmod</th>\n",
       "      <th>Irradiancia</th>\n",
       "      <th>Vdc</th>\n",
       "      <th>Idc</th>\n",
       "      <th>Paparente</th>\n",
       "      <th>Pac</th>\n",
       "      <th>Pdc</th>\n",
       "      <th>Fecha_cod</th>\n",
       "    </tr>\n",
       "  </thead>\n",
       "  <tbody>\n",
       "    <tr>\n",
       "      <th>0</th>\n",
       "      <td>0</td>\n",
       "      <td>2021-01-19 07:00:00</td>\n",
       "      <td>NaN</td>\n",
       "      <td>15.481038</td>\n",
       "      <td>126.680377</td>\n",
       "      <td>280.261225</td>\n",
       "      <td>0.663656</td>\n",
       "      <td>169.232893</td>\n",
       "      <td>127.250000</td>\n",
       "      <td>188.702179</td>\n",
       "      <td>2021-01-19 07:00:00</td>\n",
       "    </tr>\n",
       "    <tr>\n",
       "      <th>1</th>\n",
       "      <td>1</td>\n",
       "      <td>2021-01-19 08:00:00</td>\n",
       "      <td>NaN</td>\n",
       "      <td>21.373603</td>\n",
       "      <td>243.603396</td>\n",
       "      <td>286.352633</td>\n",
       "      <td>1.309358</td>\n",
       "      <td>352.285000</td>\n",
       "      <td>259.250000</td>\n",
       "      <td>376.508333</td>\n",
       "      <td>2021-01-19 08:00:00</td>\n",
       "    </tr>\n",
       "    <tr>\n",
       "      <th>2</th>\n",
       "      <td>2</td>\n",
       "      <td>2021-01-19 09:00:00</td>\n",
       "      <td>NaN</td>\n",
       "      <td>27.428326</td>\n",
       "      <td>326.799399</td>\n",
       "      <td>284.905883</td>\n",
       "      <td>1.737817</td>\n",
       "      <td>468.926667</td>\n",
       "      <td>488.500000</td>\n",
       "      <td>495.450000</td>\n",
       "      <td>2021-01-19 09:00:00</td>\n",
       "    </tr>\n",
       "    <tr>\n",
       "      <th>3</th>\n",
       "      <td>3</td>\n",
       "      <td>2021-01-19 10:00:00</td>\n",
       "      <td>NaN</td>\n",
       "      <td>35.033718</td>\n",
       "      <td>519.406319</td>\n",
       "      <td>284.755117</td>\n",
       "      <td>2.515042</td>\n",
       "      <td>682.881667</td>\n",
       "      <td>610.750000</td>\n",
       "      <td>714.733333</td>\n",
       "      <td>2021-01-19 10:00:00</td>\n",
       "    </tr>\n",
       "    <tr>\n",
       "      <th>4</th>\n",
       "      <td>4</td>\n",
       "      <td>2021-01-19 11:00:00</td>\n",
       "      <td>NaN</td>\n",
       "      <td>38.094180</td>\n",
       "      <td>621.082664</td>\n",
       "      <td>284.442400</td>\n",
       "      <td>2.985145</td>\n",
       "      <td>813.890000</td>\n",
       "      <td>434.750000</td>\n",
       "      <td>850.175000</td>\n",
       "      <td>2021-01-19 11:00:00</td>\n",
       "    </tr>\n",
       "    <tr>\n",
       "      <th>5</th>\n",
       "      <td>5</td>\n",
       "      <td>2021-01-19 12:00:00</td>\n",
       "      <td>NaN</td>\n",
       "      <td>43.941246</td>\n",
       "      <td>791.262844</td>\n",
       "      <td>286.243400</td>\n",
       "      <td>3.428338</td>\n",
       "      <td>945.055000</td>\n",
       "      <td>290.500000</td>\n",
       "      <td>985.250000</td>\n",
       "      <td>2021-01-19 12:00:00</td>\n",
       "    </tr>\n",
       "    <tr>\n",
       "      <th>6</th>\n",
       "      <td>6</td>\n",
       "      <td>2021-01-19 13:00:00</td>\n",
       "      <td>NaN</td>\n",
       "      <td>37.725523</td>\n",
       "      <td>596.098252</td>\n",
       "      <td>284.086433</td>\n",
       "      <td>2.645817</td>\n",
       "      <td>720.548333</td>\n",
       "      <td>902.500000</td>\n",
       "      <td>754.668333</td>\n",
       "      <td>2021-01-19 13:00:00</td>\n",
       "    </tr>\n",
       "    <tr>\n",
       "      <th>7</th>\n",
       "      <td>7</td>\n",
       "      <td>2021-01-19 14:00:00</td>\n",
       "      <td>NaN</td>\n",
       "      <td>34.077905</td>\n",
       "      <td>575.606230</td>\n",
       "      <td>285.852883</td>\n",
       "      <td>2.642738</td>\n",
       "      <td>721.798333</td>\n",
       "      <td>681.750000</td>\n",
       "      <td>754.813333</td>\n",
       "      <td>2021-01-19 14:00:00</td>\n",
       "    </tr>\n",
       "    <tr>\n",
       "      <th>8</th>\n",
       "      <td>8</td>\n",
       "      <td>2021-01-19 15:00:00</td>\n",
       "      <td>NaN</td>\n",
       "      <td>32.345680</td>\n",
       "      <td>425.935810</td>\n",
       "      <td>283.860767</td>\n",
       "      <td>2.158502</td>\n",
       "      <td>583.478333</td>\n",
       "      <td>340.750000</td>\n",
       "      <td>613.145000</td>\n",
       "      <td>2021-01-19 15:00:00</td>\n",
       "    </tr>\n",
       "    <tr>\n",
       "      <th>9</th>\n",
       "      <td>9</td>\n",
       "      <td>2021-01-19 16:00:00</td>\n",
       "      <td>NaN</td>\n",
       "      <td>26.037586</td>\n",
       "      <td>268.995017</td>\n",
       "      <td>282.339650</td>\n",
       "      <td>1.421920</td>\n",
       "      <td>378.303333</td>\n",
       "      <td>141.500000</td>\n",
       "      <td>402.638333</td>\n",
       "      <td>2021-01-19 16:00:00</td>\n",
       "    </tr>\n",
       "    <tr>\n",
       "      <th>10</th>\n",
       "      <td>10</td>\n",
       "      <td>2021-01-20 06:00:00</td>\n",
       "      <td>NaN</td>\n",
       "      <td>11.961119</td>\n",
       "      <td>41.473292</td>\n",
       "      <td>258.993461</td>\n",
       "      <td>0.232842</td>\n",
       "      <td>56.132937</td>\n",
       "      <td>58.259686</td>\n",
       "      <td>62.615513</td>\n",
       "      <td>2021-01-19 17:00:00</td>\n",
       "    </tr>\n",
       "    <tr>\n",
       "      <th>11</th>\n",
       "      <td>11</td>\n",
       "      <td>2021-01-20 07:00:00</td>\n",
       "      <td>NaN</td>\n",
       "      <td>15.481038</td>\n",
       "      <td>126.680377</td>\n",
       "      <td>280.261225</td>\n",
       "      <td>0.663656</td>\n",
       "      <td>169.232893</td>\n",
       "      <td>163.125951</td>\n",
       "      <td>188.702179</td>\n",
       "      <td>2021-01-19 18:00:00</td>\n",
       "    </tr>\n",
       "    <tr>\n",
       "      <th>12</th>\n",
       "      <td>12</td>\n",
       "      <td>2021-01-20 08:00:00</td>\n",
       "      <td>NaN</td>\n",
       "      <td>21.373603</td>\n",
       "      <td>243.603396</td>\n",
       "      <td>286.352633</td>\n",
       "      <td>1.309358</td>\n",
       "      <td>352.285000</td>\n",
       "      <td>341.953030</td>\n",
       "      <td>376.508333</td>\n",
       "      <td>2021-01-19 19:00:00</td>\n",
       "    </tr>\n",
       "  </tbody>\n",
       "</table>\n",
       "</div>"
      ],
      "text/plain": [
       "    index               Fecha  Tamb       Tmod  Irradiancia         Vdc  \\\n",
       "0       0 2021-01-19 07:00:00   NaN  15.481038   126.680377  280.261225   \n",
       "1       1 2021-01-19 08:00:00   NaN  21.373603   243.603396  286.352633   \n",
       "2       2 2021-01-19 09:00:00   NaN  27.428326   326.799399  284.905883   \n",
       "3       3 2021-01-19 10:00:00   NaN  35.033718   519.406319  284.755117   \n",
       "4       4 2021-01-19 11:00:00   NaN  38.094180   621.082664  284.442400   \n",
       "5       5 2021-01-19 12:00:00   NaN  43.941246   791.262844  286.243400   \n",
       "6       6 2021-01-19 13:00:00   NaN  37.725523   596.098252  284.086433   \n",
       "7       7 2021-01-19 14:00:00   NaN  34.077905   575.606230  285.852883   \n",
       "8       8 2021-01-19 15:00:00   NaN  32.345680   425.935810  283.860767   \n",
       "9       9 2021-01-19 16:00:00   NaN  26.037586   268.995017  282.339650   \n",
       "10     10 2021-01-20 06:00:00   NaN  11.961119    41.473292  258.993461   \n",
       "11     11 2021-01-20 07:00:00   NaN  15.481038   126.680377  280.261225   \n",
       "12     12 2021-01-20 08:00:00   NaN  21.373603   243.603396  286.352633   \n",
       "\n",
       "         Idc   Paparente         Pac         Pdc           Fecha_cod  \n",
       "0   0.663656  169.232893  127.250000  188.702179 2021-01-19 07:00:00  \n",
       "1   1.309358  352.285000  259.250000  376.508333 2021-01-19 08:00:00  \n",
       "2   1.737817  468.926667  488.500000  495.450000 2021-01-19 09:00:00  \n",
       "3   2.515042  682.881667  610.750000  714.733333 2021-01-19 10:00:00  \n",
       "4   2.985145  813.890000  434.750000  850.175000 2021-01-19 11:00:00  \n",
       "5   3.428338  945.055000  290.500000  985.250000 2021-01-19 12:00:00  \n",
       "6   2.645817  720.548333  902.500000  754.668333 2021-01-19 13:00:00  \n",
       "7   2.642738  721.798333  681.750000  754.813333 2021-01-19 14:00:00  \n",
       "8   2.158502  583.478333  340.750000  613.145000 2021-01-19 15:00:00  \n",
       "9   1.421920  378.303333  141.500000  402.638333 2021-01-19 16:00:00  \n",
       "10  0.232842   56.132937   58.259686   62.615513 2021-01-19 17:00:00  \n",
       "11  0.663656  169.232893  163.125951  188.702179 2021-01-19 18:00:00  \n",
       "12  1.309358  352.285000  341.953030  376.508333 2021-01-19 19:00:00  "
      ]
     },
     "execution_count": 30,
     "metadata": {},
     "output_type": "execute_result"
    }
   ],
   "source": [
    "df['Fecha_cod'] = pd.date_range(freq='H', start=start, periods=len(df))\n",
    "df.head(13)"
   ]
  },
  {
   "cell_type": "code",
   "execution_count": null,
   "metadata": {},
   "outputs": [],
   "source": []
  },
  {
   "cell_type": "code",
   "execution_count": 31,
   "metadata": {},
   "outputs": [],
   "source": [
    "fechas_origen = df.Fecha"
   ]
  },
  {
   "cell_type": "code",
   "execution_count": 32,
   "metadata": {},
   "outputs": [
    {
     "data": {
      "text/plain": [
       "0    2021-01-19 07:00:00\n",
       "1    2021-01-19 08:00:00\n",
       "2    2021-01-19 09:00:00\n",
       "3    2021-01-19 10:00:00\n",
       "4    2021-01-19 11:00:00\n",
       "5    2021-01-19 12:00:00\n",
       "6    2021-01-19 13:00:00\n",
       "7    2021-01-19 14:00:00\n",
       "8    2021-01-19 15:00:00\n",
       "9    2021-01-19 16:00:00\n",
       "10   2021-01-20 06:00:00\n",
       "11   2021-01-20 07:00:00\n",
       "Name: Fecha, dtype: datetime64[ns]"
      ]
     },
     "execution_count": 32,
     "metadata": {},
     "output_type": "execute_result"
    }
   ],
   "source": [
    "fechas_origen[:11+1]"
   ]
  },
  {
   "cell_type": "code",
   "execution_count": 33,
   "metadata": {},
   "outputs": [
    {
     "data": {
      "text/html": [
       "<div>\n",
       "<style scoped>\n",
       "    .dataframe tbody tr th:only-of-type {\n",
       "        vertical-align: middle;\n",
       "    }\n",
       "\n",
       "    .dataframe tbody tr th {\n",
       "        vertical-align: top;\n",
       "    }\n",
       "\n",
       "    .dataframe thead th {\n",
       "        text-align: right;\n",
       "    }\n",
       "</style>\n",
       "<table border=\"1\" class=\"dataframe\">\n",
       "  <thead>\n",
       "    <tr style=\"text-align: right;\">\n",
       "      <th></th>\n",
       "      <th>index</th>\n",
       "      <th>Fecha</th>\n",
       "      <th>Tamb</th>\n",
       "      <th>Tmod</th>\n",
       "      <th>Irradiancia</th>\n",
       "      <th>Vdc</th>\n",
       "      <th>Idc</th>\n",
       "      <th>Paparente</th>\n",
       "      <th>Pac</th>\n",
       "      <th>Pdc</th>\n",
       "      <th>Fecha_cod</th>\n",
       "    </tr>\n",
       "  </thead>\n",
       "  <tbody>\n",
       "    <tr>\n",
       "      <th>0</th>\n",
       "      <td>0</td>\n",
       "      <td>2021-04-24 09:00:00</td>\n",
       "      <td>NaN</td>\n",
       "      <td>34.972500</td>\n",
       "      <td>NaN</td>\n",
       "      <td>280.775139</td>\n",
       "      <td>4.749689</td>\n",
       "      <td>1280.711111</td>\n",
       "      <td>725.250000</td>\n",
       "      <td>1335.512452</td>\n",
       "      <td>2021-01-19 07:00:00</td>\n",
       "    </tr>\n",
       "    <tr>\n",
       "      <th>1</th>\n",
       "      <td>1</td>\n",
       "      <td>2021-04-24 10:00:00</td>\n",
       "      <td>NaN</td>\n",
       "      <td>35.085333</td>\n",
       "      <td>NaN</td>\n",
       "      <td>286.157139</td>\n",
       "      <td>4.822428</td>\n",
       "      <td>1329.452778</td>\n",
       "      <td>1422.000000</td>\n",
       "      <td>1383.670669</td>\n",
       "      <td>2021-01-19 08:00:00</td>\n",
       "    </tr>\n",
       "    <tr>\n",
       "      <th>2</th>\n",
       "      <td>2</td>\n",
       "      <td>2021-04-24 11:00:00</td>\n",
       "      <td>NaN</td>\n",
       "      <td>40.175500</td>\n",
       "      <td>NaN</td>\n",
       "      <td>292.318028</td>\n",
       "      <td>4.879322</td>\n",
       "      <td>1379.002778</td>\n",
       "      <td>1152.000000</td>\n",
       "      <td>1433.825000</td>\n",
       "      <td>2021-01-19 09:00:00</td>\n",
       "    </tr>\n",
       "    <tr>\n",
       "      <th>3</th>\n",
       "      <td>3</td>\n",
       "      <td>2021-04-24 12:00:00</td>\n",
       "      <td>NaN</td>\n",
       "      <td>44.957333</td>\n",
       "      <td>NaN</td>\n",
       "      <td>288.280642</td>\n",
       "      <td>4.392036</td>\n",
       "      <td>1229.313272</td>\n",
       "      <td>1463.750000</td>\n",
       "      <td>1278.857407</td>\n",
       "      <td>2021-01-19 10:00:00</td>\n",
       "    </tr>\n",
       "    <tr>\n",
       "      <th>4</th>\n",
       "      <td>4</td>\n",
       "      <td>2021-04-24 13:00:00</td>\n",
       "      <td>NaN</td>\n",
       "      <td>39.497586</td>\n",
       "      <td>NaN</td>\n",
       "      <td>282.816713</td>\n",
       "      <td>4.245637</td>\n",
       "      <td>1154.008380</td>\n",
       "      <td>1480.750000</td>\n",
       "      <td>1203.392830</td>\n",
       "      <td>2021-01-19 11:00:00</td>\n",
       "    </tr>\n",
       "    <tr>\n",
       "      <th>5</th>\n",
       "      <td>5</td>\n",
       "      <td>2021-04-24 14:00:00</td>\n",
       "      <td>NaN</td>\n",
       "      <td>37.260500</td>\n",
       "      <td>NaN</td>\n",
       "      <td>282.096028</td>\n",
       "      <td>3.473319</td>\n",
       "      <td>939.611111</td>\n",
       "      <td>1286.250000</td>\n",
       "      <td>980.427778</td>\n",
       "      <td>2021-01-19 12:00:00</td>\n",
       "    </tr>\n",
       "    <tr>\n",
       "      <th>6</th>\n",
       "      <td>6</td>\n",
       "      <td>2021-04-24 15:00:00</td>\n",
       "      <td>NaN</td>\n",
       "      <td>29.957288</td>\n",
       "      <td>NaN</td>\n",
       "      <td>287.862333</td>\n",
       "      <td>1.967956</td>\n",
       "      <td>543.602778</td>\n",
       "      <td>925.500000</td>\n",
       "      <td>569.852778</td>\n",
       "      <td>2021-01-19 13:00:00</td>\n",
       "    </tr>\n",
       "    <tr>\n",
       "      <th>7</th>\n",
       "      <td>7</td>\n",
       "      <td>2021-04-24 16:00:00</td>\n",
       "      <td>NaN</td>\n",
       "      <td>17.351167</td>\n",
       "      <td>NaN</td>\n",
       "      <td>282.548028</td>\n",
       "      <td>0.764306</td>\n",
       "      <td>215.227778</td>\n",
       "      <td>348.250000</td>\n",
       "      <td>228.853105</td>\n",
       "      <td>2021-01-19 14:00:00</td>\n",
       "    </tr>\n",
       "    <tr>\n",
       "      <th>8</th>\n",
       "      <td>8</td>\n",
       "      <td>2021-04-25 06:00:00</td>\n",
       "      <td>NaN</td>\n",
       "      <td>-0.059831</td>\n",
       "      <td>NaN</td>\n",
       "      <td>279.814310</td>\n",
       "      <td>0.814707</td>\n",
       "      <td>221.379310</td>\n",
       "      <td>216.315789</td>\n",
       "      <td>237.333333</td>\n",
       "      <td>2021-01-19 15:00:00</td>\n",
       "    </tr>\n",
       "    <tr>\n",
       "      <th>9</th>\n",
       "      <td>9</td>\n",
       "      <td>2021-04-25 07:00:00</td>\n",
       "      <td>NaN</td>\n",
       "      <td>15.071525</td>\n",
       "      <td>NaN</td>\n",
       "      <td>301.611167</td>\n",
       "      <td>2.346783</td>\n",
       "      <td>675.850000</td>\n",
       "      <td>673.566667</td>\n",
       "      <td>705.216667</td>\n",
       "      <td>2021-01-19 16:00:00</td>\n",
       "    </tr>\n",
       "    <tr>\n",
       "      <th>10</th>\n",
       "      <td>10</td>\n",
       "      <td>2021-04-25 08:00:00</td>\n",
       "      <td>NaN</td>\n",
       "      <td>23.211695</td>\n",
       "      <td>NaN</td>\n",
       "      <td>288.631167</td>\n",
       "      <td>3.810117</td>\n",
       "      <td>1057.300000</td>\n",
       "      <td>1055.450000</td>\n",
       "      <td>1098.483333</td>\n",
       "      <td>2021-01-19 17:00:00</td>\n",
       "    </tr>\n",
       "    <tr>\n",
       "      <th>11</th>\n",
       "      <td>11</td>\n",
       "      <td>2021-04-25 09:00:00</td>\n",
       "      <td>NaN</td>\n",
       "      <td>34.972500</td>\n",
       "      <td>NaN</td>\n",
       "      <td>282.261000</td>\n",
       "      <td>4.936117</td>\n",
       "      <td>1337.600000</td>\n",
       "      <td>1335.983333</td>\n",
       "      <td>1392.500000</td>\n",
       "      <td>2021-01-19 18:00:00</td>\n",
       "    </tr>\n",
       "    <tr>\n",
       "      <th>12</th>\n",
       "      <td>12</td>\n",
       "      <td>2021-04-25 10:00:00</td>\n",
       "      <td>NaN</td>\n",
       "      <td>35.085333</td>\n",
       "      <td>NaN</td>\n",
       "      <td>285.453000</td>\n",
       "      <td>5.084167</td>\n",
       "      <td>1397.083333</td>\n",
       "      <td>1394.101695</td>\n",
       "      <td>1453.440678</td>\n",
       "      <td>2021-01-19 19:00:00</td>\n",
       "    </tr>\n",
       "  </tbody>\n",
       "</table>\n",
       "</div>"
      ],
      "text/plain": [
       "    index               Fecha  Tamb       Tmod  Irradiancia         Vdc  \\\n",
       "0       0 2021-04-24 09:00:00   NaN  34.972500          NaN  280.775139   \n",
       "1       1 2021-04-24 10:00:00   NaN  35.085333          NaN  286.157139   \n",
       "2       2 2021-04-24 11:00:00   NaN  40.175500          NaN  292.318028   \n",
       "3       3 2021-04-24 12:00:00   NaN  44.957333          NaN  288.280642   \n",
       "4       4 2021-04-24 13:00:00   NaN  39.497586          NaN  282.816713   \n",
       "5       5 2021-04-24 14:00:00   NaN  37.260500          NaN  282.096028   \n",
       "6       6 2021-04-24 15:00:00   NaN  29.957288          NaN  287.862333   \n",
       "7       7 2021-04-24 16:00:00   NaN  17.351167          NaN  282.548028   \n",
       "8       8 2021-04-25 06:00:00   NaN  -0.059831          NaN  279.814310   \n",
       "9       9 2021-04-25 07:00:00   NaN  15.071525          NaN  301.611167   \n",
       "10     10 2021-04-25 08:00:00   NaN  23.211695          NaN  288.631167   \n",
       "11     11 2021-04-25 09:00:00   NaN  34.972500          NaN  282.261000   \n",
       "12     12 2021-04-25 10:00:00   NaN  35.085333          NaN  285.453000   \n",
       "\n",
       "         Idc    Paparente          Pac          Pdc           Fecha_cod  \n",
       "0   4.749689  1280.711111   725.250000  1335.512452 2021-01-19 07:00:00  \n",
       "1   4.822428  1329.452778  1422.000000  1383.670669 2021-01-19 08:00:00  \n",
       "2   4.879322  1379.002778  1152.000000  1433.825000 2021-01-19 09:00:00  \n",
       "3   4.392036  1229.313272  1463.750000  1278.857407 2021-01-19 10:00:00  \n",
       "4   4.245637  1154.008380  1480.750000  1203.392830 2021-01-19 11:00:00  \n",
       "5   3.473319   939.611111  1286.250000   980.427778 2021-01-19 12:00:00  \n",
       "6   1.967956   543.602778   925.500000   569.852778 2021-01-19 13:00:00  \n",
       "7   0.764306   215.227778   348.250000   228.853105 2021-01-19 14:00:00  \n",
       "8   0.814707   221.379310   216.315789   237.333333 2021-01-19 15:00:00  \n",
       "9   2.346783   675.850000   673.566667   705.216667 2021-01-19 16:00:00  \n",
       "10  3.810117  1057.300000  1055.450000  1098.483333 2021-01-19 17:00:00  \n",
       "11  4.936117  1337.600000  1335.983333  1392.500000 2021-01-19 18:00:00  \n",
       "12  5.084167  1397.083333  1394.101695  1453.440678 2021-01-19 19:00:00  "
      ]
     },
     "execution_count": 33,
     "metadata": {},
     "output_type": "execute_result"
    }
   ],
   "source": [
    "df_Juliaca['Fecha_cod'] = pd.date_range(freq='H', start=start, periods=len(df_Juliaca))\n",
    "df_Juliaca.head(13)"
   ]
  },
  {
   "cell_type": "code",
   "execution_count": null,
   "metadata": {},
   "outputs": [],
   "source": []
  },
  {
   "cell_type": "code",
   "execution_count": 34,
   "metadata": {},
   "outputs": [],
   "source": [
    "fechas_origen_Target = df_Juliaca.Fecha"
   ]
  },
  {
   "cell_type": "code",
   "execution_count": 35,
   "metadata": {},
   "outputs": [
    {
     "data": {
      "text/plain": [
       "0    2021-04-24 09:00:00\n",
       "1    2021-04-24 10:00:00\n",
       "2    2021-04-24 11:00:00\n",
       "3    2021-04-24 12:00:00\n",
       "4    2021-04-24 13:00:00\n",
       "5    2021-04-24 14:00:00\n",
       "6    2021-04-24 15:00:00\n",
       "7    2021-04-24 16:00:00\n",
       "8    2021-04-25 06:00:00\n",
       "9    2021-04-25 07:00:00\n",
       "10   2021-04-25 08:00:00\n",
       "11   2021-04-25 09:00:00\n",
       "Name: Fecha, dtype: datetime64[ns]"
      ]
     },
     "execution_count": 35,
     "metadata": {},
     "output_type": "execute_result"
    }
   ],
   "source": [
    "fechas_origen_Target[:11+1]"
   ]
  },
  {
   "cell_type": "markdown",
   "metadata": {},
   "source": [
    "## Preprocesamiento"
   ]
  },
  {
   "cell_type": "code",
   "execution_count": 36,
   "metadata": {},
   "outputs": [
    {
     "data": {
      "text/plain": [
       "darts.timeseries.TimeSeries"
      ]
     },
     "execution_count": 36,
     "metadata": {},
     "output_type": "execute_result"
    }
   ],
   "source": [
    "series_raw = TimeSeries.from_dataframe(df, 'Fecha_cod', ['Pac','Tmod'])#,'Irradiancia'])#, freq='H')\n",
    "type(series_raw)"
   ]
  },
  {
   "cell_type": "code",
   "execution_count": 37,
   "metadata": {},
   "outputs": [],
   "source": [
    "col_obj = 'Pac'"
   ]
  },
  {
   "cell_type": "code",
   "execution_count": 38,
   "metadata": {},
   "outputs": [
    {
     "data": {
      "text/plain": [
       "                             Pac\n",
       "Fecha_cod                       \n",
       "2021-01-19 07:00:00   127.250000\n",
       "2021-01-19 08:00:00   259.250000\n",
       "2021-01-19 09:00:00   488.500000\n",
       "2021-01-19 10:00:00   610.750000\n",
       "2021-01-19 11:00:00   434.750000\n",
       "...                          ...\n",
       "2021-05-30 03:00:00  1402.250000\n",
       "2021-05-30 04:00:00  1448.083333\n",
       "2021-05-30 05:00:00  1115.516667\n",
       "2021-05-30 06:00:00   560.266667\n",
       "2021-05-30 07:00:00   295.978261\n",
       "\n",
       "[3145 rows x 1 columns]\n",
       "Freq: H"
      ]
     },
     "execution_count": 38,
     "metadata": {},
     "output_type": "execute_result"
    }
   ],
   "source": [
    "series_raw[col_obj]"
   ]
  },
  {
   "cell_type": "code",
   "execution_count": 39,
   "metadata": {},
   "outputs": [
    {
     "data": {
      "text/plain": [
       "                            Pac\n",
       "Fecha_cod                      \n",
       "2021-01-19 07:00:00  127.250000\n",
       "2021-01-19 08:00:00  259.250000\n",
       "2021-01-19 09:00:00  488.500000\n",
       "2021-01-19 10:00:00  610.750000\n",
       "2021-01-19 11:00:00  434.750000\n",
       "2021-01-19 12:00:00  290.500000\n",
       "2021-01-19 13:00:00  902.500000\n",
       "2021-01-19 14:00:00  681.750000\n",
       "2021-01-19 15:00:00  340.750000\n",
       "2021-01-19 16:00:00  141.500000\n",
       "2021-01-19 17:00:00   58.259686\n",
       "2021-01-19 18:00:00  163.125951\n",
       "Freq: H"
      ]
     },
     "execution_count": 39,
     "metadata": {},
     "output_type": "execute_result"
    }
   ],
   "source": [
    "series_raw[col_obj][:12]"
   ]
  },
  {
   "cell_type": "code",
   "execution_count": 40,
   "metadata": {},
   "outputs": [
    {
     "data": {
      "text/plain": [
       "3145"
      ]
     },
     "execution_count": 40,
     "metadata": {},
     "output_type": "execute_result"
    }
   ],
   "source": [
    "len(series_raw)"
   ]
  },
  {
   "cell_type": "code",
   "execution_count": 41,
   "metadata": {},
   "outputs": [
    {
     "data": {
      "image/png": "[encoded data removed]",
      "text/plain": [
       "<Figure size 432x288 with 1 Axes>"
      ]
     },
     "metadata": {
      "needs_background": "light"
     },
     "output_type": "display_data"
    }
   ],
   "source": [
    "series_raw[0:30].plot()"
   ]
  },
  {
   "cell_type": "code",
   "execution_count": 42,
   "metadata": {},
   "outputs": [
    {
     "data": {
      "text/plain": [
       "darts.timeseries.TimeSeries"
      ]
     },
     "execution_count": 42,
     "metadata": {},
     "output_type": "execute_result"
    }
   ],
   "source": [
    "series_raw_Target = TimeSeries.from_dataframe(df_Juliaca, 'Fecha_cod', ['Pac','Tmod'])#,'Irradiancia'])#, freq='H')\n",
    "type(series_raw_Target)"
   ]
  },
  {
   "cell_type": "code",
   "execution_count": 43,
   "metadata": {},
   "outputs": [],
   "source": [
    "col_obj = 'Pac'"
   ]
  },
  {
   "cell_type": "code",
   "execution_count": 44,
   "metadata": {},
   "outputs": [
    {
     "data": {
      "text/plain": [
       "                         Pac\n",
       "Fecha_cod                   \n",
       "2021-01-19 07:00:00   725.25\n",
       "2021-01-19 08:00:00  1422.00\n",
       "2021-01-19 09:00:00  1152.00\n",
       "2021-01-19 10:00:00  1463.75\n",
       "2021-01-19 11:00:00  1480.75\n",
       "...                      ...\n",
       "2021-04-16 12:00:00  1420.25\n",
       "2021-04-16 13:00:00   742.50\n",
       "2021-04-16 14:00:00   364.50\n",
       "2021-04-16 15:00:00   177.50\n",
       "2021-04-16 16:00:00   230.00\n",
       "\n",
       "[2098 rows x 1 columns]\n",
       "Freq: H"
      ]
     },
     "execution_count": 44,
     "metadata": {},
     "output_type": "execute_result"
    }
   ],
   "source": [
    "series_raw_Target[col_obj]"
   ]
  },
  {
   "cell_type": "code",
   "execution_count": 45,
   "metadata": {},
   "outputs": [
    {
     "data": {
      "text/plain": [
       "                             Pac\n",
       "Fecha_cod                       \n",
       "2021-01-19 07:00:00   725.250000\n",
       "2021-01-19 08:00:00  1422.000000\n",
       "2021-01-19 09:00:00  1152.000000\n",
       "2021-01-19 10:00:00  1463.750000\n",
       "2021-01-19 11:00:00  1480.750000\n",
       "2021-01-19 12:00:00  1286.250000\n",
       "2021-01-19 13:00:00   925.500000\n",
       "2021-01-19 14:00:00   348.250000\n",
       "2021-01-19 15:00:00   216.315789\n",
       "2021-01-19 16:00:00   673.566667\n",
       "2021-01-19 17:00:00  1055.450000\n",
       "2021-01-19 18:00:00  1335.983333\n",
       "Freq: H"
      ]
     },
     "execution_count": 45,
     "metadata": {},
     "output_type": "execute_result"
    }
   ],
   "source": [
    "series_raw_Target[col_obj][:12]"
   ]
  },
  {
   "cell_type": "code",
   "execution_count": 46,
   "metadata": {},
   "outputs": [
    {
     "data": {
      "text/plain": [
       "2098"
      ]
     },
     "execution_count": 46,
     "metadata": {},
     "output_type": "execute_result"
    }
   ],
   "source": [
    "len(series_raw_Target)"
   ]
  },
  {
   "cell_type": "code",
   "execution_count": 47,
   "metadata": {},
   "outputs": [
    {
     "data": {
      "image/png": "[encoded data removed]",
      "text/plain": [
       "<Figure size 432x288 with 1 Axes>"
      ]
     },
     "metadata": {
      "needs_background": "light"
     },
     "output_type": "display_data"
    }
   ],
   "source": [
    "series_raw_Target[0:30].plot()"
   ]
  },
  {
   "cell_type": "markdown",
   "metadata": {},
   "source": [
    "### Imputación de datos faltantes"
   ]
  },
  {
   "cell_type": "code",
   "execution_count": 48,
   "metadata": {},
   "outputs": [
    {
     "data": {
      "image/png": "[encoded data removed]",
      "text/plain": [
       "<Figure size 432x288 with 1 Axes>"
      ]
     },
     "metadata": {
      "needs_background": "light"
     },
     "output_type": "display_data"
    }
   ],
   "source": [
    "series_raw.plot()"
   ]
  },
  {
   "cell_type": "code",
   "execution_count": 49,
   "metadata": {},
   "outputs": [
    {
     "data": {
      "image/png": "[encoded data removed]",
      "text/plain": [
       "<Figure size 432x288 with 1 Axes>"
      ]
     },
     "metadata": {
      "needs_background": "light"
     },
     "output_type": "display_data"
    }
   ],
   "source": [
    "# TODO\n",
    "filler = MissingValuesFiller()\n",
    "series = filler.transform(series_raw, method='linear')\n",
    "series.plot()"
   ]
  },
  {
   "cell_type": "code",
   "execution_count": 50,
   "metadata": {},
   "outputs": [
    {
     "data": {
      "image/png": "[encoded data removed]",
      "text/plain": [
       "<Figure size 432x288 with 1 Axes>"
      ]
     },
     "metadata": {
      "needs_background": "light"
     },
     "output_type": "display_data"
    }
   ],
   "source": [
    "series_raw_Target.plot()"
   ]
  },
  {
   "cell_type": "code",
   "execution_count": 51,
   "metadata": {},
   "outputs": [
    {
     "data": {
      "image/png": "[encoded data removed]",
      "text/plain": [
       "<Figure size 432x288 with 1 Axes>"
      ]
     },
     "metadata": {
      "needs_background": "light"
     },
     "output_type": "display_data"
    }
   ],
   "source": [
    "# TODO\n",
    "filler = MissingValuesFiller()\n",
    "series_Target = filler.transform(series_raw_Target, method='linear')\n",
    "series_Target.plot()"
   ]
  },
  {
   "cell_type": "markdown",
   "metadata": {},
   "source": [
    "### Separación de conjuntos de entrenamiento y validación"
   ]
  },
  {
   "cell_type": "code",
   "execution_count": 52,
   "metadata": {},
   "outputs": [
    {
     "data": {
      "text/plain": [
       "2516"
      ]
     },
     "execution_count": 52,
     "metadata": {},
     "output_type": "execute_result"
    }
   ],
   "source": [
    "train_perc = .8\n",
    "math.ceil(len(series)*train_perc)"
   ]
  },
  {
   "cell_type": "code",
   "execution_count": 53,
   "metadata": {},
   "outputs": [],
   "source": [
    "val_len = int(len(series)*(1-train_perc))"
   ]
  },
  {
   "cell_type": "code",
   "execution_count": 54,
   "metadata": {},
   "outputs": [],
   "source": [
    "val_len -= val_len%11"
   ]
  },
  {
   "cell_type": "code",
   "execution_count": 55,
   "metadata": {},
   "outputs": [
    {
     "data": {
      "text/plain": [
       "627"
      ]
     },
     "execution_count": 55,
     "metadata": {},
     "output_type": "execute_result"
    }
   ],
   "source": [
    "val_len"
   ]
  },
  {
   "cell_type": "code",
   "execution_count": 56,
   "metadata": {},
   "outputs": [],
   "source": [
    "train, val = series[:-val_len], series[-val_len:]"
   ]
  },
  {
   "cell_type": "code",
   "execution_count": 57,
   "metadata": {},
   "outputs": [
    {
     "data": {
      "text/plain": [
       "                             Pac       Tmod\n",
       "Fecha_cod                                  \n",
       "2021-01-19 07:00:00   127.250000  15.481038\n",
       "2021-01-19 08:00:00   259.250000  21.373603\n",
       "2021-01-19 09:00:00   488.500000  27.428326\n",
       "2021-01-19 10:00:00   610.750000  35.033718\n",
       "2021-01-19 11:00:00   434.750000  38.094180\n",
       "...                          ...        ...\n",
       "2021-05-04 00:00:00  1428.016667  44.840167\n",
       "2021-05-04 01:00:00   960.700000  39.529333\n",
       "2021-05-04 02:00:00   773.633333  34.640345\n",
       "2021-05-04 03:00:00   969.033333  34.755000\n",
       "2021-05-04 04:00:00   341.733333  25.252542\n",
       "\n",
       "[2518 rows x 2 columns]\n",
       "Freq: H"
      ]
     },
     "execution_count": 57,
     "metadata": {},
     "output_type": "execute_result"
    }
   ],
   "source": [
    "train"
   ]
  },
  {
   "cell_type": "code",
   "execution_count": null,
   "metadata": {},
   "outputs": [],
   "source": []
  },
  {
   "cell_type": "code",
   "execution_count": 58,
   "metadata": {},
   "outputs": [
    {
     "data": {
      "text/plain": [
       "1679"
      ]
     },
     "execution_count": 58,
     "metadata": {},
     "output_type": "execute_result"
    }
   ],
   "source": [
    "train_perc = .8\n",
    "math.ceil(len(series_Target)*train_perc)"
   ]
  },
  {
   "cell_type": "code",
   "execution_count": 59,
   "metadata": {},
   "outputs": [],
   "source": [
    "val_len = int(len(series_Target)*(1-train_perc))"
   ]
  },
  {
   "cell_type": "code",
   "execution_count": 60,
   "metadata": {},
   "outputs": [],
   "source": [
    "val_len -= val_len%11"
   ]
  },
  {
   "cell_type": "code",
   "execution_count": 61,
   "metadata": {},
   "outputs": [
    {
     "data": {
      "text/plain": [
       "418"
      ]
     },
     "execution_count": 61,
     "metadata": {},
     "output_type": "execute_result"
    }
   ],
   "source": [
    "val_len"
   ]
  },
  {
   "cell_type": "code",
   "execution_count": 62,
   "metadata": {},
   "outputs": [],
   "source": [
    "train_Target, val_Target = series[:-val_len], series[-val_len:]"
   ]
  },
  {
   "cell_type": "code",
   "execution_count": 63,
   "metadata": {},
   "outputs": [
    {
     "data": {
      "text/plain": [
       "                            Pac       Tmod\n",
       "Fecha_cod                                 \n",
       "2021-01-19 07:00:00  127.250000  15.481038\n",
       "2021-01-19 08:00:00  259.250000  21.373603\n",
       "2021-01-19 09:00:00  488.500000  27.428326\n",
       "2021-01-19 10:00:00  610.750000  35.033718\n",
       "2021-01-19 11:00:00  434.750000  38.094180\n",
       "...                         ...        ...\n",
       "2021-05-12 17:00:00  905.600000  30.322833\n",
       "2021-05-12 18:00:00  824.483333  27.029000\n",
       "2021-05-12 19:00:00  684.050000  27.344667\n",
       "2021-05-12 20:00:00  323.416667  21.497119\n",
       "2021-05-12 21:00:00  273.516667  20.139000\n",
       "\n",
       "[2727 rows x 2 columns]\n",
       "Freq: H"
      ]
     },
     "execution_count": 63,
     "metadata": {},
     "output_type": "execute_result"
    }
   ],
   "source": [
    "train_Target"
   ]
  },
  {
   "cell_type": "code",
   "execution_count": null,
   "metadata": {},
   "outputs": [],
   "source": []
  },
  {
   "cell_type": "code",
   "execution_count": 130,
   "metadata": {},
   "outputs": [],
   "source": [
    "# plot_acf(train)"
   ]
  },
  {
   "cell_type": "markdown",
   "metadata": {},
   "source": [
    "## Visualización"
   ]
  },
  {
   "cell_type": "code",
   "execution_count": 65,
   "metadata": {},
   "outputs": [],
   "source": [
    "from statsmodels.graphics.tsaplots import plot_acf, plot_pacf"
   ]
  },
  {
   "cell_type": "code",
   "execution_count": null,
   "metadata": {},
   "outputs": [],
   "source": []
  },
  {
   "cell_type": "code",
   "execution_count": 66,
   "metadata": {},
   "outputs": [
    {
     "data": {
      "image/png": "[encoded data removed]",
      "text/plain": [
       "<Figure size 432x288 with 1 Axes>"
      ]
     },
     "execution_count": 66,
     "metadata": {},
     "output_type": "execute_result"
    },
    {
     "data": {
      "image/png": "[encoded data removed]",
      "text/plain": [
       "<Figure size 432x288 with 1 Axes>"
      ]
     },
     "metadata": {
      "needs_background": "light"
     },
     "output_type": "display_data"
    }
   ],
   "source": [
    "plot_acf(train[col_obj].values())"
   ]
  },
  {
   "cell_type": "code",
   "execution_count": 67,
   "metadata": {},
   "outputs": [
    {
     "data": {
      "image/png": "[encoded data removed]",
      "text/plain": [
       "<Figure size 432x288 with 1 Axes>"
      ]
     },
     "execution_count": 67,
     "metadata": {},
     "output_type": "execute_result"
    },
    {
     "data": {
      "image/png": "[encoded data removed]",
      "text/plain": [
       "<Figure size 432x288 with 1 Axes>"
      ]
     },
     "metadata": {
      "needs_background": "light"
     },
     "output_type": "display_data"
    }
   ],
   "source": [
    "plot_pacf(train[col_obj].values())"
   ]
  },
  {
   "cell_type": "code",
   "execution_count": null,
   "metadata": {},
   "outputs": [],
   "source": []
  },
  {
   "cell_type": "code",
   "execution_count": null,
   "metadata": {},
   "outputs": [],
   "source": []
  },
  {
   "cell_type": "code",
   "execution_count": 68,
   "metadata": {},
   "outputs": [],
   "source": [
    "from statsmodels.graphics.tsaplots import plot_acf, plot_pacf"
   ]
  },
  {
   "cell_type": "code",
   "execution_count": null,
   "metadata": {},
   "outputs": [],
   "source": []
  },
  {
   "cell_type": "code",
   "execution_count": 69,
   "metadata": {},
   "outputs": [
    {
     "data": {
      "image/png": "[encoded data removed]",
      "text/plain": [
       "<Figure size 432x288 with 1 Axes>"
      ]
     },
     "execution_count": 69,
     "metadata": {},
     "output_type": "execute_result"
    },
    {
     "data": {
      "image/png": "[encoded data removed]",
      "text/plain": [
       "<Figure size 432x288 with 1 Axes>"
      ]
     },
     "metadata": {
      "needs_background": "light"
     },
     "output_type": "display_data"
    }
   ],
   "source": [
    "plot_acf(train_Target[col_obj].values())"
   ]
  },
  {
   "cell_type": "code",
   "execution_count": 70,
   "metadata": {},
   "outputs": [
    {
     "data": {
      "image/png": "[encoded data removed]",
      "text/plain": [
       "<Figure size 432x288 with 1 Axes>"
      ]
     },
     "execution_count": 70,
     "metadata": {},
     "output_type": "execute_result"
    },
    {
     "data": {
      "image/png": "[encoded data removed]",
      "text/plain": [
       "<Figure size 432x288 with 1 Axes>"
      ]
     },
     "metadata": {
      "needs_background": "light"
     },
     "output_type": "display_data"
    }
   ],
   "source": [
    "plot_pacf(train_Target[col_obj].values())"
   ]
  },
  {
   "cell_type": "code",
   "execution_count": null,
   "metadata": {},
   "outputs": [],
   "source": []
  },
  {
   "cell_type": "code",
   "execution_count": null,
   "metadata": {},
   "outputs": [],
   "source": []
  }
 ],
 "metadata": {
  "kernelspec": {
   "display_name": "torchenv",
   "language": "python",
   "name": "torchenv"
  },
  "language_info": {
   "codemirror_mode": {
    "name": "ipython",
    "version": 3
   },
   "file_extension": ".py",
   "mimetype": "text/x-python",
   "name": "python",
   "nbconvert_exporter": "python",
   "pygments_lexer": "ipython3",
   "version": "3.6.9"
  }
 },
 "nbformat": 4,
 "nbformat_minor": 4
}
